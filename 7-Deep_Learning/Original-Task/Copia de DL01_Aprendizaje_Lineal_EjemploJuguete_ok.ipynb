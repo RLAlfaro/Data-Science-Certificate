{
  "nbformat": 4,
  "nbformat_minor": 0,
  "metadata": {
    "kernelspec": {
      "display_name": "Python 3",
      "language": "python",
      "name": "python3"
    },
    "language_info": {
      "codemirror_mode": {
        "name": "ipython",
        "version": 3
      },
      "file_extension": ".py",
      "mimetype": "text/x-python",
      "name": "python",
      "nbconvert_exporter": "python",
      "pygments_lexer": "ipython3",
      "version": "3.6.10"
    },
    "colab": {
      "name": "DL01-Aprendizaje_Lineal-EjemploJuguete-ok.ipynb",
      "provenance": [],
      "collapsed_sections": [],
      "toc_visible": true
    }
  },
  "cells": [
    {
      "cell_type": "markdown",
      "metadata": {
        "id": "grMyyD0W2O7q"
      },
      "source": [
        "# Deep Learning\n",
        "# DL01 Aprendizaje Lineal Ejemplo Juguete"
      ]
    },
    {
      "cell_type": "markdown",
      "metadata": {
        "id": "A7vQq1Wu5XMZ"
      },
      "source": [
        "## <font color='blue'>**Resolvamos un problema lineal**</font>\n",
        "\n",
        " \n",
        "1. Imaginemos que cada día compramos almuerzo en el supermercado. Siempre  se compra el mismo almuerzo: Pollo, puré y ensaladas. Lo único  que varía es la cantidad de cada uno de los ingredientes. El cajero solamente nos entrega el valor total pagado y el peso (P) de cada una de las porciones. **¿Cuanto es valor de cada ingrediente ?**.\n",
        "\n",
        "2. Tratemos de desarrollar un procedimiento heuristico, que permita ir actualizando los pesos de acuerdo a los montos cancelados en el supermercado. \n",
        "\n",
        "\n",
        "Modelemolo matematicamente\n",
        "Al pollo lo denotamos por $Po$, Al puré $Pu$ y ensaladas $E$ queremos averiguar los precios entonces planteamos las sigueintes ecuaciones.\n",
        "\n",
        "1. $Po * X_{Po}$+$Pu * X_{Pu}$+$E * X_{E}$ = $Z_1$\n",
        "2. $Po * X_{Po}$+$Pu * X_{Pu}$+$E * X_{E}$ = $Z_2$\n",
        "3. $Po * X_{Po}$+$Pu * X_{Pu}$+$E * X_{E}$ = $Z_3$"
      ]
    },
    {
      "cell_type": "markdown",
      "metadata": {
        "id": "tISwYB3x2ZJd"
      },
      "source": [
        "### ¿Como lo resolvemos al estilo de redes neuronales?\n",
        "\n",
        "Primero tenemos que tener un dataset. getProtions(), nos genera una porcion diaria y su precio total."
      ]
    },
    {
      "cell_type": "code",
      "metadata": {
        "id": "aKFQNAWQ2500"
      },
      "source": [
        "# Supongamos comenzamos con valores aleatorios. \n",
        "import random \n",
        "import numpy as np\n",
        "\n",
        "# Esta funcion simula una entrega diaria. \n",
        "def getProtions():\n",
        "    uprice = [6200,4160,3200]\n",
        "    chicken = 0.5*random.random()\n",
        "    salad = 0.5*random.random()\n",
        "    mashedPotatoes = 0.5*random.random()\n",
        "    price = chicken*uprice[0]+mashedPotatoes*uprice[1]+salad*uprice[2]\n",
        "    return [chicken, mashedPotatoes, salad], price"
      ],
      "execution_count": null,
      "outputs": []
    },
    {
      "cell_type": "markdown",
      "metadata": {
        "id": "6fDpoeox3HT1"
      },
      "source": [
        "### Vamos a iniciar los pesos. \n",
        "\n",
        "Como son tres productos, iniciaremos 3 pesos."
      ]
    },
    {
      "cell_type": "code",
      "metadata": {
        "colab": {
          "base_uri": "https://localhost:8080/"
        },
        "id": "40jH5sgN28_p",
        "outputId": "985d898b-0d33-41f3-ad82-79846308e580"
      },
      "source": [
        "# Proceso de iniciación de los pesos de nuestra red.\n",
        "def initValues(n):\n",
        "    W = []\n",
        "    for i in range(0,n):\n",
        "        W.append(10000*random.random())\n",
        "    return W\n",
        "\n",
        "W = initValues(3)\n",
        "W"
      ],
      "execution_count": null,
      "outputs": [
        {
          "output_type": "execute_result",
          "data": {
            "text/plain": [
              "[6102.561805035298, 3353.2795856595553, 3303.8601411087866]"
            ]
          },
          "metadata": {},
          "execution_count": 2
        }
      ]
    },
    {
      "cell_type": "markdown",
      "metadata": {
        "id": "Go-jrTAi3GLY"
      },
      "source": [
        "### Apliquemos un forward\n",
        "\n",
        "x, son los valores de entrada generados por getProtions()"
      ]
    },
    {
      "cell_type": "code",
      "metadata": {
        "id": "QcExFz_d30WS"
      },
      "source": [
        "# Aplicacion de la red neuronal.\n",
        "def forward(x,W):\n",
        "    return np.dot(x,W)\n"
      ],
      "execution_count": null,
      "outputs": []
    },
    {
      "cell_type": "markdown",
      "metadata": {
        "id": "hyqXYM4x4AEQ"
      },
      "source": [
        "### Estimemos el error"
      ]
    },
    {
      "cell_type": "code",
      "metadata": {
        "id": "DIkE4djT4Ctq"
      },
      "source": [
        "# Estimar el error. Loss function.\n",
        "def getDifference(realPrice,estimatePrice):\n",
        "    return realPrice - estimatePrice"
      ],
      "execution_count": null,
      "outputs": []
    },
    {
      "cell_type": "markdown",
      "metadata": {
        "id": "93lg9vrW4Ifp"
      },
      "source": [
        "### La propagación y actualización de los pesos"
      ]
    },
    {
      "cell_type": "code",
      "metadata": {
        "id": "q7TInOIu2O7v"
      },
      "source": [
        "# Etapa de ptimizacion y propagacion.\n",
        "def estimateDelta(x,difference):\n",
        "    return [(difference/len(x))*i for i in x]\n",
        "\n",
        "# Actualizacion de las red neuronal.\n",
        "def updateWeights(deltas,W):\n",
        "    return [a+b for a,b in zip(deltas,W)]"
      ],
      "execution_count": null,
      "outputs": []
    },
    {
      "cell_type": "markdown",
      "metadata": {
        "id": "prb_bHla25DP"
      },
      "source": [
        "### Pongamos todo junto "
      ]
    },
    {
      "cell_type": "code",
      "metadata": {
        "colab": {
          "base_uri": "https://localhost:8080/"
        },
        "id": "TtRnCgtK2O7w",
        "outputId": "a5b25884-98a4-489e-929b-90fda996d0cf"
      },
      "source": [
        "W = initValues(3)\n",
        "for i in range(0,2000):\n",
        "    # Pedimos una porcion\n",
        "    x, realPrice = getProtions()\n",
        "    #print(x, realPrice)\n",
        "    estimatePrice = forward(x,W)\n",
        "    #print(estimatePrice)\n",
        "    difference = getDifference(realPrice,estimatePrice)\n",
        "    #print(difference)\n",
        "    deltas = estimateDelta(x,difference)\n",
        "    #print(deltas)\n",
        "    W = updateWeights(deltas,W)\n",
        "print(W)"
      ],
      "execution_count": null,
      "outputs": [
        {
          "output_type": "stream",
          "name": "stdout",
          "text": [
            "[6199.996247454019, 4160.00217166871, 3200.001596517109]\n"
          ]
        }
      ]
    },
    {
      "cell_type": "markdown",
      "metadata": {
        "id": "acJXhxi8DbfV"
      },
      "source": [
        "## <font color='green'>**Actividad 1 electiva**</font>\n",
        "\n",
        "#### ¿Puede adaptar el codigo para aceptar el precio de 5 productos?"
      ]
    },
    {
      "cell_type": "code",
      "source": [
        "# Supongamos comenzamos con valores aleatorios. \n",
        "import random \n",
        "import numpy as np\n",
        "\n",
        "# Esta funcion simula una entrega diaria. \n",
        "def getProtions():\n",
        "    uprice = [6200,4160,3200,4000,2000]\n",
        "    chicken = 0.5*random.random()\n",
        "    salad = 0.5*random.random()\n",
        "    mashedPotatoes = 0.5*random.random()\n",
        "    drink = 0.5*random.random()\n",
        "    coffee = 0.5*random.random()\n",
        "    price = chicken*uprice[0]+mashedPotatoes*uprice[1]+salad*uprice[2]+drink*uprice[3]+coffee*uprice[4]\n",
        "    return [chicken, mashedPotatoes, salad, drink, coffee], price"
      ],
      "metadata": {
        "id": "Elcp4-fw1x9d"
      },
      "execution_count": null,
      "outputs": []
    },
    {
      "cell_type": "code",
      "source": [
        "W = initValues(5)\n",
        "for i in range(0,2000):\n",
        "    # Pedimos una porcion\n",
        "    x, realPrice = getProtions()\n",
        "    #print(x, realPrice)\n",
        "    estimatePrice = forward(x,W)\n",
        "    #print(estimatePrice)\n",
        "    difference = getDifference(realPrice,estimatePrice)\n",
        "    #print(difference)\n",
        "    deltas = estimateDelta(x,difference)\n",
        "    #print(deltas)\n",
        "    W = updateWeights(deltas,W)\n",
        "print(W)"
      ],
      "metadata": {
        "colab": {
          "base_uri": "https://localhost:8080/"
        },
        "id": "ixKsM-eD2TkW",
        "outputId": "63f10656-918a-4c5e-d1fa-1063cf5c60a7"
      },
      "execution_count": null,
      "outputs": [
        {
          "output_type": "stream",
          "name": "stdout",
          "text": [
            "[6199.416782827928, 4160.406265378216, 3200.2618453784517, 3999.9673233960198, 1999.8691954762137]\n"
          ]
        }
      ]
    },
    {
      "cell_type": "code",
      "source": [
        "np.round(W)"
      ],
      "metadata": {
        "colab": {
          "base_uri": "https://localhost:8080/"
        },
        "id": "S1Vn47L82csq",
        "outputId": "b2ffe588-fd57-48cf-a9d3-76cef3d01e4a"
      },
      "execution_count": null,
      "outputs": [
        {
          "output_type": "execute_result",
          "data": {
            "text/plain": [
              "array([6199., 4160., 3200., 4000., 2000.])"
            ]
          },
          "metadata": {},
          "execution_count": 12
        }
      ]
    },
    {
      "cell_type": "markdown",
      "metadata": {
        "id": "9qV5z_nrDluY"
      },
      "source": [
        "<font color='green'>**Fin actividad 1**</font>"
      ]
    }
  ]
}