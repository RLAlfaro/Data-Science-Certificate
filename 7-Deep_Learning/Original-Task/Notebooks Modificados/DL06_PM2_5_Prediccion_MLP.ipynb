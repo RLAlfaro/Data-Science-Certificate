{
  "nbformat": 4,
  "nbformat_minor": 0,
  "metadata": {
    "kernelspec": {
      "display_name": "Python 3",
      "language": "python",
      "name": "python3"
    },
    "language_info": {
      "codemirror_mode": {
        "name": "ipython",
        "version": 3
      },
      "file_extension": ".py",
      "mimetype": "text/x-python",
      "name": "python",
      "nbconvert_exporter": "python",
      "pygments_lexer": "ipython3",
      "version": "3.7.7"
    },
    "colab": {
      "name": "DL06-PM2.5_Prediccion_MLP.ipynb",
      "provenance": [],
      "collapsed_sections": [
        "DQL5JmPGsuuB",
        "ykin9QWZsuuE",
        "4q0yLr81suuJ",
        "6YjpPf7RsuuK"
      ]
    }
  },
  "cells": [
    {
      "cell_type": "markdown",
      "metadata": {
        "id": "7qukWkWesutH"
      },
      "source": [
        "# Deep Learning\n",
        "# DL06 PM2.5_Prediccion_MLP"
      ]
    },
    {
      "cell_type": "markdown",
      "metadata": {
        "id": "xz8SW9ERBLVh"
      },
      "source": [
        "## <font color='blue'>**Multilayer preceptron aplicado a series de tiempo univariadas**</font>\n",
        "<p style='text-align: justify;'>\n",
        "\n",
        "Una serie de tiempo es una serie de puntos de datos indexados (o listados o graficados) en orden de tiempo. Más comúnmente, una serie de tiempo es una secuencia tomada en sucesivos puntos equidistantes en el tiempo. Por lo tanto, es una secuencia de datos de tiempo discreto. Ejemplos de series temporales son las alturas de las mareas oceánicas, los recuentos de manchas solares y el valor de cierre diario del Promedio Industrial Dow Jones.\n",
        "\n",
        "Las series temporales se trazan con mucha frecuencia a través de gráficos de líneas. Las series de tiempo se usan en estadística, procesamiento de señales, reconocimiento de patrones, econometría, finanzas matemáticas, pronóstico del tiempo, predicción de terremotos, electroencefalografía, ingeniería de control, astronomía, ingeniería de comunicaciones y en gran medida en cualquier dominio de la ciencia aplicada y la ingeniería que involucra mediciones temporales.\n",
        "\n",
        "El término \"serie temporal univariadas\" se refiere a una serie temporal que consiste en observaciones individuales (escalares) registradas secuencialmente en incrementos de tiempo iguales.\n",
        "    \n",
        "En este notebook, utilizaremos un perceptrón multicapa para desarrollar modelos de pronóstico de series temporales univariadas.\n",
        "El conjunto de datos utilizado para los ejemplos de este notebook es sobre la contaminación del aire medida por la concentración de material particulado (PM) de diámetro menor o igual a 2.5 micrómetros. Hay otras variables\n",
        "tales como presión de aire, temperatura del aire, punto de rocío, que tambien serán utilizadas para realizar predicciones.\n",
        "</p>\n",
        "\n",
        "En este caso, se desarrollará un modelo de series temporales: para la predicción de pm2.5.\n",
        "El notebook se divide en la siguiente etapas:\n",
        "1. Visualización de la data\n",
        "2. Procesamiento de la data\n",
        "3. Construcción del modelo y su entrenamiento\n",
        "4. Resultados y validación del modelo. \n",
        "\n",
        "\n",
        "Importancia de la predicción del material particulado:\n",
        "\n",
        "<p style='text-align: justify;'>\n",
        "El material particulado respirable presente en la atmósfera de nuestras ciudades en forma sólida o líquida (polvo, cenizas, hollín, partículas metálicas, cemento y polen, entre otras) se puede dividir, según su tamaño, en dos grupos principales. A las de diámetro aerodinámico igual o inferior a los 10 µm o 10 micrómetros (1 µm corresponde a la milésima parte de un milímetro) se las denomina PM10 y a la fracción respirable más pequeña, PM2,5. Estas últimas están constituidas por aquellas partículas de diámetro aerodinámico inferior o igual a los 2,5 micrómetros, es decir, son 100 veces más delgadas que un cabello humano \n",
        "</p>\n",
        "\n",
        "El conjunto de datos se ha descargado del Repositorio de aprendizaje automático de UCI.\n",
        "\n",
        "https://archive.ics.uci.edu/ml/datasets/Beijing+PM2.5+Data"
      ]
    },
    {
      "cell_type": "code",
      "metadata": {
        "id": "7YxHla3f9LgN",
        "colab": {
          "base_uri": "https://localhost:8080/"
        },
        "outputId": "02ed7dd0-73b2-4c69-b069-22e70c5c50a8"
      },
      "source": [
        "#from google.colab import drive\n",
        "#drive.mount('/content/drive')\n",
        "\n",
        "!wget https://archive.ics.uci.edu/ml/machine-learning-databases/00381/PRSA_data_2010.1.1-2014.12.31.csv"
      ],
      "execution_count": null,
      "outputs": [
        {
          "output_type": "stream",
          "name": "stdout",
          "text": [
            "--2022-04-26 00:20:01--  https://archive.ics.uci.edu/ml/machine-learning-databases/00381/PRSA_data_2010.1.1-2014.12.31.csv\n",
            "Resolving archive.ics.uci.edu (archive.ics.uci.edu)... 128.195.10.252\n",
            "Connecting to archive.ics.uci.edu (archive.ics.uci.edu)|128.195.10.252|:443... connected.\n",
            "HTTP request sent, awaiting response... 200 OK\n",
            "Length: 2010494 (1.9M) [application/x-httpd-php]\n",
            "Saving to: ‘PRSA_data_2010.1.1-2014.12.31.csv’\n",
            "\n",
            "PRSA_data_2010.1.1- 100%[===================>]   1.92M  4.07MB/s    in 0.5s    \n",
            "\n",
            "2022-04-26 00:20:02 (4.07 MB/s) - ‘PRSA_data_2010.1.1-2014.12.31.csv’ saved [2010494/2010494]\n",
            "\n"
          ]
        }
      ]
    },
    {
      "cell_type": "markdown",
      "metadata": {
        "id": "SGKzg0SYsutI"
      },
      "source": [
        "### Etapa 1: Visualización de la data\n",
        "\n",
        "<p style='text-align: justify;'>\n",
        "En esta etapa nos hacemos una idea de como es la distribución de la data. Entre que valores fluctua,  en el caso de las series de tiempo univariadas, es natural realizar Boxplots y graficos de tiempo. Las librerías tipicas que utilizaremos en esta etapa son: pandas, matplotlib, numpy y seaborn.\n",
        "</p>"
      ]
    },
    {
      "cell_type": "code",
      "metadata": {
        "id": "BEns_pXQsutJ"
      },
      "source": [
        "from __future__ import print_function\n",
        "import os\n",
        "import sys\n",
        "import pandas as pd\n",
        "import numpy as np\n",
        "%matplotlib inline\n",
        "from matplotlib import pyplot as plt\n",
        "import seaborn as sns\n",
        "import datetime"
      ],
      "execution_count": null,
      "outputs": []
    },
    {
      "cell_type": "code",
      "metadata": {
        "id": "XUc4_exIsutO"
      },
      "source": [
        "#set current working directory\n",
        "#path = '/content/drive/My Drive/Cursos/Diplomado/Kafka/PrediccionPm2.5-MLP/'\n",
        "#os.chdir(path)"
      ],
      "execution_count": null,
      "outputs": []
    },
    {
      "cell_type": "code",
      "metadata": {
        "id": "NbmgFG7tsutQ"
      },
      "source": [
        "#Read the dataset into a pandas.DataFrame\n",
        "df = pd.read_csv('PRSA_data_2010.1.1-2014.12.31.csv') #asi era originalmente"
      ],
      "execution_count": null,
      "outputs": []
    },
    {
      "cell_type": "code",
      "source": [
        "df.head()"
      ],
      "metadata": {
        "colab": {
          "base_uri": "https://localhost:8080/",
          "height": 206
        },
        "id": "PgDY-_vwPf6F",
        "outputId": "ac5c8435-1e27-47e7-fa11-808ebede5793"
      },
      "execution_count": null,
      "outputs": [
        {
          "output_type": "execute_result",
          "data": {
            "text/plain": [
              "   No  year  month  day  hour  pm2.5  DEWP  TEMP    PRES cbwd    Iws  Is  Ir\n",
              "0   1  2010      1    1     0    NaN   -21 -11.0  1021.0   NW   1.79   0   0\n",
              "1   2  2010      1    1     1    NaN   -21 -12.0  1020.0   NW   4.92   0   0\n",
              "2   3  2010      1    1     2    NaN   -21 -11.0  1019.0   NW   6.71   0   0\n",
              "3   4  2010      1    1     3    NaN   -21 -14.0  1019.0   NW   9.84   0   0\n",
              "4   5  2010      1    1     4    NaN   -20 -12.0  1018.0   NW  12.97   0   0"
            ],
            "text/html": [
              "\n",
              "  <div id=\"df-c5ca53ae-7f34-42fa-82f3-b917f4f64b17\">\n",
              "    <div class=\"colab-df-container\">\n",
              "      <div>\n",
              "<style scoped>\n",
              "    .dataframe tbody tr th:only-of-type {\n",
              "        vertical-align: middle;\n",
              "    }\n",
              "\n",
              "    .dataframe tbody tr th {\n",
              "        vertical-align: top;\n",
              "    }\n",
              "\n",
              "    .dataframe thead th {\n",
              "        text-align: right;\n",
              "    }\n",
              "</style>\n",
              "<table border=\"1\" class=\"dataframe\">\n",
              "  <thead>\n",
              "    <tr style=\"text-align: right;\">\n",
              "      <th></th>\n",
              "      <th>No</th>\n",
              "      <th>year</th>\n",
              "      <th>month</th>\n",
              "      <th>day</th>\n",
              "      <th>hour</th>\n",
              "      <th>pm2.5</th>\n",
              "      <th>DEWP</th>\n",
              "      <th>TEMP</th>\n",
              "      <th>PRES</th>\n",
              "      <th>cbwd</th>\n",
              "      <th>Iws</th>\n",
              "      <th>Is</th>\n",
              "      <th>Ir</th>\n",
              "    </tr>\n",
              "  </thead>\n",
              "  <tbody>\n",
              "    <tr>\n",
              "      <th>0</th>\n",
              "      <td>1</td>\n",
              "      <td>2010</td>\n",
              "      <td>1</td>\n",
              "      <td>1</td>\n",
              "      <td>0</td>\n",
              "      <td>NaN</td>\n",
              "      <td>-21</td>\n",
              "      <td>-11.0</td>\n",
              "      <td>1021.0</td>\n",
              "      <td>NW</td>\n",
              "      <td>1.79</td>\n",
              "      <td>0</td>\n",
              "      <td>0</td>\n",
              "    </tr>\n",
              "    <tr>\n",
              "      <th>1</th>\n",
              "      <td>2</td>\n",
              "      <td>2010</td>\n",
              "      <td>1</td>\n",
              "      <td>1</td>\n",
              "      <td>1</td>\n",
              "      <td>NaN</td>\n",
              "      <td>-21</td>\n",
              "      <td>-12.0</td>\n",
              "      <td>1020.0</td>\n",
              "      <td>NW</td>\n",
              "      <td>4.92</td>\n",
              "      <td>0</td>\n",
              "      <td>0</td>\n",
              "    </tr>\n",
              "    <tr>\n",
              "      <th>2</th>\n",
              "      <td>3</td>\n",
              "      <td>2010</td>\n",
              "      <td>1</td>\n",
              "      <td>1</td>\n",
              "      <td>2</td>\n",
              "      <td>NaN</td>\n",
              "      <td>-21</td>\n",
              "      <td>-11.0</td>\n",
              "      <td>1019.0</td>\n",
              "      <td>NW</td>\n",
              "      <td>6.71</td>\n",
              "      <td>0</td>\n",
              "      <td>0</td>\n",
              "    </tr>\n",
              "    <tr>\n",
              "      <th>3</th>\n",
              "      <td>4</td>\n",
              "      <td>2010</td>\n",
              "      <td>1</td>\n",
              "      <td>1</td>\n",
              "      <td>3</td>\n",
              "      <td>NaN</td>\n",
              "      <td>-21</td>\n",
              "      <td>-14.0</td>\n",
              "      <td>1019.0</td>\n",
              "      <td>NW</td>\n",
              "      <td>9.84</td>\n",
              "      <td>0</td>\n",
              "      <td>0</td>\n",
              "    </tr>\n",
              "    <tr>\n",
              "      <th>4</th>\n",
              "      <td>5</td>\n",
              "      <td>2010</td>\n",
              "      <td>1</td>\n",
              "      <td>1</td>\n",
              "      <td>4</td>\n",
              "      <td>NaN</td>\n",
              "      <td>-20</td>\n",
              "      <td>-12.0</td>\n",
              "      <td>1018.0</td>\n",
              "      <td>NW</td>\n",
              "      <td>12.97</td>\n",
              "      <td>0</td>\n",
              "      <td>0</td>\n",
              "    </tr>\n",
              "  </tbody>\n",
              "</table>\n",
              "</div>\n",
              "      <button class=\"colab-df-convert\" onclick=\"convertToInteractive('df-c5ca53ae-7f34-42fa-82f3-b917f4f64b17')\"\n",
              "              title=\"Convert this dataframe to an interactive table.\"\n",
              "              style=\"display:none;\">\n",
              "        \n",
              "  <svg xmlns=\"http://www.w3.org/2000/svg\" height=\"24px\"viewBox=\"0 0 24 24\"\n",
              "       width=\"24px\">\n",
              "    <path d=\"M0 0h24v24H0V0z\" fill=\"none\"/>\n",
              "    <path d=\"M18.56 5.44l.94 2.06.94-2.06 2.06-.94-2.06-.94-.94-2.06-.94 2.06-2.06.94zm-11 1L8.5 8.5l.94-2.06 2.06-.94-2.06-.94L8.5 2.5l-.94 2.06-2.06.94zm10 10l.94 2.06.94-2.06 2.06-.94-2.06-.94-.94-2.06-.94 2.06-2.06.94z\"/><path d=\"M17.41 7.96l-1.37-1.37c-.4-.4-.92-.59-1.43-.59-.52 0-1.04.2-1.43.59L10.3 9.45l-7.72 7.72c-.78.78-.78 2.05 0 2.83L4 21.41c.39.39.9.59 1.41.59.51 0 1.02-.2 1.41-.59l7.78-7.78 2.81-2.81c.8-.78.8-2.07 0-2.86zM5.41 20L4 18.59l7.72-7.72 1.47 1.35L5.41 20z\"/>\n",
              "  </svg>\n",
              "      </button>\n",
              "      \n",
              "  <style>\n",
              "    .colab-df-container {\n",
              "      display:flex;\n",
              "      flex-wrap:wrap;\n",
              "      gap: 12px;\n",
              "    }\n",
              "\n",
              "    .colab-df-convert {\n",
              "      background-color: #E8F0FE;\n",
              "      border: none;\n",
              "      border-radius: 50%;\n",
              "      cursor: pointer;\n",
              "      display: none;\n",
              "      fill: #1967D2;\n",
              "      height: 32px;\n",
              "      padding: 0 0 0 0;\n",
              "      width: 32px;\n",
              "    }\n",
              "\n",
              "    .colab-df-convert:hover {\n",
              "      background-color: #E2EBFA;\n",
              "      box-shadow: 0px 1px 2px rgba(60, 64, 67, 0.3), 0px 1px 3px 1px rgba(60, 64, 67, 0.15);\n",
              "      fill: #174EA6;\n",
              "    }\n",
              "\n",
              "    [theme=dark] .colab-df-convert {\n",
              "      background-color: #3B4455;\n",
              "      fill: #D2E3FC;\n",
              "    }\n",
              "\n",
              "    [theme=dark] .colab-df-convert:hover {\n",
              "      background-color: #434B5C;\n",
              "      box-shadow: 0px 1px 3px 1px rgba(0, 0, 0, 0.15);\n",
              "      filter: drop-shadow(0px 1px 2px rgba(0, 0, 0, 0.3));\n",
              "      fill: #FFFFFF;\n",
              "    }\n",
              "  </style>\n",
              "\n",
              "      <script>\n",
              "        const buttonEl =\n",
              "          document.querySelector('#df-c5ca53ae-7f34-42fa-82f3-b917f4f64b17 button.colab-df-convert');\n",
              "        buttonEl.style.display =\n",
              "          google.colab.kernel.accessAllowed ? 'block' : 'none';\n",
              "\n",
              "        async function convertToInteractive(key) {\n",
              "          const element = document.querySelector('#df-c5ca53ae-7f34-42fa-82f3-b917f4f64b17');\n",
              "          const dataTable =\n",
              "            await google.colab.kernel.invokeFunction('convertToInteractive',\n",
              "                                                     [key], {});\n",
              "          if (!dataTable) return;\n",
              "\n",
              "          const docLinkHtml = 'Like what you see? Visit the ' +\n",
              "            '<a target=\"_blank\" href=https://colab.research.google.com/notebooks/data_table.ipynb>data table notebook</a>'\n",
              "            + ' to learn more about interactive tables.';\n",
              "          element.innerHTML = '';\n",
              "          dataTable['output_type'] = 'display_data';\n",
              "          await google.colab.output.renderOutput(dataTable, element);\n",
              "          const docLink = document.createElement('div');\n",
              "          docLink.innerHTML = docLinkHtml;\n",
              "          element.appendChild(docLink);\n",
              "        }\n",
              "      </script>\n",
              "    </div>\n",
              "  </div>\n",
              "  "
            ]
          },
          "metadata": {},
          "execution_count": 6
        }
      ]
    },
    {
      "cell_type": "markdown",
      "metadata": {
        "id": "g1b6ooXLFq4N"
      },
      "source": [
        "## <font color='green'>**Actividad 1**</font>\n",
        "\n",
        "En esta actividad queremos visualizar nuestra data.  (30 minutos)\n",
        "\n",
        "1. ¿Cuantos valores nulos tenemos?, como los podemos tratar. ¿Probemos borrando data?\n",
        "\n",
        "2. Cree una columna que se llame datetime y ordenelo en forma ascendente. Puede mirar el siguiente codigo para inspirarse.\n",
        "\n",
        "```\n",
        "df['datetime'] = df[['year', 'month', 'day', 'hour']].apply(lambda row: datetime.datetime(year=row['year'], month=row['month'], day=row['day'],\n",
        "                                                                                          hour=row['hour']), axis=1)\n",
        "df.sort_values('datetime', ascending=True, inplace=True)\n",
        "```\n",
        "\n",
        "3. Visualice la serie de tiempo para la variable pm2.5. (Graficos de linea, box plots e histograma). Visualice distintos periodos de tiempo, se observa el tamaño del ciclo?\n",
        "\n"
      ]
    },
    {
      "cell_type": "code",
      "metadata": {
        "id": "Jao1PoFSsutT",
        "colab": {
          "base_uri": "https://localhost:8080/"
        },
        "outputId": "ef8a047d-9ef9-41a7-d1cb-9a5a20fad10f"
      },
      "source": [
        "# Numero de datos faltantes. \n",
        "df[df['pm2.5'].isna()].shape"
      ],
      "execution_count": null,
      "outputs": [
        {
          "output_type": "execute_result",
          "data": {
            "text/plain": [
              "(2067, 13)"
            ]
          },
          "metadata": {},
          "execution_count": 13
        }
      ]
    },
    {
      "cell_type": "markdown",
      "metadata": {
        "id": "xMkNXnzWsutZ"
      },
      "source": [
        "#### Datos faltantes:\n",
        "<p style='text-align: justify;'>\n",
        "En los datos de series de tiempo, si faltan valores, hay dos formas de tratar los datos incompletos:\n",
        "\n",
        "1. Omita todo el registro que contiene información.\n",
        "2. Imputar la información que falta.\n",
        "\n",
        "Dado que los datos de series temporales tienen propiedades temporales, solo algunas de las metodologías estadísticas son apropiadas para los datos de series temporales.\n",
        "\n",
        "Metodos elementales de imputación:\n",
        "1. Mean imputation\n",
        "2. Median imputation\n",
        "3. Mode imputation\n",
        "4. calucate the appropriate measure and replace NAs with the values.\n",
        "5. Modelos estadisticos y de Machine Leaning.\n",
        "<\\p>"
      ]
    },
    {
      "cell_type": "code",
      "metadata": {
        "id": "1uioFEF5sutZ"
      },
      "source": [
        "# En este caso los vamos a eliminar.\n",
        "\"\"\"\n",
        "Las filas que tienen valores de NaN en la columna pm2.5 se descartan. Debemos considerar en \n",
        "el caso que los NaN son demasiados o nos afecten en nuestras predicciones, existen metodos para ir rellenando los valores.\n",
        "La opción mas directa es eliminarlos. Veamos si esto nos afecta en nuestro modelo.\n",
        "\"\"\"\n",
        "df['pm2.5'].isna().sum()\n",
        "df.dropna(subset=['pm2.5'], axis=0, inplace=True)\n",
        "df.reset_index(drop=True, inplace=True)"
      ],
      "execution_count": null,
      "outputs": []
    },
    {
      "cell_type": "markdown",
      "metadata": {
        "id": "eiqQd-kNsutc"
      },
      "source": [
        "<p style='text-align: justify;'>\n",
        "En las series de tiempo el orden es fundamental. \n",
        "Para asegurarse de que las filas estén en el orden correcto de fecha y hora de las observaciones, se crea una nueva columna fecha y hora a partir de las columnas relacionadas con la fecha y la hora del Marco de datos.\n",
        "La nueva columna consta de los objetos DateTime.datetime de Python. El DataFrame se ordena en orden ascendente sobre esta columna.\n",
        "    </p>"
      ]
    },
    {
      "cell_type": "code",
      "metadata": {
        "id": "j_S04qu-sutd"
      },
      "source": [
        "# Cree df['datetime'] a partir de  df[['year', 'month', 'day', 'hour']] y ordenenlos. \n",
        "\n",
        "df['datetime'] = df[['year', 'month', 'day', 'hour']].apply(lambda row: datetime.datetime(year=row['year'], month=row['month'], day=row['day'],\n",
        "                                                                                          hour=row['hour']), axis=1)\n",
        "df.sort_values('datetime', ascending=True, inplace=True)"
      ],
      "execution_count": null,
      "outputs": []
    },
    {
      "cell_type": "markdown",
      "metadata": {
        "id": "q5pn1cURsutf"
      },
      "source": [
        "<p style='text-align: justify;'>\n",
        "Un box plot es una forma estandarizada de mostrar la distribución de datos basada en un resumen de cinco números \n",
        "(\"mínimo\", primer cuartil (Q1), mediana, tercer cuartil (Q3) y \"máximo\"). Puede informarle sobre sus valores atípicos \n",
        "y cuáles son sus valores. También puede decirle si sus datos son simétricos, qué tan estrechamente están agrupados, y si sus datos están sesgados.</p>\n",
        "<p style='text-align: justify;'>\n",
        "Necesita tener información sobre la variabilidad o dispersión de los datos. Un box plot es un gráfico que le da una buena indicación de cómo se distribuyen los valores en los datos. Aunque los box plots pueden parecer primitivos en comparación con un histograma o gráfico de densidad, tienen la ventaja de ocupar menos espacio, lo cual es útil al comparar distribuciones entre muchos grupos o conjuntos de datos.</p>\n",
        "\n",
        "![Funcion logistica](https://drive.google.com/uc?export=view&id=1pd8fVkKl7jl-YtHVpyYdWkX9FHRE30lm)\n",
        "\n",
        "\n",
        "\n"
      ]
    },
    {
      "cell_type": "code",
      "metadata": {
        "id": "d-O7j7gasutf"
      },
      "source": [
        "# Visualice un Boxplot de pm2.5 y de alguna de las otras variables si tiene interes. \n"
      ],
      "execution_count": null,
      "outputs": []
    },
    {
      "cell_type": "code",
      "metadata": {
        "scrolled": true,
        "id": "O0Ic8ZzSsuth"
      },
      "source": [
        "#3 Realice un grafico de linea de la serie completa. \n"
      ],
      "execution_count": null,
      "outputs": []
    },
    {
      "cell_type": "code",
      "metadata": {
        "id": "MpOlRCfwBokx"
      },
      "source": [
        ""
      ],
      "execution_count": null,
      "outputs": []
    },
    {
      "cell_type": "code",
      "metadata": {
        "id": "J74SlmRTsutj"
      },
      "source": [
        "# Dibujemos la serie para los 6 primeros meses y veamos si existe algun patron."
      ],
      "execution_count": null,
      "outputs": []
    },
    {
      "cell_type": "code",
      "metadata": {
        "id": "xV2Gko6k6uNm"
      },
      "source": [
        "# Miremos el caso de un mes. \n"
      ],
      "execution_count": null,
      "outputs": []
    },
    {
      "cell_type": "markdown",
      "metadata": {
        "id": "TWQQaKw3GK0h"
      },
      "source": [
        "<font color='green'>**Fin Actividad 1**</font>"
      ]
    },
    {
      "cell_type": "markdown",
      "metadata": {
        "id": "e_7NuGZbsutm"
      },
      "source": [
        "### Etapa 2 Preprocesamiento de la data\n",
        "<p style='text-align: justify;'>\n",
        "En esta segunda etapa preparamos los datos con el objetivo de realizar un entrenamiento robusto de nuestra red neuronal. Usualmente los datos como primera etapa se normalizan. Empiricamente se ha observando que los datos normalizados (No siempre) generan modelos de clasificiación y de regresión con mejores metricas que los no normalizadas. Por otra parte, Los algoritmos de descenso de gradiente funcionan mejor (por ejemplo, convergen más rápido) si las variables están dentro del rango [-1, 1]. Muchas fuentes relajan el límite incluso [-3, 3].</p>\n",
        "<p style='text-align: justify;'>\n",
        "Posteriormente los datos debens ser separados en tres conjuntos: Entrenamiento, validación y test. Usualmente el ultimo de test se utiliza con una prueba nueva de datos. Finalmente debemos construir el conjunto de vectores que serán utilizados para entrenar la red neuronal perceptron multicapa. Las librerias. Adicionalmente en esta sección utilizaremos la librería sklearn para realizar la normalización.\n",
        "</p>"
      ]
    },
    {
      "cell_type": "code",
      "metadata": {
        "id": "LTNpkzXNsutm"
      },
      "source": [
        "from sklearn.preprocessing import MinMaxScaler\n",
        "scaler = MinMaxScaler(feature_range=(0, 1))\n",
        "df['scaled_pm2.5'] = scaler.fit_transform(np.array(df['pm2.5']).reshape(-1, 1)) # Nos lo deja como vector."
      ],
      "execution_count": null,
      "outputs": []
    },
    {
      "cell_type": "code",
      "metadata": {
        "id": "pRKIWfREsuto",
        "colab": {
          "base_uri": "https://localhost:8080/",
          "height": 382
        },
        "outputId": "5ba01500-11c1-4c36-b5c0-67d2281efbfa"
      },
      "source": [
        "# Guardemos el escalador\n",
        "from sklearn.externals import joblib\n",
        "fileoutScaler = 'scaler_model.sav'\n",
        "joblib.dump(scaler, 'models/' + fileoutScaler)"
      ],
      "execution_count": null,
      "outputs": [
        {
          "output_type": "error",
          "ename": "ImportError",
          "evalue": "ignored",
          "traceback": [
            "\u001b[0;31m---------------------------------------------------------------------------\u001b[0m",
            "\u001b[0;31mImportError\u001b[0m                               Traceback (most recent call last)",
            "\u001b[0;32m<ipython-input-17-90f132cf2a74>\u001b[0m in \u001b[0;36m<module>\u001b[0;34m()\u001b[0m\n\u001b[1;32m      1\u001b[0m \u001b[0;31m# Guardemos el escalador\u001b[0m\u001b[0;34m\u001b[0m\u001b[0;34m\u001b[0m\u001b[0;34m\u001b[0m\u001b[0m\n\u001b[0;32m----> 2\u001b[0;31m \u001b[0;32mfrom\u001b[0m \u001b[0msklearn\u001b[0m\u001b[0;34m.\u001b[0m\u001b[0mexternals\u001b[0m \u001b[0;32mimport\u001b[0m \u001b[0mjoblib\u001b[0m\u001b[0;34m\u001b[0m\u001b[0;34m\u001b[0m\u001b[0m\n\u001b[0m\u001b[1;32m      3\u001b[0m \u001b[0mfileoutScaler\u001b[0m \u001b[0;34m=\u001b[0m \u001b[0;34m'scaler_model.sav'\u001b[0m\u001b[0;34m\u001b[0m\u001b[0;34m\u001b[0m\u001b[0m\n\u001b[1;32m      4\u001b[0m \u001b[0mjoblib\u001b[0m\u001b[0;34m.\u001b[0m\u001b[0mdump\u001b[0m\u001b[0;34m(\u001b[0m\u001b[0mscaler\u001b[0m\u001b[0;34m,\u001b[0m \u001b[0;34m'models/'\u001b[0m \u001b[0;34m+\u001b[0m \u001b[0mfileoutScaler\u001b[0m\u001b[0;34m)\u001b[0m\u001b[0;34m\u001b[0m\u001b[0;34m\u001b[0m\u001b[0m\n",
            "\u001b[0;31mImportError\u001b[0m: cannot import name 'joblib' from 'sklearn.externals' (/usr/local/lib/python3.7/dist-packages/sklearn/externals/__init__.py)",
            "",
            "\u001b[0;31m---------------------------------------------------------------------------\u001b[0;32m\nNOTE: If your import is failing due to a missing package, you can\nmanually install dependencies using either !pip or !apt.\n\nTo view examples of installing some common dependencies, click the\n\"Open Examples\" button below.\n\u001b[0;31m---------------------------------------------------------------------------\u001b[0m\n"
          ],
          "errorDetails": {
            "actions": [
              {
                "action": "open_url",
                "actionText": "Open Examples",
                "url": "/notebooks/snippets/importing_libraries.ipynb"
              }
            ]
          }
        }
      ]
    },
    {
      "cell_type": "code",
      "source": [
        "# Guardemos el escalador\n",
        "import joblib\n",
        "fileoutScaler = 'scaler_model.sav'\n",
        "joblib.dump(scaler, './' + fileoutScaler)"
      ],
      "metadata": {
        "colab": {
          "base_uri": "https://localhost:8080/"
        },
        "id": "5beVrVfQcB8U",
        "outputId": "4e7b2071-c6da-44b9-ca2c-714831d7ac73"
      },
      "execution_count": null,
      "outputs": [
        {
          "output_type": "execute_result",
          "data": {
            "text/plain": [
              "['./scaler_model.sav']"
            ]
          },
          "metadata": {},
          "execution_count": 19
        }
      ]
    },
    {
      "cell_type": "code",
      "source": [
        "# una buena practicar \n",
        "joblib.dump({'scaler':scaler,'modelo':model,'info':'minmaxscaler(0,1) y svm linear'}, './' + fileoutScaler)"
      ],
      "metadata": {
        "id": "wOS6hPMlcamU"
      },
      "execution_count": null,
      "outputs": []
    },
    {
      "cell_type": "markdown",
      "metadata": {
        "collapsed": true,
        "id": "fDkSXwc_sutr"
      },
      "source": [
        "<p style='text-align: justify;'>\n",
        "Antes de entrenar el modelo, el conjunto de datos se divide en dos partes: conjunto de entrenamiento y conjunto de validación.\n",
        "La red neuronal se entrena en el conjunto de entrenamiento. Esto significa el cálculo de la función de pérdida, backpropagation \n",
        "y los pesos actualizados por un algoritmo de descenso de gradiente se realizan en el conjunto de entrenamiento. El conjunto de validación se utiliza para evaluar el modelo y para determinar el número de epochs en el entrenamiento del modelo. Aumentando el número de epochs disminuirán aún más la función de pérdida en el conjunto de entrenamiento, pero es posible que no necesariamente tengan el mismo efecto para el conjunto de validación debido al sobreajuste en el conjunto de entrenamiento. Utilizamos Keras con el backend Tensorflow para definir y entrenar el modelo. Todos los pasos involucrados en la capacitación y validación del modelo se realizan llamando a las funciones apropiadas de la API de Keras.\n",
        " </p>"
      ]
    },
    {
      "cell_type": "code",
      "metadata": {
        "id": "kEt4lo1Asutr",
        "colab": {
          "base_uri": "https://localhost:8080/"
        },
        "outputId": "06815c80-d649-443d-cd0a-0776da42a93f"
      },
      "source": [
        "#tslearn implementaciones de series de tiempo\n",
        "\"\"\"\n",
        "Comencemos dividiendo el conjunto de datos en entrenamiento y validación. El período de tiempo del conjunto de datos si es de\n",
        "1 de enero de 2010 al 31 de diciembre de 2014. Los primeros cuatro años: 2010 a 2013 se utiliza como entrenamiento y\n",
        "2014 se mantiene para validación.\n",
        "\"\"\"\n",
        "# Utilizamos pandas para realizar este proceso. \n",
        "split_date = datetime.datetime(year=2014, month=1, day=1, hour=0)\n",
        "df_train = df.loc[df['datetime']<split_date]\n",
        "df_val = df.loc[df['datetime']>=split_date]\n",
        "print('Shape of train:', df_train.shape)\n",
        "print('Shape of test:', df_val.shape)"
      ],
      "execution_count": null,
      "outputs": [
        {
          "output_type": "stream",
          "name": "stdout",
          "text": [
            "Shape of train: (33096, 15)\n",
            "Shape of test: (8661, 15)\n"
          ]
        }
      ]
    },
    {
      "cell_type": "code",
      "metadata": {
        "id": "xQbTeH7Lsutt",
        "colab": {
          "base_uri": "https://localhost:8080/",
          "height": 250
        },
        "outputId": "ad37a61a-940a-4920-cee3-90929b5ed69c"
      },
      "source": [
        "#Miremos nuestro conjunto de entrenamiento\n",
        "df_train.head()"
      ],
      "execution_count": null,
      "outputs": [
        {
          "output_type": "execute_result",
          "data": {
            "text/plain": [
              "   No  year  month  day  hour  pm2.5  DEWP  TEMP    PRES cbwd   Iws  Is  Ir  \\\n",
              "0  25  2010      1    2     0  129.0   -16  -4.0  1020.0   SE  1.79   0   0   \n",
              "1  26  2010      1    2     1  148.0   -15  -4.0  1020.0   SE  2.68   0   0   \n",
              "2  27  2010      1    2     2  159.0   -11  -5.0  1021.0   SE  3.57   0   0   \n",
              "3  28  2010      1    2     3  181.0    -7  -5.0  1022.0   SE  5.36   1   0   \n",
              "4  29  2010      1    2     4  138.0    -7  -5.0  1022.0   SE  6.25   2   0   \n",
              "\n",
              "             datetime  scaled_pm2.5  \n",
              "0 2010-01-02 00:00:00      0.129779  \n",
              "1 2010-01-02 01:00:00      0.148893  \n",
              "2 2010-01-02 02:00:00      0.159960  \n",
              "3 2010-01-02 03:00:00      0.182093  \n",
              "4 2010-01-02 04:00:00      0.138833  "
            ],
            "text/html": [
              "\n",
              "  <div id=\"df-9d18852e-8cab-4cc9-80f7-5d79f0596089\">\n",
              "    <div class=\"colab-df-container\">\n",
              "      <div>\n",
              "<style scoped>\n",
              "    .dataframe tbody tr th:only-of-type {\n",
              "        vertical-align: middle;\n",
              "    }\n",
              "\n",
              "    .dataframe tbody tr th {\n",
              "        vertical-align: top;\n",
              "    }\n",
              "\n",
              "    .dataframe thead th {\n",
              "        text-align: right;\n",
              "    }\n",
              "</style>\n",
              "<table border=\"1\" class=\"dataframe\">\n",
              "  <thead>\n",
              "    <tr style=\"text-align: right;\">\n",
              "      <th></th>\n",
              "      <th>No</th>\n",
              "      <th>year</th>\n",
              "      <th>month</th>\n",
              "      <th>day</th>\n",
              "      <th>hour</th>\n",
              "      <th>pm2.5</th>\n",
              "      <th>DEWP</th>\n",
              "      <th>TEMP</th>\n",
              "      <th>PRES</th>\n",
              "      <th>cbwd</th>\n",
              "      <th>Iws</th>\n",
              "      <th>Is</th>\n",
              "      <th>Ir</th>\n",
              "      <th>datetime</th>\n",
              "      <th>scaled_pm2.5</th>\n",
              "    </tr>\n",
              "  </thead>\n",
              "  <tbody>\n",
              "    <tr>\n",
              "      <th>0</th>\n",
              "      <td>25</td>\n",
              "      <td>2010</td>\n",
              "      <td>1</td>\n",
              "      <td>2</td>\n",
              "      <td>0</td>\n",
              "      <td>129.0</td>\n",
              "      <td>-16</td>\n",
              "      <td>-4.0</td>\n",
              "      <td>1020.0</td>\n",
              "      <td>SE</td>\n",
              "      <td>1.79</td>\n",
              "      <td>0</td>\n",
              "      <td>0</td>\n",
              "      <td>2010-01-02 00:00:00</td>\n",
              "      <td>0.129779</td>\n",
              "    </tr>\n",
              "    <tr>\n",
              "      <th>1</th>\n",
              "      <td>26</td>\n",
              "      <td>2010</td>\n",
              "      <td>1</td>\n",
              "      <td>2</td>\n",
              "      <td>1</td>\n",
              "      <td>148.0</td>\n",
              "      <td>-15</td>\n",
              "      <td>-4.0</td>\n",
              "      <td>1020.0</td>\n",
              "      <td>SE</td>\n",
              "      <td>2.68</td>\n",
              "      <td>0</td>\n",
              "      <td>0</td>\n",
              "      <td>2010-01-02 01:00:00</td>\n",
              "      <td>0.148893</td>\n",
              "    </tr>\n",
              "    <tr>\n",
              "      <th>2</th>\n",
              "      <td>27</td>\n",
              "      <td>2010</td>\n",
              "      <td>1</td>\n",
              "      <td>2</td>\n",
              "      <td>2</td>\n",
              "      <td>159.0</td>\n",
              "      <td>-11</td>\n",
              "      <td>-5.0</td>\n",
              "      <td>1021.0</td>\n",
              "      <td>SE</td>\n",
              "      <td>3.57</td>\n",
              "      <td>0</td>\n",
              "      <td>0</td>\n",
              "      <td>2010-01-02 02:00:00</td>\n",
              "      <td>0.159960</td>\n",
              "    </tr>\n",
              "    <tr>\n",
              "      <th>3</th>\n",
              "      <td>28</td>\n",
              "      <td>2010</td>\n",
              "      <td>1</td>\n",
              "      <td>2</td>\n",
              "      <td>3</td>\n",
              "      <td>181.0</td>\n",
              "      <td>-7</td>\n",
              "      <td>-5.0</td>\n",
              "      <td>1022.0</td>\n",
              "      <td>SE</td>\n",
              "      <td>5.36</td>\n",
              "      <td>1</td>\n",
              "      <td>0</td>\n",
              "      <td>2010-01-02 03:00:00</td>\n",
              "      <td>0.182093</td>\n",
              "    </tr>\n",
              "    <tr>\n",
              "      <th>4</th>\n",
              "      <td>29</td>\n",
              "      <td>2010</td>\n",
              "      <td>1</td>\n",
              "      <td>2</td>\n",
              "      <td>4</td>\n",
              "      <td>138.0</td>\n",
              "      <td>-7</td>\n",
              "      <td>-5.0</td>\n",
              "      <td>1022.0</td>\n",
              "      <td>SE</td>\n",
              "      <td>6.25</td>\n",
              "      <td>2</td>\n",
              "      <td>0</td>\n",
              "      <td>2010-01-02 04:00:00</td>\n",
              "      <td>0.138833</td>\n",
              "    </tr>\n",
              "  </tbody>\n",
              "</table>\n",
              "</div>\n",
              "      <button class=\"colab-df-convert\" onclick=\"convertToInteractive('df-9d18852e-8cab-4cc9-80f7-5d79f0596089')\"\n",
              "              title=\"Convert this dataframe to an interactive table.\"\n",
              "              style=\"display:none;\">\n",
              "        \n",
              "  <svg xmlns=\"http://www.w3.org/2000/svg\" height=\"24px\"viewBox=\"0 0 24 24\"\n",
              "       width=\"24px\">\n",
              "    <path d=\"M0 0h24v24H0V0z\" fill=\"none\"/>\n",
              "    <path d=\"M18.56 5.44l.94 2.06.94-2.06 2.06-.94-2.06-.94-.94-2.06-.94 2.06-2.06.94zm-11 1L8.5 8.5l.94-2.06 2.06-.94-2.06-.94L8.5 2.5l-.94 2.06-2.06.94zm10 10l.94 2.06.94-2.06 2.06-.94-2.06-.94-.94-2.06-.94 2.06-2.06.94z\"/><path d=\"M17.41 7.96l-1.37-1.37c-.4-.4-.92-.59-1.43-.59-.52 0-1.04.2-1.43.59L10.3 9.45l-7.72 7.72c-.78.78-.78 2.05 0 2.83L4 21.41c.39.39.9.59 1.41.59.51 0 1.02-.2 1.41-.59l7.78-7.78 2.81-2.81c.8-.78.8-2.07 0-2.86zM5.41 20L4 18.59l7.72-7.72 1.47 1.35L5.41 20z\"/>\n",
              "  </svg>\n",
              "      </button>\n",
              "      \n",
              "  <style>\n",
              "    .colab-df-container {\n",
              "      display:flex;\n",
              "      flex-wrap:wrap;\n",
              "      gap: 12px;\n",
              "    }\n",
              "\n",
              "    .colab-df-convert {\n",
              "      background-color: #E8F0FE;\n",
              "      border: none;\n",
              "      border-radius: 50%;\n",
              "      cursor: pointer;\n",
              "      display: none;\n",
              "      fill: #1967D2;\n",
              "      height: 32px;\n",
              "      padding: 0 0 0 0;\n",
              "      width: 32px;\n",
              "    }\n",
              "\n",
              "    .colab-df-convert:hover {\n",
              "      background-color: #E2EBFA;\n",
              "      box-shadow: 0px 1px 2px rgba(60, 64, 67, 0.3), 0px 1px 3px 1px rgba(60, 64, 67, 0.15);\n",
              "      fill: #174EA6;\n",
              "    }\n",
              "\n",
              "    [theme=dark] .colab-df-convert {\n",
              "      background-color: #3B4455;\n",
              "      fill: #D2E3FC;\n",
              "    }\n",
              "\n",
              "    [theme=dark] .colab-df-convert:hover {\n",
              "      background-color: #434B5C;\n",
              "      box-shadow: 0px 1px 3px 1px rgba(0, 0, 0, 0.15);\n",
              "      filter: drop-shadow(0px 1px 2px rgba(0, 0, 0, 0.3));\n",
              "      fill: #FFFFFF;\n",
              "    }\n",
              "  </style>\n",
              "\n",
              "      <script>\n",
              "        const buttonEl =\n",
              "          document.querySelector('#df-9d18852e-8cab-4cc9-80f7-5d79f0596089 button.colab-df-convert');\n",
              "        buttonEl.style.display =\n",
              "          google.colab.kernel.accessAllowed ? 'block' : 'none';\n",
              "\n",
              "        async function convertToInteractive(key) {\n",
              "          const element = document.querySelector('#df-9d18852e-8cab-4cc9-80f7-5d79f0596089');\n",
              "          const dataTable =\n",
              "            await google.colab.kernel.invokeFunction('convertToInteractive',\n",
              "                                                     [key], {});\n",
              "          if (!dataTable) return;\n",
              "\n",
              "          const docLinkHtml = 'Like what you see? Visit the ' +\n",
              "            '<a target=\"_blank\" href=https://colab.research.google.com/notebooks/data_table.ipynb>data table notebook</a>'\n",
              "            + ' to learn more about interactive tables.';\n",
              "          element.innerHTML = '';\n",
              "          dataTable['output_type'] = 'display_data';\n",
              "          await google.colab.output.renderOutput(dataTable, element);\n",
              "          const docLink = document.createElement('div');\n",
              "          docLink.innerHTML = docLinkHtml;\n",
              "          element.appendChild(docLink);\n",
              "        }\n",
              "      </script>\n",
              "    </div>\n",
              "  </div>\n",
              "  "
            ]
          },
          "metadata": {},
          "execution_count": 21
        }
      ]
    },
    {
      "cell_type": "code",
      "metadata": {
        "id": "B00t-raZsutv",
        "colab": {
          "base_uri": "https://localhost:8080/",
          "height": 357
        },
        "outputId": "a058e7f7-59ff-4405-cc85-f3079fcea166"
      },
      "source": [
        "#Miremos nuestro conjunto de validación\n",
        "df_val.head()"
      ],
      "execution_count": null,
      "outputs": [
        {
          "output_type": "execute_result",
          "data": {
            "text/plain": [
              "          No  year  month  day  hour  pm2.5  DEWP  TEMP    PRES cbwd     Iws  \\\n",
              "33096  35065  2014      1    1     0   24.0   -20   7.0  1014.0   NW  143.48   \n",
              "33097  35066  2014      1    1     1   53.0   -20   7.0  1013.0   NW  147.50   \n",
              "33098  35067  2014      1    1     2   65.0   -20   6.0  1013.0   NW  151.52   \n",
              "33099  35068  2014      1    1     3   70.0   -20   6.0  1013.0   NW  153.31   \n",
              "33100  35069  2014      1    1     4   79.0   -18   3.0  1012.0   cv    0.89   \n",
              "\n",
              "       Is  Ir            datetime  scaled_pm2.5  \n",
              "33096   0   0 2014-01-01 00:00:00      0.024145  \n",
              "33097   0   0 2014-01-01 01:00:00      0.053320  \n",
              "33098   0   0 2014-01-01 02:00:00      0.065392  \n",
              "33099   0   0 2014-01-01 03:00:00      0.070423  \n",
              "33100   0   0 2014-01-01 04:00:00      0.079477  "
            ],
            "text/html": [
              "\n",
              "  <div id=\"df-c8b02cb4-9410-4712-8be5-f61677c5b129\">\n",
              "    <div class=\"colab-df-container\">\n",
              "      <div>\n",
              "<style scoped>\n",
              "    .dataframe tbody tr th:only-of-type {\n",
              "        vertical-align: middle;\n",
              "    }\n",
              "\n",
              "    .dataframe tbody tr th {\n",
              "        vertical-align: top;\n",
              "    }\n",
              "\n",
              "    .dataframe thead th {\n",
              "        text-align: right;\n",
              "    }\n",
              "</style>\n",
              "<table border=\"1\" class=\"dataframe\">\n",
              "  <thead>\n",
              "    <tr style=\"text-align: right;\">\n",
              "      <th></th>\n",
              "      <th>No</th>\n",
              "      <th>year</th>\n",
              "      <th>month</th>\n",
              "      <th>day</th>\n",
              "      <th>hour</th>\n",
              "      <th>pm2.5</th>\n",
              "      <th>DEWP</th>\n",
              "      <th>TEMP</th>\n",
              "      <th>PRES</th>\n",
              "      <th>cbwd</th>\n",
              "      <th>Iws</th>\n",
              "      <th>Is</th>\n",
              "      <th>Ir</th>\n",
              "      <th>datetime</th>\n",
              "      <th>scaled_pm2.5</th>\n",
              "    </tr>\n",
              "  </thead>\n",
              "  <tbody>\n",
              "    <tr>\n",
              "      <th>33096</th>\n",
              "      <td>35065</td>\n",
              "      <td>2014</td>\n",
              "      <td>1</td>\n",
              "      <td>1</td>\n",
              "      <td>0</td>\n",
              "      <td>24.0</td>\n",
              "      <td>-20</td>\n",
              "      <td>7.0</td>\n",
              "      <td>1014.0</td>\n",
              "      <td>NW</td>\n",
              "      <td>143.48</td>\n",
              "      <td>0</td>\n",
              "      <td>0</td>\n",
              "      <td>2014-01-01 00:00:00</td>\n",
              "      <td>0.024145</td>\n",
              "    </tr>\n",
              "    <tr>\n",
              "      <th>33097</th>\n",
              "      <td>35066</td>\n",
              "      <td>2014</td>\n",
              "      <td>1</td>\n",
              "      <td>1</td>\n",
              "      <td>1</td>\n",
              "      <td>53.0</td>\n",
              "      <td>-20</td>\n",
              "      <td>7.0</td>\n",
              "      <td>1013.0</td>\n",
              "      <td>NW</td>\n",
              "      <td>147.50</td>\n",
              "      <td>0</td>\n",
              "      <td>0</td>\n",
              "      <td>2014-01-01 01:00:00</td>\n",
              "      <td>0.053320</td>\n",
              "    </tr>\n",
              "    <tr>\n",
              "      <th>33098</th>\n",
              "      <td>35067</td>\n",
              "      <td>2014</td>\n",
              "      <td>1</td>\n",
              "      <td>1</td>\n",
              "      <td>2</td>\n",
              "      <td>65.0</td>\n",
              "      <td>-20</td>\n",
              "      <td>6.0</td>\n",
              "      <td>1013.0</td>\n",
              "      <td>NW</td>\n",
              "      <td>151.52</td>\n",
              "      <td>0</td>\n",
              "      <td>0</td>\n",
              "      <td>2014-01-01 02:00:00</td>\n",
              "      <td>0.065392</td>\n",
              "    </tr>\n",
              "    <tr>\n",
              "      <th>33099</th>\n",
              "      <td>35068</td>\n",
              "      <td>2014</td>\n",
              "      <td>1</td>\n",
              "      <td>1</td>\n",
              "      <td>3</td>\n",
              "      <td>70.0</td>\n",
              "      <td>-20</td>\n",
              "      <td>6.0</td>\n",
              "      <td>1013.0</td>\n",
              "      <td>NW</td>\n",
              "      <td>153.31</td>\n",
              "      <td>0</td>\n",
              "      <td>0</td>\n",
              "      <td>2014-01-01 03:00:00</td>\n",
              "      <td>0.070423</td>\n",
              "    </tr>\n",
              "    <tr>\n",
              "      <th>33100</th>\n",
              "      <td>35069</td>\n",
              "      <td>2014</td>\n",
              "      <td>1</td>\n",
              "      <td>1</td>\n",
              "      <td>4</td>\n",
              "      <td>79.0</td>\n",
              "      <td>-18</td>\n",
              "      <td>3.0</td>\n",
              "      <td>1012.0</td>\n",
              "      <td>cv</td>\n",
              "      <td>0.89</td>\n",
              "      <td>0</td>\n",
              "      <td>0</td>\n",
              "      <td>2014-01-01 04:00:00</td>\n",
              "      <td>0.079477</td>\n",
              "    </tr>\n",
              "  </tbody>\n",
              "</table>\n",
              "</div>\n",
              "      <button class=\"colab-df-convert\" onclick=\"convertToInteractive('df-c8b02cb4-9410-4712-8be5-f61677c5b129')\"\n",
              "              title=\"Convert this dataframe to an interactive table.\"\n",
              "              style=\"display:none;\">\n",
              "        \n",
              "  <svg xmlns=\"http://www.w3.org/2000/svg\" height=\"24px\"viewBox=\"0 0 24 24\"\n",
              "       width=\"24px\">\n",
              "    <path d=\"M0 0h24v24H0V0z\" fill=\"none\"/>\n",
              "    <path d=\"M18.56 5.44l.94 2.06.94-2.06 2.06-.94-2.06-.94-.94-2.06-.94 2.06-2.06.94zm-11 1L8.5 8.5l.94-2.06 2.06-.94-2.06-.94L8.5 2.5l-.94 2.06-2.06.94zm10 10l.94 2.06.94-2.06 2.06-.94-2.06-.94-.94-2.06-.94 2.06-2.06.94z\"/><path d=\"M17.41 7.96l-1.37-1.37c-.4-.4-.92-.59-1.43-.59-.52 0-1.04.2-1.43.59L10.3 9.45l-7.72 7.72c-.78.78-.78 2.05 0 2.83L4 21.41c.39.39.9.59 1.41.59.51 0 1.02-.2 1.41-.59l7.78-7.78 2.81-2.81c.8-.78.8-2.07 0-2.86zM5.41 20L4 18.59l7.72-7.72 1.47 1.35L5.41 20z\"/>\n",
              "  </svg>\n",
              "      </button>\n",
              "      \n",
              "  <style>\n",
              "    .colab-df-container {\n",
              "      display:flex;\n",
              "      flex-wrap:wrap;\n",
              "      gap: 12px;\n",
              "    }\n",
              "\n",
              "    .colab-df-convert {\n",
              "      background-color: #E8F0FE;\n",
              "      border: none;\n",
              "      border-radius: 50%;\n",
              "      cursor: pointer;\n",
              "      display: none;\n",
              "      fill: #1967D2;\n",
              "      height: 32px;\n",
              "      padding: 0 0 0 0;\n",
              "      width: 32px;\n",
              "    }\n",
              "\n",
              "    .colab-df-convert:hover {\n",
              "      background-color: #E2EBFA;\n",
              "      box-shadow: 0px 1px 2px rgba(60, 64, 67, 0.3), 0px 1px 3px 1px rgba(60, 64, 67, 0.15);\n",
              "      fill: #174EA6;\n",
              "    }\n",
              "\n",
              "    [theme=dark] .colab-df-convert {\n",
              "      background-color: #3B4455;\n",
              "      fill: #D2E3FC;\n",
              "    }\n",
              "\n",
              "    [theme=dark] .colab-df-convert:hover {\n",
              "      background-color: #434B5C;\n",
              "      box-shadow: 0px 1px 3px 1px rgba(0, 0, 0, 0.15);\n",
              "      filter: drop-shadow(0px 1px 2px rgba(0, 0, 0, 0.3));\n",
              "      fill: #FFFFFF;\n",
              "    }\n",
              "  </style>\n",
              "\n",
              "      <script>\n",
              "        const buttonEl =\n",
              "          document.querySelector('#df-c8b02cb4-9410-4712-8be5-f61677c5b129 button.colab-df-convert');\n",
              "        buttonEl.style.display =\n",
              "          google.colab.kernel.accessAllowed ? 'block' : 'none';\n",
              "\n",
              "        async function convertToInteractive(key) {\n",
              "          const element = document.querySelector('#df-c8b02cb4-9410-4712-8be5-f61677c5b129');\n",
              "          const dataTable =\n",
              "            await google.colab.kernel.invokeFunction('convertToInteractive',\n",
              "                                                     [key], {});\n",
              "          if (!dataTable) return;\n",
              "\n",
              "          const docLinkHtml = 'Like what you see? Visit the ' +\n",
              "            '<a target=\"_blank\" href=https://colab.research.google.com/notebooks/data_table.ipynb>data table notebook</a>'\n",
              "            + ' to learn more about interactive tables.';\n",
              "          element.innerHTML = '';\n",
              "          dataTable['output_type'] = 'display_data';\n",
              "          await google.colab.output.renderOutput(dataTable, element);\n",
              "          const docLink = document.createElement('div');\n",
              "          docLink.innerHTML = docLinkHtml;\n",
              "          element.appendChild(docLink);\n",
              "        }\n",
              "      </script>\n",
              "    </div>\n",
              "  </div>\n",
              "  "
            ]
          },
          "metadata": {},
          "execution_count": 22
        }
      ]
    },
    {
      "cell_type": "code",
      "metadata": {
        "id": "MMJQVpp9sutx"
      },
      "source": [
        "#Vamos a resetar los indices para ser ordenados \n",
        "df_val.reset_index(drop=True, inplace=True)"
      ],
      "execution_count": null,
      "outputs": []
    },
    {
      "cell_type": "code",
      "metadata": {
        "id": "RODEcVL9sut0",
        "colab": {
          "base_uri": "https://localhost:8080/",
          "height": 756
        },
        "outputId": "a983bc35-74a3-4770-a787-6e814f3d41e9"
      },
      "source": [
        "\"\"\"\n",
        "El conjunto de entrenamiento y validación lo volvemos a dibujar. \n",
        "\"\"\"\n",
        "\n",
        "plt.figure(figsize=(16, 5.5))\n",
        "g = sns.lineplot(df_train['datetime'],df_train['scaled_pm2.5'], color='b')\n",
        "g.set_title('Serie de tiempo del conjunto de entrenamiento pm2.5 escalada')\n",
        "g.set_xlabel('Index')\n",
        "g.set_ylabel('Valores escalados de pm2.5')\n",
        "\n",
        "plt.figure(figsize=(16, 5.5))\n",
        "g = sns.lineplot(df_val['datetime'],df_val['scaled_pm2.5'], color='r')\n",
        "g.set_title('Serie de tiempo del conjunto de validación pm2.5 escalada')\n",
        "g.set_xlabel('Index')\n",
        "g.set_ylabel('Valores escalados de pm2.5')"
      ],
      "execution_count": null,
      "outputs": [
        {
          "output_type": "stream",
          "name": "stderr",
          "text": [
            "/usr/local/lib/python3.7/dist-packages/seaborn/_decorators.py:43: FutureWarning: Pass the following variables as keyword args: x, y. From version 0.12, the only valid positional argument will be `data`, and passing other arguments without an explicit keyword will result in an error or misinterpretation.\n",
            "  FutureWarning\n",
            "/usr/local/lib/python3.7/dist-packages/seaborn/_decorators.py:43: FutureWarning: Pass the following variables as keyword args: x, y. From version 0.12, the only valid positional argument will be `data`, and passing other arguments without an explicit keyword will result in an error or misinterpretation.\n",
            "  FutureWarning\n"
          ]
        },
        {
          "output_type": "execute_result",
          "data": {
            "text/plain": [
              "Text(0, 0.5, 'Valores escalados de pm2.5')"
            ]
          },
          "metadata": {},
          "execution_count": 26
        },
        {
          "output_type": "display_data",
          "data": {
            "text/plain": [
              "<Figure size 1152x396 with 1 Axes>"
            ],
            "image/png": "[encoded data removed]"
          },
          "metadata": {
            "needs_background": "light"
          }
        },
        {
          "output_type": "display_data",
          "data": {
            "text/plain": [
              "<Figure size 1152x396 with 1 Axes>"
            ],
            "image/png": "[encoded data removed]"
          },
          "metadata": {
            "needs_background": "light"
          }
        }
      ]
    },
    {
      "cell_type": "markdown",
      "metadata": {
        "id": "yIfcBVyLsut2"
      },
      "source": [
        "<p style='text-align: justify;'>\n",
        "Ahora necesitamos generar vectores (X) y una variable objetivo (y) para entrenar y validar. La matriz de los regresores o variables independientes y la matriz  de la variable dependiente se crean a partir de la matriz 1-D original de la columna scaled_pm2.5. Para el modelo de pronóstico de series de tiempo, los últimos siete días de observaciones se utilizan para predecir el día siguiente, este valor se estudia y se pueden ejercitar distintas ventanas de tiempo. el dia 7 surge de la observación de los gráficos de linea.  Definimos una función que toma la serie de tiempo original y el número de pasos de tiempo en los regresores como entrada para generar las matrices de X e y. </p>"
      ]
    },
    {
      "cell_type": "code",
      "metadata": {
        "id": "U568hfKrsut2"
      },
      "source": [
        "def makeXy(ts, nb_timesteps):\n",
        "    \"\"\"\n",
        "    Input: \n",
        "           ts: serie de tiempo original.\n",
        "           nb_timesteps: Ventana de tiempo.\n",
        "    Output: \n",
        "           X: 2-D array de los regresores o variables independientes.\n",
        "           y: 1-D array de variable dependiente. \n",
        "    \"\"\"\n",
        "    X = []\n",
        "    y = []\n",
        "    for i in range(nb_timesteps, ts.shape[0]): \n",
        "        X.append(list(ts.loc[i-nb_timesteps:i-1]))\n",
        "        y.append(ts.loc[i])\n",
        "    X, y = np.array(X), np.array(y) # Lo tranformamos a nparray\n",
        "    return X, y"
      ],
      "execution_count": null,
      "outputs": []
    },
    {
      "cell_type": "code",
      "metadata": {
        "id": "O9HYzjx2sut4",
        "colab": {
          "base_uri": "https://localhost:8080/"
        },
        "outputId": "8e38d012-43d5-4c7b-902f-d097b97d2600"
      },
      "source": [
        "X_train, y_train = makeXy(df_train['scaled_pm2.5'], 7)\n",
        "print('Shape of train arrays:', X_train.shape, y_train.shape)"
      ],
      "execution_count": null,
      "outputs": [
        {
          "output_type": "stream",
          "name": "stdout",
          "text": [
            "Shape of train arrays: (33089, 7) (33089,)\n"
          ]
        }
      ]
    },
    {
      "cell_type": "code",
      "metadata": {
        "id": "08UoFgp-sut6",
        "colab": {
          "base_uri": "https://localhost:8080/"
        },
        "outputId": "8433f00a-30d9-45bd-e4e2-19507803b715"
      },
      "source": [
        "X_val, y_val = makeXy(df_val['scaled_pm2.5'], 7)\n",
        "print('Shape of validation arrays:', X_val.shape, y_val.shape)"
      ],
      "execution_count": null,
      "outputs": [
        {
          "output_type": "stream",
          "name": "stdout",
          "text": [
            "Shape of validation arrays: (8654, 7) (8654,)\n"
          ]
        }
      ]
    },
    {
      "cell_type": "markdown",
      "metadata": {
        "id": "Z-RTNMVJsut7"
      },
      "source": [
        "### Definiendo el modelo de perceptron de multicapa \n",
        "<p style='text-align: justify;'>\n",
        "Un solo perceptrón solo se puede utilizar para implementar funciones separables linealmente. Toma entradas reales y booleanas y les asocia un conjunto de pesos, junto con un sesgo (el umbral que mencioné anteriormente). Aprendemos los pesos, obtenemos la función. Usemos un perceptrón para aprender una función OR. </p>\n",
        "\n",
        "![Perceptron](https://drive.google.com/uc?export=view&id=1Kp8OYWpZbPX3PNkbsw154Q8KOqbdicuf)\n",
        "\n",
        "\n",
        "\n",
        "![Perceptron Matematica](https://drive.google.com/uc?export=view&id=1_RhrJBSBSsjbpc89XGrX32VDec7WmLXA)\n",
        "\n",
        "\n",
        "<p style='text-align: justify;'>\n",
        "Como su nombre indica, el MLP es esencialmente una combinación de capas de perceptrones entrelazados. Utiliza las salidas de la primera capa como entradas de la siguiente capa hasta que finalmente, después de un número particular de capas, alcanza la capa de salida. Las capas entre las capas de entrada y salida se denominan capas ocultas. Al igual que con el perceptrón, MLP también tiene pesos que se deben ajustar para entrenar el sistema. Estos pesos ahora vienen en forma de matriz en cada unión entre capas. </p>\n",
        "\n",
        "\n",
        "\n",
        "![MLP](https://drive.google.com/uc?export=view&id=15L2S9jFGi_j7E2KNK2p6Gno1_xKZbeQP)\n",
        "\n",
        "\n",
        "<p style='text-align: justify;'>\n",
        "La primera parte de la creación de un MLP es definir una topología y desarrollar el algoritmo feedforward. Feedforward es esencialmente el proceso utilizado para convertir la entrada en una salida. Sin embargo, no es tan simple como en el perceptrón, ya que ahora necesita iterar sobre varias capas. Usando operaciones matriciales</p>"
      ]
    },
    {
      "cell_type": "markdown",
      "metadata": {
        "id": "W6P0ln8Psut8"
      },
      "source": [
        "Ahora definimos el MLP usando el framework de redes neuronales Keras. En este enfoque, una capa se puede declarar como la entrada de la siguiente capa al momento de definir la siguiente capa."
      ]
    },
    {
      "cell_type": "code",
      "metadata": {
        "id": "B04Cze_Esut8"
      },
      "source": [
        "from keras.layers import Dense, Input, Dropout\n",
        "#from keras.optimizers import SGD\n",
        "from keras.models import Model\n",
        "from keras.models import load_model\n",
        "from keras.callbacks import ModelCheckpoint"
      ],
      "execution_count": null,
      "outputs": []
    },
    {
      "cell_type": "code",
      "metadata": {
        "id": "VweptLGEsut-",
        "colab": {
          "base_uri": "https://localhost:8080/"
        },
        "outputId": "ac12f583-9c4e-498a-fa8d-da6c6c54fdd0"
      },
      "source": [
        "#Defina la capa de entrada que tiene forma (, 7) y de tipo float32. Ninguno indica el número de instancias\n",
        "input_layer = Input(shape=(7,), dtype='float32')\n",
        "input_layer"
      ],
      "execution_count": null,
      "outputs": [
        {
          "output_type": "execute_result",
          "data": {
            "text/plain": [
              "<KerasTensor: shape=(None, 7) dtype=float32 (created by layer 'input_1')>"
            ]
          },
          "metadata": {},
          "execution_count": 31
        }
      ]
    },
    {
      "cell_type": "markdown",
      "metadata": {
        "id": "DQL5JmPGsuuB"
      },
      "source": [
        "#### Funciones de activación\n",
        "\n",
        "La función de activación no es más que una función matemática que toma una entrada y produce una salida. La función se activa cuando el resultado calculado alcanza el umbral especificado.\n",
        "![Funcion Activacion](https://drive.google.com/uc?export=view&id=1w3slknVN9VGDmQzHDoPxhRCQZ1xFwmvN)\n",
        "\n"
      ]
    },
    {
      "cell_type": "code",
      "metadata": {
        "id": "MTR5YNJosuuC"
      },
      "source": [
        "#Las capas densas se definen con activación tanh.\n",
        "# nn.Linear(7,32)\n",
        "dense1 = Dense(32, activation='tanh')(input_layer)\n",
        "# nn.Linear(32,16)\n",
        "dense2 = Dense(16, activation='tanh')(dense1)\n",
        "# nn.Linear(16,16)\n",
        "dense3 = Dense(16, activation='tanh')(dense2)"
      ],
      "execution_count": null,
      "outputs": []
    },
    {
      "cell_type": "markdown",
      "metadata": {
        "id": "ykin9QWZsuuE"
      },
      "source": [
        "### Dropout\n",
        "<p style='text-align: justify;'>\n",
        "Múltiples capas ocultas y una gran cantidad de neuronas en cada capa oculta les da a las redes neuronales la capacidad de modelar la no linealidad compleja de las relaciones subyacentes entre los regresores y el objetivo. Sin embargo, las redes neuronales profundas también pueden sobreajustar los datos de validación y dar malos resultados en la validación o el conjunto de pruebas. El dropout se ha utilizado efectivamente para regularizar redes neuronales profundas. En este ejemplo, se agrega una capa de Salida antes de la capa de salida. El dropout establece aleatoriamente p fracción de neuronas de entrada a cero antes de pasar a la siguiente capa. La eliminación aleatoria de entradas actúa esencialmente como un tipo de agrupamiento o metamodelo bagging.  Usamos p = 0.2 para abandonar el 20% de las características de entrada seleccionadas al azar.</p>"
      ]
    },
    {
      "cell_type": "markdown",
      "metadata": {
        "id": "GukKkLA8suuE"
      },
      "source": [
        "<p style='text-align: justify;'>\n",
        "En el aprendizaje automático, la regularización es una forma de evitar el sobreajuste. La regularización reduce el sobreajuste al agregar una penalización a la función de pérdida. Al agregar esta penalización, el modelo se entrena de tal manera que no aprende pesos de conjunto de características interdependientes. Aquellos de ustedes que conocen la Regresión logística pueden estar familiarizados con las penalizaciones L1 (Laplaciana) y L2 (Gaussiana).</p>\n",
        "\n",
        "![Dropout](https://drive.google.com/uc?export=view&id=1WwBQnaNmT2CfkPR439-uR_5pOy-kAluK)\n",
        "\n",
        "\n",
        "El dropout obliga a una red neuronal a aprender características más robustas que son útiles junto con muchos subconjuntos aleatorios diferentes de las otras neuronas. "
      ]
    },
    {
      "cell_type": "code",
      "metadata": {
        "id": "X56KhvNGsuuF"
      },
      "source": [
        "dropout_layer = Dropout(0.2)(dense3)"
      ],
      "execution_count": null,
      "outputs": []
    },
    {
      "cell_type": "code",
      "metadata": {
        "id": "wV-AMyQGsuuH"
      },
      "source": [
        "# Finalmente, la capa de salida da predicción para la presión de aire del día siguiente.\n",
        "# nn.Linear(16,1)\n",
        "output_layer = Dense(1, activation='linear')(dropout_layer)"
      ],
      "execution_count": null,
      "outputs": []
    },
    {
      "cell_type": "markdown",
      "metadata": {
        "id": "vah7sG0PsuuJ"
      },
      "source": [
        "Las capas de entrada, densa y de salida ahora se empaquetarán dentro de un Modelo, que es una clase envolvente para entrenar y hacer predicciones. El box plot de pm2.5 muestra la presencia de valores atípicos. Por lo tanto, el error absoluto medio (MAE) se usa ya que las desviaciones absolutas sufren menos fluctuaciones en comparación con las desviaciones al cuadrado.\n",
        "\n",
        "Los pesos de la red están optimizados por el algoritmo Adam. Adam representa la estimación del momento adaptativo y ha sido una opción popular para entrenar redes neuronales profundas. A diferencia del descenso de gradiente estocástico, Adam usa diferentes tasas de aprendizaje para cada peso y actualiza por separado lo mismo a medida que avanza el entrenamiento. La tasa de aprendizaje de un peso se actualiza con base en promedios móviles ponderados exponencialmente de los gradientes del peso y los gradientes al cuadrado."
      ]
    },
    {
      "cell_type": "markdown",
      "metadata": {
        "id": "GgdrHJolsuuJ"
      },
      "source": [
        "### Loss Functions\n",
        "<p style='text-align: justify;'>\n",
        "Las máquinas aprenden mediante una función de pérdida. Es un método para evaluar qué tan bien el algoritmo específico modela los datos dados. Si las predicciones se desvían demasiado de los resultados reales, la función de pérdida arrojaría un número muy grande. Gradualmente, con la ayuda de alguna función de optimización, la función de pérdida aprende a reducir el error en la predicción. </p>\n",
        "\n",
        "<p style='text-align: justify;'>\n",
        "No existe una función de pérdida única para todos los algoritmos en el aprendizaje automático. Hay varios factores involucrados en la elección de una función de pérdida para un problema específico, como el tipo de algoritmo de aprendizaje automático elegido, la facilidad de calcular las derivadas y, en cierta medida, el porcentaje de valores atípicos en el conjunto de datos.\n",
        "    </p>\n",
        "\n",
        "<p style='text-align: justify;'>\n",
        "    En términos generales, las funciones de pérdida se pueden clasificar en dos categorías principales según el tipo de tarea de aprendizaje con la que nos estamos ocupando: pérdidas de regresión y pérdidas de clasificación. En la clasificación, estamos tratando de predecir la salida del conjunto de valores categóricos finitos, es decir, dado un gran conjunto de datos de imágenes de dígitos escritos a mano, categorizándolos en uno de 0 a 9 dígitos. La regresión, por otro lado, trata de predecir un valor continuo, por ejemplo, dada la superficie del piso, el número de habitaciones, el tamaño de las habitaciones, predecir el precio de la habitación.</p>\n",
        "    \n",
        "**Regression Losses:**\n",
        "\n",
        "1. Mean Square Error (L2) $MSE = \\frac{\\sum_{y=1}^n(y_i - \\hat{y}_i)^2}{n}$\n",
        "\n",
        "Como su nombre indica, el error cuadrático medio se mide como el promedio de la diferencia cuadrática entre las predicciones y las observaciones reales. Solo le preocupa la magnitud promedio del error, independientemente de su dirección. Sin embargo, debido a la cuadratura, las predicciones que están muy lejos de los valores reales se penalizan fuertemente en comparación con las predicciones menos desviadas. Además, MSE tiene buenas propiedades matemáticas que facilitan el cálculo de gradientes.\n",
        "\n",
        "2. Mean Absolute Error (L1) $MAE = \\frac{\\sum_{y=1}^n|y_i - \\hat{y_i}|}{n}$\n",
        "\n",
        "El error absoluto medio, por otro lado, se mide como el promedio de la suma de las diferencias absolutas entre las predicciones y las observaciones reales. Al igual que MSE, esto también mide la magnitud del error sin considerar su dirección. A diferencia de MSE, MAE necesita herramientas más complicadas como la programación lineal para calcular los gradientes. Además, MAE es más robusto para los valores atípicos, ya que no utiliza el cuadrado.\n",
        "\n",
        "3. Mean Bias Error $MBE = \\frac{\\sum_{y=1}^n (y_i - \\hat{y_i})}{n} $\n",
        "\n",
        "**Classification Losses:**\n",
        "\n",
        "1. Cross Entropy Loss = $ -(y_ilog(\\hat{y}_i)+(1-y_i)log(1-\\hat{y_i}))$\n",
        "\n",
        "Tenga en cuenta que cuando la etiqueta real es 1 (y(i) = 1), la segunda mitad de la función desaparece, mientras que en caso de que la etiqueta real sea 0 (y (i) = 0), la primera mitad se descarta. En resumen, solo estamos multiplicando el registro de la probabilidad pronosticada real para la clase de verdad básica. Un aspecto importante de esto es que la pérdida de entropía cruzada penaliza fuertemente las predicciones que son confiables pero erróneas."
      ]
    },
    {
      "cell_type": "markdown",
      "metadata": {
        "id": "4q0yLr81suuJ"
      },
      "source": [
        "#### Metodos de optimización:\n",
        "\n",
        "<p style='text-align: justify;'>\n",
        "El aprendizaje profundo es un proceso iterativo. Con tantos parámetros para ajustar o métodos para probar, es importante poder entrenar modelos rápidamente, para completar rápidamente el ciclo iterativo. Esto es clave para aumentar la velocidad y la eficiencia de un equipo de aprendizaje automático.\n",
        "De ahí la importancia de los algoritmos de optimización, como el descenso de gradiente estocástico, el descenso de gradiente de lote mínimo, el descenso de gradiente con impulso y el optimizador Adam.</p>\n",
        "<p style='text-align: justify;'>\n",
        "Estos métodos hacen posible que nuestra red neuronal aprenda. Sin embargo, algunos métodos funcionan mejor que otros en términos de velocidad. </p>\n",
        "\n",
        "\n",
        "1. Mini-batch gradient descent: El descenso de gradiente tradicional necesita procesar todos los ejemplos de entrenamiento antes de realizar la primera actualización de los parámetros. En su lugar de eso, considere dividir el conjunto de prueba en conjuntos más pequeños. Cada conjunto pequeño se llama mini lote. Digamos que cada mini lote tiene 64 puntos de entrenamiento. ¡Entonces, podríamos entrenar el algoritmo en un mini lote a la vez y dar un paso una vez que se realice el entrenamiento para cada mini lote!\n",
        "\n",
        "2. Gradient descent with momentum: El descenso de gradiente con momentum implica aplicar un suavizado exponencial al gradiente calculado. Esto acelerará el entrenamiento, porque el algoritmo oscilará menos hacia el mínimo y tomará más pasos hacia el mínimo. Por lo general, se utiliza un suavizado exponencial simple, lo que significa que hay dos hiperparámetros más para ajustar: la tasa de aprendizaje alfa y el parámetro de suavizado beta. Por lo general, este método casi siempre funciona mejor que el descenso de gradiente tradicional, y puede combinarse con el descenso de gradiente de mini lotes.\n",
        "\n",
        "3. Adam significa: estimación adaptativa del momento. El método suaviza el gradiente, al igual que el momentum, pero utiliza un enfoque diferente. Se introducen 4 hyperparámetros. $\\alpha, \\beta?1 (0.9), \\beta_2 (0.999), \\epsilon$\n",
        "\n",
        "\n",
        "$$S_{dw} = \\beta_2S_{dw}+(1-\\beta_2)dw^2 $$\n",
        "$$S_{db} = \\beta_2S_{db}+(1-\\beta_2)db^2 $$\n",
        "\n",
        "Entonces \n",
        "\n",
        "$$ w:= w -\\alpha\\frac{dw}{\\sqrt{S_{dw}+ \\epsilon}}$$\n",
        "$$ b:= b -\\alpha\\frac{db}{\\sqrt{S_{db}+ \\epsilon}}$$\n",
        "\n",
        "Adam en Pseudocodigo\n",
        "![Adam](https://drive.google.com/uc?export=view&id=1KtPjaukUkuztA3HsjnDj_5NbxglXsWFO)\n"
      ]
    },
    {
      "cell_type": "markdown",
      "metadata": {
        "id": "6YjpPf7RsuuK"
      },
      "source": [
        "#### Backpropagation\n",
        "\n",
        "<p style='text-align: justify;'>\n",
        "En el aprendizaje automático, la retropropagación es un algoritmo ampliamente utilizado en el entrenamiento de redes neuronales  para el aprendizaje supervisado. Las generalizaciones de la retropropagación existen para otras redes neuronales artificiales (ANN), y para funciones en general, una clase de algoritmos a los que se hace referencia genéricamente como \"retropropagación\". Al ajustar una red neuronal, la propagación hacia atrás calcula el gradiente de la función de pérdida con respecto a los pesos de la red para un solo ejemplo de entrada-salida, y lo hace de manera eficiente, a diferencia de un cálculo directo ingenuo del gradiente con respecto a cada peso individualmente. Esta eficiencia hace posible el uso de métodos de gradiente para entrenar redes multicapa, actualizar pesos para minimizar pérdidas; Descenso de gradiente, o variantes como el descenso de gradiente estocástico, se usan comúnmente. El algoritmo de retropropagación funciona calculando el gradiente de la función de pérdida con respecto a cada peso por la regla de la cadena, calculando el gradiente una capa a la vez, iterando hacia atrás desde la última capa para evitar cálculos redundantes de términos intermedios en la regla de la cadena; Este es un ejemplo de programación dinámica.</p>\n",
        "\n",
        "![Backpropagation](https://drive.google.com/uc?export=view&id=1WZ7CuIk9B88wFtWAcEMsU8OleDVn9RgW)\n",
        "\n"
      ]
    },
    {
      "cell_type": "code",
      "metadata": {
        "id": "0xGR4tZusuuK",
        "colab": {
          "base_uri": "https://localhost:8080/"
        },
        "outputId": "36a0b434-fa54-4d56-87ed-a75a696255df"
      },
      "source": [
        "#\n",
        "ts_model = Model(inputs=input_layer, outputs=output_layer)\n",
        "\n",
        "\n",
        "\n",
        "ts_model.compile(loss='mean_absolute_error', optimizer='adam')\n",
        "\n",
        "ts_model.summary()"
      ],
      "execution_count": null,
      "outputs": [
        {
          "output_type": "stream",
          "name": "stdout",
          "text": [
            "Model: \"model\"\n",
            "_________________________________________________________________\n",
            " Layer (type)                Output Shape              Param #   \n",
            "=================================================================\n",
            " input_1 (InputLayer)        [(None, 7)]               0         \n",
            "                                                                 \n",
            " dense (Dense)               (None, 32)                256       \n",
            "                                                                 \n",
            " dense_1 (Dense)             (None, 16)                528       \n",
            "                                                                 \n",
            " dense_2 (Dense)             (None, 16)                272       \n",
            "                                                                 \n",
            " dropout (Dropout)           (None, 16)                0         \n",
            "                                                                 \n",
            " dense_3 (Dense)             (None, 1)                 17        \n",
            "                                                                 \n",
            "=================================================================\n",
            "Total params: 1,073\n",
            "Trainable params: 1,073\n",
            "Non-trainable params: 0\n",
            "_________________________________________________________________\n"
          ]
        }
      ]
    },
    {
      "cell_type": "markdown",
      "metadata": {
        "id": "wOeqaasisuuN"
      },
      "source": [
        "El modelo se entrena llamando a la función de ajuste en el objeto modelo y pasando el X_train y el y_train. El entrenamiento se realiza para un número predefinido de epochs. Además, batch_size define el número de muestras del conjunto de entrenamiento que se utilizarán para una instancia de propagación inversa. El conjunto de datos de validación también se pasa para evaluar el modelo después de que se complete cada epochs. Un objeto ModelCheckpoint rastrea la función de pérdida en el conjunto de validación y guarda el modelo para el epochs, en la que la función de pérdida ha sido mínima."
      ]
    },
    {
      "cell_type": "code",
      "metadata": {
        "id": "PUsBwZ8ksuuN",
        "colab": {
          "base_uri": "https://localhost:8080/"
        },
        "outputId": "7f39ea77-8bc9-43f8-d988-20aedff2b1a3"
      },
      "source": [
        "path = './models'\n",
        "save_weights_at = os.path.join(path, 'PRSA_data_PM2.5_MLP_weights.{epoch:02d}-{val_loss:.4f}.hdf5')\n",
        "save_best = ModelCheckpoint(save_weights_at, monitor='val_loss', verbose=2,\n",
        "                            save_best_only=True, save_weights_only=False, mode='min',\n",
        "                            period=1)\n",
        "\n",
        "\n",
        "#metodo .fit hace lo que seria las operaciones: forward(), backward() optimizer.step()\n",
        "\n",
        "ts_model.fit(x=X_train, y=y_train, batch_size=16, epochs=20,\n",
        "             verbose=1, callbacks=[save_best], validation_data=(X_val, y_val),\n",
        "             shuffle=True)\n",
        "\n"
      ],
      "execution_count": null,
      "outputs": [
        {
          "output_type": "stream",
          "name": "stdout",
          "text": [
            "WARNING:tensorflow:`period` argument is deprecated. Please use `save_freq` to specify the frequency in number of batches seen.\n",
            "Epoch 1/20\n",
            "2056/2069 [============================>.] - ETA: 0s - loss: 0.0185\n",
            "Epoch 1: val_loss improved from inf to 0.01191, saving model to ./models/PRSA_data_PM2.5_MLP_weights.01-0.0119.hdf5\n",
            "2069/2069 [==============================] - 5s 2ms/step - loss: 0.0185 - val_loss: 0.0119\n",
            "Epoch 2/20\n",
            "2052/2069 [============================>.] - ETA: 0s - loss: 0.0164\n",
            "Epoch 2: val_loss did not improve from 0.01191\n",
            "2069/2069 [==============================] - 4s 2ms/step - loss: 0.0163 - val_loss: 0.0131\n",
            "Epoch 3/20\n",
            "2052/2069 [============================>.] - ETA: 0s - loss: 0.0162\n",
            "Epoch 3: val_loss improved from 0.01191 to 0.01186, saving model to ./models/PRSA_data_PM2.5_MLP_weights.03-0.0119.hdf5\n",
            "2069/2069 [==============================] - 4s 2ms/step - loss: 0.0162 - val_loss: 0.0119\n",
            "Epoch 4/20\n",
            "2044/2069 [============================>.] - ETA: 0s - loss: 0.0163\n",
            "Epoch 4: val_loss did not improve from 0.01186\n",
            "2069/2069 [==============================] - 4s 2ms/step - loss: 0.0163 - val_loss: 0.0141\n",
            "Epoch 5/20\n",
            "2049/2069 [============================>.] - ETA: 0s - loss: 0.0161\n",
            "Epoch 5: val_loss did not improve from 0.01186\n",
            "2069/2069 [==============================] - 4s 2ms/step - loss: 0.0161 - val_loss: 0.0125\n",
            "Epoch 6/20\n",
            "2042/2069 [============================>.] - ETA: 0s - loss: 0.0161\n",
            "Epoch 6: val_loss did not improve from 0.01186\n",
            "2069/2069 [==============================] - 4s 2ms/step - loss: 0.0161 - val_loss: 0.0124\n",
            "Epoch 7/20\n",
            "2053/2069 [============================>.] - ETA: 0s - loss: 0.0162\n",
            "Epoch 7: val_loss did not improve from 0.01186\n",
            "2069/2069 [==============================] - 4s 2ms/step - loss: 0.0162 - val_loss: 0.0158\n",
            "Epoch 8/20\n",
            "2057/2069 [============================>.] - ETA: 0s - loss: 0.0162\n",
            "Epoch 8: val_loss did not improve from 0.01186\n",
            "2069/2069 [==============================] - 4s 2ms/step - loss: 0.0162 - val_loss: 0.0123\n",
            "Epoch 9/20\n",
            "2045/2069 [============================>.] - ETA: 0s - loss: 0.0160\n",
            "Epoch 9: val_loss did not improve from 0.01186\n",
            "2069/2069 [==============================] - 4s 2ms/step - loss: 0.0160 - val_loss: 0.0125\n",
            "Epoch 10/20\n",
            "2044/2069 [============================>.] - ETA: 0s - loss: 0.0159\n",
            "Epoch 10: val_loss did not improve from 0.01186\n",
            "2069/2069 [==============================] - 4s 2ms/step - loss: 0.0159 - val_loss: 0.0122\n",
            "Epoch 11/20\n",
            "2038/2069 [============================>.] - ETA: 0s - loss: 0.0160\n",
            "Epoch 11: val_loss did not improve from 0.01186\n",
            "2069/2069 [==============================] - 4s 2ms/step - loss: 0.0160 - val_loss: 0.0122\n",
            "Epoch 12/20\n",
            "2069/2069 [==============================] - ETA: 0s - loss: 0.0160\n",
            "Epoch 12: val_loss did not improve from 0.01186\n",
            "2069/2069 [==============================] - 4s 2ms/step - loss: 0.0160 - val_loss: 0.0130\n",
            "Epoch 13/20\n",
            "2045/2069 [============================>.] - ETA: 0s - loss: 0.0161\n",
            "Epoch 13: val_loss did not improve from 0.01186\n",
            "2069/2069 [==============================] - 4s 2ms/step - loss: 0.0161 - val_loss: 0.0122\n",
            "Epoch 14/20\n",
            "2038/2069 [============================>.] - ETA: 0s - loss: 0.0160\n",
            "Epoch 14: val_loss did not improve from 0.01186\n",
            "2069/2069 [==============================] - 4s 2ms/step - loss: 0.0160 - val_loss: 0.0127\n",
            "Epoch 15/20\n",
            "2044/2069 [============================>.] - ETA: 0s - loss: 0.0159\n",
            "Epoch 15: val_loss did not improve from 0.01186\n",
            "2069/2069 [==============================] - 4s 2ms/step - loss: 0.0159 - val_loss: 0.0123\n",
            "Epoch 16/20\n",
            "2052/2069 [============================>.] - ETA: 0s - loss: 0.0160\n",
            "Epoch 16: val_loss did not improve from 0.01186\n",
            "2069/2069 [==============================] - 4s 2ms/step - loss: 0.0160 - val_loss: 0.0140\n",
            "Epoch 17/20\n",
            "2038/2069 [============================>.] - ETA: 0s - loss: 0.0161\n",
            "Epoch 17: val_loss did not improve from 0.01186\n",
            "2069/2069 [==============================] - 4s 2ms/step - loss: 0.0161 - val_loss: 0.0130\n",
            "Epoch 18/20\n",
            "2067/2069 [============================>.] - ETA: 0s - loss: 0.0159\n",
            "Epoch 18: val_loss did not improve from 0.01186\n",
            "2069/2069 [==============================] - 4s 2ms/step - loss: 0.0159 - val_loss: 0.0126\n",
            "Epoch 19/20\n",
            "2064/2069 [============================>.] - ETA: 0s - loss: 0.0159\n",
            "Epoch 19: val_loss did not improve from 0.01186\n",
            "2069/2069 [==============================] - 4s 2ms/step - loss: 0.0159 - val_loss: 0.0129\n",
            "Epoch 20/20\n",
            "2043/2069 [============================>.] - ETA: 0s - loss: 0.0161\n",
            "Epoch 20: val_loss did not improve from 0.01186\n",
            "2069/2069 [==============================] - 4s 2ms/step - loss: 0.0161 - val_loss: 0.0125\n"
          ]
        },
        {
          "output_type": "execute_result",
          "data": {
            "text/plain": [
              "<keras.callbacks.History at 0x7fd65f0f7fd0>"
            ]
          },
          "metadata": {},
          "execution_count": 36
        }
      ]
    },
    {
      "cell_type": "markdown",
      "metadata": {
        "id": "B6XVcHlGI4FD"
      },
      "source": [
        "## <font color='green'>**Actividad 2**</font>\n",
        "\n",
        "Proponga, construya y entrene su propia red neuronal. (40 Minutos)"
      ]
    },
    {
      "cell_type": "markdown",
      "metadata": {
        "id": "P3LXjj_tJEGo"
      },
      "source": [
        "<font color='green'>**Fin Actividad 2**</font>"
      ]
    },
    {
      "cell_type": "markdown",
      "metadata": {
        "id": "Jusywo1EJbTF"
      },
      "source": [
        "## <font color='green'>**Actividad 3**</font>\n",
        "\n",
        "Evalue el resultado del modelo (30 minutos). Utilice\n",
        "1. Mae\n",
        "2. R2\n",
        "3. Grafico de linea."
      ]
    },
    {
      "cell_type": "markdown",
      "metadata": {
        "id": "Mcuohs-BsuuP"
      },
      "source": [
        "Se hacen predicciones para el pm2.5 del modelo mejor guardado. Las predicciones del modelo, que están en el pm2.5 escalado, se transforman inversamente para obtener predicciones del pm2.5 original."
      ]
    },
    {
      "cell_type": "code",
      "metadata": {
        "id": "DNy1QGyxsuuQ"
      },
      "source": [
        "best_model = load_model('/content/models/PRSA_data_PM2.5_MLP_weights.03-0.0119.hdf5')\n",
        "preds = best_model.predict(X_val)\n",
        "pred_pm25 = scaler.inverse_transform(preds)\n",
        "pred_pm25 = np.squeeze(pred_pm25)"
      ],
      "execution_count": null,
      "outputs": []
    },
    {
      "cell_type": "code",
      "metadata": {
        "id": "IQSIQHUKsuuR",
        "colab": {
          "base_uri": "https://localhost:8080/"
        },
        "outputId": "ca32b63c-1ea6-45fb-e3ee-10e2c2614442"
      },
      "source": [
        "print(X_val.shape)"
      ],
      "execution_count": null,
      "outputs": [
        {
          "output_type": "stream",
          "name": "stdout",
          "text": [
            "(8654, 7)\n"
          ]
        }
      ]
    },
    {
      "cell_type": "code",
      "source": [
        "pred_pm25.max()"
      ],
      "metadata": {
        "colab": {
          "base_uri": "https://localhost:8080/"
        },
        "id": "9u7DdXQilnKw",
        "outputId": "490b7c87-928a-43f2-d70b-ed78a95b0216"
      },
      "execution_count": null,
      "outputs": [
        {
          "output_type": "execute_result",
          "data": {
            "text/plain": [
              "614.2171"
            ]
          },
          "metadata": {},
          "execution_count": 39
        }
      ]
    },
    {
      "cell_type": "code",
      "source": [
        "y_val_scaled = scaler.inverse_transform([y_val])\n",
        "y_val_scaled = np.squeeze(y_val_scaled)\n",
        "y_val_scaled.max()"
      ],
      "metadata": {
        "colab": {
          "base_uri": "https://localhost:8080/"
        },
        "id": "IQCNTj7hlpuL",
        "outputId": "92239f03-8908-412d-9d5f-30ff921d84b0"
      },
      "execution_count": null,
      "outputs": [
        {
          "output_type": "execute_result",
          "data": {
            "text/plain": [
              "671.0"
            ]
          },
          "metadata": {},
          "execution_count": 45
        }
      ]
    },
    {
      "cell_type": "code",
      "metadata": {
        "id": "BmIoa3UFsuuT"
      },
      "source": [
        "from sklearn.metrics import mean_absolute_error, r2_score"
      ],
      "execution_count": null,
      "outputs": []
    },
    {
      "cell_type": "code",
      "source": [
        "print(mean_absolute_error(y_val_scaled,pred_pm25))\n",
        "print(r2_score(y_val_scaled,pred_pm25))"
      ],
      "metadata": {
        "colab": {
          "base_uri": "https://localhost:8080/"
        },
        "id": "9KA4YmrNl0dS",
        "outputId": "4bf023f1-9439-4982-eca5-e76231dd63d1"
      },
      "execution_count": null,
      "outputs": [
        {
          "output_type": "stream",
          "name": "stdout",
          "text": [
            "11.790005235534798\n",
            "0.9444325183187262\n"
          ]
        }
      ]
    },
    {
      "cell_type": "markdown",
      "metadata": {
        "id": "wP9hmk6JJrZj"
      },
      "source": [
        "<font color='green'>**Fin Actividad 3**</font>"
      ]
    },
    {
      "cell_type": "code",
      "source": [
        ""
      ],
      "metadata": {
        "id": "U-D_Y7i6mCmo"
      },
      "execution_count": null,
      "outputs": []
    }
  ]
}