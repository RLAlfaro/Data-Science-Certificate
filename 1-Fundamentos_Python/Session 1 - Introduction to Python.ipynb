{
 "cells": [
  {
   "cell_type": "markdown",
   "id": "82a5d3c9",
   "metadata": {},
   "source": [
    "## Introduction (Notebook01)"
   ]
  },
  {
   "cell_type": "code",
   "execution_count": 2,
   "id": "604361d9",
   "metadata": {},
   "outputs": [
    {
     "name": "stdout",
     "output_type": "stream",
     "text": [
      "The Zen of Python, by Tim Peters\n",
      "\n",
      "Beautiful is better than ugly.\n",
      "Explicit is better than implicit.\n",
      "Simple is better than complex.\n",
      "Complex is better than complicated.\n",
      "Flat is better than nested.\n",
      "Sparse is better than dense.\n",
      "Readability counts.\n",
      "Special cases aren't special enough to break the rules.\n",
      "Although practicality beats purity.\n",
      "Errors should never pass silently.\n",
      "Unless explicitly silenced.\n",
      "In the face of ambiguity, refuse the temptation to guess.\n",
      "There should be one-- and preferably only one --obvious way to do it.\n",
      "Although that way may not be obvious at first unless you're Dutch.\n",
      "Now is better than never.\n",
      "Although never is often better than *right* now.\n",
      "If the implementation is hard to explain, it's a bad idea.\n",
      "If the implementation is easy to explain, it may be a good idea.\n",
      "Namespaces are one honking great idea -- let's do more of those!\n"
     ]
    }
   ],
   "source": [
    "import this"
   ]
  },
  {
   "cell_type": "markdown",
   "id": "a24046a8",
   "metadata": {},
   "source": [
    "### Variables\n",
    "\n",
    "In Python, you can declare and assign values to variables by this way:"
   ]
  },
  {
   "cell_type": "code",
   "execution_count": 4,
   "id": "23322ce0",
   "metadata": {},
   "outputs": [],
   "source": [
    "x = 2\n",
    "y = 5\n",
    "xy = \"Hey\"\n",
    "a = b = 20 #Even assign the same value to multiple variables,"
   ]
  },
  {
   "cell_type": "code",
   "execution_count": 5,
   "id": "455c7979",
   "metadata": {},
   "outputs": [
    {
     "name": "stdout",
     "output_type": "stream",
     "text": [
      "7 Hey\n",
      "20 20\n"
     ]
    }
   ],
   "source": [
    "print(x + y, xy)\n",
    "print(a, b)"
   ]
  },
  {
   "cell_type": "markdown",
   "id": "079f93f1",
   "metadata": {},
   "source": [
    "### Python ids\n",
    "\n",
    "In some programming languages, you learnt that variables are a kind of boxes to save something, in Python, that concept is different,\n",
    "\n"
   ]
  },
  {
   "cell_type": "code",
   "execution_count": 6,
   "id": "bfc63d5b",
   "metadata": {},
   "outputs": [
    {
     "name": "stdout",
     "output_type": "stream",
     "text": [
      "140722970896176 140722970896176\n"
     ]
    }
   ],
   "source": [
    "a = 1\n",
    "b = 1\n",
    "print(id(a), id(b))"
   ]
  },
  {
   "cell_type": "code",
   "execution_count": 7,
   "id": "234cf77a",
   "metadata": {},
   "outputs": [
    {
     "data": {
      "text/plain": [
       "True"
      ]
     },
     "execution_count": 7,
     "metadata": {},
     "output_type": "execute_result"
    }
   ],
   "source": [
    "id(a) == id(b) == id(1)"
   ]
  },
  {
   "cell_type": "markdown",
   "id": "a1da937c",
   "metadata": {},
   "source": [
    "As you can see, the id of a variable depends on the assigned value."
   ]
  },
  {
   "cell_type": "markdown",
   "id": "c367c6b8",
   "metadata": {},
   "source": [
    "### Arithmetic Operations\n",
    "\n",
    "| Symbol | Task |\n",
    "|:---:|---:|\n",
    "| +  | Addition |\n",
    "| -  | Subtraction |\n",
    "| /  | Division |\n",
    "| %  | Modulo |\n",
    "| *  | Multiplication |\n",
    "| //  | Floor Division |\n",
    "| **  | Exponentiation |\n"
   ]
  },
  {
   "cell_type": "markdown",
   "id": "91bd0220",
   "metadata": {},
   "source": [
    "### Relational Operation\n",
    "\n",
    "| Symbol | Task |\n",
    "|:-----:|---|\n",
    "| == | Equal |\n",
    "| !=  | Not equal |\n",
    "| < | lesser than |\n",
    "| > | higher than |\n",
    "| <=  | lesser or equal to |\n",
    "| >=  | higher or equal to |"
   ]
  },
  {
   "cell_type": "markdown",
   "id": "7bb0d2f0",
   "metadata": {},
   "source": [
    "### Some Interesting Functions"
   ]
  },
  {
   "cell_type": "markdown",
   "id": "77508309",
   "metadata": {},
   "source": [
    "**round(a, b)**: changes the number *a* to the closest natural number, or decimal depending on your input *b*"
   ]
  },
  {
   "cell_type": "code",
   "execution_count": 10,
   "id": "2045a452",
   "metadata": {},
   "outputs": [
    {
     "name": "stdout",
     "output_type": "stream",
     "text": [
      "3\n",
      "3.1416\n"
     ]
    }
   ],
   "source": [
    "print(round(3.1415926535))\n",
    "print(round(3.1415926535,4))"
   ]
  },
  {
   "cell_type": "markdown",
   "id": "13516259",
   "metadata": {},
   "source": [
    "**type()**: returns the \"object type\" of the variable."
   ]
  },
  {
   "cell_type": "code",
   "execution_count": 11,
   "id": "47a265ab",
   "metadata": {},
   "outputs": [
    {
     "name": "stdout",
     "output_type": "stream",
     "text": [
      "<class 'int'> <class 'str'> <class 'float'>\n"
     ]
    }
   ],
   "source": [
    "a = 10\n",
    "b = \"Hello World\"\n",
    "c = 10/3\n",
    "print(type(a), type(b), type(c))"
   ]
  },
  {
   "cell_type": "markdown",
   "id": "0a4e0d46",
   "metadata": {},
   "source": [
    "**range()**: Create a list of elements type range."
   ]
  },
  {
   "cell_type": "code",
   "execution_count": 16,
   "id": "a1273725",
   "metadata": {},
   "outputs": [
    {
     "name": "stdout",
     "output_type": "stream",
     "text": [
      "range(2, 27, 8)\n",
      "4\n",
      "<class 'range'>\n"
     ]
    }
   ],
   "source": [
    "a = range(2, 27, 8)\n",
    "print(a)\n",
    "print(len(a))\n",
    "print(type(a))"
   ]
  },
  {
   "cell_type": "markdown",
   "id": "531c1dad",
   "metadata": {},
   "source": [
    "**help()**: return a detailed description of a function or argument."
   ]
  },
  {
   "cell_type": "code",
   "execution_count": 18,
   "id": "aaec611b",
   "metadata": {},
   "outputs": [],
   "source": [
    "# help(range)\n",
    "# range?"
   ]
  },
  {
   "cell_type": "markdown",
   "id": "f773cdaf",
   "metadata": {},
   "source": [
    "## Printing (Notebook02)\n",
    "\n",
    "Many ways to use print function"
   ]
  },
  {
   "cell_type": "markdown",
   "id": "ea55a9a9",
   "metadata": {},
   "source": [
    "<div class=\"alert alert-block alert-warning\">\n",
    "<b>TIP:</b>In Jupyter notebook you can use bootstrap html to create blocks<br>\n",
    "I found this really interesting\n",
    "</div>"
   ]
  },
  {
   "cell_type": "code",
   "execution_count": 19,
   "id": "df192367",
   "metadata": {},
   "outputs": [
    {
     "name": "stdout",
     "output_type": "stream",
     "text": [
      "My name is <write your name here> and\n",
      "\n",
      "I love Python.\n"
     ]
    }
   ],
   "source": [
    "# You can print using \"\"\" string \"\"\"\n",
    "\n",
    "print (\"\"\"My name is <write your name here> and\n",
    "\n",
    "I love Python.\"\"\")"
   ]
  },
  {
   "cell_type": "markdown",
   "id": "f8b72cba",
   "metadata": {},
   "source": [
    "<font color='red'>**%-formatting**</font> *Obsolete*"
   ]
  },
  {
   "cell_type": "code",
   "execution_count": 3,
   "id": "da667b0c",
   "metadata": {},
   "outputs": [
    {
     "name": "stdout",
     "output_type": "stream",
     "text": [
      "Hola Juan. Tú tienes 34 años.\n"
     ]
    },
    {
     "data": {
      "text/plain": [
       "'Hola Andrea. Tú tienes 38 años.'"
      ]
     },
     "execution_count": 3,
     "metadata": {},
     "output_type": "execute_result"
    }
   ],
   "source": [
    "nombre = \"Juan\"\n",
    "edad = 34\n",
    "nombre2 = \"Andrea\"\n",
    "edad2 = 38\n",
    "\n",
    "# I don't like this format, es hard to work with.\n",
    "print(\"Hola %s. Tú tienes %s años.\" % (nombre, edad))\n",
    "\"Hola %s. Tú tienes %s años.\" % (nombre2, edad2)"
   ]
  },
  {
   "cell_type": "code",
   "execution_count": 4,
   "id": "05b36528",
   "metadata": {},
   "outputs": [
    {
     "name": "stdout",
     "output_type": "stream",
     "text": [
      "Actual Number = 18\n",
      "Float of the number = 18.000000\n",
      "Octal equivalent of the number = 22\n",
      "Hexadecimal equivalent of the number = 12\n",
      "Exponential equivalent of the number = 1.800000e+01\n"
     ]
    }
   ],
   "source": [
    "print (\"Actual Number = %d\" %18)\n",
    "print (\"Float of the number = %f\" %18)\n",
    "print (\"Octal equivalent of the number = %o\" %18)\n",
    "print (\"Hexadecimal equivalent of the number = %x\" %18)\n",
    "print (\"Exponential equivalent of the number = %e\" %18)"
   ]
  },
  {
   "cell_type": "markdown",
   "id": "9194abb0",
   "metadata": {},
   "source": [
    "<font color='blue' size='5'>**Task 1**</font>\n",
    "\n",
    "1. Write the following sentence using str.format()\n",
    "\n",
    "```python\n",
    "The value of Π is   3.14159\n",
    "```\n",
    "\n",
    "2. Generate the following print:\n",
    "\n",
    "```python\n",
    "01234.123\n",
    "00001.123\n",
    "```"
   ]
  },
  {
   "cell_type": "code",
   "execution_count": 5,
   "id": "18ade08b",
   "metadata": {},
   "outputs": [
    {
     "name": "stdout",
     "output_type": "stream",
     "text": [
      "The value of Π is   3.14159\n"
     ]
    }
   ],
   "source": [
    "import math\n",
    "pi = math.pi\n",
    "print(\"The value of Π is {:9.5f}\".format(pi))"
   ]
  },
  {
   "cell_type": "code",
   "execution_count": 6,
   "id": "bc79feb9",
   "metadata": {},
   "outputs": [
    {
     "name": "stdout",
     "output_type": "stream",
     "text": [
      "01234.123\n",
      "00001.123\n"
     ]
    }
   ],
   "source": [
    "a = 1234.123456789\n",
    "b = 1.1234\n",
    "print('{:09.3f}'.format(a))\n",
    "print('{:09.3f}'.format(b))"
   ]
  },
  {
   "cell_type": "markdown",
   "id": "090acabd",
   "metadata": {},
   "source": [
    "<font color='blue' size='3'>**End of task**</font>"
   ]
  },
  {
   "cell_type": "markdown",
   "id": "9d2fa17f",
   "metadata": {},
   "source": [
    "<font color='red'>**%f-string**</font>"
   ]
  },
  {
   "cell_type": "code",
   "execution_count": 8,
   "id": "28cfe113",
   "metadata": {},
   "outputs": [
    {
     "data": {
      "text/plain": [
       "'Hello Pedro, you are 42 years old'"
      ]
     },
     "execution_count": 8,
     "metadata": {},
     "output_type": "execute_result"
    }
   ],
   "source": [
    "# Is similar to str.format(), but with less details and easier to use.\n",
    "\n",
    "name = \"Pedro\"\n",
    "age = \"42\"\n",
    "f\"Hello {name}, you are {age} years old\""
   ]
  },
  {
   "cell_type": "code",
   "execution_count": 9,
   "id": "5bdf2f53",
   "metadata": {},
   "outputs": [
    {
     "data": {
      "text/plain": [
       "'16'"
      ]
     },
     "execution_count": 9,
     "metadata": {},
     "output_type": "execute_result"
    }
   ],
   "source": [
    "# Even you can do aritmetic operations inside an f-string.\n",
    "\n",
    "f'{2 * 8}'"
   ]
  },
  {
   "cell_type": "code",
   "execution_count": 10,
   "id": "f110ccf0",
   "metadata": {},
   "outputs": [
    {
     "name": "stdout",
     "output_type": "stream",
     "text": [
      "Actual Number =  18\n",
      "Float of the number =  18.000000\n",
      "Octal equivalent of the number = 22\n",
      "Hexadecimal equivalent of the number = 12\n",
      "Exponential equivalent of the number = 1.800000e+01\n"
     ]
    }
   ],
   "source": [
    "# IMPORTANT: These are some different notation of f-string.\n",
    "val = 18\n",
    "print (f\"Actual Number = {val: d}\")\n",
    "print (f\"Float of the number = {val: f}\")\n",
    "print (f\"Octal equivalent of the number = {val :o}\")\n",
    "print (f\"Hexadecimal equivalent of the number = {val :x}\")\n",
    "print (f\"Exponential equivalent of the number = {val :e}\")"
   ]
  },
  {
   "cell_type": "code",
   "execution_count": 12,
   "id": "20646ef0",
   "metadata": {},
   "outputs": [
    {
     "name": "stdout",
     "output_type": "stream",
     "text": [
      "         a\n",
      "3.12\n",
      "3.12131\n",
      "  3.12131\n",
      "003.12131\n"
     ]
    }
   ],
   "source": [
    "# Compatible with str.format()\n",
    "val2 = 3.121312312312\n",
    "s1 = 'a'\n",
    "print(f'{s1:>10}') # Padding\n",
    "print(f\"{val2:.2f}\")\n",
    "print(f\"{val2:.5f}\")\n",
    "print(f\"{val2:9.5f}\")\n",
    "print(f\"{val2:09.5f}\")"
   ]
  },
  {
   "cell_type": "markdown",
   "id": "629ace41",
   "metadata": {},
   "source": [
    "## String Management (Notebook04)"
   ]
  },
  {
   "cell_type": "markdown",
   "id": "936dd5e4",
   "metadata": {},
   "source": [
    "### Slicing\n",
    "\n",
    "```py\n",
    "[start : finish : steps]\n",
    "```"
   ]
  },
  {
   "cell_type": "code",
   "execution_count": 1,
   "id": "2a95f92d",
   "metadata": {},
   "outputs": [],
   "source": [
    "alpha = 'abcdef'"
   ]
  },
  {
   "cell_type": "code",
   "execution_count": 3,
   "id": "40b38bb1",
   "metadata": {},
   "outputs": [
    {
     "name": "stdout",
     "output_type": "stream",
     "text": [
      "abc\n",
      "cd\n"
     ]
    },
    {
     "data": {
      "text/plain": [
       "'ace'"
      ]
     },
     "execution_count": 3,
     "metadata": {},
     "output_type": "execute_result"
    }
   ],
   "source": [
    "print(alpha[0:3])\n",
    "print(alpha[2:4])\n",
    "alpha[0:6:2]"
   ]
  },
  {
   "cell_type": "markdown",
   "id": "7741ff13",
   "metadata": {},
   "source": [
    "<font color='blue' size='5'>**Task 1**</font>\n",
    "\n",
    "### Slicing over DNI\n",
    "\n",
    "*RUT(Chilean National ID)*\n",
    "\n",
    "Generate the following results from rut1 and rut2, without dots\n",
    "\n",
    "```py\n",
    "'1995'\n",
    "\n",
    "'0843'\n",
    "```"
   ]
  },
  {
   "cell_type": "code",
   "execution_count": null,
   "id": "941c75b5",
   "metadata": {},
   "outputs": [],
   "source": [
    "rut1 = '9.621.955-4'"
   ]
  },
  {
   "cell_type": "code",
   "execution_count": null,
   "id": "ea7a5b0d",
   "metadata": {},
   "outputs": [],
   "source": [
    "rut2 = '12.190.843-K'"
   ]
  },
  {
   "cell_type": "markdown",
   "id": "1a6fe819",
   "metadata": {},
   "source": [
    "<font color='blue' size='3'>**End of task**</font>"
   ]
  },
  {
   "cell_type": "code",
   "execution_count": null,
   "id": "6bcaa84b",
   "metadata": {},
   "outputs": [],
   "source": []
  },
  {
   "cell_type": "markdown",
   "id": "bfa6335f",
   "metadata": {},
   "source": [
    "<font color='blue' size='5'>**Task 2**</font>"
   ]
  },
  {
   "cell_type": "code",
   "execution_count": null,
   "id": "d66df2a7",
   "metadata": {},
   "outputs": [],
   "source": []
  }
 ],
 "metadata": {
  "kernelspec": {
   "display_name": "Python 3",
   "language": "python",
   "name": "python3"
  },
  "language_info": {
   "codemirror_mode": {
    "name": "ipython",
    "version": 3
   },
   "file_extension": ".py",
   "mimetype": "text/x-python",
   "name": "python",
   "nbconvert_exporter": "python",
   "pygments_lexer": "ipython3",
   "version": "3.8.8"
  }
 },
 "nbformat": 4,
 "nbformat_minor": 5
}
