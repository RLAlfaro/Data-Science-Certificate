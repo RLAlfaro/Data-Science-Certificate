{
 "cells": [
  {
   "cell_type": "markdown",
   "id": "03854dd5",
   "metadata": {},
   "source": [
    "## Tables\n",
    "\n",
    "### Arithmetic Operations\n",
    "\n",
    "| Symbol | Task |\n",
    "|:---:|---:|\n",
    "| +  | Addition |\n",
    "| -  | Subtraction |\n",
    "| /  | Division |\n",
    "| %  | Modulo |\n",
    "| *  | Multiplication |\n",
    "| //  | Floor Division |\n",
    "| **  | Exponentiation |\n"
   ]
  },
  {
   "cell_type": "markdown",
   "id": "e0ac509c",
   "metadata": {},
   "source": [
    "### Task Structure\n",
    "\n",
    "<font color='blue' size='5'>**Task 1**</font>\n",
    "\n",
    "1. Statement\n",
    "\n",
    "```python\n",
    "Python code\n",
    "```\n",
    "\n",
    "<font color='blue' size='3'>**End of task**</font>"
   ]
  },
  {
   "cell_type": "markdown",
   "id": "0ae65a22",
   "metadata": {},
   "source": [
    "### Extra titles\n",
    "\n",
    "## <font color='teal'>**TEXT**</font>\n",
    "\n",
    "<font color='red'>**%f-string**</font>"
   ]
  },
  {
   "cell_type": "code",
   "execution_count": null,
   "id": "b162b961",
   "metadata": {},
   "outputs": [],
   "source": []
  }
 ],
 "metadata": {
  "kernelspec": {
   "display_name": "Python 3",
   "language": "python",
   "name": "python3"
  },
  "language_info": {
   "codemirror_mode": {
    "name": "ipython",
    "version": 3
   },
   "file_extension": ".py",
   "mimetype": "text/x-python",
   "name": "python",
   "nbconvert_exporter": "python",
   "pygments_lexer": "ipython3",
   "version": "3.8.8"
  }
 },
 "nbformat": 4,
 "nbformat_minor": 5
}
