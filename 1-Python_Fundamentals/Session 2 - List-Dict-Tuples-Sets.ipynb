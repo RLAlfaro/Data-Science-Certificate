{
 "cells": [
  {
   "cell_type": "markdown",
   "id": "dd0b12af",
   "metadata": {},
   "source": [
    "# List\n",
    "\n",
    "Strings are a sequence of characters, similarly, lists are a sequence of objects that can contain a variaety of data types, separated by an index."
   ]
  },
  {
   "cell_type": "code",
   "execution_count": 1,
   "id": "fbc8711f",
   "metadata": {},
   "outputs": [
    {
     "data": {
      "text/plain": [
       "list"
      ]
     },
     "execution_count": 1,
     "metadata": {},
     "output_type": "execute_result"
    }
   ],
   "source": [
    "# Empty list\n",
    "list = []\n",
    "type(list)"
   ]
  },
  {
   "cell_type": "markdown",
   "id": "e68aecd9",
   "metadata": {},
   "source": [
    "<font color='blue' size='5'>**Task 1**</font>\n",
    "\n",
    "1. Create your own list with five elements of the same type.\n",
    "\n",
    "2. Create your own list with five elements of diferent types."
   ]
  },
  {
   "cell_type": "code",
   "execution_count": 2,
   "id": "78a945a5",
   "metadata": {},
   "outputs": [
    {
     "name": "stdout",
     "output_type": "stream",
     "text": [
      "[100, 200, 300, 400, 500]\n"
     ]
    }
   ],
   "source": [
    "# Same type\n",
    "\n",
    "h = 100\n",
    "i = 200\n",
    "j = 300\n",
    "k = 400\n",
    "l = 500\n",
    "\n",
    "my_list = [h, i, j, k, l]\n",
    "print(my_list)"
   ]
  },
  {
   "cell_type": "code",
   "execution_count": 3,
   "id": "89bc8789",
   "metadata": {},
   "outputs": [
    {
     "name": "stdout",
     "output_type": "stream",
     "text": [
      "['one', 200, 3.001, [1, 2, 3], True]\n"
     ]
    }
   ],
   "source": [
    "# Different type\n",
    "\n",
    "h = 'one'\n",
    "i = 200\n",
    "j = 3.001\n",
    "k = [1, 2, 3]\n",
    "l = True\n",
    "\n",
    "my_list = [h, i, j, k, l]\n",
    "print(my_list)"
   ]
  },
  {
   "cell_type": "markdown",
   "id": "6d93394e",
   "metadata": {},
   "source": [
    "<font color='blue' size='3'>**End of task**</font>"
   ]
  },
  {
   "cell_type": "markdown",
   "id": "4596b7c6",
   "metadata": {},
   "source": [
    "## <font color='teal'>**Indexing and Slicing**</font>\n",
    "\n",
    "It works in the same way as string!"
   ]
  },
  {
   "cell_type": "code",
   "execution_count": 4,
   "id": "44cd99d4",
   "metadata": {},
   "outputs": [
    {
     "data": {
      "text/plain": [
       "['a', 'b', 'c']"
      ]
     },
     "execution_count": 4,
     "metadata": {},
     "output_type": "execute_result"
    }
   ],
   "source": [
    "mylist = ['a', 'b', 'c', 'd']\n",
    "mylist[0:3]"
   ]
  },
  {
   "cell_type": "markdown",
   "id": "2a454367",
   "metadata": {},
   "source": [
    "<font color='blue' size='5'>**Task 2**</font>\n",
    "\n",
    "1. Get the second and third element of mylist\n",
    "\n",
    "```python\n",
    "['b', 'c']\n",
    "```"
   ]
  },
  {
   "cell_type": "code",
   "execution_count": 5,
   "id": "7aeb647d",
   "metadata": {},
   "outputs": [
    {
     "data": {
      "text/plain": [
       "['b', 'c']"
      ]
     },
     "execution_count": 5,
     "metadata": {},
     "output_type": "execute_result"
    }
   ],
   "source": [
    "mylist[1:3]"
   ]
  },
  {
   "cell_type": "markdown",
   "id": "7d330ef6",
   "metadata": {},
   "source": [
    "<font color='blue' size='3'>**End of task**</font>"
   ]
  },
  {
   "cell_type": "markdown",
   "id": "0eb93e76",
   "metadata": {},
   "source": [
    "## <font color='teal'>**Useful Methods**</font>\n",
    "\n",
    "Methods are functions that belong to an object, in this case, our object is a list, the common structure is:\n",
    "\n",
    "```python\n",
    "     mylist = [1, 2, 3]\n",
    "     mylist.some_method()\n",
    "```    "
   ]
  },
  {
   "cell_type": "code",
   "execution_count": 6,
   "id": "d8292a43",
   "metadata": {},
   "outputs": [
    {
     "name": "stdout",
     "output_type": "stream",
     "text": [
      "[1, 2, 3]\n",
      "[1, 2, 3, 4]\n"
     ]
    }
   ],
   "source": [
    "# Append: add an element to a list\n",
    "mylist = [1, 2, 3]\n",
    "print(mylist)\n",
    "mylist.append(4)\n",
    "print(mylist)"
   ]
  },
  {
   "cell_type": "code",
   "execution_count": 7,
   "id": "3e8f1089",
   "metadata": {},
   "outputs": [
    {
     "name": "stdout",
     "output_type": "stream",
     "text": [
      "[1, 2, 3, 4]\n",
      "[1, 2, 3]\n"
     ]
    }
   ],
   "source": [
    "# pop: Delete the last element of a list\n",
    "print(mylist)\n",
    "mylist.pop()\n",
    "print(mylist)"
   ]
  },
  {
   "cell_type": "code",
   "execution_count": 8,
   "id": "71678960",
   "metadata": {},
   "outputs": [
    {
     "name": "stdout",
     "output_type": "stream",
     "text": [
      "[1, 2, 3]\n",
      "[3, 2, 1]\n"
     ]
    }
   ],
   "source": [
    "# reverse: invert the list\n",
    "print(mylist)\n",
    "mylist.reverse()\n",
    "print(mylist)"
   ]
  },
  {
   "cell_type": "code",
   "execution_count": 9,
   "id": "e436b4d8",
   "metadata": {},
   "outputs": [
    {
     "name": "stdout",
     "output_type": "stream",
     "text": [
      "[3, 2, 1]\n",
      "[1, 2, 3]\n"
     ]
    }
   ],
   "source": [
    "# sort: sort the list by number\n",
    "print(mylist)\n",
    "mylist.sort() \n",
    "print(mylist)"
   ]
  },
  {
   "cell_type": "code",
   "execution_count": 10,
   "id": "3dea752c",
   "metadata": {},
   "outputs": [
    {
     "name": "stdout",
     "output_type": "stream",
     "text": [
      "[1, 2, 3]\n",
      "[1, 2, 'NEW', 3]\n"
     ]
    }
   ],
   "source": [
    "# inset: add an element in a specific location.\n",
    "print(mylist)\n",
    "mylist.insert(2, 'NEW') \n",
    "print(mylist)"
   ]
  },
  {
   "cell_type": "code",
   "execution_count": 11,
   "id": "f8c63172",
   "metadata": {},
   "outputs": [
    {
     "name": "stdout",
     "output_type": "stream",
     "text": [
      "[1, 2, 3, 4]\n",
      "[1, 2, 3, 4]\n",
      "True\n"
     ]
    }
   ],
   "source": [
    "# Deepcopy\n",
    "l = [1, 2, 3]\n",
    "n = l\n",
    "l.append(4)\n",
    "print(n)\n",
    "print(l)\n",
    "print(id(l) == id(n))"
   ]
  },
  {
   "cell_type": "code",
   "execution_count": 12,
   "id": "14efcd8b",
   "metadata": {},
   "outputs": [
    {
     "name": "stdout",
     "output_type": "stream",
     "text": [
      "True\n",
      "True\n",
      "False\n"
     ]
    }
   ],
   "source": [
    "import copy\n",
    "m = copy.deepcopy(l)\n",
    "print(l == n == m)\n",
    "print(id(l) == id(n))\n",
    "print(id(l) == id(m))"
   ]
  },
  {
   "cell_type": "code",
   "execution_count": 13,
   "id": "ec507701",
   "metadata": {},
   "outputs": [
    {
     "name": "stdout",
     "output_type": "stream",
     "text": [
      "True\n",
      "False\n"
     ]
    }
   ],
   "source": [
    "l.append(5)\n",
    "print(f'{l == n}')\n",
    "print(f'{l == m}')"
   ]
  },
  {
   "cell_type": "markdown",
   "id": "02e11008",
   "metadata": {},
   "source": [
    "<font color='blue' size='5'>**Task 3**</font>\n",
    "\n",
    "1. Print the list with the following format:\n",
    "\n",
    "```python\n",
    "Ana, Andrea, Karla, Pedro, Ronny\n",
    "```\n",
    "\n",
    "Not this one...\n",
    "```python\n",
    "['Ana', 'Andrea', 'Karla', 'Pedro', 'Ronny']\n",
    "```"
   ]
  },
  {
   "cell_type": "code",
   "execution_count": 14,
   "id": "b9c3db36",
   "metadata": {},
   "outputs": [
    {
     "name": "stdout",
     "output_type": "stream",
     "text": [
      "Ana, Andrea, Karla, Pedro, Ronny, "
     ]
    }
   ],
   "source": [
    "names = ['Ana', 'Andrea', 'Karla', 'Pedro', 'Ronny']\n",
    "names.sort()\n",
    "\n",
    "for x in names:\n",
    "    print(x, end=', ')"
   ]
  },
  {
   "cell_type": "markdown",
   "id": "539ecf8b",
   "metadata": {},
   "source": [
    "<font color='blue' size='3'>**End of task**</font>"
   ]
  },
  {
   "cell_type": "markdown",
   "id": "31c4d8a3",
   "metadata": {},
   "source": [
    "<font color='blue' size='5'>**Task 4**</font>\n",
    "\n",
    "1. Pick the second element of the nested list\n",
    "\n",
    "2. Delete the last element of the nested list\n",
    "\n",
    "```py\n",
    "new_list = [1, 2, 3, ['a', 'b', 'c']]\n",
    "```"
   ]
  },
  {
   "cell_type": "code",
   "execution_count": 15,
   "id": "fd2f8346",
   "metadata": {},
   "outputs": [],
   "source": [
    "new_list = [1, 2, 3, ['a', 'b', 'c']]"
   ]
  },
  {
   "cell_type": "code",
   "execution_count": 16,
   "id": "c22dd1ff",
   "metadata": {},
   "outputs": [
    {
     "data": {
      "text/plain": [
       "'b'"
      ]
     },
     "execution_count": 16,
     "metadata": {},
     "output_type": "execute_result"
    }
   ],
   "source": [
    "# Answer 1\n",
    "new_list[-1][1]"
   ]
  },
  {
   "cell_type": "code",
   "execution_count": 17,
   "id": "0c247818",
   "metadata": {},
   "outputs": [
    {
     "data": {
      "text/plain": [
       "'c'"
      ]
     },
     "execution_count": 17,
     "metadata": {},
     "output_type": "execute_result"
    }
   ],
   "source": [
    "# Answer 2\n",
    "new_list[-1].pop(-1)"
   ]
  },
  {
   "cell_type": "code",
   "execution_count": 18,
   "id": "1bc18340",
   "metadata": {},
   "outputs": [
    {
     "data": {
      "text/plain": [
       "[1, 2, 3, ['a', 'b']]"
      ]
     },
     "execution_count": 18,
     "metadata": {},
     "output_type": "execute_result"
    }
   ],
   "source": [
    "new_list"
   ]
  },
  {
   "cell_type": "markdown",
   "id": "db88be19",
   "metadata": {},
   "source": [
    "<font color='blue' size='3'>**End of task**</font>"
   ]
  },
  {
   "cell_type": "markdown",
   "id": "e6ff55d8",
   "metadata": {},
   "source": [
    "# Dictionaries\n",
    "\n",
    "Another kind of sequence of objects that can contain a variaety of data types, more useful depending of the situation"
   ]
  },
  {
   "cell_type": "code",
   "execution_count": 19,
   "id": "093e703e",
   "metadata": {},
   "outputs": [
    {
     "data": {
      "text/plain": [
       "dict"
      ]
     },
     "execution_count": 19,
     "metadata": {},
     "output_type": "execute_result"
    }
   ],
   "source": [
    "# Empty Dictionary\n",
    "d = {}\n",
    "type(d)"
   ]
  },
  {
   "cell_type": "code",
   "execution_count": 20,
   "id": "fb3013ec",
   "metadata": {},
   "outputs": [
    {
     "data": {
      "text/plain": [
       "'value1'"
      ]
     },
     "execution_count": 20,
     "metadata": {},
     "output_type": "execute_result"
    }
   ],
   "source": [
    "# You can construct a dictionary with {}, using \":\" to separate between *key* and *value*\n",
    "\n",
    "d = {'key1': 'value1', 'key2': 'value2'}\n",
    "d['key1']"
   ]
  },
  {
   "cell_type": "markdown",
   "id": "ef3bcfe6",
   "metadata": {},
   "source": [
    "<font color='blue' size='5'>**Task 1**</font>\n",
    "\n",
    "1. Create the following Dictionary\n",
    "\n",
    "```py\n",
    "{'elephant': 'loxodonta africana','wolf': 'canis lupus','tiger': 'panthera tigris','mice': 'mus musculus'} \n",
    "```\n",
    "\n",
    "2. Print \"wolf\" with a phrase\n",
    "\n",
    "3. Add two more animals"
   ]
  },
  {
   "cell_type": "code",
   "execution_count": 21,
   "id": "521b9b83",
   "metadata": {},
   "outputs": [],
   "source": [
    "animals = {'elephant': 'loxodonta africana',\n",
    "           'wolf': 'canis lupus',\n",
    "           'tiger': 'panthera tigris',\n",
    "           'mice': 'mus musculus'\n",
    "          } "
   ]
  },
  {
   "cell_type": "code",
   "execution_count": 22,
   "id": "ebdc2d33",
   "metadata": {},
   "outputs": [
    {
     "name": "stdout",
     "output_type": "stream",
     "text": [
      "The wolf`s scientific name is: canis lupus\n"
     ]
    }
   ],
   "source": [
    "print('The wolf`s scientific name is: 'f\"{animals['wolf']}\")"
   ]
  },
  {
   "cell_type": "code",
   "execution_count": 23,
   "id": "4c68bf97",
   "metadata": {},
   "outputs": [],
   "source": [
    "animals['giraffe'] = 'giraffa camelopardalis'\n",
    "animals['dog'] = 'canis lupus familiaris'"
   ]
  },
  {
   "cell_type": "code",
   "execution_count": 24,
   "id": "9068399e",
   "metadata": {},
   "outputs": [
    {
     "data": {
      "text/plain": [
       "{'elephant': 'loxodonta africana',\n",
       " 'wolf': 'canis lupus',\n",
       " 'tiger': 'panthera tigris',\n",
       " 'mice': 'mus musculus',\n",
       " 'giraffe': 'giraffa camelopardalis',\n",
       " 'dog': 'canis lupus familiaris'}"
      ]
     },
     "execution_count": 24,
     "metadata": {},
     "output_type": "execute_result"
    }
   ],
   "source": [
    "animals"
   ]
  },
  {
   "cell_type": "markdown",
   "id": "6baf7590",
   "metadata": {},
   "source": [
    "<font color='blue' size='3'>**End of task**</font>"
   ]
  },
  {
   "cell_type": "code",
   "execution_count": 25,
   "id": "def9694d",
   "metadata": {},
   "outputs": [],
   "source": [
    "# Nested Dictionary examples:\n",
    "d = {'k1': 10, 'k2': 'stringy', 'k3': [1, 2, 3], 'k4': {'inside_key': 100}}"
   ]
  },
  {
   "cell_type": "code",
   "execution_count": 26,
   "id": "61fd2f50",
   "metadata": {},
   "outputs": [
    {
     "name": "stdout",
     "output_type": "stream",
     "text": [
      "1\n",
      "{'inside_key': 100}\n"
     ]
    },
    {
     "data": {
      "text/plain": [
       "100"
      ]
     },
     "execution_count": 26,
     "metadata": {},
     "output_type": "execute_result"
    }
   ],
   "source": [
    "print(d['k3'][0])\n",
    "print(d['k4'])\n",
    "d['k4']['inside_key']"
   ]
  },
  {
   "cell_type": "markdown",
   "id": "2ac3364e",
   "metadata": {},
   "source": [
    "<font color='blue' size='5'>**Task 2**</font>\n",
    "\n",
    "1. Create a dictionary called \"Snakes\"\n",
    "\n",
    "```py\n",
    "snakes = {'viper': 'vipera latastei',\n",
    "           'anaconda': 'eunectes marinus'\n",
    "          } \n",
    "```\n",
    "\n",
    "2. Add it to the animal dictionary"
   ]
  },
  {
   "cell_type": "code",
   "execution_count": 27,
   "id": "e3da78ec",
   "metadata": {},
   "outputs": [],
   "source": [
    "snakes = {'viper': 'vipera latastei',\n",
    "           'anaconda': 'eunectes marinus'\n",
    "          } "
   ]
  },
  {
   "cell_type": "code",
   "execution_count": 28,
   "id": "dca58843",
   "metadata": {},
   "outputs": [],
   "source": [
    "animals['snakes']=snakes"
   ]
  },
  {
   "cell_type": "markdown",
   "id": "f49601eb",
   "metadata": {},
   "source": [
    "<font color='blue' size='3'>**End of task**</font>"
   ]
  },
  {
   "cell_type": "code",
   "execution_count": 29,
   "id": "ee9ec12d",
   "metadata": {},
   "outputs": [
    {
     "data": {
      "text/plain": [
       "dict_keys(['elephant', 'wolf', 'tiger', 'mice', 'giraffe', 'dog', 'snakes'])"
      ]
     },
     "execution_count": 29,
     "metadata": {},
     "output_type": "execute_result"
    }
   ],
   "source": [
    "animals.keys()"
   ]
  },
  {
   "cell_type": "code",
   "execution_count": 30,
   "id": "c7915362",
   "metadata": {},
   "outputs": [
    {
     "data": {
      "text/plain": [
       "dict_values(['loxodonta africana', 'canis lupus', 'panthera tigris', 'mus musculus', 'giraffa camelopardalis', 'canis lupus familiaris', {'viper': 'vipera latastei', 'anaconda': 'eunectes marinus'}])"
      ]
     },
     "execution_count": 30,
     "metadata": {},
     "output_type": "execute_result"
    }
   ],
   "source": [
    "animals.values()"
   ]
  },
  {
   "cell_type": "code",
   "execution_count": 31,
   "id": "d24166ad",
   "metadata": {},
   "outputs": [
    {
     "data": {
      "text/plain": [
       "dict_items([('elephant', 'loxodonta africana'), ('wolf', 'canis lupus'), ('tiger', 'panthera tigris'), ('mice', 'mus musculus'), ('giraffe', 'giraffa camelopardalis'), ('dog', 'canis lupus familiaris'), ('snakes', {'viper': 'vipera latastei', 'anaconda': 'eunectes marinus'})])"
      ]
     },
     "execution_count": 31,
     "metadata": {},
     "output_type": "execute_result"
    }
   ],
   "source": [
    "animals.items()"
   ]
  },
  {
   "cell_type": "code",
   "execution_count": null,
   "id": "c4c0a294",
   "metadata": {},
   "outputs": [],
   "source": []
  }
 ],
 "metadata": {
  "kernelspec": {
   "display_name": "Python 3",
   "language": "python",
   "name": "python3"
  },
  "language_info": {
   "codemirror_mode": {
    "name": "ipython",
    "version": 3
   },
   "file_extension": ".py",
   "mimetype": "text/x-python",
   "name": "python",
   "nbconvert_exporter": "python",
   "pygments_lexer": "ipython3",
   "version": "3.8.8"
  }
 },
 "nbformat": 4,
 "nbformat_minor": 5
}
