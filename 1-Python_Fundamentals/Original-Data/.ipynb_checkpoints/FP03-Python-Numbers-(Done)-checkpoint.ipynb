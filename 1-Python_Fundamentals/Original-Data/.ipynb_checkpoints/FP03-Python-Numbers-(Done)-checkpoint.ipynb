{
 "cells": [
  {
   "cell_type": "markdown",
   "metadata": {
    "id": "sSWsTcdtQQcd"
   },
   "source": [
    "# **Introducción a Pyton**\n",
    "# FP03. Números en Python  \n",
    "\n",
    "En esta clase comenzaremos a discutir los conceptos básicos de trabajar con números en Python. Esto debería ser sencillo."
   ]
  },
  {
   "cell_type": "markdown",
   "metadata": {
    "id": "znij7LLWQQci"
   },
   "source": [
    "## <font color='blue'>**Principales tipos de números**</font>\n",
    "\n",
    "Los **int** son números enteros. <br>Los **float** son números decimales (recuerda que en Python la parte decimal se delimita con un punto y NO con una coma)."
   ]
  },
  {
   "cell_type": "code",
   "execution_count": 1,
   "metadata": {
    "colab": {
     "base_uri": "https://localhost:8080/"
    },
    "executionInfo": {
     "elapsed": 5,
     "status": "ok",
     "timestamp": 1637355049728,
     "user": {
      "displayName": "Maria Julliette Marin Alarcon",
      "photoUrl": "https://lh3.googleusercontent.com/a/default-user=s64",
      "userId": "14948341870893292997"
     },
     "user_tz": 240
    },
    "id": "7tp_KmhUQQcj",
    "outputId": "46fb2783-c005-4013-cd35-b885bd5f8941"
   },
   "outputs": [
    {
     "data": {
      "text/plain": [
       "100"
      ]
     },
     "execution_count": 1,
     "metadata": {},
     "output_type": "execute_result"
    }
   ],
   "source": [
    "100\n"
   ]
  },
  {
   "cell_type": "code",
   "execution_count": 2,
   "metadata": {
    "colab": {
     "base_uri": "https://localhost:8080/"
    },
    "executionInfo": {
     "elapsed": 258,
     "status": "ok",
     "timestamp": 1637355054276,
     "user": {
      "displayName": "Maria Julliette Marin Alarcon",
      "photoUrl": "https://lh3.googleusercontent.com/a/default-user=s64",
      "userId": "14948341870893292997"
     },
     "user_tz": 240
    },
    "id": "gToq-3uhQQck",
    "outputId": "655611ca-1755-4b8c-9aa9-707c8c0811b3"
   },
   "outputs": [
    {
     "data": {
      "text/plain": [
       "int"
      ]
     },
     "execution_count": 2,
     "metadata": {},
     "output_type": "execute_result"
    }
   ],
   "source": [
    "type(100)"
   ]
  },
  {
   "cell_type": "code",
   "execution_count": 3,
   "metadata": {
    "colab": {
     "base_uri": "https://localhost:8080/"
    },
    "executionInfo": {
     "elapsed": 3,
     "status": "ok",
     "timestamp": 1637355056800,
     "user": {
      "displayName": "Maria Julliette Marin Alarcon",
      "photoUrl": "https://lh3.googleusercontent.com/a/default-user=s64",
      "userId": "14948341870893292997"
     },
     "user_tz": 240
    },
    "id": "qHSMbxeuQQcl",
    "outputId": "33e2efd4-ad37-484c-e821-889700fb403a"
   },
   "outputs": [
    {
     "data": {
      "text/plain": [
       "1.25"
      ]
     },
     "execution_count": 3,
     "metadata": {},
     "output_type": "execute_result"
    }
   ],
   "source": [
    "1.25"
   ]
  },
  {
   "cell_type": "code",
   "execution_count": 4,
   "metadata": {
    "colab": {
     "base_uri": "https://localhost:8080/"
    },
    "executionInfo": {
     "elapsed": 4,
     "status": "ok",
     "timestamp": 1637355058598,
     "user": {
      "displayName": "Maria Julliette Marin Alarcon",
      "photoUrl": "https://lh3.googleusercontent.com/a/default-user=s64",
      "userId": "14948341870893292997"
     },
     "user_tz": 240
    },
    "id": "qCODH0fnQQcl",
    "outputId": "cbe834df-79bf-4070-87cd-d5b8a9efa21b"
   },
   "outputs": [
    {
     "data": {
      "text/plain": [
       "float"
      ]
     },
     "execution_count": 4,
     "metadata": {},
     "output_type": "execute_result"
    }
   ],
   "source": [
    "type(1.2)"
   ]
  },
  {
   "cell_type": "code",
   "execution_count": 5,
   "metadata": {
    "colab": {
     "base_uri": "https://localhost:8080/"
    },
    "executionInfo": {
     "elapsed": 248,
     "status": "ok",
     "timestamp": 1637355060405,
     "user": {
      "displayName": "Maria Julliette Marin Alarcon",
      "photoUrl": "https://lh3.googleusercontent.com/a/default-user=s64",
      "userId": "14948341870893292997"
     },
     "user_tz": 240
    },
    "id": "M2nKZ3G6QQcm",
    "outputId": "0beba7ec-c04d-4ec5-e587-3d789a7892cc"
   },
   "outputs": [
    {
     "data": {
      "text/plain": [
       "float"
      ]
     },
     "execution_count": 5,
     "metadata": {},
     "output_type": "execute_result"
    }
   ],
   "source": [
    "type(100.0)"
   ]
  },
  {
   "cell_type": "code",
   "execution_count": 6,
   "metadata": {
    "colab": {
     "base_uri": "https://localhost:8080/"
    },
    "executionInfo": {
     "elapsed": 414,
     "status": "ok",
     "timestamp": 1637355062564,
     "user": {
      "displayName": "Maria Julliette Marin Alarcon",
      "photoUrl": "https://lh3.googleusercontent.com/a/default-user=s64",
      "userId": "14948341870893292997"
     },
     "user_tz": 240
    },
    "id": "QIKykhePQQcn",
    "outputId": "696ad6a5-e754-4f2b-d86b-3483fd85c3a6"
   },
   "outputs": [
    {
     "data": {
      "text/plain": [
       "float"
      ]
     },
     "execution_count": 6,
     "metadata": {},
     "output_type": "execute_result"
    }
   ],
   "source": [
    "type(100.)"
   ]
  },
  {
   "cell_type": "code",
   "execution_count": 7,
   "metadata": {
    "colab": {
     "base_uri": "https://localhost:8080/"
    },
    "executionInfo": {
     "elapsed": 379,
     "status": "ok",
     "timestamp": 1637355065151,
     "user": {
      "displayName": "Maria Julliette Marin Alarcon",
      "photoUrl": "https://lh3.googleusercontent.com/a/default-user=s64",
      "userId": "14948341870893292997"
     },
     "user_tz": 240
    },
    "id": "-M23C7j5QQco",
    "outputId": "8eb8ad53-7a16-4358-d5af-3cf22ce50b3a"
   },
   "outputs": [
    {
     "data": {
      "text/plain": [
       "True"
      ]
     },
     "execution_count": 7,
     "metadata": {},
     "output_type": "execute_result"
    }
   ],
   "source": [
    "100 == 100.0"
   ]
  },
  {
   "cell_type": "code",
   "execution_count": 8,
   "metadata": {
    "colab": {
     "base_uri": "https://localhost:8080/"
    },
    "executionInfo": {
     "elapsed": 241,
     "status": "ok",
     "timestamp": 1637355066933,
     "user": {
      "displayName": "Maria Julliette Marin Alarcon",
      "photoUrl": "https://lh3.googleusercontent.com/a/default-user=s64",
      "userId": "14948341870893292997"
     },
     "user_tz": 240
    },
    "id": "Y1FB8oC0QQcp",
    "outputId": "5f145942-2ad0-4c6f-ad0b-fdee98df88c5"
   },
   "outputs": [
    {
     "data": {
      "text/plain": [
       "False"
      ]
     },
     "execution_count": 8,
     "metadata": {},
     "output_type": "execute_result"
    }
   ],
   "source": [
    "id(100) == id(100.0)"
   ]
  },
  {
   "cell_type": "markdown",
   "metadata": {
    "id": "lJrEdXEOQQcp"
   },
   "source": [
    "## <font color='blue'>**Aritmética básica**</font>"
   ]
  },
  {
   "cell_type": "code",
   "execution_count": 9,
   "metadata": {
    "colab": {
     "base_uri": "https://localhost:8080/"
    },
    "executionInfo": {
     "elapsed": 210,
     "status": "ok",
     "timestamp": 1637355070314,
     "user": {
      "displayName": "Maria Julliette Marin Alarcon",
      "photoUrl": "https://lh3.googleusercontent.com/a/default-user=s64",
      "userId": "14948341870893292997"
     },
     "user_tz": 240
    },
    "id": "DcFwZ5AfQQcq",
    "outputId": "57f9465a-cea0-49d6-cc32-a11930863514"
   },
   "outputs": [
    {
     "data": {
      "text/plain": [
       "2"
      ]
     },
     "execution_count": 9,
     "metadata": {},
     "output_type": "execute_result"
    }
   ],
   "source": [
    "# Suma\n",
    "1 + 1"
   ]
  },
  {
   "cell_type": "code",
   "execution_count": 10,
   "metadata": {
    "colab": {
     "base_uri": "https://localhost:8080/"
    },
    "executionInfo": {
     "elapsed": 229,
     "status": "ok",
     "timestamp": 1637355072439,
     "user": {
      "displayName": "Maria Julliette Marin Alarcon",
      "photoUrl": "https://lh3.googleusercontent.com/a/default-user=s64",
      "userId": "14948341870893292997"
     },
     "user_tz": 240
    },
    "id": "4VO-gYUBQQcq",
    "outputId": "0a50d210-e7fe-41f2-d6e7-5ca6b7c8429f"
   },
   "outputs": [
    {
     "data": {
      "text/plain": [
       "1"
      ]
     },
     "execution_count": 10,
     "metadata": {},
     "output_type": "execute_result"
    }
   ],
   "source": [
    "# Resta\n",
    "2 - 1"
   ]
  },
  {
   "cell_type": "code",
   "execution_count": 11,
   "metadata": {
    "colab": {
     "base_uri": "https://localhost:8080/"
    },
    "executionInfo": {
     "elapsed": 253,
     "status": "ok",
     "timestamp": 1637355074771,
     "user": {
      "displayName": "Maria Julliette Marin Alarcon",
      "photoUrl": "https://lh3.googleusercontent.com/a/default-user=s64",
      "userId": "14948341870893292997"
     },
     "user_tz": 240
    },
    "id": "-x0vIwWsQQcr",
    "outputId": "478f0f8c-359b-47f7-d4c7-6be5f5bc9779"
   },
   "outputs": [
    {
     "data": {
      "text/plain": [
       "4"
      ]
     },
     "execution_count": 11,
     "metadata": {},
     "output_type": "execute_result"
    }
   ],
   "source": [
    "# Multiplicación\n",
    "2 * 2"
   ]
  },
  {
   "cell_type": "code",
   "execution_count": 12,
   "metadata": {
    "colab": {
     "base_uri": "https://localhost:8080/"
    },
    "executionInfo": {
     "elapsed": 263,
     "status": "ok",
     "timestamp": 1637355076859,
     "user": {
      "displayName": "Maria Julliette Marin Alarcon",
      "photoUrl": "https://lh3.googleusercontent.com/a/default-user=s64",
      "userId": "14948341870893292997"
     },
     "user_tz": 240
    },
    "id": "M_CKckrTQQcr",
    "outputId": "d519d001-f863-4cf6-c43b-947e595baac0"
   },
   "outputs": [
    {
     "data": {
      "text/plain": [
       "1.5"
      ]
     },
     "execution_count": 12,
     "metadata": {},
     "output_type": "execute_result"
    }
   ],
   "source": [
    "# División\n",
    "3 / 2"
   ]
  },
  {
   "cell_type": "code",
   "execution_count": 13,
   "metadata": {
    "colab": {
     "base_uri": "https://localhost:8080/"
    },
    "executionInfo": {
     "elapsed": 242,
     "status": "ok",
     "timestamp": 1637355079170,
     "user": {
      "displayName": "Maria Julliette Marin Alarcon",
      "photoUrl": "https://lh3.googleusercontent.com/a/default-user=s64",
      "userId": "14948341870893292997"
     },
     "user_tz": 240
    },
    "id": "XiCfJsnzQQcr",
    "outputId": "16cce944-3997-45a5-d1b7-2e46e67cf342"
   },
   "outputs": [
    {
     "data": {
      "text/plain": [
       "1.0"
      ]
     },
     "execution_count": 13,
     "metadata": {},
     "output_type": "execute_result"
    }
   ],
   "source": [
    "# Considera que la división siempre retorna floats\n",
    "1/1"
   ]
  },
  {
   "cell_type": "code",
   "execution_count": 14,
   "metadata": {
    "colab": {
     "base_uri": "https://localhost:8080/"
    },
    "executionInfo": {
     "elapsed": 230,
     "status": "ok",
     "timestamp": 1637355082081,
     "user": {
      "displayName": "Maria Julliette Marin Alarcon",
      "photoUrl": "https://lh3.googleusercontent.com/a/default-user=s64",
      "userId": "14948341870893292997"
     },
     "user_tz": 240
    },
    "id": "q8gSOfHKQQcs",
    "outputId": "3ec5ed44-384d-4d9d-f144-c23afe2a6f5e"
   },
   "outputs": [
    {
     "data": {
      "text/plain": [
       "8"
      ]
     },
     "execution_count": 14,
     "metadata": {},
     "output_type": "execute_result"
    }
   ],
   "source": [
    "# Potencias\n",
    "2 ** 3"
   ]
  },
  {
   "cell_type": "code",
   "execution_count": 15,
   "metadata": {
    "colab": {
     "base_uri": "https://localhost:8080/"
    },
    "executionInfo": {
     "elapsed": 243,
     "status": "ok",
     "timestamp": 1637355083944,
     "user": {
      "displayName": "Maria Julliette Marin Alarcon",
      "photoUrl": "https://lh3.googleusercontent.com/a/default-user=s64",
      "userId": "14948341870893292997"
     },
     "user_tz": 240
    },
    "id": "IcOsOiHzQQcs",
    "outputId": "068c16c6-03af-4724-e7bd-754bdb49d819"
   },
   "outputs": [
    {
     "data": {
      "text/plain": [
       "1.4142135623730951"
      ]
     },
     "execution_count": 15,
     "metadata": {},
     "output_type": "execute_result"
    }
   ],
   "source": [
    "2 ** (1 / 2)"
   ]
  },
  {
   "cell_type": "markdown",
   "metadata": {
    "id": "1g1DyP2jQQcs"
   },
   "source": [
    "### Orden de las operaciones"
   ]
  },
  {
   "cell_type": "markdown",
   "metadata": {
    "id": "LZ5Z6iTVQQcs"
   },
   "source": [
    "Al igual que ocurre en matemáticas, en programación también tenemos una prioridad en los operadores. Esto significa que si una expresión matemática es precedida por un operador y seguido de otro, el operador más alto en la lista debe ser aplicado por primera vez. Las expresiones con paréntesis se evalúan de dentro a fuera, el paréntesis más interno se evalúa primero. El orden normal de las operaciones es de izquierda a derecha, evaluando en orden los siguientes operadores:\n",
    "\n",
    "* Términos entre paréntesis.\n",
    "* Potenciación y raíces.\n",
    "* Multiplicación y división.\n",
    "* Suma y resta.\n",
    "\n",
    "En Python se representan los operadores con el siguiente orden:\n",
    "```\n",
    "( )\n",
    "**\n",
    "X, /, %, //\n",
    "+, -\n",
    "````"
   ]
  },
  {
   "cell_type": "code",
   "execution_count": 16,
   "metadata": {
    "colab": {
     "base_uri": "https://localhost:8080/"
    },
    "executionInfo": {
     "elapsed": 241,
     "status": "ok",
     "timestamp": 1637355274085,
     "user": {
      "displayName": "Maria Julliette Marin Alarcon",
      "photoUrl": "https://lh3.googleusercontent.com/a/default-user=s64",
      "userId": "14948341870893292997"
     },
     "user_tz": 240
    },
    "id": "W4r2vwH4QQct",
    "outputId": "9be28abf-5150-4241-e9c0-4c0a0ba155f6"
   },
   "outputs": [
    {
     "data": {
      "text/plain": [
       "2002"
      ]
     },
     "execution_count": 16,
     "metadata": {},
     "output_type": "execute_result"
    }
   ],
   "source": [
    "# Orden de la operaciones\n",
    "1 + 2 * 1000 + 1"
   ]
  },
  {
   "cell_type": "code",
   "execution_count": 17,
   "metadata": {
    "colab": {
     "base_uri": "https://localhost:8080/"
    },
    "executionInfo": {
     "elapsed": 213,
     "status": "ok",
     "timestamp": 1637355275586,
     "user": {
      "displayName": "Maria Julliette Marin Alarcon",
      "photoUrl": "https://lh3.googleusercontent.com/a/default-user=s64",
      "userId": "14948341870893292997"
     },
     "user_tz": 240
    },
    "id": "TT_pOe34QQct",
    "outputId": "4a576900-1426-4113-a38e-7eb189a0b3d5"
   },
   "outputs": [
    {
     "data": {
      "text/plain": [
       "3003"
      ]
     },
     "execution_count": 17,
     "metadata": {},
     "output_type": "execute_result"
    }
   ],
   "source": [
    "# Python ejecuta priero los paréntesis\n",
    "(1 + 2) * (1000 + 1)"
   ]
  },
  {
   "cell_type": "code",
   "execution_count": 18,
   "metadata": {
    "colab": {
     "base_uri": "https://localhost:8080/"
    },
    "executionInfo": {
     "elapsed": 219,
     "status": "ok",
     "timestamp": 1637355277909,
     "user": {
      "displayName": "Maria Julliette Marin Alarcon",
      "photoUrl": "https://lh3.googleusercontent.com/a/default-user=s64",
      "userId": "14948341870893292997"
     },
     "user_tz": 240
    },
    "id": "g-Xrmmt6QQct",
    "outputId": "381bd8b5-3a99-470f-a4be-e7605ee05dc7"
   },
   "outputs": [
    {
     "data": {
      "text/plain": [
       "21"
      ]
     },
     "execution_count": 18,
     "metadata": {},
     "output_type": "execute_result"
    }
   ],
   "source": [
    "# Python primero la división y la multiplicación y luego la suma y la resta\n",
    "1 + 10 * 2"
   ]
  },
  {
   "cell_type": "code",
   "execution_count": 19,
   "metadata": {
    "colab": {
     "base_uri": "https://localhost:8080/"
    },
    "executionInfo": {
     "elapsed": 258,
     "status": "ok",
     "timestamp": 1637355280421,
     "user": {
      "displayName": "Maria Julliette Marin Alarcon",
      "photoUrl": "https://lh3.googleusercontent.com/a/default-user=s64",
      "userId": "14948341870893292997"
     },
     "user_tz": 240
    },
    "id": "5Nki9jsCQQct",
    "outputId": "86203aaf-59b0-444c-b5d8-4dedc7565ce8"
   },
   "outputs": [
    {
     "data": {
      "text/plain": [
       "22"
      ]
     },
     "execution_count": 19,
     "metadata": {},
     "output_type": "execute_result"
    }
   ],
   "source": [
    "# Pero al final del día, los paréntesis mandan\n",
    "(1 + 10) * 2"
   ]
  },
  {
   "cell_type": "markdown",
   "metadata": {
    "id": "LTM-xgL6QQcu"
   },
   "source": [
    "## <font color='green'>Actividad 1:</font> \n",
    "### Evalúa mentalmente\n",
    "Evalúa mentalmente las siguientes expresiones y luego descoméntalas y ejecúta la celda para ver si están correctas."
   ]
  },
  {
   "cell_type": "code",
   "execution_count": 20,
   "metadata": {
    "colab": {
     "base_uri": "https://localhost:8080/"
    },
    "executionInfo": {
     "elapsed": 325,
     "status": "ok",
     "timestamp": 1637355293129,
     "user": {
      "displayName": "Maria Julliette Marin Alarcon",
      "photoUrl": "https://lh3.googleusercontent.com/a/default-user=s64",
      "userId": "14948341870893292997"
     },
     "user_tz": 240
    },
    "id": "YdYrMeS8QQcu",
    "outputId": "6b445097-f983-447b-eac5-2d758ccb71e4"
   },
   "outputs": [
    {
     "data": {
      "text/plain": [
       "6.0"
      ]
     },
     "execution_count": 20,
     "metadata": {},
     "output_type": "execute_result"
    }
   ],
   "source": [
    " 10 + (16 - 8) / 2 - 8"
   ]
  },
  {
   "cell_type": "code",
   "execution_count": 21,
   "metadata": {
    "colab": {
     "base_uri": "https://localhost:8080/"
    },
    "executionInfo": {
     "elapsed": 615,
     "status": "ok",
     "timestamp": 1637355300119,
     "user": {
      "displayName": "Maria Julliette Marin Alarcon",
      "photoUrl": "https://lh3.googleusercontent.com/a/default-user=s64",
      "userId": "14948341870893292997"
     },
     "user_tz": 240
    },
    "id": "he3LD9YuQQcu",
    "outputId": "2951109b-0a8d-4103-b588-86b43c9aa690"
   },
   "outputs": [
    {
     "data": {
      "text/plain": [
       "14.0"
      ]
     },
     "execution_count": 21,
     "metadata": {},
     "output_type": "execute_result"
    }
   ],
   "source": [
    " 10 + 16 - 8 / 2 - 8"
   ]
  },
  {
   "cell_type": "markdown",
   "metadata": {
    "id": "8vTNj1TJQQcu"
   },
   "source": [
    "<font color='green'>Fin actividad 1</font> "
   ]
  },
  {
   "cell_type": "markdown",
   "metadata": {
    "id": "zjXfysvUQQcu"
   },
   "source": [
    "## <font color='blue'>**Asignando variables**</font>"
   ]
  },
  {
   "cell_type": "code",
   "execution_count": 22,
   "metadata": {
    "id": "OZeYmrnfQQcu"
   },
   "outputs": [],
   "source": [
    "a = 2.0"
   ]
  },
  {
   "cell_type": "code",
   "execution_count": 23,
   "metadata": {
    "colab": {
     "base_uri": "https://localhost:8080/"
    },
    "executionInfo": {
     "elapsed": 229,
     "status": "ok",
     "timestamp": 1637355306402,
     "user": {
      "displayName": "Maria Julliette Marin Alarcon",
      "photoUrl": "https://lh3.googleusercontent.com/a/default-user=s64",
      "userId": "14948341870893292997"
     },
     "user_tz": 240
    },
    "id": "Fe8dEBZcQQcu",
    "outputId": "85972a3b-af1c-4fac-d280-dc3c591c568f"
   },
   "outputs": [
    {
     "data": {
      "text/plain": [
       "float"
      ]
     },
     "execution_count": 23,
     "metadata": {},
     "output_type": "execute_result"
    }
   ],
   "source": [
    "type(a)"
   ]
  },
  {
   "cell_type": "code",
   "execution_count": 24,
   "metadata": {
    "colab": {
     "base_uri": "https://localhost:8080/"
    },
    "executionInfo": {
     "elapsed": 244,
     "status": "ok",
     "timestamp": 1637355308096,
     "user": {
      "displayName": "Maria Julliette Marin Alarcon",
      "photoUrl": "https://lh3.googleusercontent.com/a/default-user=s64",
      "userId": "14948341870893292997"
     },
     "user_tz": 240
    },
    "id": "6fus578AQQcv",
    "outputId": "52117938-149e-403d-fe11-4ccd84aa559b"
   },
   "outputs": [
    {
     "data": {
      "text/plain": [
       "5.0"
      ]
     },
     "execution_count": 24,
     "metadata": {},
     "output_type": "execute_result"
    }
   ],
   "source": [
    "a + 3"
   ]
  },
  {
   "cell_type": "code",
   "execution_count": 25,
   "metadata": {
    "id": "7b7GA7OYQQcv"
   },
   "outputs": [],
   "source": [
    "b = 3"
   ]
  },
  {
   "cell_type": "code",
   "execution_count": 26,
   "metadata": {
    "colab": {
     "base_uri": "https://localhost:8080/"
    },
    "executionInfo": {
     "elapsed": 224,
     "status": "ok",
     "timestamp": 1637355312445,
     "user": {
      "displayName": "Maria Julliette Marin Alarcon",
      "photoUrl": "https://lh3.googleusercontent.com/a/default-user=s64",
      "userId": "14948341870893292997"
     },
     "user_tz": 240
    },
    "id": "DVqJwqkCQQcv",
    "outputId": "1ed0d463-cddb-48a2-f285-cbc957cc9df3"
   },
   "outputs": [
    {
     "data": {
      "text/plain": [
       "5.0"
      ]
     },
     "execution_count": 26,
     "metadata": {},
     "output_type": "execute_result"
    }
   ],
   "source": [
    "a + b"
   ]
  },
  {
   "cell_type": "code",
   "execution_count": 27,
   "metadata": {
    "colab": {
     "base_uri": "https://localhost:8080/"
    },
    "executionInfo": {
     "elapsed": 588,
     "status": "ok",
     "timestamp": 1637355321464,
     "user": {
      "displayName": "Maria Julliette Marin Alarcon",
      "photoUrl": "https://lh3.googleusercontent.com/a/default-user=s64",
      "userId": "14948341870893292997"
     },
     "user_tz": 240
    },
    "id": "46J8nNt0QQcv",
    "outputId": "8a6b20d9-36ce-4f61-c183-6767f0585725"
   },
   "outputs": [
    {
     "name": "stdout",
     "output_type": "stream",
     "text": [
      "El valor actual de a es 2.0\n",
      "El nuevo valor de a es 1000\n"
     ]
    }
   ],
   "source": [
    "print(f'El valor actual de a es {a}')\n",
    "\n",
    "# Reasignamos\n",
    "a = 1000\n",
    "\n",
    "print(f'El nuevo valor de a es {a}')"
   ]
  },
  {
   "cell_type": "code",
   "execution_count": 28,
   "metadata": {
    "id": "wIuatERnQQcv"
   },
   "outputs": [
    {
     "data": {
      "text/plain": [
       "1003"
      ]
     },
     "execution_count": 28,
     "metadata": {},
     "output_type": "execute_result"
    }
   ],
   "source": [
    "a + b"
   ]
  },
  {
   "cell_type": "markdown",
   "metadata": {
    "id": "sR7rrd2EQQcv"
   },
   "source": [
    "## <font color='blue'>**Python tipado dinámico**</font>\n",
    "\n",
    "Existen dos tipos de tipado:\n",
    "* Estático\n",
    "* Dinámico\n",
    "\n",
    "En los lenguajes estáticos, cuando declaramos una variable es necesario especificar el tipo que tiene y ese tipo es inalterable:\n",
    "```Javascript\n",
    "String nombre = 'Héctor'; // java\n",
    "```\n",
    "En cambio en lenguajes como Python no es necesario establecer un tipo y además puede cambiar en cualquier momento, eso es porque viene determinado en tiempo de ejecución por el valor asignado a la variable:"
   ]
  },
  {
   "cell_type": "code",
   "execution_count": 29,
   "metadata": {
    "colab": {
     "base_uri": "https://localhost:8080/"
    },
    "executionInfo": {
     "elapsed": 235,
     "status": "ok",
     "timestamp": 1637355359190,
     "user": {
      "displayName": "Maria Julliette Marin Alarcon",
      "photoUrl": "https://lh3.googleusercontent.com/a/default-user=s64",
      "userId": "14948341870893292997"
     },
     "user_tz": 240
    },
    "id": "rp3wCzFpQQcw",
    "outputId": "16646652-2357-4821-a775-4db496e956c5"
   },
   "outputs": [
    {
     "data": {
      "text/plain": [
       "str"
      ]
     },
     "execution_count": 29,
     "metadata": {},
     "output_type": "execute_result"
    }
   ],
   "source": [
    "nombre = 'Héctor'\n",
    "type(nombre)"
   ]
  },
  {
   "cell_type": "code",
   "execution_count": 30,
   "metadata": {
    "colab": {
     "base_uri": "https://localhost:8080/"
    },
    "executionInfo": {
     "elapsed": 4,
     "status": "ok",
     "timestamp": 1637355361054,
     "user": {
      "displayName": "Maria Julliette Marin Alarcon",
      "photoUrl": "https://lh3.googleusercontent.com/a/default-user=s64",
      "userId": "14948341870893292997"
     },
     "user_tz": 240
    },
    "id": "zeRqR2LiQQcw",
    "outputId": "ec91361e-e3ba-4453-bed2-1e3fafa82309"
   },
   "outputs": [
    {
     "data": {
      "text/plain": [
       "int"
      ]
     },
     "execution_count": 30,
     "metadata": {},
     "output_type": "execute_result"
    }
   ],
   "source": [
    "nombre = 50\n",
    "type(nombre)"
   ]
  },
  {
   "cell_type": "markdown",
   "metadata": {
    "id": "6U6gVb_vQQcw"
   },
   "source": [
    "### Reasignar con la misma variable"
   ]
  },
  {
   "cell_type": "code",
   "execution_count": 31,
   "metadata": {
    "colab": {
     "base_uri": "https://localhost:8080/"
    },
    "executionInfo": {
     "elapsed": 243,
     "status": "ok",
     "timestamp": 1637355375350,
     "user": {
      "displayName": "Maria Julliette Marin Alarcon",
      "photoUrl": "https://lh3.googleusercontent.com/a/default-user=s64",
      "userId": "14948341870893292997"
     },
     "user_tz": 240
    },
    "id": "QWeXNhbhQQcw",
    "outputId": "88c23ed6-c3ed-4b1e-8bf4-549bdf57c96b"
   },
   "outputs": [
    {
     "data": {
      "text/plain": [
       "1000"
      ]
     },
     "execution_count": 31,
     "metadata": {},
     "output_type": "execute_result"
    }
   ],
   "source": [
    "a"
   ]
  },
  {
   "cell_type": "code",
   "execution_count": 32,
   "metadata": {
    "id": "WVSJKyx1QQcw"
   },
   "outputs": [],
   "source": [
    "# Ten en mente qye si ejecutas esta celda más de una vez estarás ejecutando a = a + a \n",
    "a = a + a"
   ]
  },
  {
   "cell_type": "code",
   "execution_count": 33,
   "metadata": {
    "colab": {
     "base_uri": "https://localhost:8080/"
    },
    "executionInfo": {
     "elapsed": 242,
     "status": "ok",
     "timestamp": 1637355381163,
     "user": {
      "displayName": "Maria Julliette Marin Alarcon",
      "photoUrl": "https://lh3.googleusercontent.com/a/default-user=s64",
      "userId": "14948341870893292997"
     },
     "user_tz": 240
    },
    "id": "AMOjv1SBQQcx",
    "outputId": "545c76a7-cce4-40c4-ea51-5a31b83f0b66"
   },
   "outputs": [
    {
     "data": {
      "text/plain": [
       "2000"
      ]
     },
     "execution_count": 33,
     "metadata": {},
     "output_type": "execute_result"
    }
   ],
   "source": [
    "a"
   ]
  },
  {
   "cell_type": "code",
   "execution_count": 34,
   "metadata": {
    "id": "hn3Xu8xRQQcx"
   },
   "outputs": [],
   "source": [
    "a = a + a"
   ]
  },
  {
   "cell_type": "code",
   "execution_count": 35,
   "metadata": {
    "colab": {
     "base_uri": "https://localhost:8080/"
    },
    "executionInfo": {
     "elapsed": 226,
     "status": "ok",
     "timestamp": 1637355385246,
     "user": {
      "displayName": "Maria Julliette Marin Alarcon",
      "photoUrl": "https://lh3.googleusercontent.com/a/default-user=s64",
      "userId": "14948341870893292997"
     },
     "user_tz": 240
    },
    "id": "3911SuXSQQcx",
    "outputId": "6eb96324-46dc-4d95-90b2-858592651b04"
   },
   "outputs": [
    {
     "data": {
      "text/plain": [
       "4000"
      ]
     },
     "execution_count": 35,
     "metadata": {},
     "output_type": "execute_result"
    }
   ],
   "source": [
    "a"
   ]
  },
  {
   "cell_type": "markdown",
   "metadata": {
    "id": "2sV28xiXQQcx"
   },
   "source": [
    "## <font color='green'>Actividad 2:</font> \n",
    "### Tipado dinámico\n",
    "Crea una variable string, imprimela y luego reasignala como float y vuelve a imprimirta. \n",
    "Investiga y evalua las ventajas y desventajas de esta caractarística de Python."
   ]
  },
  {
   "cell_type": "code",
   "execution_count": 36,
   "metadata": {
    "colab": {
     "base_uri": "https://localhost:8080/"
    },
    "executionInfo": {
     "elapsed": 22,
     "status": "ok",
     "timestamp": 1638489477042,
     "user": {
      "displayName": "Maria Julliette Marin Alarcon",
      "photoUrl": "https://lh3.googleusercontent.com/a/default-user=s64",
      "userId": "14948341870893292997"
     },
     "user_tz": 240
    },
    "id": "cT2s1ftsQQcx",
    "outputId": "538b72ee-1064-442b-dfc5-ebc34fbcf160"
   },
   "outputs": [
    {
     "name": "stdout",
     "output_type": "stream",
     "text": [
      "Sol\n",
      "2.0\n"
     ]
    }
   ],
   "source": [
    "# Tu código aquí ...\n",
    "# Creación de variable de tipo string\n",
    "variable ='Sol'\n",
    "# Impresión de variable \n",
    "print(variable)\n",
    "# Reasignación de variable a flotante\n",
    "variable = 2.0\n",
    "# Impresión de variable\n",
    "print(variable)"
   ]
  },
  {
   "cell_type": "markdown",
   "metadata": {
    "id": "Z-H8zmFeQQcx"
   },
   "source": [
    "<font color='green'>Fin actividad 2</font>"
   ]
  },
  {
   "cell_type": "markdown",
   "metadata": {
    "id": "O5x6ieTmQQcy"
   },
   "source": [
    "Excelente chicos! Tiempo de ver otros tipos de datos básicos."
   ]
  }
 ],
 "metadata": {
  "colab": {
   "name": "FP03-Python-Numbers-ok.ipynb",
   "provenance": []
  },
  "kernelspec": {
   "display_name": "Python 3 (ipykernel)",
   "language": "python",
   "name": "python3"
  },
  "language_info": {
   "codemirror_mode": {
    "name": "ipython",
    "version": 3
   },
   "file_extension": ".py",
   "mimetype": "text/x-python",
   "name": "python",
   "nbconvert_exporter": "python",
   "pygments_lexer": "ipython3",
   "version": "3.10.5"
  }
 },
 "nbformat": 4,
 "nbformat_minor": 1
}
