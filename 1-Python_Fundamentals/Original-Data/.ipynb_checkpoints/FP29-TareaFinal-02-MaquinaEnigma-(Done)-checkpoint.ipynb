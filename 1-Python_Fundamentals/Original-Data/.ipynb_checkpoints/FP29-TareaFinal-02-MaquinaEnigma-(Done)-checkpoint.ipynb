{
 "cells": [
  {
   "cell_type": "markdown",
   "metadata": {
    "id": "MQ6yZ8wBbSP6"
   },
   "source": [
    "# **Introducción a Python**\n",
    "# FP29. Tarea Final 02\n",
    "## Máquina Enigma\n",
    "¡Bienvenido Agente! Nos encontramos en pleno conflicto y hemos encontrado los planos de una  [Máquina Enigma](https://es.wikipedia.org/wiki/Enigma_(máquina)) enemiga. Necesitamos que configures una máquina que nos ayude a descifrar los mensajes que interceptamos.\n",
    "La máquina posee tres rotores y un reflector. Cada rotor es un disco circular plano con 26 contactos eléctricos en cada cara, uno por cada letra del alfabeto. Cada contacto de una cara está conectado o cableado a un contacto diferente de la cara contraria. Por ejemplo, en un rotor en particular, el contacto número 1 de una cara puede estar conectado con el contacto número 14 en la otra cara y el contacto número 5 de una cara con el número 22 de la otra.\n",
    "\n",
    "Como cada rotor está en contacto con el otro, lo anterior permite ir cambiando el indice de las letras de entrada, configurando así una criptografía muy compleja de resolver en aquellos tiempos. Estos rotores se conocen como.\n",
    "\n",
    "* Rotor derecho\n",
    "* Rotor medio\n",
    "* Rotor izquierdo\n",
    "* Reflector\n",
    "\n",
    "Mira este video para que entiendas mejor el concepto le la [Máquina Enigma](https://youtu.be/VnsTHAH5yAE)."
   ]
  },
  {
   "cell_type": "markdown",
   "metadata": {
    "id": "wgXcadS-bSP9"
   },
   "source": [
    "## Estructura de los rotores\n",
    "\n",
    "Los tres rotores (izquierdo, medio y derecho) tienen el alfabeto de 26 letras ordenadas en su sección de entrada y las mismas 26 letras desordenadas en su sección de salida.<br>\n",
    "El reflector, posee solo 13 letra, las cuales están repetidas 2 veces cada una y están repartidas aleatoriamente en el dispositivo. El punto en donde la señal del rotor izquierdo pasa al reflector, determina la letra de entrada; la salida será por la letra que conforma la pareja.\n",
    "\n",
    "Esta es la configuración que hemos encontrado:\n",
    "\n",
    "```python\n",
    "\"\"\"\n",
    "Reflector  Rot_izd   Rot_med   Rot_der  Teclado\n",
    "    A       A - E     A - A     A - B      A\n",
    "    B       B - K     B - J     B - D      B\n",
    "    C       C - M     C - D     C - F      C\n",
    "    D       D - F     D - K     D - H      D\n",
    "    E       E - L     E - S     E - J      E\n",
    "    F       F - G     F - I     F - L      F\n",
    "    G       G - D     G - R     G - C      G\n",
    "    D       H - Q     H - U     H - P      H\n",
    "    I       I - V     I - X     I - R      I\n",
    "    J       J - Z     J - B     J - T      J\n",
    "    K       K - N     K - L     K - X      K\n",
    "    G       L - T     L - H     L - V      L\n",
    "    M       M - O     M - W     M - Z      M\n",
    "    K       N - W     N - T     N - N      N\n",
    "    M       O - Y     O - M     O - Y      O\n",
    "    I       P - H     P - C     P - E      P\n",
    "    E       Q - X     Q - Q     Q - I      Q\n",
    "    B       R - U     R - G     R - W      R\n",
    "    F       S - S     S - Z     S - G      S\n",
    "    T       T - P     T - N     T - A      T\n",
    "    C       U - A     U - P     U - K      U\n",
    "    V       V - I     V - Y     V - M      V\n",
    "    V       W - B     W - F     W - U      W\n",
    "    J       X - R     X - V     X - S      X\n",
    "    A       Y - C     Y - O     Y - Q      Y\n",
    "    T       Z - J     Z - E     Z - O      Z\n",
    "\"\"\"\n",
    "```"
   ]
  },
  {
   "cell_type": "markdown",
   "metadata": {
    "id": "Jj8PqzOvbSP-"
   },
   "source": [
    "## Funcionamiento general\n",
    "Cada vez que un usuario presiona una tecla en el Teclado (columna derecha del diagrama anterior), ocurre lo siguiente:\n",
    "1. El Rotor_derecho avanza una posición hacia arriba, i.e., la combinación 'A - B' pasa al final de la lista y el primer lugar lo ocupa 'B - D'\n",
    "2. Se obtiene la posición en la lista (Teclado) de la tecla presionada por el operador . \n",
    "3. La posición obtenida en el punto 2, se utiliza para buscar la letra en la sección derecha del Rotor_derecho que está en la misma posición (frente a frente). En esa posición existe una letra a la cual llamaremos Letra_entrada.\n",
    "4. En el Rotor_derecho se busca la posición de la Letra_entrada en la sección de salida. Esta será la posición de salida del rotor.\n",
    "5. Se repiten los pasos anteriores, 3 y 4, en el Rotor_medio; esta vez la posición de entrada es equivalente a la posición de salida del punto 4.\n",
    "6. Se repiten los pasos anteriores, 3 y 4, en el Rotor_izquierdo.\n",
    "7. Con la posición de salida del Rotor_izquierdo se entra en el Reflector. En la posición de entrada en el Reflector hay una letra. Se buscará entonces la otra letra equivalente dentro del Reflector. Esto determinará la posición de salida.\n",
    "8. Con esta posición (la de salida del Reflector) se invierte el proceso, es decir, se busca la letra que está en contacto con el rotor anterior y se busca la posición de dicha letra en la salida del rotor. Este proceso se repite sucesivamente con los rotores izquierdo, medio y derecho.\n",
    "9. La posición de salida del Rotor_derecho marcará la posición en el Teclado, indicando la letra encriptada."
   ]
  },
  {
   "cell_type": "markdown",
   "metadata": {
    "id": "6YGzsSSmbSP-"
   },
   "source": [
    "## Algunos detalles adicionales\n",
    "Cada vez que procesamos una letra, primero rotamos una posición el Rotor_derecho (hacia arriba).\n",
    "Cuando la letra \"V\" de la componente ordenada (iquierda) del Rotor_derecho alcanza la posición inicial en la lista, se gira una posición hacia arriba el Rotor_medio.\n",
    "Lo mismo ocurre cuando la letra 'Q' de la componente ordenada (iquierda) del Rotor_medio llega al inicio, en este caso, se avanza una posición hacia arriba el Rotor_izquierdo."
   ]
  },
  {
   "cell_type": "markdown",
   "metadata": {
    "id": "CLQM5D63bSP_"
   },
   "source": [
    "## Más detalles\n",
    "Esto no termina aquí. Para hacer más difícil el trabajo de desencriptación, la máquina tiene la posibilidad de fijar la posición inicial de los tres rotores centrales (izquierdo, medio y derecho). Para esto se elige una clave de tres letras, las cuales marcan la posición inicial de la primera letra de la sección ordenada (izquierda) de cada rotor. Por ejemplo la clave <font color='red'>'MCK'</font> dejaría los rotores de la siguiente forma:\n",
    "\n",
    "```Python\n",
    "\"\"\"\n",
    "Reflector  Rot_izd   Rot_med   Rot_der  Teclado\n",
    "    A       M - O     C - D     K - X      A\n",
    "    B       N - W     D - K     L - V      B\n",
    "    C       O - Y     E - S     M - Z      C\n",
    "    D       P - H     F - I     N - N      D\n",
    "    E       Q - X     G - R     O - Y      E\n",
    "    F       R - U     H - U     P - E      F\n",
    "    G       S - S     I - X     Q - I      G\n",
    "    D       T - P     J - B     R - W      H\n",
    "    I       U - A     K - L     S - G      I\n",
    "    J       V - I     L - H     T - A      J\n",
    "    K       W - B     M - W     U - K      K\n",
    "    G       X - R     N - T     V - M      L\n",
    "    M       Y - C     O - M     W - U      M\n",
    "    K       Z - J     P - C     X - S      N\n",
    "    M       A - E     Q - Q     Y - Q      O\n",
    "    I       B - K     R - G     Z - O      P\n",
    "    E       C - M     S - Z     A - B      Q\n",
    "    B       D - F     T - N     B - D      R\n",
    "    F       E - L     U - P     C - F      S\n",
    "    T       F - G     V - Y     D - H      T\n",
    "    C       G - D     W - F     E - J      U\n",
    "    V       H - Q     X - V     F - L      V\n",
    "    V       I - V     Y - O     G - C      W\n",
    "    J       J - Z     Z - E     H - P      X\n",
    "    A       K - N     A - A     I - R      Y\n",
    "    T       L - T     B - J     J - T      Z\n",
    "\"\"\"\n",
    "```\n",
    "Fíjate que ni el Teclado ni el Reflector cambian, solo los rotores izquierdo, medio y derecho."
   ]
  },
  {
   "cell_type": "markdown",
   "metadata": {
    "id": "PeA4-UywbSQA"
   },
   "source": [
    "Aquí te dejamos algunos videos con la misma explicación:\n",
    "    \n",
    "[Criptografía - Máquina Enigma, funcionamiento detallado](https://youtu.be/XK_1gUo8YDE)\n"
   ]
  },
  {
   "cell_type": "markdown",
   "metadata": {
    "id": "otzqo7SWbSQA"
   },
   "source": [
    "## <font color='green'>Misión</font>\n",
    "\n",
    "Con los planos obtenidos, debes programar en Python tu propia Máquina Enigma. Cuando hayas terminado, se te dará un mensaje cifrado que deberás decodificar para aprobar el curso.\n",
    "\n",
    "Tu misión consiste en lo siguiente:<br>\n",
    "1. Programar la lógica de la máquina utilizando la información de los rotores conseguidos\n",
    "2. Ingresar una clave inicial (te será dada)\n",
    "3. Decodificar el mensaje correctamente\n",
    "\n",
    "Tips:\n",
    "\n",
    "1. Con la clave <font color='red'>'MCK'</font>, la frace **\"ENIGMA REVEALED\"** debiera encriptarse como **'QMJIDOMZWZJFJR\"** y viceversa.\n",
    "2. Recuerda usa stackoverflow e internet para buscar sintaxis y funciones.\n",
    "3. Divide el desafío en tantos problemas pequeños como puedas. "
   ]
  },
  {
   "cell_type": "markdown",
   "metadata": {
    "id": "bnPXoxdIbSQA"
   },
   "source": [
    "## <font color='green'>Tarea 1:</font> Cablea los rotores\n",
    "\n",
    "Crea los cableados de los rotores \n",
    "\n",
    "TIP:\n",
    "1. Crea lista con las secuencias\n",
    "2. Utiliza los strings proporcionados y conviértelos a listas con **split( )**\n"
   ]
  },
  {
   "cell_type": "code",
   "execution_count": 1,
   "metadata": {
    "colab": {
     "base_uri": "https://localhost:8080/"
    },
    "executionInfo": {
     "elapsed": 350,
     "status": "ok",
     "timestamp": 1638553037426,
     "user": {
      "displayName": "Maria Julliette Marin Alarcon",
      "photoUrl": "https://lh3.googleusercontent.com/a/default-user=s64",
      "userId": "14948341870893292997"
     },
     "user_tz": 240
    },
    "id": "kZCA7cQgbSQB",
    "outputId": "0eca2ee4-8979-467e-9654-605ca9de7924"
   },
   "outputs": [
    {
     "name": "stdout",
     "output_type": "stream",
     "text": [
      "Rotor : ['A', 'B', 'C', 'D', 'E', 'F', 'G', 'H', 'I', 'J', 'K', 'L', 'M', 'N', 'O', 'P', 'Q', 'R', 'S', 'T', 'U', 'V', 'W', 'X', 'Y', 'Z']\n"
     ]
    }
   ],
   "source": [
    "# Componente ordenada de los rotores \n",
    "st = 'A B C D E F G H I J K L M N O P Q R S T U V W X Y Z'\n",
    "\n",
    "# Convierte el string 'st' en una lista\n",
    "# Tu código aquí ...\n",
    "rotor = st.split(' ')\n",
    "print(f\"Rotor : {rotor}\")"
   ]
  },
  {
   "cell_type": "code",
   "execution_count": 2,
   "metadata": {
    "colab": {
     "base_uri": "https://localhost:8080/"
    },
    "executionInfo": {
     "elapsed": 4,
     "status": "ok",
     "timestamp": 1638458373837,
     "user": {
      "displayName": "Patricio Fontecilla Romero",
      "photoUrl": "https://lh3.googleusercontent.com/a/default-user=s64",
      "userId": "09386735086073567609"
     },
     "user_tz": 180
    },
    "id": "YxCSSmrnbSQB",
    "outputId": "52256cec-973a-4bc1-82db-a744f1ae0fe0"
   },
   "outputs": [
    {
     "name": "stdout",
     "output_type": "stream",
     "text": [
      "Reflector : ['A', 'B', 'C', 'D', 'E', 'F', 'G', 'D', 'I', 'J', 'K', 'G', 'M', 'K', 'M', 'I', 'E', 'B', 'F', 'T', 'C', 'V', 'V', 'J', 'A', 'T']\n"
     ]
    }
   ],
   "source": [
    "# Creamos el reflector\n",
    "rf = 'A B C D E F G D I J K G M K M I E B F T C V V J A T'\n",
    "\n",
    "# Convierte el string 'rf' en una lista\n",
    "# Tu código aquí ...\n",
    "reflector = rf.split(' ')\n",
    "print(f\"Reflector : {reflector}\") "
   ]
  },
  {
   "cell_type": "code",
   "execution_count": 3,
   "metadata": {
    "colab": {
     "base_uri": "https://localhost:8080/"
    },
    "executionInfo": {
     "elapsed": 4,
     "status": "ok",
     "timestamp": 1638458376144,
     "user": {
      "displayName": "Patricio Fontecilla Romero",
      "photoUrl": "https://lh3.googleusercontent.com/a/default-user=s64",
      "userId": "09386735086073567609"
     },
     "user_tz": 180
    },
    "id": "MFMYWX7gbSQB",
    "outputId": "6a2f1ced-5a1f-40fe-d243-b11869846ffd"
   },
   "outputs": [
    {
     "name": "stdout",
     "output_type": "stream",
     "text": [
      "Rotor Derecho : ['B', 'D', 'F', 'H', 'J', 'L', 'C', 'P', 'R', 'T', 'X', 'V', 'Z', 'N', 'Y', 'E', 'I', 'W', 'G', 'A', 'K', 'M', 'U', 'S', 'Q', 'O']\n"
     ]
    }
   ],
   "source": [
    "# Creamos el rotor derecho\n",
    "# Este string contiene el alfabeto de salida (desordenado)\n",
    "str_r_derecho = 'B D F H J L C P R T X V Z N Y E I W G A K M U S Q O'\n",
    "\n",
    "# Convierte el string 'str_r_derecho' en una lista\n",
    "# Tu código aquí ...\n",
    "rotor_der = str_r_derecho.split(' ')\n",
    "print(f\"Rotor Derecho : {rotor_der}\") "
   ]
  },
  {
   "cell_type": "code",
   "execution_count": 4,
   "metadata": {
    "colab": {
     "base_uri": "https://localhost:8080/"
    },
    "executionInfo": {
     "elapsed": 5,
     "status": "ok",
     "timestamp": 1638458378404,
     "user": {
      "displayName": "Patricio Fontecilla Romero",
      "photoUrl": "https://lh3.googleusercontent.com/a/default-user=s64",
      "userId": "09386735086073567609"
     },
     "user_tz": 180
    },
    "id": "Jyo4qq26bSQB",
    "outputId": "73526b46-8891-4f23-a7bf-91111705d58b"
   },
   "outputs": [
    {
     "name": "stdout",
     "output_type": "stream",
     "text": [
      "Rotor Medio : ['A', 'J', 'D', 'K', 'S', 'I', 'R', 'U', 'X', 'B', 'L', 'H', 'W', 'T', 'M', 'C', 'Q', 'G', 'Z', 'N', 'P', 'Y', 'F', 'V', 'O', 'E']\n"
     ]
    }
   ],
   "source": [
    "# Creamos el rotor medio\n",
    "# Este string contiene el alfabeto de salida (desordenado)\n",
    "str_r_medio = 'A J D K S I R U X B L H W T M C Q G Z N P Y F V O E'\n",
    "\n",
    "# Convierte el string 'str_r_medio' en una lista\n",
    "# Tu código aquí ...\n",
    "rotor_med = str_r_medio.split(' ')\n",
    "print(f\"Rotor Medio : {rotor_med}\") \n"
   ]
  },
  {
   "cell_type": "code",
   "execution_count": 5,
   "metadata": {
    "colab": {
     "base_uri": "https://localhost:8080/"
    },
    "executionInfo": {
     "elapsed": 3,
     "status": "ok",
     "timestamp": 1638458380051,
     "user": {
      "displayName": "Patricio Fontecilla Romero",
      "photoUrl": "https://lh3.googleusercontent.com/a/default-user=s64",
      "userId": "09386735086073567609"
     },
     "user_tz": 180
    },
    "id": "LLnPWUDGbSQC",
    "outputId": "b2365fe0-a631-4c27-d16a-89ce38393170"
   },
   "outputs": [
    {
     "name": "stdout",
     "output_type": "stream",
     "text": [
      "Rotor Izquierdo : ['E', 'K', 'M', 'F', 'L', 'G', 'D', 'Q', 'V', 'Z', 'N', 'T', 'O', 'W', 'Y', 'H', 'X', 'U', 'S', 'P', 'A', 'I', 'B', 'R', 'C', 'J', '']\n"
     ]
    }
   ],
   "source": [
    "# Creamos el rotor izquierdo\n",
    "# Este string contiene el alfabeto de salida (desordenado)\n",
    "str_r_izquierdo = 'E K M F L G D Q V Z N T O W Y H X U S P A I B R C J '\n",
    "\n",
    "# Convierte el string 'str_r_izquierdo' en una lista\n",
    "# Tu código aquí ...\n",
    "rotor_izq = str_r_izquierdo.split(' ')\n",
    "print(f\"Rotor Izquierdo : {rotor_izq}\") \n"
   ]
  },
  {
   "cell_type": "markdown",
   "metadata": {
    "id": "pm1SFyugbSQC"
   },
   "source": [
    "## <font color='green'>Tarea 2:</font> Arma los rotores\n",
    "\n",
    "Crea tres listas vacias para almacenar los rotores armados.\n",
    "Recuerda que cada rotor tiene una componente ordenada y otra desordenada. La ordenada va la izquierda y desordenada a la derecha.\n",
    "\n",
    "TIP:\n",
    "1. La estructura a obtener debiera ser una lista de listas. Por ejemplo, el rotor_izquierdo debería verse así:\n",
    "\n",
    "```python\n",
    "[['A', 'E'],\n",
    " ['B', 'K'],\n",
    " ['C', 'M'],\n",
    " ['D', 'F'],\n",
    " ['E', 'L'],\n",
    " ['F', 'G'],\n",
    " ['G', 'D'],\n",
    " ['H', 'Q'],\n",
    " ['I', 'V'],\n",
    " ['J', 'Z'],\n",
    " ['K', 'N'],\n",
    " ['L', 'T'],\n",
    " ['M', 'O'],\n",
    " ['N', 'W'],\n",
    " ['O', 'Y'],\n",
    " ['P', 'H'],\n",
    " ['Q', 'X'],\n",
    " ['R', 'U'],\n",
    " ['S', 'S'],\n",
    " ['T', 'P'],\n",
    " ['U', 'A'],\n",
    " ['V', 'I'],\n",
    " ['W', 'B'],\n",
    " ['X', 'R'],\n",
    " ['Y', 'C'],\n",
    " ['Z', 'J']]\n",
    "```"
   ]
  },
  {
   "cell_type": "code",
   "execution_count": 6,
   "metadata": {
    "id": "TCmYvn44bSQC"
   },
   "outputs": [],
   "source": [
    "# Crea tres listas vacias para almacenar los rotores armados\n",
    "# Recuerda que cada rotor tendrá una componente ordenada y otra desordenada\n",
    "# Tu código aquí ...\n",
    "Rot_izq = []\n",
    "Rot_med = []\n",
    "Rot_der = []"
   ]
  },
  {
   "cell_type": "markdown",
   "metadata": {
    "id": "WKNHsef0bSQD"
   },
   "source": [
    "Ya creadas las listas, ahora añádeles los pares de letras que conforman cada uno de los tres rotores.\n",
    "\n",
    "TIP:\n",
    "1. Utiliza un ciclo **for** para añadir los pares de elementos  (ordenado - desordenado) en cada rotor. \n",
    "2. Utiliza las listas que creamos anteriormente\n",
    "3. Utiliza la función zip( ) para unir las lista\n",
    "4. Utiliza la función **append( )** e *indexing* \n",
    "\n",
    "```python\n",
    "for i in zip(lista_1, lista_2):\n",
    "    disco.append([i[0], i[1]])\n",
    "```"
   ]
  },
  {
   "cell_type": "code",
   "execution_count": 7,
   "metadata": {
    "colab": {
     "base_uri": "https://localhost:8080/"
    },
    "executionInfo": {
     "elapsed": 677,
     "status": "ok",
     "timestamp": 1638458386149,
     "user": {
      "displayName": "Patricio Fontecilla Romero",
      "photoUrl": "https://lh3.googleusercontent.com/a/default-user=s64",
      "userId": "09386735086073567609"
     },
     "user_tz": 180
    },
    "id": "vnm8kXKTbSQD",
    "outputId": "ee6dd63d-22c1-4149-9315-c1c83c413926"
   },
   "outputs": [
    {
     "name": "stdout",
     "output_type": "stream",
     "text": [
      "Rotor Izquierdo : [['A', 'E'], ['B', 'K'], ['C', 'M'], ['D', 'F'], ['E', 'L'], ['F', 'G'], ['G', 'D'], ['H', 'Q'], ['I', 'V'], ['J', 'Z'], ['K', 'N'], ['L', 'T'], ['M', 'O'], ['N', 'W'], ['O', 'Y'], ['P', 'H'], ['Q', 'X'], ['R', 'U'], ['S', 'S'], ['T', 'P'], ['U', 'A'], ['V', 'I'], ['W', 'B'], ['X', 'R'], ['Y', 'C'], ['Z', 'J']]\n",
      "Rotor Medio     : [['A', 'A'], ['B', 'J'], ['C', 'D'], ['D', 'K'], ['E', 'S'], ['F', 'I'], ['G', 'R'], ['H', 'U'], ['I', 'X'], ['J', 'B'], ['K', 'L'], ['L', 'H'], ['M', 'W'], ['N', 'T'], ['O', 'M'], ['P', 'C'], ['Q', 'Q'], ['R', 'G'], ['S', 'Z'], ['T', 'N'], ['U', 'P'], ['V', 'Y'], ['W', 'F'], ['X', 'V'], ['Y', 'O'], ['Z', 'E']]\n",
      "Rotor Derecho   : [['A', 'B'], ['B', 'D'], ['C', 'F'], ['D', 'H'], ['E', 'J'], ['F', 'L'], ['G', 'C'], ['H', 'P'], ['I', 'R'], ['J', 'T'], ['K', 'X'], ['L', 'V'], ['M', 'Z'], ['N', 'N'], ['O', 'Y'], ['P', 'E'], ['Q', 'I'], ['R', 'W'], ['S', 'G'], ['T', 'A'], ['U', 'K'], ['V', 'M'], ['W', 'U'], ['X', 'S'], ['Y', 'Q'], ['Z', 'O']]\n"
     ]
    }
   ],
   "source": [
    "# Tu código aquí ...\n",
    "for i in range(0,26):\n",
    "    #print(f\"{rotor[i]}, {rotor_izq[i]}\")\n",
    "    item_izq = [rotor[i], rotor_izq[i]]\n",
    "    item_med = [rotor[i], rotor_med[i]]\n",
    "    item_der = [rotor[i], rotor_der[i]]\n",
    "    Rot_izq.append(item_izq)\n",
    "    Rot_med.append(item_med)\n",
    "    Rot_der.append(item_der)\n",
    "\n",
    "print(f\"Rotor Izquierdo : {Rot_izq}\")\n",
    "print(f\"Rotor Medio     : {Rot_med}\")\n",
    "print(f\"Rotor Derecho   : {Rot_der}\")"
   ]
  },
  {
   "cell_type": "markdown",
   "metadata": {
    "id": "MYBkasx7bSQD"
   },
   "source": [
    "Imprime la configuración del Reflector, de los tres rotores y del Teclado. De la misma forma que en la instrucciones iniciales.\n",
    "\n",
    "Tip:\n",
    "1. Utiliza función **print( )** y **f-strings** para el correcto formateo\n",
    "2. Utiliza **zip( )** nuevamente para agrupar todas las listas. Luego recórrelas con un ciclo **for** para imprimirlas."
   ]
  },
  {
   "cell_type": "code",
   "execution_count": 8,
   "metadata": {
    "colab": {
     "base_uri": "https://localhost:8080/"
    },
    "executionInfo": {
     "elapsed": 227,
     "status": "ok",
     "timestamp": 1638458392484,
     "user": {
      "displayName": "Patricio Fontecilla Romero",
      "photoUrl": "https://lh3.googleusercontent.com/a/default-user=s64",
      "userId": "09386735086073567609"
     },
     "user_tz": 180
    },
    "id": "weFP3uPSbSQD",
    "outputId": "7b7d7558-0f59-428a-d955-d72756fead39",
    "scrolled": true
   },
   "outputs": [
    {
     "name": "stdout",
     "output_type": "stream",
     "text": [
      "Reflector  Rotor_izd   Rotor_med   Rotor_der   Teclado\n",
      " A         [ A , E ]   [ A , A ]   [ A , B ]      A \n",
      " B         [ B , K ]   [ B , J ]   [ B , D ]      B \n",
      " C         [ C , M ]   [ C , D ]   [ C , F ]      C \n",
      " D         [ D , F ]   [ D , K ]   [ D , H ]      D \n",
      " E         [ E , L ]   [ E , S ]   [ E , J ]      E \n",
      " F         [ F , G ]   [ F , I ]   [ F , L ]      F \n",
      " G         [ G , D ]   [ G , R ]   [ G , C ]      G \n",
      " D         [ H , Q ]   [ H , U ]   [ H , P ]      H \n",
      " I         [ I , V ]   [ I , X ]   [ I , R ]      I \n",
      " J         [ J , Z ]   [ J , B ]   [ J , T ]      J \n",
      " K         [ K , N ]   [ K , L ]   [ K , X ]      K \n",
      " G         [ L , T ]   [ L , H ]   [ L , V ]      L \n",
      " M         [ M , O ]   [ M , W ]   [ M , Z ]      M \n",
      " K         [ N , W ]   [ N , T ]   [ N , N ]      N \n",
      " M         [ O , Y ]   [ O , M ]   [ O , Y ]      O \n",
      " I         [ P , H ]   [ P , C ]   [ P , E ]      P \n",
      " E         [ Q , X ]   [ Q , Q ]   [ Q , I ]      Q \n",
      " B         [ R , U ]   [ R , G ]   [ R , W ]      R \n",
      " F         [ S , S ]   [ S , Z ]   [ S , G ]      S \n",
      " T         [ T , P ]   [ T , N ]   [ T , A ]      T \n",
      " C         [ U , A ]   [ U , P ]   [ U , K ]      U \n",
      " V         [ V , I ]   [ V , Y ]   [ V , M ]      V \n",
      " V         [ W , B ]   [ W , F ]   [ W , U ]      W \n",
      " J         [ X , R ]   [ X , V ]   [ X , S ]      X \n",
      " A         [ Y , C ]   [ Y , O ]   [ Y , Q ]      Y \n",
      " T         [ Z , J ]   [ Z , E ]   [ Z , O ]      Z \n"
     ]
    }
   ],
   "source": [
    "# Tu código aquí ...\n",
    "\n",
    "# Visualizar el estado de los rotores\n",
    "def rotores_print():\n",
    "    print(f'Reflector  Rotor_izd   Rotor_med   Rotor_der   Teclado')\n",
    "\n",
    "    for i in range(0,26):\n",
    "        print(f' {reflector[i]}         [ {Rot_izq[i][0]} , {Rot_izq[i][1]} ]   [ {Rot_med[i][0]} , {Rot_med[i][1]} ]   [ {Rot_der[i][0]} , {Rot_der[i][1]} ]      {rotor[i]} ')\n",
    "\n",
    "\n",
    "rotores_print() \n"
   ]
  },
  {
   "cell_type": "markdown",
   "metadata": {
    "id": "o8a438ZgbSQF"
   },
   "source": [
    "## <font color='green'>Tarea 3:</font> Crea una función para girar los rotores\n",
    "\n",
    "Crea una función llamada **avanza_rotor**. La función debe girar los rotores hacia arriba. Créala de esta forma:\n",
    "\n",
    "```python\n",
    "def avanza_rotor(disco, paso):\n",
    "```\n",
    "Entrada:<br>\n",
    "**disco**: corresponde a la lista con la información del rotor a avanzar. Esta es una lista de listas.<br>\n",
    "**paso**. Esta variable indicará la cantidad de pasos que debe avanzar el rotor.\n",
    "\n",
    "Salida:<br>\n",
    "La funión deve devolver el rotor (lista de listas) rotado **paso** pasos.\n",
    "\n",
    "TIP:\n",
    "1. Recuerda el uso de **pop( )** y **append( )** en las listas"
   ]
  },
  {
   "cell_type": "code",
   "execution_count": 9,
   "metadata": {
    "colab": {
     "base_uri": "https://localhost:8080/"
    },
    "executionInfo": {
     "elapsed": 229,
     "status": "ok",
     "timestamp": 1638458396697,
     "user": {
      "displayName": "Patricio Fontecilla Romero",
      "photoUrl": "https://lh3.googleusercontent.com/a/default-user=s64",
      "userId": "09386735086073567609"
     },
     "user_tz": 180
    },
    "id": "c4plnrlXbSQF",
    "outputId": "43f61d64-ce6c-4ebf-f0f6-281f38c4a88a"
   },
   "outputs": [
    {
     "name": "stdout",
     "output_type": "stream",
     "text": [
      "[['D', '4'], ['A', '1'], ['B', '2'], ['C', '3']]\n"
     ]
    }
   ],
   "source": [
    "# Tu código aquí ...\n",
    "\"\"\"\n",
    " Función que permite avanzar la rotación de un disco, segun la cantidada de \n",
    " pasos que se entregue, sacando el primer elemento de la lista y \n",
    " agregandolo al final.\n",
    "\"\"\"\n",
    "def avanza_rotor(disco, paso=1):\n",
    "    for i in range(0,paso):\n",
    "        item = disco[0]\n",
    "        disco.pop(0)\n",
    "        disco.append(item)\n",
    "\n",
    "\n",
    "\n",
    "#prueba con otra lista\n",
    "MyList = [['A', '1'], ['B', '2'], ['C', '3'], ['D', '4']]\n",
    "avanza_rotor(MyList,3)\n",
    "print(MyList)\n",
    "\n",
    "\n"
   ]
  },
  {
   "cell_type": "markdown",
   "metadata": {
    "id": "HahqeNy-bSQF"
   },
   "source": [
    "## <font color='green'>Tarea 4:</font> Crea una función para posicionar los rotores según la clave inicial\n",
    "\n",
    "Crea una función que configure la posición inicial de los rotores. Llámala **conf_rotores** de esta forma:\n",
    "\n",
    "```python\n",
    "def conf_rotores(clave_inicial):\n",
    "```\n",
    "Entrada:<br>\n",
    "**clave_inicial**: corresponde a un string de tres letras.<br>\n",
    "\n",
    "A partir de la clave inicial se rotan los tres rotores (izquierdo, medio y derecho).\n",
    "\n",
    "Salida:<br>\n",
    "La funión debe devolver los tres rotores posicionados según la clave ingresada.\n",
    "\n",
    "Tip:\n",
    "1. Necesitarás usa un ciclo **while** cuya condición de salida sea que la letra izquierda del primer par de letras de cada rotor coincida con la letra correspondiente de la clave ingresada.\n",
    "2. No es necesario que pases los rotores (lista) como argumentos ya que esta estrcutura tiene caracter *global* en Python\n"
   ]
  },
  {
   "cell_type": "code",
   "execution_count": 10,
   "metadata": {
    "id": "rLAXfHUfbSQF"
   },
   "outputs": [],
   "source": [
    "# Tu código aquí ...\n",
    "\n",
    "# Establecer la posicion inicial de los rotores segun la clave inicial\n",
    "def conf_rotores(clave_inicial, verbose=True):\n",
    "    \n",
    "    letra_izq = clave_inicial[0]\n",
    "    letra_med = clave_inicial[1]\n",
    "    letra_der = clave_inicial[2]\n",
    "    \n",
    "    while Rot_der[0][0] != letra_der:\n",
    "        avanza_rotor(Rot_der, 1)\n",
    "    \n",
    "    while Rot_med[0][0] != letra_med:\n",
    "        avanza_rotor(Rot_med, 1)\n",
    "    \n",
    "    while Rot_izq[0][0] != letra_izq:\n",
    "        avanza_rotor(Rot_izq, 1)\n",
    "    \n",
    "    return"
   ]
  },
  {
   "cell_type": "code",
   "execution_count": 11,
   "metadata": {
    "id": "FtMNkmWgbSQG"
   },
   "outputs": [],
   "source": [
    "# Prueba con la clave 'MCK'\n",
    "conf_rotores('MCK')"
   ]
  },
  {
   "cell_type": "code",
   "execution_count": 12,
   "metadata": {
    "colab": {
     "base_uri": "https://localhost:8080/"
    },
    "executionInfo": {
     "elapsed": 3,
     "status": "ok",
     "timestamp": 1638458409619,
     "user": {
      "displayName": "Patricio Fontecilla Romero",
      "photoUrl": "https://lh3.googleusercontent.com/a/default-user=s64",
      "userId": "09386735086073567609"
     },
     "user_tz": 180
    },
    "id": "zQ0mDk6UbSQG",
    "outputId": "89be8348-3ff1-4449-8853-88b9b5e142b1"
   },
   "outputs": [
    {
     "name": "stdout",
     "output_type": "stream",
     "text": [
      "Reflector  Rotor_izd   Rotor_med   Rotor_der   Teclado\n",
      " A         [ M , O ]   [ C , D ]   [ K , X ]      A \n",
      " B         [ N , W ]   [ D , K ]   [ L , V ]      B \n",
      " C         [ O , Y ]   [ E , S ]   [ M , Z ]      C \n",
      " D         [ P , H ]   [ F , I ]   [ N , N ]      D \n",
      " E         [ Q , X ]   [ G , R ]   [ O , Y ]      E \n",
      " F         [ R , U ]   [ H , U ]   [ P , E ]      F \n",
      " G         [ S , S ]   [ I , X ]   [ Q , I ]      G \n",
      " D         [ T , P ]   [ J , B ]   [ R , W ]      H \n",
      " I         [ U , A ]   [ K , L ]   [ S , G ]      I \n",
      " J         [ V , I ]   [ L , H ]   [ T , A ]      J \n",
      " K         [ W , B ]   [ M , W ]   [ U , K ]      K \n",
      " G         [ X , R ]   [ N , T ]   [ V , M ]      L \n",
      " M         [ Y , C ]   [ O , M ]   [ W , U ]      M \n",
      " K         [ Z , J ]   [ P , C ]   [ X , S ]      N \n",
      " M         [ A , E ]   [ Q , Q ]   [ Y , Q ]      O \n",
      " I         [ B , K ]   [ R , G ]   [ Z , O ]      P \n",
      " E         [ C , M ]   [ S , Z ]   [ A , B ]      Q \n",
      " B         [ D , F ]   [ T , N ]   [ B , D ]      R \n",
      " F         [ E , L ]   [ U , P ]   [ C , F ]      S \n",
      " T         [ F , G ]   [ V , Y ]   [ D , H ]      T \n",
      " C         [ G , D ]   [ W , F ]   [ E , J ]      U \n",
      " V         [ H , Q ]   [ X , V ]   [ F , L ]      V \n",
      " V         [ I , V ]   [ Y , O ]   [ G , C ]      W \n",
      " J         [ J , Z ]   [ Z , E ]   [ H , P ]      X \n",
      " A         [ K , N ]   [ A , A ]   [ I , R ]      Y \n",
      " T         [ L , T ]   [ B , J ]   [ J , T ]      Z \n"
     ]
    }
   ],
   "source": [
    "# Imprime la nueva configuración de rotores\n",
    "# Este codigo lo deberías haber hecho más arriba\n",
    "rotores_print() "
   ]
  },
  {
   "cell_type": "markdown",
   "metadata": {
    "id": "Kik_gjh3bSQG"
   },
   "source": [
    "## <font color='green'>Tarea 5:</font> Crea funciones para pasar señales por los rotores\n",
    "\n",
    "Crea tres funciones llamadas **pasa_senal_ida**, **pasa_senal_vuelta** e **indice_reflextor** de esta forma:\n",
    "\n",
    "```python\n",
    "def pasa_senal_ida(rotor, indice):\n",
    "\n",
    "    \n",
    "def pasa_senal_vuelta(rotor, indice):\n",
    "    \n",
    "    \n",
    "def indice_reflextor(rotor, indice):\n",
    "    \n",
    "```\n",
    "Entrada:<br>\n",
    "**rotor**: corresponde a la lista con la información del rotor. Esta es una lista de listas.<br>\n",
    "**indice**. Es el punto de contacto en el rotor: En el caso de **pasa_senal_ida** será por la derecha y en el caso de **pasa_senal_vuelta** será por la izquierda\n",
    "\n",
    "Salida:<br>\n",
    "Las funciones devuelven el indice de salida del rotor. Esto simula por donde salía la corriente del rotor para tomar contacto con el siguiente rotor o el reflector."
   ]
  },
  {
   "cell_type": "code",
   "execution_count": 13,
   "metadata": {
    "id": "AeT1RoX6bSQG"
   },
   "outputs": [],
   "source": [
    "# Tu código aquí ...\n",
    "\n",
    "# Buscar la letra del lado derecho del rotor, segun la posición del indice\n",
    "# Buscar la letra en el lado izquierdo del rotor y retorar su posición \n",
    "def pasa_senal_ida(rotor, indice):\n",
    "    \n",
    "    letra_salida = rotor[indice][1]\n",
    "    indice_salida = 0\n",
    "    while rotor[indice_salida][0] != letra_salida:\n",
    "        indice_salida += 1    \n",
    "\n",
    "    #print(f\"Indice entrada: {indice}, letra: {letra_salida}, Indice salida: {indice_salida}, \")\n",
    "\n",
    "    return indice_salida\n",
    "    \n",
    "# Buscar la letra del lado izquierdo del rotor, segun la posición del indice\n",
    "# Buscar la letra en el lado derecho del rotor y retorar su posición \n",
    "def pasa_senal_vuelta(rotor, indice):\n",
    "   \n",
    "    letra_salida = rotor[indice][0]\n",
    "    indice_salida = 0\n",
    "    while rotor[indice_salida][1] != letra_salida:\n",
    "        indice_salida += 1    \n",
    "\n",
    "    #print(f\"Indice entrada: {indice}, letra: {letra_salida}, Indice salida: {indice_salida}, \")\n",
    "\n",
    "    return indice_salida\n",
    "    \n",
    "# Buscar la letra en el reflector, segun la posición del indice\n",
    "# Buscar la segunda aparición de la letra en reflector y retorar su posición\n",
    "def indice_reflextor(disco, indice):\n",
    "    \n",
    "    letra_salida = disco[indice]    \n",
    "    indice_salida = 0\n",
    "    while indice_salida < len(disco):\n",
    "        #print(f\"{indice_salida} : {disco[indice_salida]} \")\n",
    "        if (disco[indice_salida] == letra_salida) and (indice_salida != indice):\n",
    "           break\n",
    "        indice_salida += 1 \n",
    "         \n",
    "    #print(f\"Indice entrada: {indice}, letra: {letra_salida}, Indice salida: {indice_salida}, \")\n",
    "    \n",
    "    return indice_salida"
   ]
  },
  {
   "cell_type": "code",
   "execution_count": 14,
   "metadata": {
    "colab": {
     "base_uri": "https://localhost:8080/"
    },
    "executionInfo": {
     "elapsed": 220,
     "status": "ok",
     "timestamp": 1638458417284,
     "user": {
      "displayName": "Patricio Fontecilla Romero",
      "photoUrl": "https://lh3.googleusercontent.com/a/default-user=s64",
      "userId": "09386735086073567609"
     },
     "user_tz": 180
    },
    "id": "yZ2unKn2s7em",
    "outputId": "1f68c8ef-59ad-408f-d706-1692be7d7309"
   },
   "outputs": [
    {
     "name": "stdout",
     "output_type": "stream",
     "text": [
      "Rotor : ['A', 'B', 'C', 'D', 'E', 'F', 'G', 'H', 'I', 'J', 'K', 'L', 'M', 'N', 'O', 'P', 'Q', 'R', 'S', 'T', 'U', 'V', 'W', 'X', 'Y', 'Z']\n",
      "Indice : 11\n",
      "9\n",
      "5\n",
      "8\n",
      "15\n",
      "10\n",
      "12\n",
      "25\n",
      "Z\n",
      "Z\n"
     ]
    }
   ],
   "source": [
    "#probando con una letra\n",
    "\n",
    "# Prueba con la clave 'MCK'\n",
    "conf_rotores('MCK')\n",
    "\n",
    "print(f\"Rotor : {rotor}\")\n",
    "\n",
    "indice = 0\n",
    "indice = rotor.index('L')\n",
    "print(f\"Indice : {indice}\")\n",
    "\n",
    "# Avanzar rotor derecho despues antes de buscar la letra\n",
    "avanza_rotor(Rot_der, 1)\n",
    "\n",
    "# ***************************************************************\n",
    "# Señal de Ida\n",
    "# ***************************************************************\n",
    "\n",
    "# usar el indice la letra como entrada en el rotor derecho \n",
    "# buscar su indice de salida cuando la señan es de ida \n",
    "inx = pasa_senal_ida(Rot_der, indice)\n",
    "print(inx)\n",
    "\n",
    "# usar el indice de salida anterior como entrada en el rotor medio \n",
    "# buscar su indice de salida cuando la señan es de ida\n",
    "inx = pasa_senal_ida(Rot_med, inx)   \n",
    "print(inx)\n",
    "\n",
    "# usar el indice de salida anterior como entrada en el rotor izquierdo  \n",
    "# buscar su indice de salida cuando la señan es de ida\n",
    "inx = pasa_senal_ida(Rot_izq, inx)   \n",
    "print(inx)\n",
    "\n",
    "\n",
    "# ***************************************************************\n",
    "# Reflextor\n",
    "# ***************************************************************\n",
    "# usar el indice de salida anterior como entrada en el reflector  \n",
    "# \n",
    "inx = indice_reflextor(reflector, inx)\n",
    "print(inx)\n",
    "\n",
    "\n",
    "# ***************************************************************\n",
    "# Señal de Vuelta\n",
    "# ***************************************************************\n",
    "# usar el indice de salida anterior como entrada en el rotor izquierdo\n",
    "# buscar su indice de salida cuando la señan es de vuelta\n",
    "inx = pasa_senal_vuelta(Rot_izq, inx)   \n",
    "print(inx)\n",
    "\n",
    "# usar el indice de salida anterior como entrada en el rotor medio\n",
    "# buscar su indice de salida cuando la señan es de vuelta\n",
    "inx = pasa_senal_vuelta(Rot_med, inx)   \n",
    "print(inx)\n",
    "\n",
    "# usar el indice de salida anterior como entrada en el rotor derecho\n",
    "# buscar su indice de salida cuando la señan es de vuelta\n",
    "inx = pasa_senal_vuelta(Rot_der, inx)   \n",
    "print(inx)\n",
    "\n",
    "letra_resultado = rotor[inx]\n",
    "print(letra_resultado)\n",
    "\n",
    "mensaje_cifrado = ''\n",
    "mensaje_cifrado = mensaje_cifrado + letra_resultado\n",
    "print(mensaje_cifrado)\n"
   ]
  },
  {
   "cell_type": "markdown",
   "metadata": {
    "id": "Y9eomU2dbSQG"
   },
   "source": [
    "## <font color='green'>Tarea 5:</font> Armando la ENIGMA\n",
    "\n",
    "Bien hecho hasta acá Hacker. Ahora debes armar la máquina.\n",
    "\n",
    "Crea una función **enigma**\n",
    "\n",
    "```python\n",
    "def enigma(mensaje, clave):\n",
    "```\n",
    "Entrada:<br>\n",
    "**mensaje**: corresponde a un strig que contiene el mensaje a codificar. Recuerda que no se usaban ni numeros ni caractares especiales. Solo lo que el teclado de entrada pudiera escribir.<br>\n",
    "**clave**. Es la clave para posicionar los rotores al inicio\n",
    "\n",
    "Salida:<br>\n",
    "Mensaje cifrado\n"
   ]
  },
  {
   "cell_type": "code",
   "execution_count": 15,
   "metadata": {
    "id": "BKKEmLNlbSQH"
   },
   "outputs": [],
   "source": [
    "# Tu código aquí ...\n",
    "\n",
    "def enigma(mensaje, clave):\n",
    "    \"\"\"\n",
    "    Función que simula la operación de la Máquina Enigma\n",
    "    \"\"\"\n",
    "    \n",
    "    # Rotamos discos a posición clave\n",
    "    conf_rotores(clave)\n",
    "    \n",
    "    # lista del mensaje cifrado\n",
    "    mensaje_cifrado = ''\n",
    "\n",
    "    #... recorremos el mensaje de entrada\n",
    "    for letra in mensaje:\n",
    "\n",
    "        # la maquina solo admite las letras del rotor \n",
    "        if letra not in rotor: \n",
    "            continue\n",
    "\n",
    "        # Cada vez que procesamos una letra, primero \n",
    "        # rotamos el disco derecho (sus dos componentes)\n",
    "        # Cuando la letra \"V\" del la componente de salida del rotor derecho\n",
    "        # alcanza la posición inicial, se gira una posición el rotor central\n",
    "        # Lo mismo ocurre cuando la letra 'Q' del rotor centra llega al inicio,\n",
    "        # se avanza una posición ambos componentes del rotor izquierdo\n",
    "\n",
    "        # indice de la letra en el teclado\n",
    "        indice_letra = rotor.index(letra)\n",
    "        \n",
    "        # Avanzar rotores\n",
    "        avanza_rotor(Rot_der, 1)\n",
    "        if Rot_der[0][0] == 'V':\n",
    "           avanza_rotor(Rot_med, 1)\n",
    "        if Rot_med[0][0] == 'Q':\n",
    "           avanza_rotor(Rot_izq, 1)\n",
    "        \n",
    "        # ida en rotor derecho\n",
    "        indice_ida_der = pasa_senal_ida(Rot_der, indice_letra)\n",
    "\n",
    "        # ida en rotor medio\n",
    "        indice_ida_med = pasa_senal_ida(Rot_med, indice_ida_der)      \n",
    "       \n",
    "        # ida en rotor izquierdo\n",
    "        indice_ida_izq = pasa_senal_ida(Rot_izq, indice_ida_med)        \n",
    "              \n",
    "        # rebote en rotor reflector\n",
    "        indice_rebote = indice_reflextor(reflector, indice_ida_izq)\n",
    "        \n",
    "        # vuelta en rotor izquierdo\n",
    "        indice_vuelta_izq = pasa_senal_vuelta(Rot_izq, indice_rebote)\n",
    "        \n",
    "        # vuelta en rotor medio\n",
    "        indice_vuelta_med = pasa_senal_vuelta(Rot_med, indice_vuelta_izq)\n",
    "                \n",
    "        # vuelta en rotor derecho\n",
    "        indice_vuelta_der = pasa_senal_vuelta(Rot_der, indice_vuelta_med)\n",
    "                  \n",
    "        # Vuelta LETRA DE SALIDA\n",
    "        letra_resultado = rotor[indice_vuelta_der]\n",
    "\n",
    "        # armar menjaje cifrado\n",
    "        mensaje_cifrado += letra_resultado       \n",
    "\n",
    "    return mensaje_cifrado"
   ]
  },
  {
   "cell_type": "code",
   "execution_count": 16,
   "metadata": {
    "colab": {
     "base_uri": "https://localhost:8080/"
    },
    "executionInfo": {
     "elapsed": 213,
     "status": "ok",
     "timestamp": 1638459350078,
     "user": {
      "displayName": "Patricio Fontecilla Romero",
      "photoUrl": "https://lh3.googleusercontent.com/a/default-user=s64",
      "userId": "09386735086073567609"
     },
     "user_tz": 180
    },
    "id": "9RC_TMcebSQH",
    "outputId": "0ec9d96d-63f6-4378-c869-b126bc654495"
   },
   "outputs": [
    {
     "name": "stdout",
     "output_type": "stream",
     "text": [
      "ENIGMAREVEXLED\n",
      "QMJIDOMZWZJFJR\n"
     ]
    }
   ],
   "source": [
    "# Probemos si funciona\n",
    "print(enigma('QMJIDOMZWZJFJR','MCK'))\n",
    "print(enigma('ENIGMAREVEXLED','MCK'))\n"
   ]
  },
  {
   "cell_type": "code",
   "execution_count": 17,
   "metadata": {
    "colab": {
     "base_uri": "https://localhost:8080/"
    },
    "executionInfo": {
     "elapsed": 217,
     "status": "ok",
     "timestamp": 1638459262087,
     "user": {
      "displayName": "Patricio Fontecilla Romero",
      "photoUrl": "https://lh3.googleusercontent.com/a/default-user=s64",
      "userId": "09386735086073567609"
     },
     "user_tz": 180
    },
    "id": "LxTs_Qb_2Bmy",
    "outputId": "db4725bc-23d7-48f7-ef76-fae11f85e717"
   },
   "outputs": [
    {
     "name": "stdout",
     "output_type": "stream",
     "text": [
      "ZRLHFYPBAWRWLTEQLXLCLHLVGCPKUMMDAJBFSJDFNPFRAPHKKNINYFEHIVMUSBSJWLWFDJHWCLRYGWZDQHVXSXKSSVWZ\n",
      "LATAREADELMODULODEPROGRAMACIONESTAMUYFACILSOLOBASTAREALIZARLOSPASOSQUESEDETALLANENELNOTEBOOK\n"
     ]
    }
   ],
   "source": [
    "# Probemos si funciona\n",
    "print(enigma('LA TAREA DEL MODULO DE PROGRAMACION ESTA MUY FACIL SOLO BASTA REALIZAR LOS PASOS QUE SE DETALLAN EN EL NOTEBOOK','MCK'))\n",
    "print(enigma('ZRLHFYPBAWRWLTEQLXLCLHLVGCPKUMMDAJBFSJDFNPFRAPHKKNINYFEHIVMUSBSJWLWFDJHWCLRYGWZDQHVXSXKSSVWZ','MCK'))\n",
    "\n",
    "#ZRLHFYPBAWGWLTEQLXLCLHLVGCPKUMMDAJBFFJDFNPFRAPHKKNINYFEHIVMUSBNJWLWFDJHWCLRYGWZDQHVXSXKSRVWZ\n",
    "#LATAREADELMODULODEPROGRAMACIONESTAMUYFACILSOLOBASTAREALIZARLOSPASOSQUESEDETALLANENELNOTEBOOK"
   ]
  }
 ],
 "metadata": {
  "colab": {
   "collapsed_sections": [],
   "name": "FP29-TareaFinal-02-MaquinaEnigma-okd.ipynb",
   "provenance": []
  },
  "kernelspec": {
   "display_name": "Python 3 (ipykernel)",
   "language": "python",
   "name": "python3"
  },
  "language_info": {
   "codemirror_mode": {
    "name": "ipython",
    "version": 3
   },
   "file_extension": ".py",
   "mimetype": "text/x-python",
   "name": "python",
   "nbconvert_exporter": "python",
   "pygments_lexer": "ipython3",
   "version": "3.10.5"
  }
 },
 "nbformat": 4,
 "nbformat_minor": 1
}
