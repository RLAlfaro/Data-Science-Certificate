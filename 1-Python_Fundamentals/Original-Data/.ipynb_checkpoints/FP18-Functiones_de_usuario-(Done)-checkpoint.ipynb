{
 "cells": [
  {
   "cell_type": "markdown",
   "metadata": {
    "id": "FiTr9jVX7KDQ"
   },
   "source": [
    "# **Introducción a Python**\n",
    "# FP18. Funciones de usuario (User Functions)"
   ]
  },
  {
   "cell_type": "markdown",
   "metadata": {
    "id": "Y7Qx652z7KDm"
   },
   "source": [
    "Hola, Hackers. Es hora de aprender un nuevo elemento importante en Python: Las Funciones !!!\n",
    "\n",
    "Las funciones son la base para un código reproducible en proyectos.\n",
    "\n",
    "Las funciones nos permiten no tener que escribir repetidamente el mismo código una y otra vez.\n",
    "\n",
    "Hay funciones integradas, es decir, funciones nativas en Python (como **len( )**, **randint( )** o **print( )**) y funciones definidas por el usuario. \n",
    "\n",
    "Una buena función definida por el usuario desarrolla **una sola tarea**, la cual puede ser usada repetidamente."
   ]
  },
  {
   "cell_type": "markdown",
   "metadata": {
    "id": "G5i_xywH7KDr"
   },
   "source": [
    "## <font color='blue'>**La cláusula def**</font>\n",
    "\n",
    "Para crear una función usamos la palabra clave **def**. Esta es la forma general de una función:\n",
    "\n",
    "```python\n",
    "def nombre_funcion_minusculas(argumento1, argumento2, argumento3='valor por defecto'):\n",
    "    '''\n",
    "    Este es el DocString de la función. Aquí es donde se debe describir la función, \n",
    "    su objetivo, qué argumentos utiliza (datos de entrada), \n",
    "    datos de salida y la forma de usarla.\n",
    "    '''\n",
    "    # El código de tu función aquí\n",
    "    \n",
    "```"
   ]
  },
  {
   "cell_type": "markdown",
   "metadata": {
    "id": "apRNgcpv7KDu"
   },
   "source": [
    "Comenzamos con **def** y luego un espacio seguido del nombre de la función. Intenta que los nombres sean relevantes, por ejemplo, d_verificador() es un buen nombre para una función que calcule el digito verificador de un RUT. También ten cuidado con los nombres, no querrás llamar a tu función con el mismo nombre que una función incorporada en Python (como por ejemplo *len( )*).\n",
    "\n",
    "Luego vienen un par de paréntesis, dentro de los cuales podría haber argumentos separados por una coma. Estos argumentos son las entradas para su función. Podrás utilizar estas entradas en tu función y hacer referencia a ellas. Finalmente, pones dos puntos.\n",
    "\n",
    "<font color='red'>Importante!!</font> Todo el código de la función deberá estar **indentado** 4 espacios para diferenciarlo del resto del código. Recuerda que no es de *pythonistas* el usar \\<tabs\\> para indentar."
   ]
  },
  {
   "cell_type": "markdown",
   "metadata": {
    "id": "wEq_iULu7KDw"
   },
   "source": [
    "## <font color='blue'>**Ejemplos de funciones**</font>"
   ]
  },
  {
   "cell_type": "markdown",
   "metadata": {
    "id": "KRAdWmv27KDy"
   },
   "source": [
    "### Ejemplo 1: Función simple sin argumentos"
   ]
  },
  {
   "cell_type": "code",
   "execution_count": 1,
   "metadata": {
    "id": "Vq_bzhDC7KD0"
   },
   "outputs": [],
   "source": [
    "def hacker():\n",
    "    \"\"\"\n",
    "    Esta es mi primera función\n",
    "    Imprime \"Hola mundo\"\n",
    "    \"\"\"\n",
    "    print('Hola mundo')"
   ]
  },
  {
   "cell_type": "code",
   "execution_count": 2,
   "metadata": {
    "colab": {
     "base_uri": "https://localhost:8080/"
    },
    "executionInfo": {
     "elapsed": 284,
     "status": "ok",
     "timestamp": 1638378069748,
     "user": {
      "displayName": "Maria Julliette Marin Alarcon",
      "photoUrl": "https://lh3.googleusercontent.com/a/default-user=s64",
      "userId": "14948341870893292997"
     },
     "user_tz": 240
    },
    "id": "M79x1UgI7KD9",
    "outputId": "68fc0a0c-8c62-49c6-c698-b585f81de6f0"
   },
   "outputs": [
    {
     "data": {
      "text/plain": [
       "function"
      ]
     },
     "execution_count": 2,
     "metadata": {},
     "output_type": "execute_result"
    }
   ],
   "source": [
    "type(hacker)"
   ]
  },
  {
   "cell_type": "markdown",
   "metadata": {
    "id": "q04Unqp57KEA"
   },
   "source": [
    "Si llamas a la función sin paréntesis, no se ejecutará, en su lugar, solo informará cuál es el objeto:"
   ]
  },
  {
   "cell_type": "code",
   "execution_count": 3,
   "metadata": {
    "colab": {
     "base_uri": "https://localhost:8080/"
    },
    "executionInfo": {
     "elapsed": 344,
     "status": "ok",
     "timestamp": 1638378081459,
     "user": {
      "displayName": "Maria Julliette Marin Alarcon",
      "photoUrl": "https://lh3.googleusercontent.com/a/default-user=s64",
      "userId": "14948341870893292997"
     },
     "user_tz": 240
    },
    "id": "ibMss-rr7KED",
    "outputId": "a1e57fe4-b3b7-4f70-8528-b5c1b96ebad4"
   },
   "outputs": [
    {
     "data": {
      "text/plain": [
       "<function __main__.hacker()>"
      ]
     },
     "execution_count": 3,
     "metadata": {},
     "output_type": "execute_result"
    }
   ],
   "source": [
    "hacker"
   ]
  },
  {
   "cell_type": "markdown",
   "metadata": {
    "id": "MbC1vxez7KEG"
   },
   "source": [
    "Usa paréntesis para ejecutar la función:"
   ]
  },
  {
   "cell_type": "code",
   "execution_count": 4,
   "metadata": {
    "colab": {
     "base_uri": "https://localhost:8080/"
    },
    "executionInfo": {
     "elapsed": 14,
     "status": "ok",
     "timestamp": 1638378086104,
     "user": {
      "displayName": "Maria Julliette Marin Alarcon",
      "photoUrl": "https://lh3.googleusercontent.com/a/default-user=s64",
      "userId": "14948341870893292997"
     },
     "user_tz": 240
    },
    "id": "VeeJO-PV7KEI",
    "outputId": "9600a611-c108-418e-d6fa-d090a63cdb3e"
   },
   "outputs": [
    {
     "name": "stdout",
     "output_type": "stream",
     "text": [
      "Hola mundo\n"
     ]
    }
   ],
   "source": [
    "hacker()"
   ]
  },
  {
   "cell_type": "markdown",
   "metadata": {
    "id": "inu8XXeS7KEK"
   },
   "source": [
    "### Ejemplo 2: Función con argumentos"
   ]
  },
  {
   "cell_type": "code",
   "execution_count": 5,
   "metadata": {
    "id": "ND9yrVgd7KEM"
   },
   "outputs": [],
   "source": [
    "def edad(mi_edad):\n",
    "    print(f\"Tengo {mi_edad} años\")"
   ]
  },
  {
   "cell_type": "code",
   "execution_count": 7,
   "metadata": {
    "colab": {
     "base_uri": "https://localhost:8080/",
     "height": 200
    },
    "executionInfo": {
     "elapsed": 337,
     "status": "error",
     "timestamp": 1638378173901,
     "user": {
      "displayName": "Maria Julliette Marin Alarcon",
      "photoUrl": "https://lh3.googleusercontent.com/a/default-user=s64",
      "userId": "14948341870893292997"
     },
     "user_tz": 240
    },
    "id": "f5CazNGr7KEO",
    "outputId": "ca9fe81e-bfc7-434d-a5c4-797b2952527e"
   },
   "outputs": [
    {
     "ename": "TypeError",
     "evalue": "edad() missing 1 required positional argument: 'mi_edad'",
     "output_type": "error",
     "traceback": [
      "\u001b[1;31m---------------------------------------------------------------------------\u001b[0m",
      "\u001b[1;31mTypeError\u001b[0m                                 Traceback (most recent call last)",
      "Input \u001b[1;32mIn [7]\u001b[0m, in \u001b[0;36m<cell line: 3>\u001b[1;34m()\u001b[0m\n\u001b[0;32m      1\u001b[0m \u001b[38;5;66;03m# Nota el error\u001b[39;00m\n\u001b[0;32m      2\u001b[0m \u001b[38;5;66;03m# Esta instrucción dara un error porque la función 'edad' necesita un argumento y no se lo incluimos\u001b[39;00m\n\u001b[1;32m----> 3\u001b[0m \u001b[43medad\u001b[49m\u001b[43m(\u001b[49m\u001b[43m)\u001b[49m\n",
      "\u001b[1;31mTypeError\u001b[0m: edad() missing 1 required positional argument: 'mi_edad'"
     ]
    }
   ],
   "source": [
    "# Nota el error\n",
    "# Esta instrucción dara un error porque la función 'edad' necesita un argumento y no se lo incluimos\n",
    "edad()"
   ]
  },
  {
   "cell_type": "code",
   "execution_count": 8,
   "metadata": {
    "colab": {
     "base_uri": "https://localhost:8080/"
    },
    "executionInfo": {
     "elapsed": 302,
     "status": "ok",
     "timestamp": 1638378184003,
     "user": {
      "displayName": "Maria Julliette Marin Alarcon",
      "photoUrl": "https://lh3.googleusercontent.com/a/default-user=s64",
      "userId": "14948341870893292997"
     },
     "user_tz": 240
    },
    "id": "wCMbRvDY7KEP",
    "outputId": "b63e1675-44b7-4e08-f746-4775b8f74cb8"
   },
   "outputs": [
    {
     "name": "stdout",
     "output_type": "stream",
     "text": [
      "Tengo 12 años\n"
     ]
    }
   ],
   "source": [
    "edad(12)"
   ]
  },
  {
   "cell_type": "code",
   "execution_count": 9,
   "metadata": {
    "id": "NjBuJsqT7KER"
   },
   "outputs": [],
   "source": [
    "# Ten en cuenta que puedes usar el mismo nombre para la función y su argumento\n",
    "# Eso es porque son dos objetos diferentes: uno es una función y el otro es una variable\n",
    "\n",
    "def peso(peso):\n",
    "    \"\"\"\n",
    "    Convierte un peso en kilogramos a libras\n",
    "\n",
    "    Parámetros:\n",
    "    peso (int): Peso en kilogramos\n",
    "\n",
    "    Salida:\n",
    "    'Mi peso en libras es = {peso:.1f}' (str): string con el peso en libras\n",
    "\n",
    "    \"\"\"\n",
    "    peso = peso * 2.20462\n",
    "    print(f'Mi peso en libras es = {peso:.1f}')"
   ]
  },
  {
   "cell_type": "code",
   "execution_count": 10,
   "metadata": {
    "colab": {
     "base_uri": "https://localhost:8080/"
    },
    "executionInfo": {
     "elapsed": 366,
     "status": "ok",
     "timestamp": 1638378231903,
     "user": {
      "displayName": "Maria Julliette Marin Alarcon",
      "photoUrl": "https://lh3.googleusercontent.com/a/default-user=s64",
      "userId": "14948341870893292997"
     },
     "user_tz": 240
    },
    "id": "Rs1AxzLe7KES",
    "outputId": "59ba1e43-a9ae-4348-839e-5fee0006bfd9"
   },
   "outputs": [
    {
     "name": "stdout",
     "output_type": "stream",
     "text": [
      "Help on function peso in module __main__:\n",
      "\n",
      "peso(peso)\n",
      "    Convierte un peso en kilogramos a libras\n",
      "    \n",
      "    Parámetros:\n",
      "    peso (int): Peso en kilogramos\n",
      "    \n",
      "    Salida:\n",
      "    'Mi peso en libras es = {peso:.1f}' (str): string con el peso en libras\n",
      "\n"
     ]
    }
   ],
   "source": [
    "help(peso)"
   ]
  },
  {
   "cell_type": "code",
   "execution_count": 11,
   "metadata": {
    "colab": {
     "base_uri": "https://localhost:8080/"
    },
    "executionInfo": {
     "elapsed": 295,
     "status": "ok",
     "timestamp": 1638378248217,
     "user": {
      "displayName": "Maria Julliette Marin Alarcon",
      "photoUrl": "https://lh3.googleusercontent.com/a/default-user=s64",
      "userId": "14948341870893292997"
     },
     "user_tz": 240
    },
    "id": "mYqgwVZP7KEU",
    "outputId": "21d1bcc1-f7d3-4f15-e272-e6a2c557a149"
   },
   "outputs": [
    {
     "name": "stdout",
     "output_type": "stream",
     "text": [
      "Mi peso en libras es = 99.2\n"
     ]
    }
   ],
   "source": [
    "peso(45)"
   ]
  },
  {
   "cell_type": "markdown",
   "metadata": {
    "id": "Zj2ti-Qj7KEV"
   },
   "source": [
    "### Ejemplo 3: Podemos utilizar argumentos con valores por defecto"
   ]
  },
  {
   "cell_type": "code",
   "execution_count": 12,
   "metadata": {
    "id": "1sMO2ASl7KEW"
   },
   "outputs": [],
   "source": [
    "def reporte(name='Juan'):\n",
    "    print(f'Reportando {name}')"
   ]
  },
  {
   "cell_type": "code",
   "execution_count": 13,
   "metadata": {
    "colab": {
     "base_uri": "https://localhost:8080/"
    },
    "executionInfo": {
     "elapsed": 285,
     "status": "ok",
     "timestamp": 1638378259979,
     "user": {
      "displayName": "Maria Julliette Marin Alarcon",
      "photoUrl": "https://lh3.googleusercontent.com/a/default-user=s64",
      "userId": "14948341870893292997"
     },
     "user_tz": 240
    },
    "id": "9KKu61ak7KEX",
    "outputId": "abd8557c-4309-4a37-a686-9c3e762e0ef5"
   },
   "outputs": [
    {
     "name": "stdout",
     "output_type": "stream",
     "text": [
      "Reportando Juan\n"
     ]
    }
   ],
   "source": [
    "reporte()"
   ]
  },
  {
   "cell_type": "code",
   "execution_count": 14,
   "metadata": {
    "colab": {
     "base_uri": "https://localhost:8080/"
    },
    "executionInfo": {
     "elapsed": 302,
     "status": "ok",
     "timestamp": 1638378264064,
     "user": {
      "displayName": "Maria Julliette Marin Alarcon",
      "photoUrl": "https://lh3.googleusercontent.com/a/default-user=s64",
      "userId": "14948341870893292997"
     },
     "user_tz": 240
    },
    "id": "0FaqUAPa7KEY",
    "outputId": "135914b0-02a5-483f-c31f-d566ae40b705"
   },
   "outputs": [
    {
     "name": "stdout",
     "output_type": "stream",
     "text": [
      "Reportando Francisca\n"
     ]
    }
   ],
   "source": [
    "# aún así , siempre pordrás incuir un nuevo argumento\n",
    "reporte('Francisca')"
   ]
  },
  {
   "cell_type": "markdown",
   "metadata": {
    "id": "p58CYCIo7KEZ"
   },
   "source": [
    "## <font color='blue'>**La palabra clave de return**</font>L\n",
    "Hasta ahora, todas nuestras funciones solo han estado imprimiendo resultados, pero ¿y si quisiéramos guardar los resultados que genera  una función en otra variable? ¿Cómo podemos hacer esto? Primero veamos qué sucede con solo imprimir."
   ]
  },
  {
   "cell_type": "code",
   "execution_count": 15,
   "metadata": {
    "id": "e6LIcySl7KEc"
   },
   "outputs": [],
   "source": [
    "def add(num1, num2):\n",
    "    print(num1 + num2)"
   ]
  },
  {
   "cell_type": "code",
   "execution_count": 16,
   "metadata": {
    "colab": {
     "base_uri": "https://localhost:8080/"
    },
    "executionInfo": {
     "elapsed": 292,
     "status": "ok",
     "timestamp": 1638378295549,
     "user": {
      "displayName": "Maria Julliette Marin Alarcon",
      "photoUrl": "https://lh3.googleusercontent.com/a/default-user=s64",
      "userId": "14948341870893292997"
     },
     "user_tz": 240
    },
    "id": "ZYR4SguV7KEd",
    "outputId": "57287dfd-518c-49af-87ac-b3377e69701c"
   },
   "outputs": [
    {
     "name": "stdout",
     "output_type": "stream",
     "text": [
      "5\n"
     ]
    }
   ],
   "source": [
    "add(2, 3)"
   ]
  },
  {
   "cell_type": "code",
   "execution_count": 17,
   "metadata": {
    "colab": {
     "base_uri": "https://localhost:8080/"
    },
    "executionInfo": {
     "elapsed": 282,
     "status": "ok",
     "timestamp": 1638378298901,
     "user": {
      "displayName": "Maria Julliette Marin Alarcon",
      "photoUrl": "https://lh3.googleusercontent.com/a/default-user=s64",
      "userId": "14948341870893292997"
     },
     "user_tz": 240
    },
    "id": "qHZLY0QA7KEf",
    "outputId": "5acd2be0-0958-47e4-f58d-459b6637bd3d"
   },
   "outputs": [
    {
     "name": "stdout",
     "output_type": "stream",
     "text": [
      "5\n"
     ]
    }
   ],
   "source": [
    "result = add(2, 3)"
   ]
  },
  {
   "cell_type": "code",
   "execution_count": 18,
   "metadata": {
    "id": "YzIL9Bvs7KEg"
   },
   "outputs": [],
   "source": [
    "# Veamos el resultado\n",
    "result"
   ]
  },
  {
   "cell_type": "code",
   "execution_count": 19,
   "metadata": {
    "colab": {
     "base_uri": "https://localhost:8080/"
    },
    "executionInfo": {
     "elapsed": 297,
     "status": "ok",
     "timestamp": 1638378310323,
     "user": {
      "displayName": "Maria Julliette Marin Alarcon",
      "photoUrl": "https://lh3.googleusercontent.com/a/default-user=s64",
      "userId": "14948341870893292997"
     },
     "user_tz": 240
    },
    "id": "W7IStecR7KEh",
    "outputId": "833bae4a-cb49-49fe-97a0-ea4104012409"
   },
   "outputs": [
    {
     "data": {
      "text/plain": [
       "NoneType"
      ]
     },
     "execution_count": 19,
     "metadata": {},
     "output_type": "execute_result"
    }
   ],
   "source": [
    "type(result)"
   ]
  },
  {
   "cell_type": "markdown",
   "metadata": {
    "id": "Y8FkHwGh7KEi"
   },
   "source": [
    "Observa que no es posible guardar el resultado de la función ***add()*** ya que no devuelve ('return') nada.<br>\n",
    "Usemos ahora la palabra clave ***return***."
   ]
  },
  {
   "cell_type": "code",
   "execution_count": 20,
   "metadata": {
    "id": "sYTSFfHy7KEj"
   },
   "outputs": [],
   "source": [
    "def add(num1, num2):\n",
    "    return num1 + num2"
   ]
  },
  {
   "cell_type": "code",
   "execution_count": 21,
   "metadata": {
    "colab": {
     "base_uri": "https://localhost:8080/"
    },
    "executionInfo": {
     "elapsed": 10,
     "status": "ok",
     "timestamp": 1638378359156,
     "user": {
      "displayName": "Maria Julliette Marin Alarcon",
      "photoUrl": "https://lh3.googleusercontent.com/a/default-user=s64",
      "userId": "14948341870893292997"
     },
     "user_tz": 240
    },
    "id": "HrnFPv9x7KEk",
    "outputId": "fc5fc6d6-7548-4f75-9875-5847e7be9973"
   },
   "outputs": [
    {
     "data": {
      "text/plain": [
       "5"
      ]
     },
     "execution_count": 21,
     "metadata": {},
     "output_type": "execute_result"
    }
   ],
   "source": [
    "add(2, 3)"
   ]
  },
  {
   "cell_type": "markdown",
   "metadata": {
    "id": "4q_WDU5a7KEk"
   },
   "source": [
    "Fíjate cómo Jupyter informa una salida de la celda ([n]), la vez anterior, nmo lo hizo. De hecho, podemos asignar este resultado a una variable."
   ]
  },
  {
   "cell_type": "code",
   "execution_count": 22,
   "metadata": {
    "id": "i9EmyOYq7KEl"
   },
   "outputs": [],
   "source": [
    "result = add(2, 3)"
   ]
  },
  {
   "cell_type": "code",
   "execution_count": 23,
   "metadata": {
    "colab": {
     "base_uri": "https://localhost:8080/"
    },
    "executionInfo": {
     "elapsed": 19,
     "status": "ok",
     "timestamp": 1638378364541,
     "user": {
      "displayName": "Maria Julliette Marin Alarcon",
      "photoUrl": "https://lh3.googleusercontent.com/a/default-user=s64",
      "userId": "14948341870893292997"
     },
     "user_tz": 240
    },
    "id": "HtGMNsYd7KEm",
    "outputId": "79e8fdc3-f0dc-4b9d-88ac-535b2f4ae7a1"
   },
   "outputs": [
    {
     "data": {
      "text/plain": [
       "5"
      ]
     },
     "execution_count": 23,
     "metadata": {},
     "output_type": "execute_result"
    }
   ],
   "source": [
    "result"
   ]
  },
  {
   "cell_type": "code",
   "execution_count": 24,
   "metadata": {
    "colab": {
     "base_uri": "https://localhost:8080/"
    },
    "executionInfo": {
     "elapsed": 15,
     "status": "ok",
     "timestamp": 1638378366373,
     "user": {
      "displayName": "Maria Julliette Marin Alarcon",
      "photoUrl": "https://lh3.googleusercontent.com/a/default-user=s64",
      "userId": "14948341870893292997"
     },
     "user_tz": 240
    },
    "id": "EU79p0yV7KEn",
    "outputId": "773576b7-caba-4e07-b9b6-ae7e86b7c5c9"
   },
   "outputs": [
    {
     "data": {
      "text/plain": [
       "int"
      ]
     },
     "execution_count": 24,
     "metadata": {},
     "output_type": "execute_result"
    }
   ],
   "source": [
    "type(result)"
   ]
  },
  {
   "cell_type": "code",
   "execution_count": 25,
   "metadata": {
    "colab": {
     "base_uri": "https://localhost:8080/"
    },
    "executionInfo": {
     "elapsed": 19,
     "status": "ok",
     "timestamp": 1638378368504,
     "user": {
      "displayName": "Maria Julliette Marin Alarcon",
      "photoUrl": "https://lh3.googleusercontent.com/a/default-user=s64",
      "userId": "14948341870893292997"
     },
     "user_tz": 240
    },
    "id": "vt8c0Qva7KEo",
    "outputId": "ddef0cfc-e7c3-4f9e-8c29-72abfd0e9439"
   },
   "outputs": [
    {
     "data": {
      "text/plain": [
       "10"
      ]
     },
     "execution_count": 25,
     "metadata": {},
     "output_type": "execute_result"
    }
   ],
   "source": [
    "result * 2"
   ]
  },
  {
   "cell_type": "markdown",
   "metadata": {
    "id": "Yx889Ymu7KEp"
   },
   "source": [
    "## <font color='blue'>**Resolviendo problemas con funciones**</font>\n",
    "\n",
    "Las funciones son un componente básico para los scripts y la programación. Vamos a mostrar cómo se puede resolver un problema con una función."
   ]
  },
  {
   "cell_type": "markdown",
   "metadata": {
    "id": "1Z-a_ksQ7KEp"
   },
   "source": [
    "Escribamos una función que devuelva un booleano (True / False) si es que la palabra 'secreto' está o no en una cadena."
   ]
  },
  {
   "cell_type": "code",
   "execution_count": 26,
   "metadata": {
    "id": "TgjN7T1q7KEq"
   },
   "outputs": [],
   "source": [
    "def verifica_secreto(mystring):\n",
    "    return 'secreto' in mystring"
   ]
  },
  {
   "cell_type": "code",
   "execution_count": 27,
   "metadata": {
    "colab": {
     "base_uri": "https://localhost:8080/"
    },
    "executionInfo": {
     "elapsed": 268,
     "status": "ok",
     "timestamp": 1638378447416,
     "user": {
      "displayName": "Maria Julliette Marin Alarcon",
      "photoUrl": "https://lh3.googleusercontent.com/a/default-user=s64",
      "userId": "14948341870893292997"
     },
     "user_tz": 240
    },
    "id": "XHl5Vd9H7KEr",
    "outputId": "b840d06f-e8a8-4c2b-a345-db9ce9f30b0b"
   },
   "outputs": [
    {
     "data": {
      "text/plain": [
       "True"
      ]
     },
     "execution_count": 27,
     "metadata": {},
     "output_type": "execute_result"
    }
   ],
   "source": [
    "verifica_secreto('Esta es una información que contiene secretos importantes.')"
   ]
  },
  {
   "cell_type": "code",
   "execution_count": 28,
   "metadata": {
    "colab": {
     "base_uri": "https://localhost:8080/"
    },
    "executionInfo": {
     "elapsed": 294,
     "status": "ok",
     "timestamp": 1638378456727,
     "user": {
      "displayName": "Maria Julliette Marin Alarcon",
      "photoUrl": "https://lh3.googleusercontent.com/a/default-user=s64",
      "userId": "14948341870893292997"
     },
     "user_tz": 240
    },
    "id": "bvgSXPY87KEs",
    "outputId": "7297fd6e-d392-44a0-ba2e-272d6a4d8585"
   },
   "outputs": [
    {
     "data": {
      "text/plain": [
       "False"
      ]
     },
     "execution_count": 28,
     "metadata": {},
     "output_type": "execute_result"
    }
   ],
   "source": [
    "verifica_secreto('ESTA ES UNA INFORMACIÓN QUE CONTIENE SECRETOS IMPORTANTES.')"
   ]
  },
  {
   "cell_type": "markdown",
   "metadata": {
    "id": "b6mILnel7KEt"
   },
   "source": [
    "Mejoremos la función con .lower()\n"
   ]
  },
  {
   "cell_type": "code",
   "execution_count": 29,
   "metadata": {
    "id": "ZAR1guq67KEu"
   },
   "outputs": [],
   "source": [
    "def verifica_secreto(mystring):\n",
    "    return 'secreto' in mystring.lower()"
   ]
  },
  {
   "cell_type": "code",
   "execution_count": 30,
   "metadata": {
    "colab": {
     "base_uri": "https://localhost:8080/"
    },
    "executionInfo": {
     "elapsed": 299,
     "status": "ok",
     "timestamp": 1638378504330,
     "user": {
      "displayName": "Maria Julliette Marin Alarcon",
      "photoUrl": "https://lh3.googleusercontent.com/a/default-user=s64",
      "userId": "14948341870893292997"
     },
     "user_tz": 240
    },
    "id": "ALv4Fe5w7KEv",
    "outputId": "5f2ddb51-5bf1-4aff-b444-4b2f173097e3"
   },
   "outputs": [
    {
     "data": {
      "text/plain": [
       "True"
      ]
     },
     "execution_count": 30,
     "metadata": {},
     "output_type": "execute_result"
    }
   ],
   "source": [
    "verifica_secreto('ESTA ES UNA INFORMACIÓN QUE CONTIENE SECRETOS IMPORTANTES.')"
   ]
  },
  {
   "cell_type": "markdown",
   "metadata": {
    "id": "ZYVdwwlH7KEw"
   },
   "source": [
    "## <font color='green'>Actividad 1:</font>\n",
    "### Crea una función\n",
    "\n",
    "Crea una función que tome dos números enteros (como parámetros) y devuelva:<br>\n",
    "    **True** si su suma es 10, <br>\n",
    "    **False** si su suma es otra cosa. <br>\n",
    "\n",
    "Nombra tu función como  **check_ten**"
   ]
  },
  {
   "cell_type": "code",
   "execution_count": 31,
   "metadata": {
    "id": "p88EXMc97KEx"
   },
   "outputs": [],
   "source": [
    "# Tu código aquí ...\n",
    "\n",
    "# definición de funcion que toma dos números enteros \n",
    "def check_ten(n1 , n2):\n",
    "  #devuelve true si la suma es 10 o false si es otra cosa\n",
    "    return n1 + n2 == 10 \n"
   ]
  },
  {
   "cell_type": "code",
   "execution_count": 32,
   "metadata": {
    "colab": {
     "base_uri": "https://localhost:8080/"
    },
    "executionInfo": {
     "elapsed": 19,
     "status": "ok",
     "timestamp": 1638378915733,
     "user": {
      "displayName": "Maria Julliette Marin Alarcon",
      "photoUrl": "https://lh3.googleusercontent.com/a/default-user=s64",
      "userId": "14948341870893292997"
     },
     "user_tz": 240
    },
    "id": "0swIZe0w7KEy",
    "outputId": "5eda3d8c-9061-4992-a9cb-5b84b3170dbd"
   },
   "outputs": [
    {
     "data": {
      "text/plain": [
       "True"
      ]
     },
     "execution_count": 32,
     "metadata": {},
     "output_type": "execute_result"
    }
   ],
   "source": [
    "check_ten(10, 0)"
   ]
  },
  {
   "cell_type": "code",
   "execution_count": 33,
   "metadata": {
    "colab": {
     "base_uri": "https://localhost:8080/"
    },
    "executionInfo": {
     "elapsed": 17,
     "status": "ok",
     "timestamp": 1638378917822,
     "user": {
      "displayName": "Maria Julliette Marin Alarcon",
      "photoUrl": "https://lh3.googleusercontent.com/a/default-user=s64",
      "userId": "14948341870893292997"
     },
     "user_tz": 240
    },
    "id": "KWek62_G7KEz",
    "outputId": "f3df1aa7-ab0e-4855-98c5-8209850a29ca"
   },
   "outputs": [
    {
     "data": {
      "text/plain": [
       "False"
      ]
     },
     "execution_count": 33,
     "metadata": {},
     "output_type": "execute_result"
    }
   ],
   "source": [
    "check_ten(2, 7)"
   ]
  },
  {
   "cell_type": "markdown",
   "metadata": {
    "id": "vVpfQQpg7KE0"
   },
   "source": [
    "<font color='green'>Fin actividad 1</font>"
   ]
  },
  {
   "cell_type": "markdown",
   "metadata": {
    "id": "hMsNgNRm7KE1"
   },
   "source": [
    "## <font color='green'>Actividad 2:</font>\n",
    "### Crea una función \n",
    "\n",
    "Crea una función que tome dos números enteros y devuelva:<br> \n",
    "**True** si su suma es 10<br>\n",
    "de lo contrario, devuelva el valor de la suma real. <br>\n",
    "\n",
    "Nombre su función como **check_ten_sum**"
   ]
  },
  {
   "cell_type": "code",
   "execution_count": 34,
   "metadata": {
    "id": "PcSUCwI-7KE1"
   },
   "outputs": [],
   "source": [
    "# Tu código aquí ...\n",
    "\n",
    "# definición de funcion que toma dos números enteros\n",
    "def check_ten_sum(x1 , x2):\n",
    "  #devuelve true si la suma es 10\n",
    "    if x1 + x2 == 10:\n",
    "        return x1 + x2 == 10\n",
    "  #si la suma no es 10 entonces devuelve el valor de la suma\n",
    "    else:\n",
    "        return x1 + x2\n",
    "       "
   ]
  },
  {
   "cell_type": "code",
   "execution_count": 35,
   "metadata": {
    "colab": {
     "base_uri": "https://localhost:8080/"
    },
    "executionInfo": {
     "elapsed": 287,
     "status": "ok",
     "timestamp": 1638379209298,
     "user": {
      "displayName": "Maria Julliette Marin Alarcon",
      "photoUrl": "https://lh3.googleusercontent.com/a/default-user=s64",
      "userId": "14948341870893292997"
     },
     "user_tz": 240
    },
    "id": "U8i5AkT57KE2",
    "outputId": "3bff2d2f-aefa-4cca-9915-7ea08e8a0a24"
   },
   "outputs": [
    {
     "data": {
      "text/plain": [
       "True"
      ]
     },
     "execution_count": 35,
     "metadata": {},
     "output_type": "execute_result"
    }
   ],
   "source": [
    "check_ten_sum(10,0)"
   ]
  },
  {
   "cell_type": "code",
   "execution_count": 36,
   "metadata": {
    "colab": {
     "base_uri": "https://localhost:8080/"
    },
    "executionInfo": {
     "elapsed": 294,
     "status": "ok",
     "timestamp": 1638379211692,
     "user": {
      "displayName": "Maria Julliette Marin Alarcon",
      "photoUrl": "https://lh3.googleusercontent.com/a/default-user=s64",
      "userId": "14948341870893292997"
     },
     "user_tz": 240
    },
    "id": "5cW5wviO7KE2",
    "outputId": "77200f8e-4d9b-411a-fa84-a3aeb2d69b88"
   },
   "outputs": [
    {
     "data": {
      "text/plain": [
       "9"
      ]
     },
     "execution_count": 36,
     "metadata": {},
     "output_type": "execute_result"
    }
   ],
   "source": [
    "check_ten_sum(2,7)"
   ]
  },
  {
   "cell_type": "markdown",
   "metadata": {
    "id": "wmo6oXjy7KE3"
   },
   "source": [
    "<font color='green'>Fin actividad 2</font>"
   ]
  },
  {
   "cell_type": "markdown",
   "metadata": {
    "id": "vPTYdsf97KE4"
   },
   "source": [
    "## <font color='green'>Actividad 3:</font>\n",
    "### Crea una función \n",
    "\n",
    "Cree una función que tome una cadena y devuelva el primer carácter de esa cadena en mayúsculas."
   ]
  },
  {
   "cell_type": "code",
   "execution_count": 37,
   "metadata": {
    "id": "T_4oEnzz7KE5"
   },
   "outputs": [],
   "source": [
    "def first_upper(mystring):\n",
    "    # Tu código aquí ...\n",
    "    # toma el string y devuelve el primer carácter en mayúscula.\n",
    "    return mystring[0].upper()\n",
    "    "
   ]
  },
  {
   "cell_type": "code",
   "execution_count": 38,
   "metadata": {
    "colab": {
     "base_uri": "https://localhost:8080/",
     "height": 35
    },
    "executionInfo": {
     "elapsed": 299,
     "status": "ok",
     "timestamp": 1638379572527,
     "user": {
      "displayName": "Maria Julliette Marin Alarcon",
      "photoUrl": "https://lh3.googleusercontent.com/a/default-user=s64",
      "userId": "14948341870893292997"
     },
     "user_tz": 240
    },
    "id": "qTvo4P0q7KE6",
    "outputId": "2646d763-079d-41c2-dea9-e5b1157e619b"
   },
   "outputs": [
    {
     "data": {
      "text/plain": [
       "'H'"
      ]
     },
     "execution_count": 38,
     "metadata": {},
     "output_type": "execute_result"
    }
   ],
   "source": [
    "first_upper('hello')"
   ]
  },
  {
   "cell_type": "code",
   "execution_count": 39,
   "metadata": {
    "colab": {
     "base_uri": "https://localhost:8080/",
     "height": 35
    },
    "executionInfo": {
     "elapsed": 338,
     "status": "ok",
     "timestamp": 1638379575095,
     "user": {
      "displayName": "Maria Julliette Marin Alarcon",
      "photoUrl": "https://lh3.googleusercontent.com/a/default-user=s64",
      "userId": "14948341870893292997"
     },
     "user_tz": 240
    },
    "id": "2t-iD6au7KE7",
    "outputId": "4228cf64-e0df-49b3-a4dd-a55025468180",
    "scrolled": true
   },
   "outputs": [
    {
     "data": {
      "text/plain": [
       "'A'"
      ]
     },
     "execution_count": 39,
     "metadata": {},
     "output_type": "execute_result"
    }
   ],
   "source": [
    "first_upper('agent')"
   ]
  },
  {
   "cell_type": "markdown",
   "metadata": {
    "id": "MqdM3zXU7KE8"
   },
   "source": [
    "<font color='green'>Fin actividad 3</font>"
   ]
  },
  {
   "cell_type": "markdown",
   "metadata": {
    "id": "wQiandq37KE9"
   },
   "source": [
    "## <font color='green'>Actividad 4: Challenging</font> \n",
    "### Crea una función\n",
    "\n",
    "Cree una función que tome una temperatura en grados Celsius y la convierta a grados Fahrenheit.<br>\n",
    "Implementa tu función con docstring y return\n",
    "\n",
    "Tip:\n",
    "La fórmula de conversión es la siguiente\n",
    "\n",
    "$\\color{blue}{ºF = ºC * 1.8 + 32}$\n"
   ]
  },
  {
   "cell_type": "code",
   "execution_count": 40,
   "metadata": {
    "id": "0RnyeHCY7KE-"
   },
   "outputs": [],
   "source": [
    "# Tu código aquí ...\n",
    "\n",
    "#Definición de función que toma temperatura en grados Celsius y convierte en grados Fahrenheit\n",
    "def celsius_to_fahrenheit(celsius):\n",
    "    \"\"\"\n",
    "    Convierte temperatura en grados Celsius y convierte en grados Fahrenheit\n",
    "\n",
    "    Parámetros:\n",
    "    celsius (float): temperatura en Celsius\n",
    "\n",
    "    Salida:\n",
    "    Fahrenheit (float): temperatura en Fahrenheit\n",
    "\n",
    "    \"\"\"\n",
    "    return celsius*1.8 + 32"
   ]
  },
  {
   "cell_type": "markdown",
   "metadata": {
    "id": "NFmtZ4LU7KE_"
   },
   "source": [
    "<font color='green'>Fin actividad 4</font>"
   ]
  },
  {
   "cell_type": "markdown",
   "metadata": {
    "id": "S8pK4JJb7KFA"
   },
   "source": [
    "## <font color='green'>Actividad 5: Challenging</font> \n",
    "### Crea una función para el algoritmo del año bisiesto del notebook FP12\n",
    "\n",
    "Cree una función que determine si un año es bisiesto o no. La función debe retornar:<br>\n",
    "**True** si el año ingresado es bisiesto\n",
    "**False** si el año no es bisiesto\n",
    "\n",
    "Incluya el respectivo docstring de la función."
   ]
  },
  {
   "cell_type": "code",
   "execution_count": 41,
   "metadata": {
    "id": "qOm-Y7Y_7KFA"
   },
   "outputs": [],
   "source": [
    "# Tu código aquí ...\n",
    "\n",
    "def leap_year(input_year):\n",
    "    \"\"\"\n",
    "    Función que determine si un año es bisiesto o no.\n",
    "\n",
    "    Parámetros:\n",
    "    input_year (int): año a comprobar\n",
    "\n",
    "    Salida:\n",
    "    True (boolean): indica que el año es bisiesto\n",
    "    False (boolean): indica que el año no es bisiesto\n",
    "\n",
    "    \"\"\"\n",
    "    if input_year % 4 == 0 and (input_year % 100 != 0 or input_year % 400 == 0):\n",
    "        return True\n",
    "    else:\n",
    "        return False"
   ]
  },
  {
   "cell_type": "markdown",
   "metadata": {
    "id": "MK_iccu67KFB"
   },
   "source": [
    "<font color='green'>Fin actividad 5</font>"
   ]
  }
 ],
 "metadata": {
  "colab": {
   "name": "FP18-Functiones_de_usuario.ipynb",
   "provenance": []
  },
  "kernelspec": {
   "display_name": "Python 3 (ipykernel)",
   "language": "python",
   "name": "python3"
  },
  "language_info": {
   "codemirror_mode": {
    "name": "ipython",
    "version": 3
   },
   "file_extension": ".py",
   "mimetype": "text/x-python",
   "name": "python",
   "nbconvert_exporter": "python",
   "pygments_lexer": "ipython3",
   "version": "3.10.5"
  }
 },
 "nbformat": 4,
 "nbformat_minor": 1
}
