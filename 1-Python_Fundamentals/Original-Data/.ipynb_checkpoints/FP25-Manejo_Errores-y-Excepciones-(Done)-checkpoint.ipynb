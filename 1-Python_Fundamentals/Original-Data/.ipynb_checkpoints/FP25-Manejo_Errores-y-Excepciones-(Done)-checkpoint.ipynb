{
 "cells": [
  {
   "cell_type": "markdown",
   "metadata": {
    "id": "fXzYd8AFA0jY"
   },
   "source": [
    "# **Introducción a Python**\n",
    "# FP25. Manejo de errores y excepciones"
   ]
  },
  {
   "cell_type": "markdown",
   "metadata": {
    "id": "eudrnG1TA0jf"
   },
   "source": [
    "¡Incluso los agentes especiales cometen errores! Definitivamente has cometido errores hasta este punto de tu entrenamiento. Veamos qué se produce cuando obtenemos un error e intentemos comprenderlos mejor:"
   ]
  },
  {
   "cell_type": "code",
   "execution_count": 2,
   "metadata": {
    "colab": {
     "base_uri": "https://localhost:8080/",
     "height": 130
    },
    "executionInfo": {
     "elapsed": 19,
     "status": "error",
     "timestamp": 1638323805620,
     "user": {
      "displayName": "Nicolas Enrique Bastias Tejos",
      "photoUrl": "https://lh3.googleusercontent.com/a/default-user=s64",
      "userId": "05876033824720005772"
     },
     "user_tz": 180
    },
    "id": "xz2phkD7A0jh",
    "outputId": "e0e3003b-28a3-4fcb-a8a1-75f8f27f3278"
   },
   "outputs": [
    {
     "ename": "SyntaxError",
     "evalue": "unterminated string literal (detected at line 5) (3883662005.py, line 5)",
     "output_type": "error",
     "traceback": [
      "\u001b[1;36m  Input \u001b[1;32mIn [2]\u001b[1;36m\u001b[0m\n\u001b[1;33m    print('hola)\u001b[0m\n\u001b[1;37m          ^\u001b[0m\n\u001b[1;31mSyntaxError\u001b[0m\u001b[1;31m:\u001b[0m unterminated string literal (detected at line 5)\n"
     ]
    }
   ],
   "source": [
    "# Ejecuta esta celda tal y como está ...\n",
    "\n",
    "#Error!\n",
    "\n",
    "print('hola)"
   ]
  },
  {
   "cell_type": "markdown",
   "metadata": {
    "id": "YdQcNvqdA0ji"
   },
   "source": [
    "Fíjate que obtenemos un **SyntaxError**, con la descripción adicional de que fue un **EOL (Error de fin de línea) mientras se escanea la cadena literal**. Esto es lo suficientemente específico para que veamos que olvidamos una comilla simple al final de la línea. Comprender estos diversos tipos de errores te ayudarán a depurar tu código mucho más rápido.\n",
    "\n",
    "Este tipo de error y descripción se conoce como una **Excepción** (*Exception*). Incluso si una declaración o expresión es sintácticamente correcta, puede causar un error cuando se intenta ejecutarla. Los errores detectados durante la ejecución se denominan excepciones y no son necesariamente fatales.\n",
    "\n",
    "Puedes consultar la lista completa de [excepciones](https://docs.python.org/3/tutorial/errors.html) aquí. Ahora aprendamos a manejar errores y excepciones en nuestro propio código."
   ]
  },
  {
   "cell_type": "markdown",
   "metadata": {
    "id": "HF5uz3gxA0jj"
   },
   "source": [
    "## <font color='blue'>**try except**</font> \n",
    "\n",
    "La terminología y la sintaxis básicas que se utilizan para manejar errores en Python son las declaraciones **try** y **except**. El código que puede hacer que ocurra una excepción se coloca en el bloque *try* y el manejo de la excepción se implementa en el bloque de código *except*. Nuevamente la indentación es clave en esta estructura. La forma de sintaxis es:\n",
    "```python\n",
    "     try:\n",
    "        # Intentas tu operación aquí\n",
    "     except ExceptionI:\n",
    "        # Si hay ExceptionI, ejecuta este bloque.\n",
    "     except ExceptionII:\n",
    "        # Si hay ExceptionII, ejecuta este bloque.\n",
    "     else:\n",
    "        # Si no hay excepción, ejecuta este bloque.\n",
    "     finally:\n",
    "        # Siempre ejecuta este código\n",
    "```\n",
    "También podemos verificar cualquier excepción con solo usar **except**. Para comprender mejor todo esto, veremos un ejemplo de un código que abre y escribe en un archivo."
   ]
  },
  {
   "cell_type": "markdown",
   "metadata": {
    "id": "FYeWqaqEA0jl"
   },
   "source": [
    "<font color='red'>Atención:</font>\n",
    "\n",
    "Recuerda conectar tu Drive y corregir la ruta de ser necesario."
   ]
  },
  {
   "cell_type": "code",
   "execution_count": 3,
   "metadata": {
    "colab": {
     "base_uri": "https://localhost:8080/"
    },
    "executionInfo": {
     "elapsed": 25270,
     "status": "ok",
     "timestamp": 1638324132756,
     "user": {
      "displayName": "Nicolas Enrique Bastias Tejos",
      "photoUrl": "https://lh3.googleusercontent.com/a/default-user=s64",
      "userId": "05876033824720005772"
     },
     "user_tz": 180
    },
    "id": "ZnBkqCyMuUHW",
    "outputId": "2d14bba4-b688-4402-f81f-b6c0ecf08824"
   },
   "outputs": [],
   "source": [
    "#Montar el Drive de Colab\n",
    "# from google.colab import drive\n",
    "# drive.mount('/content/drive')"
   ]
  },
  {
   "cell_type": "code",
   "execution_count": 4,
   "metadata": {
    "colab": {
     "base_uri": "https://localhost:8080/"
    },
    "executionInfo": {
     "elapsed": 1140,
     "status": "ok",
     "timestamp": 1638324171245,
     "user": {
      "displayName": "Nicolas Enrique Bastias Tejos",
      "photoUrl": "https://lh3.googleusercontent.com/a/default-user=s64",
      "userId": "05876033824720005772"
     },
     "user_tz": 180
    },
    "id": "kurJOwYIA0jl",
    "outputId": "7a1afec1-77a6-47d1-c225-5506c6ee29f0"
   },
   "outputs": [
    {
     "name": "stdout",
     "output_type": "stream",
     "text": [
      "Contenido escrito exitosamente\n"
     ]
    }
   ],
   "source": [
    "try:\n",
    "    # Abre un archivo nuevo llamado 'testfile' y escribe adentro la frase 'Prueba escribiendo esto'\n",
    "    f = open('testfile','w')\n",
    "    f.write('Prueba escribiendo esto')\n",
    "    \n",
    "except IOError:\n",
    "    # Esto solo buscará una excepción del tipo IOError y luego ejecutará la declaración de print( )\n",
    "    print(\"Error: Archivo no encontrado o no se pudo leer su data\")\n",
    "else:\n",
    "    # No hubo error, asi que entra acá\n",
    "    print(\"Contenido escrito exitosamente\")\n",
    "    f.close()"
   ]
  },
  {
   "cell_type": "markdown",
   "metadata": {
    "id": "5C-GOwOmA0jm"
   },
   "source": [
    "Ahora veamos qué pasaría si no tuviéramos permiso de escritura (abriendo solo con 'r'):"
   ]
  },
  {
   "cell_type": "code",
   "execution_count": 5,
   "metadata": {
    "colab": {
     "base_uri": "https://localhost:8080/"
    },
    "executionInfo": {
     "elapsed": 328,
     "status": "ok",
     "timestamp": 1638324392266,
     "user": {
      "displayName": "Nicolas Enrique Bastias Tejos",
      "photoUrl": "https://lh3.googleusercontent.com/a/default-user=s64",
      "userId": "05876033824720005772"
     },
     "user_tz": 180
    },
    "id": "GQ1C_fuLA0jn",
    "outputId": "f72c628b-97fd-44d6-978d-3e13fb031c70"
   },
   "outputs": [
    {
     "name": "stdout",
     "output_type": "stream",
     "text": [
      "Error: Archivo no encontrado o no se pudo leer su data\n"
     ]
    }
   ],
   "source": [
    "try:\n",
    "    # Como esta solo con permiso de lectura, no puede escribir\n",
    "    f = open('testfile','r')\n",
    "    f.write('Prueba escribiendo esto')\n",
    "    \n",
    "except IOError:\n",
    "    # Esto solo buscará una excepción del tipo IOError y luego ejecutará la declaración de print( )\n",
    "    print(\"Error: Archivo no encontrado o no se pudo leer su data\")\n",
    "else:\n",
    "    print(\"Contenido escrito exitosamente\")\n",
    "    f.close()"
   ]
  },
  {
   "cell_type": "code",
   "execution_count": 6,
   "metadata": {
    "id": "nYzEDBGcCA3j"
   },
   "outputs": [],
   "source": [
    "#f = open('testfile','r')\n",
    "#f.write('Prueba escribiendo esto')"
   ]
  },
  {
   "cell_type": "markdown",
   "metadata": {
    "id": "NwYXcvp9A0jo"
   },
   "source": [
    "Si queremos verificar varios errores, podemos usar sólo **except:**"
   ]
  },
  {
   "cell_type": "code",
   "execution_count": 7,
   "metadata": {
    "colab": {
     "base_uri": "https://localhost:8080/"
    },
    "executionInfo": {
     "elapsed": 363,
     "status": "ok",
     "timestamp": 1638324579419,
     "user": {
      "displayName": "Nicolas Enrique Bastias Tejos",
      "photoUrl": "https://lh3.googleusercontent.com/a/default-user=s64",
      "userId": "05876033824720005772"
     },
     "user_tz": 180
    },
    "id": "N5LfbU3xA0jp",
    "outputId": "3326b68f-7022-4a0a-a73f-4cee43e6b60f"
   },
   "outputs": [
    {
     "name": "stdout",
     "output_type": "stream",
     "text": [
      "Error: Archivo no encontrado o no se pudo leer su data\n"
     ]
    }
   ],
   "source": [
    "try:\n",
    "    f = open('testfile','r')\n",
    "    f.write('Prueba escribiendo esto')\n",
    "    \n",
    "except:\n",
    "    \n",
    "    # En este caso se evaluarán todas las posibles excepciones\n",
    "    print(\"Error: Archivo no encontrado o no se pudo leer su data\")\n",
    "else:\n",
    "    \n",
    "    print(\"Contenido escrito exitosamente\")\n",
    "    f.close()"
   ]
  },
  {
   "cell_type": "markdown",
   "metadata": {
    "id": "-jEK2qxjA0jq"
   },
   "source": [
    "De esta manera, no tendrás que preocuparte por memorizar todos los tipos de excepción posibles.\n",
    "\n",
    "## <font color='blue'>**finally**</font>\n",
    "Veamos ahora la palabra clave **finally**:"
   ]
  },
  {
   "cell_type": "code",
   "execution_count": 8,
   "metadata": {
    "colab": {
     "base_uri": "https://localhost:8080/"
    },
    "executionInfo": {
     "elapsed": 358,
     "status": "ok",
     "timestamp": 1638324620924,
     "user": {
      "displayName": "Nicolas Enrique Bastias Tejos",
      "photoUrl": "https://lh3.googleusercontent.com/a/default-user=s64",
      "userId": "05876033824720005772"
     },
     "user_tz": 180
    },
    "id": "0vCJiF82A0jq",
    "outputId": "e962ca73-2f20-4f1e-8f87-156a0f5fcac6"
   },
   "outputs": [
    {
     "name": "stdout",
     "output_type": "stream",
     "text": [
      "Siempre se ejecuta el set de instruciones anidadas en 'finally'\n"
     ]
    }
   ],
   "source": [
    "try:\n",
    "    f = open(\"testfile\", \"w\")\n",
    "    f.write(\"Prueba escribiendo esto\")\n",
    "finally:\n",
    "    print(\"Siempre se ejecuta el set de instruciones anidadas en 'finally'\")\n",
    "    f.close()"
   ]
  },
  {
   "cell_type": "code",
   "execution_count": 9,
   "metadata": {
    "colab": {
     "base_uri": "https://localhost:8080/"
    },
    "executionInfo": {
     "elapsed": 370,
     "status": "ok",
     "timestamp": 1638324634170,
     "user": {
      "displayName": "Nicolas Enrique Bastias Tejos",
      "photoUrl": "https://lh3.googleusercontent.com/a/default-user=s64",
      "userId": "05876033824720005772"
     },
     "user_tz": 180
    },
    "id": "dNNmeKfXA0jr",
    "outputId": "81227a50-0f13-4bc5-9547-dba3c3f73611"
   },
   "outputs": [
    {
     "name": "stdout",
     "output_type": "stream",
     "text": [
      "ERROR\n",
      "Siempre se ejecuta el set de instruciones anidadas en 'finally'\n"
     ]
    }
   ],
   "source": [
    "try:\n",
    "    f = open(\"testfile\", \"r\")\n",
    "    f.write(\"Prueba escribiendo esto\")\n",
    "except:\n",
    "    print('ERROR')\n",
    "finally:\n",
    "    print(\"Siempre se ejecuta el set de instruciones anidadas en 'finally'\")"
   ]
  },
  {
   "cell_type": "markdown",
   "metadata": {
    "id": "jHe1P7lIA0js"
   },
   "source": [
    "Podemos usar esto junto con la palabra clave **except**; con ello obtenemos una estructura de manejo de errores del tipo: **try**, **except**, **else** y **finally**."
   ]
  },
  {
   "cell_type": "code",
   "execution_count": 10,
   "metadata": {
    "colab": {
     "base_uri": "https://localhost:8080/"
    },
    "executionInfo": {
     "elapsed": 661,
     "status": "ok",
     "timestamp": 1638324848127,
     "user": {
      "displayName": "Nicolas Enrique Bastias Tejos",
      "photoUrl": "https://lh3.googleusercontent.com/a/default-user=s64",
      "userId": "05876033824720005772"
     },
     "user_tz": 180
    },
    "id": "ok7bT34oA0js",
    "outputId": "12d37ff2-8f92-497f-c2fa-0ce885f38520"
   },
   "outputs": [
    {
     "name": "stdout",
     "output_type": "stream",
     "text": [
      "Error: Archivo no encontrado o no se pudo leer su data\n",
      "Siempre se ejecuta el set de instruciones anidadas en \"finally\"\n"
     ]
    }
   ],
   "source": [
    "try:\n",
    "    f = open('testfile','r')\n",
    "    f.write('Prueba escribiendo esto')\n",
    "    \n",
    "except:\n",
    "    \n",
    "    # En este caso se evaluarán todas las posibles excepciones\n",
    "    print(\"Error: Archivo no encontrado o no se pudo leer su data\")\n",
    "else:\n",
    "    \n",
    "    print(\"Contenido escrito exitosamente\")\n",
    "    \n",
    "finally:\n",
    "    f.close()\n",
    "    print('Siempre se ejecuta el set de instruciones anidadas en \"finally\"')"
   ]
  },
  {
   "cell_type": "markdown",
   "metadata": {
    "id": "50xPK3JgA0jt"
   },
   "source": [
    "## <font color='blue'>**raise**</font>\n",
    "En Python, se generan excepciones cuando se producen errores en tiempo de ejecución. También podemos generar excepciones manualmente usando la palabra clave ***raise***.\n",
    "\n",
    "Opcionalmente, podemos pasar valores a la excepción para aclarar por qué se generó esa excepción.\n",
    "\n",
    "La sintáxis completa es la siguiente:\n",
    "```python\n",
    "raise NombreError('Mensaje de error (opcional)')  # Con mensaje de error\n",
    "\n",
    "raise NombreError                                 # Sin mensaje de error\n",
    "```\n",
    "Veamos un par de ejemplos"
   ]
  },
  {
   "cell_type": "code",
   "execution_count": 11,
   "metadata": {
    "colab": {
     "base_uri": "https://localhost:8080/",
     "height": 200
    },
    "executionInfo": {
     "elapsed": 397,
     "status": "error",
     "timestamp": 1638324989188,
     "user": {
      "displayName": "Nicolas Enrique Bastias Tejos",
      "photoUrl": "https://lh3.googleusercontent.com/a/default-user=s64",
      "userId": "05876033824720005772"
     },
     "user_tz": 180
    },
    "id": "-3SbzcblA0jt",
    "outputId": "a52b4eb2-ac50-4350-ca47-9ab938d75913"
   },
   "outputs": [
    {
     "ename": "Exception",
     "evalue": "Sólo números mayores a cero",
     "output_type": "error",
     "traceback": [
      "\u001b[1;31m---------------------------------------------------------------------------\u001b[0m",
      "\u001b[1;31mException\u001b[0m                                 Traceback (most recent call last)",
      "Input \u001b[1;32mIn [11]\u001b[0m, in \u001b[0;36m<cell line: 3>\u001b[1;34m()\u001b[0m\n\u001b[0;32m      2\u001b[0m x \u001b[38;5;241m=\u001b[39m \u001b[38;5;241m-\u001b[39m\u001b[38;5;241m1\u001b[39m\n\u001b[0;32m      3\u001b[0m \u001b[38;5;28;01mif\u001b[39;00m x \u001b[38;5;241m<\u001b[39m\u001b[38;5;241m=\u001b[39m \u001b[38;5;241m0\u001b[39m:\n\u001b[1;32m----> 4\u001b[0m     \u001b[38;5;28;01mraise\u001b[39;00m \u001b[38;5;167;01mException\u001b[39;00m(\u001b[38;5;124m'\u001b[39m\u001b[38;5;124mSólo números mayores a cero\u001b[39m\u001b[38;5;124m'\u001b[39m)\n",
      "\u001b[1;31mException\u001b[0m: Sólo números mayores a cero"
     ]
    }
   ],
   "source": [
    "# Genera una excepción si el valor es menor a cero\n",
    "x = -1\n",
    "if x <= 0:\n",
    "    raise Exception('Sólo números mayores a cero')"
   ]
  },
  {
   "cell_type": "code",
   "execution_count": 12,
   "metadata": {
    "id": "JUZq9xtsA0jt"
   },
   "outputs": [],
   "source": [
    "# Ingresar un año\n",
    "def isBisiesto(year):\n",
    "    '''\n",
    "    Función para determinar si un año es bisiesto\n",
    "    Input:\n",
    "      year = Año a determinar si es bisiesto.\n",
    "    '''\n",
    "    if year.isnumeric():\n",
    "        print('Calcula año bisiento')\n",
    "    else:\n",
    "        raise TypeError('Solo ingresar números enteros')"
   ]
  },
  {
   "cell_type": "code",
   "execution_count": 13,
   "metadata": {
    "colab": {
     "base_uri": "https://localhost:8080/"
    },
    "executionInfo": {
     "elapsed": 357,
     "status": "ok",
     "timestamp": 1638325380084,
     "user": {
      "displayName": "Nicolas Enrique Bastias Tejos",
      "photoUrl": "https://lh3.googleusercontent.com/a/default-user=s64",
      "userId": "05876033824720005772"
     },
     "user_tz": 180
    },
    "id": "zDwVfmrFA0ju",
    "outputId": "372381c8-085d-42da-bc15-e02af26a7e70"
   },
   "outputs": [
    {
     "name": "stdout",
     "output_type": "stream",
     "text": [
      "Calcula año bisiento\n"
     ]
    }
   ],
   "source": [
    "isBisiesto('2021')"
   ]
  },
  {
   "cell_type": "code",
   "execution_count": 14,
   "metadata": {
    "colab": {
     "base_uri": "https://localhost:8080/",
     "height": 252
    },
    "executionInfo": {
     "elapsed": 677,
     "status": "error",
     "timestamp": 1638325439788,
     "user": {
      "displayName": "Nicolas Enrique Bastias Tejos",
      "photoUrl": "https://lh3.googleusercontent.com/a/default-user=s64",
      "userId": "05876033824720005772"
     },
     "user_tz": 180
    },
    "id": "_1R-jnxXA0ju",
    "outputId": "784a3ad9-0791-4e2f-c49b-291d9db73634"
   },
   "outputs": [
    {
     "ename": "TypeError",
     "evalue": "Solo ingresar números enteros",
     "output_type": "error",
     "traceback": [
      "\u001b[1;31m---------------------------------------------------------------------------\u001b[0m",
      "\u001b[1;31mTypeError\u001b[0m                                 Traceback (most recent call last)",
      "Input \u001b[1;32mIn [14]\u001b[0m, in \u001b[0;36m<cell line: 1>\u001b[1;34m()\u001b[0m\n\u001b[1;32m----> 1\u001b[0m \u001b[43misBisiesto\u001b[49m\u001b[43m(\u001b[49m\u001b[38;5;124;43m'\u001b[39;49m\u001b[38;5;124;43mhola\u001b[39;49m\u001b[38;5;124;43m'\u001b[39;49m\u001b[43m)\u001b[49m\n",
      "Input \u001b[1;32mIn [12]\u001b[0m, in \u001b[0;36misBisiesto\u001b[1;34m(year)\u001b[0m\n\u001b[0;32m      9\u001b[0m     \u001b[38;5;28mprint\u001b[39m(\u001b[38;5;124m'\u001b[39m\u001b[38;5;124mCalcula año bisiento\u001b[39m\u001b[38;5;124m'\u001b[39m)\n\u001b[0;32m     10\u001b[0m \u001b[38;5;28;01melse\u001b[39;00m:\n\u001b[1;32m---> 11\u001b[0m     \u001b[38;5;28;01mraise\u001b[39;00m \u001b[38;5;167;01mTypeError\u001b[39;00m(\u001b[38;5;124m'\u001b[39m\u001b[38;5;124mSolo ingresar números enteros\u001b[39m\u001b[38;5;124m'\u001b[39m)\n",
      "\u001b[1;31mTypeError\u001b[0m: Solo ingresar números enteros"
     ]
    }
   ],
   "source": [
    "isBisiesto('hola')"
   ]
  },
  {
   "cell_type": "markdown",
   "metadata": {
    "id": "jmiGsrGCA0ju"
   },
   "source": [
    "Veamos lo mismo con **try**, **except**"
   ]
  },
  {
   "cell_type": "code",
   "execution_count": 15,
   "metadata": {
    "id": "Q87js57GA0ju"
   },
   "outputs": [],
   "source": [
    "def isBisiesto2(year):\n",
    "    '''\n",
    "    Función para determinar si un año es númerico\n",
    "    Input:\n",
    "      year = Año a determinar si es bisiesto.\n",
    "    '''  \n",
    "    try:\n",
    "        int(year)\n",
    "        \n",
    "    except ValueError:\n",
    "        raise TypeError('Solo ingresar números enteros')\n",
    "\n",
    "    else:\n",
    "        print('Calcula año bisiento')\n"
   ]
  },
  {
   "cell_type": "code",
   "execution_count": 16,
   "metadata": {
    "colab": {
     "base_uri": "https://localhost:8080/"
    },
    "executionInfo": {
     "elapsed": 326,
     "status": "ok",
     "timestamp": 1638413454258,
     "user": {
      "displayName": "Nicolas Enrique Bastias Tejos",
      "photoUrl": "https://lh3.googleusercontent.com/a/default-user=s64",
      "userId": "05876033824720005772"
     },
     "user_tz": 180
    },
    "id": "VMGL8KquA0jv",
    "outputId": "49929d5b-c3c0-4d4e-90d1-b60628ce3246"
   },
   "outputs": [
    {
     "name": "stdout",
     "output_type": "stream",
     "text": [
      "Calcula año bisiento\n"
     ]
    }
   ],
   "source": [
    "isBisiesto2('1998')"
   ]
  },
  {
   "cell_type": "code",
   "execution_count": 17,
   "metadata": {
    "colab": {
     "base_uri": "https://localhost:8080/",
     "height": 432
    },
    "executionInfo": {
     "elapsed": 363,
     "status": "error",
     "timestamp": 1638413460509,
     "user": {
      "displayName": "Nicolas Enrique Bastias Tejos",
      "photoUrl": "https://lh3.googleusercontent.com/a/default-user=s64",
      "userId": "05876033824720005772"
     },
     "user_tz": 180
    },
    "id": "pnpgW9GOA0jv",
    "outputId": "5f4e6214-1ace-42d3-e596-dee22a9f2d88"
   },
   "outputs": [
    {
     "ename": "TypeError",
     "evalue": "Solo ingresar números enteros",
     "output_type": "error",
     "traceback": [
      "\u001b[1;31m---------------------------------------------------------------------------\u001b[0m",
      "\u001b[1;31mValueError\u001b[0m                                Traceback (most recent call last)",
      "Input \u001b[1;32mIn [15]\u001b[0m, in \u001b[0;36misBisiesto2\u001b[1;34m(year)\u001b[0m\n\u001b[0;32m      7\u001b[0m \u001b[38;5;28;01mtry\u001b[39;00m:\n\u001b[1;32m----> 8\u001b[0m     \u001b[38;5;28;43mint\u001b[39;49m\u001b[43m(\u001b[49m\u001b[43myear\u001b[49m\u001b[43m)\u001b[49m\n\u001b[0;32m     10\u001b[0m \u001b[38;5;28;01mexcept\u001b[39;00m \u001b[38;5;167;01mValueError\u001b[39;00m:\n",
      "\u001b[1;31mValueError\u001b[0m: invalid literal for int() with base 10: 'hola'",
      "\nDuring handling of the above exception, another exception occurred:\n",
      "\u001b[1;31mTypeError\u001b[0m                                 Traceback (most recent call last)",
      "Input \u001b[1;32mIn [17]\u001b[0m, in \u001b[0;36m<cell line: 1>\u001b[1;34m()\u001b[0m\n\u001b[1;32m----> 1\u001b[0m \u001b[43misBisiesto2\u001b[49m\u001b[43m(\u001b[49m\u001b[38;5;124;43m'\u001b[39;49m\u001b[38;5;124;43mhola\u001b[39;49m\u001b[38;5;124;43m'\u001b[39;49m\u001b[43m)\u001b[49m\n",
      "Input \u001b[1;32mIn [15]\u001b[0m, in \u001b[0;36misBisiesto2\u001b[1;34m(year)\u001b[0m\n\u001b[0;32m      8\u001b[0m     \u001b[38;5;28mint\u001b[39m(year)\n\u001b[0;32m     10\u001b[0m \u001b[38;5;28;01mexcept\u001b[39;00m \u001b[38;5;167;01mValueError\u001b[39;00m:\n\u001b[1;32m---> 11\u001b[0m     \u001b[38;5;28;01mraise\u001b[39;00m \u001b[38;5;167;01mTypeError\u001b[39;00m(\u001b[38;5;124m'\u001b[39m\u001b[38;5;124mSolo ingresar números enteros\u001b[39m\u001b[38;5;124m'\u001b[39m)\n\u001b[0;32m     13\u001b[0m \u001b[38;5;28;01melse\u001b[39;00m:\n\u001b[0;32m     14\u001b[0m     \u001b[38;5;28mprint\u001b[39m(\u001b[38;5;124m'\u001b[39m\u001b[38;5;124mCalcula año bisiento\u001b[39m\u001b[38;5;124m'\u001b[39m)\n",
      "\u001b[1;31mTypeError\u001b[0m: Solo ingresar números enteros"
     ]
    }
   ],
   "source": [
    "isBisiesto2('hola')"
   ]
  },
  {
   "cell_type": "markdown",
   "metadata": {
    "id": "-FMje5HMA0jv"
   },
   "source": [
    "## <font color='green'>Actividad 1: Challenging</font> \n",
    "### Mejora tu función para el algoritmo del año bisiesto del notebook FP18\n",
    "\n",
    "Toma función que realizaste en el notebook FP18 y mejórala con lo siguiente:\n",
    "\n",
    "* Utiliza **try**, **except**, **else** para controlar errores\n",
    "* Utiliza **raise** para generar excepciones\n",
    "* Prueba isBisiesto3() \n",
    "\n",
    "Nombra tu función **isBisiesto3()**"
   ]
  },
  {
   "cell_type": "code",
   "execution_count": 18,
   "metadata": {
    "id": "pTr-bdD0A0jv"
   },
   "outputs": [],
   "source": [
    "# Tu código aquí ...\n",
    "def isBisiesto3(input_year):\n",
    "    \"\"\"\n",
    "    Función que determine si un año es bisiesto o no.\n",
    "\n",
    "    Parámetros:\n",
    "    input_year (int): año a comprobar\n",
    "\n",
    "    Salida:\n",
    "    True (boolean): indica que el año es bisiesto\n",
    "    False (boolean): indica que el año no es bisiesto\n",
    "\n",
    "    \"\"\"\n",
    "    try: \n",
    "      input_year = int(input_year)\n",
    "\n",
    "    except ValueError:\n",
    "        raise TypeError('No se aceptan string ni float. Ingresar números enteros')\n",
    "\n",
    "    else:\n",
    "      if input_year % 4 == 0 and (input_year % 100 != 0 or input_year % 400 == 0):\n",
    "          return True\n",
    "      else:\n",
    "          return False\n",
    "      "
   ]
  },
  {
   "cell_type": "code",
   "execution_count": 19,
   "metadata": {
    "colab": {
     "base_uri": "https://localhost:8080/"
    },
    "executionInfo": {
     "elapsed": 520,
     "status": "ok",
     "timestamp": 1638413277448,
     "user": {
      "displayName": "Nicolas Enrique Bastias Tejos",
      "photoUrl": "https://lh3.googleusercontent.com/a/default-user=s64",
      "userId": "05876033824720005772"
     },
     "user_tz": 180
    },
    "id": "NMbg4qybA0jv",
    "outputId": "59ac5572-f675-480b-bc7a-2b8b98e3072c"
   },
   "outputs": [
    {
     "data": {
      "text/plain": [
       "False"
      ]
     },
     "execution_count": 19,
     "metadata": {},
     "output_type": "execute_result"
    }
   ],
   "source": [
    "isBisiesto3('2018')"
   ]
  },
  {
   "cell_type": "code",
   "execution_count": 20,
   "metadata": {
    "colab": {
     "base_uri": "https://localhost:8080/"
    },
    "executionInfo": {
     "elapsed": 396,
     "status": "ok",
     "timestamp": 1638413274841,
     "user": {
      "displayName": "Nicolas Enrique Bastias Tejos",
      "photoUrl": "https://lh3.googleusercontent.com/a/default-user=s64",
      "userId": "05876033824720005772"
     },
     "user_tz": 180
    },
    "id": "RlCeiPVbA0jw",
    "outputId": "96fba899-44cc-4ab5-aef8-8d3aed3314ad"
   },
   "outputs": [
    {
     "data": {
      "text/plain": [
       "True"
      ]
     },
     "execution_count": 20,
     "metadata": {},
     "output_type": "execute_result"
    }
   ],
   "source": [
    "isBisiesto3('2020')"
   ]
  },
  {
   "cell_type": "code",
   "execution_count": 21,
   "metadata": {
    "colab": {
     "base_uri": "https://localhost:8080/",
     "height": 432
    },
    "executionInfo": {
     "elapsed": 7,
     "status": "error",
     "timestamp": 1638413279507,
     "user": {
      "displayName": "Nicolas Enrique Bastias Tejos",
      "photoUrl": "https://lh3.googleusercontent.com/a/default-user=s64",
      "userId": "05876033824720005772"
     },
     "user_tz": 180
    },
    "id": "6odv0KDIA0jw",
    "outputId": "9b6eb476-ff23-4d95-c5ef-c38f1a3050fe"
   },
   "outputs": [
    {
     "ename": "TypeError",
     "evalue": "No se aceptan string ni float. Ingresar números enteros",
     "output_type": "error",
     "traceback": [
      "\u001b[1;31m---------------------------------------------------------------------------\u001b[0m",
      "\u001b[1;31mValueError\u001b[0m                                Traceback (most recent call last)",
      "Input \u001b[1;32mIn [18]\u001b[0m, in \u001b[0;36misBisiesto3\u001b[1;34m(input_year)\u001b[0m\n\u001b[0;32m     14\u001b[0m \u001b[38;5;28;01mtry\u001b[39;00m: \n\u001b[1;32m---> 15\u001b[0m   input_year \u001b[38;5;241m=\u001b[39m \u001b[38;5;28;43mint\u001b[39;49m\u001b[43m(\u001b[49m\u001b[43minput_year\u001b[49m\u001b[43m)\u001b[49m\n\u001b[0;32m     17\u001b[0m \u001b[38;5;28;01mexcept\u001b[39;00m \u001b[38;5;167;01mValueError\u001b[39;00m:\n",
      "\u001b[1;31mValueError\u001b[0m: invalid literal for int() with base 10: 'hola'",
      "\nDuring handling of the above exception, another exception occurred:\n",
      "\u001b[1;31mTypeError\u001b[0m                                 Traceback (most recent call last)",
      "Input \u001b[1;32mIn [21]\u001b[0m, in \u001b[0;36m<cell line: 1>\u001b[1;34m()\u001b[0m\n\u001b[1;32m----> 1\u001b[0m \u001b[43misBisiesto3\u001b[49m\u001b[43m(\u001b[49m\u001b[38;5;124;43m'\u001b[39;49m\u001b[38;5;124;43mhola\u001b[39;49m\u001b[38;5;124;43m'\u001b[39;49m\u001b[43m)\u001b[49m\n",
      "Input \u001b[1;32mIn [18]\u001b[0m, in \u001b[0;36misBisiesto3\u001b[1;34m(input_year)\u001b[0m\n\u001b[0;32m     15\u001b[0m   input_year \u001b[38;5;241m=\u001b[39m \u001b[38;5;28mint\u001b[39m(input_year)\n\u001b[0;32m     17\u001b[0m \u001b[38;5;28;01mexcept\u001b[39;00m \u001b[38;5;167;01mValueError\u001b[39;00m:\n\u001b[1;32m---> 18\u001b[0m     \u001b[38;5;28;01mraise\u001b[39;00m \u001b[38;5;167;01mTypeError\u001b[39;00m(\u001b[38;5;124m'\u001b[39m\u001b[38;5;124mNo se aceptan string ni float. Ingresar números enteros\u001b[39m\u001b[38;5;124m'\u001b[39m)\n\u001b[0;32m     20\u001b[0m \u001b[38;5;28;01melse\u001b[39;00m:\n\u001b[0;32m     21\u001b[0m   \u001b[38;5;28;01mif\u001b[39;00m input_year \u001b[38;5;241m%\u001b[39m \u001b[38;5;241m4\u001b[39m \u001b[38;5;241m==\u001b[39m \u001b[38;5;241m0\u001b[39m \u001b[38;5;129;01mand\u001b[39;00m (input_year \u001b[38;5;241m%\u001b[39m \u001b[38;5;241m100\u001b[39m \u001b[38;5;241m!=\u001b[39m \u001b[38;5;241m0\u001b[39m \u001b[38;5;129;01mor\u001b[39;00m input_year \u001b[38;5;241m%\u001b[39m \u001b[38;5;241m400\u001b[39m \u001b[38;5;241m==\u001b[39m \u001b[38;5;241m0\u001b[39m):\n",
      "\u001b[1;31mTypeError\u001b[0m: No se aceptan string ni float. Ingresar números enteros"
     ]
    }
   ],
   "source": [
    "isBisiesto3('hola')"
   ]
  },
  {
   "cell_type": "code",
   "execution_count": 22,
   "metadata": {
    "colab": {
     "base_uri": "https://localhost:8080/",
     "height": 432
    },
    "executionInfo": {
     "elapsed": 438,
     "status": "error",
     "timestamp": 1638413267527,
     "user": {
      "displayName": "Nicolas Enrique Bastias Tejos",
      "photoUrl": "https://lh3.googleusercontent.com/a/default-user=s64",
      "userId": "05876033824720005772"
     },
     "user_tz": 180
    },
    "id": "vNDwLHY7A0jw",
    "outputId": "d9a9bb81-fe69-4dd5-cbad-a390b20d3ca7"
   },
   "outputs": [
    {
     "ename": "TypeError",
     "evalue": "No se aceptan string ni float. Ingresar números enteros",
     "output_type": "error",
     "traceback": [
      "\u001b[1;31m---------------------------------------------------------------------------\u001b[0m",
      "\u001b[1;31mValueError\u001b[0m                                Traceback (most recent call last)",
      "Input \u001b[1;32mIn [18]\u001b[0m, in \u001b[0;36misBisiesto3\u001b[1;34m(input_year)\u001b[0m\n\u001b[0;32m     14\u001b[0m \u001b[38;5;28;01mtry\u001b[39;00m: \n\u001b[1;32m---> 15\u001b[0m   input_year \u001b[38;5;241m=\u001b[39m \u001b[38;5;28;43mint\u001b[39;49m\u001b[43m(\u001b[49m\u001b[43minput_year\u001b[49m\u001b[43m)\u001b[49m\n\u001b[0;32m     17\u001b[0m \u001b[38;5;28;01mexcept\u001b[39;00m \u001b[38;5;167;01mValueError\u001b[39;00m:\n",
      "\u001b[1;31mValueError\u001b[0m: invalid literal for int() with base 10: '2018.0'",
      "\nDuring handling of the above exception, another exception occurred:\n",
      "\u001b[1;31mTypeError\u001b[0m                                 Traceback (most recent call last)",
      "Input \u001b[1;32mIn [22]\u001b[0m, in \u001b[0;36m<cell line: 1>\u001b[1;34m()\u001b[0m\n\u001b[1;32m----> 1\u001b[0m \u001b[43misBisiesto3\u001b[49m\u001b[43m(\u001b[49m\u001b[38;5;124;43m'\u001b[39;49m\u001b[38;5;124;43m2018.0\u001b[39;49m\u001b[38;5;124;43m'\u001b[39;49m\u001b[43m)\u001b[49m\n",
      "Input \u001b[1;32mIn [18]\u001b[0m, in \u001b[0;36misBisiesto3\u001b[1;34m(input_year)\u001b[0m\n\u001b[0;32m     15\u001b[0m   input_year \u001b[38;5;241m=\u001b[39m \u001b[38;5;28mint\u001b[39m(input_year)\n\u001b[0;32m     17\u001b[0m \u001b[38;5;28;01mexcept\u001b[39;00m \u001b[38;5;167;01mValueError\u001b[39;00m:\n\u001b[1;32m---> 18\u001b[0m     \u001b[38;5;28;01mraise\u001b[39;00m \u001b[38;5;167;01mTypeError\u001b[39;00m(\u001b[38;5;124m'\u001b[39m\u001b[38;5;124mNo se aceptan string ni float. Ingresar números enteros\u001b[39m\u001b[38;5;124m'\u001b[39m)\n\u001b[0;32m     20\u001b[0m \u001b[38;5;28;01melse\u001b[39;00m:\n\u001b[0;32m     21\u001b[0m   \u001b[38;5;28;01mif\u001b[39;00m input_year \u001b[38;5;241m%\u001b[39m \u001b[38;5;241m4\u001b[39m \u001b[38;5;241m==\u001b[39m \u001b[38;5;241m0\u001b[39m \u001b[38;5;129;01mand\u001b[39;00m (input_year \u001b[38;5;241m%\u001b[39m \u001b[38;5;241m100\u001b[39m \u001b[38;5;241m!=\u001b[39m \u001b[38;5;241m0\u001b[39m \u001b[38;5;129;01mor\u001b[39;00m input_year \u001b[38;5;241m%\u001b[39m \u001b[38;5;241m400\u001b[39m \u001b[38;5;241m==\u001b[39m \u001b[38;5;241m0\u001b[39m):\n",
      "\u001b[1;31mTypeError\u001b[0m: No se aceptan string ni float. Ingresar números enteros"
     ]
    }
   ],
   "source": [
    "isBisiesto3('2018.0')"
   ]
  },
  {
   "cell_type": "markdown",
   "metadata": {
    "id": "0cK5Y81uA0jx"
   },
   "source": [
    "<font color='green'>Fin actividad 1</font>"
   ]
  },
  {
   "cell_type": "markdown",
   "metadata": {
    "id": "NWCzaQD0A0jx"
   },
   "source": [
    "Muy bien hecho!!"
   ]
  }
 ],
 "metadata": {
  "anaconda-cloud": {},
  "colab": {
   "name": "FP25-Manejo_Errores-y-Excepciones.ipynb",
   "provenance": []
  },
  "kernelspec": {
   "display_name": "Python 3 (ipykernel)",
   "language": "python",
   "name": "python3"
  },
  "language_info": {
   "codemirror_mode": {
    "name": "ipython",
    "version": 3
   },
   "file_extension": ".py",
   "mimetype": "text/x-python",
   "name": "python",
   "nbconvert_exporter": "python",
   "pygments_lexer": "ipython3",
   "version": "3.10.5"
  }
 },
 "nbformat": 4,
 "nbformat_minor": 1
}
