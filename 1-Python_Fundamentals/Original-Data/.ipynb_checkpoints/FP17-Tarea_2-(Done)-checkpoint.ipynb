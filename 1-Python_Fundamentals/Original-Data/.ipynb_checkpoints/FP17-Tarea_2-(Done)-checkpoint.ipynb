{
 "cells": [
  {
   "cell_type": "markdown",
   "metadata": {
    "id": "W9AK_Xxo9S7G"
   },
   "source": [
    "# **Introducción a Python**\n",
    "# FP17. Tarea 2\n",
    "\n",
    "Hola hackers. Aquí tienes una nueva tarea, la cual debes desarrollar una vez terminado el notebook **FP16**\n",
    "_______"
   ]
  },
  {
   "cell_type": "markdown",
   "metadata": {
    "id": "lb2zfQKq9S7K"
   },
   "source": [
    "## <font color='green'>Tarea 1: Challenging</font> \n",
    "Usa un ciclo **for** y e *indexing* para imprimir solo las palabras que comienzan con **p** en esta oración:\n",
    "```python\n",
    "     \"Saber programar en Python nos enseña a pensar\".\n",
    "```\n",
    "Tips:\n",
    "1. Utiliza el método **split()** para dividir la oración en palabras individuales\n",
    "2. Utiliza el método **lower()** para convertir todas las letras a minúsculas. Recuerda que **p** no es igual a **P**\n",
    "3. Utilice un bucle **fo**r para iterar sobre las palabras de la cadena **mystring**"
   ]
  },
  {
   "cell_type": "code",
   "execution_count": 1,
   "metadata": {
    "executionInfo": {
     "elapsed": 11,
     "status": "ok",
     "timestamp": 1638497561930,
     "user": {
      "displayName": "Maria Julliette Marin Alarcon",
      "photoUrl": "https://lh3.googleusercontent.com/a/default-user=s64",
      "userId": "14948341870893292997"
     },
     "user_tz": 240
    },
    "id": "h-qOdtv49S7L"
   },
   "outputs": [],
   "source": [
    "mystring = \"Saber programar en Python nos enseña a pensar.\""
   ]
  },
  {
   "cell_type": "code",
   "execution_count": 2,
   "metadata": {
    "colab": {
     "base_uri": "https://localhost:8080/"
    },
    "executionInfo": {
     "elapsed": 286,
     "status": "ok",
     "timestamp": 1638497670683,
     "user": {
      "displayName": "Maria Julliette Marin Alarcon",
      "photoUrl": "https://lh3.googleusercontent.com/a/default-user=s64",
      "userId": "14948341870893292997"
     },
     "user_tz": 240
    },
    "id": "q-Ft6wEh9S7N",
    "outputId": "9b126872-9be3-4082-9f99-6ad41a074457"
   },
   "outputs": [
    {
     "name": "stdout",
     "output_type": "stream",
     "text": [
      "programar\n",
      "Python\n",
      "pensar.\n"
     ]
    }
   ],
   "source": [
    "# Tu código aquí ...\n",
    "# Programa para imprimir palabras que comiencen con 'p' en mystring\n",
    "# Ciclo for para recorrer mystring con método split()\n",
    "for i in mystring.split():\n",
    "  # Condición para confirmar si comienza con 'p' asegurando la comparación en minúsculas\n",
    "  if i[0].lower() == 'p':\n",
    "    # Impresión si comienza con 'p'\n",
    "    print(i)\n",
    "\n",
    " \n"
   ]
  },
  {
   "cell_type": "markdown",
   "metadata": {
    "id": "HoQuLliG9S7P"
   },
   "source": [
    "Tu salida debería verse como esto:\n",
    "\n",
    "```Python\n",
    "programar\n",
    "Python\n",
    "pensar.\n",
    "```"
   ]
  },
  {
   "cell_type": "markdown",
   "metadata": {
    "id": "4JsTTdYq9S7P"
   },
   "source": [
    "## <font color='green'>Tarea 2: Challenging</font> \n",
    "Usando la misma cadena que se usó anteriormente (**mystring**):\n",
    "```python\n",
    "mystring = \"Saber programar en Python nos enseña a pensar\".\n",
    "```\n",
    "\n",
    "Usa un bucle **for** para imprimir solo las palabras con un número par de caracteres / letras.\n",
    "\n",
    "Tips:\n",
    "1. Utiliza el método **split()** para dividir la oración en palabras individuales\n",
    "2. Para obtener la longitud de una palabra, puede usar el método **len()**.\n",
    "```python\n",
    "     len (mi_variable_aquí)\n",
    "```\n",
    "3. Recuerda el uso del operador **%**. Devuelve el módulo de una división.\n",
    "```python\n",
    "     if len (my_variable_here)% 2 == 0:\n",
    "```\n",
    "4. Imprime usando la función **print()** y **f-strings**"
   ]
  },
  {
   "cell_type": "code",
   "execution_count": 3,
   "metadata": {
    "colab": {
     "base_uri": "https://localhost:8080/"
    },
    "executionInfo": {
     "elapsed": 317,
     "status": "ok",
     "timestamp": 1638497815783,
     "user": {
      "displayName": "Maria Julliette Marin Alarcon",
      "photoUrl": "https://lh3.googleusercontent.com/a/default-user=s64",
      "userId": "14948341870893292997"
     },
     "user_tz": 240
    },
    "id": "RkiU18AH9S7Q",
    "outputId": "6b849cea-6a3d-4f75-826f-92668896b889"
   },
   "outputs": [
    {
     "name": "stdout",
     "output_type": "stream",
     "text": [
      "en\n",
      "Python\n",
      "enseña\n"
     ]
    }
   ],
   "source": [
    "# Tu código aquí ...\n",
    "# Programa para imprimir solo las palabras con un número par de caracteres / letras\n",
    "mystring = \"Saber programar en Python nos enseña a pensar.\"\n",
    "# Ciclo for para recorrer mystring con método split() en palabras individuales\n",
    "for i in mystring.split():\n",
    "  # Condición: con método len() se obtiene el largo de la palabra y se confirma si es par\n",
    "  if len(i) % 2 == 0:\n",
    "    # Impresión utilizando print() y f-strings de palabras con número de caracteres par\n",
    "    print(i)"
   ]
  },
  {
   "cell_type": "markdown",
   "metadata": {
    "id": "nmha5D1i9S7Q"
   },
   "source": [
    "Tu salida debería verse como esto:\n",
    "\n",
    "```Python\n",
    "en\n",
    "Python\n",
    "enseña\n",
    "```"
   ]
  },
  {
   "cell_type": "markdown",
   "metadata": {
    "id": "LdxZtheI9S7R"
   },
   "source": [
    "## <font color='green'>Tarea 3:</font> \n",
    "\n",
    "Utiliza un **list comprehension** para crear una lista de cada primera letra de esta cadena:\n",
    "```python\n",
    "     mystring = \"Saber programar en Python nos enseña a pensar.\"\n",
    "```\n",
    "Tip:\n",
    "1. Utiliza la estructura básica de una lista de comprensión\n",
    "```Python\n",
    "[variable for variable in mystring.split()]\n",
    "```\n",
    "2. Utiliza **indexing** para obtener la primera letra de cada palabra, de esta forma:\n",
    "```Python\n",
    "variable [n] # n es la posición de la letra\n",
    "```"
   ]
  },
  {
   "cell_type": "code",
   "execution_count": 4,
   "metadata": {
    "id": "6lsefg6k9S7R"
   },
   "outputs": [],
   "source": [
    "mystring = \"Saber programar en Python nos enseña a pensar.\""
   ]
  },
  {
   "cell_type": "code",
   "execution_count": 5,
   "metadata": {
    "colab": {
     "base_uri": "https://localhost:8080/"
    },
    "executionInfo": {
     "elapsed": 294,
     "status": "ok",
     "timestamp": 1638497944562,
     "user": {
      "displayName": "Maria Julliette Marin Alarcon",
      "photoUrl": "https://lh3.googleusercontent.com/a/default-user=s64",
      "userId": "14948341870893292997"
     },
     "user_tz": 240
    },
    "id": "9JW9Dp_n9S7R",
    "outputId": "daa4985e-3a49-458c-cc04-a62ad593bf07"
   },
   "outputs": [
    {
     "name": "stdout",
     "output_type": "stream",
     "text": [
      "['S', 'p', 'e', 'P', 'n', 'e', 'a', 'p']\n"
     ]
    }
   ],
   "source": [
    "# Tu código aquí ...\n",
    "# Porgrama para crear una lista de cada primera letra de 'mystring' con list comprehension\n",
    "MyList2 = [x[0] for x in mystring.split()]\n",
    "print(MyList2)"
   ]
  },
  {
   "cell_type": "markdown",
   "metadata": {
    "id": "QPwYTs4z9S7S"
   },
   "source": [
    "Tu salida debería verse como esto:\n",
    "\n",
    "```Python\n",
    "['S', 'p', 'e', 'P', 'n', 'e', 'a', 'p']\n",
    "```"
   ]
  },
  {
   "cell_type": "markdown",
   "metadata": {
    "id": "oL_0ecGT9S7S"
   },
   "source": [
    "## <font color='green'>Tarea 4:</font> \n",
    "\n",
    "Utiliza **list comprehension** para crear una lista de todos los números pares del 0 al 10.\n",
    "\n",
    "Tip:\n",
    "1. Ver y revisar **FP16-List-Comprehensions.ipynb**\n",
    "2. Combina una declaración **if** dentro de la **list-comprehensions**."
   ]
  },
  {
   "cell_type": "code",
   "execution_count": 6,
   "metadata": {
    "colab": {
     "base_uri": "https://localhost:8080/"
    },
    "executionInfo": {
     "elapsed": 940,
     "status": "ok",
     "timestamp": 1638498000857,
     "user": {
      "displayName": "Maria Julliette Marin Alarcon",
      "photoUrl": "https://lh3.googleusercontent.com/a/default-user=s64",
      "userId": "14948341870893292997"
     },
     "user_tz": 240
    },
    "id": "Vel0f5L79S7S",
    "outputId": "2e2a8907-6014-4d3f-94b4-5555c3ab6142"
   },
   "outputs": [
    {
     "name": "stdout",
     "output_type": "stream",
     "text": [
      "[0, 2, 4, 6, 8, 10]\n"
     ]
    }
   ],
   "source": [
    "# Tu Código aquí ... \n",
    "# Programa para crear lista de todos los números pares del 0 al 10 con list comprehension\n",
    "MyList3 = [x for x in range(0,11) if x%2 == 0]\n",
    "print(MyList3)"
   ]
  },
  {
   "cell_type": "code",
   "execution_count": null,
   "metadata": {
    "id": "Mp4HPOPX9S7T"
   },
   "outputs": [],
   "source": []
  },
  {
   "cell_type": "markdown",
   "metadata": {
    "id": "dY1BNtGP9S7T"
   },
   "source": [
    "Tu salida debería verse como esto:\n",
    "```Python \n",
    "[0, 2, 4, 6, 8, 10]\n",
    "```"
   ]
  },
  {
   "cell_type": "markdown",
   "metadata": {
    "id": "kuBlnC559S7T"
   },
   "source": [
    "## <font color='green'>Tarea 5:</font> \n",
    "\n",
    "Utiliza la función de **range()** para crear una lista de todos los números pares del 0 al 10.\n",
    "\n",
    "Tip:\n",
    "\n",
    "Recuerda que la función **rango()** tiene un parámetro de paso"
   ]
  },
  {
   "cell_type": "code",
   "execution_count": 7,
   "metadata": {
    "colab": {
     "base_uri": "https://localhost:8080/"
    },
    "executionInfo": {
     "elapsed": 445,
     "status": "ok",
     "timestamp": 1638498030851,
     "user": {
      "displayName": "Maria Julliette Marin Alarcon",
      "photoUrl": "https://lh3.googleusercontent.com/a/default-user=s64",
      "userId": "14948341870893292997"
     },
     "user_tz": 240
    },
    "id": "HMTxE_s_9S7U",
    "outputId": "953270f3-1c47-4577-8b22-7aed78ee1cf4"
   },
   "outputs": [
    {
     "data": {
      "text/plain": [
       "[0, 2, 4, 6, 8, 10]"
      ]
     },
     "execution_count": 7,
     "metadata": {},
     "output_type": "execute_result"
    }
   ],
   "source": [
    "# Tu Código aquí ... \n",
    "# Programa que utiliza la función de range() para crear una lista de todos los números pares del 0 al 10\n",
    "list(range(0,11,2))\n"
   ]
  },
  {
   "cell_type": "markdown",
   "metadata": {
    "id": "pfYGTsHc9S7U"
   },
   "source": [
    "Tu salida debería verse como esto:\n",
    "\n",
    "```Python\n",
    "[0, 2, 4, 6, 8, 10]\n",
    "```"
   ]
  },
  {
   "cell_type": "markdown",
   "metadata": {
    "id": "FA-5JR9b9S7V"
   },
   "source": [
    "## <font color='green'>Tarea 6:</font> \n",
    "\n",
    "Crea un bucle **for** que utilice la biblioteca **random** para generar una lista de 10 números aleatorios. <br>\n",
    "Los números aleatorios deben estar entre 10 y 1000.\n",
    "\n",
    "Tip:\n",
    "1. Necesitas crear una lista vacía para almacenar los números\n",
    "```Python\n",
    "mylist = []\n",
    "```\n",
    "2. Recuerda agregar el elemento a la lista usando el método **append()**\n",
    "```Python\n",
    "mylist.append (algo)\n",
    "```\n",
    "2. Necesitas utilizar las siguientes funciones\n",
    "```Python\n",
    "random.randint (10,1000)\n",
    "rango (0,10)\n",
    "```"
   ]
  },
  {
   "cell_type": "code",
   "execution_count": 8,
   "metadata": {
    "colab": {
     "base_uri": "https://localhost:8080/"
    },
    "executionInfo": {
     "elapsed": 294,
     "status": "ok",
     "timestamp": 1638498146114,
     "user": {
      "displayName": "Maria Julliette Marin Alarcon",
      "photoUrl": "https://lh3.googleusercontent.com/a/default-user=s64",
      "userId": "14948341870893292997"
     },
     "user_tz": 240
    },
    "id": "gDlCn7Sl9S7V",
    "outputId": "5dc012e4-610d-431c-d4b4-e19c2718343a"
   },
   "outputs": [
    {
     "name": "stdout",
     "output_type": "stream",
     "text": [
      "[865, 242, 156, 849, 635, 680, 563, 513, 61, 534]\n"
     ]
    }
   ],
   "source": [
    "# Tu código aquí ...\n",
    "# Programa para crear lista de 10 números aleatorios entre 10 y 100\n",
    "# Se importa biblioteca random\n",
    "import random\n",
    "# Creación e inicialización de lista\n",
    "mylist = []\n",
    "# Ciclo para agregar números aleatorios a la lista con método append()\n",
    "for x in range(0,10):\n",
    "    mylist.append(random.randint(10,1000))\n",
    "\n",
    "print(mylist)"
   ]
  },
  {
   "cell_type": "markdown",
   "metadata": {
    "id": "hIKH2Wjz9S7V"
   },
   "source": [
    "Tu salida debería verse como esto, pero con otros números:\n",
    "\n",
    "```Python\n",
    "[72, 27, 8, 94, 82, 32, 22, 93, 94, 70]\n",
    "```"
   ]
  },
  {
   "cell_type": "markdown",
   "metadata": {
    "id": "GXeRS_Uo9S7W"
   },
   "source": [
    "## <font color='green'>Tarea 7:</font> \n",
    "\n",
    "Utiliza la **List-Comprehensions** y la biblioteca **reandom** para crear una lista de 10 números aleatorios <br>\n",
    "Los números aleatorios deben estar entre 10 y 1000.\n",
    "\n",
    "Tip:\n",
    "1. Ver y revisar notebook de **List-Comprehensions**\n",
    "2. Combina una función **range()** dentro de la **list-comprehension**."
   ]
  },
  {
   "cell_type": "code",
   "execution_count": 9,
   "metadata": {
    "colab": {
     "base_uri": "https://localhost:8080/"
    },
    "executionInfo": {
     "elapsed": 315,
     "status": "ok",
     "timestamp": 1638498246064,
     "user": {
      "displayName": "Maria Julliette Marin Alarcon",
      "photoUrl": "https://lh3.googleusercontent.com/a/default-user=s64",
      "userId": "14948341870893292997"
     },
     "user_tz": 240
    },
    "id": "4KuzVWWX9S7W",
    "outputId": "2a8132cf-90e0-4177-8d54-a1d136e6bdf4"
   },
   "outputs": [
    {
     "data": {
      "text/plain": [
       "[911, 954, 389, 459, 365, 75, 811, 284, 475, 279]"
      ]
     },
     "execution_count": 9,
     "metadata": {},
     "output_type": "execute_result"
    }
   ],
   "source": [
    "# Tu código aquí ...\n",
    "# Programa para crear una lista de 10 números aleatorios utilizando List-Comprehensions \n",
    "# Importar biblioteca random\n",
    "import random\n",
    "#  List-Comprehensions que crea lista\n",
    "[random.randint(10,1000) for a in range(10)]\n"
   ]
  },
  {
   "cell_type": "markdown",
   "metadata": {
    "id": "cIqpM2qw9S7W"
   },
   "source": [
    "Tu salida debería verse como esto, pero con otros números:\n",
    "\n",
    "```Python\n",
    "[767, 39, 966, 465, 449, 725, 64, 708, 745, 190]\n",
    "```"
   ]
  },
  {
   "cell_type": "markdown",
   "metadata": {
    "id": "XssUD62Y9S7X"
   },
   "source": [
    "## <font color='green'>Task 8: Super challenging</font> \n",
    "\n",
    "Crea un ciclo **while** el cual le pida al usuario que ingrese un número par. Debes seguir repitiendo la solicitud hasta que se proporcione un número entero par. <br>\n",
    "Solo debes esperar que se pasen enteros, si el usuario proporciona una cadena u otra cosa que no se puede transformar en un entero con **int()**, entonces el ciclo debería romperse con un error.\n",
    "\n",
    "Tips:\n",
    "1. Utiliza la siguiente función:\n",
    "```Python\n",
    " input()\n",
    "```\n",
    "2. Investiga en internet el uso de la función\n",
    "```Python\n",
    " isdigit()\n",
    "```\n",
    "2. Utiliza while, continue, break, if, else"
   ]
  },
  {
   "cell_type": "code",
   "execution_count": 10,
   "metadata": {
    "colab": {
     "base_uri": "https://localhost:8080/"
    },
    "executionInfo": {
     "elapsed": 5260,
     "status": "ok",
     "timestamp": 1638498545009,
     "user": {
      "displayName": "Maria Julliette Marin Alarcon",
      "photoUrl": "https://lh3.googleusercontent.com/a/default-user=s64",
      "userId": "14948341870893292997"
     },
     "user_tz": 240
    },
    "id": "r0qCGP8N9S7X",
    "outputId": "9241c430-4095-42ab-ef03-3777c3179112"
   },
   "outputs": [
    {
     "name": "stdout",
     "output_type": "stream",
     "text": [
      "Ingrese un número par: 2\n",
      "Ha ingresado un número par\n"
     ]
    }
   ],
   "source": [
    "# Tu código aquí ...\n",
    "# Programa que solicita al usuario ingresar un número par por teclado, y continúa solicitándolo hasta que proporciona número par\n",
    "# Variable que ingresa usuario\n",
    "x = input('Ingrese un número par: ') \n",
    "# Condición que sea un número entero, a través de función isdigit()\n",
    "while x.isdigit() == 1:\n",
    "    if int(x) % 2 == 0:\n",
    "      print('Ha ingresado un número par')\n",
    "      #i= 1\n",
    "      break\n",
    "    else:\n",
    "      x = input('Ingrese un número par: ') \n",
    "# Si no es un número entonces se termina el programa\n",
    "else:\n",
    "      print('No ha ingresado un número')\n",
    "\n",
    "\n"
   ]
  },
  {
   "cell_type": "code",
   "execution_count": 11,
   "metadata": {
    "colab": {
     "base_uri": "https://localhost:8080/"
    },
    "executionInfo": {
     "elapsed": 315,
     "status": "ok",
     "timestamp": 1638498403296,
     "user": {
      "displayName": "Maria Julliette Marin Alarcon",
      "photoUrl": "https://lh3.googleusercontent.com/a/default-user=s64",
      "userId": "14948341870893292997"
     },
     "user_tz": 240
    },
    "id": "WA7viNkA9S7X",
    "outputId": "bc76c882-2e71-4597-e505-c722fc253234"
   },
   "outputs": [
    {
     "data": {
      "text/plain": [
       "True"
      ]
     },
     "execution_count": 11,
     "metadata": {},
     "output_type": "execute_result"
    }
   ],
   "source": [
    "'6'.isdigit()"
   ]
  },
  {
   "cell_type": "code",
   "execution_count": 12,
   "metadata": {
    "colab": {
     "base_uri": "https://localhost:8080/"
    },
    "executionInfo": {
     "elapsed": 15,
     "status": "ok",
     "timestamp": 1638498404780,
     "user": {
      "displayName": "Maria Julliette Marin Alarcon",
      "photoUrl": "https://lh3.googleusercontent.com/a/default-user=s64",
      "userId": "14948341870893292997"
     },
     "user_tz": 240
    },
    "id": "m79SZt6x9S7X",
    "outputId": "f92eed51-7391-4172-b265-d4f8c3c1d8a9"
   },
   "outputs": [
    {
     "data": {
      "text/plain": [
       "False"
      ]
     },
     "execution_count": 12,
     "metadata": {},
     "output_type": "execute_result"
    }
   ],
   "source": [
    "'2.1'.isdigit()"
   ]
  },
  {
   "cell_type": "markdown",
   "metadata": {
    "id": "XmNsobMS9S7Y"
   },
   "source": [
    "Buena suerte hackers!"
   ]
  }
 ],
 "metadata": {
  "colab": {
   "collapsed_sections": [],
   "name": "FP17-Tarea_2 - ok.ipynb",
   "provenance": []
  },
  "kernelspec": {
   "display_name": "Python 3 (ipykernel)",
   "language": "python",
   "name": "python3"
  },
  "language_info": {
   "codemirror_mode": {
    "name": "ipython",
    "version": 3
   },
   "file_extension": ".py",
   "mimetype": "text/x-python",
   "name": "python",
   "nbconvert_exporter": "python",
   "pygments_lexer": "ipython3",
   "version": "3.10.5"
  }
 },
 "nbformat": 4,
 "nbformat_minor": 1
}
