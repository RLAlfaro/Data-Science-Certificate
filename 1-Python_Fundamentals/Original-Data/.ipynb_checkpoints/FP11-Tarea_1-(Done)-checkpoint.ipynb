{
 "cells": [
  {
   "cell_type": "markdown",
   "metadata": {
    "id": "CxIxm-_SrjX9"
   },
   "source": [
    "# **Introducción a Python**\n",
    "# FP11. Tarea 1 \n",
    "\n",
    "Hola hackers. Aquí tienes una tarea. Hay desafíos de distinto tipo, trata de superarlos todos.\n",
    "Buena suerte !!\n",
    "_______"
   ]
  },
  {
   "cell_type": "code",
   "execution_count": 1,
   "metadata": {
    "colab": {
     "base_uri": "https://localhost:8080/"
    },
    "executionInfo": {
     "elapsed": 26944,
     "status": "ok",
     "timestamp": 1638495277424,
     "user": {
      "displayName": "Maria Julliette Marin Alarcon",
      "photoUrl": "https://lh3.googleusercontent.com/a/default-user=s64",
      "userId": "14948341870893292997"
     },
     "user_tz": 240
    },
    "id": "52CCoDK3iCRP",
    "outputId": "ffd0c0fd-7385-4d06-f2cf-02f2d6a1bfff"
   },
   "outputs": [],
   "source": [
    "#from google.colab import drive\n",
    "#drive.mount('/content/drive')"
   ]
  },
  {
   "cell_type": "markdown",
   "metadata": {
    "id": "e9oK-OYOrjYC"
   },
   "source": [
    "## <font color='green'>Tarea 1:</font> \n",
    "Abre el archivo **exam.txt** con Python. La apertura debe ser solo con permiso de lectura y almacena el contenido en una lista llamada **lineas**. <br>\n",
    "Imprime la lista de **lineas**\n",
    "\n",
    "Tip:\n",
    "1. Use la sentencia with ..., de esta forma:\n",
    "\n",
    "```python\n",
    "     with open ('.....') as f:\n",
    "         lineas = f.readlines ()\n",
    "```\n",
    "2. Imprime usando la función **print()**"
   ]
  },
  {
   "cell_type": "code",
   "execution_count": 3,
   "metadata": {},
   "outputs": [],
   "source": [
    "path = \"C:/Users/tarto/rlalfaro_data/Diplomado UDD/DataScience_Certificate_CL/1-Python_Fundamentals/Original-Data/\""
   ]
  },
  {
   "cell_type": "code",
   "execution_count": 7,
   "metadata": {
    "colab": {
     "base_uri": "https://localhost:8080/"
    },
    "executionInfo": {
     "elapsed": 389,
     "status": "ok",
     "timestamp": 1638495411438,
     "user": {
      "displayName": "Maria Julliette Marin Alarcon",
      "photoUrl": "https://lh3.googleusercontent.com/a/default-user=s64",
      "userId": "14948341870893292997"
     },
     "user_tz": 240
    },
    "id": "9APheVulrjYC",
    "outputId": "d655e53e-1fb1-468b-85d9-8b00ec11f01d"
   },
   "outputs": [
    {
     "name": "stdout",
     "output_type": "stream",
     "text": [
      "['Bienvenido a su Primera Prueba aspirante a espía.\\n', 'Si trabajas duro en clase y en casa podrás completarlo.\\n', '¿Completaste todos los cuadernos?\\n', '¿Pediste ayuda cuando tuviste alguna duda?\\n', 'Si practicaste, debería ser bastante simple.\\n', 'Empecemos.\\n', 'Mucha suerte, Hacker.']\n"
     ]
    }
   ],
   "source": [
    "# Tu código aquí ...\n",
    "# Apertura de archivo exam.txt \n",
    "with open (path + 'exam2.txt') as f:\n",
    "  # Contenido de archivo almacenado en lista 'lineas'\n",
    "         lineas = f.readlines ()\n",
    "# Impresión de lista 'lineas'\n",
    "print(lineas)\n"
   ]
  },
  {
   "cell_type": "markdown",
   "metadata": {
    "id": "6En26HYTrjYD"
   },
   "source": [
    "Tu salida debería verse como esto:\n",
    "\n",
    "```Python\n",
    "['Bienvenido a su Primera Prueba aspirante a espía.\\n', 'Si trabajas duro en clase y en casa podrás completarlo.\\n', '¿Completaste todos los cuadernos?\\n', '¿Pediste ayuda cuando tuviste alguna duda?\\n', 'Si practicaste, debería ser bastante simple.\\n', 'Empecemos.\\n', 'Mucha suerte, Hacker.']\n",
    "```"
   ]
  },
  {
   "cell_type": "markdown",
   "metadata": {
    "id": "9vye7_uVrjYE"
   },
   "source": [
    "## <font color='green'>Tarea 2:</font> \n",
    "\n",
    "Verifica que **linea** es una lista.\n",
    "\n",
    "Tip:\n",
    "1. Usa la función **type()**."
   ]
  },
  {
   "cell_type": "code",
   "execution_count": 8,
   "metadata": {
    "colab": {
     "base_uri": "https://localhost:8080/"
    },
    "executionInfo": {
     "elapsed": 289,
     "status": "ok",
     "timestamp": 1638495450038,
     "user": {
      "displayName": "Maria Julliette Marin Alarcon",
      "photoUrl": "https://lh3.googleusercontent.com/a/default-user=s64",
      "userId": "14948341870893292997"
     },
     "user_tz": 240
    },
    "id": "yftVrQzSrjYE",
    "outputId": "11da8861-0a6f-4f71-a193-ac99b90279e7"
   },
   "outputs": [
    {
     "data": {
      "text/plain": [
       "list"
      ]
     },
     "execution_count": 8,
     "metadata": {},
     "output_type": "execute_result"
    }
   ],
   "source": [
    "# Tu código aquí ...\n",
    "# Verificar usando función type() que 'lineas' es una lista\n",
    "type(lineas)\n"
   ]
  },
  {
   "cell_type": "markdown",
   "metadata": {
    "id": "BMRH2KUMrjYF"
   },
   "source": [
    "Tu salida debería verse como esto:\n",
    "\n",
    "```Python\n",
    "list\n",
    "```"
   ]
  },
  {
   "cell_type": "markdown",
   "metadata": {
    "id": "Ka7Uxrs1rjYG"
   },
   "source": [
    "## <font color='green'>Tarea 3:</font> \n",
    "\n",
    "Cuántas líneas tiene el archivo?\n",
    "\n",
    "Tip:\n",
    "1. Usa la función **len()**."
   ]
  },
  {
   "cell_type": "code",
   "execution_count": 9,
   "metadata": {
    "colab": {
     "base_uri": "https://localhost:8080/"
    },
    "executionInfo": {
     "elapsed": 314,
     "status": "ok",
     "timestamp": 1638495485555,
     "user": {
      "displayName": "Maria Julliette Marin Alarcon",
      "photoUrl": "https://lh3.googleusercontent.com/a/default-user=s64",
      "userId": "14948341870893292997"
     },
     "user_tz": 240
    },
    "id": "L9eS5I4frjYH",
    "outputId": "8d950835-e0a3-440f-f015-1d69eee64d90"
   },
   "outputs": [
    {
     "data": {
      "text/plain": [
       "7"
      ]
     },
     "execution_count": 9,
     "metadata": {},
     "output_type": "execute_result"
    }
   ],
   "source": [
    "# Tu código aquí ...\n",
    "# Contar cantidad de líneas que tiene archivo usando función len()\n",
    "len(lineas)"
   ]
  },
  {
   "cell_type": "markdown",
   "metadata": {
    "id": "6aW9EvVkrjYH"
   },
   "source": [
    "Tu salida debería verse como esto:\n",
    "\n",
    "```Python\n",
    "7\n",
    "```"
   ]
  },
  {
   "cell_type": "markdown",
   "metadata": {
    "id": "lQXz4rEArjYI"
   },
   "source": [
    "## <font color='green'>Tarea 4:</font> \n",
    "Imprime la 5ta linea del archivo.\n",
    "\n",
    "Tip:\n",
    "1. Usa la función **print()**.\n",
    "2. Haga una indexación de la lista usando corchetes [], así:\n",
    "```python \n",
    "nombre_de_la_lista[número]\n",
    "```"
   ]
  },
  {
   "cell_type": "code",
   "execution_count": 10,
   "metadata": {
    "colab": {
     "base_uri": "https://localhost:8080/"
    },
    "executionInfo": {
     "elapsed": 292,
     "status": "ok",
     "timestamp": 1638495525455,
     "user": {
      "displayName": "Maria Julliette Marin Alarcon",
      "photoUrl": "https://lh3.googleusercontent.com/a/default-user=s64",
      "userId": "14948341870893292997"
     },
     "user_tz": 240
    },
    "id": "Ko6D2XJ_rjYI",
    "outputId": "300c8ba0-adeb-4450-8604-29b6d2007cc0"
   },
   "outputs": [
    {
     "name": "stdout",
     "output_type": "stream",
     "text": [
      "Si practicaste, debería ser bastante simple.\n",
      "\n"
     ]
    }
   ],
   "source": [
    "# Tu código aquí ...\n",
    "# Imprimir quinta línea del archivo usando la función print e indexación\n",
    "print(lineas[4])\n"
   ]
  },
  {
   "cell_type": "markdown",
   "metadata": {
    "id": "QMLsAPUorjYJ"
   },
   "source": [
    "Tu salida debería verse como esto:\n",
    "\n",
    "```Python\n",
    "Si practicaste, debería ser bastante simple.\n",
    "```"
   ]
  },
  {
   "cell_type": "markdown",
   "metadata": {
    "id": "zluGGCVkrjYJ"
   },
   "source": [
    "## <font color='green'>Tarea 5:</font> \n",
    "Tip:\n",
    "1. Puede indexar el último elemento de una lista usando el índice **- 1**, así:\n",
    "```python\n",
    "     nombre_de_la_lista[-1]\n",
    "```"
   ]
  },
  {
   "cell_type": "code",
   "execution_count": 11,
   "metadata": {
    "colab": {
     "base_uri": "https://localhost:8080/"
    },
    "executionInfo": {
     "elapsed": 294,
     "status": "ok",
     "timestamp": 1638495566706,
     "user": {
      "displayName": "Maria Julliette Marin Alarcon",
      "photoUrl": "https://lh3.googleusercontent.com/a/default-user=s64",
      "userId": "14948341870893292997"
     },
     "user_tz": 240
    },
    "id": "JUpm6QJbrjYJ",
    "outputId": "fc815c70-432b-492f-d3f0-ba4e5a4e8db0"
   },
   "outputs": [
    {
     "name": "stdout",
     "output_type": "stream",
     "text": [
      "Mucha suerte, Hacker.\n"
     ]
    }
   ],
   "source": [
    "# Tu código aquí ...\n",
    "# Indexar el último elemento de 'listas' con el índice -1\n",
    "print(lineas[-1])\n"
   ]
  },
  {
   "cell_type": "markdown",
   "metadata": {
    "id": "PhvNwO6frjYK"
   },
   "source": [
    "Tu salida debería verse como esto:\n",
    "\n",
    "```Python\n",
    "'Mucha suerte, Hacker.'\n",
    "```"
   ]
  },
  {
   "cell_type": "markdown",
   "metadata": {
    "id": "S3U37DrErjYK"
   },
   "source": [
    "## <font color='green'>Tarea 6:</font> \n",
    "Use la indexación para tomar la letra 'H' de la última línea del archivo.\n",
    "\n",
    "Tip:\n",
    "1. Utilice la variable **last_line**.\n",
    "2. Utilice la indexación con corchetes [] para indexar"
   ]
  },
  {
   "cell_type": "code",
   "execution_count": 12,
   "metadata": {
    "colab": {
     "base_uri": "https://localhost:8080/",
     "height": 35
    },
    "executionInfo": {
     "elapsed": 514,
     "status": "ok",
     "timestamp": 1638495641640,
     "user": {
      "displayName": "Maria Julliette Marin Alarcon",
      "photoUrl": "https://lh3.googleusercontent.com/a/default-user=s64",
      "userId": "14948341870893292997"
     },
     "user_tz": 240
    },
    "id": "x3fdajyNrjYK",
    "outputId": "a4a75856-3a71-4914-d622-b60a4f879ac7"
   },
   "outputs": [
    {
     "data": {
      "text/plain": [
       "'H'"
      ]
     },
     "execution_count": 12,
     "metadata": {},
     "output_type": "execute_result"
    }
   ],
   "source": [
    "# Tu código aquí ...\n",
    "# Variable que contiene la última línea del archivo\n",
    "last_line=lineas[-1]\n",
    "# Indexación de la letra 'H'\n",
    "last_line[-7]\n",
    "\n"
   ]
  },
  {
   "cell_type": "markdown",
   "metadata": {
    "id": "fAmTpMSGrjYK"
   },
   "source": [
    "Tu salida debería verse como esto:\n",
    "\n",
    "```Python\n",
    "'H'\n",
    "```"
   ]
  },
  {
   "cell_type": "markdown",
   "metadata": {
    "id": "3393XcUWrjYL"
   },
   "source": [
    "## <font color='green'>Tarea 7:</font> \n",
    "¿Cómo podrías usar Python para contar cuántas palabras hay en **last_line**?\n",
    "\n",
    "Tip:\n",
    "\n",
    "1. Revise el método **split( )** en el cuaderno **FP04-Python-Strings**"
   ]
  },
  {
   "cell_type": "code",
   "execution_count": 13,
   "metadata": {
    "colab": {
     "base_uri": "https://localhost:8080/"
    },
    "executionInfo": {
     "elapsed": 351,
     "status": "ok",
     "timestamp": 1638495678159,
     "user": {
      "displayName": "Maria Julliette Marin Alarcon",
      "photoUrl": "https://lh3.googleusercontent.com/a/default-user=s64",
      "userId": "14948341870893292997"
     },
     "user_tz": 240
    },
    "id": "N9Np1f-srjYL",
    "outputId": "8267b5ff-7741-42d7-fd8c-ca3df888a24e"
   },
   "outputs": [
    {
     "data": {
      "text/plain": [
       "3"
      ]
     },
     "execution_count": 13,
     "metadata": {},
     "output_type": "execute_result"
    }
   ],
   "source": [
    "# Tu código aquí ...\n",
    "\n",
    "# Utilizar método split() para contar palabras de 'last_line'\n",
    "len(last_line.split())\n"
   ]
  },
  {
   "cell_type": "markdown",
   "metadata": {
    "id": "7kd4-ATcrjYL"
   },
   "source": [
    "Tu salida debería verse como esto:\n",
    "\n",
    "```Python\n",
    "3\n",
    "```"
   ]
  },
  {
   "cell_type": "markdown",
   "metadata": {
    "id": "OjTMuywJrjYL"
   },
   "source": [
    "## <font color='green'>Tarea 8:</font> \n",
    "Qué tipos de datos devuelven las siguientes líneas de código:\n",
    "\n",
    "     1.) 2 / 3\n",
    "     2.) 2 + 2.0\n",
    "     3.) 1 + 1\n",
    "     4.) \"2\" + \"2\"\n",
    "     5.) 1 > 2\n",
    "    \n",
    "Tip:\n",
    "1. Intenta responder esto mentalmente antes de verificar ejecutando el código en Python.\n",
    "2. Utiliza la función **type()**"
   ]
  },
  {
   "cell_type": "code",
   "execution_count": 14,
   "metadata": {
    "colab": {
     "base_uri": "https://localhost:8080/"
    },
    "executionInfo": {
     "elapsed": 331,
     "status": "ok",
     "timestamp": 1638495794892,
     "user": {
      "displayName": "Maria Julliette Marin Alarcon",
      "photoUrl": "https://lh3.googleusercontent.com/a/default-user=s64",
      "userId": "14948341870893292997"
     },
     "user_tz": 240
    },
    "id": "p7y4cEPFrjYL",
    "outputId": "0ecf0f3c-a073-4c5d-e05a-5870c0456d20"
   },
   "outputs": [
    {
     "name": "stdout",
     "output_type": "stream",
     "text": [
      "<class 'float'>\n",
      "<class 'float'>\n",
      "<class 'int'>\n",
      "<class 'str'>\n",
      "<class 'bool'>\n"
     ]
    }
   ],
   "source": [
    "# Tu código aquí ...\n",
    "# Con función type() verificar tipo de dato de las líneas\n",
    "print(type(2/3))        # float\n",
    "print(type(2+2.0))      # float\n",
    "print(type(1+1))        # int\n",
    "print(type(\"2\"+\"2\"))    # string\n",
    "print(type(1>2))        # boolean\n"
   ]
  },
  {
   "cell_type": "markdown",
   "metadata": {
    "id": "D90MtWUsrjYL"
   },
   "source": [
    "## <font color='green'>Tarea 9: Super challenging</font> \n",
    "¿Qué tan bien comprendes la indexación (en listas) y el uso de las llaves (en diccionarios)?\n",
    "\n",
    "Aquí te presentamos un conjunto de diccionarios y listas que están anidados (incluidos) dentro de un único diccionario **d**:"
   ]
  },
  {
   "cell_type": "code",
   "execution_count": 15,
   "metadata": {
    "executionInfo": {
     "elapsed": 358,
     "status": "ok",
     "timestamp": 1638495805564,
     "user": {
      "displayName": "Maria Julliette Marin Alarcon",
      "photoUrl": "https://lh3.googleusercontent.com/a/default-user=s64",
      "userId": "14948341870893292997"
     },
     "user_tz": 240
    },
    "id": "Wg2KF2j6rjYM"
   },
   "outputs": [],
   "source": [
    "# Ejecuta esta celda\n",
    "\n",
    "d = {\"nivel 1\":[1,2,{'nivel 2':[5,6,[1,['sácame de aquí por favor !!!']]]}]}"
   ]
  },
  {
   "cell_type": "markdown",
   "metadata": {
    "id": "u4ifNFtnrjYM"
   },
   "source": [
    "Tu tarea es recuperar la cadena \"sácame de aquí por favor !!!\" del diccionario utilizando *indexing* y *keys*\n",
    "\n",
    "Tip:\n",
    "1. Aproxímate a la solución paso a paso, agregando lentamente más y más llamadas de índice.\n",
    "2. Extraiga valores del diccionario usando **[name_of_key]**\n",
    "3. Extraiga elementos de la lista usando indexing con **[número]**\n",
    "4. Utiliza tantas celdas como necesites"
   ]
  },
  {
   "cell_type": "code",
   "execution_count": 16,
   "metadata": {
    "colab": {
     "base_uri": "https://localhost:8080/",
     "height": 35
    },
    "executionInfo": {
     "elapsed": 248,
     "status": "ok",
     "timestamp": 1637927753419,
     "user": {
      "displayName": "Maria Julliette Marin Alarcon",
      "photoUrl": "https://lh3.googleusercontent.com/a/default-user=s64",
      "userId": "14948341870893292997"
     },
     "user_tz": 240
    },
    "id": "e9hDihXSrjYM",
    "outputId": "a83a0268-10ac-44d5-81f8-4ce9f83cbf07"
   },
   "outputs": [
    {
     "data": {
      "text/plain": [
       "'sácame de aquí por favor !!!'"
      ]
     },
     "execution_count": 16,
     "metadata": {},
     "output_type": "execute_result"
    }
   ],
   "source": [
    "# Tu código aquí ...\n",
    "#d[\"nivel 1\"][-1][\"nivel 2\"][-1][-1][-1]\n",
    "d[\"nivel 1\"][-1][\"nivel 2\"][-1][-1][-1]"
   ]
  },
  {
   "cell_type": "markdown",
   "metadata": {
    "id": "qRokompgrjYM"
   },
   "source": [
    "Tu salida debería verse como esto:\n",
    "\n",
    "```Python\n",
    "'sácame de aquí por favor !!!'\n",
    "```"
   ]
  },
  {
   "cell_type": "markdown",
   "metadata": {
    "id": "KYvKSyoirjYM"
   },
   "source": [
    "### <font color='green'>Tarea 10: Challenging</font> \n",
    "¿Cuántos enteros únicos hay en esta lista? \n",
    "\n",
    "Tip:\n",
    "1. Utilice la función **set()** mostrada en **FP08-Sets**.\n",
    "2. Utiliza la función **len()**"
   ]
  },
  {
   "cell_type": "code",
   "execution_count": 17,
   "metadata": {
    "executionInfo": {
     "elapsed": 306,
     "status": "ok",
     "timestamp": 1638495873892,
     "user": {
      "displayName": "Maria Julliette Marin Alarcon",
      "photoUrl": "https://lh3.googleusercontent.com/a/default-user=s64",
      "userId": "14948341870893292997"
     },
     "user_tz": 240
    },
    "id": "K1JON0XsrjYM"
   },
   "outputs": [],
   "source": [
    "# Ejecuta esta celda\n",
    "\n",
    "mylist = [1, 2, 3, 4, 5, 6, 4, 3, 2, 1, 2, 3, 4, 5, 6, 6, 7, 8, 5, 6, 7, 8,\n",
    "          9, 8, 9, 8, 9, 7, 10, 1, 23 ,1 ,2 ,2 ,3 ,1 ,3 ,2 ,4 ,1 ,4 ,4 ,1 ,\n",
    "          2, 22, 3, 4, 1, 4, 1, 3, 1, 22, 3, 6, 3, 1, 23, 4, 6, 1, 2, 10, 1]"
   ]
  },
  {
   "cell_type": "code",
   "execution_count": 18,
   "metadata": {
    "colab": {
     "base_uri": "https://localhost:8080/"
    },
    "executionInfo": {
     "elapsed": 835,
     "status": "ok",
     "timestamp": 1638495968645,
     "user": {
      "displayName": "Maria Julliette Marin Alarcon",
      "photoUrl": "https://lh3.googleusercontent.com/a/default-user=s64",
      "userId": "14948341870893292997"
     },
     "user_tz": 240
    },
    "id": "0ib6PJnwrjYM",
    "outputId": "8123d337-3255-4b56-d612-031e97b17c8d"
   },
   "outputs": [
    {
     "name": "stdout",
     "output_type": "stream",
     "text": [
      "12\n"
     ]
    }
   ],
   "source": [
    "# Tu código aquí ...\n",
    "# Para averiguar cuántos enteros únicos hay en 'mylist'\n",
    "# Se utiliza función set() para crear lista sin elementos repetidos\n",
    "MySet = set(mylist)\n",
    "# Función len() para largo de la lista y por lo tanto elementos tiene la lista\n",
    "largo = len(MySet)\n",
    "print(largo)"
   ]
  },
  {
   "cell_type": "markdown",
   "metadata": {
    "id": "ulUHTsuQrjYN"
   },
   "source": [
    "Tu salida debería verse como esto:\n",
    "\n",
    "```Python\n",
    "12\n",
    "```"
   ]
  },
  {
   "cell_type": "markdown",
   "metadata": {
    "id": "Bqu2vMdWrjYN"
   },
   "source": [
    "Excelente trabajo Hackers !!!"
   ]
  }
 ],
 "metadata": {
  "colab": {
   "collapsed_sections": [],
   "name": "FP11-Tarea_1-ok.ipynb",
   "provenance": []
  },
  "kernelspec": {
   "display_name": "Python 3 (ipykernel)",
   "language": "python",
   "name": "python3"
  },
  "language_info": {
   "codemirror_mode": {
    "name": "ipython",
    "version": 3
   },
   "file_extension": ".py",
   "mimetype": "text/x-python",
   "name": "python",
   "nbconvert_exporter": "python",
   "pygments_lexer": "ipython3",
   "version": "3.10.5"
  }
 },
 "nbformat": 4,
 "nbformat_minor": 1
}
