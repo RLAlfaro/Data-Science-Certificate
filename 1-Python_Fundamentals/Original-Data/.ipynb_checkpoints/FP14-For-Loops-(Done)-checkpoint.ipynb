{
 "cells": [
  {
   "cell_type": "markdown",
   "metadata": {
    "id": "e6FfAWUDf6RS"
   },
   "source": [
    "# **Introducción a Python**\n",
    "# FP14. Ciclos for (for loop)"
   ]
  },
  {
   "cell_type": "markdown",
   "metadata": {
    "id": "s08Gyp1yf6Rd"
   },
   "source": [
    "¡Bienvenidos de nuevo Hackers, es hora de aprender un nuevo ciclo!\n",
    "\n",
    "## <font color='blue'>**Ciclo for**</font>\n",
    "Un bucle  **for** actúa como un iterador en Python, pasa por elementos que están en una secuencia o cualquier otro **objeto iterable**. Los objetos que hemos aprendido, sobre los que podemos iterar incluyen: cadenas o strings, listas, tuplas e incluso iterables incorporados para diccionarios, como las claves o los valores.\n",
    "\n",
    "Aquí está el formato general para un bucle for en Python:\n",
    "```python\n",
    "     for item in object:\n",
    "         your code\n",
    "         your code\n",
    "```        \n",
    "El nombre de la variable utilizado para el *item* depende completamente del programador (o sea, tú!!), así que usa tu mejor criterio para elegir un nombre que tenga sentido y que podrás entenderlo cuando vuelvas a revisar tu código. Puedes utiliza esa variable **sólo dentro del bucle**, fuera del mismo no tendrá un valor asignado.\n",
    "\n",
    "Sigamos adelante y trabajemos con varios ejemplos de bucles **for** utilizando una variedad de tipos de objetos de datos."
   ]
  },
  {
   "cell_type": "markdown",
   "metadata": {
    "id": "ks-0tvswf6Rf"
   },
   "source": [
    "## <font color='blue'>**for loop con listas**</font>"
   ]
  },
  {
   "cell_type": "code",
   "execution_count": 1,
   "metadata": {
    "colab": {
     "base_uri": "https://localhost:8080/"
    },
    "executionInfo": {
     "elapsed": 20,
     "status": "ok",
     "timestamp": 1638496883208,
     "user": {
      "displayName": "Maria Julliette Marin Alarcon",
      "photoUrl": "https://lh3.googleusercontent.com/a/default-user=s64",
      "userId": "14948341870893292997"
     },
     "user_tz": 240
    },
    "id": "KBSFgBY6f6Rg",
    "outputId": "77ee589f-2880-4228-fcdd-14155ada9684"
   },
   "outputs": [
    {
     "name": "stdout",
     "output_type": "stream",
     "text": [
      "1\n",
      "2\n",
      "3\n",
      "4\n",
      "5\n",
      "6\n",
      "7\n",
      "8\n",
      "9\n",
      "10\n"
     ]
    }
   ],
   "source": [
    "mylist = [1, 2, 3, 4, 5, 6, 7, 8, 9, 10]\n",
    "# La lista es un objeto iterable por esencia\n",
    "# Esto significa que podemos recorrerla\n",
    "\n",
    "for num in mylist:\n",
    "    print(num)"
   ]
  },
  {
   "cell_type": "code",
   "execution_count": 2,
   "metadata": {
    "colab": {
     "base_uri": "https://localhost:8080/"
    },
    "executionInfo": {
     "elapsed": 356,
     "status": "ok",
     "timestamp": 1638496888326,
     "user": {
      "displayName": "Maria Julliette Marin Alarcon",
      "photoUrl": "https://lh3.googleusercontent.com/a/default-user=s64",
      "userId": "14948341870893292997"
     },
     "user_tz": 240
    },
    "id": "JtPzAgwxf6Ri",
    "outputId": "ab3b9ac7-3cf8-4961-8de9-b1a93718e2f7"
   },
   "outputs": [
    {
     "name": "stdout",
     "output_type": "stream",
     "text": [
      "1\n",
      "2\n",
      "3\n",
      "4\n",
      "5\n",
      "6\n",
      "7\n",
      "8\n",
      "9\n",
      "10\n"
     ]
    }
   ],
   "source": [
    "for la_variable_puede_ser_cualquier_cosa in mylist:\n",
    "    print(la_variable_puede_ser_cualquier_cosa)"
   ]
  },
  {
   "cell_type": "markdown",
   "metadata": {
    "id": "FpIpJlpNf6Rj"
   },
   "source": [
    "Pero no creo que te atrevas a usar un nombre variable como este!! O sí?"
   ]
  },
  {
   "cell_type": "code",
   "execution_count": 3,
   "metadata": {
    "colab": {
     "base_uri": "https://localhost:8080/"
    },
    "executionInfo": {
     "elapsed": 264,
     "status": "ok",
     "timestamp": 1637939173142,
     "user": {
      "displayName": "Maria Julliette Marin Alarcon",
      "photoUrl": "https://lh3.googleusercontent.com/a/default-user=s64",
      "userId": "14948341870893292997"
     },
     "user_tz": 240
    },
    "id": "Hcw5h2Faf6Rk",
    "outputId": "a965812c-4d5c-4cec-8a76-773189969374"
   },
   "outputs": [
    {
     "name": "stdout",
     "output_type": "stream",
     "text": [
      "1 2 3 4 5 6 7 8 9 10 "
     ]
    }
   ],
   "source": [
    "for num in mylist:\n",
    "    print(num, end=' ')"
   ]
  },
  {
   "cell_type": "code",
   "execution_count": 4,
   "metadata": {
    "colab": {
     "base_uri": "https://localhost:8080/"
    },
    "executionInfo": {
     "elapsed": 269,
     "status": "ok",
     "timestamp": 1637939240268,
     "user": {
      "displayName": "Maria Julliette Marin Alarcon",
      "photoUrl": "https://lh3.googleusercontent.com/a/default-user=s64",
      "userId": "14948341870893292997"
     },
     "user_tz": 240
    },
    "id": "uyB_NZyff6Rm",
    "outputId": "5ae588be-4709-483a-e598-f123e1cdf0a5"
   },
   "outputs": [
    {
     "name": "stdout",
     "output_type": "stream",
     "text": [
      "Este texto se imprimirá tantas veces como elementos haya en la lista\n",
      "Este texto se imprimirá tantas veces como elementos haya en la lista\n",
      "Este texto se imprimirá tantas veces como elementos haya en la lista\n",
      "Este texto se imprimirá tantas veces como elementos haya en la lista\n",
      "Este texto se imprimirá tantas veces como elementos haya en la lista\n",
      "Este texto se imprimirá tantas veces como elementos haya en la lista\n",
      "Este texto se imprimirá tantas veces como elementos haya en la lista\n",
      "Este texto se imprimirá tantas veces como elementos haya en la lista\n",
      "Este texto se imprimirá tantas veces como elementos haya en la lista\n",
      "Este texto se imprimirá tantas veces como elementos haya en la lista\n"
     ]
    }
   ],
   "source": [
    "for num in mylist:\n",
    "    print(\"Este texto se imprimirá tantas veces como elementos haya en la lista\")"
   ]
  },
  {
   "cell_type": "markdown",
   "metadata": {
    "id": "ABOlRPDef6Ro"
   },
   "source": [
    "## <font color='blue'>**for loop con strings**</font>"
   ]
  },
  {
   "cell_type": "code",
   "execution_count": 5,
   "metadata": {
    "colab": {
     "base_uri": "https://localhost:8080/"
    },
    "executionInfo": {
     "elapsed": 421,
     "status": "ok",
     "timestamp": 1637939273883,
     "user": {
      "displayName": "Maria Julliette Marin Alarcon",
      "photoUrl": "https://lh3.googleusercontent.com/a/default-user=s64",
      "userId": "14948341870893292997"
     },
     "user_tz": 240
    },
    "id": "biCIYYg9f6Rq",
    "outputId": "d4db1252-5959-4c10-d8b8-28554b3d7463"
   },
   "outputs": [
    {
     "name": "stdout",
     "output_type": "stream",
     "text": [
      "E\n",
      "s\n",
      "t\n",
      "o\n",
      " \n",
      "e\n",
      "s\n",
      " \n",
      "u\n",
      "n\n",
      " \n",
      "s\n",
      "t\n",
      "r\n",
      "i\n",
      "n\n",
      "g\n"
     ]
    }
   ],
   "source": [
    "for letter in \"Esto es un string\":\n",
    "    print(letter)"
   ]
  },
  {
   "cell_type": "code",
   "execution_count": 6,
   "metadata": {
    "colab": {
     "base_uri": "https://localhost:8080/"
    },
    "executionInfo": {
     "elapsed": 242,
     "status": "ok",
     "timestamp": 1637939446368,
     "user": {
      "displayName": "Maria Julliette Marin Alarcon",
      "photoUrl": "https://lh3.googleusercontent.com/a/default-user=s64",
      "userId": "14948341870893292997"
     },
     "user_tz": 240
    },
    "id": "A5yjNkikf6Rs",
    "outputId": "dc4c842b-b9f1-425d-9b48-4f4d05b6df06"
   },
   "outputs": [
    {
     "name": "stdout",
     "output_type": "stream",
     "text": [
      "Esto\n",
      "es\n",
      "un\n",
      "string\n"
     ]
    }
   ],
   "source": [
    "mystring = 'Esto es un string'\n",
    "\n",
    "for word in mystring.split():\n",
    "    print(word)"
   ]
  },
  {
   "cell_type": "markdown",
   "metadata": {
    "id": "Q-OHaHs8f6Rs"
   },
   "source": [
    "## <font color='blue'>**for loop con tuplas**</font>"
   ]
  },
  {
   "cell_type": "code",
   "execution_count": 7,
   "metadata": {
    "colab": {
     "base_uri": "https://localhost:8080/"
    },
    "executionInfo": {
     "elapsed": 2951,
     "status": "ok",
     "timestamp": 1637939688919,
     "user": {
      "displayName": "Maria Julliette Marin Alarcon",
      "photoUrl": "https://lh3.googleusercontent.com/a/default-user=s64",
      "userId": "14948341870893292997"
     },
     "user_tz": 240
    },
    "id": "dgZalUpuf6Rt",
    "outputId": "9680002c-0961-43f9-cd4c-09f3a50d9c8a"
   },
   "outputs": [
    {
     "name": "stdout",
     "output_type": "stream",
     "text": [
      "1\n",
      "2\n",
      "3\n",
      "4\n"
     ]
    }
   ],
   "source": [
    "tup = (1, 2, 3, 4)\n",
    "\n",
    "for num in tup:\n",
    "    print(num)"
   ]
  },
  {
   "cell_type": "markdown",
   "metadata": {
    "id": "kOLpeKnWf6Rt"
   },
   "source": [
    "## <font color='blue'>**Desempaquetado de tuplas (tuple unpacking)**</font>"
   ]
  },
  {
   "cell_type": "code",
   "execution_count": 8,
   "metadata": {
    "id": "JMdx5NgVf6Ru"
   },
   "outputs": [],
   "source": [
    "list_of_tups = [(1, 2), (3, 4), (5, 6), (7, 8), (9, 10)]"
   ]
  },
  {
   "cell_type": "code",
   "execution_count": 9,
   "metadata": {
    "colab": {
     "base_uri": "https://localhost:8080/"
    },
    "executionInfo": {
     "elapsed": 7,
     "status": "ok",
     "timestamp": 1637940228135,
     "user": {
      "displayName": "Maria Julliette Marin Alarcon",
      "photoUrl": "https://lh3.googleusercontent.com/a/default-user=s64",
      "userId": "14948341870893292997"
     },
     "user_tz": 240
    },
    "id": "vLrOJi0Qf6Ru",
    "outputId": "63412970-05cf-4317-9ce2-b145bdc379f6"
   },
   "outputs": [
    {
     "name": "stdout",
     "output_type": "stream",
     "text": [
      "(1, 2)\n",
      "(3, 4)\n",
      "(5, 6)\n",
      "(7, 8)\n",
      "(9, 10)\n"
     ]
    }
   ],
   "source": [
    "for x in list_of_tups:\n",
    "    print(x)"
   ]
  },
  {
   "cell_type": "code",
   "execution_count": 10,
   "metadata": {
    "colab": {
     "base_uri": "https://localhost:8080/"
    },
    "executionInfo": {
     "elapsed": 257,
     "status": "ok",
     "timestamp": 1637940231313,
     "user": {
      "displayName": "Maria Julliette Marin Alarcon",
      "photoUrl": "https://lh3.googleusercontent.com/a/default-user=s64",
      "userId": "14948341870893292997"
     },
     "user_tz": 240
    },
    "id": "X3YcHHeDf6Ru",
    "outputId": "441423ad-6413-43ec-e450-d3dd6f24a780"
   },
   "outputs": [
    {
     "name": "stdout",
     "output_type": "stream",
     "text": [
      "1\n",
      "3\n",
      "5\n",
      "7\n",
      "9\n"
     ]
    }
   ],
   "source": [
    "# Imprimimos el primer elemento de cada tupla\n",
    "for x in list_of_tups:\n",
    "    print(x[0])"
   ]
  },
  {
   "cell_type": "code",
   "execution_count": 11,
   "metadata": {
    "colab": {
     "base_uri": "https://localhost:8080/"
    },
    "executionInfo": {
     "elapsed": 241,
     "status": "ok",
     "timestamp": 1637940238120,
     "user": {
      "displayName": "Maria Julliette Marin Alarcon",
      "photoUrl": "https://lh3.googleusercontent.com/a/default-user=s64",
      "userId": "14948341870893292997"
     },
     "user_tz": 240
    },
    "id": "zZnqB6fvf6Rv",
    "outputId": "d5b5d3c4-131f-4b79-bdf8-1b24e0c4dda1"
   },
   "outputs": [
    {
     "name": "stdout",
     "output_type": "stream",
     "text": [
      "2\n",
      "4\n",
      "6\n",
      "8\n",
      "10\n"
     ]
    }
   ],
   "source": [
    "# Imprimimos el segundo elemento de cada tupla\n",
    "for x in list_of_tups:\n",
    "    print(x[1])"
   ]
  },
  {
   "cell_type": "markdown",
   "metadata": {
    "id": "L0ms16h_f6Rw"
   },
   "source": [
    "## <font color='green'>Actividad 1:</font>  \n",
    "### Desempaque el elemento numérico de cada tupla\n",
    "Ejecuta la siguiente celda donde creamos una lista de tuplas.<br>\n",
    "Extrae e imprime los números de las tuplas usando un bucle for\n",
    "\n",
    "Pasos:\n",
    "1. Ejecuta la celda para crear la lista de tuplas.\n",
    "2. Extrae e imprime los números usando un bucle for e indexado\n",
    "\n",
    "Challenge:\n",
    "3. Imprime los números en una única fila separados por un espacio; así: 1 4 6 8 10"
   ]
  },
  {
   "cell_type": "code",
   "execution_count": 12,
   "metadata": {
    "executionInfo": {
     "elapsed": 288,
     "status": "ok",
     "timestamp": 1638496897991,
     "user": {
      "displayName": "Maria Julliette Marin Alarcon",
      "photoUrl": "https://lh3.googleusercontent.com/a/default-user=s64",
      "userId": "14948341870893292997"
     },
     "user_tz": 240
    },
    "id": "cZhpXBUbf6Rx"
   },
   "outputs": [],
   "source": [
    "# EJECUTA ESTA CELDA. NO LA MODIFIQUES !!!\n",
    "\n",
    "list_of_tuples = [('A', ['B', 1]),\n",
    "                  ('C', ['D', 4]),\n",
    "                  ('E', ['F', 6]),\n",
    "                  ('G', ['H', 8]),\n",
    "                  ('I', ['J', 10])] "
   ]
  },
  {
   "cell_type": "code",
   "execution_count": 13,
   "metadata": {
    "colab": {
     "base_uri": "https://localhost:8080/"
    },
    "executionInfo": {
     "elapsed": 298,
     "status": "ok",
     "timestamp": 1638496961816,
     "user": {
      "displayName": "Maria Julliette Marin Alarcon",
      "photoUrl": "https://lh3.googleusercontent.com/a/default-user=s64",
      "userId": "14948341870893292997"
     },
     "user_tz": 240
    },
    "id": "EaH1ZeyOf6Rx",
    "outputId": "c42d2fe8-5e3e-4d1a-f2da-4eba35532438"
   },
   "outputs": [
    {
     "name": "stdout",
     "output_type": "stream",
     "text": [
      "1 4 6 8 10 "
     ]
    }
   ],
   "source": [
    "# Tu código aquí ...\n",
    "# Ciclo for para desempacar elementos númericos de 'list_of_tuples'\n",
    "for numero in list_of_tuples:\n",
    "  # Impresión de elementos en una fila única separadas por un espacio\n",
    "  print(numero[-1][-1], end=' ')\n",
    "\n",
    "\n",
    "\n"
   ]
  },
  {
   "cell_type": "markdown",
   "metadata": {
    "id": "M_-KD8f0f6Ry"
   },
   "source": [
    "<font color='green'>Fin actividad 1</font> "
   ]
  },
  {
   "cell_type": "markdown",
   "metadata": {
    "id": "H-IQ66Cqf6Rz"
   },
   "source": [
    "Continuemos"
   ]
  },
  {
   "cell_type": "code",
   "execution_count": 14,
   "metadata": {
    "colab": {
     "base_uri": "https://localhost:8080/"
    },
    "executionInfo": {
     "elapsed": 265,
     "status": "ok",
     "timestamp": 1637940324747,
     "user": {
      "displayName": "Maria Julliette Marin Alarcon",
      "photoUrl": "https://lh3.googleusercontent.com/a/default-user=s64",
      "userId": "14948341870893292997"
     },
     "user_tz": 240
    },
    "id": "TlRDB0kbf6Rz",
    "outputId": "d012d65b-d490-4c40-97af-2a51099b0534"
   },
   "outputs": [
    {
     "name": "stdout",
     "output_type": "stream",
     "text": [
      "1\n",
      "2\n",
      "\n",
      "\n",
      "3\n",
      "4\n",
      "\n",
      "\n",
      "5\n",
      "6\n",
      "\n",
      "\n",
      "7\n",
      "8\n",
      "\n",
      "\n",
      "9\n",
      "10\n",
      "\n",
      "\n"
     ]
    }
   ],
   "source": [
    "for (num1,num2) in list_of_tups:\n",
    "    print(num1)\n",
    "    print(num2)\n",
    "    print('\\n')"
   ]
  },
  {
   "cell_type": "code",
   "execution_count": 15,
   "metadata": {
    "colab": {
     "base_uri": "https://localhost:8080/"
    },
    "executionInfo": {
     "elapsed": 251,
     "status": "ok",
     "timestamp": 1637940332096,
     "user": {
      "displayName": "Maria Julliette Marin Alarcon",
      "photoUrl": "https://lh3.googleusercontent.com/a/default-user=s64",
      "userId": "14948341870893292997"
     },
     "user_tz": 240
    },
    "id": "w3OCLeIuf6Rz",
    "outputId": "769a17e8-66bf-4221-f2d9-e633b5c48b51"
   },
   "outputs": [
    {
     "name": "stdout",
     "output_type": "stream",
     "text": [
      "1\n",
      "2\n",
      "\n",
      "\n",
      "3\n",
      "4\n",
      "\n",
      "\n",
      "5\n",
      "6\n",
      "\n",
      "\n",
      "7\n",
      "8\n",
      "\n",
      "\n",
      "9\n",
      "10\n",
      "\n",
      "\n"
     ]
    }
   ],
   "source": [
    "# No necesitamos el paréntesis\n",
    "\n",
    "for num1, num2 in list_of_tups:\n",
    "    print(num1)\n",
    "    print(num2)\n",
    "    print('\\n')"
   ]
  },
  {
   "cell_type": "markdown",
   "metadata": {
    "id": "OxeVhzIqf6R0"
   },
   "source": [
    "## <font color='blue'>**for loop con diccionarios**</font>"
   ]
  },
  {
   "cell_type": "code",
   "execution_count": 16,
   "metadata": {
    "executionInfo": {
     "elapsed": 318,
     "status": "ok",
     "timestamp": 1638497081359,
     "user": {
      "displayName": "Maria Julliette Marin Alarcon",
      "photoUrl": "https://lh3.googleusercontent.com/a/default-user=s64",
      "userId": "14948341870893292997"
     },
     "user_tz": 240
    },
    "id": "NAesJv8Ef6R0"
   },
   "outputs": [],
   "source": [
    "counties_populations = {'Chile':'18', 'USA':'323', 'Germany':'83', 'India':'1324', 'Spain':'45'}"
   ]
  },
  {
   "cell_type": "markdown",
   "metadata": {
    "id": "sSDJTM2Ff6R0"
   },
   "source": [
    "¡Recuerda que los diccionarios no mantienen ningún orden! ¡Así que recórrelos con esto en mente!"
   ]
  },
  {
   "cell_type": "code",
   "execution_count": 17,
   "metadata": {
    "colab": {
     "base_uri": "https://localhost:8080/"
    },
    "executionInfo": {
     "elapsed": 242,
     "status": "ok",
     "timestamp": 1637940361834,
     "user": {
      "displayName": "Maria Julliette Marin Alarcon",
      "photoUrl": "https://lh3.googleusercontent.com/a/default-user=s64",
      "userId": "14948341870893292997"
     },
     "user_tz": 240
    },
    "id": "c0t7YMWsf6R0",
    "outputId": "1ac482a2-0811-4035-fe73-4554e7cfa8c4"
   },
   "outputs": [
    {
     "name": "stdout",
     "output_type": "stream",
     "text": [
      "Chile\n",
      "USA\n",
      "Germany\n",
      "India\n",
      "Spain\n"
     ]
    }
   ],
   "source": [
    "for item in counties_populations:\n",
    "    print(item)"
   ]
  },
  {
   "cell_type": "code",
   "execution_count": 18,
   "metadata": {
    "colab": {
     "base_uri": "https://localhost:8080/"
    },
    "executionInfo": {
     "elapsed": 240,
     "status": "ok",
     "timestamp": 1637940380297,
     "user": {
      "displayName": "Maria Julliette Marin Alarcon",
      "photoUrl": "https://lh3.googleusercontent.com/a/default-user=s64",
      "userId": "14948341870893292997"
     },
     "user_tz": 240
    },
    "id": "PojcGeXaf6R1",
    "outputId": "e52a682f-9b8d-44fa-c162-96b8c6e2a077"
   },
   "outputs": [
    {
     "name": "stdout",
     "output_type": "stream",
     "text": [
      "Chile\n",
      "USA\n",
      "Germany\n",
      "India\n",
      "Spain\n"
     ]
    }
   ],
   "source": [
    "for k in counties_populations.keys():\n",
    "    print(k)"
   ]
  },
  {
   "cell_type": "code",
   "execution_count": 19,
   "metadata": {
    "colab": {
     "base_uri": "https://localhost:8080/"
    },
    "executionInfo": {
     "elapsed": 267,
     "status": "ok",
     "timestamp": 1637940417700,
     "user": {
      "displayName": "Maria Julliette Marin Alarcon",
      "photoUrl": "https://lh3.googleusercontent.com/a/default-user=s64",
      "userId": "14948341870893292997"
     },
     "user_tz": 240
    },
    "id": "ZlnfFK8lf6R1",
    "outputId": "25ba5d9e-6a40-4b4c-e7ef-2fbb610877b7"
   },
   "outputs": [
    {
     "name": "stdout",
     "output_type": "stream",
     "text": [
      "18\n",
      "323\n",
      "83\n",
      "1324\n",
      "45\n"
     ]
    }
   ],
   "source": [
    "for values in counties_populations.values():\n",
    "    print(values)"
   ]
  },
  {
   "cell_type": "markdown",
   "metadata": {
    "id": "mGIKHhuzf6R1"
   },
   "source": [
    "### <font color='green'>Activida 2:</font> \n",
    "### Imprimiendo países y poblaciones. Buscando en [stackoverflow](https://stackoverflow.com/)\n",
    "\n",
    "Crea un programa que imprima el nombre del país y su población, de esta manera:\n",
    "```python\n",
    "      En Chile hay 18 millones de habitantes.\n",
    "```\n",
    "Imprime un país por línea<br>\n",
    "Deja una línea en blanco entre países\n",
    "\n",
    "Pasos:\n",
    "1. Utiliza un bucle **for** para recorrer el diccionario.\n",
    "2. Busca en [stackoverflow](https://stackoverflow.com/) cómo desempaquetar un diccionario en un ciclo for\n",
    "3. Imprima utilizando la función de **print()** y **f-strings**.\n",
    "4. Deje una línea en blanco usando el carácter de control '\\n' dentro de la función print()."
   ]
  },
  {
   "cell_type": "code",
   "execution_count": 20,
   "metadata": {
    "colab": {
     "base_uri": "https://localhost:8080/"
    },
    "executionInfo": {
     "elapsed": 288,
     "status": "ok",
     "timestamp": 1638497087036,
     "user": {
      "displayName": "Maria Julliette Marin Alarcon",
      "photoUrl": "https://lh3.googleusercontent.com/a/default-user=s64",
      "userId": "14948341870893292997"
     },
     "user_tz": 240
    },
    "id": "jE9srYmif6R1",
    "outputId": "72391ad0-1af1-4b67-98e1-af936a98487f"
   },
   "outputs": [
    {
     "name": "stdout",
     "output_type": "stream",
     "text": [
      "En Chile hay 18 millones de habitantes.\n",
      "\n",
      "En USA hay 323 millones de habitantes.\n",
      "\n",
      "En Germany hay 83 millones de habitantes.\n",
      "\n",
      "En India hay 1324 millones de habitantes.\n",
      "\n",
      "En Spain hay 45 millones de habitantes.\n",
      "\n"
     ]
    }
   ],
   "source": [
    "# Tu código aquí ...\n",
    "# Programa que imprime el nombre del pais y su población de la siguiente manera 'En Chile hay 18 millones de habitantes.'\n",
    "# Bucle for para recorrer el diccionario\n",
    "for x,y in counties_populations.items():\n",
    "  # Impresión utilizando print() y f-strings\n",
    "  print(f'En {x} hay {y} millones de habitantes.\\n')"
   ]
  },
  {
   "cell_type": "markdown",
   "metadata": {
    "id": "7t_SPlP0f6R2"
   },
   "source": [
    "<font color='green'>Fin actividad 2</font> "
   ]
  },
  {
   "cell_type": "markdown",
   "metadata": {
    "id": "mBK1awXlf6R2"
   },
   "source": [
    "### Más de **for loops**"
   ]
  },
  {
   "cell_type": "code",
   "execution_count": 21,
   "metadata": {
    "colab": {
     "base_uri": "https://localhost:8080/"
    },
    "executionInfo": {
     "elapsed": 228,
     "status": "ok",
     "timestamp": 1637940770296,
     "user": {
      "displayName": "Maria Julliette Marin Alarcon",
      "photoUrl": "https://lh3.googleusercontent.com/a/default-user=s64",
      "userId": "14948341870893292997"
     },
     "user_tz": 240
    },
    "id": "nAup6qKlf6R2",
    "outputId": "9e86e729-8029-4b24-81f6-e28b22e28237"
   },
   "outputs": [
    {
     "name": "stdout",
     "output_type": "stream",
     "text": [
      "Hello Sebastián\n",
      "Hello Zavi\n",
      "Hello Isidora\n"
     ]
    }
   ],
   "source": [
    "for name in \"Sebastián\", \"Zavi\", \"Isidora\":\n",
    "    print(\"Hello \" + name)"
   ]
  },
  {
   "cell_type": "code",
   "execution_count": 22,
   "metadata": {
    "colab": {
     "base_uri": "https://localhost:8080/"
    },
    "executionInfo": {
     "elapsed": 235,
     "status": "ok",
     "timestamp": 1637940772748,
     "user": {
      "displayName": "Maria Julliette Marin Alarcon",
      "photoUrl": "https://lh3.googleusercontent.com/a/default-user=s64",
      "userId": "14948341870893292997"
     },
     "user_tz": 240
    },
    "id": "BK54ORGYf6R2",
    "outputId": "73db6dc8-7814-478b-98b1-b4646ea893f5"
   },
   "outputs": [
    {
     "name": "stdout",
     "output_type": "stream",
     "text": [
      "0\n",
      "1\n",
      "2\n",
      "3\n",
      "4\n",
      "5\n",
      "6\n",
      "7\n",
      "8\n",
      "9\n"
     ]
    }
   ],
   "source": [
    "for i in range(10):\n",
    "    print(i)"
   ]
  },
  {
   "cell_type": "code",
   "execution_count": 23,
   "metadata": {
    "colab": {
     "base_uri": "https://localhost:8080/"
    },
    "executionInfo": {
     "elapsed": 275,
     "status": "ok",
     "timestamp": 1637940775944,
     "user": {
      "displayName": "Maria Julliette Marin Alarcon",
      "photoUrl": "https://lh3.googleusercontent.com/a/default-user=s64",
      "userId": "14948341870893292997"
     },
     "user_tz": 240
    },
    "id": "QDGcRToGf6R2",
    "outputId": "8d85a853-3caf-456d-bfda-7cc24886c226"
   },
   "outputs": [
    {
     "name": "stdout",
     "output_type": "stream",
     "text": [
      "5\n",
      "7\n",
      "11\n",
      "13\n",
      "36\n"
     ]
    }
   ],
   "source": [
    "total = 0\n",
    "for i in 5, 7, 11, 13:\n",
    "    print(i)\n",
    "    total = total + i  # total += i\n",
    "\n",
    "print(total)"
   ]
  },
  {
   "cell_type": "markdown",
   "metadata": {
    "id": "QVM5-Covf6R3"
   },
   "source": [
    "## <font color='blue'>**continue**</font>\n",
    "\n",
    "La palabra clave **continue** puede ser un poco complicada para ver su utilidad. Te permite continuar con el ciclo de nivel superior, básicamente lo opuesto a break. Pasará tiempo antes de que te des cuenta de una buena situación para usarla, pero aquí hay un ejemplo simple:"
   ]
  },
  {
   "cell_type": "code",
   "execution_count": 24,
   "metadata": {
    "colab": {
     "base_uri": "https://localhost:8080/"
    },
    "executionInfo": {
     "elapsed": 344,
     "status": "ok",
     "timestamp": 1637940785013,
     "user": {
      "displayName": "Maria Julliette Marin Alarcon",
      "photoUrl": "https://lh3.googleusercontent.com/a/default-user=s64",
      "userId": "14948341870893292997"
     },
     "user_tz": 240
    },
    "id": "EDjm-17pf6R3",
    "outputId": "f7f1080d-9bf6-4055-84a6-0932488ba64a"
   },
   "outputs": [
    {
     "name": "stdout",
     "output_type": "stream",
     "text": [
      "La letra actual es: c\n",
      "La letra actual es: o\n",
      "La letra actual es: e\n"
     ]
    }
   ],
   "source": [
    "for letter in 'code':\n",
    "    if letter == 'd':\n",
    "        continue\n",
    "        \n",
    "    print('La letra actual es: {}'.format(letter))"
   ]
  },
  {
   "cell_type": "code",
   "execution_count": 25,
   "metadata": {
    "colab": {
     "base_uri": "https://localhost:8080/"
    },
    "executionInfo": {
     "elapsed": 291,
     "status": "ok",
     "timestamp": 1637942438188,
     "user": {
      "displayName": "Maria Julliette Marin Alarcon",
      "photoUrl": "https://lh3.googleusercontent.com/a/default-user=s64",
      "userId": "14948341870893292997"
     },
     "user_tz": 240
    },
    "id": "FxyVg6YFf6R3",
    "outputId": "79f28b87-25e5-4696-ae26-1a429f85193e"
   },
   "outputs": [
    {
     "name": "stdout",
     "output_type": "stream",
     "text": [
      "A e s t e s t r i n g l e e l i m i n a r e m o s l o s e s p a c i o s\n"
     ]
    }
   ],
   "source": [
    "list = []\n",
    "string = 'A este string le eliminaremos los espacios'\n",
    "for letra in string:\n",
    "    if letra != ' ':\n",
    "        list.append(letra)\n",
    "    else:\n",
    "        continue\n",
    "print(*list)"
   ]
  },
  {
   "cell_type": "markdown",
   "metadata": {
    "id": "TWORQnpQf6R7"
   },
   "source": [
    "Intenta explicar qué paso aquí!!"
   ]
  }
 ],
 "metadata": {
  "colab": {
   "collapsed_sections": [],
   "name": "FP14-For-Loops-ok.ipynb",
   "provenance": []
  },
  "kernelspec": {
   "display_name": "Python 3 (ipykernel)",
   "language": "python",
   "name": "python3"
  },
  "language_info": {
   "codemirror_mode": {
    "name": "ipython",
    "version": 3
   },
   "file_extension": ".py",
   "mimetype": "text/x-python",
   "name": "python",
   "nbconvert_exporter": "python",
   "pygments_lexer": "ipython3",
   "version": "3.10.5"
  }
 },
 "nbformat": 4,
 "nbformat_minor": 1
}
