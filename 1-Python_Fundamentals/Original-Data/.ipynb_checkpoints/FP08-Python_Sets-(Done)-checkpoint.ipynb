{
 "cells": [
  {
   "cell_type": "markdown",
   "metadata": {
    "id": "-a1b6u7iPuEc"
   },
   "source": [
    "# **Introducción a Python**\n",
    "# FP08. Conjuntos en Python (Sets)"
   ]
  },
  {
   "cell_type": "markdown",
   "metadata": {
    "id": "Dt36pHuhPuEj"
   },
   "source": [
    "Presentamos los *sets*. ¡Otra estructura de datos importante en Python!\n",
    "\n",
    "Los conjuntos son una colección **desordenada** y **mutable** de elementos **únicos**. \n",
    "\n",
    "Podemos construirlos usando la función **set()**. Sigamos adelante y hagamos un conjunto para ver cómo funciona:"
   ]
  },
  {
   "cell_type": "markdown",
   "metadata": {
    "id": "Tv9qHHzzPuEk"
   },
   "source": [
    "## <font color='blue'>**Creando Sets**</font>"
   ]
  },
  {
   "cell_type": "code",
   "execution_count": 1,
   "metadata": {
    "id": "UBTvJsb5PuEk"
   },
   "outputs": [],
   "source": [
    "# Creamos un set llamado 'x'\n",
    "\n",
    "x = set()"
   ]
  },
  {
   "cell_type": "code",
   "execution_count": 2,
   "metadata": {
    "colab": {
     "base_uri": "https://localhost:8080/"
    },
    "executionInfo": {
     "elapsed": 256,
     "status": "ok",
     "timestamp": 1637923831801,
     "user": {
      "displayName": "Maria Julliette Marin Alarcon",
      "photoUrl": "https://lh3.googleusercontent.com/a/default-user=s64",
      "userId": "14948341870893292997"
     },
     "user_tz": 240
    },
    "id": "C5-ULqkgPuEm",
    "outputId": "12c84093-4348-484a-8173-32638d785178"
   },
   "outputs": [
    {
     "data": {
      "text/plain": [
       "set"
      ]
     },
     "execution_count": 2,
     "metadata": {},
     "output_type": "execute_result"
    }
   ],
   "source": [
    "# Como siempre verificamos el tipo \n",
    "\n",
    "type(x)"
   ]
  },
  {
   "cell_type": "code",
   "execution_count": 3,
   "metadata": {
    "id": "zVuIQoBQPuEn"
   },
   "outputs": [],
   "source": [
    "# Agreguémosle un elemento\n",
    "# Son mutables, los podemos cambiar\n",
    "x.add(1)"
   ]
  },
  {
   "cell_type": "code",
   "execution_count": 4,
   "metadata": {
    "colab": {
     "base_uri": "https://localhost:8080/"
    },
    "executionInfo": {
     "elapsed": 223,
     "status": "ok",
     "timestamp": 1637923841144,
     "user": {
      "displayName": "Maria Julliette Marin Alarcon",
      "photoUrl": "https://lh3.googleusercontent.com/a/default-user=s64",
      "userId": "14948341870893292997"
     },
     "user_tz": 240
    },
    "id": "MKJdU9FsPuEo",
    "outputId": "ead28dfb-fc9a-4495-ee53-b92a3dfa37a6"
   },
   "outputs": [
    {
     "data": {
      "text/plain": [
       "{1}"
      ]
     },
     "execution_count": 4,
     "metadata": {},
     "output_type": "execute_result"
    }
   ],
   "source": [
    "# Visualicemos nuestro set. \n",
    "# No te confundas con las llaves que se usan en los diccionarios\n",
    "x"
   ]
  },
  {
   "cell_type": "code",
   "execution_count": 5,
   "metadata": {
    "id": "Aan0MklHPuEo"
   },
   "outputs": [],
   "source": [
    "x.add(2)"
   ]
  },
  {
   "cell_type": "code",
   "execution_count": 6,
   "metadata": {
    "colab": {
     "base_uri": "https://localhost:8080/"
    },
    "executionInfo": {
     "elapsed": 4,
     "status": "ok",
     "timestamp": 1637923846232,
     "user": {
      "displayName": "Maria Julliette Marin Alarcon",
      "photoUrl": "https://lh3.googleusercontent.com/a/default-user=s64",
      "userId": "14948341870893292997"
     },
     "user_tz": 240
    },
    "id": "QhnjjmgXPuEp",
    "outputId": "1a36f0d5-b110-4fd0-f5be-ef294d858951"
   },
   "outputs": [
    {
     "data": {
      "text/plain": [
       "{1, 2}"
      ]
     },
     "execution_count": 6,
     "metadata": {},
     "output_type": "execute_result"
    }
   ],
   "source": [
    "x"
   ]
  },
  {
   "cell_type": "markdown",
   "metadata": {
    "id": "C4XqhGiwPuEq"
   },
   "source": [
    "Ten en cuenta las llaves. ¡Esto no indica un diccionario! Aunque se podría hacer la analogía a que un conjunto como un diccionario con solo llaves (keys).\n",
    "\n",
    "Sabemos que un conjunto sólo tiene entradas únicas. Entonces, ¿qué sucede cuando intentamos agregar algo que ya está en un conjunto?"
   ]
  },
  {
   "cell_type": "code",
   "execution_count": 7,
   "metadata": {
    "id": "ucroy90_PuEr"
   },
   "outputs": [],
   "source": [
    "# Nota cómo la siguiente sentencia NO colocará otro 1 en el set 'x'\n",
    "# Eso es porque un conjunto solo se ocupa de elementos únicos!\n",
    "# Atención: fíjate que no arroja ningún error\n",
    "x.add(1)"
   ]
  },
  {
   "cell_type": "code",
   "execution_count": 8,
   "metadata": {
    "colab": {
     "base_uri": "https://localhost:8080/"
    },
    "executionInfo": {
     "elapsed": 261,
     "status": "ok",
     "timestamp": 1637923850748,
     "user": {
      "displayName": "Maria Julliette Marin Alarcon",
      "photoUrl": "https://lh3.googleusercontent.com/a/default-user=s64",
      "userId": "14948341870893292997"
     },
     "user_tz": 240
    },
    "id": "H4QxUZcNPuEr",
    "outputId": "f80c272e-e670-4ae6-a929-8d540bc66788"
   },
   "outputs": [
    {
     "data": {
      "text/plain": [
       "{1, 2}"
      ]
     },
     "execution_count": 8,
     "metadata": {},
     "output_type": "execute_result"
    }
   ],
   "source": [
    "x"
   ]
  },
  {
   "cell_type": "code",
   "execution_count": 9,
   "metadata": {
    "id": "e04jf-RVPuEs"
   },
   "outputs": [],
   "source": [
    "# Podemos añadir un -1 porque es diferente de 1\n",
    "\n",
    "x.add(-1)"
   ]
  },
  {
   "cell_type": "code",
   "execution_count": 10,
   "metadata": {
    "colab": {
     "base_uri": "https://localhost:8080/"
    },
    "executionInfo": {
     "elapsed": 4,
     "status": "ok",
     "timestamp": 1637923854966,
     "user": {
      "displayName": "Maria Julliette Marin Alarcon",
      "photoUrl": "https://lh3.googleusercontent.com/a/default-user=s64",
      "userId": "14948341870893292997"
     },
     "user_tz": 240
    },
    "id": "7DkoWy15PuEs",
    "outputId": "e742faaf-1add-49dd-9c8b-54678365f66b"
   },
   "outputs": [
    {
     "data": {
      "text/plain": [
       "{-1, 1, 2}"
      ]
     },
     "execution_count": 10,
     "metadata": {},
     "output_type": "execute_result"
    }
   ],
   "source": [
    "x"
   ]
  },
  {
   "cell_type": "code",
   "execution_count": 11,
   "metadata": {
    "id": "AuZem3TMPuEt"
   },
   "outputs": [],
   "source": [
    "# Podemos eliminar un elemento\n",
    "\n",
    "x.discard(2)"
   ]
  },
  {
   "cell_type": "code",
   "execution_count": 12,
   "metadata": {
    "colab": {
     "base_uri": "https://localhost:8080/"
    },
    "executionInfo": {
     "elapsed": 339,
     "status": "ok",
     "timestamp": 1637923860463,
     "user": {
      "displayName": "Maria Julliette Marin Alarcon",
      "photoUrl": "https://lh3.googleusercontent.com/a/default-user=s64",
      "userId": "14948341870893292997"
     },
     "user_tz": 240
    },
    "id": "PLIvFYTiPuEt",
    "outputId": "3e2cf343-fc8d-4b11-a2a9-1f3d5f49f4ec"
   },
   "outputs": [
    {
     "data": {
      "text/plain": [
       "{-1, 1}"
      ]
     },
     "execution_count": 12,
     "metadata": {},
     "output_type": "execute_result"
    }
   ],
   "source": [
    "x"
   ]
  },
  {
   "cell_type": "code",
   "execution_count": 13,
   "metadata": {
    "id": "9c4rfVn3PuEu"
   },
   "outputs": [],
   "source": [
    "# Podemos añadir varios elementos\n",
    "# Fíjate que si añadimos una lista la desempaqueta\n",
    "\n",
    "x.update([-1, 3, 4, 5])"
   ]
  },
  {
   "cell_type": "code",
   "execution_count": 14,
   "metadata": {
    "colab": {
     "base_uri": "https://localhost:8080/"
    },
    "executionInfo": {
     "elapsed": 6,
     "status": "ok",
     "timestamp": 1637923871757,
     "user": {
      "displayName": "Maria Julliette Marin Alarcon",
      "photoUrl": "https://lh3.googleusercontent.com/a/default-user=s64",
      "userId": "14948341870893292997"
     },
     "user_tz": 240
    },
    "id": "gxyg7oYxPuEu",
    "outputId": "5fe7a0e9-a9d7-49cd-d372-1e90f9aade32"
   },
   "outputs": [
    {
     "data": {
      "text/plain": [
       "{-1, 1, 3, 4, 5}"
      ]
     },
     "execution_count": 14,
     "metadata": {},
     "output_type": "execute_result"
    }
   ],
   "source": [
    "x"
   ]
  },
  {
   "cell_type": "code",
   "execution_count": 15,
   "metadata": {
    "colab": {
     "base_uri": "https://localhost:8080/"
    },
    "executionInfo": {
     "elapsed": 259,
     "status": "ok",
     "timestamp": 1637923873400,
     "user": {
      "displayName": "Maria Julliette Marin Alarcon",
      "photoUrl": "https://lh3.googleusercontent.com/a/default-user=s64",
      "userId": "14948341870893292997"
     },
     "user_tz": 240
    },
    "id": "MaGVQOSDPuEu",
    "outputId": "fec71d2d-6de3-4188-e6fa-75070af26d3c"
   },
   "outputs": [
    {
     "data": {
      "text/plain": [
       "1"
      ]
     },
     "execution_count": 15,
     "metadata": {},
     "output_type": "execute_result"
    }
   ],
   "source": [
    "# Podemos sacar un elemento con pop()\n",
    "\n",
    "x.pop()"
   ]
  },
  {
   "cell_type": "code",
   "execution_count": 16,
   "metadata": {
    "colab": {
     "base_uri": "https://localhost:8080/"
    },
    "executionInfo": {
     "elapsed": 435,
     "status": "ok",
     "timestamp": 1637923874949,
     "user": {
      "displayName": "Maria Julliette Marin Alarcon",
      "photoUrl": "https://lh3.googleusercontent.com/a/default-user=s64",
      "userId": "14948341870893292997"
     },
     "user_tz": 240
    },
    "id": "wO7YcQ0zPuEv",
    "outputId": "50c7874d-d21c-4373-8a6d-1ae070ee5fb5"
   },
   "outputs": [
    {
     "data": {
      "text/plain": [
       "{-1, 3, 4, 5}"
      ]
     },
     "execution_count": 16,
     "metadata": {},
     "output_type": "execute_result"
    }
   ],
   "source": [
    "# Qué elemento saca? El primero? El último? Uno aleatorio?\n",
    "\n",
    "x"
   ]
  },
  {
   "cell_type": "markdown",
   "metadata": {
    "id": "TImoQqBVPuEv"
   },
   "source": [
    "Podemos crear un set a partir de una lista con múltiples elementos repetidos para obtener los elementos únicos. Por ejemplo:"
   ]
  },
  {
   "cell_type": "code",
   "execution_count": 17,
   "metadata": {
    "executionInfo": {
     "elapsed": 18,
     "status": "ok",
     "timestamp": 1638493962302,
     "user": {
      "displayName": "Maria Julliette Marin Alarcon",
      "photoUrl": "https://lh3.googleusercontent.com/a/default-user=s64",
      "userId": "14948341870893292997"
     },
     "user_tz": 240
    },
    "id": "MVaUDQI7PuEw"
   },
   "outputs": [],
   "source": [
    "# Creamos una lista 'mylist' con varios elementos repetidos\n",
    "\n",
    "mylist = [1, 1, 1, 1, 1, 2, 2, 2, 2, 2, 3, 3, 3, 3, 3]"
   ]
  },
  {
   "cell_type": "code",
   "execution_count": 18,
   "metadata": {
    "colab": {
     "base_uri": "https://localhost:8080/"
    },
    "executionInfo": {
     "elapsed": 252,
     "status": "ok",
     "timestamp": 1637923880606,
     "user": {
      "displayName": "Maria Julliette Marin Alarcon",
      "photoUrl": "https://lh3.googleusercontent.com/a/default-user=s64",
      "userId": "14948341870893292997"
     },
     "user_tz": 240
    },
    "id": "MqvvEM2HPuEw",
    "outputId": "aed28974-a1d9-4d0d-d8bd-5bca802b4cc9"
   },
   "outputs": [
    {
     "data": {
      "text/plain": [
       "{1, 2, 3}"
      ]
     },
     "execution_count": 18,
     "metadata": {},
     "output_type": "execute_result"
    }
   ],
   "source": [
    "# Ahora creamos un set a partir de la lista 'mylist'\n",
    "\n",
    "set(mylist)"
   ]
  },
  {
   "cell_type": "markdown",
   "metadata": {
    "id": "MdNWtuwYPuEw"
   },
   "source": [
    "Podemos crear de forma rápida un conjunto solo con {}"
   ]
  },
  {
   "cell_type": "code",
   "execution_count": 19,
   "metadata": {
    "id": "VJYfKhl7PuEx"
   },
   "outputs": [],
   "source": [
    "myset = {1, 2, 3}"
   ]
  },
  {
   "cell_type": "code",
   "execution_count": 20,
   "metadata": {
    "colab": {
     "base_uri": "https://localhost:8080/"
    },
    "executionInfo": {
     "elapsed": 275,
     "status": "ok",
     "timestamp": 1637923887766,
     "user": {
      "displayName": "Maria Julliette Marin Alarcon",
      "photoUrl": "https://lh3.googleusercontent.com/a/default-user=s64",
      "userId": "14948341870893292997"
     },
     "user_tz": 240
    },
    "id": "VqDZURr3PuEx",
    "outputId": "f7e820b4-79c9-4a74-90b8-bde1bb91877d"
   },
   "outputs": [
    {
     "data": {
      "text/plain": [
       "set"
      ]
     },
     "execution_count": 20,
     "metadata": {},
     "output_type": "execute_result"
    }
   ],
   "source": [
    "type(myset)"
   ]
  },
  {
   "cell_type": "code",
   "execution_count": 21,
   "metadata": {
    "colab": {
     "base_uri": "https://localhost:8080/"
    },
    "executionInfo": {
     "elapsed": 261,
     "status": "ok",
     "timestamp": 1637923892186,
     "user": {
      "displayName": "Maria Julliette Marin Alarcon",
      "photoUrl": "https://lh3.googleusercontent.com/a/default-user=s64",
      "userId": "14948341870893292997"
     },
     "user_tz": 240
    },
    "id": "1ZCnTV_IPuEx",
    "outputId": "93ddc790-d914-4930-9aa4-4690439993a1"
   },
   "outputs": [
    {
     "data": {
      "text/plain": [
       "dict"
      ]
     },
     "execution_count": 21,
     "metadata": {},
     "output_type": "execute_result"
    }
   ],
   "source": [
    "# Pero atención, no puede estar vacío ya que si no, crearíamos una diccionario\n",
    "\n",
    "myset2 = {}\n",
    "type(myset2)"
   ]
  },
  {
   "cell_type": "code",
   "execution_count": 22,
   "metadata": {
    "colab": {
     "base_uri": "https://localhost:8080/"
    },
    "executionInfo": {
     "elapsed": 234,
     "status": "ok",
     "timestamp": 1637923895167,
     "user": {
      "displayName": "Maria Julliette Marin Alarcon",
      "photoUrl": "https://lh3.googleusercontent.com/a/default-user=s64",
      "userId": "14948341870893292997"
     },
     "user_tz": 240
    },
    "id": "LdBmkU6pPuEx",
    "outputId": "57fa2f2b-4260-4dcb-999e-cde6ab214c92"
   },
   "outputs": [
    {
     "data": {
      "text/plain": [
       "set"
      ]
     },
     "execution_count": 22,
     "metadata": {},
     "output_type": "execute_result"
    }
   ],
   "source": [
    "# Para crear un set vacío usa el constructor set()\n",
    "\n",
    "myset3 = set()\n",
    "type(myset3)"
   ]
  },
  {
   "cell_type": "code",
   "execution_count": 23,
   "metadata": {
    "colab": {
     "base_uri": "https://localhost:8080/"
    },
    "executionInfo": {
     "elapsed": 232,
     "status": "ok",
     "timestamp": 1637923898322,
     "user": {
      "displayName": "Maria Julliette Marin Alarcon",
      "photoUrl": "https://lh3.googleusercontent.com/a/default-user=s64",
      "userId": "14948341870893292997"
     },
     "user_tz": 240
    },
    "id": "Hna423cBPuEx",
    "outputId": "fe719a1e-1096-4b83-a916-b15fcecc94ed"
   },
   "outputs": [
    {
     "data": {
      "text/plain": [
       "set()"
      ]
     },
     "execution_count": 23,
     "metadata": {},
     "output_type": "execute_result"
    }
   ],
   "source": [
    "# Borramos el contenido con el método clear()\n",
    "\n",
    "myset.clear()\n",
    "myset"
   ]
  },
  {
   "cell_type": "markdown",
   "metadata": {
    "id": "g0t_8Y4DPuEy"
   },
   "source": [
    "## <font color='green'>Actividad 1:</font> \n",
    "### Crea un set con 5 elementos del tipo float\n",
    "Crea un set llamado 'a'\n",
    "\n",
    "Tip: \n",
    "1. Usa el método **set()**\n",
    "2. Recuerda el uso de floats con punto decimal como 4.3 or 0.123"
   ]
  },
  {
   "cell_type": "code",
   "execution_count": 24,
   "metadata": {
    "executionInfo": {
     "elapsed": 502,
     "status": "ok",
     "timestamp": 1638494048987,
     "user": {
      "displayName": "Maria Julliette Marin Alarcon",
      "photoUrl": "https://lh3.googleusercontent.com/a/default-user=s64",
      "userId": "14948341870893292997"
     },
     "user_tz": 240
    },
    "id": "V604rYUSPuEy"
   },
   "outputs": [],
   "source": [
    "# Tu código aquí ...\n",
    "# Creación de un set llamado 'a'\n",
    "a=set()\n",
    "# Elementos que estarán en el set\n",
    "a.add(1.0)\n",
    "a.add(2.08)\n",
    "a.add(0.2345)\n",
    "a.add(3.2)\n",
    "a.add(-2.5)"
   ]
  },
  {
   "cell_type": "code",
   "execution_count": 25,
   "metadata": {
    "colab": {
     "base_uri": "https://localhost:8080/"
    },
    "executionInfo": {
     "elapsed": 404,
     "status": "ok",
     "timestamp": 1638494014736,
     "user": {
      "displayName": "Maria Julliette Marin Alarcon",
      "photoUrl": "https://lh3.googleusercontent.com/a/default-user=s64",
      "userId": "14948341870893292997"
     },
     "user_tz": 240
    },
    "id": "b7Qp7lUHRrei",
    "outputId": "81e802fd-2852-4189-b3ce-fd2e3ec40a98"
   },
   "outputs": [
    {
     "data": {
      "text/plain": [
       "{-2.5, 0.2345, 1.0, 2.08, 3.2}"
      ]
     },
     "execution_count": 25,
     "metadata": {},
     "output_type": "execute_result"
    }
   ],
   "source": [
    "a"
   ]
  },
  {
   "cell_type": "markdown",
   "metadata": {
    "id": "KyiGyUJFPuEy"
   },
   "source": [
    "<font color='green'>Fin actividad 1</font>"
   ]
  },
  {
   "cell_type": "markdown",
   "metadata": {
    "id": "Z_cEst5JPuEy"
   },
   "source": [
    "## <font color='blue'>**Tipos de datos variados**</font>"
   ]
  },
  {
   "cell_type": "code",
   "execution_count": 26,
   "metadata": {
    "colab": {
     "base_uri": "https://localhost:8080/"
    },
    "executionInfo": {
     "elapsed": 239,
     "status": "ok",
     "timestamp": 1637923931910,
     "user": {
      "displayName": "Maria Julliette Marin Alarcon",
      "photoUrl": "https://lh3.googleusercontent.com/a/default-user=s64",
      "userId": "14948341870893292997"
     },
     "user_tz": 240
    },
    "id": "lhm2wTuYPuEz",
    "outputId": "7d0ec293-9f4d-4cf8-9e3f-b30114097d44"
   },
   "outputs": [
    {
     "name": "stdout",
     "output_type": "stream",
     "text": [
      "{1, 2, 3}\n",
      "{1.0, (1, 2, 3), 'Hello'}\n"
     ]
    }
   ],
   "source": [
    "# set de enteros (int)\n",
    "\n",
    "my_set4 = {1, 2, 3}\n",
    "print(my_set4)\n",
    "\n",
    "# set de tipos variados\n",
    "\n",
    "my_set5 = {1.0, \"Hello\", (1, 2, 3)}   # float, string y tuple\n",
    "print(my_set5)"
   ]
  },
  {
   "cell_type": "markdown",
   "metadata": {
    "id": "ULLlEKbuPuEz"
   },
   "source": [
    "No obstante, un conjunto no puede incluir objetos mutables como listas, diccionarios, e incluso otros conjuntos. Esto ocurre básicamente porque los elementos deben ser *hashables*"
   ]
  },
  {
   "cell_type": "code",
   "execution_count": 27,
   "metadata": {
    "colab": {
     "base_uri": "https://localhost:8080/",
     "height": 200
    },
    "executionInfo": {
     "elapsed": 237,
     "status": "error",
     "timestamp": 1637923940230,
     "user": {
      "displayName": "Maria Julliette Marin Alarcon",
      "photoUrl": "https://lh3.googleusercontent.com/a/default-user=s64",
      "userId": "14948341870893292997"
     },
     "user_tz": 240
    },
    "id": "LZ3JfsCNPuEz",
    "outputId": "0f09ea9f-8da6-4d81-e043-ba44f804c8c0"
   },
   "outputs": [
    {
     "ename": "TypeError",
     "evalue": "unhashable type: 'list'",
     "output_type": "error",
     "traceback": [
      "\u001b[1;31m---------------------------------------------------------------------------\u001b[0m",
      "\u001b[1;31mTypeError\u001b[0m                                 Traceback (most recent call last)",
      "Input \u001b[1;32mIn [27]\u001b[0m, in \u001b[0;36m<cell line: 3>\u001b[1;34m()\u001b[0m\n\u001b[0;32m      1\u001b[0m \u001b[38;5;66;03m# Esta celda dará un error al tratar de crear el set con un elemento no \"hasheable\"\u001b[39;00m\n\u001b[0;32m      2\u001b[0m \u001b[38;5;66;03m# Las listas no son hasheables\u001b[39;00m\n\u001b[1;32m----> 3\u001b[0m c \u001b[38;5;241m=\u001b[39m {[\u001b[38;5;241m1\u001b[39m, \u001b[38;5;241m2\u001b[39m]}\n",
      "\u001b[1;31mTypeError\u001b[0m: unhashable type: 'list'"
     ]
    }
   ],
   "source": [
    "# Esta celda dará un error al tratar de crear el set con un elemento no \"hasheable\"\n",
    "# Las listas no son hasheables\n",
    "c = {[1, 2]}"
   ]
  },
  {
   "cell_type": "markdown",
   "metadata": {
    "id": "26fYKTZsPuE0"
   },
   "source": [
    "<div class=\"alert alert-block alert-warning\">\n",
    "<b>TIP:</b> 'hashable' es una característica de los objetos Python que indica si el objeto tiene un valor hash o no. Si el objeto tiene un valor hash, se puede utilizar como clave para un diccionario o como elemento en un conjunto. Un objeto es hash si tiene un valor hash que no cambia durante toda su vida útil.\n",
    "\n",
    "Un valor hash es un identificador (normalmente alfanumérico) único del objeto; algo así como su RUT. Se utiliza para almacenarlo y buscarlo de forma eficiente y rápida.\n",
    "</div>"
   ]
  },
  {
   "cell_type": "markdown",
   "metadata": {
    "id": "QdhGl1ugPuE0"
   },
   "source": [
    "## <font color='blue'>**Operaciones matemáticas**</font>\n",
    "\n",
    "Los objetos 'sets' también admiten operaciones matemáticas como unión, intersección, diferencia y diferencia simétrica."
   ]
  },
  {
   "cell_type": "code",
   "execution_count": 28,
   "metadata": {
    "id": "q5pmfmvbPuE1"
   },
   "outputs": [],
   "source": [
    "a = {1, 2, 3, 4, 5, 6}\n",
    "b = {4, 5, 6, 7, 8, 9, 10}"
   ]
  },
  {
   "cell_type": "code",
   "execution_count": 29,
   "metadata": {
    "colab": {
     "base_uri": "https://localhost:8080/"
    },
    "executionInfo": {
     "elapsed": 221,
     "status": "ok",
     "timestamp": 1637923951788,
     "user": {
      "displayName": "Maria Julliette Marin Alarcon",
      "photoUrl": "https://lh3.googleusercontent.com/a/default-user=s64",
      "userId": "14948341870893292997"
     },
     "user_tz": 240
    },
    "id": "cmvDGnsSPuE1",
    "outputId": "66428707-ecc7-4b23-d5fc-6c930f45cf0c"
   },
   "outputs": [
    {
     "data": {
      "text/plain": [
       "{1, 2, 3, 4, 5, 6, 7, 8, 9, 10}"
      ]
     },
     "execution_count": 29,
     "metadata": {},
     "output_type": "execute_result"
    }
   ],
   "source": [
    "# Unión: usa el operador | o el método union()\n",
    "\n",
    "a | b"
   ]
  },
  {
   "cell_type": "code",
   "execution_count": 30,
   "metadata": {
    "colab": {
     "base_uri": "https://localhost:8080/"
    },
    "executionInfo": {
     "elapsed": 4,
     "status": "ok",
     "timestamp": 1637923953465,
     "user": {
      "displayName": "Maria Julliette Marin Alarcon",
      "photoUrl": "https://lh3.googleusercontent.com/a/default-user=s64",
      "userId": "14948341870893292997"
     },
     "user_tz": 240
    },
    "id": "-oz7R4LxPuE1",
    "outputId": "4c013832-c308-4420-ea58-e9977ba2d539"
   },
   "outputs": [
    {
     "data": {
      "text/plain": [
       "{1, 2, 3, 4, 5, 6, 7, 8, 9, 10}"
      ]
     },
     "execution_count": 30,
     "metadata": {},
     "output_type": "execute_result"
    }
   ],
   "source": [
    "a.union(b)"
   ]
  },
  {
   "cell_type": "code",
   "execution_count": 31,
   "metadata": {
    "colab": {
     "base_uri": "https://localhost:8080/"
    },
    "executionInfo": {
     "elapsed": 227,
     "status": "ok",
     "timestamp": 1637923954711,
     "user": {
      "displayName": "Maria Julliette Marin Alarcon",
      "photoUrl": "https://lh3.googleusercontent.com/a/default-user=s64",
      "userId": "14948341870893292997"
     },
     "user_tz": 240
    },
    "id": "Ml3_P4jDPuE1",
    "outputId": "adbd4ae3-0cee-460d-9b94-661c8cb4c961"
   },
   "outputs": [
    {
     "data": {
      "text/plain": [
       "{4, 5, 6}"
      ]
     },
     "execution_count": 31,
     "metadata": {},
     "output_type": "execute_result"
    }
   ],
   "source": [
    "# Intersección: usa el operador & o el método intersection()\n",
    "\n",
    "a & b"
   ]
  },
  {
   "cell_type": "code",
   "execution_count": 32,
   "metadata": {
    "colab": {
     "base_uri": "https://localhost:8080/"
    },
    "executionInfo": {
     "elapsed": 265,
     "status": "ok",
     "timestamp": 1637923957232,
     "user": {
      "displayName": "Maria Julliette Marin Alarcon",
      "photoUrl": "https://lh3.googleusercontent.com/a/default-user=s64",
      "userId": "14948341870893292997"
     },
     "user_tz": 240
    },
    "id": "Fvt8Hi0HPuE2",
    "outputId": "e71ca899-aacf-42f7-e82e-f9ffffc95329"
   },
   "outputs": [
    {
     "data": {
      "text/plain": [
       "{4, 5, 6}"
      ]
     },
     "execution_count": 32,
     "metadata": {},
     "output_type": "execute_result"
    }
   ],
   "source": [
    "a.intersection(b)"
   ]
  },
  {
   "cell_type": "code",
   "execution_count": 33,
   "metadata": {
    "colab": {
     "base_uri": "https://localhost:8080/"
    },
    "executionInfo": {
     "elapsed": 225,
     "status": "ok",
     "timestamp": 1637923959440,
     "user": {
      "displayName": "Maria Julliette Marin Alarcon",
      "photoUrl": "https://lh3.googleusercontent.com/a/default-user=s64",
      "userId": "14948341870893292997"
     },
     "user_tz": 240
    },
    "id": "xo4EcXfYPuE2",
    "outputId": "3e6ab461-0ae5-4f29-f141-59a5285c3394"
   },
   "outputs": [
    {
     "data": {
      "text/plain": [
       "{1, 2, 3}"
      ]
     },
     "execution_count": 33,
     "metadata": {},
     "output_type": "execute_result"
    }
   ],
   "source": [
    "# Diferencia: usa el operador - o el método difference()\n",
    "\n",
    "a - b"
   ]
  },
  {
   "cell_type": "code",
   "execution_count": 34,
   "metadata": {
    "colab": {
     "base_uri": "https://localhost:8080/"
    },
    "executionInfo": {
     "elapsed": 236,
     "status": "ok",
     "timestamp": 1637923961032,
     "user": {
      "displayName": "Maria Julliette Marin Alarcon",
      "photoUrl": "https://lh3.googleusercontent.com/a/default-user=s64",
      "userId": "14948341870893292997"
     },
     "user_tz": 240
    },
    "id": "wClcqVirPuE3",
    "outputId": "2f08cb10-4162-4cb8-b2ec-86d310ca0384"
   },
   "outputs": [
    {
     "data": {
      "text/plain": [
       "{1, 2, 3}"
      ]
     },
     "execution_count": 34,
     "metadata": {},
     "output_type": "execute_result"
    }
   ],
   "source": [
    "a.difference(b)"
   ]
  },
  {
   "cell_type": "code",
   "execution_count": 35,
   "metadata": {
    "colab": {
     "base_uri": "https://localhost:8080/"
    },
    "executionInfo": {
     "elapsed": 233,
     "status": "ok",
     "timestamp": 1637923963061,
     "user": {
      "displayName": "Maria Julliette Marin Alarcon",
      "photoUrl": "https://lh3.googleusercontent.com/a/default-user=s64",
      "userId": "14948341870893292997"
     },
     "user_tz": 240
    },
    "id": "dpTxFFfiPuE3",
    "outputId": "f000b8bb-e978-4633-9376-253fad9fcd96"
   },
   "outputs": [
    {
     "data": {
      "text/plain": [
       "{7, 8, 9, 10}"
      ]
     },
     "execution_count": 35,
     "metadata": {},
     "output_type": "execute_result"
    }
   ],
   "source": [
    "b - a"
   ]
  },
  {
   "cell_type": "code",
   "execution_count": 36,
   "metadata": {
    "colab": {
     "base_uri": "https://localhost:8080/"
    },
    "executionInfo": {
     "elapsed": 225,
     "status": "ok",
     "timestamp": 1637923965341,
     "user": {
      "displayName": "Maria Julliette Marin Alarcon",
      "photoUrl": "https://lh3.googleusercontent.com/a/default-user=s64",
      "userId": "14948341870893292997"
     },
     "user_tz": 240
    },
    "id": "IEWY2GtUPuE3",
    "outputId": "7e88f41e-b402-48e0-a8ea-34e4528d14d8"
   },
   "outputs": [
    {
     "data": {
      "text/plain": [
       "{7, 8, 9, 10}"
      ]
     },
     "execution_count": 36,
     "metadata": {},
     "output_type": "execute_result"
    }
   ],
   "source": [
    "b.difference(a)"
   ]
  },
  {
   "cell_type": "code",
   "execution_count": 37,
   "metadata": {
    "colab": {
     "base_uri": "https://localhost:8080/"
    },
    "executionInfo": {
     "elapsed": 226,
     "status": "ok",
     "timestamp": 1637923966609,
     "user": {
      "displayName": "Maria Julliette Marin Alarcon",
      "photoUrl": "https://lh3.googleusercontent.com/a/default-user=s64",
      "userId": "14948341870893292997"
     },
     "user_tz": 240
    },
    "id": "pZhl0ligPuE3",
    "outputId": "986a632b-2def-4b49-abf7-c1239e780726"
   },
   "outputs": [
    {
     "data": {
      "text/plain": [
       "{1, 2, 3, 7, 8, 9, 10}"
      ]
     },
     "execution_count": 37,
     "metadata": {},
     "output_type": "execute_result"
    }
   ],
   "source": [
    "# Diferencia simétrica: usa el operador ^ o el método symmetric_difference()\n",
    "a ^ b"
   ]
  },
  {
   "cell_type": "code",
   "execution_count": 38,
   "metadata": {
    "colab": {
     "base_uri": "https://localhost:8080/"
    },
    "executionInfo": {
     "elapsed": 235,
     "status": "ok",
     "timestamp": 1637923968323,
     "user": {
      "displayName": "Maria Julliette Marin Alarcon",
      "photoUrl": "https://lh3.googleusercontent.com/a/default-user=s64",
      "userId": "14948341870893292997"
     },
     "user_tz": 240
    },
    "id": "VBhy9boQPuE3",
    "outputId": "fec15479-7937-46da-9f77-bc77a5472c12"
   },
   "outputs": [
    {
     "data": {
      "text/plain": [
       "{1, 2, 3, 7, 8, 9, 10}"
      ]
     },
     "execution_count": 38,
     "metadata": {},
     "output_type": "execute_result"
    }
   ],
   "source": [
    "a.symmetric_difference(b)"
   ]
  },
  {
   "cell_type": "markdown",
   "metadata": {
    "id": "mZgKqrDAPuE3"
   },
   "source": [
    "## <font color='green'>Actividad 2:</font> \n",
    "### Operaciones sobre conjutos (sets)\n",
    "En la siguiente celda hay dos conjuntos con los personajes del programa de televisión de Riverdale: \"A\" y \"B\" <br>\n",
    "Haz lo siguiente:\n",
    "* agregar un nuevo personaje en el conjunto 'A'\n",
    "* eliminar un personaje de set 'B'\n",
    "* imprimir la intersección entre 'A' y 'B'\n",
    "* imprimir la unión entre 'A' y 'B'\n",
    "\n",
    "TIPs:\n",
    "1. Utiliza el método add() para agregar un elemento para establecer 'A'\n",
    "2. Utiliza el método discard() para eliminar un elemento para establecer 'B'\n",
    "3. Utiliza la función print() para imprimir los métodos de intersección() y unión()"
   ]
  },
  {
   "cell_type": "code",
   "execution_count": 39,
   "metadata": {
    "executionInfo": {
     "elapsed": 397,
     "status": "ok",
     "timestamp": 1638494167539,
     "user": {
      "displayName": "Maria Julliette Marin Alarcon",
      "photoUrl": "https://lh3.googleusercontent.com/a/default-user=s64",
      "userId": "14948341870893292997"
     },
     "user_tz": 240
    },
    "id": "7bh7dciBPuE4"
   },
   "outputs": [],
   "source": [
    "A = {'Josie', 'Archie', 'Jughead', 'Cheryl', 'Kevin'}\n",
    "B = set(['Veronica', 'Betty', 'Cheryl', 'Fred', 'Melody', 'Josie'])"
   ]
  },
  {
   "cell_type": "code",
   "execution_count": 40,
   "metadata": {
    "colab": {
     "base_uri": "https://localhost:8080/"
    },
    "executionInfo": {
     "elapsed": 376,
     "status": "ok",
     "timestamp": 1638494248857,
     "user": {
      "displayName": "Maria Julliette Marin Alarcon",
      "photoUrl": "https://lh3.googleusercontent.com/a/default-user=s64",
      "userId": "14948341870893292997"
     },
     "user_tz": 240
    },
    "id": "FIvhi2rHPuE4",
    "outputId": "ea81371a-cfbb-4073-e781-7e640299389d"
   },
   "outputs": [
    {
     "name": "stdout",
     "output_type": "stream",
     "text": [
      "{'Josie', 'Cheryl'}\n",
      "{'Archie', 'Fred', 'Jughead', 'Kevin', 'Cheryl', 'Josie', 'Melody', 'NuevoParticipante', 'Veronica'}\n"
     ]
    }
   ],
   "source": [
    "# Tu código aquí ...\n",
    "# Agregar un nuevo personaje en el conjunto 'A' con método add()\n",
    "A.add('NuevoParticipante')\n",
    "# Eliminar un personaje de set 'B' con método discard()\n",
    "B.discard('Betty')\n",
    "# Imprimir la intersección entre 'A' y 'B' con función print()\n",
    "print(A&B)\n",
    "# Imprimir la unión entre 'A' y 'B' con función print()\n",
    "print(A|B)\n"
   ]
  },
  {
   "cell_type": "markdown",
   "metadata": {
    "id": "mwUdtRWvPuE4"
   },
   "source": [
    "<font color='green'>Fin actividad 2</font>"
   ]
  },
  {
   "cell_type": "markdown",
   "metadata": {
    "id": "N8EhpYjAPuE4"
   },
   "source": [
    "## <font color='blue'>**Membresía (Membership)**</font>"
   ]
  },
  {
   "cell_type": "code",
   "execution_count": 41,
   "metadata": {
    "colab": {
     "base_uri": "https://localhost:8080/"
    },
    "executionInfo": {
     "elapsed": 432,
     "status": "ok",
     "timestamp": 1637924023192,
     "user": {
      "displayName": "Maria Julliette Marin Alarcon",
      "photoUrl": "https://lh3.googleusercontent.com/a/default-user=s64",
      "userId": "14948341870893292997"
     },
     "user_tz": 240
    },
    "id": "PGy0AZ0fPuE4",
    "outputId": "0317f55b-57c0-4fa4-85da-0f662ff951eb"
   },
   "outputs": [
    {
     "data": {
      "text/plain": [
       "{1, 2, 3, 4, 5, 6}"
      ]
     },
     "execution_count": 41,
     "metadata": {},
     "output_type": "execute_result"
    }
   ],
   "source": [
    "a"
   ]
  },
  {
   "cell_type": "code",
   "execution_count": 42,
   "metadata": {
    "colab": {
     "base_uri": "https://localhost:8080/"
    },
    "executionInfo": {
     "elapsed": 255,
     "status": "ok",
     "timestamp": 1637924025859,
     "user": {
      "displayName": "Maria Julliette Marin Alarcon",
      "photoUrl": "https://lh3.googleusercontent.com/a/default-user=s64",
      "userId": "14948341870893292997"
     },
     "user_tz": 240
    },
    "id": "UOqGrptDPuE5",
    "outputId": "c88e9b39-966c-46ed-8ddb-a293d31e15a5"
   },
   "outputs": [
    {
     "name": "stdout",
     "output_type": "stream",
     "text": [
      "1, 2, 3, 4, 5, 6\n"
     ]
    }
   ],
   "source": [
    "print(*a, sep=', ')"
   ]
  },
  {
   "cell_type": "code",
   "execution_count": 43,
   "metadata": {
    "colab": {
     "base_uri": "https://localhost:8080/"
    },
    "executionInfo": {
     "elapsed": 249,
     "status": "ok",
     "timestamp": 1637924111159,
     "user": {
      "displayName": "Maria Julliette Marin Alarcon",
      "photoUrl": "https://lh3.googleusercontent.com/a/default-user=s64",
      "userId": "14948341870893292997"
     },
     "user_tz": 240
    },
    "id": "G0AbxK-LPuE5",
    "outputId": "e4758ae3-e723-4811-ffe2-28f6363d5e22"
   },
   "outputs": [
    {
     "data": {
      "text/plain": [
       "True"
      ]
     },
     "execution_count": 43,
     "metadata": {},
     "output_type": "execute_result"
    }
   ],
   "source": [
    "2 in a"
   ]
  },
  {
   "cell_type": "code",
   "execution_count": 44,
   "metadata": {
    "colab": {
     "base_uri": "https://localhost:8080/"
    },
    "executionInfo": {
     "elapsed": 248,
     "status": "ok",
     "timestamp": 1637924167381,
     "user": {
      "displayName": "Maria Julliette Marin Alarcon",
      "photoUrl": "https://lh3.googleusercontent.com/a/default-user=s64",
      "userId": "14948341870893292997"
     },
     "user_tz": 240
    },
    "id": "ejx4Ib1IPuE5",
    "outputId": "3786fd73-ea58-43e1-d3da-51d5a81d7181"
   },
   "outputs": [
    {
     "name": "stdout",
     "output_type": "stream",
     "text": [
      "True\n",
      "True\n"
     ]
    }
   ],
   "source": [
    "# Lo mismo pero usando la función print()\n",
    "\n",
    "print(2 in a)\n",
    "print(f'{2 in a}')"
   ]
  },
  {
   "cell_type": "code",
   "execution_count": 45,
   "metadata": {
    "colab": {
     "base_uri": "https://localhost:8080/"
    },
    "executionInfo": {
     "elapsed": 243,
     "status": "ok",
     "timestamp": 1637924392355,
     "user": {
      "displayName": "Maria Julliette Marin Alarcon",
      "photoUrl": "https://lh3.googleusercontent.com/a/default-user=s64",
      "userId": "14948341870893292997"
     },
     "user_tz": 240
    },
    "id": "cGaiE4MoPuE5",
    "outputId": "da891ae7-2efa-4d02-ee99-bc8a5219552a"
   },
   "outputs": [
    {
     "data": {
      "text/plain": [
       "False"
      ]
     },
     "execution_count": 45,
     "metadata": {},
     "output_type": "execute_result"
    }
   ],
   "source": [
    "'2' in a"
   ]
  },
  {
   "cell_type": "code",
   "execution_count": 46,
   "metadata": {
    "id": "1ez1wMMAPuE5"
   },
   "outputs": [],
   "source": [
    "# Busquemos un set en otro\n",
    "\n",
    "c = {2, 3}"
   ]
  },
  {
   "cell_type": "markdown",
   "metadata": {
    "id": "NTa8-8DvPuE6"
   },
   "source": [
    "Se dice que C es un subconjunto de A cuando todos los elementos de aquél pertenecen también a éste. Python puede determinar esta relación vía el método issubset()."
   ]
  },
  {
   "cell_type": "code",
   "execution_count": 47,
   "metadata": {
    "colab": {
     "base_uri": "https://localhost:8080/"
    },
    "executionInfo": {
     "elapsed": 254,
     "status": "ok",
     "timestamp": 1637924395815,
     "user": {
      "displayName": "Maria Julliette Marin Alarcon",
      "photoUrl": "https://lh3.googleusercontent.com/a/default-user=s64",
      "userId": "14948341870893292997"
     },
     "user_tz": 240
    },
    "id": "sRBT37a2PuE6",
    "outputId": "73a9afa8-a57f-4603-fdb5-a479e66d1e0c"
   },
   "outputs": [
    {
     "data": {
      "text/plain": [
       "True"
      ]
     },
     "execution_count": 47,
     "metadata": {},
     "output_type": "execute_result"
    }
   ],
   "source": [
    "c.issubset(a)"
   ]
  },
  {
   "cell_type": "markdown",
   "metadata": {
    "id": "Ufxu0kN6PuE6"
   },
   "source": [
    "Inversamente, se dice que A es un superconjunto de B."
   ]
  },
  {
   "cell_type": "code",
   "execution_count": 48,
   "metadata": {
    "colab": {
     "base_uri": "https://localhost:8080/"
    },
    "executionInfo": {
     "elapsed": 246,
     "status": "ok",
     "timestamp": 1637924407473,
     "user": {
      "displayName": "Maria Julliette Marin Alarcon",
      "photoUrl": "https://lh3.googleusercontent.com/a/default-user=s64",
      "userId": "14948341870893292997"
     },
     "user_tz": 240
    },
    "id": "C6AOjM1CPuE6",
    "outputId": "8e5f7097-4108-4788-a5d2-c67990e3b77b"
   },
   "outputs": [
    {
     "data": {
      "text/plain": [
       "True"
      ]
     },
     "execution_count": 48,
     "metadata": {},
     "output_type": "execute_result"
    }
   ],
   "source": [
    "a.issuperset(c)"
   ]
  }
 ],
 "metadata": {
  "colab": {
   "name": "FP08-Python_Sets-ok.ipynb",
   "provenance": []
  },
  "kernelspec": {
   "display_name": "Python 3 (ipykernel)",
   "language": "python",
   "name": "python3"
  },
  "language_info": {
   "codemirror_mode": {
    "name": "ipython",
    "version": 3
   },
   "file_extension": ".py",
   "mimetype": "text/x-python",
   "name": "python",
   "nbconvert_exporter": "python",
   "pygments_lexer": "ipython3",
   "version": "3.10.5"
  }
 },
 "nbformat": 4,
 "nbformat_minor": 1
}
