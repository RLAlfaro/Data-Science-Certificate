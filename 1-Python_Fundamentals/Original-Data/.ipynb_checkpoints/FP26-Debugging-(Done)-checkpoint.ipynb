{
 "cells": [
  {
   "cell_type": "markdown",
   "metadata": {
    "id": "nPCUwV1LIJOy"
   },
   "source": [
    "# **Introducción a Python**\n",
    "# FP26. Depurando nuestro programa (Debugging)"
   ]
  },
  {
   "cell_type": "markdown",
   "metadata": {
    "id": "V9olcuXEETTn"
   },
   "source": [
    "Cubramos rápidamente el uso de la función de depuración (**debugging**) de Python para encontrar más fácilmente los errores en nuestro código."
   ]
  },
  {
   "cell_type": "markdown",
   "metadata": {
    "id": "vLX2nuqCETTn"
   },
   "source": [
    "## <font color='blue'>**Controlling Exceptions: ``%xmode``**</font>\n",
    "La mayoría de las veces, cuando falla una secuencia de comandos de Python, generará una excepción.\n",
    "Cuando el intérprete llega a una de estas excepciones, la información sobre la causa del error se puede encontrar en el *traceback* (la traza del error), al que se puede acceder desde Python.\n",
    "Con la función mágica ``% xmode``, IPython (y por tanto Jupyter y Colab) te permite controlar la cantidad de información impresa cuando se genera la excepción.\n",
    "\n",
    "Veamos como:"
   ]
  },
  {
   "cell_type": "code",
   "execution_count": 1,
   "metadata": {
    "id": "szI4ZNIdETTo"
   },
   "outputs": [],
   "source": [
    "def computo(a, b):\n",
    "    c = a**2  + b**2\n",
    "    return c / (a - b)**2"
   ]
  },
  {
   "cell_type": "code",
   "execution_count": 2,
   "metadata": {
    "colab": {
     "base_uri": "https://localhost:8080/",
     "height": 270
    },
    "executionInfo": {
     "elapsed": 355,
     "status": "error",
     "timestamp": 1638325866864,
     "user": {
      "displayName": "Nicolas Enrique Bastias Tejos",
      "photoUrl": "https://lh3.googleusercontent.com/a/default-user=s64",
      "userId": "05876033824720005772"
     },
     "user_tz": 180
    },
    "id": "PWx-bVo_ETTp",
    "outputId": "c8bf8db4-4bdd-4432-d007-796c07567677"
   },
   "outputs": [
    {
     "ename": "ZeroDivisionError",
     "evalue": "division by zero",
     "output_type": "error",
     "traceback": [
      "\u001b[1;31m---------------------------------------------------------------------------\u001b[0m",
      "\u001b[1;31mZeroDivisionError\u001b[0m                         Traceback (most recent call last)",
      "Input \u001b[1;32mIn [2]\u001b[0m, in \u001b[0;36m<cell line: 2>\u001b[1;34m()\u001b[0m\n\u001b[0;32m      1\u001b[0m \u001b[38;5;66;03m# Generemos un error\u001b[39;00m\n\u001b[1;32m----> 2\u001b[0m \u001b[43mcomputo\u001b[49m\u001b[43m(\u001b[49m\u001b[38;5;241;43m1\u001b[39;49m\u001b[43m,\u001b[49m\u001b[43m \u001b[49m\u001b[38;5;241;43m1\u001b[39;49m\u001b[43m)\u001b[49m\n",
      "Input \u001b[1;32mIn [1]\u001b[0m, in \u001b[0;36mcomputo\u001b[1;34m(a, b)\u001b[0m\n\u001b[0;32m      1\u001b[0m \u001b[38;5;28;01mdef\u001b[39;00m \u001b[38;5;21mcomputo\u001b[39m(a, b):\n\u001b[0;32m      2\u001b[0m     c \u001b[38;5;241m=\u001b[39m a\u001b[38;5;241m*\u001b[39m\u001b[38;5;241m*\u001b[39m\u001b[38;5;241m2\u001b[39m  \u001b[38;5;241m+\u001b[39m b\u001b[38;5;241m*\u001b[39m\u001b[38;5;241m*\u001b[39m\u001b[38;5;241m2\u001b[39m\n\u001b[1;32m----> 3\u001b[0m     \u001b[38;5;28;01mreturn\u001b[39;00m \u001b[43mc\u001b[49m\u001b[43m \u001b[49m\u001b[38;5;241;43m/\u001b[39;49m\u001b[43m \u001b[49m\u001b[43m(\u001b[49m\u001b[43ma\u001b[49m\u001b[43m \u001b[49m\u001b[38;5;241;43m-\u001b[39;49m\u001b[43m \u001b[49m\u001b[43mb\u001b[49m\u001b[43m)\u001b[49m\u001b[38;5;241;43m*\u001b[39;49m\u001b[38;5;241;43m*\u001b[39;49m\u001b[38;5;241;43m2\u001b[39;49m\n",
      "\u001b[1;31mZeroDivisionError\u001b[0m: division by zero"
     ]
    }
   ],
   "source": [
    "# Generemos un error\n",
    "computo(1, 1)"
   ]
  },
  {
   "cell_type": "markdown",
   "metadata": {
    "id": "4fPMXiqXETTq"
   },
   "source": [
    "Llamar a ``computo``da como resultado un error, y leer la traza impresa nos permite ver exactamente lo que sucedió.<br>\n",
    "De forma predeterminada, esta traza incluye varias líneas que muestran el contexto de cada paso que condujo al error.<br>\n",
    "Usando la función mágica ``% xmode`` (abreviatura de *Modo de excepción*), podemos cambiar la información que se imprime.\n",
    "\n",
    "``% xmode`` toma un solo argumento, el modo, y hay tres posibilidades: \n",
    "* ``Plain ``\n",
    "* ``Context`` \n",
    "* ``Verbose``<br>\n",
    "\n",
    "El valor predeterminado es ``Contexto`` y da un resultado como el que se muestra antes.\n",
    "\n",
    "La sintaxis es :\n",
    "```python\n",
    "%xmode <modo>   # Sin espacio entre % y xmode\n",
    "```"
   ]
  },
  {
   "cell_type": "code",
   "execution_count": 3,
   "metadata": {
    "colab": {
     "base_uri": "https://localhost:8080/",
     "height": 234
    },
    "executionInfo": {
     "elapsed": 20,
     "status": "error",
     "timestamp": 1638325919744,
     "user": {
      "displayName": "Nicolas Enrique Bastias Tejos",
      "photoUrl": "https://lh3.googleusercontent.com/a/default-user=s64",
      "userId": "05876033824720005772"
     },
     "user_tz": 180
    },
    "id": "wovufh3QETTq",
    "outputId": "435a73ff-cbbf-4c12-85f5-e6d47bbb03e3"
   },
   "outputs": [
    {
     "name": "stdout",
     "output_type": "stream",
     "text": [
      "Exception reporting mode: Plain\n"
     ]
    },
    {
     "ename": "ZeroDivisionError",
     "evalue": "division by zero",
     "output_type": "error",
     "traceback": [
      "Traceback \u001b[1;36m(most recent call last)\u001b[0m:\n",
      "  Input \u001b[0;32mIn [3]\u001b[0m in \u001b[0;35m<cell line: 3>\u001b[0m\n    computo(1, 1)\n",
      "\u001b[1;36m  Input \u001b[1;32mIn [1]\u001b[1;36m in \u001b[1;35mcomputo\u001b[1;36m\u001b[0m\n\u001b[1;33m    return c / (a - b)**2\u001b[0m\n",
      "\u001b[1;31mZeroDivisionError\u001b[0m\u001b[1;31m:\u001b[0m division by zero\n"
     ]
    }
   ],
   "source": [
    "%xmode Plain \n",
    "\n",
    "computo(1, 1)"
   ]
  },
  {
   "cell_type": "code",
   "execution_count": 4,
   "metadata": {
    "colab": {
     "base_uri": "https://localhost:8080/",
     "height": 304
    },
    "executionInfo": {
     "elapsed": 430,
     "status": "error",
     "timestamp": 1638325949349,
     "user": {
      "displayName": "Nicolas Enrique Bastias Tejos",
      "photoUrl": "https://lh3.googleusercontent.com/a/default-user=s64",
      "userId": "05876033824720005772"
     },
     "user_tz": 180
    },
    "id": "aozRXoBZETTr",
    "outputId": "45b6074c-4f63-4fe8-85f3-b1ca31e3b28a"
   },
   "outputs": [
    {
     "name": "stdout",
     "output_type": "stream",
     "text": [
      "Exception reporting mode: Context\n"
     ]
    },
    {
     "ename": "ZeroDivisionError",
     "evalue": "division by zero",
     "output_type": "error",
     "traceback": [
      "\u001b[1;31m---------------------------------------------------------------------------\u001b[0m",
      "\u001b[1;31mZeroDivisionError\u001b[0m                         Traceback (most recent call last)",
      "Input \u001b[1;32mIn [4]\u001b[0m, in \u001b[0;36m<cell line: 3>\u001b[1;34m()\u001b[0m\n\u001b[0;32m      1\u001b[0m get_ipython()\u001b[38;5;241m.\u001b[39mrun_line_magic(\u001b[38;5;124m'\u001b[39m\u001b[38;5;124mxmode\u001b[39m\u001b[38;5;124m'\u001b[39m, \u001b[38;5;124m'\u001b[39m\u001b[38;5;124mContext\u001b[39m\u001b[38;5;124m'\u001b[39m)\n\u001b[1;32m----> 3\u001b[0m \u001b[43mcomputo\u001b[49m\u001b[43m(\u001b[49m\u001b[38;5;241;43m1\u001b[39;49m\u001b[43m,\u001b[49m\u001b[43m \u001b[49m\u001b[38;5;241;43m1\u001b[39;49m\u001b[43m)\u001b[49m\n",
      "Input \u001b[1;32mIn [1]\u001b[0m, in \u001b[0;36mcomputo\u001b[1;34m(a, b)\u001b[0m\n\u001b[0;32m      1\u001b[0m \u001b[38;5;28;01mdef\u001b[39;00m \u001b[38;5;21mcomputo\u001b[39m(a, b):\n\u001b[0;32m      2\u001b[0m     c \u001b[38;5;241m=\u001b[39m a\u001b[38;5;241m*\u001b[39m\u001b[38;5;241m*\u001b[39m\u001b[38;5;241m2\u001b[39m  \u001b[38;5;241m+\u001b[39m b\u001b[38;5;241m*\u001b[39m\u001b[38;5;241m*\u001b[39m\u001b[38;5;241m2\u001b[39m\n\u001b[1;32m----> 3\u001b[0m     \u001b[38;5;28;01mreturn\u001b[39;00m \u001b[43mc\u001b[49m\u001b[43m \u001b[49m\u001b[38;5;241;43m/\u001b[39;49m\u001b[43m \u001b[49m\u001b[43m(\u001b[49m\u001b[43ma\u001b[49m\u001b[43m \u001b[49m\u001b[38;5;241;43m-\u001b[39;49m\u001b[43m \u001b[49m\u001b[43mb\u001b[49m\u001b[43m)\u001b[49m\u001b[38;5;241;43m*\u001b[39;49m\u001b[38;5;241;43m*\u001b[39;49m\u001b[38;5;241;43m2\u001b[39;49m\n",
      "\u001b[1;31mZeroDivisionError\u001b[0m: division by zero"
     ]
    }
   ],
   "source": [
    "%xmode Context \n",
    "\n",
    "computo(1, 1)"
   ]
  },
  {
   "cell_type": "code",
   "execution_count": 5,
   "metadata": {
    "colab": {
     "base_uri": "https://localhost:8080/",
     "height": 374
    },
    "executionInfo": {
     "elapsed": 971,
     "status": "error",
     "timestamp": 1638325954734,
     "user": {
      "displayName": "Nicolas Enrique Bastias Tejos",
      "photoUrl": "https://lh3.googleusercontent.com/a/default-user=s64",
      "userId": "05876033824720005772"
     },
     "user_tz": 180
    },
    "id": "HG7Q38CaETTu",
    "outputId": "04fe72e7-4723-44e0-92eb-2f37382baac4"
   },
   "outputs": [
    {
     "name": "stdout",
     "output_type": "stream",
     "text": [
      "Exception reporting mode: Verbose\n"
     ]
    },
    {
     "ename": "ZeroDivisionError",
     "evalue": "division by zero",
     "output_type": "error",
     "traceback": [
      "\u001b[1;31m---------------------------------------------------------------------------\u001b[0m",
      "\u001b[1;31mZeroDivisionError\u001b[0m                         Traceback (most recent call last)",
      "Input \u001b[1;32mIn [5]\u001b[0m, in \u001b[0;36m<cell line: 3>\u001b[1;34m()\u001b[0m\n\u001b[0;32m      1\u001b[0m get_ipython()\u001b[38;5;241m.\u001b[39mrun_line_magic(\u001b[38;5;124m'\u001b[39m\u001b[38;5;124mxmode\u001b[39m\u001b[38;5;124m'\u001b[39m, \u001b[38;5;124m'\u001b[39m\u001b[38;5;124mVerbose\u001b[39m\u001b[38;5;124m'\u001b[39m)\n\u001b[1;32m----> 3\u001b[0m \u001b[43mcomputo\u001b[49m\u001b[43m(\u001b[49m\u001b[38;5;241;43m1\u001b[39;49m\u001b[43m,\u001b[49m\u001b[43m \u001b[49m\u001b[38;5;241;43m1\u001b[39;49m\u001b[43m)\u001b[49m\n",
      "Input \u001b[1;32mIn [1]\u001b[0m, in \u001b[0;36mcomputo\u001b[1;34m(a=1, b=1)\u001b[0m\n\u001b[0;32m      1\u001b[0m \u001b[38;5;28;01mdef\u001b[39;00m \u001b[38;5;21mcomputo\u001b[39m(a, b):\n\u001b[0;32m      2\u001b[0m     c \u001b[38;5;241m=\u001b[39m a\u001b[38;5;241m*\u001b[39m\u001b[38;5;241m*\u001b[39m\u001b[38;5;241m2\u001b[39m  \u001b[38;5;241m+\u001b[39m b\u001b[38;5;241m*\u001b[39m\u001b[38;5;241m*\u001b[39m\u001b[38;5;241m2\u001b[39m\n\u001b[1;32m----> 3\u001b[0m     \u001b[38;5;28;01mreturn\u001b[39;00m \u001b[43mc\u001b[49m\u001b[43m \u001b[49m\u001b[38;5;241;43m/\u001b[39;49m\u001b[43m \u001b[49m\u001b[43m(\u001b[49m\u001b[43ma\u001b[49m\u001b[43m \u001b[49m\u001b[38;5;241;43m-\u001b[39;49m\u001b[43m \u001b[49m\u001b[43mb\u001b[49m\u001b[43m)\u001b[49m\u001b[38;5;241;43m*\u001b[39;49m\u001b[38;5;241;43m*\u001b[39;49m\u001b[38;5;241;43m2\u001b[39;49m\n        c \u001b[1;34m= 2\u001b[0m\u001b[1;34m\n        \u001b[0m(a - b)**2 \u001b[1;34m= 0\u001b[0m\u001b[1;34m\n        \u001b[0ma \u001b[1;34m= 1\u001b[0m\u001b[1;34m\n        \u001b[0mb \u001b[1;34m= 1\u001b[0m\u001b[1;34m\n        \u001b[0ma - b \u001b[1;34m= 0\u001b[0m\n",
      "\u001b[1;31mZeroDivisionError\u001b[0m: division by zero"
     ]
    }
   ],
   "source": [
    "%xmode Verbose \n",
    "\n",
    "computo(1, 1)"
   ]
  },
  {
   "cell_type": "markdown",
   "metadata": {
    "id": "9G_YCw4dIJOy"
   },
   "source": [
    "## <font color='blue'>**Depurando con Python Debugger**</font>"
   ]
  },
  {
   "cell_type": "markdown",
   "metadata": {
    "id": "k72bZTXHIJOy"
   },
   "source": [
    "Cuando el trabeback no alcanaz para entender el origen del problema, probablemente hayas utilizado una variedad de declaraciones de impresión (**print()**) para intentar encontrar errores en tu código. No te preocupes, es muy normal !!\n",
    "\n",
    "Una mejor forma de hacerlo es utilizando el módulo depurador incorporado de Python (``pdb``). El módulo pdb implementa un entorno de depuración interactivo para programas Python. Incluye funciones que le permiten pausar tu programa, observar los valores de las variables y observar la ejecución del programa paso a paso, para que puedas comprender lo que hace realmente tu programa y encontrar errores en la lógica.\n",
    "\n",
    "Existe una versión para IPython de esto es llamada ```ipdb```.\n",
    "Hay muchas formas de iniciar y utilizar estos dos depuradores; investiga ya que no los cubriremos completamente aquí. \n",
    "\n",
    "En IPython (Jupyter y Colab), quizás la interfaz más conveniente para la depuración es el comando mágico ``% debug``. Si lo llama después de encontrar una excepción, se abrirá automáticamente un mensaje de depuración interactivo (prompt) en el punto de la excepción. El prompt del ipdb te permitá explorar el estado actual de la pila de ejecución, explorar las variables disponibles e incluso ejecutar comandos de Python.\n",
    "\n",
    "Veamos la excepción más reciente en nuestra función ```computa```, luego hagamos algunas tareas básicas: imprimir los valores de a, b y c, y escribiremos quit para salir de la sesión de depuración:"
   ]
  },
  {
   "cell_type": "code",
   "execution_count": 7,
   "metadata": {
    "colab": {
     "base_uri": "https://localhost:8080/"
    },
    "executionInfo": {
     "elapsed": 32334,
     "status": "ok",
     "timestamp": 1638326041759,
     "user": {
      "displayName": "Nicolas Enrique Bastias Tejos",
      "photoUrl": "https://lh3.googleusercontent.com/a/default-user=s64",
      "userId": "05876033824720005772"
     },
     "user_tz": 180
    },
    "id": "N22F5Vk0ETTw",
    "outputId": "95414240-5529-467f-de34-a57f4b87abce"
   },
   "outputs": [
    {
     "name": "stdout",
     "output_type": "stream",
     "text": [
      "> \u001b[1;32mc:\\users\\tarto\\appdata\\local\\temp\\ipykernel_24348\\268990467.py\u001b[0m(3)\u001b[0;36mcomputo\u001b[1;34m()\u001b[0m\n",
      "\n",
      "ipdb> print(a)\n",
      "1\n",
      "ipdb> print(c)\n",
      "2\n",
      "ipdb> print(b)\n",
      "1\n",
      "ipdb> quit\n"
     ]
    }
   ],
   "source": [
    "%debug\n",
    "# Cuando aparezca el prompt ipdb> ejecuta:\n",
    "# print(a) <enter>\n",
    "# print(c) <enter>\n",
    "# print(b) <enter>\n",
    "# quit <enter>"
   ]
  },
  {
   "cell_type": "markdown",
   "metadata": {
    "id": "W9kNjXLgETTx"
   },
   "source": [
    "Puedes avanzar o retroceder líneas con ``up``, ``down``"
   ]
  },
  {
   "cell_type": "code",
   "execution_count": 8,
   "metadata": {
    "colab": {
     "base_uri": "https://localhost:8080/"
    },
    "executionInfo": {
     "elapsed": 18527,
     "status": "ok",
     "timestamp": 1637625545841,
     "user": {
      "displayName": "Nicolas Enrique Bastias Tejos",
      "photoUrl": "https://lh3.googleusercontent.com/a/default-user=s64",
      "userId": "05876033824720005772"
     },
     "user_tz": 180
    },
    "id": "zYeOKv3OETTx",
    "outputId": "dd067c9f-6325-4b10-e253-3f824f41ea31"
   },
   "outputs": [
    {
     "name": "stdout",
     "output_type": "stream",
     "text": [
      "> \u001b[1;32mc:\\users\\tarto\\appdata\\local\\temp\\ipykernel_24348\\268990467.py\u001b[0m(3)\u001b[0;36mcomputo\u001b[1;34m()\u001b[0m\n",
      "\n",
      "ipdb> up\n",
      "> \u001b[1;32mc:\\users\\tarto\\appdata\\local\\temp\\ipykernel_24348\\4013037515.py\u001b[0m(3)\u001b[0;36m<cell line: 3>\u001b[1;34m()\u001b[0m\n",
      "\n",
      "ipdb> up\n",
      "*** Oldest frame\n",
      "ipdb> down\n",
      "> \u001b[1;32mc:\\users\\tarto\\appdata\\local\\temp\\ipykernel_24348\\268990467.py\u001b[0m(3)\u001b[0;36mcomputo\u001b[1;34m()\u001b[0m\n",
      "\n",
      "ipdb> quit\n"
     ]
    }
   ],
   "source": [
    "%debug\n",
    "# Cuando aparezca el prompt ipdb> ejecuta:\n",
    "# up <enter>\n",
    "# up <enter\n",
    "# down <enter>\n",
    "# quit <enter>"
   ]
  },
  {
   "cell_type": "markdown",
   "metadata": {
    "id": "JIE1owvTETTx"
   },
   "source": [
    "Si deseas que el depurador ``ìpdb``se inicie automáticamente cada vez que se genere una excepción, puedes usar la función mágica% pdb para activar este comportamiento automático, de la siguiente forma:"
   ]
  },
  {
   "cell_type": "code",
   "execution_count": 9,
   "metadata": {
    "colab": {
     "base_uri": "https://localhost:8080/",
     "height": 446
    },
    "executionInfo": {
     "elapsed": 17838,
     "status": "error",
     "timestamp": 1637625719231,
     "user": {
      "displayName": "Nicolas Enrique Bastias Tejos",
      "photoUrl": "https://lh3.googleusercontent.com/a/default-user=s64",
      "userId": "05876033824720005772"
     },
     "user_tz": 180
    },
    "id": "HX8d-SFIETTy",
    "outputId": "bed510d2-5d56-407d-bf89-b3eee51bce8a"
   },
   "outputs": [
    {
     "name": "stdout",
     "output_type": "stream",
     "text": [
      "Exception reporting mode: Plain\n",
      "Automatic pdb calling has been turned ON\n"
     ]
    },
    {
     "ename": "ZeroDivisionError",
     "evalue": "division by zero",
     "output_type": "error",
     "traceback": [
      "Traceback \u001b[1;36m(most recent call last)\u001b[0m:\n",
      "  Input \u001b[0;32mIn [9]\u001b[0m in \u001b[0;35m<cell line: 3>\u001b[0m\n    computo(3, 3)\n",
      "\u001b[1;36m  Input \u001b[1;32mIn [1]\u001b[1;36m in \u001b[1;35mcomputo\u001b[1;36m\u001b[0m\n\u001b[1;33m    return c / (a - b)**2\u001b[0m\n",
      "\u001b[1;31mZeroDivisionError\u001b[0m\u001b[1;31m:\u001b[0m division by zero\n"
     ]
    },
    {
     "name": "stdout",
     "output_type": "stream",
     "text": [
      "> \u001b[1;32mc:\\users\\tarto\\appdata\\local\\temp\\ipykernel_24348\\268990467.py\u001b[0m(3)\u001b[0;36mcomputo\u001b[1;34m()\u001b[0m\n",
      "\n",
      "ipdb> (a - b)\n",
      "0\n",
      "ipdb> quit\n"
     ]
    }
   ],
   "source": [
    "%xmode Plain\n",
    "%pdb on\n",
    "computo(3, 3)\n",
    "# Cuando aparezca el prompt ipdb> ejecuta:\n",
    "# (a - b) <enter>\n",
    "# quit <enter>"
   ]
  },
  {
   "cell_type": "code",
   "execution_count": 10,
   "metadata": {
    "colab": {
     "base_uri": "https://localhost:8080/"
    },
    "executionInfo": {
     "elapsed": 250,
     "status": "ok",
     "timestamp": 1637625677079,
     "user": {
      "displayName": "Nicolas Enrique Bastias Tejos",
      "photoUrl": "https://lh3.googleusercontent.com/a/default-user=s64",
      "userId": "05876033824720005772"
     },
     "user_tz": 180
    },
    "id": "4ceA5NqQGLU8",
    "outputId": "74ab4ef4-79cf-492b-95d0-9114c6ae6858"
   },
   "outputs": [
    {
     "data": {
      "text/plain": [
       "{'__name__': '__main__',\n",
       " '__doc__': 'Automatically created module for IPython interactive environment',\n",
       " '__package__': None,\n",
       " '__loader__': None,\n",
       " '__spec__': None,\n",
       " '__builtin__': <module 'builtins' (built-in)>,\n",
       " '__builtins__': <module 'builtins' (built-in)>,\n",
       " '_ih': ['',\n",
       "  'def computo(a, b):\\n    c = a**2  + b**2\\n    return c / (a - b)**2',\n",
       "  '# Generemos un error\\ncomputo(1, 1)',\n",
       "  \"get_ipython().run_line_magic('xmode', 'Plain')\\n\\ncomputo(1, 1)\",\n",
       "  \"get_ipython().run_line_magic('xmode', 'Context')\\n\\ncomputo(1, 1)\",\n",
       "  \"get_ipython().run_line_magic('xmode', 'Verbose')\\n\\ncomputo(1, 1)\",\n",
       "  \"get_ipython().run_line_magic('debug', '')\\n# Cuando aparezca el prompt ipdb> ejecuta:\\n# print(a) <enter>\\n# print(c) <enter>\\n# print(b) <enter>\\n# quit <enter>\",\n",
       "  \"get_ipython().run_line_magic('debug', '')\\n# Cuando aparezca el prompt ipdb> ejecuta:\\n# print(a) <enter>\\n# print(c) <enter>\\n# print(b) <enter>\\n# quit <enter>\",\n",
       "  \"get_ipython().run_line_magic('debug', '')\\n# Cuando aparezca el prompt ipdb> ejecuta:\\n# up <enter>\\n# up <enter\\n# down <enter>\\n# quit <enter>\",\n",
       "  \"get_ipython().run_line_magic('xmode', 'Plain')\\nget_ipython().run_line_magic('pdb', 'on')\\ncomputo(3, 3)\\n# Cuando aparezca el prompt ipdb> ejecuta:\\n# (a - b) <enter>\\n# quit <enter>\",\n",
       "  'locals()'],\n",
       " '_oh': {},\n",
       " '_dh': [WindowsPath('C:/Users/tarto/rlalfaro_data/Diplomado UDD/DataScience_Certificate_CL/1-Python_Fundamentals/Original-Data')],\n",
       " 'In': ['',\n",
       "  'def computo(a, b):\\n    c = a**2  + b**2\\n    return c / (a - b)**2',\n",
       "  '# Generemos un error\\ncomputo(1, 1)',\n",
       "  \"get_ipython().run_line_magic('xmode', 'Plain')\\n\\ncomputo(1, 1)\",\n",
       "  \"get_ipython().run_line_magic('xmode', 'Context')\\n\\ncomputo(1, 1)\",\n",
       "  \"get_ipython().run_line_magic('xmode', 'Verbose')\\n\\ncomputo(1, 1)\",\n",
       "  \"get_ipython().run_line_magic('debug', '')\\n# Cuando aparezca el prompt ipdb> ejecuta:\\n# print(a) <enter>\\n# print(c) <enter>\\n# print(b) <enter>\\n# quit <enter>\",\n",
       "  \"get_ipython().run_line_magic('debug', '')\\n# Cuando aparezca el prompt ipdb> ejecuta:\\n# print(a) <enter>\\n# print(c) <enter>\\n# print(b) <enter>\\n# quit <enter>\",\n",
       "  \"get_ipython().run_line_magic('debug', '')\\n# Cuando aparezca el prompt ipdb> ejecuta:\\n# up <enter>\\n# up <enter\\n# down <enter>\\n# quit <enter>\",\n",
       "  \"get_ipython().run_line_magic('xmode', 'Plain')\\nget_ipython().run_line_magic('pdb', 'on')\\ncomputo(3, 3)\\n# Cuando aparezca el prompt ipdb> ejecuta:\\n# (a - b) <enter>\\n# quit <enter>\",\n",
       "  'locals()'],\n",
       " 'Out': {},\n",
       " 'get_ipython': <bound method InteractiveShell.get_ipython of <ipykernel.zmqshell.ZMQInteractiveShell object at 0x00000246AD6E5D20>>,\n",
       " 'exit': <IPython.core.autocall.ZMQExitAutocall at 0x246ad6e7a90>,\n",
       " 'quit': <IPython.core.autocall.ZMQExitAutocall at 0x246ad6e7a90>,\n",
       " '_': '',\n",
       " '__': '',\n",
       " '___': '',\n",
       " '_i': '%xmode Plain\\n%pdb on\\ncomputo(3, 3)\\n# Cuando aparezca el prompt ipdb> ejecuta:\\n# (a - b) <enter>\\n# quit <enter>',\n",
       " '_ii': '%debug\\n# Cuando aparezca el prompt ipdb> ejecuta:\\n# up <enter>\\n# up <enter\\n# down <enter>\\n# quit <enter>',\n",
       " '_iii': '%debug\\n# Cuando aparezca el prompt ipdb> ejecuta:\\n# print(a) <enter>\\n# print(c) <enter>\\n# print(b) <enter>\\n# quit <enter>',\n",
       " '_i1': 'def computo(a, b):\\n    c = a**2  + b**2\\n    return c / (a - b)**2',\n",
       " 'computo': <function __main__.computo(a, b)>,\n",
       " '_i2': '# Generemos un error\\ncomputo(1, 1)',\n",
       " '_i3': '%xmode Plain \\n\\ncomputo(1, 1)',\n",
       " '_i4': '%xmode Context \\n\\ncomputo(1, 1)',\n",
       " '_i5': '%xmode Verbose \\n\\ncomputo(1, 1)',\n",
       " '_i6': '%debug\\n# Cuando aparezca el prompt ipdb> ejecuta:\\n# print(a) <enter>\\n# print(c) <enter>\\n# print(b) <enter>\\n# quit <enter>',\n",
       " '_i7': '%debug\\n# Cuando aparezca el prompt ipdb> ejecuta:\\n# print(a) <enter>\\n# print(c) <enter>\\n# print(b) <enter>\\n# quit <enter>',\n",
       " '_i8': '%debug\\n# Cuando aparezca el prompt ipdb> ejecuta:\\n# up <enter>\\n# up <enter\\n# down <enter>\\n# quit <enter>',\n",
       " '_i9': '%xmode Plain\\n%pdb on\\ncomputo(3, 3)\\n# Cuando aparezca el prompt ipdb> ejecuta:\\n# (a - b) <enter>\\n# quit <enter>',\n",
       " '_i10': 'locals()'}"
      ]
     },
     "execution_count": 10,
     "metadata": {},
     "output_type": "execute_result"
    }
   ],
   "source": [
    "locals()"
   ]
  },
  {
   "cell_type": "markdown",
   "metadata": {
    "id": "7ujwQEc_ETTy"
   },
   "source": [
    "### Lista de comandos de depuración (parcial)\n",
    "La siguiente tabla contiene una descripción de algunos de los más comunes y útiles:\n",
    "\n",
    "| Comando | Descripción |\n",
    "| ----------------- | ------------------------------- ------------------------------ |\n",
    "| ``l (ista)`` | Mostrar la ubicación actual en el archivo |\n",
    "| ``h (elp)`` | Mostrar una lista de comandos o buscar ayuda sobre un comando específico |\n",
    "| ``q (uit)`` | Salga del depurador y del programa |\n",
    "| ``c (ontinúa)``  | Salga del depurador, continúe en el programa |\n",
    "| ``n (ext)`` | Ir al siguiente paso del programa |\n",
    "| ``<enter>`` | Repite el comando anterior |\n",
    "| ``p (rint)`` | Imprimir variables |\n",
    "| ``s (tep)`` | Paso a una subrutina |\n",
    "| ``r (eturn)`` | Volver fuera de una subrutina |\n",
    "\n",
    "Para obtener más información, use el comando ``help``  en el depurador"
   ]
  },
  {
   "cell_type": "markdown",
   "metadata": {
    "id": "c7LGzdaGIJO0"
   },
   "source": [
    "## <font color='blue'>**Obteniendo Fechas (Dates)**</font>\n",
    "\n",
    "Vamos a mostrar cómo puede obtener la fecha y hora actual de Python:"
   ]
  },
  {
   "cell_type": "code",
   "execution_count": 11,
   "metadata": {
    "id": "w0mWAI6qIJO0"
   },
   "outputs": [],
   "source": [
    "import datetime"
   ]
  },
  {
   "cell_type": "code",
   "execution_count": 12,
   "metadata": {
    "id": "X0agMioRIJO0"
   },
   "outputs": [],
   "source": [
    "t = datetime.time(1, 15, 5)"
   ]
  },
  {
   "cell_type": "code",
   "execution_count": 13,
   "metadata": {
    "colab": {
     "base_uri": "https://localhost:8080/"
    },
    "executionInfo": {
     "elapsed": 7,
     "status": "ok",
     "timestamp": 1637625798245,
     "user": {
      "displayName": "Nicolas Enrique Bastias Tejos",
      "photoUrl": "https://lh3.googleusercontent.com/a/default-user=s64",
      "userId": "05876033824720005772"
     },
     "user_tz": 180
    },
    "id": "A60dYv9vIJO0",
    "outputId": "50f90b67-e637-4b6d-d71f-d4b699d80e84"
   },
   "outputs": [
    {
     "data": {
      "text/plain": [
       "1"
      ]
     },
     "execution_count": 13,
     "metadata": {},
     "output_type": "execute_result"
    }
   ],
   "source": [
    "t.hour"
   ]
  },
  {
   "cell_type": "code",
   "execution_count": 14,
   "metadata": {
    "colab": {
     "base_uri": "https://localhost:8080/"
    },
    "executionInfo": {
     "elapsed": 260,
     "status": "ok",
     "timestamp": 1637625800229,
     "user": {
      "displayName": "Nicolas Enrique Bastias Tejos",
      "photoUrl": "https://lh3.googleusercontent.com/a/default-user=s64",
      "userId": "05876033824720005772"
     },
     "user_tz": 180
    },
    "id": "xXInneMQIJO0",
    "outputId": "537e0e31-1e61-4961-b52c-baf69571b17a"
   },
   "outputs": [
    {
     "data": {
      "text/plain": [
       "15"
      ]
     },
     "execution_count": 14,
     "metadata": {},
     "output_type": "execute_result"
    }
   ],
   "source": [
    "t.minute"
   ]
  },
  {
   "cell_type": "code",
   "execution_count": 15,
   "metadata": {
    "colab": {
     "base_uri": "https://localhost:8080/"
    },
    "executionInfo": {
     "elapsed": 3,
     "status": "ok",
     "timestamp": 1637625802384,
     "user": {
      "displayName": "Nicolas Enrique Bastias Tejos",
      "photoUrl": "https://lh3.googleusercontent.com/a/default-user=s64",
      "userId": "05876033824720005772"
     },
     "user_tz": 180
    },
    "id": "nIW-yh70IJO0",
    "outputId": "b70eab97-f3ae-4319-d75c-95b9edcaf40e"
   },
   "outputs": [
    {
     "data": {
      "text/plain": [
       "5"
      ]
     },
     "execution_count": 15,
     "metadata": {},
     "output_type": "execute_result"
    }
   ],
   "source": [
    "t.second"
   ]
  },
  {
   "cell_type": "code",
   "execution_count": 16,
   "metadata": {
    "colab": {
     "base_uri": "https://localhost:8080/"
    },
    "executionInfo": {
     "elapsed": 234,
     "status": "ok",
     "timestamp": 1637625805979,
     "user": {
      "displayName": "Nicolas Enrique Bastias Tejos",
      "photoUrl": "https://lh3.googleusercontent.com/a/default-user=s64",
      "userId": "05876033824720005772"
     },
     "user_tz": 180
    },
    "id": "H1WrvcBHIJO0",
    "outputId": "122e05c0-24e2-46f7-ec39-d3e0f0d85caf"
   },
   "outputs": [
    {
     "data": {
      "text/plain": [
       "0"
      ]
     },
     "execution_count": 16,
     "metadata": {},
     "output_type": "execute_result"
    }
   ],
   "source": [
    "t.microsecond"
   ]
  },
  {
   "cell_type": "code",
   "execution_count": 17,
   "metadata": {
    "colab": {
     "base_uri": "https://localhost:8080/"
    },
    "executionInfo": {
     "elapsed": 212,
     "status": "ok",
     "timestamp": 1637625807986,
     "user": {
      "displayName": "Nicolas Enrique Bastias Tejos",
      "photoUrl": "https://lh3.googleusercontent.com/a/default-user=s64",
      "userId": "05876033824720005772"
     },
     "user_tz": 180
    },
    "id": "MX3nFKruIJO0",
    "outputId": "dff7e4c9-7780-4a50-8717-c4b3033ac392"
   },
   "outputs": [
    {
     "data": {
      "text/plain": [
       "datetime.date(2022, 6, 30)"
      ]
     },
     "execution_count": 17,
     "metadata": {},
     "output_type": "execute_result"
    }
   ],
   "source": [
    "# Obtener la fecha de hoy\n",
    "\n",
    "datetime.date.today()"
   ]
  },
  {
   "cell_type": "code",
   "execution_count": 18,
   "metadata": {
    "colab": {
     "base_uri": "https://localhost:8080/"
    },
    "executionInfo": {
     "elapsed": 243,
     "status": "ok",
     "timestamp": 1637625832018,
     "user": {
      "displayName": "Nicolas Enrique Bastias Tejos",
      "photoUrl": "https://lh3.googleusercontent.com/a/default-user=s64",
      "userId": "05876033824720005772"
     },
     "user_tz": 180
    },
    "id": "fXAZGf_WIJO0",
    "outputId": "dbeeb05f-f141-4196-c197-461737194f80"
   },
   "outputs": [
    {
     "data": {
      "text/plain": [
       "datetime.datetime(2022, 6, 30, 11, 52, 28, 145676)"
      ]
     },
     "execution_count": 18,
     "metadata": {},
     "output_type": "execute_result"
    }
   ],
   "source": [
    "# Obtener la hora actual\n",
    "\n",
    "datetime.datetime.now()"
   ]
  },
  {
   "cell_type": "code",
   "execution_count": 19,
   "metadata": {
    "colab": {
     "base_uri": "https://localhost:8080/"
    },
    "executionInfo": {
     "elapsed": 249,
     "status": "ok",
     "timestamp": 1637625930053,
     "user": {
      "displayName": "Nicolas Enrique Bastias Tejos",
      "photoUrl": "https://lh3.googleusercontent.com/a/default-user=s64",
      "userId": "05876033824720005772"
     },
     "user_tz": 180
    },
    "id": "BW0O5FnrHIp2",
    "outputId": "e0c73320-47ac-4c5c-9f71-883548dfe050"
   },
   "outputs": [
    {
     "name": "stdout",
     "output_type": "stream",
     "text": [
      "Variable   Type        Data/Info\n",
      "--------------------------------\n",
      "computo    function    <function computo at 0x00000246AD722050>\n",
      "datetime   module      <module 'datetime' from '<...>s\\\\ml\\\\lib\\\\datetime.py'>\n",
      "t          time        01:15:05\n"
     ]
    }
   ],
   "source": [
    "%whos"
   ]
  },
  {
   "cell_type": "markdown",
   "metadata": {
    "id": "rKZ0r3b5IJO0"
   },
   "source": [
    "## <font color='blue'>**Profiling: Midiendo los tiempos de ejecución de nuestro código**</font>\n",
    "\n",
    "A veces es necesario medir los tiempos de ejecución de nuestro código. Esto se hace necesario porque, en muchas ocasiones un determinado problema puede tener multiples formas de resolverse, y no toda ellas son eficientes.\n",
    "\n",
    "Una vez que tengas tu código funcionando, puede ser útil profundizar un poco en su eficiencia. \n",
    "\n",
    "Si estamos trabajando con Python fuera de Jupyter o Colab, importaremos la librería **time**."
   ]
  },
  {
   "cell_type": "code",
   "execution_count": 20,
   "metadata": {
    "id": "RYbkOBbSIJO0"
   },
   "outputs": [],
   "source": [
    "import time\n",
    "\n",
    "# Guardamos el tiempo inicial en una variable llamada t0\n",
    "\n",
    "t0 = time.time() # Llamamos a la función time() que está en la librería time\n",
    "\n",
    "# Ejecutamos una operación que consuma algo de tiempo\n",
    "result = [x**2 for x in range(1000000)]\n",
    "time.sleep(1)\n",
    "\n",
    "t1 = time.time() # Medimos el timpo final"
   ]
  },
  {
   "cell_type": "code",
   "execution_count": 21,
   "metadata": {
    "colab": {
     "base_uri": "https://localhost:8080/"
    },
    "executionInfo": {
     "elapsed": 275,
     "status": "ok",
     "timestamp": 1638326081420,
     "user": {
      "displayName": "Nicolas Enrique Bastias Tejos",
      "photoUrl": "https://lh3.googleusercontent.com/a/default-user=s64",
      "userId": "05876033824720005772"
     },
     "user_tz": 180
    },
    "id": "1_bI2X4NIJO1",
    "outputId": "99ead937-5bc7-4de8-c136-d9a044d73ff8"
   },
   "outputs": [
    {
     "name": "stdout",
     "output_type": "stream",
     "text": [
      "TIempo de ejecición =  1.267 s\n"
     ]
    }
   ],
   "source": [
    "# La diferencia estará en segundos\n",
    "\n",
    "print(f'TIempo de ejecición = {t1 - t0: 2.3f} s')"
   ]
  },
  {
   "cell_type": "markdown",
   "metadata": {
    "id": "lNtruJWFIJO1"
   },
   "source": [
    "### Uso de los *magic commands* de Jupyter\n",
    "\n",
    "Por otro lado, si estás trabajando en un entorno Jypyter o Colab, utilizaremos los ***magic commands*** que disponibilizan.\n",
    "\n",
    "IPython proporciona acceso a una amplia gama de funciones para medir los tiempos de ejecucuón y profiling de tu código. Aquí discutiremos los siguientes comandos mágicos de IPython:\n",
    "\n",
    "```python\n",
    "%time    # tiempo de ejecución de una sola declaración\n",
    "%timeit  # tiempo de ejecución repetida de una sola declaración para mayor precisión\n",
    "%prun    # ejecutar código con el generador de perfiles\n",
    "%lprun   # ejecuta código con el generador de perfiles línea por línea\n",
    "%memit   # mide el uso de memoria de una sola declaración\n",
    "%mprun   # ejecutar código con el perfilador de memoria línea por línea\n",
    "```\n",
    "Los últimos tres comandos no están incluidos con IPython; necesitará obtener las extensiones line_profiler y memory_profiler, que discutiremos en las siguientes secciones.\n",
    "\n",
    "**%time** mide el tiempo de ejecución de una instruccion<br>\n",
    "**%timeit** es mucho más preciso ya que repite las medición muchas veces para eliminar la influencia de otras tareas de tu computador que pudieran está ejecutándose en paralelo-"
   ]
  },
  {
   "cell_type": "code",
   "execution_count": 22,
   "metadata": {
    "colab": {
     "base_uri": "https://localhost:8080/"
    },
    "executionInfo": {
     "elapsed": 3638,
     "status": "ok",
     "timestamp": 1637626234602,
     "user": {
      "displayName": "Nicolas Enrique Bastias Tejos",
      "photoUrl": "https://lh3.googleusercontent.com/a/default-user=s64",
      "userId": "05876033824720005772"
     },
     "user_tz": 180
    },
    "id": "sAozdsuQIJO1",
    "outputId": "40fa8547-9831-4c98-e3b6-733aed2e1e76"
   },
   "outputs": [
    {
     "name": "stdout",
     "output_type": "stream",
     "text": [
      "CPU times: total: 2.77 s\n",
      "Wall time: 2.76 s\n"
     ]
    },
    {
     "data": {
      "text/plain": [
       "333333283333335000000"
      ]
     },
     "execution_count": 22,
     "metadata": {},
     "output_type": "execute_result"
    }
   ],
   "source": [
    "# '%time' medirá el tiempo de la instrucción solamente\n",
    "\n",
    "%time result = [x**2 for x in range(10000000)]\n",
    "\n",
    "sum(result)"
   ]
  },
  {
   "cell_type": "code",
   "execution_count": 23,
   "metadata": {
    "colab": {
     "base_uri": "https://localhost:8080/"
    },
    "executionInfo": {
     "elapsed": 3686,
     "status": "ok",
     "timestamp": 1637626302140,
     "user": {
      "displayName": "Nicolas Enrique Bastias Tejos",
      "photoUrl": "https://lh3.googleusercontent.com/a/default-user=s64",
      "userId": "05876033824720005772"
     },
     "user_tz": 180
    },
    "id": "5nwMSqPfIJO1",
    "outputId": "6f39b394-1372-4caf-9d13-cab5428ddbee"
   },
   "outputs": [
    {
     "name": "stdout",
     "output_type": "stream",
     "text": [
      "CPU times: total: 219 ms\n",
      "Wall time: 225 ms\n"
     ]
    },
    {
     "data": {
      "text/plain": [
       "333333283333335000000"
      ]
     },
     "execution_count": 23,
     "metadata": {},
     "output_type": "execute_result"
    }
   ],
   "source": [
    "# '%time' medirá el tiempo de la instrucción solamente\n",
    "\n",
    "result = [x**2 for x in range(10000000)]\n",
    "\n",
    "%time sum(result)"
   ]
  },
  {
   "cell_type": "code",
   "execution_count": 24,
   "metadata": {
    "colab": {
     "base_uri": "https://localhost:8080/"
    },
    "executionInfo": {
     "elapsed": 19011,
     "status": "ok",
     "timestamp": 1637626343055,
     "user": {
      "displayName": "Nicolas Enrique Bastias Tejos",
      "photoUrl": "https://lh3.googleusercontent.com/a/default-user=s64",
      "userId": "05876033824720005772"
     },
     "user_tz": 180
    },
    "id": "m4bM9bPmIJO1",
    "outputId": "270653fe-d1dc-4fc1-e342-4d5c6ead5e6f"
   },
   "outputs": [
    {
     "name": "stdout",
     "output_type": "stream",
     "text": [
      "2.59 s ± 14.7 ms per loop (mean ± std. dev. of 7 runs, 1 loop each)\n"
     ]
    },
    {
     "data": {
      "text/plain": [
       "333333283333335000000"
      ]
     },
     "execution_count": 24,
     "metadata": {},
     "output_type": "execute_result"
    }
   ],
   "source": [
    "# '%timeit' medirá el tiempo de ejeción PROMEDIO de la instrucción solamente, \n",
    "# la ejecutará varias veces\n",
    "\n",
    "%timeit result = [x**2 for x in range(10000000)]\n",
    "\n",
    "sum(result)"
   ]
  },
  {
   "cell_type": "code",
   "execution_count": 25,
   "metadata": {
    "colab": {
     "base_uri": "https://localhost:8080/"
    },
    "executionInfo": {
     "elapsed": 4867,
     "status": "ok",
     "timestamp": 1637626368598,
     "user": {
      "displayName": "Nicolas Enrique Bastias Tejos",
      "photoUrl": "https://lh3.googleusercontent.com/a/default-user=s64",
      "userId": "05876033824720005772"
     },
     "user_tz": 180
    },
    "id": "2Fl4f5coIJO1",
    "outputId": "4d074727-d18d-4c37-d76e-768a7a421133"
   },
   "outputs": [
    {
     "name": "stdout",
     "output_type": "stream",
     "text": [
      "234 ms ± 7.35 ms per loop (mean ± std. dev. of 7 runs, 1 loop each)\n"
     ]
    }
   ],
   "source": [
    "# '%timeit' medirá el tiempo de ejeción PROMEDIO de la instrucción solamente, \n",
    "# la ejecutará varias veces\n",
    "\n",
    "result = [x**2 for x in range(10000000)]\n",
    "\n",
    "%timeit sum(result)"
   ]
  },
  {
   "cell_type": "markdown",
   "metadata": {
    "id": "tTn3e7JFETT3"
   },
   "source": [
    "Para ``%time`` y ``%timeit``, el uso de ``%%`` (doble signo de porcentaje) permite la medición de una celda completa. DEBE IR AL COMIENZO de la celda."
   ]
  },
  {
   "cell_type": "code",
   "execution_count": 26,
   "metadata": {
    "colab": {
     "base_uri": "https://localhost:8080/"
    },
    "executionInfo": {
     "elapsed": 3616,
     "status": "ok",
     "timestamp": 1637626383268,
     "user": {
      "displayName": "Nicolas Enrique Bastias Tejos",
      "photoUrl": "https://lh3.googleusercontent.com/a/default-user=s64",
      "userId": "05876033824720005772"
     },
     "user_tz": 180
    },
    "id": "QciuVPRpIJO1",
    "outputId": "a2ad91a4-dd61-4b87-923c-672d2ac03d0f"
   },
   "outputs": [
    {
     "name": "stdout",
     "output_type": "stream",
     "text": [
      "CPU times: total: 2.92 s\n",
      "Wall time: 2.92 s\n"
     ]
    },
    {
     "data": {
      "text/plain": [
       "333333283333335000000"
      ]
     },
     "execution_count": 26,
     "metadata": {},
     "output_type": "execute_result"
    }
   ],
   "source": [
    "%%time \n",
    "# '%%time' con dos '%%' medirá el tiempo de ejeción de la celda completa \n",
    "# IMPORTANTE: debe ir al inicio del todo\n",
    "\n",
    "result = [x**2 for x in range(10000000)]\n",
    "\n",
    "sum(result)"
   ]
  },
  {
   "cell_type": "code",
   "execution_count": 27,
   "metadata": {
    "colab": {
     "base_uri": "https://localhost:8080/"
    },
    "executionInfo": {
     "elapsed": 2025,
     "status": "ok",
     "timestamp": 1637626391010,
     "user": {
      "displayName": "Nicolas Enrique Bastias Tejos",
      "photoUrl": "https://lh3.googleusercontent.com/a/default-user=s64",
      "userId": "05876033824720005772"
     },
     "user_tz": 180
    },
    "id": "2tOSgW9GIJO1",
    "outputId": "5bb8b42e-10b0-4a21-a70c-d02f4c604927"
   },
   "outputs": [
    {
     "name": "stdout",
     "output_type": "stream",
     "text": [
      "2.55 ms ± 9.49 µs per loop (mean ± std. dev. of 7 runs, 100 loops each)\n"
     ]
    }
   ],
   "source": [
    "%%timeit \n",
    "# '%%timeit' con dos '%%' medirá el tiempo de ejeción PROMEDIO de la celda completa \n",
    "# IMPORTANTE: debe ir al inicio del todo\n",
    "\n",
    "result = [x**2 for x in range(10000)]\n",
    "\n",
    "sum(result)"
   ]
  },
  {
   "cell_type": "code",
   "execution_count": 28,
   "metadata": {
    "executionInfo": {
     "elapsed": 9,
     "status": "ok",
     "timestamp": 1638415275596,
     "user": {
      "displayName": "Nicolas Enrique Bastias Tejos",
      "photoUrl": "https://lh3.googleusercontent.com/a/default-user=s64",
      "userId": "05876033824720005772"
     },
     "user_tz": 180
    },
    "id": "wV_aqzy8ETT3"
   },
   "outputs": [],
   "source": [
    "def sum_of_lists(N):\n",
    "    total = 0\n",
    "    for i in range(5):\n",
    "        L = [j or (j >> i) for j in range(N)]\n",
    "        total += sum(L)\n",
    "    return total"
   ]
  },
  {
   "cell_type": "code",
   "execution_count": 29,
   "metadata": {
    "colab": {
     "base_uri": "https://localhost:8080/"
    },
    "executionInfo": {
     "elapsed": 680,
     "status": "ok",
     "timestamp": 1638415278029,
     "user": {
      "displayName": "Nicolas Enrique Bastias Tejos",
      "photoUrl": "https://lh3.googleusercontent.com/a/default-user=s64",
      "userId": "05876033824720005772"
     },
     "user_tz": 180
    },
    "id": "YZlle46kETT4",
    "outputId": "0cea7538-4398-4c63-b94e-18d88256294f"
   },
   "outputs": [
    {
     "name": "stdout",
     "output_type": "stream",
     "text": [
      " "
     ]
    }
   ],
   "source": [
    "%prun sum_of_lists(1000000)"
   ]
  },
  {
   "cell_type": "markdown",
   "metadata": {
    "id": "p-S6rsF3ETT4"
   },
   "source": [
    "El resultado es una tabla que indica, en orden de tiempo total en cada llamada de función, dónde la ejecución está pasando la mayor parte del tiempo. En este caso, la mayor parte del tiempo de ejecución está en la comprensión de la lista (<listcomp>) dentro de la función sum_of_lists. A partir de aquí, podríamos empezar a pensar en los cambios que podríamos hacer para mejorar el rendimiento en el algoritmo."
   ]
  },
  {
   "cell_type": "code",
   "execution_count": 30,
   "metadata": {
    "colab": {
     "base_uri": "https://localhost:8080/"
    },
    "executionInfo": {
     "elapsed": 613,
     "status": "ok",
     "timestamp": 1637626472027,
     "user": {
      "displayName": "Nicolas Enrique Bastias Tejos",
      "photoUrl": "https://lh3.googleusercontent.com/a/default-user=s64",
      "userId": "05876033824720005772"
     },
     "user_tz": 180
    },
    "id": "7ficcCKOETT4",
    "outputId": "9a6d12e4-255e-4492-dac8-bd9888bb3165"
   },
   "outputs": [
    {
     "name": "stdout",
     "output_type": "stream",
     "text": [
      " "
     ]
    }
   ],
   "source": [
    "%prun sum_of_lists(1000000)"
   ]
  },
  {
   "cell_type": "markdown",
   "metadata": {
    "id": "-yeEmP9jETT4"
   },
   "source": [
    "### Más profilers\n",
    "\n",
    "Investiga las siguientes librerías y sus aplicaciones para completar tu aprendizaje de profiling en Python:\n",
    "\n",
    "```python\n",
    "line_profiles\n",
    "memory_profiler\n",
    "```"
   ]
  }
 ],
 "metadata": {
  "anaconda-cloud": {},
  "colab": {
   "name": "FP26-Debugging.ipynb",
   "provenance": []
  },
  "kernelspec": {
   "display_name": "Python 3 (ipykernel)",
   "language": "python",
   "name": "python3"
  },
  "language_info": {
   "codemirror_mode": {
    "name": "ipython",
    "version": 3
   },
   "file_extension": ".py",
   "mimetype": "text/x-python",
   "name": "python",
   "nbconvert_exporter": "python",
   "pygments_lexer": "ipython3",
   "version": "3.10.5"
  }
 },
 "nbformat": 4,
 "nbformat_minor": 1
}
