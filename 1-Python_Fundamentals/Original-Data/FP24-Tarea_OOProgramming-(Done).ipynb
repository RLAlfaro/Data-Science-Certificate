{
 "cells": [
  {
   "cell_type": "markdown",
   "metadata": {
    "id": "m50J8KsRALeK"
   },
   "source": [
    "# **Introducción a Python**\n",
    "# FP24. Tarea OOP\n",
    "A continuación algunos ejercicios para practicar OOP"
   ]
  },
  {
   "cell_type": "markdown",
   "metadata": {
    "id": "NDhCYs7MALeN"
   },
   "source": [
    "## <font color='green'>Tarea 1: Challenging</font> \n",
    "Cree una clase Esfera que acepte un radio en la instanciación y tenga métodos de volumen y área de superficie.\n",
    "\n",
    "Tip:\n",
    "\n",
    "* Utiliza la función **round( )** para ajustar los decimales de salida "
   ]
  },
  {
   "cell_type": "code",
   "execution_count": 1,
   "metadata": {
    "id": "dpZ0hnOFALeO"
   },
   "outputs": [],
   "source": [
    "# Tu código aquí ...\n",
    "import math\n",
    "\n",
    "class Esfera():\n",
    "    \n",
    "    def __init__(self, radio=1):\n",
    "        self.radio = radio\n",
    "        \n",
    "    def __str__(self):\n",
    "        return f'La esfera es de radio {radio}'\n",
    "    \n",
    "    def volumen(self):\n",
    "        return round(4 / 3 * math.pi * math.pow(self.radio,3),2)\n",
    "        \n",
    "    def area_superficie(self):\n",
    "        return round(4 * math.pi * math.pow(self.radio,2),2)"
   ]
  },
  {
   "cell_type": "code",
   "execution_count": 2,
   "metadata": {
    "id": "QRhxp2t1ALeP"
   },
   "outputs": [],
   "source": [
    "s = Esfera(4)"
   ]
  },
  {
   "cell_type": "code",
   "execution_count": 3,
   "metadata": {
    "id": "mGDoMIVyALeP"
   },
   "outputs": [
    {
     "data": {
      "text/plain": [
       "201.06"
      ]
     },
     "execution_count": 3,
     "metadata": {},
     "output_type": "execute_result"
    }
   ],
   "source": [
    "s.area_superficie()"
   ]
  },
  {
   "cell_type": "code",
   "execution_count": 4,
   "metadata": {
    "id": "6aYLicJvALeQ"
   },
   "outputs": [
    {
     "data": {
      "text/plain": [
       "268.08"
      ]
     },
     "execution_count": 4,
     "metadata": {},
     "output_type": "execute_result"
    }
   ],
   "source": [
    "s.volumen()"
   ]
  },
  {
   "cell_type": "markdown",
   "metadata": {
    "id": "kvD7Uw5jALeQ"
   },
   "source": [
    "## <font color='green'>Tarea 2: Super Challenging</font> \n",
    "\n",
    "**Este ejercicio lo desarrollaremos en varios pasos.**\n",
    "1. Crea una clase llamada *GuessingGame*.\n",
    "2. La clase no necesita ningún argumento proporcionado por el usuario para la instanciación.\n",
    "3. En el método __init__ (el constructor), haz que la clase establezca un atributo *self.rand_choice* en un número entero aleatorio entre 0-10.\n",
    "4. Crea un método en la clase llamado *reset_random* que vuelva a generar un número aleatorio (también entre 0-10) para el atributo *self.rand_choice*\n",
    "5. Crea un método llamado *guess* (adivinar) que use la función *input( )* para aceptar un número del usuario. Este método debe imprimir una declaración que indique si la suposición del usuario fue correcta o no. \n",
    "\n",
    "Bonus track: agregua una lógica en el método *guess* que informe al usuario cuando su número está por arriba o por debajo del número a adivinar.\n",
    "\n",
    "Tip:\n",
    "* En el punto 3 use *import random*\n",
    "* Te dejamos el esqueleto de la clase"
   ]
  },
  {
   "cell_type": "code",
   "execution_count": 5,
   "metadata": {
    "id": "jEvxhw42ALeR"
   },
   "outputs": [],
   "source": [
    "# Tu código aquí ...\n",
    "\n",
    "import random\n",
    "\n",
    "class GuessingGame():\n",
    "    \n",
    "    def __init__(self):\n",
    "        self.rand_choice = random.randint(1,10)\n",
    "        self.life = 3\n",
    "        \n",
    "    def reset_random(self):\n",
    "        self.rand_choice = random.randint(1,10)\n",
    "        self.life = 3\n",
    "        \n",
    "    def guess(self):\n",
    "        if self.life == 0:\n",
    "            return f'No te quedan intentos, has perdido'\n",
    "        \n",
    "        # Ingreso de dato y validacion\n",
    "        try:\n",
    "            guess = int(input('Ingrese un numero del 1 al 10: '))\n",
    "        except:\n",
    "            print('\\n No es un numero ni un numero entero.')\n",
    "        if guess > 10 or guess < 1:\n",
    "            print('\\n No es un numero entero del 1 al 10')\n",
    "            \n",
    "        # Feedback y respuesta\n",
    "        if guess == self.rand_choice:\n",
    "            return f'Has acertado al numero correcto!!'\n",
    "        if guess < self.rand_choice:\n",
    "            print('El valor ingresado esta bajo el valor aleatorio')\n",
    "            self.life = self.life - 1\n",
    "            return f'Te quedan {self.life} vidas'\n",
    "        if guess > self.rand_choice:\n",
    "            print('El valor ingresado esta sobre el valor aleatorio')\n",
    "            self.life = self.life - 1\n",
    "            return f'Te quedan {self.life} vidas'"
   ]
  },
  {
   "cell_type": "code",
   "execution_count": 6,
   "metadata": {
    "id": "OZ8Dq7TgALeS"
   },
   "outputs": [],
   "source": [
    "g = GuessingGame()"
   ]
  },
  {
   "cell_type": "code",
   "execution_count": 7,
   "metadata": {
    "id": "PqsmnGXgALeS"
   },
   "outputs": [
    {
     "data": {
      "text/plain": [
       "10"
      ]
     },
     "execution_count": 7,
     "metadata": {},
     "output_type": "execute_result"
    }
   ],
   "source": [
    "g.rand_choice"
   ]
  },
  {
   "cell_type": "code",
   "execution_count": 24,
   "metadata": {
    "id": "niXyxoYJALeT"
   },
   "outputs": [],
   "source": [
    "g.reset_random()"
   ]
  },
  {
   "cell_type": "code",
   "execution_count": 25,
   "metadata": {
    "id": "R_zGz0PVALeT"
   },
   "outputs": [
    {
     "name": "stdout",
     "output_type": "stream",
     "text": [
      "Ingrese un numero del 1 al 10: 5\n",
      "El valor ingresado esta sobre el valor aleatorio\n"
     ]
    },
    {
     "data": {
      "text/plain": [
       "'Te quedan 2 vidas'"
      ]
     },
     "execution_count": 25,
     "metadata": {},
     "output_type": "execute_result"
    }
   ],
   "source": [
    "g.guess()"
   ]
  },
  {
   "cell_type": "code",
   "execution_count": 26,
   "metadata": {
    "id": "uj83u0prALeT"
   },
   "outputs": [
    {
     "name": "stdout",
     "output_type": "stream",
     "text": [
      "Ingrese un numero del 1 al 10: 2\n",
      "El valor ingresado esta sobre el valor aleatorio\n"
     ]
    },
    {
     "data": {
      "text/plain": [
       "'Te quedan 1 vidas'"
      ]
     },
     "execution_count": 26,
     "metadata": {},
     "output_type": "execute_result"
    }
   ],
   "source": [
    "g.guess()"
   ]
  },
  {
   "cell_type": "code",
   "execution_count": 27,
   "metadata": {},
   "outputs": [
    {
     "name": "stdout",
     "output_type": "stream",
     "text": [
      "Ingrese un numero del 1 al 10: 1\n"
     ]
    },
    {
     "data": {
      "text/plain": [
       "'Has acertado al numero correcto!!'"
      ]
     },
     "execution_count": 27,
     "metadata": {},
     "output_type": "execute_result"
    }
   ],
   "source": [
    "g.guess()"
   ]
  },
  {
   "cell_type": "markdown",
   "metadata": {
    "id": "hF0HCcY1ALeU"
   },
   "source": [
    "Buena suerte!!"
   ]
  }
 ],
 "metadata": {
  "anaconda-cloud": {},
  "colab": {
   "collapsed_sections": [],
   "name": "FP24-Tarea_OOProgramming.ipynb",
   "provenance": []
  },
  "kernelspec": {
   "display_name": "Python 3 (ipykernel)",
   "language": "python",
   "name": "python3"
  },
  "language_info": {
   "codemirror_mode": {
    "name": "ipython",
    "version": 3
   },
   "file_extension": ".py",
   "mimetype": "text/x-python",
   "name": "python",
   "nbconvert_exporter": "python",
   "pygments_lexer": "ipython3",
   "version": "3.10.5"
  }
 },
 "nbformat": 4,
 "nbformat_minor": 1
}
