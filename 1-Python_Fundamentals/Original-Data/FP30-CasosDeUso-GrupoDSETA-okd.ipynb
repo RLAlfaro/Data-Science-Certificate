{
 "cells": [
  {
   "cell_type": "markdown",
   "metadata": {
    "id": "X1sMZf9MzQVQ"
   },
   "source": [
    "# Caso de uso Grupo dseta - Modulo \"Introducción a Python\""
   ]
  },
  {
   "cell_type": "markdown",
   "metadata": {
    "id": "Pt5W1j90kHUf"
   },
   "source": [
    "#Caso #1 **Descriptor de producto**\n",
    "\n",
    "Los productos de la empresa tienen mutiples caracteristicas que pueden convinarse de variadas formas, la empresa necesita estandarizar las descripciones de los productos, para mejorar la claridad de la oferta comercial. para ello han establecido que las caracteristicas del producto formen parte del codigo y que al desglosar este, se pueda obtener los codigos de cada atributo del producto y asi obtener las descripciones de los atributos, juntarlos y obtener la descripción general del producto.\n",
    "\n",
    "codigo = N6SP457502050BBD\n",
    "Descripción = Fabrica nacional, Seis paneles, 45*750*2050 mm, Color blanco, apertura derecha.\n",
    "\n",
    "Desglose \n",
    "\n",
    "*   N     Tipo de producto (1 Caracter)\n",
    "*   6SP   Diseño del producto (3 Caracteres)\n",
    "*   45    Espesor en mm (2 Caracteres)     \n",
    "*   750   Ancho en mm (3 Caracteres)\n",
    "*   2050  Ato en mm (4 Caracteres)\n",
    "*   BB    Pintura Blanca (2 Caracteres)\n",
    "*   D     Apertura derecha (1 Caracter)\n",
    "\n",
    "Las posiciones y longitudes de los atributos son fijas\n",
    "\n",
    "*   Tipo de producto : C-Compra terceros, N-Fabricación nacional, I-Importado\n",
    "*   Diseño del producto : 6SP-\"Seis paneles\", 2BO-\"2 paneles redondos\"\n",
    "*   Espesor : de 35 A 45\n",
    "*   Ancho : de 600 a 999\n",
    "*   Alto : de 2000 a 2050\n",
    "*   Color : 00-Incoloro, BB-Blanco, FF-Cafe, RR-Rojo, ZZ-Azul\n",
    "*   Apertura : 0-Sin Apertura, D-Derecha, I-Izquierda\n",
    "\n",
    "\n",
    "crear una funcion que dado un codigo, retorne su descripción.\n",
    "\n",
    "\n",
    "\n",
    "\n",
    "\n",
    "\n",
    "\n",
    "\n"
   ]
  },
  {
   "cell_type": "code",
   "execution_count": 1,
   "metadata": {
    "id": "iCvR0vyIjhZQ"
   },
   "outputs": [],
   "source": [
    "#funcion retorna descriptor de un codigo\n",
    "def codigo_desc(codigo):\n",
    "    tipo = codigo[0]\n",
    "    diseño = codigo[1:4]\n",
    "    espesor = codigo[4:6]\n",
    "    ancho = codigo[6:9]\n",
    "    alto = codigo[9:13]\n",
    "    color = codigo[13:15]\n",
    "    apertura = codigo[15:16]\n",
    "\n",
    "    #print(f'Partes : Tipo {tipo}, diseño {diseño}, medidas {espesor}*{ancho}*{alto} mm, color {color}, apertura {apertura} ')\n",
    "\n",
    "    tipos = {'C':'compra terceros', 'N': 'fabricación nacional', 'I':'importado' }\n",
    "    diseños = {'6SP':'seis paneles', '2BO':'2 paneles redondos' }\n",
    "    colores = {'00':'incoloro', 'BB':'blanco', 'FF':'cafe', 'ZZ':'azul'}\n",
    "    aperturas = {'0':'sin apertura', 'I':'izquierda', 'D':'derecha'}\n",
    "\n",
    "    tipo_desc = tipos[tipo]\n",
    "    diseño_desc = diseños[diseño]\n",
    "    medidas_desc = espesor + '*' + ancho + '*' + alto + ' mm'\n",
    "    color_desc = colores[color]\n",
    "    apertura_desc = aperturas[apertura]\n",
    "\n",
    "    # todos los atributos deben existir en los diccionarios. \n",
    "    if tipo_desc != '' and diseño_desc != '' and medidas_desc != '' and color_desc != '' and apertura_desc != '':\n",
    "\n",
    "       # mejorar descripción del color\n",
    "       if color != '00':\n",
    "          color_desc = 'Color ' + color_desc\n",
    "    \n",
    "       #cuando la apertura es 0 no se debe mostrar\n",
    "       if apertura != '0':\n",
    "          apertura_desc = 'Apertura ' + apertura_desc\n",
    "       else:    \n",
    "          apertura_desc = ''\n",
    "\n",
    "       descripcion = tipo_desc + ', ' + diseño_desc + ', ' + medidas_desc + ', ' + color_desc + ', ' + apertura_desc\n",
    "\n",
    "    else: \n",
    "       descripcion = 'Código invalido'\n",
    "\n",
    "    return descripcion\n",
    "\n",
    "\n"
   ]
  },
  {
   "cell_type": "code",
   "execution_count": 2,
   "metadata": {
    "colab": {
     "base_uri": "https://localhost:8080/"
    },
    "executionInfo": {
     "elapsed": 3,
     "status": "ok",
     "timestamp": 1638573461009,
     "user": {
      "displayName": "Patricio Fontecilla Romero",
      "photoUrl": "https://lh3.googleusercontent.com/a/default-user=s64",
      "userId": "09386735086073567609"
     },
     "user_tz": 180
    },
    "id": "e7OrL02egQHp",
    "outputId": "5198fa99-ad09-4410-e775-830deee30955"
   },
   "outputs": [
    {
     "name": "stdout",
     "output_type": "stream",
     "text": [
      "Código : N6SP457502050BBD, Descripción : fabricación nacional, seis paneles, 45*750*2050 mm, Color blanco, Apertura derecha \n",
      "\n",
      "Código : N6SP45750205000I, Descripción : fabricación nacional, seis paneles, 45*750*2050 mm, incoloro, Apertura izquierda \n",
      "\n"
     ]
    }
   ],
   "source": [
    "#Probando la función\n",
    "codigo = 'N6SP457502050BBD'\n",
    "descripcion = codigo_desc(codigo)  \n",
    "print(f\"Código : {codigo}, Descripción : {descripcion} \\n\") \n",
    "\n",
    "codigo = 'N6SP45750205000I'\n",
    "descripcion = codigo_desc(codigo)  \n",
    "print(f\"Código : {codigo}, Descripción : {descripcion} \\n\") \n"
   ]
  },
  {
   "cell_type": "markdown",
   "metadata": {
    "id": "1f14e8a8"
   },
   "source": [
    "#Caso #2 **Extractor de informacion de contratos**\n",
    "\n",
    "Usualmente los contratos de una empresa son estandarizados segun lo que ellos estimen conveniente, en algunos casos es necesario extraer una informacion en particular, en este caso, se quizo extraer el RUT.\n",
    "\n",
    "Se utilizan paquetes como **PyPDF2** para leer los PDF y **os** para obtener la ubicacion de los contratos.\n",
    "\n",
    "Este es uno de los casos donde se podrian usar los fundamentos de Python."
   ]
  },
  {
   "cell_type": "code",
   "execution_count": 3,
   "metadata": {
    "id": "7eff0bca"
   },
   "outputs": [
    {
     "ename": "ModuleNotFoundError",
     "evalue": "No module named 'PyPDF2'",
     "output_type": "error",
     "traceback": [
      "\u001b[1;31m---------------------------------------------------------------------------\u001b[0m",
      "\u001b[1;31mModuleNotFoundError\u001b[0m                       Traceback (most recent call last)",
      "Input \u001b[1;32mIn [3]\u001b[0m, in \u001b[0;36m<cell line: 1>\u001b[1;34m()\u001b[0m\n\u001b[1;32m----> 1\u001b[0m \u001b[38;5;28;01mimport\u001b[39;00m \u001b[38;5;21;01mPyPDF2\u001b[39;00m\n\u001b[0;32m      2\u001b[0m \u001b[38;5;28;01mimport\u001b[39;00m \u001b[38;5;21;01mos\u001b[39;00m\n\u001b[0;32m      4\u001b[0m \u001b[38;5;28;01mdef\u001b[39;00m \u001b[38;5;21mextractor_RUT_contrato\u001b[39m(files, path):\n",
      "\u001b[1;31mModuleNotFoundError\u001b[0m: No module named 'PyPDF2'"
     ]
    }
   ],
   "source": [
    "import PyPDF2\n",
    "import os\n",
    "\n",
    "def extractor_RUT_contrato(files, path):\n",
    "    for file in files:\n",
    "        rut = \"skip\"\n",
    "        if file.endswith('.pdf'):\n",
    "            rut = \"skip\"\n",
    "            pdfFileObject = open(path + \"/\" + file, 'rb')\n",
    "            pdfReader = PyPDF2.PdfFileReader(\"Contratos/\" + file, strict=False,overwriteWarnings=False)\n",
    "            # print(\" No. Of Pages :\", pdfReader.numPages) # Para verificar si funciona\n",
    "            pageObject = pdfReader.getPage(0)\n",
    "            # print(pageObject.extractText()) # Para verificar si funciona\n",
    "            text = pageObject.extractText()\n",
    "            try:\n",
    "                rut = re.search(', cédulanacional de identidad número (.+?), domiciliado en ', text).group(1)\n",
    "            except:\n",
    "                pass\n",
    "            pdfFileObject.close()\n",
    "            df = df.append({'RUT_Profesor': rut, 'file_name': file}, ignore_index=True)\n",
    "        print(f'El nombre del archivo es {file} y se extrajo el RUT: {rut}')\n",
    "    return df"
   ]
  },
  {
   "cell_type": "code",
   "execution_count": 4,
   "metadata": {
    "id": "d3f8ef34"
   },
   "outputs": [
    {
     "ename": "NameError",
     "evalue": "name 'os' is not defined",
     "output_type": "error",
     "traceback": [
      "\u001b[1;31m---------------------------------------------------------------------------\u001b[0m",
      "\u001b[1;31mNameError\u001b[0m                                 Traceback (most recent call last)",
      "Input \u001b[1;32mIn [4]\u001b[0m, in \u001b[0;36m<cell line: 1>\u001b[1;34m()\u001b[0m\n\u001b[0;32m      1\u001b[0m \u001b[38;5;28;01mif\u001b[39;00m \u001b[38;5;18m__name__\u001b[39m \u001b[38;5;241m==\u001b[39m \u001b[38;5;124m'\u001b[39m\u001b[38;5;124m__main__\u001b[39m\u001b[38;5;124m'\u001b[39m:\n\u001b[1;32m----> 2\u001b[0m     mainpath \u001b[38;5;241m=\u001b[39m \u001b[43mos\u001b[49m\u001b[38;5;241m.\u001b[39mpath\u001b[38;5;241m.\u001b[39mabspath(\u001b[38;5;124m'\u001b[39m\u001b[38;5;124m'\u001b[39m)\n\u001b[0;32m      3\u001b[0m     cwd \u001b[38;5;241m=\u001b[39m os\u001b[38;5;241m.\u001b[39mpath\u001b[38;5;241m.\u001b[39mjoin(mainpath \u001b[38;5;241m+\u001b[39m \u001b[38;5;124m\"\u001b[39m\u001b[38;5;124m/\u001b[39m\u001b[38;5;124m\"\u001b[39m \u001b[38;5;241m+\u001b[39m \u001b[38;5;124m\"\u001b[39m\u001b[38;5;124mContratos\u001b[39m\u001b[38;5;124m\"\u001b[39m)\n\u001b[0;32m      4\u001b[0m     files \u001b[38;5;241m=\u001b[39m os\u001b[38;5;241m.\u001b[39mlistdir(cwd)\n",
      "\u001b[1;31mNameError\u001b[0m: name 'os' is not defined"
     ]
    }
   ],
   "source": [
    "if __name__ == '__main__':\n",
    "    mainpath = os.path.abspath('')\n",
    "    cwd = os.path.join(mainpath + \"/\" + \"Contratos\")\n",
    "    files = os.listdir(cwd)\n",
    "    continuar = input('''\n",
    "    Aprete cualquier boton para continuar:\n",
    "\n",
    "    \"x\" para salir\n",
    "    ''')\n",
    "    if continuar == \"x\":\n",
    "        exit()\n",
    "    extractor_RUT_contrato(files, path)\n",
    "    x = input('''\n",
    "    Aprete ENTER para salir\n",
    "    ''')"
   ]
  },
  {
   "cell_type": "markdown",
   "metadata": {
    "id": "n6uTZgQ3oBHX"
   },
   "source": [
    "# Caso #3 **Asignar tareas a un grupo de trabajo**\n",
    "\n",
    "Se realiza una función que asigna de forma aleatoria una cantidad de actividades de forma equitativa a un grupo de trabajo. Las actividades deben ser multiplo de los integrantes del equipo de trabajo.\n",
    "\n",
    "Este script se puede mejorar con:\n",
    "\n",
    "\n",
    "*   Distribuir tareas que no sean multiplos de la cantidad de miembros del grupo de trabajo\n",
    "*   Guardar las tareas asignadas en una matriz (numpy array)\n",
    "\n"
   ]
  },
  {
   "cell_type": "code",
   "execution_count": 5,
   "metadata": {
    "id": "1h8Q9KNlowap"
   },
   "outputs": [],
   "source": [
    "def asignar_tareas(actividades, integrantes):\n",
    "    '''\n",
    "    Función que asigna las labores y lo muestra en el display\n",
    "\n",
    "    Input:\n",
    "      actividades (int)  = Número de actividades a asignar al grupo de trabajo\n",
    "      integrantes (int)  = Número de integrantes del grupo de trabajo\n",
    "    Output:    \n",
    "      Imprimir tareas asignadas por integrantes del grupo de trabajo\n",
    "      \n",
    "    '''\n",
    "\n",
    "    from random import sample\n",
    "    print(10*'---')\n",
    "\n",
    "    list_act = list(range(0,actividades))\n",
    "\n",
    "    if actividades == 1:\n",
    "        print('Es solo una actividad asigne manualmente, o realicelo en grupo')\n",
    "    else:\n",
    "        if actividades%integrantes == 0:\n",
    "            n_act_por_col = actividades/integrantes\n",
    "            for i in range(0, integrantes):\n",
    "                idx = sample(list_act, int(n_act_por_col))\n",
    "            for j in idx:\n",
    "                # print(f'  {j}')\n",
    "                print(f'Integrante N° {i+1} debe realizar tarea N° {j+1}')\n",
    "                list_act.pop(list_act.index(j))\n",
    "            print(10*'---')\n",
    "        else:\n",
    "            print('Las actividades no se pueden distribuir equitativamente')\n"
   ]
  },
  {
   "cell_type": "code",
   "execution_count": 7,
   "metadata": {
    "colab": {
     "base_uri": "https://localhost:8080/"
    },
    "executionInfo": {
     "elapsed": 2833,
     "status": "ok",
     "timestamp": 1638544610136,
     "user": {
      "displayName": "Nicolas Enrique Bastias Tejos",
      "photoUrl": "https://lh3.googleusercontent.com/a/default-user=s64",
      "userId": "05876033824720005772"
     },
     "user_tz": 180
    },
    "id": "fh5MfCWmu4TZ",
    "outputId": "33dc66f9-6e07-45e4-d943-c43f6d732815"
   },
   "outputs": [
    {
     "name": "stdout",
     "output_type": "stream",
     "text": [
      "Ingrese el número de actividades a asignar: 4\n",
      "Ingrese el número de integrantes del grupo de trabajo: 4\n",
      "------------------------------\n",
      "Integrante N° 1 debe realizar tarea N° 3\n",
      "------------------------------\n",
      "Integrante N° 2 debe realizar tarea N° 2\n",
      "------------------------------\n",
      "Integrante N° 3 debe realizar tarea N° 1\n",
      "------------------------------\n",
      "Integrante N° 4 debe realizar tarea N° 4\n",
      "------------------------------\n"
     ]
    }
   ],
   "source": [
    "actividades = int(input('Ingrese el número de actividades a asignar: '))\n",
    "integrantes = int(input('Ingrese el número de integrantes del grupo de trabajo: '))\n",
    "\n",
    "asignar_tareas(actividades, integrantes)"
   ]
  }
 ],
 "metadata": {
  "colab": {
   "name": "FP30-CasosDeUso-GrupoDSETA-okd.ipynb",
   "provenance": []
  },
  "kernelspec": {
   "display_name": "Python 3 (ipykernel)",
   "language": "python",
   "name": "python3"
  },
  "language_info": {
   "codemirror_mode": {
    "name": "ipython",
    "version": 3
   },
   "file_extension": ".py",
   "mimetype": "text/x-python",
   "name": "python",
   "nbconvert_exporter": "python",
   "pygments_lexer": "ipython3",
   "version": "3.10.5"
  }
 },
 "nbformat": 4,
 "nbformat_minor": 1
}
