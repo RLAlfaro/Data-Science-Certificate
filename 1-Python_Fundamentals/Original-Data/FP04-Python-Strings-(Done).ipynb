{
 "cells": [
  {
   "cell_type": "markdown",
   "metadata": {
    "id": "8T1FBFH1_mBt"
   },
   "source": [
    "# **Introducción a Python**\n",
    "# FP04. Python Strings"
   ]
  },
  {
   "cell_type": "markdown",
   "metadata": {
    "id": "GC1N5XnN_mBz"
   },
   "source": [
    "Bienvenidos aspirantes a Hackers. Es hora de que aprendan sobre uno de los tipos de datos fundamentales más básicos en Python, la cadena o *string*. ¿Qué es un *string*? Formalmente, **una cadena es una secuencia ordenada de caracteres**. Aquí dos palabras clave, **ordenada** y **caracteres**. Ordenado significa que podremos usar *indexing* y *slicing* para tomar elementos de la cadena. Caracteres insinúa el hecho de que las cadenas son más flexibles que simplemente usar el alfabeto, veremos que también pueden contener otros tipos de caracteres."
   ]
  },
  {
   "cell_type": "markdown",
   "metadata": {
    "id": "V2UqUcN-_mB0",
    "tags": []
   },
   "source": [
    "## <font color='blue'>**Creando strings**</font>"
   ]
  },
  {
   "cell_type": "code",
   "execution_count": 1,
   "metadata": {
    "id": "nxUgmjDG_mB1"
   },
   "outputs": [],
   "source": [
    "# Comentarios.\n",
    "# Cada vez que necesitemos documentar algo en nuestro código, usaremos un signo # al comienzo de la línea.\n",
    "# Esta línea no se considerará al momento de ejecutar nuestro programa"
   ]
  },
  {
   "cell_type": "code",
   "execution_count": 2,
   "metadata": {
    "colab": {
     "base_uri": "https://localhost:8080/",
     "height": 35
    },
    "executionInfo": {
     "elapsed": 13,
     "status": "ok",
     "timestamp": 1637355700488,
     "user": {
      "displayName": "Maria Julliette Marin Alarcon",
      "photoUrl": "https://lh3.googleusercontent.com/a/default-user=s64",
      "userId": "14948341870893292997"
     },
     "user_tz": 240
    },
    "id": "3XScFkKY_mB2",
    "outputId": "64632515-2d63-471f-e9b5-d3a3c04ab0b8"
   },
   "outputs": [
    {
     "data": {
      "text/plain": [
       "'hello'"
      ]
     },
     "execution_count": 2,
     "metadata": {},
     "output_type": "execute_result"
    }
   ],
   "source": [
    "# Para crear strings las comillas simples o dobles están nien\n",
    "'hello'"
   ]
  },
  {
   "cell_type": "code",
   "execution_count": 3,
   "metadata": {
    "colab": {
     "base_uri": "https://localhost:8080/",
     "height": 35
    },
    "executionInfo": {
     "elapsed": 262,
     "status": "ok",
     "timestamp": 1637355706251,
     "user": {
      "displayName": "Maria Julliette Marin Alarcon",
      "photoUrl": "https://lh3.googleusercontent.com/a/default-user=s64",
      "userId": "14948341870893292997"
     },
     "user_tz": 240
    },
    "id": "o3gi-UVG_mB3",
    "outputId": "1ca5ce73-ddff-4474-b48b-fcc1c78efe02"
   },
   "outputs": [
    {
     "data": {
      "text/plain": [
       "'hello'"
      ]
     },
     "execution_count": 3,
     "metadata": {},
     "output_type": "execute_result"
    }
   ],
   "source": [
    "\"hello\""
   ]
  },
  {
   "cell_type": "code",
   "execution_count": 4,
   "metadata": {
    "colab": {
     "base_uri": "https://localhost:8080/",
     "height": 130
    },
    "executionInfo": {
     "elapsed": 371,
     "status": "error",
     "timestamp": 1637355729297,
     "user": {
      "displayName": "Maria Julliette Marin Alarcon",
      "photoUrl": "https://lh3.googleusercontent.com/a/default-user=s64",
      "userId": "14948341870893292997"
     },
     "user_tz": 240
    },
    "id": "wTXQsJaF_mB4",
    "outputId": "72e64ce3-5431-44de-b86f-e9851e2ea5de"
   },
   "outputs": [
    {
     "ename": "SyntaxError",
     "evalue": "invalid syntax (3359464946.py, line 2)",
     "output_type": "error",
     "traceback": [
      "\u001b[1;36m  Input \u001b[1;32mIn [4]\u001b[1;36m\u001b[0m\n\u001b[1;33m    'I'm not a spy!\u001b[0m\n\u001b[1;37m       ^\u001b[0m\n\u001b[1;31mSyntaxError\u001b[0m\u001b[1;31m:\u001b[0m invalid syntax\n"
     ]
    }
   ],
   "source": [
    "# Ten en mente potenciales errores con los apóstrofes\n",
    "'I'm not a spy!  #Si, este es un error"
   ]
  },
  {
   "cell_type": "code",
   "execution_count": 5,
   "metadata": {
    "colab": {
     "base_uri": "https://localhost:8080/",
     "height": 35
    },
    "executionInfo": {
     "elapsed": 239,
     "status": "ok",
     "timestamp": 1637355737279,
     "user": {
      "displayName": "Maria Julliette Marin Alarcon",
      "photoUrl": "https://lh3.googleusercontent.com/a/default-user=s64",
      "userId": "14948341870893292997"
     },
     "user_tz": 240
    },
    "id": "slEptTDt_mB5",
    "outputId": "5afc0418-0f42-47ef-ac0e-a6f1b792e8c0"
   },
   "outputs": [
    {
     "data": {
      "text/plain": [
       "\" I'm not a spy! \""
      ]
     },
     "execution_count": 5,
     "metadata": {},
     "output_type": "execute_result"
    }
   ],
   "source": [
    "# Usa otro conjunto de comillas distintas para ello\n",
    "\" I'm not a spy! \""
   ]
  },
  {
   "cell_type": "markdown",
   "metadata": {
    "id": "nWIM30PO_mB6"
   },
   "source": [
    "## Impresión básica de Strings\n",
    "\n",
    "En el cuaderno jupyter, una sola cadena en una celda se devuelve automáticamente. Sin embargo, esto es diferente a imprimir una cadena. Imprimir una cadena nos permite tener múltiples salidas. Veamos algunos ejemplos útiles:"
   ]
  },
  {
   "cell_type": "code",
   "execution_count": 6,
   "metadata": {
    "colab": {
     "base_uri": "https://localhost:8080/",
     "height": 35
    },
    "executionInfo": {
     "elapsed": 237,
     "status": "ok",
     "timestamp": 1637355742749,
     "user": {
      "displayName": "Maria Julliette Marin Alarcon",
      "photoUrl": "https://lh3.googleusercontent.com/a/default-user=s64",
      "userId": "14948341870893292997"
     },
     "user_tz": 240
    },
    "id": "CYfNrbSi_mB7",
    "outputId": "736f1585-4d90-4a24-ea81-1c7808da8694"
   },
   "outputs": [
    {
     "data": {
      "text/plain": [
       "'two'"
      ]
     },
     "execution_count": 6,
     "metadata": {},
     "output_type": "execute_result"
    }
   ],
   "source": [
    "'one'\n",
    "'two'"
   ]
  },
  {
   "cell_type": "code",
   "execution_count": 7,
   "metadata": {
    "colab": {
     "base_uri": "https://localhost:8080/"
    },
    "executionInfo": {
     "elapsed": 234,
     "status": "ok",
     "timestamp": 1637355780386,
     "user": {
      "displayName": "Maria Julliette Marin Alarcon",
      "photoUrl": "https://lh3.googleusercontent.com/a/default-user=s64",
      "userId": "14948341870893292997"
     },
     "user_tz": 240
    },
    "id": "7IRryYxK_mB7",
    "outputId": "2b941975-d6f7-42ba-e04d-0b27859714e4"
   },
   "outputs": [
    {
     "name": "stdout",
     "output_type": "stream",
     "text": [
      "one\n",
      "two\n"
     ]
    }
   ],
   "source": [
    "print('one')\n",
    "print('two')"
   ]
  },
  {
   "cell_type": "code",
   "execution_count": 8,
   "metadata": {
    "colab": {
     "base_uri": "https://localhost:8080/"
    },
    "executionInfo": {
     "elapsed": 257,
     "status": "ok",
     "timestamp": 1637355783754,
     "user": {
      "displayName": "Maria Julliette Marin Alarcon",
      "photoUrl": "https://lh3.googleusercontent.com/a/default-user=s64",
      "userId": "14948341870893292997"
     },
     "user_tz": 240
    },
    "id": "axA3XSha_mB8",
    "outputId": "0d0608cb-82ee-4a93-c972-028eaea72094"
   },
   "outputs": [
    {
     "name": "stdout",
     "output_type": "stream",
     "text": [
      "1. Special Codes\n",
      "2. Esto es una nueva línea \n",
      " nota como se imprime\n",
      "3. Esto es un tabulador (tab) \t nota como se imprime\n",
      "4. Observa cómo ambos siguen el caracter de escape general de la barra invertida. \n"
     ]
    }
   ],
   "source": [
    "print(\"1. Special Codes\")\n",
    "print('2. Esto es una nueva línea \\n nota como se imprime')\n",
    "print('3. Esto es un tabulador (tab) \\t nota como se imprime')\n",
    "print(\"4. Observa cómo ambos siguen el caracter de escape general de la barra invertida. \")"
   ]
  },
  {
   "cell_type": "markdown",
   "metadata": {
    "id": "KEBW07UN_mB8"
   },
   "source": [
    "## <font color='green'>Actividad 1:</font> \n",
    "### Imprime un string \"Hello\" usando dos tabs al comienzo"
   ]
  },
  {
   "cell_type": "code",
   "execution_count": 9,
   "metadata": {
    "colab": {
     "base_uri": "https://localhost:8080/"
    },
    "executionInfo": {
     "elapsed": 45,
     "status": "ok",
     "timestamp": 1638489631110,
     "user": {
      "displayName": "Maria Julliette Marin Alarcon",
      "photoUrl": "https://lh3.googleusercontent.com/a/default-user=s64",
      "userId": "14948341870893292997"
     },
     "user_tz": 240
    },
    "id": "dEDRMof1_mB9",
    "outputId": "6f578601-3446-47e7-9993-0a4eff464ac8"
   },
   "outputs": [
    {
     "name": "stdout",
     "output_type": "stream",
     "text": [
      "\t\tHello\n"
     ]
    }
   ],
   "source": [
    "# Tu código aquí ...\n",
    "# Impresión de string 'Hello' con dos tab al comienzo\n",
    "print('\\t\\tHello')"
   ]
  },
  {
   "cell_type": "markdown",
   "metadata": {
    "id": "fnnQo7DS_mB9"
   },
   "source": [
    "<font color='green'>Fin actividad 1:</font> "
   ]
  },
  {
   "cell_type": "markdown",
   "metadata": {
    "id": "_cmjMjjN_mB9"
   },
   "source": [
    "## <font color='blue'>**Indexing y Slicing sobre strings**</font>\n",
    "\n",
    "NOTA: Intensionalmente no traduciremos conceptos en inglés para habituarnos en su uso y hacer más facil la comprensión de otros documentos a los que accedamos.\n",
    "\n",
    "Recuerde que las cadenas son *secuencias ordenadas* de caracteres. Esto significa que podemos seleccionar caracteres individuales (indexing) o tomar subsecciones de la cadena (slicing)."
   ]
  },
  {
   "cell_type": "markdown",
   "metadata": {
    "id": "wUtw6pjm_mB-"
   },
   "source": [
    "### Indexing\n",
    "\n",
    "Indexing comienza a contar desde 0, de esta forma el string **hello**:\n",
    "\n",
    "    character:    h    e    l   l   o\n",
    "    index:        0    1    2   3   4\n",
    "    \n",
    "Puedes usar corchetes cuadrados para seleccionar un caracter"
   ]
  },
  {
   "cell_type": "code",
   "execution_count": 10,
   "metadata": {
    "id": "eCYn5hXV_mB-"
   },
   "outputs": [],
   "source": [
    "word = \"hello\""
   ]
  },
  {
   "cell_type": "code",
   "execution_count": 11,
   "metadata": {
    "colab": {
     "base_uri": "https://localhost:8080/",
     "height": 35
    },
    "executionInfo": {
     "elapsed": 232,
     "status": "ok",
     "timestamp": 1637356068636,
     "user": {
      "displayName": "Maria Julliette Marin Alarcon",
      "photoUrl": "https://lh3.googleusercontent.com/a/default-user=s64",
      "userId": "14948341870893292997"
     },
     "user_tz": 240
    },
    "id": "5cb1DxtN_mB_",
    "outputId": "2788aa28-f5e2-48a7-a7d0-6ce3965cea39"
   },
   "outputs": [
    {
     "data": {
      "text/plain": [
       "'h'"
      ]
     },
     "execution_count": 11,
     "metadata": {},
     "output_type": "execute_result"
    }
   ],
   "source": [
    "word[0]"
   ]
  },
  {
   "cell_type": "code",
   "execution_count": 12,
   "metadata": {
    "colab": {
     "base_uri": "https://localhost:8080/",
     "height": 35
    },
    "executionInfo": {
     "elapsed": 238,
     "status": "ok",
     "timestamp": 1637356126997,
     "user": {
      "displayName": "Maria Julliette Marin Alarcon",
      "photoUrl": "https://lh3.googleusercontent.com/a/default-user=s64",
      "userId": "14948341870893292997"
     },
     "user_tz": 240
    },
    "id": "UNlx1yRw_mB_",
    "outputId": "2dc4501f-0cf6-42e8-dc82-d3084ac95b4f"
   },
   "outputs": [
    {
     "data": {
      "text/plain": [
       "'l'"
      ]
     },
     "execution_count": 12,
     "metadata": {},
     "output_type": "execute_result"
    }
   ],
   "source": [
    "word[3]"
   ]
  },
  {
   "cell_type": "markdown",
   "metadata": {
    "id": "Nn5tJSln_mB_"
   },
   "source": [
    "Python soporta indexación reversa (reverse indexing):\n",
    "\n",
    "    character:        h     e     l    l    o\n",
    "    index:            0     1     2    3    4\n",
    "    reverse index:    0    -4    -3   -2   -1  \n",
    "    \n",
    "Reverse indexing es usado comúnmente para selecccionar caractares desde el final de una secuencia:"
   ]
  },
  {
   "cell_type": "code",
   "execution_count": 13,
   "metadata": {
    "colab": {
     "base_uri": "https://localhost:8080/",
     "height": 35
    },
    "executionInfo": {
     "elapsed": 361,
     "status": "ok",
     "timestamp": 1637356159197,
     "user": {
      "displayName": "Maria Julliette Marin Alarcon",
      "photoUrl": "https://lh3.googleusercontent.com/a/default-user=s64",
      "userId": "14948341870893292997"
     },
     "user_tz": 240
    },
    "id": "cJzfMBJ7_mCA",
    "outputId": "384e989e-499e-47df-bd49-c0db01114b4b"
   },
   "outputs": [
    {
     "data": {
      "text/plain": [
       "'o'"
      ]
     },
     "execution_count": 13,
     "metadata": {},
     "output_type": "execute_result"
    }
   ],
   "source": [
    "word[-1]"
   ]
  },
  {
   "cell_type": "markdown",
   "metadata": {
    "id": "jVMKzMjV_mCA"
   },
   "source": [
    "## Slicing\n",
    "\n",
    "Podemos tomar subsecciones completas de una cadena con notación *slice*.\n",
    "\n",
    "Esta es la notación:\n",
    "\n",
    "     [inicio: parada: paso]\n",
    "\n",
    "Aspectos clave a tener en cuenta:\n",
    "\n",
    "1. La dirección del índice de inicio corresponde a donde comenzará su segmento.\n",
    "2. El índice de parada corresponde a donde subirá el corte. ** ¡No incluye este carácter de índice! **\n",
    "3. El tamaño del paso es la cantidad de caracteres que omite a medida que avanza y toma el siguiente.\n",
    "\n",
    "Veamos algunos ejemplos"
   ]
  },
  {
   "cell_type": "code",
   "execution_count": 14,
   "metadata": {
    "id": "ji8dKMgN_mCB"
   },
   "outputs": [],
   "source": [
    "alpha = 'abcdef'"
   ]
  },
  {
   "cell_type": "code",
   "execution_count": 15,
   "metadata": {
    "colab": {
     "base_uri": "https://localhost:8080/",
     "height": 35
    },
    "executionInfo": {
     "elapsed": 255,
     "status": "ok",
     "timestamp": 1637356245145,
     "user": {
      "displayName": "Maria Julliette Marin Alarcon",
      "photoUrl": "https://lh3.googleusercontent.com/a/default-user=s64",
      "userId": "14948341870893292997"
     },
     "user_tz": 240
    },
    "id": "xJxZWt55_mCB",
    "outputId": "2ac1058d-5102-45b9-d526-1ad57d46b1ff"
   },
   "outputs": [
    {
     "data": {
      "text/plain": [
       "'abc'"
      ]
     },
     "execution_count": 15,
     "metadata": {},
     "output_type": "execute_result"
    }
   ],
   "source": [
    "# Observa como la \"d\" no es incluida!\n",
    "alpha[0:3]"
   ]
  },
  {
   "cell_type": "code",
   "execution_count": 16,
   "metadata": {
    "colab": {
     "base_uri": "https://localhost:8080/",
     "height": 35
    },
    "executionInfo": {
     "elapsed": 283,
     "status": "ok",
     "timestamp": 1637356247977,
     "user": {
      "displayName": "Maria Julliette Marin Alarcon",
      "photoUrl": "https://lh3.googleusercontent.com/a/default-user=s64",
      "userId": "14948341870893292997"
     },
     "user_tz": 240
    },
    "id": "8GB3kpWp_mCB",
    "outputId": "febb5d03-1207-4e1d-d240-5d592a63ffdb"
   },
   "outputs": [
    {
     "data": {
      "text/plain": [
       "'abcd'"
      ]
     },
     "execution_count": 16,
     "metadata": {},
     "output_type": "execute_result"
    }
   ],
   "source": [
    "alpha[0:4]"
   ]
  },
  {
   "cell_type": "code",
   "execution_count": 17,
   "metadata": {
    "colab": {
     "base_uri": "https://localhost:8080/",
     "height": 35
    },
    "executionInfo": {
     "elapsed": 246,
     "status": "ok",
     "timestamp": 1637356252655,
     "user": {
      "displayName": "Maria Julliette Marin Alarcon",
      "photoUrl": "https://lh3.googleusercontent.com/a/default-user=s64",
      "userId": "14948341870893292997"
     },
     "user_tz": 240
    },
    "id": "0Tr4AJP9_mCB",
    "outputId": "99aef9af-fa38-4f63-f753-0499d880f3d1"
   },
   "outputs": [
    {
     "data": {
      "text/plain": [
       "'cd'"
      ]
     },
     "execution_count": 17,
     "metadata": {},
     "output_type": "execute_result"
    }
   ],
   "source": [
    "# Desde la pocisión 2 hasta la 4; esta última no incluída\n",
    "alpha[2:4]"
   ]
  },
  {
   "cell_type": "code",
   "execution_count": 18,
   "metadata": {
    "colab": {
     "base_uri": "https://localhost:8080/",
     "height": 35
    },
    "executionInfo": {
     "elapsed": 239,
     "status": "ok",
     "timestamp": 1637356256433,
     "user": {
      "displayName": "Maria Julliette Marin Alarcon",
      "photoUrl": "https://lh3.googleusercontent.com/a/default-user=s64",
      "userId": "14948341870893292997"
     },
     "user_tz": 240
    },
    "id": "IxvDbdcA_mCC",
    "outputId": "e9f4a69b-fed3-4a6d-d3ae-634810aee029"
   },
   "outputs": [
    {
     "data": {
      "text/plain": [
       "'cdef'"
      ]
     },
     "execution_count": 18,
     "metadata": {},
     "output_type": "execute_result"
    }
   ],
   "source": [
    "# Desde la pocisión 2 hasta el final del string\n",
    "alpha[2:]"
   ]
  },
  {
   "cell_type": "code",
   "execution_count": 19,
   "metadata": {
    "colab": {
     "base_uri": "https://localhost:8080/",
     "height": 35
    },
    "executionInfo": {
     "elapsed": 268,
     "status": "ok",
     "timestamp": 1637356306334,
     "user": {
      "displayName": "Maria Julliette Marin Alarcon",
      "photoUrl": "https://lh3.googleusercontent.com/a/default-user=s64",
      "userId": "14948341870893292997"
     },
     "user_tz": 240
    },
    "id": "dbCAnm7s_mCC",
    "outputId": "7ebc4a6d-e3c6-400c-d288-281aeafe864a"
   },
   "outputs": [
    {
     "data": {
      "text/plain": [
       "'ab'"
      ]
     },
     "execution_count": 19,
     "metadata": {},
     "output_type": "execute_result"
    }
   ],
   "source": [
    "# Desde el inicio del string hasta pa posición 2; esta última no incluída\n",
    "alpha[:2]"
   ]
  },
  {
   "cell_type": "code",
   "execution_count": 20,
   "metadata": {
    "colab": {
     "base_uri": "https://localhost:8080/",
     "height": 35
    },
    "executionInfo": {
     "elapsed": 389,
     "status": "ok",
     "timestamp": 1637356310522,
     "user": {
      "displayName": "Maria Julliette Marin Alarcon",
      "photoUrl": "https://lh3.googleusercontent.com/a/default-user=s64",
      "userId": "14948341870893292997"
     },
     "user_tz": 240
    },
    "id": "8aFdPtA5_mCC",
    "outputId": "04abe210-fe6a-49fa-d5c8-e6f1d31e469a"
   },
   "outputs": [
    {
     "data": {
      "text/plain": [
       "'ace'"
      ]
     },
     "execution_count": 20,
     "metadata": {},
     "output_type": "execute_result"
    }
   ],
   "source": [
    "# Desde la posición 0 hasta la 6, con paso 2\n",
    "alpha[0:6:2]"
   ]
  },
  {
   "cell_type": "code",
   "execution_count": 21,
   "metadata": {
    "colab": {
     "base_uri": "https://localhost:8080/",
     "height": 35
    },
    "executionInfo": {
     "elapsed": 231,
     "status": "ok",
     "timestamp": 1637356323744,
     "user": {
      "displayName": "Maria Julliette Marin Alarcon",
      "photoUrl": "https://lh3.googleusercontent.com/a/default-user=s64",
      "userId": "14948341870893292997"
     },
     "user_tz": 240
    },
    "id": "Q5BcsOZW_mCC",
    "outputId": "7b6efb4a-9b2d-434e-f407-54e6d55d47ad"
   },
   "outputs": [
    {
     "data": {
      "text/plain": [
       "'fedcba'"
      ]
     },
     "execution_count": 21,
     "metadata": {},
     "output_type": "execute_result"
    }
   ],
   "source": [
    "alpha[-1::-1]"
   ]
  },
  {
   "cell_type": "markdown",
   "metadata": {
    "id": "vmZV1bkW_mCD"
   },
   "source": [
    "## <font color='green'>Actividad 2:</font> \n",
    "### Slicing sobre un RUT\n",
    "\n",
    "1. Extrae el dígito verificador del RUT con un único slicing"
   ]
  },
  {
   "cell_type": "markdown",
   "metadata": {
    "id": "QRybL7A6_mCD"
   },
   "source": [
    "## <font color='green'>Tarea:</font> Imprima el string\"def\" utilizando slicing sobre la variable *alpha*"
   ]
  },
  {
   "cell_type": "markdown",
   "metadata": {
    "id": "GQJsIYRB_mCD"
   },
   "source": [
    "2. Diseña un slicing estándar para inprimir los cuatro últimos dígitos de un RUT. El resultado no debe incluir el punto, debe ser en una única instrucción, y debe generar un único string de salida.\n",
    "\n",
    "Prueba tu instrucción con *rut1* y *rut2*\n",
    "\n",
    "Los resultados deberían ser:\n",
    "```python\n",
    "'1995'\n",
    "\n",
    "'0843'\n",
    "```\n",
    "Tip: investiga cómo concatenar strings en Python."
   ]
  },
  {
   "cell_type": "code",
   "execution_count": 22,
   "metadata": {
    "colab": {
     "base_uri": "https://localhost:8080/",
     "height": 35
    },
    "executionInfo": {
     "elapsed": 507,
     "status": "ok",
     "timestamp": 1638489717166,
     "user": {
      "displayName": "Maria Julliette Marin Alarcon",
      "photoUrl": "https://lh3.googleusercontent.com/a/default-user=s64",
      "userId": "14948341870893292997"
     },
     "user_tz": 240
    },
    "id": "DTE9qQGI_mCD",
    "outputId": "b65fff50-6353-495d-b5d5-af124f7ee59f"
   },
   "outputs": [
    {
     "data": {
      "text/plain": [
       "'1955'"
      ]
     },
     "execution_count": 22,
     "metadata": {},
     "output_type": "execute_result"
    }
   ],
   "source": [
    "rut1 = '9.621.955-4'\n",
    "# Tu instrucción única aquí ...\n",
    "# Impresión de los cuatro últimos dígitos de un RUT\n",
    "rut1[-7]+rut1[-5]+rut1[-4]+rut1[-3]\n"
   ]
  },
  {
   "cell_type": "code",
   "execution_count": 23,
   "metadata": {
    "colab": {
     "base_uri": "https://localhost:8080/",
     "height": 35
    },
    "executionInfo": {
     "elapsed": 18,
     "status": "ok",
     "timestamp": 1638489718368,
     "user": {
      "displayName": "Maria Julliette Marin Alarcon",
      "photoUrl": "https://lh3.googleusercontent.com/a/default-user=s64",
      "userId": "14948341870893292997"
     },
     "user_tz": 240
    },
    "id": "Sta5OynO_mCD",
    "outputId": "5639c1d3-7913-4557-fdbc-a31909b04db4"
   },
   "outputs": [
    {
     "data": {
      "text/plain": [
       "'0843'"
      ]
     },
     "execution_count": 23,
     "metadata": {},
     "output_type": "execute_result"
    }
   ],
   "source": [
    "rut2 = '12.190.843-K' \n",
    "# Tu instrucción única aquí ...\n",
    "# Impresión de los cuatro últimos dígitos de un RUT\n",
    "rut2[-7]+rut2[-5]+rut2[-4]+rut2[-3]\n"
   ]
  },
  {
   "cell_type": "markdown",
   "metadata": {
    "id": "Gh9103pQ_mCE"
   },
   "source": [
    "<font color='green'>Fin actividad 2:</font>"
   ]
  },
  {
   "cell_type": "code",
   "execution_count": 24,
   "metadata": {
    "colab": {
     "base_uri": "https://localhost:8080/",
     "height": 35
    },
    "executionInfo": {
     "elapsed": 218,
     "status": "ok",
     "timestamp": 1637356756306,
     "user": {
      "displayName": "Maria Julliette Marin Alarcon",
      "photoUrl": "https://lh3.googleusercontent.com/a/default-user=s64",
      "userId": "14948341870893292997"
     },
     "user_tz": 240
    },
    "id": "eC32hhoI_mCE",
    "outputId": "2d1be1a2-87e8-45b8-c95d-0a3689111d5e"
   },
   "outputs": [
    {
     "data": {
      "text/plain": [
       "'4'"
      ]
     },
     "execution_count": 24,
     "metadata": {},
     "output_type": "execute_result"
    }
   ],
   "source": [
    "rut = '9.621.955-4'\n",
    "# Tu código aquí ...\n",
    "\n",
    "rut[10]\n"
   ]
  },
  {
   "cell_type": "markdown",
   "metadata": {
    "id": "SizSJrCo_mCE"
   },
   "source": [
    "## Métodos básicos de cadena (string)\n",
    "\n",
    "Los métodos son acciones que puede llamar a un objeto generalmente en la forma **.method_name()** <br>\n",
    "Observe el paréntesis cerrado al final. Las cadenas tienen muchos, muchos métodos.\n",
    "\n",
    "Para verlos escribe una cadena y añádele un signo de interrogación al final:\n",
    "\n",
    "```python\n",
    "\"hola\"?\n",
    "````\n",
    "\n",
    "Tambien puedes escribir la cadena y luego presionar la tecla \\<tab\\>\n",
    "\n",
    "¡repasemos algunos de los más útiles!"
   ]
  },
  {
   "cell_type": "code",
   "execution_count": 25,
   "metadata": {
    "colab": {
     "base_uri": "https://localhost:8080/"
    },
    "executionInfo": {
     "elapsed": 266,
     "status": "ok",
     "timestamp": 1637357317645,
     "user": {
      "displayName": "Maria Julliette Marin Alarcon",
      "photoUrl": "https://lh3.googleusercontent.com/a/default-user=s64",
      "userId": "14948341870893292997"
     },
     "user_tz": 240
    },
    "id": "1uojOZPy_mCE",
    "outputId": "3002ec03-0c68-4fb5-b91d-5e69f0459adc"
   },
   "outputs": [
    {
     "name": "stdout",
     "output_type": "stream",
     "text": [
      "Help on class str in module builtins:\n",
      "\n",
      "class str(object)\n",
      " |  str(object='') -> str\n",
      " |  str(bytes_or_buffer[, encoding[, errors]]) -> str\n",
      " |  \n",
      " |  Create a new string object from the given object. If encoding or\n",
      " |  errors is specified, then the object must expose a data buffer\n",
      " |  that will be decoded using the given encoding and error handler.\n",
      " |  Otherwise, returns the result of object.__str__() (if defined)\n",
      " |  or repr(object).\n",
      " |  encoding defaults to sys.getdefaultencoding().\n",
      " |  errors defaults to 'strict'.\n",
      " |  \n",
      " |  Methods defined here:\n",
      " |  \n",
      " |  __add__(self, value, /)\n",
      " |      Return self+value.\n",
      " |  \n",
      " |  __contains__(self, key, /)\n",
      " |      Return key in self.\n",
      " |  \n",
      " |  __eq__(self, value, /)\n",
      " |      Return self==value.\n",
      " |  \n",
      " |  __format__(self, format_spec, /)\n",
      " |      Return a formatted version of the string as described by format_spec.\n",
      " |  \n",
      " |  __ge__(self, value, /)\n",
      " |      Return self>=value.\n",
      " |  \n",
      " |  __getattribute__(self, name, /)\n",
      " |      Return getattr(self, name).\n",
      " |  \n",
      " |  __getitem__(self, key, /)\n",
      " |      Return self[key].\n",
      " |  \n",
      " |  __getnewargs__(...)\n",
      " |  \n",
      " |  __gt__(self, value, /)\n",
      " |      Return self>value.\n",
      " |  \n",
      " |  __hash__(self, /)\n",
      " |      Return hash(self).\n",
      " |  \n",
      " |  __iter__(self, /)\n",
      " |      Implement iter(self).\n",
      " |  \n",
      " |  __le__(self, value, /)\n",
      " |      Return self<=value.\n",
      " |  \n",
      " |  __len__(self, /)\n",
      " |      Return len(self).\n",
      " |  \n",
      " |  __lt__(self, value, /)\n",
      " |      Return self<value.\n",
      " |  \n",
      " |  __mod__(self, value, /)\n",
      " |      Return self%value.\n",
      " |  \n",
      " |  __mul__(self, value, /)\n",
      " |      Return self*value.\n",
      " |  \n",
      " |  __ne__(self, value, /)\n",
      " |      Return self!=value.\n",
      " |  \n",
      " |  __repr__(self, /)\n",
      " |      Return repr(self).\n",
      " |  \n",
      " |  __rmod__(self, value, /)\n",
      " |      Return value%self.\n",
      " |  \n",
      " |  __rmul__(self, value, /)\n",
      " |      Return value*self.\n",
      " |  \n",
      " |  __sizeof__(self, /)\n",
      " |      Return the size of the string in memory, in bytes.\n",
      " |  \n",
      " |  __str__(self, /)\n",
      " |      Return str(self).\n",
      " |  \n",
      " |  capitalize(self, /)\n",
      " |      Return a capitalized version of the string.\n",
      " |      \n",
      " |      More specifically, make the first character have upper case and the rest lower\n",
      " |      case.\n",
      " |  \n",
      " |  casefold(self, /)\n",
      " |      Return a version of the string suitable for caseless comparisons.\n",
      " |  \n",
      " |  center(self, width, fillchar=' ', /)\n",
      " |      Return a centered string of length width.\n",
      " |      \n",
      " |      Padding is done using the specified fill character (default is a space).\n",
      " |  \n",
      " |  count(...)\n",
      " |      S.count(sub[, start[, end]]) -> int\n",
      " |      \n",
      " |      Return the number of non-overlapping occurrences of substring sub in\n",
      " |      string S[start:end].  Optional arguments start and end are\n",
      " |      interpreted as in slice notation.\n",
      " |  \n",
      " |  encode(self, /, encoding='utf-8', errors='strict')\n",
      " |      Encode the string using the codec registered for encoding.\n",
      " |      \n",
      " |      encoding\n",
      " |        The encoding in which to encode the string.\n",
      " |      errors\n",
      " |        The error handling scheme to use for encoding errors.\n",
      " |        The default is 'strict' meaning that encoding errors raise a\n",
      " |        UnicodeEncodeError.  Other possible values are 'ignore', 'replace' and\n",
      " |        'xmlcharrefreplace' as well as any other name registered with\n",
      " |        codecs.register_error that can handle UnicodeEncodeErrors.\n",
      " |  \n",
      " |  endswith(...)\n",
      " |      S.endswith(suffix[, start[, end]]) -> bool\n",
      " |      \n",
      " |      Return True if S ends with the specified suffix, False otherwise.\n",
      " |      With optional start, test S beginning at that position.\n",
      " |      With optional end, stop comparing S at that position.\n",
      " |      suffix can also be a tuple of strings to try.\n",
      " |  \n",
      " |  expandtabs(self, /, tabsize=8)\n",
      " |      Return a copy where all tab characters are expanded using spaces.\n",
      " |      \n",
      " |      If tabsize is not given, a tab size of 8 characters is assumed.\n",
      " |  \n",
      " |  find(...)\n",
      " |      S.find(sub[, start[, end]]) -> int\n",
      " |      \n",
      " |      Return the lowest index in S where substring sub is found,\n",
      " |      such that sub is contained within S[start:end].  Optional\n",
      " |      arguments start and end are interpreted as in slice notation.\n",
      " |      \n",
      " |      Return -1 on failure.\n",
      " |  \n",
      " |  format(...)\n",
      " |      S.format(*args, **kwargs) -> str\n",
      " |      \n",
      " |      Return a formatted version of S, using substitutions from args and kwargs.\n",
      " |      The substitutions are identified by braces ('{' and '}').\n",
      " |  \n",
      " |  format_map(...)\n",
      " |      S.format_map(mapping) -> str\n",
      " |      \n",
      " |      Return a formatted version of S, using substitutions from mapping.\n",
      " |      The substitutions are identified by braces ('{' and '}').\n",
      " |  \n",
      " |  index(...)\n",
      " |      S.index(sub[, start[, end]]) -> int\n",
      " |      \n",
      " |      Return the lowest index in S where substring sub is found,\n",
      " |      such that sub is contained within S[start:end].  Optional\n",
      " |      arguments start and end are interpreted as in slice notation.\n",
      " |      \n",
      " |      Raises ValueError when the substring is not found.\n",
      " |  \n",
      " |  isalnum(self, /)\n",
      " |      Return True if the string is an alpha-numeric string, False otherwise.\n",
      " |      \n",
      " |      A string is alpha-numeric if all characters in the string are alpha-numeric and\n",
      " |      there is at least one character in the string.\n",
      " |  \n",
      " |  isalpha(self, /)\n",
      " |      Return True if the string is an alphabetic string, False otherwise.\n",
      " |      \n",
      " |      A string is alphabetic if all characters in the string are alphabetic and there\n",
      " |      is at least one character in the string.\n",
      " |  \n",
      " |  isascii(self, /)\n",
      " |      Return True if all characters in the string are ASCII, False otherwise.\n",
      " |      \n",
      " |      ASCII characters have code points in the range U+0000-U+007F.\n",
      " |      Empty string is ASCII too.\n",
      " |  \n",
      " |  isdecimal(self, /)\n",
      " |      Return True if the string is a decimal string, False otherwise.\n",
      " |      \n",
      " |      A string is a decimal string if all characters in the string are decimal and\n",
      " |      there is at least one character in the string.\n",
      " |  \n",
      " |  isdigit(self, /)\n",
      " |      Return True if the string is a digit string, False otherwise.\n",
      " |      \n",
      " |      A string is a digit string if all characters in the string are digits and there\n",
      " |      is at least one character in the string.\n",
      " |  \n",
      " |  isidentifier(self, /)\n",
      " |      Return True if the string is a valid Python identifier, False otherwise.\n",
      " |      \n",
      " |      Call keyword.iskeyword(s) to test whether string s is a reserved identifier,\n",
      " |      such as \"def\" or \"class\".\n",
      " |  \n",
      " |  islower(self, /)\n",
      " |      Return True if the string is a lowercase string, False otherwise.\n",
      " |      \n",
      " |      A string is lowercase if all cased characters in the string are lowercase and\n",
      " |      there is at least one cased character in the string.\n",
      " |  \n",
      " |  isnumeric(self, /)\n",
      " |      Return True if the string is a numeric string, False otherwise.\n",
      " |      \n",
      " |      A string is numeric if all characters in the string are numeric and there is at\n",
      " |      least one character in the string.\n",
      " |  \n",
      " |  isprintable(self, /)\n",
      " |      Return True if the string is printable, False otherwise.\n",
      " |      \n",
      " |      A string is printable if all of its characters are considered printable in\n",
      " |      repr() or if it is empty.\n",
      " |  \n",
      " |  isspace(self, /)\n",
      " |      Return True if the string is a whitespace string, False otherwise.\n",
      " |      \n",
      " |      A string is whitespace if all characters in the string are whitespace and there\n",
      " |      is at least one character in the string.\n",
      " |  \n",
      " |  istitle(self, /)\n",
      " |      Return True if the string is a title-cased string, False otherwise.\n",
      " |      \n",
      " |      In a title-cased string, upper- and title-case characters may only\n",
      " |      follow uncased characters and lowercase characters only cased ones.\n",
      " |  \n",
      " |  isupper(self, /)\n",
      " |      Return True if the string is an uppercase string, False otherwise.\n",
      " |      \n",
      " |      A string is uppercase if all cased characters in the string are uppercase and\n",
      " |      there is at least one cased character in the string.\n",
      " |  \n",
      " |  join(self, iterable, /)\n",
      " |      Concatenate any number of strings.\n",
      " |      \n",
      " |      The string whose method is called is inserted in between each given string.\n",
      " |      The result is returned as a new string.\n",
      " |      \n",
      " |      Example: '.'.join(['ab', 'pq', 'rs']) -> 'ab.pq.rs'\n",
      " |  \n",
      " |  ljust(self, width, fillchar=' ', /)\n",
      " |      Return a left-justified string of length width.\n",
      " |      \n",
      " |      Padding is done using the specified fill character (default is a space).\n",
      " |  \n",
      " |  lower(self, /)\n",
      " |      Return a copy of the string converted to lowercase.\n",
      " |  \n",
      " |  lstrip(self, chars=None, /)\n",
      " |      Return a copy of the string with leading whitespace removed.\n",
      " |      \n",
      " |      If chars is given and not None, remove characters in chars instead.\n",
      " |  \n",
      " |  partition(self, sep, /)\n",
      " |      Partition the string into three parts using the given separator.\n",
      " |      \n",
      " |      This will search for the separator in the string.  If the separator is found,\n",
      " |      returns a 3-tuple containing the part before the separator, the separator\n",
      " |      itself, and the part after it.\n",
      " |      \n",
      " |      If the separator is not found, returns a 3-tuple containing the original string\n",
      " |      and two empty strings.\n",
      " |  \n",
      " |  removeprefix(self, prefix, /)\n",
      " |      Return a str with the given prefix string removed if present.\n",
      " |      \n",
      " |      If the string starts with the prefix string, return string[len(prefix):].\n",
      " |      Otherwise, return a copy of the original string.\n",
      " |  \n",
      " |  removesuffix(self, suffix, /)\n",
      " |      Return a str with the given suffix string removed if present.\n",
      " |      \n",
      " |      If the string ends with the suffix string and that suffix is not empty,\n",
      " |      return string[:-len(suffix)]. Otherwise, return a copy of the original\n",
      " |      string.\n",
      " |  \n",
      " |  replace(self, old, new, count=-1, /)\n",
      " |      Return a copy with all occurrences of substring old replaced by new.\n",
      " |      \n",
      " |        count\n",
      " |          Maximum number of occurrences to replace.\n",
      " |          -1 (the default value) means replace all occurrences.\n",
      " |      \n",
      " |      If the optional argument count is given, only the first count occurrences are\n",
      " |      replaced.\n",
      " |  \n",
      " |  rfind(...)\n",
      " |      S.rfind(sub[, start[, end]]) -> int\n",
      " |      \n",
      " |      Return the highest index in S where substring sub is found,\n",
      " |      such that sub is contained within S[start:end].  Optional\n",
      " |      arguments start and end are interpreted as in slice notation.\n",
      " |      \n",
      " |      Return -1 on failure.\n",
      " |  \n",
      " |  rindex(...)\n",
      " |      S.rindex(sub[, start[, end]]) -> int\n",
      " |      \n",
      " |      Return the highest index in S where substring sub is found,\n",
      " |      such that sub is contained within S[start:end].  Optional\n",
      " |      arguments start and end are interpreted as in slice notation.\n",
      " |      \n",
      " |      Raises ValueError when the substring is not found.\n",
      " |  \n",
      " |  rjust(self, width, fillchar=' ', /)\n",
      " |      Return a right-justified string of length width.\n",
      " |      \n",
      " |      Padding is done using the specified fill character (default is a space).\n",
      " |  \n",
      " |  rpartition(self, sep, /)\n",
      " |      Partition the string into three parts using the given separator.\n",
      " |      \n",
      " |      This will search for the separator in the string, starting at the end. If\n",
      " |      the separator is found, returns a 3-tuple containing the part before the\n",
      " |      separator, the separator itself, and the part after it.\n",
      " |      \n",
      " |      If the separator is not found, returns a 3-tuple containing two empty strings\n",
      " |      and the original string.\n",
      " |  \n",
      " |  rsplit(self, /, sep=None, maxsplit=-1)\n",
      " |      Return a list of the substrings in the string, using sep as the separator string.\n",
      " |      \n",
      " |        sep\n",
      " |          The separator used to split the string.\n",
      " |      \n",
      " |          When set to None (the default value), will split on any whitespace\n",
      " |          character (including \\\\n \\\\r \\\\t \\\\f and spaces) and will discard\n",
      " |          empty strings from the result.\n",
      " |        maxsplit\n",
      " |          Maximum number of splits (starting from the left).\n",
      " |          -1 (the default value) means no limit.\n",
      " |      \n",
      " |      Splitting starts at the end of the string and works to the front.\n",
      " |  \n",
      " |  rstrip(self, chars=None, /)\n",
      " |      Return a copy of the string with trailing whitespace removed.\n",
      " |      \n",
      " |      If chars is given and not None, remove characters in chars instead.\n",
      " |  \n",
      " |  split(self, /, sep=None, maxsplit=-1)\n",
      " |      Return a list of the substrings in the string, using sep as the separator string.\n",
      " |      \n",
      " |        sep\n",
      " |          The separator used to split the string.\n",
      " |      \n",
      " |          When set to None (the default value), will split on any whitespace\n",
      " |          character (including \\\\n \\\\r \\\\t \\\\f and spaces) and will discard\n",
      " |          empty strings from the result.\n",
      " |        maxsplit\n",
      " |          Maximum number of splits (starting from the left).\n",
      " |          -1 (the default value) means no limit.\n",
      " |      \n",
      " |      Note, str.split() is mainly useful for data that has been intentionally\n",
      " |      delimited.  With natural text that includes punctuation, consider using\n",
      " |      the regular expression module.\n",
      " |  \n",
      " |  splitlines(self, /, keepends=False)\n",
      " |      Return a list of the lines in the string, breaking at line boundaries.\n",
      " |      \n",
      " |      Line breaks are not included in the resulting list unless keepends is given and\n",
      " |      true.\n",
      " |  \n",
      " |  startswith(...)\n",
      " |      S.startswith(prefix[, start[, end]]) -> bool\n",
      " |      \n",
      " |      Return True if S starts with the specified prefix, False otherwise.\n",
      " |      With optional start, test S beginning at that position.\n",
      " |      With optional end, stop comparing S at that position.\n",
      " |      prefix can also be a tuple of strings to try.\n",
      " |  \n",
      " |  strip(self, chars=None, /)\n",
      " |      Return a copy of the string with leading and trailing whitespace removed.\n",
      " |      \n",
      " |      If chars is given and not None, remove characters in chars instead.\n",
      " |  \n",
      " |  swapcase(self, /)\n",
      " |      Convert uppercase characters to lowercase and lowercase characters to uppercase.\n",
      " |  \n",
      " |  title(self, /)\n",
      " |      Return a version of the string where each word is titlecased.\n",
      " |      \n",
      " |      More specifically, words start with uppercased characters and all remaining\n",
      " |      cased characters have lower case.\n",
      " |  \n",
      " |  translate(self, table, /)\n",
      " |      Replace each character in the string using the given translation table.\n",
      " |      \n",
      " |        table\n",
      " |          Translation table, which must be a mapping of Unicode ordinals to\n",
      " |          Unicode ordinals, strings, or None.\n",
      " |      \n",
      " |      The table must implement lookup/indexing via __getitem__, for instance a\n",
      " |      dictionary or list.  If this operation raises LookupError, the character is\n",
      " |      left untouched.  Characters mapped to None are deleted.\n",
      " |  \n",
      " |  upper(self, /)\n",
      " |      Return a copy of the string converted to uppercase.\n",
      " |  \n",
      " |  zfill(self, width, /)\n",
      " |      Pad a numeric string with zeros on the left, to fill a field of the given width.\n",
      " |      \n",
      " |      The string is never truncated.\n",
      " |  \n",
      " |  ----------------------------------------------------------------------\n",
      " |  Static methods defined here:\n",
      " |  \n",
      " |  __new__(*args, **kwargs) from builtins.type\n",
      " |      Create and return a new object.  See help(type) for accurate signature.\n",
      " |  \n",
      " |  maketrans(...)\n",
      " |      Return a translation table usable for str.translate().\n",
      " |      \n",
      " |      If there is only one argument, it must be a dictionary mapping Unicode\n",
      " |      ordinals (integers) or characters to Unicode ordinals, strings or None.\n",
      " |      Character keys will be then converted to ordinals.\n",
      " |      If there are two arguments, they must be strings of equal length, and\n",
      " |      in the resulting dictionary, each character in x will be mapped to the\n",
      " |      character at the same position in y. If there is a third argument, it\n",
      " |      must be a string, whose characters will be mapped to None in the result.\n",
      "\n"
     ]
    }
   ],
   "source": [
    "# ... esto sí ...\n",
    "help(str)"
   ]
  },
  {
   "cell_type": "code",
   "execution_count": 26,
   "metadata": {
    "colab": {
     "base_uri": "https://localhost:8080/"
    },
    "executionInfo": {
     "elapsed": 247,
     "status": "ok",
     "timestamp": 1637357440963,
     "user": {
      "displayName": "Maria Julliette Marin Alarcon",
      "photoUrl": "https://lh3.googleusercontent.com/a/default-user=s64",
      "userId": "14948341870893292997"
     },
     "user_tz": 240
    },
    "id": "6ohG9UiA_mCF",
    "outputId": "1c4273f2-f32d-4a4f-d220-09bb8318bcf7"
   },
   "outputs": [
    {
     "name": "stdout",
     "output_type": "stream",
     "text": [
      "No Python documentation found for 'hola'.\n",
      "Use help() to get the interactive help utility.\n",
      "Use help(str) for help on the str class.\n",
      "\n"
     ]
    }
   ],
   "source": [
    "# Si quieres ayuda sobre strings esto no te va a funcionar\n",
    "help(\"hola\")"
   ]
  },
  {
   "cell_type": "code",
   "execution_count": 27,
   "metadata": {
    "id": "rK44hnst_mCF"
   },
   "outputs": [],
   "source": [
    "basic = \"Hello world I am learning Python\""
   ]
  },
  {
   "cell_type": "code",
   "execution_count": 28,
   "metadata": {
    "colab": {
     "base_uri": "https://localhost:8080/",
     "height": 35
    },
    "executionInfo": {
     "elapsed": 307,
     "status": "ok",
     "timestamp": 1637357447433,
     "user": {
      "displayName": "Maria Julliette Marin Alarcon",
      "photoUrl": "https://lh3.googleusercontent.com/a/default-user=s64",
      "userId": "14948341870893292997"
     },
     "user_tz": 240
    },
    "id": "NccA5L7I_mCF",
    "outputId": "62b29e81-c92c-4af2-ce28-ec1b9fc4bf70"
   },
   "outputs": [
    {
     "data": {
      "text/plain": [
       "'HELLO WORLD I AM LEARNING PYTHON'"
      ]
     },
     "execution_count": 28,
     "metadata": {},
     "output_type": "execute_result"
    }
   ],
   "source": [
    "basic.upper()"
   ]
  },
  {
   "cell_type": "code",
   "execution_count": 29,
   "metadata": {
    "colab": {
     "base_uri": "https://localhost:8080/",
     "height": 35
    },
    "executionInfo": {
     "elapsed": 247,
     "status": "ok",
     "timestamp": 1637357459377,
     "user": {
      "displayName": "Maria Julliette Marin Alarcon",
      "photoUrl": "https://lh3.googleusercontent.com/a/default-user=s64",
      "userId": "14948341870893292997"
     },
     "user_tz": 240
    },
    "id": "VU0JdJMB_mCF",
    "outputId": "75822d9e-fa70-427f-c9c5-b0d685150dc7"
   },
   "outputs": [
    {
     "data": {
      "text/plain": [
       "'hello world i am learning python'"
      ]
     },
     "execution_count": 29,
     "metadata": {},
     "output_type": "execute_result"
    }
   ],
   "source": [
    "basic.lower()"
   ]
  },
  {
   "cell_type": "code",
   "execution_count": 30,
   "metadata": {
    "colab": {
     "base_uri": "https://localhost:8080/"
    },
    "executionInfo": {
     "elapsed": 729,
     "status": "ok",
     "timestamp": 1637357524731,
     "user": {
      "displayName": "Maria Julliette Marin Alarcon",
      "photoUrl": "https://lh3.googleusercontent.com/a/default-user=s64",
      "userId": "14948341870893292997"
     },
     "user_tz": 240
    },
    "id": "lPRaDf1w_mCF",
    "outputId": "3bfdfb36-5301-47de-b901-2e8d5da0998f"
   },
   "outputs": [
    {
     "data": {
      "text/plain": [
       "['Hello', 'world', 'I', 'am', 'learning', 'Python']"
      ]
     },
     "execution_count": 30,
     "metadata": {},
     "output_type": "execute_result"
    }
   ],
   "source": [
    "# Veremos esto más adelante, por ahora investiga de qué podría tratarse\n",
    "basic.split()"
   ]
  },
  {
   "cell_type": "markdown",
   "metadata": {
    "id": "f5bbs1FK_mCG"
   },
   "source": [
    "La estrcutura generada se llama **lista**. Es una de las estructuras más utilizadas en Python.\n",
    "Las listas también pueden ser indexadas. Las veremos en el siguiente notebook."
   ]
  },
  {
   "cell_type": "code",
   "execution_count": 31,
   "metadata": {
    "colab": {
     "base_uri": "https://localhost:8080/"
    },
    "executionInfo": {
     "elapsed": 366,
     "status": "ok",
     "timestamp": 1637357574329,
     "user": {
      "displayName": "Maria Julliette Marin Alarcon",
      "photoUrl": "https://lh3.googleusercontent.com/a/default-user=s64",
      "userId": "14948341870893292997"
     },
     "user_tz": 240
    },
    "id": "N0OS9N4d_mCG",
    "outputId": "4324f980-0214-47ec-df2d-222233fc4943"
   },
   "outputs": [
    {
     "name": "stdout",
     "output_type": "stream",
     "text": [
      "Hello\n",
      "world\n",
      "Python\n"
     ]
    }
   ],
   "source": [
    "# Las reglas de indexing también aplican en esta nueva estructura\n",
    "print(basic.split()[0])\n",
    "print(basic.split()[1])\n",
    "print(basic.split()[-1])"
   ]
  },
  {
   "cell_type": "code",
   "execution_count": 32,
   "metadata": {
    "colab": {
     "base_uri": "https://localhost:8080/"
    },
    "executionInfo": {
     "elapsed": 236,
     "status": "ok",
     "timestamp": 1637357585870,
     "user": {
      "displayName": "Maria Julliette Marin Alarcon",
      "photoUrl": "https://lh3.googleusercontent.com/a/default-user=s64",
      "userId": "14948341870893292997"
     },
     "user_tz": 240
    },
    "id": "XpSVmjZe_mCG",
    "outputId": "0b5b1ab2-7510-4522-fa72-233f523eb681"
   },
   "outputs": [
    {
     "data": {
      "text/plain": [
       "['Hello world ', ' am learning Python']"
      ]
     },
     "execution_count": 32,
     "metadata": {},
     "output_type": "execute_result"
    }
   ],
   "source": [
    "# Qué utilidad le ves a esto?\n",
    "basic.split('I')"
   ]
  },
  {
   "cell_type": "markdown",
   "metadata": {
    "id": "j83n-Sd2_mCG"
   },
   "source": [
    "## <font color='green'>Actividad 3:</font> \n",
    "### Crea tu propia variable string y aplícale los métodos *upper()* y *lower()* \n",
    "\n",
    "1. Ingresa un string con tu nombre y tu apellido desde el teclado con *input()*\n",
    "2. Guádalo en una variable\n",
    "3. Imprime la variable aplicándo el método *upper()*\n",
    "4. Imprime la variable aplicándo el método *lower()*\n",
    "\n",
    "Haz que ambas expresiones se impriman utilizanfo f-strings y la función print()\n",
    "\n",
    "5. Separa la variable en dos (nombre y apellido), e imprimelas en una única línea con la primera letra en mayúscula y el resto en minúscula.\n",
    "\n",
    "Tip: utiliza el método split()"
   ]
  },
  {
   "cell_type": "code",
   "execution_count": 33,
   "metadata": {
    "colab": {
     "base_uri": "https://localhost:8080/"
    },
    "executionInfo": {
     "elapsed": 3888,
     "status": "ok",
     "timestamp": 1638493044690,
     "user": {
      "displayName": "Maria Julliette Marin Alarcon",
      "photoUrl": "https://lh3.googleusercontent.com/a/default-user=s64",
      "userId": "14948341870893292997"
     },
     "user_tz": 240
    },
    "id": "arp81_rf_mCH",
    "outputId": "6712dba4-e922-4aa8-e7ef-f780aaffae1f"
   },
   "outputs": [
    {
     "name": "stdout",
     "output_type": "stream",
     "text": [
      "Ingresa nombre y apellido: Roberto Alfaro\n",
      "ROBERTO ALFARO\n",
      "roberto alfaro\n",
      "Roberto Alfaro\n"
     ]
    }
   ],
   "source": [
    "# Tu código aquí ...\n",
    "# Ingresar nombre completo por teclado\n",
    "nombre_completo = input('Ingresa nombre y apellido: ')\n",
    "# Impresión de variable aplicando método upper()\n",
    "print(nombre_completo.upper())\n",
    "# Impresión de variable aplicando método lower()\n",
    "print(nombre_completo.lower())\n",
    "# Separar variables en dos\n",
    "nombre_completo = nombre_completo.split()\n",
    "nombre = nombre_completo[0]\n",
    "apellido = nombre_completo[1]\n",
    "#Impresión en una única línea con la primera letra en mayúscula y el resto en minúscula\n",
    "print(f'{nombre[0].upper()+nombre[1:].lower()} {apellido[0].upper()+apellido[1:].lower()}')"
   ]
  },
  {
   "cell_type": "markdown",
   "metadata": {
    "id": "cyhtMSLa_mCH"
   },
   "source": [
    "<font color='green'>Fin actividad 3</font> "
   ]
  },
  {
   "cell_type": "markdown",
   "metadata": {
    "id": "UIhjyOX3_mCH"
   },
   "source": [
    "## <font color='blue'>**Repaso de string formatting**</font> \n",
    "\n",
    "Puedes usar el método *.format()* o los *f-string* vistos anteriormente  para realizar lo que se conoce formalmente como **interpolación de cadenas**, esencialmente insertando variables al imprimirla."
   ]
  },
  {
   "cell_type": "code",
   "execution_count": 34,
   "metadata": {
    "id": "X9yZ3gTF_mCH"
   },
   "outputs": [],
   "source": [
    "user_name = \"Matías\""
   ]
  },
  {
   "cell_type": "code",
   "execution_count": 35,
   "metadata": {
    "colab": {
     "base_uri": "https://localhost:8080/"
    },
    "executionInfo": {
     "elapsed": 5,
     "status": "ok",
     "timestamp": 1637358593532,
     "user": {
      "displayName": "Maria Julliette Marin Alarcon",
      "photoUrl": "https://lh3.googleusercontent.com/a/default-user=s64",
      "userId": "14948341870893292997"
     },
     "user_tz": 240
    },
    "id": "dv1Q0rku_mCH",
    "outputId": "35d1aed3-bd24-4065-e754-b350e37ed8fb"
   },
   "outputs": [
    {
     "name": "stdout",
     "output_type": "stream",
     "text": [
      "Welcome Matías\n"
     ]
    }
   ],
   "source": [
    "# Con opción 2\n",
    "print(\"Welcome {}\".format(user_name))"
   ]
  },
  {
   "cell_type": "code",
   "execution_count": 36,
   "metadata": {
    "id": "XjOocoAJ_mCH"
   },
   "outputs": [
    {
     "name": "stdout",
     "output_type": "stream",
     "text": [
      "Welcome Matías\n"
     ]
    }
   ],
   "source": [
    "# o con opción 3\n",
    "print(f'Welcome {user_name}')"
   ]
  },
  {
   "cell_type": "code",
   "execution_count": 37,
   "metadata": {
    "id": "B_EmeVMP_mCI"
   },
   "outputs": [],
   "source": [
    "action = 'run'"
   ]
  },
  {
   "cell_type": "code",
   "execution_count": 38,
   "metadata": {
    "colab": {
     "base_uri": "https://localhost:8080/"
    },
    "executionInfo": {
     "elapsed": 617,
     "status": "ok",
     "timestamp": 1637358616624,
     "user": {
      "displayName": "Maria Julliette Marin Alarcon",
      "photoUrl": "https://lh3.googleusercontent.com/a/default-user=s64",
      "userId": "14948341870893292997"
     },
     "user_tz": 240
    },
    "id": "qQgTXbzP_mCI",
    "outputId": "c84ed037-16b9-453d-d1fa-244d18db918a"
   },
   "outputs": [
    {
     "name": "stdout",
     "output_type": "stream",
     "text": [
      "Matías needs to run\n"
     ]
    }
   ],
   "source": [
    "print(\"{} needs to {}\".format(user_name,action))"
   ]
  },
  {
   "cell_type": "code",
   "execution_count": 39,
   "metadata": {
    "colab": {
     "base_uri": "https://localhost:8080/"
    },
    "executionInfo": {
     "elapsed": 351,
     "status": "ok",
     "timestamp": 1637358620178,
     "user": {
      "displayName": "Maria Julliette Marin Alarcon",
      "photoUrl": "https://lh3.googleusercontent.com/a/default-user=s64",
      "userId": "14948341870893292997"
     },
     "user_tz": 240
    },
    "id": "z4-__aDw_mCI",
    "outputId": "b7c766d3-ddb8-4627-e32a-d58544bba9cf"
   },
   "outputs": [
    {
     "name": "stdout",
     "output_type": "stream",
     "text": [
      "Matías needs to run\n"
     ]
    }
   ],
   "source": [
    "print(\"{a} needs to {b}\".format(a=user_name,b=action))"
   ]
  },
  {
   "cell_type": "code",
   "execution_count": 40,
   "metadata": {
    "colab": {
     "base_uri": "https://localhost:8080/"
    },
    "executionInfo": {
     "elapsed": 258,
     "status": "ok",
     "timestamp": 1637358626888,
     "user": {
      "displayName": "Maria Julliette Marin Alarcon",
      "photoUrl": "https://lh3.googleusercontent.com/a/default-user=s64",
      "userId": "14948341870893292997"
     },
     "user_tz": 240
    },
    "id": "Jw5Uv4eL_mCI",
    "outputId": "43624334-fd81-4b98-ee99-b39fcbdb77dd"
   },
   "outputs": [
    {
     "name": "stdout",
     "output_type": "stream",
     "text": [
      "Matías needs to run\n"
     ]
    }
   ],
   "source": [
    "print(\"{b} needs to {a}\".format(a=action,b=user_name))"
   ]
  },
  {
   "cell_type": "markdown",
   "metadata": {
    "id": "rw86gpUb_mCI"
   },
   "source": [
    "### Formatting Numbers"
   ]
  },
  {
   "cell_type": "code",
   "execution_count": 41,
   "metadata": {
    "colab": {
     "base_uri": "https://localhost:8080/"
    },
    "executionInfo": {
     "elapsed": 250,
     "status": "ok",
     "timestamp": 1637358636839,
     "user": {
      "displayName": "Maria Julliette Marin Alarcon",
      "photoUrl": "https://lh3.googleusercontent.com/a/default-user=s64",
      "userId": "14948341870893292997"
     },
     "user_tz": 240
    },
    "id": "MyoaOTs2_mCJ",
    "outputId": "e926f943-6314-4cc3-8178-982f3be1c6cc"
   },
   "outputs": [
    {
     "name": "stdout",
     "output_type": "stream",
     "text": [
      "The code is: 123.6789\n"
     ]
    }
   ],
   "source": [
    "num = 123.6789\n",
    "print(f\"The code is: {num}\")"
   ]
  },
  {
   "cell_type": "code",
   "execution_count": 42,
   "metadata": {
    "colab": {
     "base_uri": "https://localhost:8080/"
    },
    "executionInfo": {
     "elapsed": 239,
     "status": "ok",
     "timestamp": 1637358643840,
     "user": {
      "displayName": "Maria Julliette Marin Alarcon",
      "photoUrl": "https://lh3.googleusercontent.com/a/default-user=s64",
      "userId": "14948341870893292997"
     },
     "user_tz": 240
    },
    "id": "yPK03NTa_mCJ",
    "outputId": "7445c6b4-85da-4e42-d6fd-0551fe8d77a7"
   },
   "outputs": [
    {
     "name": "stdout",
     "output_type": "stream",
     "text": [
      "The code is: 123.7\n"
     ]
    }
   ],
   "source": [
    "print(f\"The code is: {num:.1f}\")"
   ]
  },
  {
   "cell_type": "code",
   "execution_count": 43,
   "metadata": {
    "colab": {
     "base_uri": "https://localhost:8080/"
    },
    "executionInfo": {
     "elapsed": 406,
     "status": "ok",
     "timestamp": 1637358651627,
     "user": {
      "displayName": "Maria Julliette Marin Alarcon",
      "photoUrl": "https://lh3.googleusercontent.com/a/default-user=s64",
      "userId": "14948341870893292997"
     },
     "user_tz": 240
    },
    "id": "KDv1sAy0_mCJ",
    "outputId": "27de54c8-e3dd-474a-8c74-841fb4f36753"
   },
   "outputs": [
    {
     "name": "stdout",
     "output_type": "stream",
     "text": [
      "The code is: 123.68\n"
     ]
    }
   ],
   "source": [
    "print(f\"The code is: {num:.2f}\")"
   ]
  },
  {
   "cell_type": "code",
   "execution_count": 44,
   "metadata": {
    "colab": {
     "base_uri": "https://localhost:8080/"
    },
    "executionInfo": {
     "elapsed": 501,
     "status": "ok",
     "timestamp": 1637358654883,
     "user": {
      "displayName": "Maria Julliette Marin Alarcon",
      "photoUrl": "https://lh3.googleusercontent.com/a/default-user=s64",
      "userId": "14948341870893292997"
     },
     "user_tz": 240
    },
    "id": "2BWMfehG_mCJ",
    "outputId": "af303d6a-eafc-4a90-802f-0e7ef0f149f7"
   },
   "outputs": [
    {
     "name": "stdout",
     "output_type": "stream",
     "text": [
      "The code is: 123.679\n"
     ]
    }
   ],
   "source": [
    "print(f\"The code is: {num:.3f}\")"
   ]
  },
  {
   "cell_type": "code",
   "execution_count": 45,
   "metadata": {
    "colab": {
     "base_uri": "https://localhost:8080/"
    },
    "executionInfo": {
     "elapsed": 2,
     "status": "ok",
     "timestamp": 1637358656796,
     "user": {
      "displayName": "Maria Julliette Marin Alarcon",
      "photoUrl": "https://lh3.googleusercontent.com/a/default-user=s64",
      "userId": "14948341870893292997"
     },
     "user_tz": 240
    },
    "id": "aRo0406p_mCJ",
    "outputId": "a988013b-1464-4add-9df8-8609c7da7c67"
   },
   "outputs": [
    {
     "name": "stdout",
     "output_type": "stream",
     "text": [
      "The code is: 123.6789\n"
     ]
    }
   ],
   "source": [
    "print(f\"The code is: {num:.4f}\")"
   ]
  },
  {
   "cell_type": "markdown",
   "metadata": {
    "id": "MxW7c7AQ_mCJ"
   },
   "source": [
    "Por atención a los errores. no podemos formateat una variable que tiene un determinado *tipo de dato* con un *espacificador de formato* distinto."
   ]
  },
  {
   "cell_type": "code",
   "execution_count": 46,
   "metadata": {
    "colab": {
     "base_uri": "https://localhost:8080/",
     "height": 200
    },
    "executionInfo": {
     "elapsed": 233,
     "status": "error",
     "timestamp": 1637358667949,
     "user": {
      "displayName": "Maria Julliette Marin Alarcon",
      "photoUrl": "https://lh3.googleusercontent.com/a/default-user=s64",
      "userId": "14948341870893292997"
     },
     "user_tz": 240
    },
    "id": "O9w_RMe8_mCK",
    "outputId": "2423422a-d967-4515-ee57-30ef83313eb6"
   },
   "outputs": [
    {
     "ename": "ValueError",
     "evalue": "Unknown format code 'd' for object of type 'float'",
     "output_type": "error",
     "traceback": [
      "\u001b[1;31m---------------------------------------------------------------------------\u001b[0m",
      "\u001b[1;31mValueError\u001b[0m                                Traceback (most recent call last)",
      "Input \u001b[1;32mIn [46]\u001b[0m, in \u001b[0;36m<cell line: 3>\u001b[1;34m()\u001b[0m\n\u001b[0;32m      1\u001b[0m \u001b[38;5;66;03m# Acá intentamos formatear un float *num* con un especificador de formato para entedos (d)\u001b[39;00m\n\u001b[0;32m      2\u001b[0m \u001b[38;5;66;03m# Se generará un error\u001b[39;00m\n\u001b[1;32m----> 3\u001b[0m \u001b[38;5;28mprint\u001b[39m(\u001b[38;5;124mf\u001b[39m\u001b[38;5;124m\"\u001b[39m\u001b[38;5;124mThe code is: \u001b[39m\u001b[38;5;132;01m{\u001b[39;00mnum\u001b[38;5;132;01m:\u001b[39;00m\u001b[38;5;124m d\u001b[39m\u001b[38;5;132;01m}\u001b[39;00m\u001b[38;5;124m\"\u001b[39m)\n",
      "\u001b[1;31mValueError\u001b[0m: Unknown format code 'd' for object of type 'float'"
     ]
    }
   ],
   "source": [
    "# Acá intentamos formatear un float *num* con un especificador de formato para entedos (d)\n",
    "# Se generará un error\n",
    "print(f\"The code is: {num: d}\")"
   ]
  },
  {
   "cell_type": "markdown",
   "metadata": {
    "id": "kRY0s-mB_mCK"
   },
   "source": [
    "Excelente hackers !!!"
   ]
  }
 ],
 "metadata": {
  "colab": {
   "name": "FP04-Python-Strings -ok.ipynb",
   "provenance": []
  },
  "kernelspec": {
   "display_name": "Python 3 (ipykernel)",
   "language": "python",
   "name": "python3"
  },
  "language_info": {
   "codemirror_mode": {
    "name": "ipython",
    "version": 3
   },
   "file_extension": ".py",
   "mimetype": "text/x-python",
   "name": "python",
   "nbconvert_exporter": "python",
   "pygments_lexer": "ipython3",
   "version": "3.10.5"
  }
 },
 "nbformat": 4,
 "nbformat_minor": 1
}
