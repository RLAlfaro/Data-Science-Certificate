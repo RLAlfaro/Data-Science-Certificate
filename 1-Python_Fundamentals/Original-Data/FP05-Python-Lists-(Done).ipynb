{
 "cells": [
  {
   "cell_type": "markdown",
   "metadata": {
    "id": "ilZ8c_48Lwau"
   },
   "source": [
    "# **Introducción a Python**\n",
    "# FP05. Listas en Python (Python list)"
   ]
  },
  {
   "cell_type": "markdown",
   "metadata": {
    "id": "wSG34I2cLwa2"
   },
   "source": [
    "## <font color='blue'>**Listas**</font>"
   ]
  },
  {
   "cell_type": "markdown",
   "metadata": {
    "id": "NHVn21mELwa3"
   },
   "source": [
    "Hemos aprendido que las cadenas son secuencias de caracteres. De manera similar, las listas son secuencias de objetos, pueden contener una variedad de tipos de datos en orden y siguen las mismas reglas de secuencia y corchetes de indexación que las cadenas. También pueden admitir tipos de datos mixtos.\n",
    "\n",
    "Exploremos algunos ejemplos útiles:"
   ]
  },
  {
   "cell_type": "code",
   "execution_count": 1,
   "metadata": {
    "id": "16jD4X96Lwa4"
   },
   "outputs": [],
   "source": [
    "# una lista vacía\n",
    "\n",
    "l = []"
   ]
  },
  {
   "cell_type": "code",
   "execution_count": 2,
   "metadata": {
    "colab": {
     "base_uri": "https://localhost:8080/"
    },
    "executionInfo": {
     "elapsed": 271,
     "status": "ok",
     "timestamp": 1637358756461,
     "user": {
      "displayName": "Maria Julliette Marin Alarcon",
      "photoUrl": "https://lh3.googleusercontent.com/a/default-user=s64",
      "userId": "14948341870893292997"
     },
     "user_tz": 240
    },
    "id": "km_xTtODLwa7",
    "outputId": "37b0f8a5-14c2-4bcd-8adf-c9944a9de1f0"
   },
   "outputs": [
    {
     "data": {
      "text/plain": [
       "list"
      ]
     },
     "execution_count": 2,
     "metadata": {},
     "output_type": "execute_result"
    }
   ],
   "source": [
    "type(l)"
   ]
  },
  {
   "cell_type": "code",
   "execution_count": 3,
   "metadata": {
    "id": "HWyV6Hw-Lwa8"
   },
   "outputs": [],
   "source": [
    "# Es pythonista el separar los elementos con un espacio despues de la coma\n",
    "\n",
    "my_list = [1, 2, 3]"
   ]
  },
  {
   "cell_type": "code",
   "execution_count": 4,
   "metadata": {
    "colab": {
     "base_uri": "https://localhost:8080/"
    },
    "executionInfo": {
     "elapsed": 253,
     "status": "ok",
     "timestamp": 1637358761846,
     "user": {
      "displayName": "Maria Julliette Marin Alarcon",
      "photoUrl": "https://lh3.googleusercontent.com/a/default-user=s64",
      "userId": "14948341870893292997"
     },
     "user_tz": 240
    },
    "id": "63ymXgk8Lwa9",
    "outputId": "80c60c34-4371-4c38-d427-7be85ee00e37"
   },
   "outputs": [
    {
     "data": {
      "text/plain": [
       "[1, 2, 3]"
      ]
     },
     "execution_count": 4,
     "metadata": {},
     "output_type": "execute_result"
    }
   ],
   "source": [
    "my_list"
   ]
  },
  {
   "cell_type": "code",
   "execution_count": 5,
   "metadata": {
    "id": "9ZCkqVchLwa-"
   },
   "outputs": [],
   "source": [
    "my_list2 = ['a', 'b', 'c']"
   ]
  },
  {
   "cell_type": "code",
   "execution_count": 6,
   "metadata": {
    "colab": {
     "base_uri": "https://localhost:8080/"
    },
    "executionInfo": {
     "elapsed": 287,
     "status": "ok",
     "timestamp": 1637358766767,
     "user": {
      "displayName": "Maria Julliette Marin Alarcon",
      "photoUrl": "https://lh3.googleusercontent.com/a/default-user=s64",
      "userId": "14948341870893292997"
     },
     "user_tz": 240
    },
    "id": "B7y6D-22Lwa_",
    "outputId": "86736c8b-fc25-484b-d71a-c85fdfd658f2"
   },
   "outputs": [
    {
     "data": {
      "text/plain": [
       "['a', 'b', 'c']"
      ]
     },
     "execution_count": 6,
     "metadata": {},
     "output_type": "execute_result"
    }
   ],
   "source": [
    "my_list2"
   ]
  },
  {
   "cell_type": "code",
   "execution_count": 7,
   "metadata": {
    "id": "ruvQqOSxLwbA"
   },
   "outputs": [],
   "source": [
    "a = 100\n",
    "b = 200\n",
    "c = 300\n",
    "my_list3 = [a, b, c]"
   ]
  },
  {
   "cell_type": "code",
   "execution_count": 8,
   "metadata": {
    "colab": {
     "base_uri": "https://localhost:8080/"
    },
    "executionInfo": {
     "elapsed": 296,
     "status": "ok",
     "timestamp": 1637358774294,
     "user": {
      "displayName": "Maria Julliette Marin Alarcon",
      "photoUrl": "https://lh3.googleusercontent.com/a/default-user=s64",
      "userId": "14948341870893292997"
     },
     "user_tz": 240
    },
    "id": "pnDEdq8FLwbB",
    "outputId": "129b2209-56f1-4cec-acab-b49572020d71"
   },
   "outputs": [
    {
     "data": {
      "text/plain": [
       "[1, 2, 3]"
      ]
     },
     "execution_count": 8,
     "metadata": {},
     "output_type": "execute_result"
    }
   ],
   "source": [
    "my_list"
   ]
  },
  {
   "cell_type": "markdown",
   "metadata": {
    "id": "KQETkhxfLwbB"
   },
   "source": [
    "## <font color='green'>Actividad 1:</font> \n",
    "### Crea tu propia lista con 5 elementos del mismo tipo\n",
    "Puede ser cualquier tipo de dato de los ya aprendidos"
   ]
  },
  {
   "cell_type": "code",
   "execution_count": 9,
   "metadata": {
    "executionInfo": {
     "elapsed": 15,
     "status": "ok",
     "timestamp": 1638493161653,
     "user": {
      "displayName": "Maria Julliette Marin Alarcon",
      "photoUrl": "https://lh3.googleusercontent.com/a/default-user=s64",
      "userId": "14948341870893292997"
     },
     "user_tz": 240
    },
    "id": "Ey9JgXRZLwbC"
   },
   "outputs": [],
   "source": [
    "# Tu código aquí ...\n",
    "# Elementos de la lista de tipo int\n",
    "h = 100\n",
    "i = 200\n",
    "j = 300\n",
    "k = 400\n",
    "ll = 500\n",
    "# Creación de lista con los elementos anteriores\n",
    "my_list5 = [h, i, j, k, ll]\n"
   ]
  },
  {
   "cell_type": "markdown",
   "metadata": {
    "id": "5AIM9lxiLwbC"
   },
   "source": [
    "<font color='green'>Fin actividad 1</font>"
   ]
  },
  {
   "cell_type": "markdown",
   "metadata": {
    "id": "ZWUJHURyLwbC"
   },
   "source": [
    "## <font color='green'>Actividad 2:</font> \n",
    "### Crea tu propia lista con 5 elementos de distinto tipo"
   ]
  },
  {
   "cell_type": "code",
   "execution_count": 10,
   "metadata": {
    "executionInfo": {
     "elapsed": 275,
     "status": "ok",
     "timestamp": 1638493235357,
     "user": {
      "displayName": "Maria Julliette Marin Alarcon",
      "photoUrl": "https://lh3.googleusercontent.com/a/default-user=s64",
      "userId": "14948341870893292997"
     },
     "user_tz": 240
    },
    "id": "rttwFKqYLwbD"
   },
   "outputs": [],
   "source": [
    "# Tu código aquí ...\n",
    "# Elementos de distinto tipo: string, int, float, lista, tupla\n",
    "h1 = 'uno'\n",
    "i1 = 200\n",
    "j1 = 3.0\n",
    "k1 = [1,2,3]\n",
    "ll1 = (4,5,6)\n",
    "# Creación de lista con elementos anteriores\n",
    "my_list6 = [h1, i1, j1, k1, ll1]"
   ]
  },
  {
   "cell_type": "markdown",
   "metadata": {
    "id": "tjfKsuogLwbD"
   },
   "source": [
    "<font color='green'>Fin actividad 2</font>"
   ]
  },
  {
   "cell_type": "markdown",
   "metadata": {
    "id": "hHp9tJg9LwbE"
   },
   "source": [
    "## <font color='blue'>**Indexing y Slicing**</font>\n",
    "\n",
    "Esto funciona igual que con los string!"
   ]
  },
  {
   "cell_type": "code",
   "execution_count": 11,
   "metadata": {
    "executionInfo": {
     "elapsed": 427,
     "status": "ok",
     "timestamp": 1638493274320,
     "user": {
      "displayName": "Maria Julliette Marin Alarcon",
      "photoUrl": "https://lh3.googleusercontent.com/a/default-user=s64",
      "userId": "14948341870893292997"
     },
     "user_tz": 240
    },
    "id": "4DBNrGBNLwbE"
   },
   "outputs": [],
   "source": [
    "mylist = ['a', 'b', 'c', 'd']"
   ]
  },
  {
   "cell_type": "code",
   "execution_count": 12,
   "metadata": {
    "colab": {
     "base_uri": "https://localhost:8080/",
     "height": 35
    },
    "executionInfo": {
     "elapsed": 8,
     "status": "ok",
     "timestamp": 1637358968455,
     "user": {
      "displayName": "Maria Julliette Marin Alarcon",
      "photoUrl": "https://lh3.googleusercontent.com/a/default-user=s64",
      "userId": "14948341870893292997"
     },
     "user_tz": 240
    },
    "id": "PEwAJzIdLwbE",
    "outputId": "919ae2e9-13f6-4ad7-e06d-5c0e378a2aba"
   },
   "outputs": [
    {
     "data": {
      "text/plain": [
       "'a'"
      ]
     },
     "execution_count": 12,
     "metadata": {},
     "output_type": "execute_result"
    }
   ],
   "source": [
    "# el idexing parte de 0\n",
    "\n",
    "mylist[0]"
   ]
  },
  {
   "cell_type": "code",
   "execution_count": 13,
   "metadata": {
    "colab": {
     "base_uri": "https://localhost:8080/"
    },
    "executionInfo": {
     "elapsed": 322,
     "status": "ok",
     "timestamp": 1637358970605,
     "user": {
      "displayName": "Maria Julliette Marin Alarcon",
      "photoUrl": "https://lh3.googleusercontent.com/a/default-user=s64",
      "userId": "14948341870893292997"
     },
     "user_tz": 240
    },
    "id": "TVMAHnk1LwbF",
    "outputId": "f2797dc3-2ba5-4c3e-cbe7-a69e688355e3"
   },
   "outputs": [
    {
     "data": {
      "text/plain": [
       "['a', 'b', 'c']"
      ]
     },
     "execution_count": 13,
     "metadata": {},
     "output_type": "execute_result"
    }
   ],
   "source": [
    "# y el slicing no considera el último número\n",
    "\n",
    "mylist[0:3]"
   ]
  },
  {
   "cell_type": "code",
   "execution_count": 14,
   "metadata": {
    "colab": {
     "base_uri": "https://localhost:8080/",
     "height": 35
    },
    "executionInfo": {
     "elapsed": 275,
     "status": "ok",
     "timestamp": 1637358974095,
     "user": {
      "displayName": "Maria Julliette Marin Alarcon",
      "photoUrl": "https://lh3.googleusercontent.com/a/default-user=s64",
      "userId": "14948341870893292997"
     },
     "user_tz": 240
    },
    "id": "sMKuNYJvLwbF",
    "outputId": "75518594-b662-4acf-bd13-2b5dee119ebe"
   },
   "outputs": [
    {
     "data": {
      "text/plain": [
       "'d'"
      ]
     },
     "execution_count": 14,
     "metadata": {},
     "output_type": "execute_result"
    }
   ],
   "source": [
    "# podemos usar idexing inverso\n",
    "\n",
    "mylist[-1]"
   ]
  },
  {
   "cell_type": "code",
   "execution_count": 15,
   "metadata": {
    "colab": {
     "base_uri": "https://localhost:8080/"
    },
    "executionInfo": {
     "elapsed": 241,
     "status": "ok",
     "timestamp": 1637358981103,
     "user": {
      "displayName": "Maria Julliette Marin Alarcon",
      "photoUrl": "https://lh3.googleusercontent.com/a/default-user=s64",
      "userId": "14948341870893292997"
     },
     "user_tz": 240
    },
    "id": "v8jzY0q5LwbG",
    "outputId": "f72196e5-1e10-4a26-8e5a-110fe551a144"
   },
   "outputs": [
    {
     "data": {
      "text/plain": [
       "['a', 'c']"
      ]
     },
     "execution_count": 15,
     "metadata": {},
     "output_type": "execute_result"
    }
   ],
   "source": [
    "# ... con paso\n",
    "mylist[0::2]"
   ]
  },
  {
   "cell_type": "code",
   "execution_count": 16,
   "metadata": {
    "colab": {
     "base_uri": "https://localhost:8080/"
    },
    "executionInfo": {
     "elapsed": 263,
     "status": "ok",
     "timestamp": 1637358984626,
     "user": {
      "displayName": "Maria Julliette Marin Alarcon",
      "photoUrl": "https://lh3.googleusercontent.com/a/default-user=s64",
      "userId": "14948341870893292997"
     },
     "user_tz": 240
    },
    "id": "IzELXuSNLwbH",
    "outputId": "36f56b19-54f2-4abd-cc94-4d242f2b26b8"
   },
   "outputs": [
    {
     "data": {
      "text/plain": [
       "['d', 'c', 'b', 'a']"
      ]
     },
     "execution_count": 16,
     "metadata": {},
     "output_type": "execute_result"
    }
   ],
   "source": [
    "# ... con paso inverso\n",
    "mylist[-1::-1]"
   ]
  },
  {
   "cell_type": "markdown",
   "metadata": {
    "id": "uM7iZncOLwbH"
   },
   "source": [
    "## <font color='green'>Actividad 3:</font>\n",
    "### Seleciona el 2do y 3er elemento de *mylist* usando *slicing*"
   ]
  },
  {
   "cell_type": "code",
   "execution_count": 17,
   "metadata": {
    "colab": {
     "base_uri": "https://localhost:8080/"
    },
    "executionInfo": {
     "elapsed": 309,
     "status": "ok",
     "timestamp": 1638493277387,
     "user": {
      "displayName": "Maria Julliette Marin Alarcon",
      "photoUrl": "https://lh3.googleusercontent.com/a/default-user=s64",
      "userId": "14948341870893292997"
     },
     "user_tz": 240
    },
    "id": "-YzpFPYdLwbI",
    "outputId": "471c4e25-09a2-4361-aa53-6fa9694c3b84"
   },
   "outputs": [
    {
     "data": {
      "text/plain": [
       "['b', 'c']"
      ]
     },
     "execution_count": 17,
     "metadata": {},
     "output_type": "execute_result"
    }
   ],
   "source": [
    "# Tu código aquí ...\n",
    "# Seleción el 2do y 3er elemento de mylist usando slicing\n",
    "mylist[1:3]\n"
   ]
  },
  {
   "cell_type": "markdown",
   "metadata": {
    "id": "DJQk8uuvLwbI"
   },
   "source": [
    "<font color='green'>Fin actividad 3</font>"
   ]
  },
  {
   "cell_type": "markdown",
   "metadata": {
    "id": "NjsvPTJ0LwbI"
   },
   "source": [
    "## La función len()\n",
    "\n",
    "Python tiene funciones integradas a las que puede llamar. Lentamente presentaremos más de ellos a medida que las necesitemos. Una función incorporada útil es la función **len()**, la cual devuelve la longitud de un objeto. Observe el color de la letra en su sintaxis, ese color indica que es una función incorporada. Si ve que este resaltado automático ocurre al elegir su propio nombre de variable, entonces debe elegir un nombre de variable diferente, para no sobrescribir accidentalmente la función."
   ]
  },
  {
   "cell_type": "code",
   "execution_count": 18,
   "metadata": {
    "colab": {
     "base_uri": "https://localhost:8080/"
    },
    "executionInfo": {
     "elapsed": 311,
     "status": "ok",
     "timestamp": 1637359033504,
     "user": {
      "displayName": "Maria Julliette Marin Alarcon",
      "photoUrl": "https://lh3.googleusercontent.com/a/default-user=s64",
      "userId": "14948341870893292997"
     },
     "user_tz": 240
    },
    "id": "155tjsNoLwbJ",
    "outputId": "997ab9b4-1cac-407c-eebf-ca00b458d037"
   },
   "outputs": [
    {
     "data": {
      "text/plain": [
       "6"
      ]
     },
     "execution_count": 18,
     "metadata": {},
     "output_type": "execute_result"
    }
   ],
   "source": [
    "len('string')"
   ]
  },
  {
   "cell_type": "code",
   "execution_count": 19,
   "metadata": {
    "colab": {
     "base_uri": "https://localhost:8080/"
    },
    "executionInfo": {
     "elapsed": 276,
     "status": "ok",
     "timestamp": 1637359086384,
     "user": {
      "displayName": "Maria Julliette Marin Alarcon",
      "photoUrl": "https://lh3.googleusercontent.com/a/default-user=s64",
      "userId": "14948341870893292997"
     },
     "user_tz": 240
    },
    "id": "13S2QKndLwbJ",
    "outputId": "6236bca0-4fb8-488b-bd59-405d7045496c"
   },
   "outputs": [
    {
     "data": {
      "text/plain": [
       "3"
      ]
     },
     "execution_count": 19,
     "metadata": {},
     "output_type": "execute_result"
    }
   ],
   "source": [
    "len(my_list)"
   ]
  },
  {
   "cell_type": "markdown",
   "metadata": {
    "id": "C8YWhEgiLwbJ"
   },
   "source": [
    "## <font color='green'>Actividad 4:</font> \n",
    "### Crea tu propia lista \n",
    "Crea tu propia lista con 4 elementos del mismo tipo y cuenta el largo de la lista con *len()*"
   ]
  },
  {
   "cell_type": "code",
   "execution_count": 20,
   "metadata": {
    "colab": {
     "base_uri": "https://localhost:8080/"
    },
    "executionInfo": {
     "elapsed": 287,
     "status": "ok",
     "timestamp": 1638493333271,
     "user": {
      "displayName": "Maria Julliette Marin Alarcon",
      "photoUrl": "https://lh3.googleusercontent.com/a/default-user=s64",
      "userId": "14948341870893292997"
     },
     "user_tz": 240
    },
    "id": "oQtV5zkzLwbJ",
    "outputId": "270dd014-0d31-4c1a-d3f5-82e02f4b81cb"
   },
   "outputs": [
    {
     "data": {
      "text/plain": [
       "4"
      ]
     },
     "execution_count": 20,
     "metadata": {},
     "output_type": "execute_result"
    }
   ],
   "source": [
    "# Tu código aquí ...\n",
    "# Elementos del mismo tipo que tendrá la lista\n",
    "c= 0\n",
    "x= 2\n",
    "y= 3\n",
    "z= 4\n",
    "# Creación de la lista con elementos mencionados\n",
    "lista=[c,x,y,z]\n",
    "# Contar el largo de la lista con len()\n",
    "len(lista)\n",
    "\n"
   ]
  },
  {
   "cell_type": "markdown",
   "metadata": {
    "id": "e9vzHvfSLwbK"
   },
   "source": [
    "<font color='green'>Fin actividad 4</font>"
   ]
  },
  {
   "cell_type": "markdown",
   "metadata": {
    "id": "Phj2baLPLwbK"
   },
   "source": [
    "## <font color='blue'>**Métodos útiles para listas**</font>\n",
    "\n",
    "Los métodos son funciones que pertenecen a un objeto. En este caso el objeto es la lista. Su formato típico es:\n",
    "```python\n",
    "     mylist = [1, 2, 3]\n",
    "     mylist.some_method()\n",
    "```    \n",
    "¡Atención con los paréntesis! \n",
    "\n",
    "Repasemos algunos métodos útiles relacionados con las listas."
   ]
  },
  {
   "cell_type": "code",
   "execution_count": 21,
   "metadata": {
    "id": "9mN-QNaXLwbK"
   },
   "outputs": [],
   "source": [
    "mylist = [1, 2, 3]"
   ]
  },
  {
   "cell_type": "code",
   "execution_count": 22,
   "metadata": {
    "id": "2dYJ0RN-LwbL"
   },
   "outputs": [],
   "source": [
    "# Descubre qué hace el método append()\n",
    "mylist.append(4)"
   ]
  },
  {
   "cell_type": "code",
   "execution_count": 23,
   "metadata": {
    "colab": {
     "base_uri": "https://localhost:8080/"
    },
    "executionInfo": {
     "elapsed": 241,
     "status": "ok",
     "timestamp": 1637359253645,
     "user": {
      "displayName": "Maria Julliette Marin Alarcon",
      "photoUrl": "https://lh3.googleusercontent.com/a/default-user=s64",
      "userId": "14948341870893292997"
     },
     "user_tz": 240
    },
    "id": "PU5LF8IkLwbL",
    "outputId": "d67d6b61-aee5-4b7f-b52a-373898c28f21"
   },
   "outputs": [
    {
     "data": {
      "text/plain": [
       "[1, 2, 3, 4]"
      ]
     },
     "execution_count": 23,
     "metadata": {},
     "output_type": "execute_result"
    }
   ],
   "source": [
    "mylist"
   ]
  },
  {
   "cell_type": "code",
   "execution_count": 24,
   "metadata": {
    "colab": {
     "base_uri": "https://localhost:8080/"
    },
    "executionInfo": {
     "elapsed": 380,
     "status": "ok",
     "timestamp": 1637359320491,
     "user": {
      "displayName": "Maria Julliette Marin Alarcon",
      "photoUrl": "https://lh3.googleusercontent.com/a/default-user=s64",
      "userId": "14948341870893292997"
     },
     "user_tz": 240
    },
    "id": "POaQN8L4LwbM",
    "outputId": "cf1964ad-dd7b-4fea-d137-7c013f24cbd9"
   },
   "outputs": [
    {
     "data": {
      "text/plain": [
       "4"
      ]
     },
     "execution_count": 24,
     "metadata": {},
     "output_type": "execute_result"
    }
   ],
   "source": [
    "# Descubre qué hace el método pop()\n",
    "mylist.pop()"
   ]
  },
  {
   "cell_type": "code",
   "execution_count": 25,
   "metadata": {
    "colab": {
     "base_uri": "https://localhost:8080/"
    },
    "executionInfo": {
     "elapsed": 283,
     "status": "ok",
     "timestamp": 1637359326005,
     "user": {
      "displayName": "Maria Julliette Marin Alarcon",
      "photoUrl": "https://lh3.googleusercontent.com/a/default-user=s64",
      "userId": "14948341870893292997"
     },
     "user_tz": 240
    },
    "id": "mhI7zQbOLwbM",
    "outputId": "2caba290-4557-41c4-de95-dbdfcf819b4d"
   },
   "outputs": [
    {
     "data": {
      "text/plain": [
       "[1, 2, 3]"
      ]
     },
     "execution_count": 25,
     "metadata": {},
     "output_type": "execute_result"
    }
   ],
   "source": [
    "mylist"
   ]
  },
  {
   "cell_type": "code",
   "execution_count": 26,
   "metadata": {
    "colab": {
     "base_uri": "https://localhost:8080/"
    },
    "executionInfo": {
     "elapsed": 659,
     "status": "ok",
     "timestamp": 1637359361786,
     "user": {
      "displayName": "Maria Julliette Marin Alarcon",
      "photoUrl": "https://lh3.googleusercontent.com/a/default-user=s64",
      "userId": "14948341870893292997"
     },
     "user_tz": 240
    },
    "id": "P6AxhtnkLwbN",
    "outputId": "f3c8069f-e4d5-4953-c683-af2dddd28c95"
   },
   "outputs": [
    {
     "data": {
      "text/plain": [
       "<function list.append(object, /)>"
      ]
     },
     "execution_count": 26,
     "metadata": {},
     "output_type": "execute_result"
    }
   ],
   "source": [
    "# Si no pones los paréntesis te devuelte el tipo de objeto; en este caso una función\n",
    "mylist.append"
   ]
  },
  {
   "cell_type": "code",
   "execution_count": 27,
   "metadata": {
    "id": "iqsIFm2DLwbN"
   },
   "outputs": [],
   "source": [
    "mylist.append(4)"
   ]
  },
  {
   "cell_type": "code",
   "execution_count": 28,
   "metadata": {
    "colab": {
     "base_uri": "https://localhost:8080/"
    },
    "executionInfo": {
     "elapsed": 254,
     "status": "ok",
     "timestamp": 1637359368551,
     "user": {
      "displayName": "Maria Julliette Marin Alarcon",
      "photoUrl": "https://lh3.googleusercontent.com/a/default-user=s64",
      "userId": "14948341870893292997"
     },
     "user_tz": 240
    },
    "id": "uvKa7v3vLwbN",
    "outputId": "7e7115bf-74d3-41e3-9ed6-dc5bf39dbad9"
   },
   "outputs": [
    {
     "data": {
      "text/plain": [
       "[1, 2, 3, 4]"
      ]
     },
     "execution_count": 28,
     "metadata": {},
     "output_type": "execute_result"
    }
   ],
   "source": [
    "mylist"
   ]
  },
  {
   "cell_type": "code",
   "execution_count": 29,
   "metadata": {
    "id": "KWn7kt_KLwbO"
   },
   "outputs": [],
   "source": [
    "item = mylist.pop()"
   ]
  },
  {
   "cell_type": "code",
   "execution_count": 30,
   "metadata": {
    "colab": {
     "base_uri": "https://localhost:8080/"
    },
    "executionInfo": {
     "elapsed": 287,
     "status": "ok",
     "timestamp": 1637359375645,
     "user": {
      "displayName": "Maria Julliette Marin Alarcon",
      "photoUrl": "https://lh3.googleusercontent.com/a/default-user=s64",
      "userId": "14948341870893292997"
     },
     "user_tz": 240
    },
    "id": "AZtU5aKGLwbO",
    "outputId": "ad0e9ed2-59c0-4a2d-e3ae-b671345ee3f5"
   },
   "outputs": [
    {
     "data": {
      "text/plain": [
       "4"
      ]
     },
     "execution_count": 30,
     "metadata": {},
     "output_type": "execute_result"
    }
   ],
   "source": [
    "item"
   ]
  },
  {
   "cell_type": "code",
   "execution_count": 31,
   "metadata": {
    "colab": {
     "base_uri": "https://localhost:8080/"
    },
    "executionInfo": {
     "elapsed": 339,
     "status": "ok",
     "timestamp": 1637359378683,
     "user": {
      "displayName": "Maria Julliette Marin Alarcon",
      "photoUrl": "https://lh3.googleusercontent.com/a/default-user=s64",
      "userId": "14948341870893292997"
     },
     "user_tz": 240
    },
    "id": "XOVebqaJLwbO",
    "outputId": "9053049c-1e5d-4062-92bf-35ee323653c1"
   },
   "outputs": [
    {
     "data": {
      "text/plain": [
       "[1, 2, 3]"
      ]
     },
     "execution_count": 31,
     "metadata": {},
     "output_type": "execute_result"
    }
   ],
   "source": [
    "mylist"
   ]
  },
  {
   "cell_type": "code",
   "execution_count": 32,
   "metadata": {
    "id": "eTh0UxDrLwbP"
   },
   "outputs": [],
   "source": [
    "first_item = mylist.pop(0)"
   ]
  },
  {
   "cell_type": "code",
   "execution_count": 33,
   "metadata": {
    "colab": {
     "base_uri": "https://localhost:8080/"
    },
    "executionInfo": {
     "elapsed": 4,
     "status": "ok",
     "timestamp": 1637359383925,
     "user": {
      "displayName": "Maria Julliette Marin Alarcon",
      "photoUrl": "https://lh3.googleusercontent.com/a/default-user=s64",
      "userId": "14948341870893292997"
     },
     "user_tz": 240
    },
    "id": "s2Ydqg-HLwbP",
    "outputId": "5a02c4f7-4ba5-405f-ecf7-df21eca2c60f"
   },
   "outputs": [
    {
     "data": {
      "text/plain": [
       "1"
      ]
     },
     "execution_count": 33,
     "metadata": {},
     "output_type": "execute_result"
    }
   ],
   "source": [
    "first_item"
   ]
  },
  {
   "cell_type": "code",
   "execution_count": 34,
   "metadata": {
    "colab": {
     "base_uri": "https://localhost:8080/"
    },
    "executionInfo": {
     "elapsed": 3,
     "status": "ok",
     "timestamp": 1637359385840,
     "user": {
      "displayName": "Maria Julliette Marin Alarcon",
      "photoUrl": "https://lh3.googleusercontent.com/a/default-user=s64",
      "userId": "14948341870893292997"
     },
     "user_tz": 240
    },
    "id": "1CqBmE0hLwbP",
    "outputId": "8857818e-c436-4893-aa87-e0f91e560871"
   },
   "outputs": [
    {
     "data": {
      "text/plain": [
       "[2, 3]"
      ]
     },
     "execution_count": 34,
     "metadata": {},
     "output_type": "execute_result"
    }
   ],
   "source": [
    "mylist"
   ]
  },
  {
   "cell_type": "code",
   "execution_count": 35,
   "metadata": {
    "id": "eUuU2J80LwbQ"
   },
   "outputs": [],
   "source": [
    "mylist = [1, 2, 3]"
   ]
  },
  {
   "cell_type": "code",
   "execution_count": 36,
   "metadata": {
    "id": "YhfDi9nlLwbQ"
   },
   "outputs": [],
   "source": [
    "# Este método no devuelve nada.\n",
    "# En su lugar, realiza la acción \"in situ\", o en la misma lista sin devolver nada.\n",
    "# Descubre qué hace...\n",
    "\n",
    "mylist.reverse ()"
   ]
  },
  {
   "cell_type": "code",
   "execution_count": 37,
   "metadata": {
    "colab": {
     "base_uri": "https://localhost:8080/"
    },
    "executionInfo": {
     "elapsed": 321,
     "status": "ok",
     "timestamp": 1637359400560,
     "user": {
      "displayName": "Maria Julliette Marin Alarcon",
      "photoUrl": "https://lh3.googleusercontent.com/a/default-user=s64",
      "userId": "14948341870893292997"
     },
     "user_tz": 240
    },
    "id": "CsZXcc2nLwbQ",
    "outputId": "3dac7f84-141e-4f39-b642-51b93fa23bb0"
   },
   "outputs": [
    {
     "data": {
      "text/plain": [
       "[3, 2, 1]"
      ]
     },
     "execution_count": 37,
     "metadata": {},
     "output_type": "execute_result"
    }
   ],
   "source": [
    "mylist"
   ]
  },
  {
   "cell_type": "code",
   "execution_count": 38,
   "metadata": {
    "colab": {
     "base_uri": "https://localhost:8080/"
    },
    "executionInfo": {
     "elapsed": 244,
     "status": "ok",
     "timestamp": 1637359435939,
     "user": {
      "displayName": "Maria Julliette Marin Alarcon",
      "photoUrl": "https://lh3.googleusercontent.com/a/default-user=s64",
      "userId": "14948341870893292997"
     },
     "user_tz": 240
    },
    "id": "vThAHOK6LwbR",
    "outputId": "c3798933-d901-47f6-d8d5-30f6b6c25eae"
   },
   "outputs": [
    {
     "data": {
      "text/plain": [
       "[3, 2, 1, 6, 5, 4]"
      ]
     },
     "execution_count": 38,
     "metadata": {},
     "output_type": "execute_result"
    }
   ],
   "source": [
    "mylist = [3, 2, 1, 6, 5, 4]\n",
    "mylist"
   ]
  },
  {
   "cell_type": "code",
   "execution_count": 39,
   "metadata": {
    "id": "q35B9fHxLwbR"
   },
   "outputs": [],
   "source": [
    "# Este método ordena la lista pero sin devolver nada. A esto se le denomina \"in place\"\n",
    "\n",
    "mylist.sort()"
   ]
  },
  {
   "cell_type": "code",
   "execution_count": 40,
   "metadata": {
    "colab": {
     "base_uri": "https://localhost:8080/"
    },
    "executionInfo": {
     "elapsed": 302,
     "status": "ok",
     "timestamp": 1637359477623,
     "user": {
      "displayName": "Maria Julliette Marin Alarcon",
      "photoUrl": "https://lh3.googleusercontent.com/a/default-user=s64",
      "userId": "14948341870893292997"
     },
     "user_tz": 240
    },
    "id": "JKriSps1LwbR",
    "outputId": "ca74cce4-7a1e-459d-deae-9c2e793f12ed"
   },
   "outputs": [
    {
     "data": {
      "text/plain": [
       "[1, 2, 3, 4, 5, 6]"
      ]
     },
     "execution_count": 40,
     "metadata": {},
     "output_type": "execute_result"
    }
   ],
   "source": [
    "mylist"
   ]
  },
  {
   "cell_type": "code",
   "execution_count": 41,
   "metadata": {
    "colab": {
     "base_uri": "https://localhost:8080/"
    },
    "executionInfo": {
     "elapsed": 759,
     "status": "ok",
     "timestamp": 1637359504844,
     "user": {
      "displayName": "Maria Julliette Marin Alarcon",
      "photoUrl": "https://lh3.googleusercontent.com/a/default-user=s64",
      "userId": "14948341870893292997"
     },
     "user_tz": 240
    },
    "id": "G4tIsVdiLwbS",
    "outputId": "fc04ebe6-2245-418d-fed5-19e8c6954629"
   },
   "outputs": [
    {
     "name": "stdout",
     "output_type": "stream",
     "text": [
      "<class 'list'>\n"
     ]
    }
   ],
   "source": [
    "# Creemos otra lista\n",
    "\n",
    "names = []\n",
    "\n",
    "# verifiquemos su tipo con type()\n",
    "print(type(names))"
   ]
  },
  {
   "cell_type": "code",
   "execution_count": 42,
   "metadata": {
    "colab": {
     "base_uri": "https://localhost:8080/"
    },
    "executionInfo": {
     "elapsed": 293,
     "status": "ok",
     "timestamp": 1637359510787,
     "user": {
      "displayName": "Maria Julliette Marin Alarcon",
      "photoUrl": "https://lh3.googleusercontent.com/a/default-user=s64",
      "userId": "14948341870893292997"
     },
     "user_tz": 240
    },
    "id": "cwReaRipLwbX",
    "outputId": "d5e78823-d5e7-4cba-ad9e-543ffe4f3f9e"
   },
   "outputs": [
    {
     "data": {
      "text/plain": [
       "['Matías']"
      ]
     },
     "execution_count": 42,
     "metadata": {},
     "output_type": "execute_result"
    }
   ],
   "source": [
    "# Agregemos un nombre a name \n",
    "\n",
    "names.append('Matías')\n",
    "names"
   ]
  },
  {
   "cell_type": "code",
   "execution_count": 43,
   "metadata": {
    "colab": {
     "base_uri": "https://localhost:8080/"
    },
    "executionInfo": {
     "elapsed": 426,
     "status": "ok",
     "timestamp": 1637359513831,
     "user": {
      "displayName": "Maria Julliette Marin Alarcon",
      "photoUrl": "https://lh3.googleusercontent.com/a/default-user=s64",
      "userId": "14948341870893292997"
     },
     "user_tz": 240
    },
    "id": "mi664kmLLwbX",
    "outputId": "65e56737-0954-4513-ce91-5679ce8eb01f"
   },
   "outputs": [
    {
     "data": {
      "text/plain": [
       "['Matías', 'Isidora', 'Flo']"
      ]
     },
     "execution_count": 43,
     "metadata": {},
     "output_type": "execute_result"
    }
   ],
   "source": [
    "# Más nombres ...\n",
    "\n",
    "names.append('Isidora')\n",
    "names.append('Flo')\n",
    "names"
   ]
  },
  {
   "cell_type": "markdown",
   "metadata": {
    "id": "0dMTR2y9LwbY"
   },
   "source": [
    "## <font color='green'>Actividad 5:</font> \n",
    "### Crea tu propia lista con los nombres de los compañeros de tu grupo de trabajo o curso. \n",
    "Usa el metodo *append()*.<br>\n",
    "Añade 5 nombres<br>\n",
    "Te aprendiste ya los nombres de tus compañeros de curso?"
   ]
  },
  {
   "cell_type": "code",
   "execution_count": 44,
   "metadata": {
    "executionInfo": {
     "elapsed": 304,
     "status": "ok",
     "timestamp": 1638493414235,
     "user": {
      "displayName": "Maria Julliette Marin Alarcon",
      "photoUrl": "https://lh3.googleusercontent.com/a/default-user=s64",
      "userId": "14948341870893292997"
     },
     "user_tz": 240
    },
    "id": "k-WFwZShLwbY"
   },
   "outputs": [],
   "source": [
    "# Tu código a quí ...\n",
    "# Creación de la lista donde se incluirán los nombres de los integrantes del grupo\n",
    "nombres_grupo=[]\n",
    "# Agregando integrantes a la lista con el método append()\n",
    "nombres_grupo.append('Roberto')\n",
    "nombres_grupo.append('Nicolas')\n",
    "nombres_grupo.append('Patricio')\n",
    "nombres_grupo.append('Jullie')\n",
    "nombres_grupo.append('Nuevo integrante')\n",
    "\n",
    "\n",
    "\n"
   ]
  },
  {
   "cell_type": "markdown",
   "metadata": {
    "id": "VBdALDnQLwbY"
   },
   "source": [
    "<font color='green'>Fin actividad 5</font>"
   ]
  },
  {
   "cell_type": "markdown",
   "metadata": {
    "id": "-yOu7af7LwbY"
   },
   "source": [
    "## <font color='green'>Actividad 6:</font> \n",
    "### Ordena la lista creada en la tarea anterior e imprímela\n",
    "\n",
    "Tip: Investiga cómo desempaquetar (unpack) listas\n",
    "\n",
    "Intenta que quede de esta forma:\n",
    "\n",
    "```python\n",
    "Ana, Andrea, Karla, Pedro, Ronny\n",
    "```\n",
    "y No de esta otra\n",
    "```python\n",
    "['Ana', 'Andrea', 'Karla', 'Pedro', 'Ronny']\n",
    "```"
   ]
  },
  {
   "cell_type": "code",
   "execution_count": 45,
   "metadata": {
    "colab": {
     "base_uri": "https://localhost:8080/"
    },
    "executionInfo": {
     "elapsed": 357,
     "status": "ok",
     "timestamp": 1638493474549,
     "user": {
      "displayName": "Maria Julliette Marin Alarcon",
      "photoUrl": "https://lh3.googleusercontent.com/a/default-user=s64",
      "userId": "14948341870893292997"
     },
     "user_tz": 240
    },
    "id": "qaoRmRpZLwbZ",
    "outputId": "fa2914f1-cbe6-4830-c216-11107950930a"
   },
   "outputs": [
    {
     "name": "stdout",
     "output_type": "stream",
     "text": [
      "Jullie, Nicolas, Nuevo integrante, Patricio, Roberto, "
     ]
    }
   ],
   "source": [
    "# Tu código aquí ...\n",
    "# Ordenar lista \n",
    "nombres_grupo.sort()\n",
    "# Impresión de lista separada por ','\n",
    "for x in nombres_grupo:\n",
    "  print(x,end=', ')\n"
   ]
  },
  {
   "cell_type": "markdown",
   "metadata": {
    "id": "ZiFY2venLwbZ"
   },
   "source": [
    "<font color='green'>Fin actividad 6</font>"
   ]
  },
  {
   "cell_type": "code",
   "execution_count": 46,
   "metadata": {
    "id": "3uB-cmwTLwbZ"
   },
   "outputs": [],
   "source": [
    "# Esto NO VA A FUNCIONAR!\n",
    "# Pero no te vas a dar cuenta\n",
    "\n",
    "result = mylist.reverse()"
   ]
  },
  {
   "cell_type": "code",
   "execution_count": 47,
   "metadata": {
    "id": "1V_XLh-zLwbZ"
   },
   "outputs": [],
   "source": [
    "# Recuerda que reverse() no retorna nada\n",
    "\n",
    "result"
   ]
  },
  {
   "cell_type": "code",
   "execution_count": 48,
   "metadata": {
    "colab": {
     "base_uri": "https://localhost:8080/"
    },
    "executionInfo": {
     "elapsed": 232,
     "status": "ok",
     "timestamp": 1637586928895,
     "user": {
      "displayName": "Maria Julliette Marin Alarcon",
      "photoUrl": "https://lh3.googleusercontent.com/a/default-user=s64",
      "userId": "14948341870893292997"
     },
     "user_tz": 180
    },
    "id": "dQCYddS0LwbZ",
    "outputId": "6d6022af-6946-4949-ba0c-a2b7d32dd08e"
   },
   "outputs": [
    {
     "name": "stdout",
     "output_type": "stream",
     "text": [
      "None\n"
     ]
    }
   ],
   "source": [
    "print(result)"
   ]
  },
  {
   "cell_type": "markdown",
   "metadata": {
    "id": "glm11PpXLwbZ"
   },
   "source": [
    "Otro método interesante: *insert()*"
   ]
  },
  {
   "cell_type": "code",
   "execution_count": 49,
   "metadata": {
    "id": "2h7VLwqsLwba"
   },
   "outputs": [],
   "source": [
    "mylist = [1, 2, 3]\n",
    "mylist.insert(2, 'NEW')"
   ]
  },
  {
   "cell_type": "code",
   "execution_count": 50,
   "metadata": {
    "colab": {
     "base_uri": "https://localhost:8080/"
    },
    "executionInfo": {
     "elapsed": 535,
     "status": "ok",
     "timestamp": 1637587177060,
     "user": {
      "displayName": "Maria Julliette Marin Alarcon",
      "photoUrl": "https://lh3.googleusercontent.com/a/default-user=s64",
      "userId": "14948341870893292997"
     },
     "user_tz": 180
    },
    "id": "c_REuANTLwba",
    "outputId": "d4543f67-f53b-4f22-ec72-0daca1d36045"
   },
   "outputs": [
    {
     "data": {
      "text/plain": [
       "[1, 2, 'NEW', 3]"
      ]
     },
     "execution_count": 50,
     "metadata": {},
     "output_type": "execute_result"
    }
   ],
   "source": [
    "mylist"
   ]
  },
  {
   "cell_type": "markdown",
   "metadata": {
    "id": "ZRbab0aFLwba"
   },
   "source": [
    "## <font color='green'>Actividad 7:</font> \n",
    "### Inserta el número 10 al inicio de *mylist*\n",
    "TIP: usa el método *intert()*"
   ]
  },
  {
   "cell_type": "code",
   "execution_count": 51,
   "metadata": {
    "executionInfo": {
     "elapsed": 321,
     "status": "ok",
     "timestamp": 1638493504379,
     "user": {
      "displayName": "Maria Julliette Marin Alarcon",
      "photoUrl": "https://lh3.googleusercontent.com/a/default-user=s64",
      "userId": "14948341870893292997"
     },
     "user_tz": 240
    },
    "id": "-bgJ-bhTLwba"
   },
   "outputs": [],
   "source": [
    "# Tu código aquí ...\n",
    "# Insertar el número 10 al inicio de mylist\n",
    "mylist.insert(0,10)\n"
   ]
  },
  {
   "cell_type": "markdown",
   "metadata": {
    "id": "g6J3CTyLLwba"
   },
   "source": [
    "<font color='green'>Fin actividad 7</font>"
   ]
  },
  {
   "cell_type": "markdown",
   "metadata": {
    "id": "233TfQcPLwba"
   },
   "source": [
    "## <font color='blue'>**Listas anidadas (Nested Lists)**</font>\n",
    "\n",
    "¡Las listas pueden contener otras listas! Esto se llama lista anidada. Veamos algunos ejemplos."
   ]
  },
  {
   "cell_type": "code",
   "execution_count": 52,
   "metadata": {
    "executionInfo": {
     "elapsed": 290,
     "status": "ok",
     "timestamp": 1638493572970,
     "user": {
      "displayName": "Maria Julliette Marin Alarcon",
      "photoUrl": "https://lh3.googleusercontent.com/a/default-user=s64",
      "userId": "14948341870893292997"
     },
     "user_tz": 240
    },
    "id": "d4QbfOl7Lwbb"
   },
   "outputs": [],
   "source": [
    "new_list = [1, 2, 3, ['a', 'b', 'c']]"
   ]
  },
  {
   "cell_type": "code",
   "execution_count": 53,
   "metadata": {
    "colab": {
     "base_uri": "https://localhost:8080/"
    },
    "executionInfo": {
     "elapsed": 9,
     "status": "ok",
     "timestamp": 1638493574390,
     "user": {
      "displayName": "Maria Julliette Marin Alarcon",
      "photoUrl": "https://lh3.googleusercontent.com/a/default-user=s64",
      "userId": "14948341870893292997"
     },
     "user_tz": 240
    },
    "id": "_QZ1xqDoLwbb",
    "outputId": "92a908c5-5d74-4bcb-ebd9-6c0f60479121"
   },
   "outputs": [
    {
     "data": {
      "text/plain": [
       "list"
      ]
     },
     "execution_count": 53,
     "metadata": {},
     "output_type": "execute_result"
    }
   ],
   "source": [
    "type(new_list)"
   ]
  },
  {
   "cell_type": "code",
   "execution_count": 54,
   "metadata": {
    "colab": {
     "base_uri": "https://localhost:8080/"
    },
    "executionInfo": {
     "elapsed": 10,
     "status": "ok",
     "timestamp": 1638493576292,
     "user": {
      "displayName": "Maria Julliette Marin Alarcon",
      "photoUrl": "https://lh3.googleusercontent.com/a/default-user=s64",
      "userId": "14948341870893292997"
     },
     "user_tz": 240
    },
    "id": "UfABJgoyLwbb",
    "outputId": "c6c3fd77-0e08-4ae1-a171-93a2643a0cb9"
   },
   "outputs": [
    {
     "data": {
      "text/plain": [
       "['a', 'b', 'c']"
      ]
     },
     "execution_count": 54,
     "metadata": {},
     "output_type": "execute_result"
    }
   ],
   "source": [
    "new_list[3]"
   ]
  },
  {
   "cell_type": "code",
   "execution_count": 55,
   "metadata": {
    "id": "BWTXG0zXLwbb"
   },
   "outputs": [
    {
     "data": {
      "text/plain": [
       "'a'"
      ]
     },
     "execution_count": 55,
     "metadata": {},
     "output_type": "execute_result"
    }
   ],
   "source": [
    "# Observa el slicing con dos valores\n",
    "\n",
    "new_list[3][0]"
   ]
  },
  {
   "cell_type": "markdown",
   "metadata": {
    "id": "qvm955l8Lwbb"
   },
   "source": [
    "## <font color='green'>Actividad 8:</font> \n",
    "### Selecciona el 2do elemento de la lista anidada que hay en *new_list*"
   ]
  },
  {
   "cell_type": "code",
   "execution_count": 56,
   "metadata": {
    "colab": {
     "base_uri": "https://localhost:8080/",
     "height": 35
    },
    "executionInfo": {
     "elapsed": 327,
     "status": "ok",
     "timestamp": 1638493579729,
     "user": {
      "displayName": "Maria Julliette Marin Alarcon",
      "photoUrl": "https://lh3.googleusercontent.com/a/default-user=s64",
      "userId": "14948341870893292997"
     },
     "user_tz": 240
    },
    "id": "dbOg71yXLwbb",
    "outputId": "4e8ebcb8-7dc0-47ea-b284-29190c3c49fb"
   },
   "outputs": [
    {
     "data": {
      "text/plain": [
       "'b'"
      ]
     },
     "execution_count": 56,
     "metadata": {},
     "output_type": "execute_result"
    }
   ],
   "source": [
    "# Tu código aquí ...\n",
    "# Selección del 2do elemento de la lista anidada que hay en new_list\n",
    "new_list[-1][1]"
   ]
  },
  {
   "cell_type": "markdown",
   "metadata": {
    "id": "HuBezuoxLwbc"
   },
   "source": [
    "<font color='green'>Fin actividad 8</font>"
   ]
  },
  {
   "cell_type": "markdown",
   "metadata": {
    "id": "Jmww0Bd7Lwbc"
   },
   "source": [
    "## <font color='green'>Actividad 9:</font> \n",
    "### Elimina el último elemento de la lista anidada"
   ]
  },
  {
   "cell_type": "code",
   "execution_count": 57,
   "metadata": {
    "colab": {
     "base_uri": "https://localhost:8080/",
     "height": 35
    },
    "executionInfo": {
     "elapsed": 332,
     "status": "ok",
     "timestamp": 1638493604694,
     "user": {
      "displayName": "Maria Julliette Marin Alarcon",
      "photoUrl": "https://lh3.googleusercontent.com/a/default-user=s64",
      "userId": "14948341870893292997"
     },
     "user_tz": 240
    },
    "id": "n_SurrdpLwbc",
    "outputId": "1f0d3238-7f44-4d97-cdd3-4079234f8c68"
   },
   "outputs": [
    {
     "data": {
      "text/plain": [
       "'c'"
      ]
     },
     "execution_count": 57,
     "metadata": {},
     "output_type": "execute_result"
    }
   ],
   "source": [
    "# Tu código aquí ...\n",
    "# Eliminando el último elemento de la lista anidada\n",
    "new_list[-1].pop(-1)\n",
    "\n"
   ]
  },
  {
   "cell_type": "markdown",
   "metadata": {
    "id": "ZgQJZjc6Lwbc"
   },
   "source": [
    "<font color='green'>Fin actividad 9</font>"
   ]
  },
  {
   "cell_type": "markdown",
   "metadata": {
    "id": "4DamoIEFLwbc"
   },
   "source": [
    "## <font color='blue'>**Copiando listas**</font>"
   ]
  },
  {
   "cell_type": "markdown",
   "metadata": {
    "id": "cM6xXrfELwbc"
   },
   "source": [
    "Ten en cuenta que cuando copias una lista no haces una copia *profunda*."
   ]
  },
  {
   "cell_type": "code",
   "execution_count": 58,
   "metadata": {
    "id": "wjfBJ1O3Lwbd"
   },
   "outputs": [
    {
     "name": "stdout",
     "output_type": "stream",
     "text": [
      "[1, 2, 3]\n"
     ]
    }
   ],
   "source": [
    "l = [1, 2, 3]\n",
    "n = l\n",
    "print(n)"
   ]
  },
  {
   "cell_type": "code",
   "execution_count": 59,
   "metadata": {
    "id": "_KqDV7tfLwbd"
   },
   "outputs": [
    {
     "name": "stdout",
     "output_type": "stream",
     "text": [
      "[1, 2, 3, 4]\n"
     ]
    }
   ],
   "source": [
    "# Modificamos la lista l\n",
    "\n",
    "l.append(4)\n",
    "print(l)"
   ]
  },
  {
   "cell_type": "code",
   "execution_count": 60,
   "metadata": {
    "id": "nyAwYxYhLwbd"
   },
   "outputs": [
    {
     "name": "stdout",
     "output_type": "stream",
     "text": [
      "[1, 2, 3, 4]\n"
     ]
    }
   ],
   "source": [
    "# Miren lo que ocurre con la lista n\n",
    "\n",
    "print(n)"
   ]
  },
  {
   "cell_type": "markdown",
   "metadata": {
    "id": "-PL-qdaALwbd"
   },
   "source": [
    "En el fondo, los nombres de listas ***l*** y ***n*** apuntan al mismo objeto en memoria.<br>\n",
    "Comprobemos esto con la función ***id()***"
   ]
  },
  {
   "cell_type": "code",
   "execution_count": 61,
   "metadata": {
    "id": "aBLXXvUVLwbd"
   },
   "outputs": [
    {
     "data": {
      "text/plain": [
       "True"
      ]
     },
     "execution_count": 61,
     "metadata": {},
     "output_type": "execute_result"
    }
   ],
   "source": [
    "id(l) == id(n)"
   ]
  },
  {
   "cell_type": "code",
   "execution_count": 62,
   "metadata": {
    "id": "SUZd58BTLwbd"
   },
   "outputs": [],
   "source": [
    "# La solución es copiar con la función deepcopy()\n",
    "# Para ello debemos cargar una librería llamada 'copy' la cual tiene la función 'deepcopy()'\n",
    "\n",
    "import copy\n",
    "m = copy.deepcopy(l)"
   ]
  },
  {
   "cell_type": "code",
   "execution_count": 63,
   "metadata": {
    "id": "c78f9qLFLwbe"
   },
   "outputs": [
    {
     "data": {
      "text/plain": [
       "True"
      ]
     },
     "execution_count": 63,
     "metadata": {},
     "output_type": "execute_result"
    }
   ],
   "source": [
    "l == n == m"
   ]
  },
  {
   "cell_type": "code",
   "execution_count": 64,
   "metadata": {
    "id": "3WLN7xa2Lwbe"
   },
   "outputs": [
    {
     "data": {
      "text/plain": [
       "True"
      ]
     },
     "execution_count": 64,
     "metadata": {},
     "output_type": "execute_result"
    }
   ],
   "source": [
    "id(l) == id(n)"
   ]
  },
  {
   "cell_type": "code",
   "execution_count": 65,
   "metadata": {
    "id": "SUb2znWxLwbe"
   },
   "outputs": [
    {
     "data": {
      "text/plain": [
       "False"
      ]
     },
     "execution_count": 65,
     "metadata": {},
     "output_type": "execute_result"
    }
   ],
   "source": [
    "id(l) == id(m)"
   ]
  },
  {
   "cell_type": "code",
   "execution_count": 66,
   "metadata": {
    "id": "9VD-Y3ZLLwbe"
   },
   "outputs": [
    {
     "name": "stdout",
     "output_type": "stream",
     "text": [
      "True\n",
      "False\n"
     ]
    }
   ],
   "source": [
    "l.append(5)\n",
    "print(f'{l == n}')\n",
    "print(f'{l == m}')"
   ]
  },
  {
   "cell_type": "markdown",
   "metadata": {
    "id": "HqAFZwOcLwbe"
   },
   "source": [
    "Eso es todo por ahora hackers, ¡usaremos muchas listas a lo largo de tu entrenamiento!"
   ]
  }
 ],
 "metadata": {
  "colab": {
   "name": "FP05-Python-Lists -ok.ipynb",
   "provenance": []
  },
  "kernelspec": {
   "display_name": "Python 3 (ipykernel)",
   "language": "python",
   "name": "python3"
  },
  "language_info": {
   "codemirror_mode": {
    "name": "ipython",
    "version": 3
   },
   "file_extension": ".py",
   "mimetype": "text/x-python",
   "name": "python",
   "nbconvert_exporter": "python",
   "pygments_lexer": "ipython3",
   "version": "3.10.5"
  }
 },
 "nbformat": 4,
 "nbformat_minor": 1
}
