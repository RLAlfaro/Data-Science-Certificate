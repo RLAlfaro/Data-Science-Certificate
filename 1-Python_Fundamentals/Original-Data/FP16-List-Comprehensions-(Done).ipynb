{
 "cells": [
  {
   "cell_type": "markdown",
   "metadata": {
    "id": "LpSJqSRWpjqK"
   },
   "source": [
    "# **Introducción a Python**\n",
    "# FP16. List Comprehensions"
   ]
  },
  {
   "cell_type": "markdown",
   "metadata": {
    "id": "GdkLwIqWpjqT"
   },
   "source": [
    "Además de las operaciones de secuencia y los métodos de lista, Python incluye una operación más avanzada llamada comprensión de lista.\n",
    "Las **list comprehension** nos permiten construir listas usando una notación diferente. Veamos un ejemplo simple:"
   ]
  },
  {
   "cell_type": "markdown",
   "metadata": {
    "id": "zX-zdN_YpjqU"
   },
   "source": [
    "## <font color='blue'>**list comprehension**</font>\n",
    "\n",
    "La forma más simple de una **list comprehension** en Python es la siguiente:\n",
    "```python\n",
    "list_variable = [expression for item in collection]\n",
    "```\n",
    "\n",
    "Si estás usando un bucle **for** sólo para realizar un *.append( )* a una lista, es posible que desees considerar una *list comprehension*, por ejemplo:"
   ]
  },
  {
   "cell_type": "code",
   "execution_count": 1,
   "metadata": {
    "executionInfo": {
     "elapsed": 14,
     "status": "ok",
     "timestamp": 1638546415115,
     "user": {
      "displayName": "Maria Julliette Marin Alarcon",
      "photoUrl": "https://lh3.googleusercontent.com/a/default-user=s64",
      "userId": "14948341870893292997"
     },
     "user_tz": 240
    },
    "id": "7YzP2HQ0pjqW"
   },
   "outputs": [],
   "source": [
    "mylist = []\n",
    "for let in 'word':\n",
    "    mylist.append(let)"
   ]
  },
  {
   "cell_type": "code",
   "execution_count": 2,
   "metadata": {
    "colab": {
     "base_uri": "https://localhost:8080/"
    },
    "executionInfo": {
     "elapsed": 323,
     "status": "ok",
     "timestamp": 1638546418575,
     "user": {
      "displayName": "Maria Julliette Marin Alarcon",
      "photoUrl": "https://lh3.googleusercontent.com/a/default-user=s64",
      "userId": "14948341870893292997"
     },
     "user_tz": 240
    },
    "id": "WCGs3oR4pjqZ",
    "outputId": "d3f5aa58-fbcb-493e-ddfd-952ab23f03dc"
   },
   "outputs": [
    {
     "data": {
      "text/plain": [
       "['w', 'o', 'r', 'd']"
      ]
     },
     "execution_count": 2,
     "metadata": {},
     "output_type": "execute_result"
    }
   ],
   "source": [
    "mylist"
   ]
  },
  {
   "cell_type": "markdown",
   "metadata": {
    "id": "ToZgGUvDpjqZ"
   },
   "source": [
    "### Ahora lo mismo usando **list comprehension**"
   ]
  },
  {
   "cell_type": "code",
   "execution_count": 3,
   "metadata": {
    "executionInfo": {
     "elapsed": 8,
     "status": "ok",
     "timestamp": 1638546420513,
     "user": {
      "displayName": "Maria Julliette Marin Alarcon",
      "photoUrl": "https://lh3.googleusercontent.com/a/default-user=s64",
      "userId": "14948341870893292997"
     },
     "user_tz": 240
    },
    "id": "VnX5ocGxpjqa"
   },
   "outputs": [],
   "source": [
    "# Toma cada letra en el string\n",
    "\n",
    "myletters = [let for let in 'word']"
   ]
  },
  {
   "cell_type": "code",
   "execution_count": 4,
   "metadata": {
    "colab": {
     "base_uri": "https://localhost:8080/"
    },
    "executionInfo": {
     "elapsed": 634,
     "status": "ok",
     "timestamp": 1638546422067,
     "user": {
      "displayName": "Maria Julliette Marin Alarcon",
      "photoUrl": "https://lh3.googleusercontent.com/a/default-user=s64",
      "userId": "14948341870893292997"
     },
     "user_tz": 240
    },
    "id": "q9sVFg5vpjqb",
    "outputId": "1e5445ed-9d8d-4587-96e5-1f68ed122da4"
   },
   "outputs": [
    {
     "data": {
      "text/plain": [
       "['w', 'o', 'r', 'd']"
      ]
     },
     "execution_count": 4,
     "metadata": {},
     "output_type": "execute_result"
    }
   ],
   "source": [
    "myletters"
   ]
  },
  {
   "cell_type": "markdown",
   "metadata": {
    "id": "WdTbD0E4pjqc"
   },
   "source": [
    "Veamos ejemplos más complejos"
   ]
  },
  {
   "cell_type": "code",
   "execution_count": 5,
   "metadata": {
    "executionInfo": {
     "elapsed": 302,
     "status": "ok",
     "timestamp": 1638546426078,
     "user": {
      "displayName": "Maria Julliette Marin Alarcon",
      "photoUrl": "https://lh3.googleusercontent.com/a/default-user=s64",
      "userId": "14948341870893292997"
     },
     "user_tz": 240
    },
    "id": "ee846sj_pjqd"
   },
   "outputs": [],
   "source": [
    "cuadrados = [x**2 for x in range(0,11)]"
   ]
  },
  {
   "cell_type": "code",
   "execution_count": 6,
   "metadata": {
    "colab": {
     "base_uri": "https://localhost:8080/"
    },
    "executionInfo": {
     "elapsed": 328,
     "status": "ok",
     "timestamp": 1638546428916,
     "user": {
      "displayName": "Maria Julliette Marin Alarcon",
      "photoUrl": "https://lh3.googleusercontent.com/a/default-user=s64",
      "userId": "14948341870893292997"
     },
     "user_tz": 240
    },
    "id": "3_ev1wY2pjqe",
    "outputId": "1bc7c7c5-4cad-4fcd-ebb8-67655f85f440"
   },
   "outputs": [
    {
     "data": {
      "text/plain": [
       "[0, 1, 4, 9, 16, 25, 36, 49, 64, 81, 100]"
      ]
     },
     "execution_count": 6,
     "metadata": {},
     "output_type": "execute_result"
    }
   ],
   "source": [
    "cuadrados"
   ]
  },
  {
   "cell_type": "markdown",
   "metadata": {
    "id": "KyH-KPycpjqe"
   },
   "source": [
    "También podemos usar declaraciones **if** en un **list comprehension**"
   ]
  },
  {
   "cell_type": "code",
   "execution_count": 7,
   "metadata": {
    "executionInfo": {
     "elapsed": 305,
     "status": "ok",
     "timestamp": 1638546432995,
     "user": {
      "displayName": "Maria Julliette Marin Alarcon",
      "photoUrl": "https://lh3.googleusercontent.com/a/default-user=s64",
      "userId": "14948341870893292997"
     },
     "user_tz": 240
    },
    "id": "icCWSDCUpjqf"
   },
   "outputs": [],
   "source": [
    "pares = [x for x in range(0,10) if x%2 == 0]"
   ]
  },
  {
   "cell_type": "code",
   "execution_count": 8,
   "metadata": {
    "colab": {
     "base_uri": "https://localhost:8080/"
    },
    "executionInfo": {
     "elapsed": 404,
     "status": "ok",
     "timestamp": 1638546434810,
     "user": {
      "displayName": "Maria Julliette Marin Alarcon",
      "photoUrl": "https://lh3.googleusercontent.com/a/default-user=s64",
      "userId": "14948341870893292997"
     },
     "user_tz": 240
    },
    "id": "sVeEtGsdpjqf",
    "outputId": "302ac880-3e87-4497-eda5-6aee839d6a15"
   },
   "outputs": [
    {
     "data": {
      "text/plain": [
       "[0, 2, 4, 6, 8]"
      ]
     },
     "execution_count": 8,
     "metadata": {},
     "output_type": "execute_result"
    }
   ],
   "source": [
    "pares"
   ]
  },
  {
   "cell_type": "markdown",
   "metadata": {
    "id": "CLxxL2YXpjqg"
   },
   "source": [
    "o poner multiples condicionales **if** ..."
   ]
  },
  {
   "cell_type": "code",
   "execution_count": 9,
   "metadata": {
    "colab": {
     "base_uri": "https://localhost:8080/"
    },
    "executionInfo": {
     "elapsed": 425,
     "status": "ok",
     "timestamp": 1638546437702,
     "user": {
      "displayName": "Maria Julliette Marin Alarcon",
      "photoUrl": "https://lh3.googleusercontent.com/a/default-user=s64",
      "userId": "14948341870893292997"
     },
     "user_tz": 240
    },
    "id": "n3La5aJKpjqh",
    "outputId": "55ec79a5-b124-4a88-d976-b3712d2e2eed"
   },
   "outputs": [
    {
     "data": {
      "text/plain": [
       "[0, 2, 4]"
      ]
     },
     "execution_count": 9,
     "metadata": {},
     "output_type": "execute_result"
    }
   ],
   "source": [
    "pares = [x for x in range(0,10) if x%2 == 0 if x < 5]\n",
    "pares"
   ]
  },
  {
   "cell_type": "markdown",
   "metadata": {
    "id": "SWiz8Rnapjqi"
   },
   "source": [
    "o anidar múltiples **list comprehension**, unas dentro de otras ..."
   ]
  },
  {
   "cell_type": "code",
   "execution_count": 10,
   "metadata": {
    "colab": {
     "base_uri": "https://localhost:8080/"
    },
    "executionInfo": {
     "elapsed": 392,
     "status": "ok",
     "timestamp": 1638546439492,
     "user": {
      "displayName": "Maria Julliette Marin Alarcon",
      "photoUrl": "https://lh3.googleusercontent.com/a/default-user=s64",
      "userId": "14948341870893292997"
     },
     "user_tz": 240
    },
    "id": "adxiPl9ypjqj",
    "outputId": "91d6f851-ba8f-4c7f-ea90-64aa36ba6a8e"
   },
   "outputs": [
    {
     "data": {
      "text/plain": [
       "[64, 81, 100]"
      ]
     },
     "execution_count": 10,
     "metadata": {},
     "output_type": "execute_result"
    }
   ],
   "source": [
    "[y for y in [x**2 for x in range(0,11)] if y>50]"
   ]
  },
  {
   "cell_type": "markdown",
   "metadata": {
    "id": "cNCTuH1Rpjqj"
   },
   "source": [
    "También puedes hacer una declaración **if / else** en un *list comprehension*, pero ten en cuenta que, en cierto punto, sacrificarás la legibilidad, lo cual es importante en Python. Si tienes problemas para averiguar cómo poner algo en un *list comprehension*, simplemente usa un bucle **for** en su lugar, casi siempre es igual de eficiente.\n",
    "\n",
    "Ten en cuenta que el orden cambia al agregar la instrucción **if / else**. En general, probablemente sea mejor evitar estas complicadas formas idiomáticas para mantener la legibilidad."
   ]
  },
  {
   "cell_type": "code",
   "execution_count": 11,
   "metadata": {
    "colab": {
     "base_uri": "https://localhost:8080/"
    },
    "executionInfo": {
     "elapsed": 214,
     "status": "ok",
     "timestamp": 1637944277987,
     "user": {
      "displayName": "Maria Julliette Marin Alarcon",
      "photoUrl": "https://lh3.googleusercontent.com/a/default-user=s64",
      "userId": "14948341870893292997"
     },
     "user_tz": 240
    },
    "id": "TkY_xFsMpjqk",
    "outputId": "f6464d72-5671-434a-94c8-d67bf9129783"
   },
   "outputs": [
    {
     "data": {
      "text/plain": [
       "[0, 'impar', 2, 'impar', 4, 'impar', 6, 'impar', 8, 'impar']"
      ]
     },
     "execution_count": 11,
     "metadata": {},
     "output_type": "execute_result"
    }
   ],
   "source": [
    "mylist = [x if x%2 == 0 else 'impar' for x in range(0,10)]\n",
    "mylist"
   ]
  },
  {
   "cell_type": "code",
   "execution_count": 12,
   "metadata": {
    "colab": {
     "base_uri": "https://localhost:8080/"
    },
    "executionInfo": {
     "elapsed": 241,
     "status": "ok",
     "timestamp": 1637944313586,
     "user": {
      "displayName": "Maria Julliette Marin Alarcon",
      "photoUrl": "https://lh3.googleusercontent.com/a/default-user=s64",
      "userId": "14948341870893292997"
     },
     "user_tz": 240
    },
    "id": "rLSrG-Qgpjqk",
    "outputId": "e4f11863-ac1b-44a0-ccbe-f25ecd5d3dc8"
   },
   "outputs": [
    {
     "data": {
      "text/plain": [
       "['N/A', 'N/A', 'N/A', 'N/A', 'N/A', 'N/A', 'N/A', 'N/A', 64, 81, 100]"
      ]
     },
     "execution_count": 12,
     "metadata": {},
     "output_type": "execute_result"
    }
   ],
   "source": [
    "[y if y>50 else 'N/A' for y in [x**2 for x in range(0,11)]]"
   ]
  },
  {
   "cell_type": "markdown",
   "metadata": {
    "id": "zolTO-ocpjql"
   },
   "source": [
    "## <font color='blue'>****Bonus track: dict comprehension****</font> \n",
    "Los ***dict comprehension*** son un método para transformar un diccionario en otro diccionario. Durante esta transformación, los elementos del diccionario original se pueden incluir condicionalmente en el nuevo diccionario y cada elemento se puede transformar según sea necesario.\n",
    "\n",
    "Este es e patrón general que puede seguir para crear un ***dict comprehension*** en Python:\n",
    "\n",
    "```python\n",
    "dict_variable = {key:value for (key,value) in dictonary.items()}\n",
    "```"
   ]
  },
  {
   "cell_type": "markdown",
   "metadata": {
    "id": "2UjEhdFlpjql"
   },
   "source": [
    "Veamos un ejemplo sencillo"
   ]
  },
  {
   "cell_type": "code",
   "execution_count": 13,
   "metadata": {
    "colab": {
     "base_uri": "https://localhost:8080/"
    },
    "executionInfo": {
     "elapsed": 249,
     "status": "ok",
     "timestamp": 1637944422499,
     "user": {
      "displayName": "Maria Julliette Marin Alarcon",
      "photoUrl": "https://lh3.googleusercontent.com/a/default-user=s64",
      "userId": "14948341870893292997"
     },
     "user_tz": 240
    },
    "id": "iUjRMuwxpjqm",
    "outputId": "f780d3af-5777-4651-bde4-82c4dac440ce"
   },
   "outputs": [
    {
     "name": "stdout",
     "output_type": "stream",
     "text": [
      "{'Pedro': 1440.0, 'Luisa': 9600.0, 'Carlos': 6400.0, 'Beto': 3840.0, 'Enrique': 4000.0}\n"
     ]
    }
   ],
   "source": [
    "dict1 = {'Pedro': 1800, 'Luisa': 12000, 'Carlos': 8000, 'Beto': 4800, 'Enrique': 5000}\n",
    "\n",
    "# Apliquemos una reducción de 20% a los valores del diccionario\n",
    "dict1_20 = {k:v*0.8 for (k,v) in dict1.items()}\n",
    "print(dict1_20)"
   ]
  },
  {
   "cell_type": "markdown",
   "metadata": {
    "id": "JXmrrkrypjqn"
   },
   "source": [
    "### ¿Por qué utilizar un ***dict comprehension***?\n",
    "\n",
    "El ***dict comprehension*** es un concepto poderoso y se puede utilizar para sustituir los bucles **for** y las funciones lambda (esto último lo veremos más adelante). Sin embargo, no todos los bucles **for** pueden escribirse como un ***dict comprehension***, pero todo ***dict comprehension***  se puede escribir con un bucle **for**.<br>\n",
    "Considere el siguiente problema, donde desea crear un nuevo diccionario donde la clave es un número divisible por 2 en un rango de 0 a 10 y su valor es el cuadrado del número.<br>\n",
    "Veamos cómo se puede resolver el mismo problema primero usando un bucle **for** y luego un un ***dict comprehension***:"
   ]
  },
  {
   "cell_type": "code",
   "execution_count": 14,
   "metadata": {
    "colab": {
     "base_uri": "https://localhost:8080/"
    },
    "executionInfo": {
     "elapsed": 279,
     "status": "ok",
     "timestamp": 1637944478373,
     "user": {
      "displayName": "Maria Julliette Marin Alarcon",
      "photoUrl": "https://lh3.googleusercontent.com/a/default-user=s64",
      "userId": "14948341870893292997"
     },
     "user_tz": 240
    },
    "id": "OTZBD_Cgpjqo",
    "outputId": "f10a4872-ac3a-49a1-ffa9-498b33a8529e"
   },
   "outputs": [
    {
     "name": "stdout",
     "output_type": "stream",
     "text": [
      "{0: 0, 2: 4, 4: 16, 6: 36, 8: 64}\n"
     ]
    }
   ],
   "source": [
    "# Utilizando for loops\n",
    "numbers = range(10)\n",
    "d = {}\n",
    "\n",
    "# Añadimos valores al diccionario d\n",
    "for n in numbers:\n",
    "    if n % 2 == 0:\n",
    "        d[n] = n ** 2\n",
    "\n",
    "print(d)"
   ]
  },
  {
   "cell_type": "markdown",
   "metadata": {
    "id": "fVJQlrgJpjqq"
   },
   "source": [
    "Ahora con ***dict comprehension***"
   ]
  },
  {
   "cell_type": "code",
   "execution_count": 15,
   "metadata": {
    "colab": {
     "base_uri": "https://localhost:8080/"
    },
    "executionInfo": {
     "elapsed": 257,
     "status": "ok",
     "timestamp": 1637944520683,
     "user": {
      "displayName": "Maria Julliette Marin Alarcon",
      "photoUrl": "https://lh3.googleusercontent.com/a/default-user=s64",
      "userId": "14948341870893292997"
     },
     "user_tz": 240
    },
    "id": "8lgQgDqupjqq",
    "outputId": "3e36f19c-a170-4376-ab9b-2bc81a859a66"
   },
   "outputs": [
    {
     "name": "stdout",
     "output_type": "stream",
     "text": [
      "{0: 0, 2: 4, 4: 16, 6: 36, 8: 64}\n"
     ]
    }
   ],
   "source": [
    "# Utilizando dictionary comprehension\n",
    "d2 = {n:n**2 for n in numbers if n%2 == 0}\n",
    "\n",
    "print(d2)"
   ]
  },
  {
   "cell_type": "markdown",
   "metadata": {
    "id": "fMosaXUdpjqr"
   },
   "source": [
    "Podemos añadir un condicional **if**"
   ]
  },
  {
   "cell_type": "code",
   "execution_count": 16,
   "metadata": {
    "colab": {
     "base_uri": "https://localhost:8080/"
    },
    "executionInfo": {
     "elapsed": 272,
     "status": "ok",
     "timestamp": 1637944523528,
     "user": {
      "displayName": "Maria Julliette Marin Alarcon",
      "photoUrl": "https://lh3.googleusercontent.com/a/default-user=s64",
      "userId": "14948341870893292997"
     },
     "user_tz": 240
    },
    "id": "ak5ck4Aepjqs",
    "outputId": "a47b05d4-6eb3-4f31-cbf2-37d032f83355"
   },
   "outputs": [
    {
     "name": "stdout",
     "output_type": "stream",
     "text": [
      "{'Luisa': 12000, 'Carlos': 8000}\n"
     ]
    }
   ],
   "source": [
    "dict1 = {'Pedro': 1800, 'Luisa': 12000, 'Carlos': 8000, 'Beto': 4800, 'Enrique': 5000}\n",
    "\n",
    "# Check for items greater than 2\n",
    "dict1_cond = {k:v for (k,v) in dict1.items() if v>5000}\n",
    "\n",
    "print(dict1_cond)"
   ]
  },
  {
   "cell_type": "markdown",
   "metadata": {
    "id": "QDCVBld6pjqs"
   },
   "source": [
    "o multiples condicionales **if**"
   ]
  },
  {
   "cell_type": "code",
   "execution_count": 17,
   "metadata": {
    "colab": {
     "base_uri": "https://localhost:8080/"
    },
    "executionInfo": {
     "elapsed": 321,
     "status": "ok",
     "timestamp": 1637944529925,
     "user": {
      "displayName": "Maria Julliette Marin Alarcon",
      "photoUrl": "https://lh3.googleusercontent.com/a/default-user=s64",
      "userId": "14948341870893292997"
     },
     "user_tz": 240
    },
    "id": "1TLr0ooFpjqs",
    "outputId": "1b6d1e33-5a78-4ef4-ab8e-932cace72027"
   },
   "outputs": [
    {
     "name": "stdout",
     "output_type": "stream",
     "text": [
      "{'Carlos': 8000}\n"
     ]
    }
   ],
   "source": [
    "dict1_doubleCond = {k:v for (k,v) in dict1.items() if v>5000 if v<10000}\n",
    "print(dict1_doubleCond)"
   ]
  },
  {
   "cell_type": "markdown",
   "metadata": {
    "id": "4XtA85Ippjqt"
   },
   "source": [
    "## <font color='gree'>Actividad 1:</font>\n",
    "### Escribe el siguiente código como una ***list comprehension***\n",
    "```python\n",
    "lista = []\n",
    "\n",
    "for x in range(100):\n",
    "    if x%2 == 0 :\n",
    "        if x%6 == 0:\n",
    "            lista.append(x)\n",
    "```"
   ]
  },
  {
   "cell_type": "code",
   "execution_count": 18,
   "metadata": {
    "colab": {
     "base_uri": "https://localhost:8080/"
    },
    "executionInfo": {
     "elapsed": 301,
     "status": "ok",
     "timestamp": 1638546520924,
     "user": {
      "displayName": "Maria Julliette Marin Alarcon",
      "photoUrl": "https://lh3.googleusercontent.com/a/default-user=s64",
      "userId": "14948341870893292997"
     },
     "user_tz": 240
    },
    "id": "xAX_vEflpjqt",
    "outputId": "0e031286-d385-40bc-d619-61c858dec73a"
   },
   "outputs": [
    {
     "name": "stdout",
     "output_type": "stream",
     "text": [
      "[0, 6, 12, 18, 24, 30, 36, 42, 48, 54, 60, 66, 72, 78, 84, 90, 96]\n",
      "[0, 6, 12, 18, 24, 30, 36, 42, 48, 54, 60, 66, 72, 78, 84, 90, 96]\n"
     ]
    }
   ],
   "source": [
    "# Tu código aquí ...\n",
    "# Creación de lista e inicialización\n",
    "lista = []\n",
    "# Empresión en ciclo\n",
    "for x in range(100):\n",
    "    if x%2 == 0 :\n",
    "        if x%6 == 0:\n",
    "            lista.append(x)\n",
    "print(lista)\n",
    "# Equivalente al código anterior pero list comprehension\n",
    "mult6=[x for x in range(100) if x%2 == 0 and x%6 ==0]\n",
    "print(mult6)\n",
    "\n"
   ]
  },
  {
   "cell_type": "markdown",
   "metadata": {
    "id": "rR2L1i6fpjqu"
   },
   "source": [
    "<font color='gree'>Fin actividad 1</font>"
   ]
  },
  {
   "cell_type": "markdown",
   "metadata": {
    "id": "PLRYC9JTpjqu"
   },
   "source": [
    "## <font color='gree'>Actividad 2:</font>\n",
    "### Transponga la siguiente matriz utilizando dos métodos\n",
    "```python\n",
    "matrix = [[1,2,3],[4,5,6],[7,8,9]]\n",
    "```\n",
    "* Utilice una solución basada en ***for loops***\n",
    "* Utilice una solución basada en ***list comprehension***\n"
   ]
  },
  {
   "cell_type": "code",
   "execution_count": 19,
   "metadata": {
    "colab": {
     "base_uri": "https://localhost:8080/"
    },
    "executionInfo": {
     "elapsed": 370,
     "status": "ok",
     "timestamp": 1638552581251,
     "user": {
      "displayName": "Maria Julliette Marin Alarcon",
      "photoUrl": "https://lh3.googleusercontent.com/a/default-user=s64",
      "userId": "14948341870893292997"
     },
     "user_tz": 240
    },
    "id": "SC7PH1BHpjqv",
    "outputId": "612e793e-b5c7-428d-a7ec-0527625d08cf"
   },
   "outputs": [
    {
     "name": "stdout",
     "output_type": "stream",
     "text": [
      "[[1, 4, 7], [2, 5, 8], [3, 6, 9]]\n",
      "[[1, 4, 7], [2, 5, 8], [3, 6, 9]]\n"
     ]
    }
   ],
   "source": [
    "# Matriz\n",
    "matrix = [[1,2,3],[4,5,6],[7,8,9]]\n",
    "# Trasponer matrix utilizando list comprehension\n",
    "matrixt = [[ matrix[fila][columna] for fila in range(0,3) ] for columna in range(0,3) ]\n",
    "print(matrixt)\n",
    "# Trasponer matrix utilizando for loops\n",
    "# Crear e inicializar matrix traspuesta\n",
    "matrixt2 = [[0,0,0],[0,0,0],[0,0,0]]\n",
    "# Ciclo que recorre\n",
    "for fila in range(0,3):\n",
    "  for columna in range(0,3):\n",
    "      matrixt2[fila][columna] = matrix[columna][fila]\n",
    "print(matrixt2)\n",
    "      \n",
    "    \n",
    "      \n"
   ]
  },
  {
   "cell_type": "markdown",
   "metadata": {
    "id": "TLPdpf6xpjqv"
   },
   "source": [
    "<font color='gree'>Fin actividad 2</font>"
   ]
  }
 ],
 "metadata": {
  "colab": {
   "name": "FP16-List-Comprehensions.ipynb",
   "provenance": []
  },
  "kernelspec": {
   "display_name": "Python 3 (ipykernel)",
   "language": "python",
   "name": "python3"
  },
  "language_info": {
   "codemirror_mode": {
    "name": "ipython",
    "version": 3
   },
   "file_extension": ".py",
   "mimetype": "text/x-python",
   "name": "python",
   "nbconvert_exporter": "python",
   "pygments_lexer": "ipython3",
   "version": "3.10.5"
  }
 },
 "nbformat": 4,
 "nbformat_minor": 1
}
