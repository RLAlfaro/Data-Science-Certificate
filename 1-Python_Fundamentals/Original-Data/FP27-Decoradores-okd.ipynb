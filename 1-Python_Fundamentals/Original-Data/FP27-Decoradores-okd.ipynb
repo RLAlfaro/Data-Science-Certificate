{
 "cells": [
  {
   "cell_type": "markdown",
   "metadata": {
    "id": "19xlvxDSXIu5"
   },
   "source": [
    "# **Introducción a Python**\n",
    "## FP27. Decoradores (Decorators) "
   ]
  },
  {
   "cell_type": "markdown",
   "metadata": {
    "id": "3rUFjT6BQg0O"
   },
   "source": [
    "    \n",
    "Los decoradores son un tópico avazado de Python\n",
    "\n",
    "\n",
    "## <font color=‘blue’>**¿Por qué queremos decoradores?**</font> \n",
    "\n",
    "Imagina la siguiente función:"
   ]
  },
  {
   "cell_type": "code",
   "execution_count": 1,
   "metadata": {
    "id": "MtsOyIClXIu6"
   },
   "outputs": [],
   "source": [
    "def mi_func():\n",
    "    print(\"Hola Mundo\")"
   ]
  },
  {
   "cell_type": "code",
   "execution_count": 2,
   "metadata": {
    "colab": {
     "base_uri": "https://localhost:8080/"
    },
    "executionInfo": {
     "elapsed": 239,
     "status": "ok",
     "timestamp": 1637791718349,
     "user": {
      "displayName": "Nicolas Enrique Bastias Tejos",
      "photoUrl": "https://lh3.googleusercontent.com/a/default-user=s64",
      "userId": "05876033824720005772"
     },
     "user_tz": 180
    },
    "id": "b3HmgDwfXIu_",
    "outputId": "86b67932-ca63-4cb4-dcce-89cb23cbcae7"
   },
   "outputs": [
    {
     "name": "stdout",
     "output_type": "stream",
     "text": [
      "Hola Mundo\n"
     ]
    }
   ],
   "source": [
    "mi_func()"
   ]
  },
  {
   "cell_type": "markdown",
   "metadata": {
    "id": "-ZeYVvo5XIvC"
   },
   "source": [
    "Qué pasaría si quisiéramos agregarle más funcionalidad a esta función, en lugar de solo la *print('Hola Mundo')*? \n",
    "\n",
    "Por ejemplo, si quisiéramos imprimir 'HOLA MUNDO', todo en mayúsculas.\n",
    "\n",
    "Hasta ahora, con lo que sabemos, tendríamos que reescribir la función para añadirle algo.\n",
    "\n",
    "Un **decorador** es un *patrón de diseño* en Python que permite al usuario agregar nueva funcionalidad a un objeto existente sin modificar su estructura."
   ]
  },
  {
   "cell_type": "code",
   "execution_count": 3,
   "metadata": {
    "id": "SMM95kVKXIvC"
   },
   "outputs": [],
   "source": [
    "def mi_func():\n",
    "    # Anadir más funcionalidad aquí\n",
    "    # como por ejemplo otra cláusula print()\n",
    "    \n",
    "    # Aquí tenemos la función original\n",
    "    print(\"Hola Mundo\")\n",
    "    \n",
    "    # Incluso puede agregar más funcionalidad después de las operaciones originales"
   ]
  },
  {
   "cell_type": "markdown",
   "metadata": {
    "id": "mqcGBc60XIvF"
   },
   "source": [
    "Para completar las áreas comentadas arriba en la función *mi_func*, podemos usar el operador **\\@** para adjuntar un decorador. Sin embargo, necesitaremos crear nuestros propios decoradores. Aquí es donde el tema se torna más avanzado!!\n",
    "\n",
    "Los decoradores se pueden considerar como funciones que modifican la *funcionalidad* de otra función. Ayudan a hacer tu código más corto y más \"pythonista\".\n",
    "\n",
    "Para explicar adecuadamente qué es un decorador, construiremos uno paso a paso a partir de funciones. \n",
    "\n",
    "\n",
    "**Importante**: Asegúrate de reiniciar el Kernel de este Notebook para que esta lección se vea igual en tu computador. "
   ]
  },
  {
   "cell_type": "markdown",
   "metadata": {
    "id": "kfissjXBXIvG"
   },
   "source": [
    "### La función\n",
    "\n",
    "Las funciones en Python son *ciudadanos de primera clas*e. Esto significa que admiten operaciones como pasarlas como argumento a otra función, devolverlas como resultados desde una función, modificarlas y asignarlas a una variable. Este es un concepto fundamental a entender antes de profundizar en la creación de decoradores de Python."
   ]
  },
  {
   "cell_type": "code",
   "execution_count": 4,
   "metadata": {
    "id": "TUoJ-9KYXIvG"
   },
   "outputs": [],
   "source": [
    "def func():\n",
    "    return 1"
   ]
  },
  {
   "cell_type": "code",
   "execution_count": 5,
   "metadata": {
    "colab": {
     "base_uri": "https://localhost:8080/"
    },
    "executionInfo": {
     "elapsed": 210,
     "status": "ok",
     "timestamp": 1637628512428,
     "user": {
      "displayName": "Nicolas Enrique Bastias Tejos",
      "photoUrl": "https://lh3.googleusercontent.com/a/default-user=s64",
      "userId": "05876033824720005772"
     },
     "user_tz": 180
    },
    "id": "8nO14iPKXIvK",
    "outputId": "0d2e0238-a675-40d8-98c6-b3ee6af65991"
   },
   "outputs": [
    {
     "data": {
      "text/plain": [
       "1"
      ]
     },
     "execution_count": 5,
     "metadata": {},
     "output_type": "execute_result"
    }
   ],
   "source": [
    "func()"
   ]
  },
  {
   "cell_type": "markdown",
   "metadata": {
    "id": "LnXNQSeoXIvN"
   },
   "source": [
    "### Su alcance\n",
    "\n",
    "Recuerda de la lección FP21 de declaraciones anidadas que Python usa *Scope* para saber a qué se refiere una etiqueta. Por ejemplo:"
   ]
  },
  {
   "cell_type": "code",
   "execution_count": 6,
   "metadata": {
    "id": "ImrPEvD_XIvN"
   },
   "outputs": [],
   "source": [
    "s = 'Variable Global'\n",
    "\n",
    "def func():\n",
    "    print(f'Mi espacio de nombres local es {locals()}')"
   ]
  },
  {
   "cell_type": "markdown",
   "metadata": {
    "id": "r2gDhpDDXIvQ"
   },
   "source": [
    "Recuerda también, que las funciones de Python crean un nuevo alcance (*scope*), lo que significa que la función tiene su propio espacio de nombres para buscar nombres de variables cuando se mencionan dentro de la función. Podemos verificar variables locales y variables globales con las funciones **local( )** y **globals( )**. \n",
    "\n",
    "Por ejemplo:"
   ]
  },
  {
   "cell_type": "code",
   "execution_count": 7,
   "metadata": {
    "colab": {
     "base_uri": "https://localhost:8080/"
    },
    "executionInfo": {
     "elapsed": 223,
     "status": "ok",
     "timestamp": 1637628558023,
     "user": {
      "displayName": "Nicolas Enrique Bastias Tejos",
      "photoUrl": "https://lh3.googleusercontent.com/a/default-user=s64",
      "userId": "05876033824720005772"
     },
     "user_tz": 180
    },
    "id": "k7UwvntcXIvR",
    "outputId": "84d253c8-c169-4b5b-ff02-03620ffd4f47"
   },
   "outputs": [
    {
     "name": "stdout",
     "output_type": "stream",
     "text": [
      "{'__name__': '__main__', '__doc__': 'Automatically created module for IPython interactive environment', '__package__': None, '__loader__': None, '__spec__': None, '__builtin__': <module 'builtins' (built-in)>, '__builtins__': <module 'builtins' (built-in)>, '_ih': ['', 'def mi_func():\\n    print(\"Hola Mundo\")', 'mi_func()', 'def mi_func():\\n    # Anadir más funcionalidad aquí\\n    # como por ejemplo otra cláusula print()\\n    \\n    # Aquí tenemos la función original\\n    print(\"Hola Mundo\")\\n    \\n    # Incluso puede agregar más funcionalidad después de las operaciones originales', 'def func():\\n    return 1', 'func()', \"s = 'Variable Global'\\n\\ndef func():\\n    print(f'Mi espacio de nombres local es {locals()}')\", '# Con esta instrucción verás todas las variables globales que hay en el \\n# espacio de nombres del Kernel actual de Python en el cual se ejecuta el presente notebook\\n\\nprint(globals())'], '_oh': {5: 1}, '_dh': [WindowsPath('C:/Users/tarto/rlalfaro_data/Diplomado UDD/DataScience_Certificate_CL/1-Python_Fundamentals/Original-Data')], 'In': ['', 'def mi_func():\\n    print(\"Hola Mundo\")', 'mi_func()', 'def mi_func():\\n    # Anadir más funcionalidad aquí\\n    # como por ejemplo otra cláusula print()\\n    \\n    # Aquí tenemos la función original\\n    print(\"Hola Mundo\")\\n    \\n    # Incluso puede agregar más funcionalidad después de las operaciones originales', 'def func():\\n    return 1', 'func()', \"s = 'Variable Global'\\n\\ndef func():\\n    print(f'Mi espacio de nombres local es {locals()}')\", '# Con esta instrucción verás todas las variables globales que hay en el \\n# espacio de nombres del Kernel actual de Python en el cual se ejecuta el presente notebook\\n\\nprint(globals())'], 'Out': {5: 1}, 'get_ipython': <bound method InteractiveShell.get_ipython of <ipykernel.zmqshell.ZMQInteractiveShell object at 0x000001DD34D55B40>>, 'exit': <IPython.core.autocall.ZMQExitAutocall object at 0x000001DD34D57A90>, 'quit': <IPython.core.autocall.ZMQExitAutocall object at 0x000001DD34D57A90>, '_': 1, '__': '', '___': '', '_i': \"s = 'Variable Global'\\n\\ndef func():\\n    print(f'Mi espacio de nombres local es {locals()}')\", '_ii': 'func()', '_iii': 'def func():\\n    return 1', '_i1': 'def mi_func():\\n    print(\"Hola Mundo\")', 'mi_func': <function mi_func at 0x000001DD34D924D0>, '_i2': 'mi_func()', '_i3': 'def mi_func():\\n    # Anadir más funcionalidad aquí\\n    # como por ejemplo otra cláusula print()\\n    \\n    # Aquí tenemos la función original\\n    print(\"Hola Mundo\")\\n    \\n    # Incluso puede agregar más funcionalidad después de las operaciones originales', '_i4': 'def func():\\n    return 1', 'func': <function func at 0x000001DD34D929E0>, '_i5': 'func()', '_5': 1, '_i6': \"s = 'Variable Global'\\n\\ndef func():\\n    print(f'Mi espacio de nombres local es {locals()}')\", 's': 'Variable Global', '_i7': '# Con esta instrucción verás todas las variables globales que hay en el \\n# espacio de nombres del Kernel actual de Python en el cual se ejecuta el presente notebook\\n\\nprint(globals())'}\n"
     ]
    }
   ],
   "source": [
    "# Con esta instrucción verás todas las variables globales que hay en el \n",
    "# espacio de nombres del Kernel actual de Python en el cual se ejecuta el presente notebook\n",
    "\n",
    "print(globals())"
   ]
  },
  {
   "cell_type": "code",
   "execution_count": 8,
   "metadata": {
    "colab": {
     "base_uri": "https://localhost:8080/"
    },
    "executionInfo": {
     "elapsed": 198,
     "status": "ok",
     "timestamp": 1637628561299,
     "user": {
      "displayName": "Nicolas Enrique Bastias Tejos",
      "photoUrl": "https://lh3.googleusercontent.com/a/default-user=s64",
      "userId": "05876033824720005772"
     },
     "user_tz": 180
    },
    "id": "pExBZkufXIvU",
    "outputId": "3d4d0106-27aa-4d1a-9c44-516508148141"
   },
   "outputs": [
    {
     "data": {
      "text/plain": [
       "dict"
      ]
     },
     "execution_count": 8,
     "metadata": {},
     "output_type": "execute_result"
    }
   ],
   "source": [
    "# Veamos el tipo de salida que nos entrega?\n",
    "\n",
    "type(globals())"
   ]
  },
  {
   "cell_type": "markdown",
   "metadata": {
    "id": "ctmtoODAXIvW"
   },
   "source": [
    "Aquí obtenemos un diccionario de todas las variables globales, muchas de ellas predefinidas en Python. Así que sigamos adelante y miremos las claves:"
   ]
  },
  {
   "cell_type": "code",
   "execution_count": 9,
   "metadata": {
    "colab": {
     "base_uri": "https://localhost:8080/"
    },
    "executionInfo": {
     "elapsed": 215,
     "status": "ok",
     "timestamp": 1637628574048,
     "user": {
      "displayName": "Nicolas Enrique Bastias Tejos",
      "photoUrl": "https://lh3.googleusercontent.com/a/default-user=s64",
      "userId": "05876033824720005772"
     },
     "user_tz": 180
    },
    "id": "fKm5wbS_XIvW",
    "outputId": "aa802dea-605a-449d-95ae-0a6e6e064c25"
   },
   "outputs": [
    {
     "name": "stdout",
     "output_type": "stream",
     "text": [
      "dict_keys(['__name__', '__doc__', '__package__', '__loader__', '__spec__', '__builtin__', '__builtins__', '_ih', '_oh', '_dh', 'In', 'Out', 'get_ipython', 'exit', 'quit', '_', '__', '___', '_i', '_ii', '_iii', '_i1', 'mi_func', '_i2', '_i3', '_i4', 'func', '_i5', '_5', '_i6', 's', '_i7', '_i8', '_8', '_i9'])\n"
     ]
    }
   ],
   "source": [
    "print(globals().keys())"
   ]
  },
  {
   "cell_type": "markdown",
   "metadata": {
    "id": "f-UOHt-kXIvY"
   },
   "source": [
    "Fíjatee cómo **s** está ahí, la Variable Global que definimos como una cadena:"
   ]
  },
  {
   "cell_type": "code",
   "execution_count": 10,
   "metadata": {
    "colab": {
     "base_uri": "https://localhost:8080/",
     "height": 35
    },
    "executionInfo": {
     "elapsed": 217,
     "status": "ok",
     "timestamp": 1637628602154,
     "user": {
      "displayName": "Nicolas Enrique Bastias Tejos",
      "photoUrl": "https://lh3.googleusercontent.com/a/default-user=s64",
      "userId": "05876033824720005772"
     },
     "user_tz": 180
    },
    "id": "3VE0kkK9XIvZ",
    "outputId": "cf716c1a-4907-4818-d567-708af4d00bfa"
   },
   "outputs": [
    {
     "data": {
      "text/plain": [
       "'Variable Global'"
      ]
     },
     "execution_count": 10,
     "metadata": {},
     "output_type": "execute_result"
    }
   ],
   "source": [
    "# Veamos qué valor tiene la llave 's' en el diccionario 'globals()'\n",
    "\n",
    "globals()['s']"
   ]
  },
  {
   "cell_type": "markdown",
   "metadata": {
    "id": "nI79jA0nXIvc"
   },
   "source": [
    "Ahora ejecutemos nuestra función para verificar si hay variables locales en func().\n",
    "No debería haber ninguna, por que no definimos ninguna en la función."
   ]
  },
  {
   "cell_type": "code",
   "execution_count": 11,
   "metadata": {
    "colab": {
     "base_uri": "https://localhost:8080/"
    },
    "executionInfo": {
     "elapsed": 221,
     "status": "ok",
     "timestamp": 1637628619544,
     "user": {
      "displayName": "Nicolas Enrique Bastias Tejos",
      "photoUrl": "https://lh3.googleusercontent.com/a/default-user=s64",
      "userId": "05876033824720005772"
     },
     "user_tz": 180
    },
    "id": "IxSBxdSoXIvd",
    "outputId": "0e4d7cb4-2606-4132-9452-67a749f93db8"
   },
   "outputs": [
    {
     "name": "stdout",
     "output_type": "stream",
     "text": [
      "Mi espacio de nombres local es {}\n"
     ]
    }
   ],
   "source": [
    "func()"
   ]
  },
  {
   "cell_type": "markdown",
   "metadata": {
    "id": "lmfNEW6EXIvf"
   },
   "source": [
    "¡Excelente!<br>\n",
    "Lo anterior fue un preámbulo para entender lo que sigue.<br>\n",
    "Ahora continuemos con la construcción de la lógica de lo que es un decorador. Recuerda que en Python **todo es un objeto**. Eso significa que las funciones son objetos a los que se les pueden asignar etiquetas y pasarlas como argumetos a otras funciones. \n",
    "\n",
    "Comencemos con algunos ejemplos simples:"
   ]
  },
  {
   "cell_type": "markdown",
   "metadata": {
    "id": "JkxBabY5XIvg"
   },
   "source": [
    "## Asignar funciones a variables\n",
    "\n",
    "Para comenzar, creamos una función que agregará uno a un número cada vez que se llame. Luego asignaremos la función a una variable y usaremos esta variable para llamar a la función.\n",
    "\n",
    "Verás que aquí no estamos usando paréntesis porque no estamos llamando a la función *mas_uno*, sino que simplemente estamos colocando la función en la variable *suma_uno*.\n",
    "Si incluyéramos paréntesis, en *suma_uno* guardaríamos el valor de salida de la función *mas_uno*!!"
   ]
  },
  {
   "cell_type": "code",
   "execution_count": 12,
   "metadata": {
    "colab": {
     "base_uri": "https://localhost:8080/"
    },
    "executionInfo": {
     "elapsed": 15,
     "status": "ok",
     "timestamp": 1638415426788,
     "user": {
      "displayName": "Nicolas Enrique Bastias Tejos",
      "photoUrl": "https://lh3.googleusercontent.com/a/default-user=s64",
      "userId": "05876033824720005772"
     },
     "user_tz": 180
    },
    "id": "ZhScNVA0XIvg",
    "outputId": "43dd49eb-0664-448b-e34f-a6970f99e773"
   },
   "outputs": [
    {
     "data": {
      "text/plain": [
       "6"
      ]
     },
     "execution_count": 12,
     "metadata": {},
     "output_type": "execute_result"
    }
   ],
   "source": [
    "def mas_uno(numero=0):\n",
    "    return numero + 1\n",
    "\n",
    "# La función 'mas_uno' es asignada a la variable 'suma_uno'\n",
    "suma_uno = mas_uno\n",
    "suma_uno(5)"
   ]
  },
  {
   "cell_type": "code",
   "execution_count": 13,
   "metadata": {
    "colab": {
     "base_uri": "https://localhost:8080/"
    },
    "executionInfo": {
     "elapsed": 844,
     "status": "ok",
     "timestamp": 1638415429782,
     "user": {
      "displayName": "Nicolas Enrique Bastias Tejos",
      "photoUrl": "https://lh3.googleusercontent.com/a/default-user=s64",
      "userId": "05876033824720005772"
     },
     "user_tz": 180
    },
    "id": "ITHWN13MXIvn",
    "outputId": "6305c707-ade6-4359-947f-a178d276f915"
   },
   "outputs": [
    {
     "data": {
      "text/plain": [
       "4"
      ]
     },
     "execution_count": 13,
     "metadata": {},
     "output_type": "execute_result"
    }
   ],
   "source": [
    "# Las funciones no quedan atadas. Borraremos mas_uno() y suma_uno() seguirá existiendo\n",
    "\n",
    "del mas_uno\n",
    "suma_uno(3)"
   ]
  },
  {
   "cell_type": "markdown",
   "metadata": {
    "id": "RccZyDYVXIvp"
   },
   "source": [
    "### Definir funciones dentro de otras funciones\n",
    "\n",
    "A continuación, ilustraremos cómo puedes definir una función dentro de otra función en Python. \n",
    "\n",
    "No te pierdas. Ya veremos cómo todo esto es relevante para crear y comprender decoradores en Python."
   ]
  },
  {
   "cell_type": "code",
   "execution_count": 14,
   "metadata": {
    "colab": {
     "base_uri": "https://localhost:8080/"
    },
    "executionInfo": {
     "elapsed": 347,
     "status": "ok",
     "timestamp": 1638415441189,
     "user": {
      "displayName": "Nicolas Enrique Bastias Tejos",
      "photoUrl": "https://lh3.googleusercontent.com/a/default-user=s64",
      "userId": "05876033824720005772"
     },
     "user_tz": 180
    },
    "id": "uK2XCyiuXIvq",
    "outputId": "9c7e83f7-fc13-483b-8782-bd857aef951c"
   },
   "outputs": [
    {
     "data": {
      "text/plain": [
       "5"
      ]
     },
     "execution_count": 14,
     "metadata": {},
     "output_type": "execute_result"
    }
   ],
   "source": [
    "def mas_uno(numero):\n",
    "    # La función 'suma_uno' está definida dentro de la función 'mas_uno'\n",
    "    def suma_uno(numero):\n",
    "        return numero + 1\n",
    "\n",
    "\n",
    "    resultado = suma_uno(numero)\n",
    "    return resultado\n",
    "\n",
    "mas_uno(4)"
   ]
  },
  {
   "cell_type": "markdown",
   "metadata": {
    "id": "smnnbb1aXIvs"
   },
   "source": [
    "### Pasar funciones como argumentos a otras funciones\n",
    "\n",
    "Las funciones también se pueden pasar como parámetros a otras funciones. Veamos esto a continuación."
   ]
  },
  {
   "cell_type": "code",
   "execution_count": 15,
   "metadata": {
    "colab": {
     "base_uri": "https://localhost:8080/"
    },
    "executionInfo": {
     "elapsed": 282,
     "status": "ok",
     "timestamp": 1638415444404,
     "user": {
      "displayName": "Nicolas Enrique Bastias Tejos",
      "photoUrl": "https://lh3.googleusercontent.com/a/default-user=s64",
      "userId": "05876033824720005772"
     },
     "user_tz": 180
    },
    "id": "AZDI9ooyXIvt",
    "outputId": "65d41fa9-d868-4a7f-98f9-5db1ede76b21"
   },
   "outputs": [
    {
     "data": {
      "text/plain": [
       "6"
      ]
     },
     "execution_count": 15,
     "metadata": {},
     "output_type": "execute_result"
    }
   ],
   "source": [
    "def mas_uno(numero):\n",
    "    return numero + 1\n",
    "\n",
    "def llama_funcion(funcion):\n",
    "    numero_a_sumar = 5\n",
    "    return funcion(numero_a_sumar)\n",
    "\n",
    "# La función 'mas_uno' pasa como argumento de la función 'llama_funcion'\n",
    "llama_funcion(mas_uno)"
   ]
  },
  {
   "cell_type": "markdown",
   "metadata": {
    "id": "LTZrsfrDXIvx"
   },
   "source": [
    "### Funciones anidadas tienen acceso al *scope* de la función adjunta\n",
    "\n",
    "Python permite que una función anidada acceda al ámbito (*scope*) externo de la función adjunta. Este es un concepto crítico en los decoradores: este patrón se conoce como **Closure** (Cierre)."
   ]
  },
  {
   "cell_type": "code",
   "execution_count": 16,
   "metadata": {
    "colab": {
     "base_uri": "https://localhost:8080/"
    },
    "executionInfo": {
     "elapsed": 635,
     "status": "ok",
     "timestamp": 1638415450928,
     "user": {
      "displayName": "Nicolas Enrique Bastias Tejos",
      "photoUrl": "https://lh3.googleusercontent.com/a/default-user=s64",
      "userId": "05876033824720005772"
     },
     "user_tz": 180
    },
    "id": "s7bK3XBuXIvx",
    "outputId": "a4ebd03a-7143-4d1b-f8c5-9eab569447d3"
   },
   "outputs": [
    {
     "name": "stdout",
     "output_type": "stream",
     "text": [
      "Hola mundo !!\n"
     ]
    }
   ],
   "source": [
    "def imprime_mensaje(mensaje):\n",
    "    \"\"\"\n",
    "    Esta es la Función Adjunta\n",
    "    \"\"\"\n",
    "    def mensajero():\n",
    "        \"\"\"\n",
    "        Esta es la Función Anidada\n",
    "        \"\"\"\n",
    "        # La variable 'mensaje' está en el espacio de nombres (Scope) interno de la función\n",
    "        # 'imprime_mensaje' y la función 'mensajero' puede usarla\n",
    "        print(mensaje)\n",
    "\n",
    "    mensajero()\n",
    "\n",
    "imprime_mensaje(\"Hola mundo !!\")"
   ]
  },
  {
   "cell_type": "markdown",
   "metadata": {
    "id": "DspN30MuXIvz"
   },
   "source": [
    "## <font color=‘blue’>**Creando decoradores**</font> \n",
    "\n",
    "Vistos estos conceptos, sigamos adelante y creemos un decorador simple que convertirá una oración en mayúsculas (nuestro objetivo inicial, recuerdan?). \n",
    "\n",
    "Haremos esto definiendo un contenedor dentro de una función cerrada. Como ves en la celda siguiente, es muy similar a la función dentro de otra función que creamos anteriormente."
   ]
  },
  {
   "cell_type": "code",
   "execution_count": 17,
   "metadata": {
    "id": "XPv9yOYxXIv0"
   },
   "outputs": [],
   "source": [
    "def decorador_mayusculas(funcion):\n",
    "    def f_envoltura():                     # Definimos una función dento de otra función\n",
    "        func = funcion()                   # Asignamos una función a una variable y\n",
    "                                           # accedemos al 'name space' de la función adjunta\n",
    "        en_mayusculas = func.upper()\n",
    "        return en_mayusculas\n",
    "\n",
    "    return f_envoltura"
   ]
  },
  {
   "cell_type": "markdown",
   "metadata": {
    "id": "btAUsigDXIv1"
   },
   "source": [
    "Nuestra función decoradora (**decorador_mayusculas**) toma una función como argumento (**funcion**) y, por lo tanto, definiremos una función y se la pasaremos a nuestro decorador. Aprendimos antes que podíamos asignar una función a una variable. Usaremos ese truco para llamar a nuestra función decoradora."
   ]
  },
  {
   "cell_type": "code",
   "execution_count": 18,
   "metadata": {
    "colab": {
     "base_uri": "https://localhost:8080/",
     "height": 35
    },
    "executionInfo": {
     "elapsed": 230,
     "status": "ok",
     "timestamp": 1637791938284,
     "user": {
      "displayName": "Nicolas Enrique Bastias Tejos",
      "photoUrl": "https://lh3.googleusercontent.com/a/default-user=s64",
      "userId": "05876033824720005772"
     },
     "user_tz": 180
    },
    "id": "K-PGHnNLXIv2",
    "outputId": "8b221579-8920-4ba4-81b0-641eafd5146b"
   },
   "outputs": [
    {
     "data": {
      "text/plain": [
       "'HOLA MUNDO'"
      ]
     },
     "execution_count": 18,
     "metadata": {},
     "output_type": "execute_result"
    }
   ],
   "source": [
    "def mi_func():\n",
    "    return f\"Hola Mundo\"\n",
    "    \n",
    "\n",
    "decorate = decorador_mayusculas(mi_func)\n",
    "decorate()"
   ]
  },
  {
   "cell_type": "markdown",
   "metadata": {
    "id": "tjFqofUBXIv4"
   },
   "source": [
    "Por último, Python nos ofrece una forma mucho más sencilla para aplicar decoradores. Simplemente usamos el símbolo @ antes de la función que nos gustaría decorar. Veamos cómo:\n"
   ]
  },
  {
   "cell_type": "code",
   "execution_count": 19,
   "metadata": {
    "colab": {
     "base_uri": "https://localhost:8080/",
     "height": 35
    },
    "executionInfo": {
     "elapsed": 254,
     "status": "ok",
     "timestamp": 1637791996542,
     "user": {
      "displayName": "Nicolas Enrique Bastias Tejos",
      "photoUrl": "https://lh3.googleusercontent.com/a/default-user=s64",
      "userId": "05876033824720005772"
     },
     "user_tz": 180
    },
    "id": "T23Kc2OMXIv5",
    "outputId": "4b04bf72-6098-4545-b1cf-fb51cb57ef3c"
   },
   "outputs": [
    {
     "data": {
      "text/plain": [
       "'HOLA MUNDO'"
      ]
     },
     "execution_count": 19,
     "metadata": {},
     "output_type": "execute_result"
    }
   ],
   "source": [
    "@decorador_mayusculas\n",
    "def mi_func():\n",
    "    return f\"Hola Mundo\"\n",
    "\n",
    "mi_func()"
   ]
  },
  {
   "cell_type": "markdown",
   "metadata": {
    "id": "kzk4qClLXIv7"
   },
   "source": [
    "Creamos otro decorador, esta vez uno para dividir un *strig* de palabras en una lista de palabras separadas."
   ]
  },
  {
   "cell_type": "code",
   "execution_count": 20,
   "metadata": {
    "id": "xoLv9UUKXIv7"
   },
   "outputs": [],
   "source": [
    "def divide_string(funcion):\n",
    "    def wrapper():                      # Por convención llamaremos a las funciones internas 'wrappers'\n",
    "        func = funcion()\n",
    "        string_dividido = func.split()\n",
    "        return string_dividido\n",
    "\n",
    "    return wrapper"
   ]
  },
  {
   "cell_type": "code",
   "execution_count": 21,
   "metadata": {
    "colab": {
     "base_uri": "https://localhost:8080/"
    },
    "executionInfo": {
     "elapsed": 4,
     "status": "ok",
     "timestamp": 1637792059118,
     "user": {
      "displayName": "Nicolas Enrique Bastias Tejos",
      "photoUrl": "https://lh3.googleusercontent.com/a/default-user=s64",
      "userId": "05876033824720005772"
     },
     "user_tz": 180
    },
    "id": "ze6VXKd4XIv_",
    "outputId": "0410dd97-3725-4440-e778-b46ab8aa88ee"
   },
   "outputs": [
    {
     "data": {
      "text/plain": [
       "['HOLA', 'MUNDO']"
      ]
     },
     "execution_count": 21,
     "metadata": {},
     "output_type": "execute_result"
    }
   ],
   "source": [
    "@divide_string\n",
    "@decorador_mayusculas\n",
    "def mi_func():\n",
    "    return f\"Hola Mundo\"\n",
    "\n",
    "mi_func()"
   ]
  },
  {
   "cell_type": "markdown",
   "metadata": {
    "id": "jhOEUkSyXIwC"
   },
   "source": [
    "## Creando un decoradorpara medir tiempo de ejecución\n",
    "\n",
    "Intentemos recrear un decorador similar al que vimos en el notebook de **Debugging**. Recuerdan?"
   ]
  },
  {
   "cell_type": "code",
   "execution_count": 22,
   "metadata": {
    "id": "jsBG7NoIXIwC"
   },
   "outputs": [],
   "source": [
    "def mide_tiempo(func):\n",
    "    import time\n",
    "\n",
    "    def wrapper(n):\n",
    "        t0 = time.time()\n",
    "        f = func(n)\n",
    "        t1 = time.time()\n",
    "        tt = (t1 - t0) \n",
    "        print(f'Tiempo = {tt: 1.3f} segundos.')\n",
    "        return f\n",
    "    return wrapper"
   ]
  },
  {
   "cell_type": "code",
   "execution_count": 23,
   "metadata": {
    "id": "UVZqUDHpXIwF"
   },
   "outputs": [],
   "source": [
    "@mide_tiempo\n",
    "def suma_cuadrados(n):\n",
    "    result = [x**2 for x in range(n)]\n",
    "    return f'La suma de cuadrados de números es: {sum(result)}'"
   ]
  },
  {
   "cell_type": "code",
   "execution_count": 24,
   "metadata": {
    "colab": {
     "base_uri": "https://localhost:8080/",
     "height": 53
    },
    "executionInfo": {
     "elapsed": 3740,
     "status": "ok",
     "timestamp": 1638415473671,
     "user": {
      "displayName": "Nicolas Enrique Bastias Tejos",
      "photoUrl": "https://lh3.googleusercontent.com/a/default-user=s64",
      "userId": "05876033824720005772"
     },
     "user_tz": 180
    },
    "id": "0b7ZOr1wXIwI",
    "outputId": "ee05a425-f229-4f43-d7f2-4a9b25264da5"
   },
   "outputs": [
    {
     "name": "stdout",
     "output_type": "stream",
     "text": [
      "Tiempo =  2.960 segundos.\n"
     ]
    },
    {
     "data": {
      "text/plain": [
       "'La suma de cuadrados de números es: 333333283333335000000'"
      ]
     },
     "execution_count": 24,
     "metadata": {},
     "output_type": "execute_result"
    }
   ],
   "source": [
    "suma_cuadrados(10000000)"
   ]
  },
  {
   "cell_type": "code",
   "execution_count": 25,
   "metadata": {
    "id": "GKQ4di0cQg0l"
   },
   "outputs": [],
   "source": [
    "# Podemos decorar muchas funciones distintas\n",
    "@mide_tiempo\n",
    "def suma_numeros(n):\n",
    "    result = [x for x in range(n)]\n",
    "    return f'La suma de números es: {sum(result)}'"
   ]
  },
  {
   "cell_type": "code",
   "execution_count": 26,
   "metadata": {
    "colab": {
     "base_uri": "https://localhost:8080/",
     "height": 53
    },
    "executionInfo": {
     "elapsed": 1016,
     "status": "ok",
     "timestamp": 1638415490609,
     "user": {
      "displayName": "Nicolas Enrique Bastias Tejos",
      "photoUrl": "https://lh3.googleusercontent.com/a/default-user=s64",
      "userId": "05876033824720005772"
     },
     "user_tz": 180
    },
    "id": "11-fMmJWQg0l",
    "outputId": "b6eff284-f358-4486-c6e6-cf5a74d7bf04"
   },
   "outputs": [
    {
     "name": "stdout",
     "output_type": "stream",
     "text": [
      "Tiempo =  0.804 segundos.\n"
     ]
    },
    {
     "data": {
      "text/plain": [
       "'La suma de números es: 49999995000000'"
      ]
     },
     "execution_count": 26,
     "metadata": {},
     "output_type": "execute_result"
    }
   ],
   "source": [
    "suma_numeros(10000000)"
   ]
  },
  {
   "cell_type": "markdown",
   "metadata": {
    "id": "LViD_Wq2XIwM"
   },
   "source": [
    "## <font color='green'>Actividad 1: Challenging</font> \n",
    "### Crea un decorador tipo *@timeit*\n",
    "A partir del ejemplo anterior, crea un decorador que simule uno del tipo **@timeit**, el cual tomará el tiempo promedio de 7 ejecuciones de la función pasada como argumento.\n",
    "\n",
    "Nombra tu **decorador** como *tiempo_itera*"
   ]
  },
  {
   "cell_type": "code",
   "execution_count": 27,
   "metadata": {
    "executionInfo": {
     "elapsed": 387,
     "status": "ok",
     "timestamp": 1638480061917,
     "user": {
      "displayName": "Nicolas Enrique Bastias Tejos",
      "photoUrl": "https://lh3.googleusercontent.com/a/default-user=s64",
      "userId": "05876033824720005772"
     },
     "user_tz": 180
    },
    "id": "o00-t6S2XIwN"
   },
   "outputs": [],
   "source": [
    "# Tu código aquí ...\n",
    "def tiempo_itera(func):\n",
    "    import time\n",
    "    mean_time = []\n",
    "    def wrapper(n):\n",
    "        for i in range(0,7):\n",
    "          t0 = time.time()\n",
    "          f = func(n)\n",
    "          t1 = time.time()\n",
    "          tt = (t1 - t0) \n",
    "          print(f'Tiempo de ejecución #{i+1} = {tt: 1.3f} segundos.')\n",
    "          #save results\n",
    "          mean_time.append(tt)\n",
    "        #valor promedio\n",
    "        mu = sum(mean_time)/len(mean_time)\n",
    "        print(f'Tiempo de ejecución promedio = {mu: 1.3f} segundos.')\n",
    "        return f\n",
    "    return wrapper   "
   ]
  },
  {
   "cell_type": "code",
   "execution_count": 28,
   "metadata": {
    "executionInfo": {
     "elapsed": 358,
     "status": "ok",
     "timestamp": 1638480064159,
     "user": {
      "displayName": "Nicolas Enrique Bastias Tejos",
      "photoUrl": "https://lh3.googleusercontent.com/a/default-user=s64",
      "userId": "05876033824720005772"
     },
     "user_tz": 180
    },
    "id": "RIfeN5e9XIwQ"
   },
   "outputs": [],
   "source": [
    "@tiempo_itera\n",
    "def suma(n):\n",
    "    result = [x**2 for x in range(10000000)]\n",
    "    return f'La suma de números al cuadrado es: {sum(result)}' "
   ]
  },
  {
   "cell_type": "code",
   "execution_count": 29,
   "metadata": {
    "colab": {
     "base_uri": "https://localhost:8080/",
     "height": 174
    },
    "executionInfo": {
     "elapsed": 23923,
     "status": "ok",
     "timestamp": 1638480090551,
     "user": {
      "displayName": "Nicolas Enrique Bastias Tejos",
      "photoUrl": "https://lh3.googleusercontent.com/a/default-user=s64",
      "userId": "05876033824720005772"
     },
     "user_tz": 180
    },
    "id": "tNHAhmCpXIwT",
    "outputId": "33fb8b7d-225b-4106-bdae-a8b377c2bdc2"
   },
   "outputs": [
    {
     "name": "stdout",
     "output_type": "stream",
     "text": [
      "Tiempo de ejecución #1 =  2.922 segundos.\n",
      "Tiempo de ejecución #2 =  2.991 segundos.\n",
      "Tiempo de ejecución #3 =  2.952 segundos.\n",
      "Tiempo de ejecución #4 =  2.884 segundos.\n",
      "Tiempo de ejecución #5 =  2.942 segundos.\n",
      "Tiempo de ejecución #6 =  2.899 segundos.\n",
      "Tiempo de ejecución #7 =  2.936 segundos.\n",
      "Tiempo de ejecución promedio =  2.932 segundos.\n"
     ]
    },
    {
     "data": {
      "text/plain": [
       "'La suma de números al cuadrado es: 333333283333335000000'"
      ]
     },
     "execution_count": 29,
     "metadata": {},
     "output_type": "execute_result"
    }
   ],
   "source": [
    "suma(10000000)"
   ]
  },
  {
   "cell_type": "markdown",
   "metadata": {
    "id": "7kT_Tl1IQg0m"
   },
   "source": [
    "<font color='green'> Fin actividad 1</font>"
   ]
  },
  {
   "cell_type": "markdown",
   "metadata": {
    "id": "3I9qEodBXIwW"
   },
   "source": [
    "Genial Hackers !!!"
   ]
  }
 ],
 "metadata": {
  "colab": {
   "name": "FP27-Decoradores.ipynb",
   "provenance": []
  },
  "kernelspec": {
   "display_name": "Python 3 (ipykernel)",
   "language": "python",
   "name": "python3"
  },
  "language_info": {
   "codemirror_mode": {
    "name": "ipython",
    "version": 3
   },
   "file_extension": ".py",
   "mimetype": "text/x-python",
   "name": "python",
   "nbconvert_exporter": "python",
   "pygments_lexer": "ipython3",
   "version": "3.10.5"
  }
 },
 "nbformat": 4,
 "nbformat_minor": 1
}
