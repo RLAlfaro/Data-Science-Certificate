{
 "cells": [
  {
   "cell_type": "markdown",
   "metadata": {},
   "source": [
    "# **Introducción a Python**\n",
    "# FP23. Programación Orientada a Objetos (OOP) - SOLUCION"
   ]
  },
  {
   "cell_type": "markdown",
   "metadata": {},
   "source": [
    "La **programación orientada a objetos** (OOP) tiende a ser uno de los principales obstáculos para los reclutas cuando comienzan a aprender Python.\n",
    "\n",
    "Para esta lección, construiremos nuestro conocimiento de OOP en Python basándose en los siguientes temas:\n",
    "\n",
    "* Objetos\n",
    "* Usando la palabra clave **class**\n",
    "* Creando atributos de clase\n",
    "* Creando métodos en una clase\n",
    "* Aprendiendo sobre la herencia\n",
    "* Aprendiendo sobre métodos especiales para clases.\n",
    "\n",
    "Comencemos la lección recordando las estructuras (objetos) básicos de Python. Por ejemplo:"
   ]
  },
  {
   "cell_type": "code",
   "execution_count": 1,
   "metadata": {},
   "outputs": [],
   "source": [
    "mylist = [1, 2, 3]"
   ]
  },
  {
   "cell_type": "markdown",
   "metadata": {},
   "source": [
    "¿Recuerda cómo usábamos los métodos en una lista?"
   ]
  },
  {
   "cell_type": "code",
   "execution_count": 2,
   "metadata": {},
   "outputs": [
    {
     "data": {
      "text/plain": [
       "1"
      ]
     },
     "execution_count": 2,
     "metadata": {},
     "output_type": "execute_result"
    }
   ],
   "source": [
    "mylist.count(2)"
   ]
  },
  {
   "cell_type": "markdown",
   "metadata": {},
   "source": [
    "## <font color='blue'>**Qué es la OOP**</font>\n",
    "\n",
    "Básicamente, lo que haremos en esta lección es explorar cómo podríamos \n",
    "\n",
    "La programación orientada a objetos es un paradigma de programación que proporciona un medio para estructurar programas de modo que las propiedades y los comportamientos se agrupen en objetos individuales.\n",
    "\n",
    "Por ejemplo, un objeto podría representar a una persona con propiedades como nombre, edad y dirección y comportamientos como caminar, hablar, respirar y correr. O podría representar un correo electrónico con propiedades como una lista de destinatarios, asunto y cuerpo y comportamientos como agregar archivos adjuntos y enviar.\n",
    "\n",
    "Dicho de otra manera, la programación orientada a objetos es un enfoque para modelar cosas concretas del mundo real, como automóviles, así como relaciones entre cosas, como empresas y empleados, estudiantes y profesores, etc. OOP modela entidades del mundo real como objetos de software que tienen algunos datos asociados y pueden realizar ciertas funciones.\n",
    "\n",
    "\n",
    "## <font color='blue'>**Objetos**</font>\n",
    "\n",
    "En Python, **todo es un objeto**. Recuerda que de lecciones anteriores podemos usar **type()** para verificar el tipo de objeto que es algo:"
   ]
  },
  {
   "cell_type": "code",
   "execution_count": 3,
   "metadata": {},
   "outputs": [
    {
     "name": "stdout",
     "output_type": "stream",
     "text": [
      "<class 'int'>\n",
      "<class 'list'>\n",
      "<class 'tuple'>\n",
      "<class 'dict'>\n"
     ]
    }
   ],
   "source": [
    "print(type(1))\n",
    "print(type([]))\n",
    "print(type(()))\n",
    "print(type({}))"
   ]
  },
  {
   "cell_type": "markdown",
   "metadata": {},
   "source": [
    "## <font color='blue'>Clases vs instancias</font>\n",
    "Las clases se utilizan para crear estructuras de datos definidas por el usuario. Las clases definen funciones llamadas **métodos**, que identifican los comportamientos y acciones que un **objeto** creado a partir de la **clase** puede realizar con sus datos.\n",
    "\n",
    "En este tutorial, creará una clase de **agente** que almacena información sobre las características y comportamientos que puede tener un agente en particular.\n",
    "\n",
    "Una **clase** es un modelo de cómo se debe definir algo. En realidad, no contiene ningún dato. Veremos que nuestra clase Agente especifica que un nombre y una edad son necesarios para definir un agente, pero no contiene el nombre o la edad de ningún agente específico.\n",
    "\n",
    "Mientras que la clase es el plano (el 'template'), una instancia es un objeto que se construye a partir de una clase (de ese plano o template) y contiene datos reales. Una instancia de la clase Agente ya no es un plano. Es un agente real con un nombre, como Betos, que tiene 50 años.\n",
    "\n",
    "Dicho de otra manera, una clase es como un formulario o cuestionario. Una instancia es como un formulario que se ha llenado con información. Al igual que muchas personas pueden completar el mismo formulario con su propia información única, se pueden crear muchas instancias a partir de una sola clase.\n",
    "\n",
    "\n",
    "## <font color='blue'>**Cómo definir una clase (class)**</font>\n",
    "\n",
    "Decíamos que una clase es una maqueta que define la naturaleza de un objeto futuro. A partir de clases podemos construir instancias de dicho objeto. Una instancia es un objeto específico creado a partir de una clase particular. \n",
    "\n",
    "Por ejemplo, creemos el objeto 'l' como una instancia de un objeto de la clase lista."
   ]
  },
  {
   "cell_type": "code",
   "execution_count": 4,
   "metadata": {},
   "outputs": [
    {
     "name": "stdout",
     "output_type": "stream",
     "text": [
      "<class 'list'>\n",
      "<class 'list'>\n"
     ]
    }
   ],
   "source": [
    "l = list()\n",
    "print(type(list()))\n",
    "print(type(l))"
   ]
  },
  {
   "cell_type": "markdown",
   "metadata": {},
   "source": [
    "Sabemos que en Python todas estas cosas son objetos, entonces, ¿cómo podemos crear nuestros propios tipos de objetos? Ahí es donde entra la palabra reservada **class**\n",
    "\n",
    "Los objetos definidos por el usuario se crean utilizando la palabra clave **class**. Veamos cómo:"
   ]
  },
  {
   "cell_type": "code",
   "execution_count": 5,
   "metadata": {},
   "outputs": [
    {
     "name": "stdout",
     "output_type": "stream",
     "text": [
      "<class '__main__.Agente'>\n"
     ]
    }
   ],
   "source": [
    "# Creamos un nuevo objeto llamado Sample\n",
    "# Es pythonista el nombrar los objetos con la primera letra en mayúscula\n",
    "\n",
    "class Agente():\n",
    "    pass\n",
    "\n",
    "# Creamos una instancia de la clase Sample\n",
    "x = Agente()\n",
    "\n",
    "print(type(x))"
   ]
  },
  {
   "cell_type": "markdown",
   "metadata": {},
   "source": [
    "<font color='red'>Importante</font>: Por convención (pytonista), damos a las clases un nombre que comienza con una letra mayúscula. \n",
    "\n",
    "Observa cómo **x** es ahora la referencia a nuestra nueva instancia de una clase Agente. En otras palabras, decimos que creamos una **instancia** de la clase Agente o **instanciamos** la clase Agente.\n",
    "\n",
    "Dentro del código de la clase sólo tenemos, por ahora, **pass**, como una forma de poder definirla \"vacía\". Pero podemos definir **atributos** y **métodos** de clase.\n",
    "\n",
    "Un **atributo** es una característica de un objeto. Existen **atributos de clase** y **atributos de instancia**.\n",
    "\n",
    "Un **atributo de clase** de un Agente puede ser su especie (Homo Sapiens); de existir, todas las istancias de la clase tendrán este atributo. Por otro lado, **atributos de instancia** podrían ser su nombre_real, edad, altura, color de ojos, nombre_clave, etc., los cules serán propios de la instancia.\n",
    "\n",
    "Un **método** es una operación que podemos realizar con el objeto. Típicamente es más similar a una **función** (igual que **def**) que actúa sobre el objeto mismo, por ejemplo, hacer que el objeto Agente imprima su nombre de código.\n",
    "\n",
    "Los atributos que deben tener todos los objetos Agente se definen en un método llamado .\\_\\_init__(). Cada vez que se crea un nuevo objeto Agente (una instancia de la clase), .\\_\\_init__() establece el estado inicial del objeto asignando los valores de las propiedades del objeto. Es decir, .\\_\\_init__() inicializa cada nueva instancia de la clase. Técnicamente es conocido como el **constructor** de la clase.\n",
    "\n",
    "En el método .\\_\\_init__() puedes crear cualquier número de parámetros, pero el primer parámetro siempre será una variable llamada ***self***. Cuando se crea una nueva instancia de clase, la instancia se pasa automáticamente al parámetro self en .\\_\\_init__() para que se puedan definir nuevos atributos en el objeto.\n",
    "\n",
    "Actualicemos nuestra clase Agente. "
   ]
  },
  {
   "cell_type": "code",
   "execution_count": 6,
   "metadata": {},
   "outputs": [],
   "source": [
    "class Agente():\n",
    "    def __init__(self, nombre_real, edad): # método y su parámetros\n",
    "        self.nombre_real = nombre_real     # atributo de instancia\n",
    "        self.edad = edad                   # atributo de instancia"
   ]
  },
  {
   "cell_type": "markdown",
   "metadata": {},
   "source": [
    "<font color='red'>Importante</font>: Fíjate en la indentación de la clase y del método (**def**)."
   ]
  },
  {
   "cell_type": "markdown",
   "metadata": {},
   "source": [
    "En el cuerpo de .\\_\\_init__(), hay dos declaraciones que usan la variable self:\n",
    "\n",
    "1. **self.name = nombre_real** crea un atributo llamado nombre_real y le asigna el valor del parámetro de nombre_real.\n",
    "2. **self.edad = edad** crea un atributo llamado edad y le asigna el valor del parámetro edad.\n",
    "\n",
    "Los atributos creados en .\\_\\_init__() se denominan **atributos de instancia**. El valor de un atributo de instancia es específico de una instancia particular de la clase. Todos los objetos Agente tienen un nombre_real y una edad, pero los valores de los atributos de nombre_real y edad variarán según la instancia de Agente.\n",
    "\n",
    "Por otro lado, los **atributos de clase** son atributos que tienen el mismo valor para todas las instancias de clase. Puede definir un atributo de clase asignando un valor a un nombre de variable fuera de .__ init __ ().\n",
    "\n",
    "Por ejemplo, la siguiente clase Agente tiene un atributo de clase llamado **nivel** con el valor \"Regular\":"
   ]
  },
  {
   "cell_type": "code",
   "execution_count": 7,
   "metadata": {},
   "outputs": [],
   "source": [
    "class Agente():\n",
    "    nivel = 'Regular'               # atributo de clase\n",
    "    \n",
    "    def __init__(self, nombre_real, edad): # método y su parámetros\n",
    "        self.nombre_real = nombre_real     # atributo de instancia\n",
    "        self.edad = edad                   # atributo de instancia"
   ]
  },
  {
   "cell_type": "markdown",
   "metadata": {},
   "source": [
    "<font color='red'>Importante</font>: Por convención pythonista, definimos los atributos de clase antes del método .\\_\\_init__()"
   ]
  },
  {
   "cell_type": "code",
   "execution_count": 8,
   "metadata": {},
   "outputs": [
    {
     "data": {
      "text/plain": [
       "__main__.Agente"
      ]
     },
     "execution_count": 8,
     "metadata": {},
     "output_type": "execute_result"
    }
   ],
   "source": [
    "Agente"
   ]
  },
  {
   "cell_type": "markdown",
   "metadata": {},
   "source": [
    "## <font color='blue'>**Creando instancias de clase**</font>\n",
    "Veamos cómo podemos crear instancias de nuestra clase Agente."
   ]
  },
  {
   "cell_type": "code",
   "execution_count": 9,
   "metadata": {},
   "outputs": [
    {
     "ename": "TypeError",
     "evalue": "Agente.__init__() missing 2 required positional arguments: 'nombre_real' and 'edad'",
     "output_type": "error",
     "traceback": [
      "\u001b[1;31m---------------------------------------------------------------------------\u001b[0m",
      "\u001b[1;31mTypeError\u001b[0m                                 Traceback (most recent call last)",
      "Input \u001b[1;32mIn [9]\u001b[0m, in \u001b[0;36m<cell line: 2>\u001b[1;34m()\u001b[0m\n\u001b[0;32m      1\u001b[0m \u001b[38;5;66;03m# Este código dará un error porque necesitamos pasarle argumentos!\u001b[39;00m\n\u001b[1;32m----> 2\u001b[0m m \u001b[38;5;241m=\u001b[39m \u001b[43mAgente\u001b[49m\u001b[43m(\u001b[49m\u001b[43m)\u001b[49m\n",
      "\u001b[1;31mTypeError\u001b[0m: Agente.__init__() missing 2 required positional arguments: 'nombre_real' and 'edad'"
     ]
    }
   ],
   "source": [
    "# Este código dará un error porque necesitamos pasarle argumentos!\n",
    "m = Agente()"
   ]
  },
  {
   "cell_type": "markdown",
   "metadata": {},
   "source": [
    "Para pasar argumentos a los parámetros de nombre_real y edad, coloque los valores entre paréntesis después del nombre de la clase:"
   ]
  },
  {
   "cell_type": "code",
   "execution_count": 16,
   "metadata": {},
   "outputs": [],
   "source": [
    "b = Agente('Beto', 50)"
   ]
  },
  {
   "cell_type": "code",
   "execution_count": 17,
   "metadata": {},
   "outputs": [],
   "source": [
    "n = Agente('Norma', 40)"
   ]
  },
  {
   "cell_type": "markdown",
   "metadata": {},
   "source": [
    "Analicemos lo que tenemos arriba. El método especial\n",
    "```python\n",
    "     __init__()\n",
    "```\n",
    "se llama automáticamente justo después de que se ha creado el objeto:\n",
    "```python\n",
    "     def __init __ (self, nombre_real, edad):\n",
    "```\n",
    "Como decíamos, cada atributo en una definición de clase comienza con una referencia al objeto instanciado. Por convención lo llamamos **self**. La variable *nombre_real* es el argumento. El valor se pasa durante la instanciación de la clase. Lo mismo ocurre con *edad*.\n",
    "```python\n",
    "      self.nombre_real = nombre_real\n",
    "      self.edad = edad    \n",
    "````"
   ]
  },
  {
   "cell_type": "markdown",
   "metadata": {},
   "source": [
    "Ahora hemos creado dos instancias de la clase Agente. Con dos instancias de Agente, cada una tiene sus propiso atributos *nombre_real* t *edad*, luego podemos acceder a estos atributos utilizando la notación de punto (**dot notation**) de esta manera:\n",
    "```python\n",
    "objeto.atributo\n",
    "```"
   ]
  },
  {
   "cell_type": "code",
   "execution_count": 18,
   "metadata": {},
   "outputs": [
    {
     "data": {
      "text/plain": [
       "'Beto'"
      ]
     },
     "execution_count": 18,
     "metadata": {},
     "output_type": "execute_result"
    }
   ],
   "source": [
    "b.nombre_real"
   ]
  },
  {
   "cell_type": "code",
   "execution_count": 19,
   "metadata": {},
   "outputs": [
    {
     "data": {
      "text/plain": [
       "40"
      ]
     },
     "execution_count": 19,
     "metadata": {},
     "output_type": "execute_result"
    }
   ],
   "source": [
    "n.edad"
   ]
  },
  {
   "cell_type": "code",
   "execution_count": 20,
   "metadata": {},
   "outputs": [
    {
     "name": "stdout",
     "output_type": "stream",
     "text": [
      "La edad de Norma es 40\n"
     ]
    }
   ],
   "source": [
    "print(f'La edad de {n.nombre_real} es {n.edad}')"
   ]
  },
  {
   "cell_type": "markdown",
   "metadata": {},
   "source": [
    "Ten en cuenta que no ponemos paréntesis después de *nombre_real*, esto se debe a que es un atributo y no un método (una función de la clase); los atributos no aceptan argumentos.\n",
    "\n",
    "De la mis a forma podemos acceder a los **atributos de clase**. En nuestro ejemplo, los agentes (independientemente de su nombre real, edad u otros atributos siempre serán del nivel 'Regular', ¡al menos por ahora!.\n",
    "\n",
    "Obtengamos dicho atributo"
   ]
  },
  {
   "cell_type": "code",
   "execution_count": 21,
   "metadata": {},
   "outputs": [
    {
     "data": {
      "text/plain": [
       "'Regular'"
      ]
     },
     "execution_count": 21,
     "metadata": {},
     "output_type": "execute_result"
    }
   ],
   "source": [
    "b.nivel"
   ]
  },
  {
   "cell_type": "code",
   "execution_count": 22,
   "metadata": {},
   "outputs": [
    {
     "data": {
      "text/plain": [
       "True"
      ]
     },
     "execution_count": 22,
     "metadata": {},
     "output_type": "execute_result"
    }
   ],
   "source": [
    "b.nivel == n.nivel"
   ]
  },
  {
   "cell_type": "markdown",
   "metadata": {},
   "source": [
    "Podemos cambiar los valores de los atributos."
   ]
  },
  {
   "cell_type": "code",
   "execution_count": 23,
   "metadata": {},
   "outputs": [],
   "source": [
    "p= Agente('Pancho', 40)"
   ]
  },
  {
   "cell_type": "code",
   "execution_count": 24,
   "metadata": {},
   "outputs": [
    {
     "data": {
      "text/plain": [
       "'Pancho'"
      ]
     },
     "execution_count": 24,
     "metadata": {},
     "output_type": "execute_result"
    }
   ],
   "source": [
    "p.nombre_real"
   ]
  },
  {
   "cell_type": "code",
   "execution_count": 25,
   "metadata": {},
   "outputs": [
    {
     "data": {
      "text/plain": [
       "40"
      ]
     },
     "execution_count": 25,
     "metadata": {},
     "output_type": "execute_result"
    }
   ],
   "source": [
    "p.edad"
   ]
  },
  {
   "cell_type": "code",
   "execution_count": 26,
   "metadata": {},
   "outputs": [
    {
     "data": {
      "text/plain": [
       "'Regular'"
      ]
     },
     "execution_count": 26,
     "metadata": {},
     "output_type": "execute_result"
    }
   ],
   "source": [
    "p.nivel"
   ]
  },
  {
   "cell_type": "code",
   "execution_count": 27,
   "metadata": {},
   "outputs": [],
   "source": [
    "p.nombre_real = 'Francisco'"
   ]
  },
  {
   "cell_type": "code",
   "execution_count": 28,
   "metadata": {},
   "outputs": [
    {
     "data": {
      "text/plain": [
       "'Francisco'"
      ]
     },
     "execution_count": 28,
     "metadata": {},
     "output_type": "execute_result"
    }
   ],
   "source": [
    "p.nombre_real"
   ]
  },
  {
   "cell_type": "markdown",
   "metadata": {},
   "source": [
    "## <font color='blue'>**Métodos (methods)**</font>\n",
    "\n",
    "Los métodos son funciones definidas dentro del cuerpo de una clase y sólo pueden ser llamados desde una instancia de la clase. Se utilizan para realizar operaciones con los atributos de nuestros objetos. Los métodos son esenciales en el concepto de encapsulación del paradigma OOP. Esto es esencial para segmentar las funcionalidades, especialmente, en aplicaciones grandes.\n",
    "\n",
    "Básicamente, puedes pensar en los métodos como funciones que actúan sobre un Objeto que tienen en cuenta el Objeto mismo a través de su argumento *self*.\n",
    "\n",
    "Completemos nuestra clase Agente."
   ]
  },
  {
   "cell_type": "code",
   "execution_count": 29,
   "metadata": {},
   "outputs": [],
   "source": [
    "class Agente():\n",
    "    nivel = 'Regular'               # atributo de clase\n",
    "    \n",
    "    def __init__(self, \n",
    "                 nombre_real, \n",
    "                 edad,\n",
    "                 nombre_clave\n",
    "                ): # método y su parámetros\n",
    "        self.nombre_real = nombre_real     # atributo de instancia\n",
    "        self.edad = edad                   # atributo de instancia\n",
    "        self.nombre_clave = nombre_clave\n",
    "    \n",
    "    def descripcion(self):\n",
    "        return f'Agente {self.nombre_clave}.'\n",
    "    \n",
    "    def reporte(self):\n",
    "        return f'Mi nombre real es {self.nombre_real}, tengo {self.edad} años.'"
   ]
  },
  {
   "cell_type": "markdown",
   "metadata": {},
   "source": [
    "Esta es ahora la clase Agentecon dos métodos de instancia (**instance methods**):\n",
    "1. descripcion(), la cual retorna el nombre_clave del agente.\n",
    "2. reporte(), la cual retorna en nombre_real y la edad del agente."
   ]
  },
  {
   "cell_type": "code",
   "execution_count": 30,
   "metadata": {},
   "outputs": [],
   "source": [
    "b = Agente('Beto', 50, 'Caribú')\n",
    "n = Agente('Norma', 40, 'Nana')"
   ]
  },
  {
   "cell_type": "code",
   "execution_count": 31,
   "metadata": {},
   "outputs": [
    {
     "data": {
      "text/plain": [
       "'Agente Caribú.'"
      ]
     },
     "execution_count": 31,
     "metadata": {},
     "output_type": "execute_result"
    }
   ],
   "source": [
    "b.descripcion()"
   ]
  },
  {
   "cell_type": "code",
   "execution_count": 32,
   "metadata": {},
   "outputs": [
    {
     "data": {
      "text/plain": [
       "'Mi nombre real es Norma, tengo 40 años.'"
      ]
     },
     "execution_count": 32,
     "metadata": {},
     "output_type": "execute_result"
    }
   ],
   "source": [
    "n.reporte()"
   ]
  },
  {
   "cell_type": "markdown",
   "metadata": {},
   "source": [
    "En la clase Agente anterior, **.descripcion()** devuelve una cadena que contiene información sobre las instancia de Agente que hemos creado ('Beto' y 'Norma'). Al escribir sus propias clases, es una buena idea tener un método que devuelva una cadena que contenga información útil sobre una instancia de la clase. Sin embargo, .description() no es la forma más pythonista de hacer esto.\n",
    "\n",
    "Para esto utilizaremos un método de instancia especial llamado **.\\_\\_str__()**."
   ]
  },
  {
   "cell_type": "code",
   "execution_count": 33,
   "metadata": {},
   "outputs": [],
   "source": [
    "class Agente():\n",
    "    nivel = 'Regular'               # atributo de clase\n",
    "    \n",
    "    def __init__(self, \n",
    "                 nombre_real, \n",
    "                 edad,\n",
    "                 nombre_clave\n",
    "                ): # método y su parámetros\n",
    "        self.nombre_real = nombre_real     # atributo de instancia\n",
    "        self.edad = edad                   # atributo de instancia\n",
    "        self.nombre_clave = nombre_clave\n",
    "    \n",
    "    def __str__(self):          # reemplazamos el método descripcion\n",
    "        return f'Agente {self.nombre_clave}.'\n",
    "    \n",
    "    def reporte(self):\n",
    "        return f'Mi nombre real es {self.nombre_real}, tengo {self.edad} años.'"
   ]
  },
  {
   "cell_type": "code",
   "execution_count": 34,
   "metadata": {},
   "outputs": [],
   "source": [
    "b = Agente('Beto', 50, 'Caribú')\n",
    "n = Agente('Norma', 40, 'Nana')"
   ]
  },
  {
   "cell_type": "markdown",
   "metadata": {},
   "source": [
    "Invocaremos el nuevo método con print()"
   ]
  },
  {
   "cell_type": "code",
   "execution_count": 35,
   "metadata": {},
   "outputs": [
    {
     "name": "stdout",
     "output_type": "stream",
     "text": [
      "Agente Caribú.\n"
     ]
    }
   ],
   "source": [
    "print(b)"
   ]
  },
  {
   "cell_type": "code",
   "execution_count": 36,
   "metadata": {},
   "outputs": [
    {
     "data": {
      "text/plain": [
       "'Mi nombre real es Norma, tengo 40 años.'"
      ]
     },
     "execution_count": 36,
     "metadata": {},
     "output_type": "execute_result"
    }
   ],
   "source": [
    "n.reporte()"
   ]
  },
  {
   "cell_type": "markdown",
   "metadata": {},
   "source": [
    "Los métodos como .\\_\\_init__() y .\\_\\_str__() se denominan **métodos dunder** porque comienzan y terminan con guiones bajos dobles (**D**ouble **UNDER**score). Hay muchos métodos dunder que puedes utilizar para personalizar clases en Python. Comprender los métodos dunder es una parte importante del dominio de la programación orientada a objetos en Python."
   ]
  },
  {
   "cell_type": "markdown",
   "metadata": {},
   "source": [
    "### Veamos un ejemplo de cómo crear una clase Circulo:"
   ]
  },
  {
   "cell_type": "code",
   "execution_count": 37,
   "metadata": {},
   "outputs": [],
   "source": [
    "class Circulo():\n",
    "    \n",
    "    # Definimos PI, el cual es el mismo para cualquier círculo\n",
    "    PI = 3.14\n",
    "\n",
    "    # Instanciamos un círculo con radio por defecto de 1\n",
    "    def __init__(self, radio=1):\n",
    "        self.radio = radio \n",
    "        \n",
    "    def __str__(self):\n",
    "        return f'Instancia de clase círculo de radio {self.radio}'\n",
    "\n",
    "    # El método 'área´ calcula el área del círculo. Noten el uso de 'self'\n",
    "    def area(self):\n",
    "        return self.radio * self.radio * Circulo.PI\n",
    "\n",
    "    def perimetro(self):\n",
    "        return 2 * self.radio * Circulo.PI"
   ]
  },
  {
   "cell_type": "code",
   "execution_count": 38,
   "metadata": {},
   "outputs": [],
   "source": [
    "c = Circulo(radio=2)"
   ]
  },
  {
   "cell_type": "code",
   "execution_count": 39,
   "metadata": {},
   "outputs": [
    {
     "name": "stdout",
     "output_type": "stream",
     "text": [
      "Instancia de clase círculo de radio 2\n"
     ]
    }
   ],
   "source": [
    "print(c)"
   ]
  },
  {
   "cell_type": "code",
   "execution_count": 40,
   "metadata": {},
   "outputs": [
    {
     "name": "stdout",
     "output_type": "stream",
     "text": [
      "El radio del círculo es: 2\n"
     ]
    }
   ],
   "source": [
    "print(f'El radio del círculo es: {c.radio}')"
   ]
  },
  {
   "cell_type": "code",
   "execution_count": 41,
   "metadata": {},
   "outputs": [
    {
     "name": "stdout",
     "output_type": "stream",
     "text": [
      "El área del círculo es: 12.56\n"
     ]
    }
   ],
   "source": [
    "# Observa cómo para un método necesitamos que con ()\n",
    "# a diferencia de un atribito\n",
    "\n",
    "print(f'El área del círculo es: {c.area()}')"
   ]
  },
  {
   "cell_type": "code",
   "execution_count": 42,
   "metadata": {},
   "outputs": [],
   "source": [
    "# Podemos cambiar el radio\n",
    "c.radio = 10"
   ]
  },
  {
   "cell_type": "code",
   "execution_count": 43,
   "metadata": {},
   "outputs": [
    {
     "data": {
      "text/plain": [
       "314.0"
      ]
     },
     "execution_count": 43,
     "metadata": {},
     "output_type": "execute_result"
    }
   ],
   "source": [
    "c.area()"
   ]
  },
  {
   "cell_type": "code",
   "execution_count": 44,
   "metadata": {},
   "outputs": [
    {
     "name": "stdout",
     "output_type": "stream",
     "text": [
      "Instancia de clase círculo de radio 10\n"
     ]
    }
   ],
   "source": [
    "print(c)"
   ]
  },
  {
   "cell_type": "markdown",
   "metadata": {},
   "source": [
    "Observa la diferencia entre llamar a un método y llamar a un atributo, los métodos necesitan que se los llame con un () al final, de lo contrario no se ejecutarán."
   ]
  },
  {
   "cell_type": "markdown",
   "metadata": {},
   "source": [
    "## <font color='green'>Actividad 1:</font>\n",
    "### Crea una clase triángulo y dos instancias de ella\n",
    "\n",
    "1. Haz que la clase tenga parámetros de entrada y atributos de instancia en los cuales se solicite el largo de cada lado.\n",
    "2. Incluye un método de instancia __str__()\n",
    "3. Crea métodos para que entreguen el tipo de triángulo (escaleno, isósceles o equilátero), el área y el perímetro de la instancia."
   ]
  },
  {
   "cell_type": "code",
   "execution_count": 45,
   "metadata": {},
   "outputs": [],
   "source": [
    "# Tu código aquí ...\n",
    "from math import sqrt\n",
    "\n",
    "class Triangulo():\n",
    "\n",
    "    # Instanciamos un círculo con radio por defecto de 1\n",
    "    def __init__(self, lado1=1, lado2=1, lado3=1):\n",
    "        self.lado1 = lado1 \n",
    "        self.lado2 = lado2 \n",
    "        self.lado3 = lado3 \n",
    "    \n",
    "    # Forma Python de crear la funcion descripcion.\n",
    "    def __str__(self):\n",
    "        if self.lado1 == self.lado2 == self.lado3:\n",
    "            tipo = 'equilátero'\n",
    "        elif (self.lado1 == self.lado2 or \n",
    "              self.lado1 == self.lado3 or \n",
    "              self.lado2 == self.lado3\n",
    "             ):\n",
    "            tipo = 'isósceles'\n",
    "        else:\n",
    "            tipo = 'escaleno'\n",
    "        return f'Instancia de clase triángulo del tipo {tipo}'\n",
    "    \n",
    "    # Formula general del calculo de area\n",
    "    def area(self):\n",
    "        # Usamos la fórmula de Herón\n",
    "        # Calculamos el semi perimetro\n",
    "        sp = (self.lado1 + self.lado2 + self.lado3) / 2\n",
    "        return sqrt(sp * (sp - self.lado1) * (sp - self.lado2) * (sp - self.lado3))\n",
    "    \n",
    "    def perimetro(self):\n",
    "        return self.lado1 + self.lado2 + self.lado3"
   ]
  },
  {
   "cell_type": "code",
   "execution_count": 46,
   "metadata": {},
   "outputs": [],
   "source": [
    "t1 = Triangulo(3, 4, 5)\n",
    "t2 = Triangulo(1, 5, 3)\n",
    "t3 = Triangulo(4, 4, 3)\n",
    "t4 = Triangulo(5, 5, 5)"
   ]
  },
  {
   "cell_type": "code",
   "execution_count": 47,
   "metadata": {},
   "outputs": [
    {
     "name": "stdout",
     "output_type": "stream",
     "text": [
      "Instancia de clase triángulo del tipo escaleno\n",
      "Instancia de clase triángulo del tipo escaleno\n",
      "Instancia de clase triángulo del tipo isósceles\n",
      "Instancia de clase triángulo del tipo equilátero\n"
     ]
    }
   ],
   "source": [
    "print(t1)\n",
    "print(t2)\n",
    "print(t3)\n",
    "print(t4)"
   ]
  },
  {
   "cell_type": "code",
   "execution_count": 48,
   "metadata": {},
   "outputs": [
    {
     "data": {
      "text/plain": [
       "6.0"
      ]
     },
     "execution_count": 48,
     "metadata": {},
     "output_type": "execute_result"
    }
   ],
   "source": [
    "t1.area()"
   ]
  },
  {
   "cell_type": "code",
   "execution_count": 49,
   "metadata": {},
   "outputs": [
    {
     "data": {
      "text/plain": [
       "15"
      ]
     },
     "execution_count": 49,
     "metadata": {},
     "output_type": "execute_result"
    }
   ],
   "source": [
    "t4.perimetro()"
   ]
  },
  {
   "cell_type": "markdown",
   "metadata": {},
   "source": [
    "<font color='green'>Fin actividad 1</font>"
   ]
  },
  {
   "cell_type": "markdown",
   "metadata": {},
   "source": [
    "## <font color='blue'>**Herencia (inheritance)**</font>\n",
    "\n",
    "La herencia es el proceso mediante el cual una clase adquiere los atributos y métodos de otra. Las clases recién formadas se denominan **clases derivadas, secundarias o hijas** y las clases de las que se derivan las clases secundarias se denominan **clases principales o padres**.\n",
    "\n",
    "Los principales beneficios de la herencia son la reutilización de código y la reducción de la complejidad de un programa. Las clases secundarias pueden anular o ampliar los atributos y métodos de las clases principales. En otras palabras, las clases secundarias heredan todos los atributos y métodos de los padres, pero también pueden especificar atributos y métodos que son únicos para ellos.\n",
    "\n",
    "Veamos un ejemplo incorporando nuestro trabajo anterior con la clase Agente."
   ]
  },
  {
   "cell_type": "markdown",
   "metadata": {},
   "source": [
    "### Primero la Clase Principal (Base Class)\n",
    "Recreamos nuestra clase Agente desarrollada más arriba. Pon atención a los atributos y métodos que implementa."
   ]
  },
  {
   "cell_type": "code",
   "execution_count": 50,
   "metadata": {},
   "outputs": [],
   "source": [
    "class Agente():\n",
    "    nivel = 'Regular'               # atributo de clase\n",
    "    \n",
    "    def __init__(self, \n",
    "                 nombre_real, \n",
    "                 edad,\n",
    "                 nombre_clave\n",
    "                ): # método y su parámetros\n",
    "        self.nombre_real = nombre_real     # atributo de instancia\n",
    "        self.edad = edad                   # atributo de instancia\n",
    "        self.nombre_clave = nombre_clave\n",
    "    \n",
    "    def __str__(self):          # reemplazamos el método descripcion\n",
    "        return f'Agente {self.nombre_clave}.'\n",
    "    \n",
    "    def reporte(self):\n",
    "        return f'Mi nombre real es {self.nombre_real}, tengo {self.edad} años.'\n",
    "    \n",
    "    def tipo(self):             # añadimos el método tipo()\n",
    "        return f'Agente tipo {self.nivel}'"
   ]
  },
  {
   "cell_type": "markdown",
   "metadata": {},
   "source": [
    "### Luego la Clase Derivada\n",
    "La Clase Derivada (**Derived Class**) *AgenteEspecial*, heredará de la Clase Base (**Base Class**) *Agente*, sus atributos y métodos. Observa cómo pasamos la clase, en realidad no la instanciamos con ( ), simplemente la pasamos como argumento.\n",
    "```python\n",
    "class ClaseDerivada(ClaseBase):\n",
    "    pass\n",
    "```"
   ]
  },
  {
   "cell_type": "code",
   "execution_count": 51,
   "metadata": {},
   "outputs": [],
   "source": [
    "class AgenteEspecial(Agente):\n",
    "    nivel = 'Especial'\n",
    "    \n",
    "    def __init__(self,              # todos los atributos de instancia\n",
    "                 nombre_real, \n",
    "                 edad,\n",
    "                 nombre_clave,\n",
    "                 mision,\n",
    "                 pais\n",
    "                ):\n",
    "        Agente.__init__(self,       # de los atributos, aquellos que se heredan de Agente\n",
    "                        nombre_real,\n",
    "                        edad,\n",
    "                        nombre_clave\n",
    "                        )\n",
    "        self.mision = mision        # atributos adiconales de la subclase\n",
    "        self.pais = pais\n",
    "\n",
    "    def reporte(self):\n",
    "        # Esto sobre-escribe el metodo report() de la clase Persona\n",
    "        print('Lo siento, esta información es clasificada')\n",
    "        print(f\"Puede llamarme {self.nombre_clave}\")\n",
    "        \n",
    "    def nombre(self, clave):\n",
    "        # Podemos añadir métodos adicionales únicos para la clase AgenteEspecial\n",
    "        if clave == 123:\n",
    "            print(\"Clave secreta correcta!!\")\n",
    "            print(f'Mi nombre real es {self.nombre_real}, opero en {self.pais}.')\n",
    "        else:\n",
    "            self.reporte()\n",
    "    \n",
    "    def _metodos_privados(self):\n",
    "        # Inicia los métodos con un solo guión bajo para hacerlos \"privados\"\n",
    "        # Ten en cuenta que Python es muy abierto por naturaleza\n",
    "        # Cualquier usuario podría descubrir que estas clases existen\n",
    "        # Esto es solo una convención, la cual denota que el usuario no debería \n",
    "        # necesitar interactuar con este método\n",
    "        print(\"Método privado.\")\n",
    "        \n",
    "    def _mision(self):\n",
    "        return f'Misión actual: {self.mision}'\n",
    "        \n",
    "        \n",
    "        \n",
    "    # Observa que no tenemos aquí el método tipo( ) porque\n",
    "    # lo heredaremos de la clase Agente!  "
   ]
  },
  {
   "cell_type": "code",
   "execution_count": 52,
   "metadata": {},
   "outputs": [],
   "source": [
    "# Creamos una instancia de Agente\n",
    "m = Agente(nombre_real = 'Beto',\n",
    "           edad = 60,\n",
    "           nombre_clave = 'Caribú')"
   ]
  },
  {
   "cell_type": "code",
   "execution_count": 53,
   "metadata": {},
   "outputs": [
    {
     "name": "stdout",
     "output_type": "stream",
     "text": [
      "Agente Caribú.\n"
     ]
    }
   ],
   "source": [
    "# Vemos su método __str__()\n",
    "print(m)"
   ]
  },
  {
   "cell_type": "code",
   "execution_count": 54,
   "metadata": {},
   "outputs": [
    {
     "data": {
      "text/plain": [
       "'Mi nombre real es Beto, tengo 60 años.'"
      ]
     },
     "execution_count": 54,
     "metadata": {},
     "output_type": "execute_result"
    }
   ],
   "source": [
    "# Invocamos al método reporte()\n",
    "m.reporte()"
   ]
  },
  {
   "cell_type": "code",
   "execution_count": 55,
   "metadata": {},
   "outputs": [
    {
     "data": {
      "text/plain": [
       "'Agente tipo Regular'"
      ]
     },
     "execution_count": 55,
     "metadata": {},
     "output_type": "execute_result"
    }
   ],
   "source": [
    "# y el mátodo tipo()\n",
    "m.tipo()"
   ]
  },
  {
   "cell_type": "code",
   "execution_count": 56,
   "metadata": {},
   "outputs": [],
   "source": [
    "# Creamos una instancia de la subclase AgenteEspecial\n",
    "n = AgenteEspecial(nombre_real = 'Norma',\n",
    "                   edad = 40,\n",
    "                   nombre_clave = 'Nana',\n",
    "                   mision = 'Keto',\n",
    "                   pais = 'USA'\n",
    "                  )"
   ]
  },
  {
   "cell_type": "code",
   "execution_count": 57,
   "metadata": {},
   "outputs": [
    {
     "name": "stdout",
     "output_type": "stream",
     "text": [
      "Agente Nana.\n"
     ]
    }
   ],
   "source": [
    "# Invocamos el método __str__() el cual no está explícito en la subclase ...\n",
    "# ... fue heredado\n",
    "print(n)"
   ]
  },
  {
   "cell_type": "code",
   "execution_count": 58,
   "metadata": {},
   "outputs": [
    {
     "name": "stdout",
     "output_type": "stream",
     "text": [
      "Lo siento, esta información es clasificada\n",
      "Puede llamarme Nana\n"
     ]
    }
   ],
   "source": [
    "# Invocamos el método reporte(), pero la subclase lo ha redefinido\n",
    "# Nos entrega un resultado distinto al de la clase base (Agente)\n",
    "n.reporte()"
   ]
  },
  {
   "cell_type": "code",
   "execution_count": 59,
   "metadata": {},
   "outputs": [
    {
     "data": {
      "text/plain": [
       "'Agente tipo Especial'"
      ]
     },
     "execution_count": 59,
     "metadata": {},
     "output_type": "execute_result"
    }
   ],
   "source": [
    "# El método tipo() también fue heredado\n",
    "# Pero la referencia al atributo de clase fue cambiado al de la subclase\n",
    "n.tipo()"
   ]
  },
  {
   "cell_type": "code",
   "execution_count": 60,
   "metadata": {},
   "outputs": [
    {
     "name": "stdout",
     "output_type": "stream",
     "text": [
      "Lo siento, esta información es clasificada\n",
      "Puede llamarme Nana\n"
     ]
    }
   ],
   "source": [
    "# La subclase AgenteEspecial implementa otros métodos (extiende a la clase base)\n",
    "n.nombre(clave=122)"
   ]
  },
  {
   "cell_type": "code",
   "execution_count": 61,
   "metadata": {},
   "outputs": [
    {
     "name": "stdout",
     "output_type": "stream",
     "text": [
      "Clave secreta correcta!!\n",
      "Mi nombre real es Norma, opero en USA.\n"
     ]
    }
   ],
   "source": [
    "n.nombre(123)"
   ]
  },
  {
   "cell_type": "code",
   "execution_count": 62,
   "metadata": {},
   "outputs": [
    {
     "data": {
      "text/plain": [
       "'Misión actual: Keto'"
      ]
     },
     "execution_count": 62,
     "metadata": {},
     "output_type": "execute_result"
    }
   ],
   "source": [
    "# Y posee métodos privados\n",
    "n._mision()"
   ]
  },
  {
   "cell_type": "markdown",
   "metadata": {},
   "source": [
    "## <font color='blue'>**Métodos especiales**</font>\n",
    "Finalmente, repasemos los métodos especiales. Imaginemos que deseas verificar la longitud de una lista, eso es fácil, simplemente llama a *len( )* en ese objeto. Pero, ¿cuál es el largo de un Agente? Veamos qué pasa:"
   ]
  },
  {
   "cell_type": "code",
   "execution_count": 63,
   "metadata": {},
   "outputs": [
    {
     "ename": "TypeError",
     "evalue": "object of type 'Agente' has no len()",
     "output_type": "error",
     "traceback": [
      "\u001b[1;31m---------------------------------------------------------------------------\u001b[0m",
      "\u001b[1;31mTypeError\u001b[0m                                 Traceback (most recent call last)",
      "Input \u001b[1;32mIn [63]\u001b[0m, in \u001b[0;36m<cell line: 2>\u001b[1;34m()\u001b[0m\n\u001b[0;32m      1\u001b[0m \u001b[38;5;66;03m# Esta celda dará un error\u001b[39;00m\n\u001b[1;32m----> 2\u001b[0m \u001b[38;5;28;43mlen\u001b[39;49m\u001b[43m(\u001b[49m\u001b[43mb\u001b[49m\u001b[43m)\u001b[49m\n",
      "\u001b[1;31mTypeError\u001b[0m: object of type 'Agente' has no len()"
     ]
    }
   ],
   "source": [
    "# Esta celda dará un error\n",
    "len(b)"
   ]
  },
  {
   "cell_type": "markdown",
   "metadata": {},
   "source": [
    "Mmmm interesante!!<br>\n",
    "¿Qué pasa si intentamos imprimir el objeto Agente?"
   ]
  },
  {
   "cell_type": "code",
   "execution_count": 64,
   "metadata": {},
   "outputs": [
    {
     "name": "stdout",
     "output_type": "stream",
     "text": [
      "Agente Caribú.\n"
     ]
    }
   ],
   "source": [
    "print(b)"
   ]
  },
  {
   "cell_type": "markdown",
   "metadata": {},
   "source": [
    "Para interactuar con los métodos integrados de Python, necesitaremos usar nombres de métodos especiales que están integrados en Python. Estos se indican mediante el uso de guiones bajos dobles (dunders) en cada lado:"
   ]
  },
  {
   "cell_type": "markdown",
   "metadata": {},
   "source": [
    "Las clases en Python pueden implementar ciertas operaciones con nombres de métodos especiales. En realidad, estos métodos no se llaman directamente, sino mediante la sintaxis específica del lenguaje Python. \n",
    "\n",
    "Por ejemplo, creemos una clase de *Libro*:"
   ]
  },
  {
   "cell_type": "code",
   "execution_count": 65,
   "metadata": {},
   "outputs": [],
   "source": [
    "class Libro():\n",
    "    \n",
    "    def __init__(self, titulo, autor, paginas):\n",
    "        self.titulo = titulo\n",
    "        self.autor = autor\n",
    "        self.paginas = paginas\n",
    "\n",
    "    def __str__(self):\n",
    "        return f\"Título: {self.titulo} \\nAutor: {self.autor} \\nPáginas: {self.paginas}.\\n\"\n",
    "\n",
    "    def __len__(self):\n",
    "        return self.paginas\n",
    "\n",
    "    def __del__(self):       # Generamos un método para eliminar la instancia de clase\n",
    "        return f'Un libro es destruido'"
   ]
  },
  {
   "cell_type": "code",
   "execution_count": 66,
   "metadata": {},
   "outputs": [
    {
     "name": "stdout",
     "output_type": "stream",
     "text": [
      "Título: Harry Potter y la piedra filosofal \n",
      "Autor: J.K.Rowling \n",
      "Páginas: 180.\n",
      "\n",
      "El libro tiene 180 páginas\n"
     ]
    }
   ],
   "source": [
    "hp_1 = Libro(\"Harry Potter y la piedra filosofal\", \"J.K.Rowling\", 180)\n",
    "\n",
    "# Metodos especiales\n",
    "print(hp_1)\n",
    "print(f'El libro tiene {len(hp_1)} páginas')"
   ]
  },
  {
   "cell_type": "code",
   "execution_count": 67,
   "metadata": {},
   "outputs": [],
   "source": [
    "del(hp_1)"
   ]
  },
  {
   "cell_type": "markdown",
   "metadata": {},
   "source": [
    "```python\n",
    "__init__(), \n",
    "__str__(), \n",
    "__len__(), \n",
    "__del__()\n",
    "```\n",
    "\n",
    "Los métodos especiales nos permiten usar funciones específicas de Python en objetos creados a través de nuestra clase."
   ]
  },
  {
   "cell_type": "markdown",
   "metadata": {},
   "source": [
    "¡Excelente trabajo recluta! "
   ]
  }
 ],
 "metadata": {
  "anaconda-cloud": {},
  "kernelspec": {
   "display_name": "Python 3 (ipykernel)",
   "language": "python",
   "name": "python3"
  },
  "language_info": {
   "codemirror_mode": {
    "name": "ipython",
    "version": 3
   },
   "file_extension": ".py",
   "mimetype": "text/x-python",
   "name": "python",
   "nbconvert_exporter": "python",
   "pygments_lexer": "ipython3",
   "version": "3.10.5"
  }
 },
 "nbformat": 4,
 "nbformat_minor": 4
}
