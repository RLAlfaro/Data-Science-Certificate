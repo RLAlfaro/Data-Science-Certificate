{
 "cells": [
  {
   "cell_type": "markdown",
   "metadata": {
    "id": "139brwFidYD4"
   },
   "source": [
    "# **Introducción a Python**\n",
    "# FP02. Imprimiendo"
   ]
  },
  {
   "cell_type": "markdown",
   "metadata": {
    "id": "jZi3a3V6dYEA"
   },
   "source": [
    "## <font color='blue'>**La función print()**</font>"
   ]
  },
  {
   "cell_type": "code",
   "execution_count": 1,
   "metadata": {
    "colab": {
     "base_uri": "https://localhost:8080/"
    },
    "executionInfo": {
     "elapsed": 5,
     "status": "ok",
     "timestamp": 1637346562487,
     "user": {
      "displayName": "Maria Julliette Marin Alarcon",
      "photoUrl": "https://lh3.googleusercontent.com/a/default-user=s64",
      "userId": "14948341870893292997"
     },
     "user_tz": 240
    },
    "id": "FprzQQGPdYEB",
    "outputId": "0f2131de-62ef-42cb-f858-39c64092297b"
   },
   "outputs": [
    {
     "name": "stdout",
     "output_type": "stream",
     "text": [
      "Hello World\n"
     ]
    }
   ],
   "source": [
    "print(\"Hello World\")"
   ]
  },
  {
   "cell_type": "markdown",
   "metadata": {
    "id": "vpx3dGGFdYED"
   },
   "source": [
    "<div class=\"alert alert-block alert-warning\">\n",
    "<b>TIP:</b>En Python, las comillas simples, dobles y triples se utilizan para denotar una cadena o *string*. <br>\n",
    "La mayoría usa comillas simples al declarar un solo carácter. <br>\n",
    "Comillas dobles al declarar una línea y ... <br>\n",
    "Comillas triples al declarar un párrafo / varias líneas.\n",
    "</div>\n",
    "\n"
   ]
  },
  {
   "cell_type": "code",
   "execution_count": 2,
   "metadata": {
    "colab": {
     "base_uri": "https://localhost:8080/"
    },
    "executionInfo": {
     "elapsed": 258,
     "status": "ok",
     "timestamp": 1637346691323,
     "user": {
      "displayName": "Maria Julliette Marin Alarcon",
      "photoUrl": "https://lh3.googleusercontent.com/a/default-user=s64",
      "userId": "14948341870893292997"
     },
     "user_tz": 240
    },
    "id": "HRuYs4SLdYEE",
    "outputId": "049dfe47-42d2-417b-839a-c789610b75c3"
   },
   "outputs": [
    {
     "name": "stdout",
     "output_type": "stream",
     "text": [
      "A\n"
     ]
    }
   ],
   "source": [
    "print('A')"
   ]
  },
  {
   "cell_type": "code",
   "execution_count": 3,
   "metadata": {
    "colab": {
     "base_uri": "https://localhost:8080/"
    },
    "executionInfo": {
     "elapsed": 265,
     "status": "ok",
     "timestamp": 1637346693982,
     "user": {
      "displayName": "Maria Julliette Marin Alarcon",
      "photoUrl": "https://lh3.googleusercontent.com/a/default-user=s64",
      "userId": "14948341870893292997"
     },
     "user_tz": 240
    },
    "id": "tBMa2mA7dYEF",
    "outputId": "021706e4-58b7-4ecb-a5b0-15c3ee9b7ad1"
   },
   "outputs": [
    {
     "name": "stdout",
     "output_type": "stream",
     "text": [
      "Hello World\n"
     ]
    }
   ],
   "source": [
    "print(\"Hello World\")"
   ]
  },
  {
   "cell_type": "code",
   "execution_count": 4,
   "metadata": {
    "colab": {
     "base_uri": "https://localhost:8080/"
    },
    "executionInfo": {
     "elapsed": 263,
     "status": "ok",
     "timestamp": 1637346696913,
     "user": {
      "displayName": "Maria Julliette Marin Alarcon",
      "photoUrl": "https://lh3.googleusercontent.com/a/default-user=s64",
      "userId": "14948341870893292997"
     },
     "user_tz": 240
    },
    "id": "QfTv2rO3dYEF",
    "outputId": "e6b5c5f7-9d3a-4be3-b1f7-13c5e227bcda"
   },
   "outputs": [
    {
     "name": "stdout",
     "output_type": "stream",
     "text": [
      "My name is <write your name here> and\n",
      "\n",
      "I love Python.\n"
     ]
    }
   ],
   "source": [
    "print (\"\"\"My name is <write your name here> and\n",
    "\n",
    "I love Python.\"\"\")"
   ]
  },
  {
   "cell_type": "markdown",
   "metadata": {
    "id": "5ccBBlQQdYEH"
   },
   "source": [
    "Las cadenas se pueden asignar a una variable, por ejemplo, _string1_ y _string2_, las cuales se pueden llamar cuando se usa la función de impresión."
   ]
  },
  {
   "cell_type": "code",
   "execution_count": 5,
   "metadata": {
    "colab": {
     "base_uri": "https://localhost:8080/"
    },
    "executionInfo": {
     "elapsed": 4,
     "status": "ok",
     "timestamp": 1637346740298,
     "user": {
      "displayName": "Maria Julliette Marin Alarcon",
      "photoUrl": "https://lh3.googleusercontent.com/a/default-user=s64",
      "userId": "14948341870893292997"
     },
     "user_tz": 240
    },
    "id": "bBT3e07OdYEI",
    "outputId": "c2550d50-68b8-4602-9546-825cd42d7ad6",
    "scrolled": true
   },
   "outputs": [
    {
     "name": "stdout",
     "output_type": "stream",
     "text": [
      "Hello World\n",
      "Hello World !\n"
     ]
    }
   ],
   "source": [
    "string1 = 'World'\n",
    "print('Hello', string1)\n",
    "\n",
    "string2 = '!'\n",
    "print('Hello', string1, string2)"
   ]
  },
  {
   "cell_type": "markdown",
   "metadata": {
    "id": "cqd9Pre1dYEJ"
   },
   "source": [
    "La concatenación de cadenas es la \"suma\" de dos cadenas. Observe que durante la concatenación no habrá espacio entre las dos cadenas o strings."
   ]
  },
  {
   "cell_type": "code",
   "execution_count": 6,
   "metadata": {
    "colab": {
     "base_uri": "https://localhost:8080/"
    },
    "executionInfo": {
     "elapsed": 232,
     "status": "ok",
     "timestamp": 1637346815866,
     "user": {
      "displayName": "Maria Julliette Marin Alarcon",
      "photoUrl": "https://lh3.googleusercontent.com/a/default-user=s64",
      "userId": "14948341870893292997"
     },
     "user_tz": 240
    },
    "id": "llreUBBydYEK",
    "outputId": "b6c4f923-f15b-43da-e72d-6df3caf1f599"
   },
   "outputs": [
    {
     "name": "stdout",
     "output_type": "stream",
     "text": [
      "HelloWorld!\n"
     ]
    }
   ],
   "source": [
    "print('Hello' + string1 + string2)"
   ]
  },
  {
   "cell_type": "markdown",
   "metadata": {
    "id": "uKo99XT2dYEL"
   },
   "source": [
    "## <font color='blue'>**String formating (formateo)**</font>\n",
    "\n",
    "Hay varias opciones para formatear las salidas de la funcion ***print()*** en Python. Dos de ellas ya están obsoletas (*%-formating* y *str.format()*), y la tercera es la que actualmente se usa (*f-Strings*). \n",
    "\n",
    "Encontrarás mucho código con las formas antiguas, así es que debes aprenderlas también."
   ]
  },
  {
   "cell_type": "markdown",
   "metadata": {
    "id": "Rfpn85g4dYEM"
   },
   "source": [
    "## <font color='blue'>**La vieja escuela**</font>"
   ]
  },
  {
   "cell_type": "markdown",
   "metadata": {
    "id": "AU8EtC3_dYEM"
   },
   "source": [
    "## Opción 1: %-formatting (obsoleta)"
   ]
  },
  {
   "cell_type": "code",
   "execution_count": 7,
   "metadata": {
    "colab": {
     "base_uri": "https://localhost:8080/",
     "height": 35
    },
    "executionInfo": {
     "elapsed": 286,
     "status": "ok",
     "timestamp": 1637346940367,
     "user": {
      "displayName": "Maria Julliette Marin Alarcon",
      "photoUrl": "https://lh3.googleusercontent.com/a/default-user=s64",
      "userId": "14948341870893292997"
     },
     "user_tz": 240
    },
    "id": "yQAyEH8ydYEM",
    "outputId": "cd0b6f14-ab24-4d20-84dd-1daf5b09c243"
   },
   "outputs": [
    {
     "data": {
      "text/plain": [
       "'Hola, Juan.'"
      ]
     },
     "execution_count": 7,
     "metadata": {},
     "output_type": "execute_result"
    }
   ],
   "source": [
    "nombre = \"Juan\"\n",
    "\"Hola, %s.\" % nombre"
   ]
  },
  {
   "cell_type": "code",
   "execution_count": 8,
   "metadata": {
    "colab": {
     "base_uri": "https://localhost:8080/",
     "height": 35
    },
    "executionInfo": {
     "elapsed": 295,
     "status": "ok",
     "timestamp": 1637347020867,
     "user": {
      "displayName": "Maria Julliette Marin Alarcon",
      "photoUrl": "https://lh3.googleusercontent.com/a/default-user=s64",
      "userId": "14948341870893292997"
     },
     "user_tz": 240
    },
    "id": "a3p__3mBdYEN",
    "outputId": "b5d21955-9117-4160-8efb-0e7181757a74"
   },
   "outputs": [
    {
     "data": {
      "text/plain": [
       "'Hola, Juan. Tú tienes 34 años.'"
      ]
     },
     "execution_count": 8,
     "metadata": {},
     "output_type": "execute_result"
    }
   ],
   "source": [
    "nombre = \"Juan\"\n",
    "edad = 34\n",
    "\n",
    "\"Hola, %s. Tú tienes %s años.\" % (nombre, edad)"
   ]
  },
  {
   "cell_type": "code",
   "execution_count": 9,
   "metadata": {
    "colab": {
     "base_uri": "https://localhost:8080/",
     "height": 35
    },
    "executionInfo": {
     "elapsed": 362,
     "status": "ok",
     "timestamp": 1637349195197,
     "user": {
      "displayName": "Maria Julliette Marin Alarcon",
      "photoUrl": "https://lh3.googleusercontent.com/a/default-user=s64",
      "userId": "14948341870893292997"
     },
     "user_tz": 240
    },
    "id": "tIPBheHQdYEO",
    "outputId": "022e1796-2f02-46fc-92f7-35f8b42f6aee"
   },
   "outputs": [
    {
     "data": {
      "text/plain": [
       "'Hola, Andrea. Tú tienes 38 años.'"
      ]
     },
     "execution_count": 9,
     "metadata": {},
     "output_type": "execute_result"
    }
   ],
   "source": [
    "# Si las líneas a imprimir son más de una necesitaremos usa la función print()\n",
    "nombre2 = \"Andrea\"\n",
    "edad2 = 38\n",
    "\"Hola, %s. Tú tienes %s años.\" % (nombre, edad)\n",
    "\"Hola, %s. Tú tienes %s años.\" % (nombre2, edad2)"
   ]
  },
  {
   "cell_type": "code",
   "execution_count": 10,
   "metadata": {
    "colab": {
     "base_uri": "https://localhost:8080/"
    },
    "executionInfo": {
     "elapsed": 234,
     "status": "ok",
     "timestamp": 1637349215160,
     "user": {
      "displayName": "Maria Julliette Marin Alarcon",
      "photoUrl": "https://lh3.googleusercontent.com/a/default-user=s64",
      "userId": "14948341870893292997"
     },
     "user_tz": 240
    },
    "id": "f6adAWMvdYEO",
    "outputId": "020f2d63-925d-4ae7-f7f4-e2723788faec"
   },
   "outputs": [
    {
     "name": "stdout",
     "output_type": "stream",
     "text": [
      "Hola, Juan. Tú tienes 34 años.\n",
      "Hola, Andrea. Tú tienes 38 años.\n"
     ]
    }
   ],
   "source": [
    "# Ahora si la salida estándar (la partalla) mostrará las dos sentencias\n",
    "print(\"Hola, %s. Tú tienes %s años.\" % (nombre, edad))\n",
    "print(\"Hola, %s. Tú tienes %s años.\" % (nombre2, edad2))"
   ]
  },
  {
   "cell_type": "markdown",
   "metadata": {
    "id": "1aNybteTdYEP"
   },
   "source": [
    "Esta lógica de formateo resultó ser muy verborreica (verbose) y propensa a errores"
   ]
  },
  {
   "cell_type": "code",
   "execution_count": 11,
   "metadata": {
    "colab": {
     "base_uri": "https://localhost:8080/",
     "height": 35
    },
    "executionInfo": {
     "elapsed": 223,
     "status": "ok",
     "timestamp": 1637349300973,
     "user": {
      "displayName": "Maria Julliette Marin Alarcon",
      "photoUrl": "https://lh3.googleusercontent.com/a/default-user=s64",
      "userId": "14948341870893292997"
     },
     "user_tz": 240
    },
    "id": "NAzrx_L2dYEP",
    "outputId": "cf7d1525-39a7-4155-d6c0-24e185c47f4b"
   },
   "outputs": [
    {
     "data": {
      "text/plain": [
       "'Hola, Juan Perez. Tú tienes 74 años. Eres un comediante. Eres miembro de Monty Python.'"
      ]
     },
     "execution_count": 11,
     "metadata": {},
     "output_type": "execute_result"
    }
   ],
   "source": [
    "nombre = \"Juan\"\n",
    "apellido = \"Perez\"\n",
    "edad = 74\n",
    "profesion = \"comediante\"\n",
    "afiliacion = \"Monty Python\"\n",
    "\"Hola, %s %s. Tú tienes %s años. Eres un %s. Eres miembro de %s.\" % (nombre, apellido, edad, profesion, afiliacion)"
   ]
  },
  {
   "cell_type": "markdown",
   "metadata": {
    "id": "wChyux7ldYEQ"
   },
   "source": [
    "## Opción 2: str.format() (obsoleta)\n",
    "\n",
    "En esta opción, se reemplazarán los campos marcados con corchetes { }"
   ]
  },
  {
   "cell_type": "code",
   "execution_count": 12,
   "metadata": {
    "colab": {
     "base_uri": "https://localhost:8080/",
     "height": 35
    },
    "executionInfo": {
     "elapsed": 236,
     "status": "ok",
     "timestamp": 1637349340208,
     "user": {
      "displayName": "Maria Julliette Marin Alarcon",
      "photoUrl": "https://lh3.googleusercontent.com/a/default-user=s64",
      "userId": "14948341870893292997"
     },
     "user_tz": 240
    },
    "id": "K_2NbtiqdYEQ",
    "outputId": "ccd00d1f-6e14-4259-b060-1ea56a9771f6"
   },
   "outputs": [
    {
     "data": {
      "text/plain": [
       "'Hello World'"
      ]
     },
     "execution_count": 12,
     "metadata": {},
     "output_type": "execute_result"
    }
   ],
   "source": [
    "\"Hello {}\".format(string1)"
   ]
  },
  {
   "cell_type": "code",
   "execution_count": 13,
   "metadata": {
    "colab": {
     "base_uri": "https://localhost:8080/"
    },
    "executionInfo": {
     "elapsed": 244,
     "status": "ok",
     "timestamp": 1637349440841,
     "user": {
      "displayName": "Maria Julliette Marin Alarcon",
      "photoUrl": "https://lh3.googleusercontent.com/a/default-user=s64",
      "userId": "14948341870893292997"
     },
     "user_tz": 240
    },
    "id": "aBiy80XfdYER",
    "outputId": "62be0bec-517b-4096-ee3f-585760342594"
   },
   "outputs": [
    {
     "name": "stdout",
     "output_type": "stream",
     "text": [
      "Hello World\n"
     ]
    }
   ],
   "source": [
    "print(\"Hello {}\".format(string1))"
   ]
  },
  {
   "cell_type": "code",
   "execution_count": 14,
   "metadata": {
    "colab": {
     "base_uri": "https://localhost:8080/",
     "height": 35
    },
    "executionInfo": {
     "elapsed": 239,
     "status": "ok",
     "timestamp": 1637349552409,
     "user": {
      "displayName": "Maria Julliette Marin Alarcon",
      "photoUrl": "https://lh3.googleusercontent.com/a/default-user=s64",
      "userId": "14948341870893292997"
     },
     "user_tz": 240
    },
    "id": "fJrDSDsvdYES",
    "outputId": "d7dc41d9-a87d-419b-c05c-03123f886fb8"
   },
   "outputs": [
    {
     "data": {
      "text/plain": [
       "'Hola, Juan. Tu tienes 74.'"
      ]
     },
     "execution_count": 14,
     "metadata": {},
     "output_type": "execute_result"
    }
   ],
   "source": [
    "# Podemos manejar la posición de las variables en el string de salida\n",
    "\"Hola, {}. Tu tienes {}.\".format(nombre, edad)"
   ]
  },
  {
   "cell_type": "code",
   "execution_count": 15,
   "metadata": {
    "colab": {
     "base_uri": "https://localhost:8080/",
     "height": 35
    },
    "executionInfo": {
     "elapsed": 231,
     "status": "ok",
     "timestamp": 1637349643169,
     "user": {
      "displayName": "Maria Julliette Marin Alarcon",
      "photoUrl": "https://lh3.googleusercontent.com/a/default-user=s64",
      "userId": "14948341870893292997"
     },
     "user_tz": 240
    },
    "id": "YIgSDPcFdYES",
    "outputId": "85fc1f06-e03b-4eed-a126-ef322abd743e"
   },
   "outputs": [
    {
     "data": {
      "text/plain": [
       "'Hola, Juan. Tu tienes 74.'"
      ]
     },
     "execution_count": 15,
     "metadata": {},
     "output_type": "execute_result"
    }
   ],
   "source": [
    "\"Hola, {1}. Tu tienes {0}.\".format(edad, nombre)"
   ]
  },
  {
   "cell_type": "markdown",
   "metadata": {
    "id": "zuItKNTDdYET"
   },
   "source": [
    "Podemos utilizar otras notaciones numéricas durante el formateo\n",
    "\n",
    "    - %s -> string\n",
    "    - %d -> Integer\n",
    "    - %f -> Float\n",
    "    - %o -> Octal\n",
    "    - %x -> Hexadecimal\n",
    "    - %e -> exponential\n",
    "    \n",
    "Pueden ser utilizados dentro de la función print() para convertir los tipos de datos"
   ]
  },
  {
   "cell_type": "code",
   "execution_count": 16,
   "metadata": {
    "colab": {
     "base_uri": "https://localhost:8080/"
    },
    "executionInfo": {
     "elapsed": 246,
     "status": "ok",
     "timestamp": 1637349788363,
     "user": {
      "displayName": "Maria Julliette Marin Alarcon",
      "photoUrl": "https://lh3.googleusercontent.com/a/default-user=s64",
      "userId": "14948341870893292997"
     },
     "user_tz": 240
    },
    "id": "HeYwOMRqdYET",
    "outputId": "48f992e0-893e-4413-e9e2-aa8d216f69ec"
   },
   "outputs": [
    {
     "name": "stdout",
     "output_type": "stream",
     "text": [
      "Actual Number = 18\n",
      "Float of the number = 18.000000\n",
      "Octal equivalent of the number = 22\n",
      "Hexadecimal equivalent of the number = 12\n",
      "Exponential equivalent of the number = 1.800000e+01\n"
     ]
    }
   ],
   "source": [
    "# Utilizando la Opción 1\n",
    "\n",
    "print (\"Actual Number = %d\" %18)\n",
    "print (\"Float of the number = %f\" %18)\n",
    "print (\"Octal equivalent of the number = %o\" %18)\n",
    "print (\"Hexadecimal equivalent of the number = %x\" %18)\n",
    "print (\"Exponential equivalent of the number = %e\" %18)"
   ]
  },
  {
   "cell_type": "code",
   "execution_count": 17,
   "metadata": {
    "colab": {
     "base_uri": "https://localhost:8080/"
    },
    "executionInfo": {
     "elapsed": 229,
     "status": "ok",
     "timestamp": 1637349808806,
     "user": {
      "displayName": "Maria Julliette Marin Alarcon",
      "photoUrl": "https://lh3.googleusercontent.com/a/default-user=s64",
      "userId": "14948341870893292997"
     },
     "user_tz": 240
    },
    "id": "wnDUe8uedYEU",
    "outputId": "83e4b0bc-c7eb-4752-db40-e41a29554b90"
   },
   "outputs": [
    {
     "name": "stdout",
     "output_type": "stream",
     "text": [
      "Actual Number = 18\n",
      "Float of the number = 18.000000\n",
      "Octal equivalent of the number = 22\n",
      "Hexadecimal equivalent of the number = 12\n",
      "Exponential equivalent of the number = 1.800000e+01\n"
     ]
    }
   ],
   "source": [
    "# Utilizando la opción 2\n",
    "\n",
    "print (\"Actual Number = {:d}\".format(18))\n",
    "print (\"Float of the number = {:f}\".format(18))\n",
    "print (\"Octal equivalent of the number = {:o}\".format(18))\n",
    "print (\"Hexadecimal equivalent of the number = {:x}\".format(18))\n",
    "print (\"Exponential equivalent of the number = {:e}\".format(18))"
   ]
  },
  {
   "cell_type": "markdown",
   "metadata": {
    "id": "NjqnRFVNdYEV"
   },
   "source": [
    "## <font color='green'>Actividad 1:</font> \n",
    "### Completa las líneas de código\n",
    "Complete las siguientes 10 líneas de código con la función print(), de forma tal que todas las sentencias se impriman correctamente.<br>\n",
    "Analiza y y comenta las diferentes salidas"
   ]
  },
  {
   "cell_type": "code",
   "execution_count": 18,
   "metadata": {
    "colab": {
     "base_uri": "https://localhost:8080/"
    },
    "executionInfo": {
     "elapsed": 307,
     "status": "ok",
     "timestamp": 1638553313159,
     "user": {
      "displayName": "Maria Julliette Marin Alarcon",
      "photoUrl": "https://lh3.googleusercontent.com/a/default-user=s64",
      "userId": "14948341870893292997"
     },
     "user_tz": 240
    },
    "id": "w7RKFl3SdYEV",
    "outputId": "bbb58035-f305-4f6f-8208-e5a67392e1c2"
   },
   "outputs": [
    {
     "name": "stdout",
     "output_type": "stream",
     "text": [
      "two one\n",
      "      test\n",
      "test      \n",
      "42\n",
      "3.141593\n",
      "  42\n",
      "003.14\n",
      "0042\n",
      "-23\n",
      "Hello world!\n"
     ]
    }
   ],
   "source": [
    "print('{1} {0}'.format('one', 'two'))\n",
    "print('{:>10}'.format('test'))\n",
    "print('{:10}'.format('test'))  # Alineación izquierda\n",
    "\n",
    "# numeros\n",
    "# Colocando función print al comienzo de cada línea para que se impriman todas las sentencias\n",
    "print('{:d}'.format(42))\n",
    "print('{:f}'.format(3.141592653589793))\n",
    "print('{:4d}'.format(42)) # padding\n",
    "print('{:06.2f}'.format(3.141592653589793))\n",
    "print('{:04d}'.format(42))\n",
    "print('{: d}'.format((- 23)))\n",
    "print('{first} {last}'.format(first='Hello', last='world!'))"
   ]
  },
  {
   "cell_type": "markdown",
   "metadata": {
    "id": "bPnrsEPkdYEV"
   },
   "source": [
    "<font color='green'>Fin actividad 1</font> "
   ]
  },
  {
   "cell_type": "code",
   "execution_count": 19,
   "metadata": {
    "colab": {
     "base_uri": "https://localhost:8080/"
    },
    "executionInfo": {
     "elapsed": 284,
     "status": "ok",
     "timestamp": 1637350988457,
     "user": {
      "displayName": "Maria Julliette Marin Alarcon",
      "photoUrl": "https://lh3.googleusercontent.com/a/default-user=s64",
      "userId": "14948341870893292997"
     },
     "user_tz": 240
    },
    "id": "wvoMTEr2dYEV",
    "outputId": "13631655-1c7c-4f7f-c464-b15b7db39f71"
   },
   "outputs": [
    {
     "name": "stdout",
     "output_type": "stream",
     "text": [
      "Hello World !\n"
     ]
    }
   ],
   "source": [
    "print(\"Hello {:s} {:s}\".format(string1, string2))"
   ]
  },
  {
   "cell_type": "markdown",
   "metadata": {
    "id": "XnFNO-yrdYEW"
   },
   "source": [
    "### Otros ejemplos"
   ]
  },
  {
   "cell_type": "markdown",
   "metadata": {
    "id": "i1DjSQxidYEW"
   },
   "source": [
    "Las siguientes son otras formas diferentes de utilizar la declaración de impresión."
   ]
  },
  {
   "cell_type": "code",
   "execution_count": 20,
   "metadata": {
    "colab": {
     "base_uri": "https://localhost:8080/"
    },
    "executionInfo": {
     "elapsed": 230,
     "status": "ok",
     "timestamp": 1637351000523,
     "user": {
      "displayName": "Maria Julliette Marin Alarcon",
      "photoUrl": "https://lh3.googleusercontent.com/a/default-user=s64",
      "userId": "14948341870893292997"
     },
     "user_tz": 240
    },
    "id": "jPY_OHVkdYEW",
    "outputId": "465bc8c7-f2ab-48fc-c51f-41ea0133c7e2"
   },
   "outputs": [
    {
     "name": "stdout",
     "output_type": "stream",
     "text": [
      "I want to be printed here\n"
     ]
    }
   ],
   "source": [
    "print (\"I want to be printed {:s}\".format('here'))"
   ]
  },
  {
   "cell_type": "code",
   "execution_count": 21,
   "metadata": {
    "colab": {
     "base_uri": "https://localhost:8080/"
    },
    "executionInfo": {
     "elapsed": 290,
     "status": "ok",
     "timestamp": 1637351003153,
     "user": {
      "displayName": "Maria Julliette Marin Alarcon",
      "photoUrl": "https://lh3.googleusercontent.com/a/default-user=s64",
      "userId": "14948341870893292997"
     },
     "user_tz": 240
    },
    "id": "QmDl1nLrdYEW",
    "outputId": "51cbb55f-a1ef-48bd-aa3e-a8876d295151"
   },
   "outputs": [
    {
     "name": "stdout",
     "output_type": "stream",
     "text": [
      "_A_A_A_A_A_A_A_A_A_A\n"
     ]
    }
   ],
   "source": [
    "print('_A'*10)"
   ]
  },
  {
   "cell_type": "code",
   "execution_count": 22,
   "metadata": {
    "colab": {
     "base_uri": "https://localhost:8080/"
    },
    "executionInfo": {
     "elapsed": 263,
     "status": "ok",
     "timestamp": 1637351071912,
     "user": {
      "displayName": "Maria Julliette Marin Alarcon",
      "photoUrl": "https://lh3.googleusercontent.com/a/default-user=s64",
      "userId": "14948341870893292997"
     },
     "user_tz": 240
    },
    "id": "djd7JEycdYEX",
    "outputId": "bebef0f1-fd40-4fc2-8087-205ed9a3e65b"
   },
   "outputs": [
    {
     "name": "stdout",
     "output_type": "stream",
     "text": [
      "Jan\n",
      "Feb\n",
      "Mar\n",
      "Apr\n",
      "May\n",
      "Jun\n",
      "Jul\n",
      "Aug\n"
     ]
    }
   ],
   "source": [
    "# Con el caracter de control \\n saltamos una línea\n",
    "print(\"Jan\\nFeb\\nMar\\nApr\\nMay\\nJun\\nJul\\nAug\")"
   ]
  },
  {
   "cell_type": "code",
   "execution_count": 23,
   "metadata": {
    "colab": {
     "base_uri": "https://localhost:8080/"
    },
    "executionInfo": {
     "elapsed": 235,
     "status": "ok",
     "timestamp": 1637351147643,
     "user": {
      "displayName": "Maria Julliette Marin Alarcon",
      "photoUrl": "https://lh3.googleusercontent.com/a/default-user=s64",
      "userId": "14948341870893292997"
     },
     "user_tz": 240
    },
    "id": "ZWiXO2KgdYEX",
    "outputId": "4a7aa530-5ce6-466b-9bd3-0be189c6342e"
   },
   "outputs": [
    {
     "name": "stdout",
     "output_type": "stream",
     "text": [
      "I want \\n to be printed.\n"
     ]
    }
   ],
   "source": [
    "# Si queremos imprimir el caracter \\n sin saltar línea diplicamos el backslash\n",
    "print(\"I want \\\\n to be printed.\")"
   ]
  },
  {
   "cell_type": "code",
   "execution_count": 24,
   "metadata": {
    "colab": {
     "base_uri": "https://localhost:8080/"
    },
    "executionInfo": {
     "elapsed": 225,
     "status": "ok",
     "timestamp": 1637351200979,
     "user": {
      "displayName": "Maria Julliette Marin Alarcon",
      "photoUrl": "https://lh3.googleusercontent.com/a/default-user=s64",
      "userId": "14948341870893292997"
     },
     "user_tz": 240
    },
    "id": "NK-RZ1eTdYEX",
    "outputId": "84e1dde0-9b46-4158-c3fd-6a32d7191317"
   },
   "outputs": [
    {
     "name": "stdout",
     "output_type": "stream",
     "text": [
      "Look\twhat\thappens.\n"
     ]
    }
   ],
   "source": [
    "# Con \\t generamos una tabulación\n",
    "print(\"Look\\twhat\\thappens.\")"
   ]
  },
  {
   "cell_type": "code",
   "execution_count": 25,
   "metadata": {
    "colab": {
     "base_uri": "https://localhost:8080/"
    },
    "executionInfo": {
     "elapsed": 232,
     "status": "ok",
     "timestamp": 1637351310005,
     "user": {
      "displayName": "Maria Julliette Marin Alarcon",
      "photoUrl": "https://lh3.googleusercontent.com/a/default-user=s64",
      "userId": "14948341870893292997"
     },
     "user_tz": 240
    },
    "id": "hemyq3mRdYEX",
    "outputId": "4c7d3d7e-8c83-4fd7-ccab-603f37e599fb"
   },
   "outputs": [
    {
     "name": "stdout",
     "output_type": "stream",
     "text": [
      "\n",
      "Routine:\n",
      "\t- Eat\n",
      "\t- Sleep\n",
      "\t- Repeat\n",
      "\n"
     ]
    }
   ],
   "source": [
    "print(\"\"\"\n",
    "Routine:\n",
    "\\t- Eat\n",
    "\\t- Sleep\\n\\t- Repeat\n",
    "\"\"\")"
   ]
  },
  {
   "cell_type": "markdown",
   "metadata": {
    "id": "GR0UHS2BdYEY"
   },
   "source": [
    "### Manejando la precisión y la cantidad de números a mostrar"
   ]
  },
  {
   "cell_type": "markdown",
   "metadata": {
    "id": "ji9PdF0edYEY"
   },
   "source": [
    "El ancho del campo es el ancho del número completo y la precisión es el ancho hacia la derecha. Se pueden modificar estos anchos según los requisitos.\n",
    "El ancho de precisión predeterminado se establece en 6."
   ]
  },
  {
   "cell_type": "code",
   "execution_count": 26,
   "metadata": {
    "colab": {
     "base_uri": "https://localhost:8080/",
     "height": 35
    },
    "executionInfo": {
     "elapsed": 258,
     "status": "ok",
     "timestamp": 1637352048203,
     "user": {
      "displayName": "Maria Julliette Marin Alarcon",
      "photoUrl": "https://lh3.googleusercontent.com/a/default-user=s64",
      "userId": "14948341870893292997"
     },
     "user_tz": 240
    },
    "id": "_w4lN8wadYEY",
    "outputId": "f11d6240-3f89-4388-ab83-adb7eeb7960a"
   },
   "outputs": [
    {
     "data": {
      "text/plain": [
       "'3.121312'"
      ]
     },
     "execution_count": 26,
     "metadata": {},
     "output_type": "execute_result"
    }
   ],
   "source": [
    "# predeterminado = 6\n",
    "\"%f\" % 3.121312312312"
   ]
  },
  {
   "cell_type": "markdown",
   "metadata": {
    "id": "fiNDIod2dYEY"
   },
   "source": [
    "Observa que se devuelven hasta 6 decimales. Para especificar el número de decimales, se utiliza \n",
    "\n",
    "'%(fieldwidth).(precisionwidth) f'"
   ]
  },
  {
   "cell_type": "code",
   "execution_count": 27,
   "metadata": {
    "colab": {
     "base_uri": "https://localhost:8080/",
     "height": 35
    },
    "executionInfo": {
     "elapsed": 255,
     "status": "ok",
     "timestamp": 1637352073355,
     "user": {
      "displayName": "Maria Julliette Marin Alarcon",
      "photoUrl": "https://lh3.googleusercontent.com/a/default-user=s64",
      "userId": "14948341870893292997"
     },
     "user_tz": 240
    },
    "id": "A7IKIYmLdYEZ",
    "outputId": "2400c1c7-52f3-4630-d2a8-a2164ff936f8"
   },
   "outputs": [
    {
     "data": {
      "text/plain": [
       "'3.12131'"
      ]
     },
     "execution_count": 27,
     "metadata": {},
     "output_type": "execute_result"
    }
   ],
   "source": [
    "\"%.5f\" % 3.121312312312"
   ]
  },
  {
   "cell_type": "markdown",
   "metadata": {
    "id": "rbPC7ZwhdYEZ"
   },
   "source": [
    "### Lo mismo pero usando la opción 2 con str.format()\n",
    "Cuál es la diferencia? \n",
    "\n",
    "TIP: busca en los pequeños detalles"
   ]
  },
  {
   "cell_type": "code",
   "execution_count": 28,
   "metadata": {
    "colab": {
     "base_uri": "https://localhost:8080/"
    },
    "executionInfo": {
     "elapsed": 273,
     "status": "ok",
     "timestamp": 1637352235729,
     "user": {
      "displayName": "Maria Julliette Marin Alarcon",
      "photoUrl": "https://lh3.googleusercontent.com/a/default-user=s64",
      "userId": "14948341870893292997"
     },
     "user_tz": 240
    },
    "id": "ZbWdeF7udYEZ",
    "outputId": "3522c1ee-eb14-4a9e-951a-cc13f01f3e79"
   },
   "outputs": [
    {
     "name": "stdout",
     "output_type": "stream",
     "text": [
      "3.12131\n"
     ]
    }
   ],
   "source": [
    "print(\"{:.5f}\".format(3.121312312312))"
   ]
  },
  {
   "cell_type": "code",
   "execution_count": 29,
   "metadata": {
    "colab": {
     "base_uri": "https://localhost:8080/"
    },
    "executionInfo": {
     "elapsed": 737,
     "status": "ok",
     "timestamp": 1637352243962,
     "user": {
      "displayName": "Maria Julliette Marin Alarcon",
      "photoUrl": "https://lh3.googleusercontent.com/a/default-user=s64",
      "userId": "14948341870893292997"
     },
     "user_tz": 240
    },
    "id": "V553ealVdYEZ",
    "outputId": "8d82b8c2-03d4-4d4b-ac10-438f3832a35d"
   },
   "outputs": [
    {
     "data": {
      "text/plain": [
       "str"
      ]
     },
     "execution_count": 29,
     "metadata": {},
     "output_type": "execute_result"
    }
   ],
   "source": [
    "type(\"%.5f\" % 3.121312312312)"
   ]
  },
  {
   "cell_type": "code",
   "execution_count": 30,
   "metadata": {
    "colab": {
     "base_uri": "https://localhost:8080/"
    },
    "executionInfo": {
     "elapsed": 250,
     "status": "ok",
     "timestamp": 1637352255921,
     "user": {
      "displayName": "Maria Julliette Marin Alarcon",
      "photoUrl": "https://lh3.googleusercontent.com/a/default-user=s64",
      "userId": "14948341870893292997"
     },
     "user_tz": 240
    },
    "id": "raD9H-vEdYEZ",
    "outputId": "aa23f03b-09a5-4a77-8e1f-6c503b363880"
   },
   "outputs": [
    {
     "name": "stdout",
     "output_type": "stream",
     "text": [
      "3.12131\n"
     ]
    },
    {
     "data": {
      "text/plain": [
       "NoneType"
      ]
     },
     "execution_count": 30,
     "metadata": {},
     "output_type": "execute_result"
    }
   ],
   "source": [
    "type(print(\"{:.5f}\".format(3.121312312312)))"
   ]
  },
  {
   "cell_type": "markdown",
   "metadata": {
    "id": "ySJe2JLldYEa"
   },
   "source": [
    "Si el ancho del campo se establece más de lo necesario, los datos a la derecha se alinean para ajustarse a los valores especificados."
   ]
  },
  {
   "cell_type": "code",
   "execution_count": 31,
   "metadata": {
    "colab": {
     "base_uri": "https://localhost:8080/",
     "height": 35
    },
    "executionInfo": {
     "elapsed": 365,
     "status": "ok",
     "timestamp": 1637352279462,
     "user": {
      "displayName": "Maria Julliette Marin Alarcon",
      "photoUrl": "https://lh3.googleusercontent.com/a/default-user=s64",
      "userId": "14948341870893292997"
     },
     "user_tz": 240
    },
    "id": "LZLsTohBdYEa",
    "outputId": "d137df61-99fb-4eba-8a4b-333651d95568"
   },
   "outputs": [
    {
     "data": {
      "text/plain": [
       "'  3.12131'"
      ]
     },
     "execution_count": 31,
     "metadata": {},
     "output_type": "execute_result"
    }
   ],
   "source": [
    "\"%9.5f\" % 3.121312312312"
   ]
  },
  {
   "cell_type": "markdown",
   "metadata": {
    "id": "QbkdQD5zdYEa"
   },
   "source": [
    "## <font color='green'>Actividad 2:</font> \n",
    "### Escribe sentencias con str.format()\n",
    "1. Escribe las sentencias utilizando la opción 2 con str.format()\n",
    "\n",
    "Imprime la siguiente salida utilizando el valor de pi dado:\n",
    "\n",
    "```python\n",
    "El valor de Π es   3.14159\n",
    "```\n",
    "\n",
    "Con *chr(298))* obtendrás el caracter unicode de PI."
   ]
  },
  {
   "cell_type": "code",
   "execution_count": 32,
   "metadata": {
    "colab": {
     "base_uri": "https://localhost:8080/"
    },
    "executionInfo": {
     "elapsed": 210,
     "status": "ok",
     "timestamp": 1637585233954,
     "user": {
      "displayName": "Maria Julliette Marin Alarcon",
      "photoUrl": "https://lh3.googleusercontent.com/a/default-user=s64",
      "userId": "14948341870893292997"
     },
     "user_tz": 180
    },
    "id": "0AziV7gKdYEa",
    "outputId": "8054e59f-f684-43f1-d141-d3314fa39b0f"
   },
   "outputs": [
    {
     "name": "stdout",
     "output_type": "stream",
     "text": [
      "El valor de Π es   3.14159\n"
     ]
    }
   ],
   "source": [
    "import math\n",
    "pi = math.pi\n",
    "# Tu código aquí...\n",
    "print('El valor de Π es {:9.5f}'.format(pi))\n",
    "\n"
   ]
  },
  {
   "cell_type": "markdown",
   "metadata": {
    "id": "NH7pHLfOdYEb"
   },
   "source": [
    "2. Genera la siguiente impresión en base a *valor1* y *valor2*\n",
    "\n",
    "```python\n",
    "01234.123\n",
    "00001.123\n",
    "```\n",
    "\n",
    "Tip: El relleno de ceros (zero padding) se realiza agregando un 0 al comienzo del ancho de campo."
   ]
  },
  {
   "cell_type": "code",
   "execution_count": 33,
   "metadata": {
    "colab": {
     "base_uri": "https://localhost:8080/"
    },
    "executionInfo": {
     "elapsed": 256,
     "status": "ok",
     "timestamp": 1638553568324,
     "user": {
      "displayName": "Maria Julliette Marin Alarcon",
      "photoUrl": "https://lh3.googleusercontent.com/a/default-user=s64",
      "userId": "14948341870893292997"
     },
     "user_tz": 240
    },
    "id": "7KRBR-40dYEb",
    "outputId": "88020641-dc97-455c-8919-08f540241852"
   },
   "outputs": [
    {
     "name": "stdout",
     "output_type": "stream",
     "text": [
      "01234.123\n",
      "00001.123\n"
     ]
    }
   ],
   "source": [
    "valor1 = 1234.123456789\n",
    "valor2 = 1.1234\n",
    "# Tu código aquí...\n",
    "# El fomato es entre llaves {desde:completar_con+cantidad_de_caracteres+.decimales+tipo_de_dato}\n",
    "print('{:09.3f}'.format(valor1))\n",
    "print('{:09.3f}'.format(valor2))\n",
    "\n",
    "\n"
   ]
  },
  {
   "cell_type": "markdown",
   "metadata": {
    "id": "9EnqL0DTdYEb"
   },
   "source": [
    "<font color='green'>Fin actividad 2</font>"
   ]
  },
  {
   "cell_type": "markdown",
   "metadata": {
    "id": "5hS0i-OidYEb"
   },
   "source": [
    "Para una alineación adecuada, se puede dejar un espacio en blanco en el ancho del campo para que cuando se use un número negativo, se mantenga la alineación adecuada."
   ]
  },
  {
   "cell_type": "code",
   "execution_count": 34,
   "metadata": {
    "colab": {
     "base_uri": "https://localhost:8080/"
    },
    "executionInfo": {
     "elapsed": 315,
     "status": "ok",
     "timestamp": 1637352991245,
     "user": {
      "displayName": "Maria Julliette Marin Alarcon",
      "photoUrl": "https://lh3.googleusercontent.com/a/default-user=s64",
      "userId": "14948341870893292997"
     },
     "user_tz": 240
    },
    "id": "ZXozJ4tWdYEb",
    "outputId": "7885cf94-fa99-4d58-c67f-77aa0dc041d4"
   },
   "outputs": [
    {
     "name": "stdout",
     "output_type": "stream",
     "text": [
      "  3.121312\n",
      " -3.121312\n",
      "-3.121312\n"
     ]
    }
   ],
   "source": [
    "print(\"{:10f}\".format(3.121312312312)) # Recuerda que por defecto imprimira 6 decimales \n",
    "print(\"{:10f}\".format(-3.121312312312))\n",
    "print(\"{:9f}\".format(-3.121312312312))"
   ]
  },
  {
   "cell_type": "markdown",
   "metadata": {
    "id": "q4cfh57rdYEc"
   },
   "source": [
    "Como se mencionó anteriormente, los datos a la derecha se alinean cuando el ancho del campo mencionado es mayor que el ancho del campo real. Pero la alineación a la izquierda se puede hacer especificando un símbolo negativo en el ancho del campo."
   ]
  },
  {
   "cell_type": "markdown",
   "metadata": {
    "id": "gUSWDMccdYEc"
   },
   "source": [
    "## <font color='green'>Actividad 3:</font> \n",
    "### Cuál es la diferencia?\n",
    "Abre una nueva celda debajo de la siguiente y escribe un texto (como este en modo Markdown) que explique cuál es la diferencia entre las dos siguientes declaraciones de impresión."
   ]
  },
  {
   "cell_type": "code",
   "execution_count": 35,
   "metadata": {
    "colab": {
     "base_uri": "https://localhost:8080/"
    },
    "executionInfo": {
     "elapsed": 301,
     "status": "ok",
     "timestamp": 1638553578691,
     "user": {
      "displayName": "Maria Julliette Marin Alarcon",
      "photoUrl": "https://lh3.googleusercontent.com/a/default-user=s64",
      "userId": "14948341870893292997"
     },
     "user_tz": 240
    },
    "id": "eCTLJOH4dYEc",
    "outputId": "a26da6b3-c97b-4827-c4de-713918c13890"
   },
   "outputs": [
    {
     "name": "stdout",
     "output_type": "stream",
     "text": [
      "    3.121\n",
      "3.121\n"
     ]
    }
   ],
   "source": [
    "print(\"{:9.3f}\".format(3.121312312312))\n",
    "print(\"{:.3f}\".format(3.121312312312))"
   ]
  },
  {
   "cell_type": "code",
   "execution_count": 36,
   "metadata": {
    "colab": {
     "base_uri": "https://localhost:8080/",
     "height": 70
    },
    "executionInfo": {
     "elapsed": 666,
     "status": "ok",
     "timestamp": 1638555446759,
     "user": {
      "displayName": "Maria Julliette Marin Alarcon",
      "photoUrl": "https://lh3.googleusercontent.com/a/default-user=s64",
      "userId": "14948341870893292997"
     },
     "user_tz": 240
    },
    "id": "TaINM-ZYgCAb",
    "outputId": "6638d4fe-b119-4328-d14f-698855f330cd"
   },
   "outputs": [
    {
     "data": {
      "text/plain": [
       "' Explicación de diferencia entre las declaraciones\\nPor un lado,  la primera expresión indica el largo que debe tener el resultado, \\nla cantidad de decimales y el formato del número. Mientras que la segunda \\nexpresión indica la cantidad de decimales a mostrar y el formato.\\nEn conclusión, la diferencia es indicar el largo que debe tener el resultado.\\n\\n'"
      ]
     },
     "execution_count": 36,
     "metadata": {},
     "output_type": "execute_result"
    }
   ],
   "source": [
    "''' Explicación de diferencia entre las declaraciones\n",
    "Por un lado,  la primera expresión indica el largo que debe tener el resultado, \n",
    "la cantidad de decimales y el formato del número. Mientras que la segunda \n",
    "expresión indica la cantidad de decimales a mostrar y el formato.\n",
    "En conclusión, la diferencia es indicar el largo que debe tener el resultado.\n",
    "\n",
    "'''"
   ]
  },
  {
   "cell_type": "markdown",
   "metadata": {
    "id": "eo5118czdYEc"
   },
   "source": [
    "<font color='green'>Fin actividad 3</font>"
   ]
  },
  {
   "cell_type": "markdown",
   "metadata": {
    "id": "qkG1gCTQdYEc"
   },
   "source": [
    "## <font color='blue'>**La nueva escuela**</font>"
   ]
  },
  {
   "cell_type": "markdown",
   "metadata": {
    "id": "E6EiSAm5dYEc"
   },
   "source": [
    "## Opción 3: f-Strings (vigente)"
   ]
  },
  {
   "cell_type": "markdown",
   "metadata": {
    "id": "otYUTkZGdYEd"
   },
   "source": [
    "La sintaxis es similar a la que usó con str.format () pero menos detallada (verbose). Mira lo fácil de leer que es:"
   ]
  },
  {
   "cell_type": "code",
   "execution_count": 37,
   "metadata": {
    "colab": {
     "base_uri": "https://localhost:8080/",
     "height": 35
    },
    "executionInfo": {
     "elapsed": 295,
     "status": "ok",
     "timestamp": 1637353420742,
     "user": {
      "displayName": "Maria Julliette Marin Alarcon",
      "photoUrl": "https://lh3.googleusercontent.com/a/default-user=s64",
      "userId": "14948341870893292997"
     },
     "user_tz": 240
    },
    "id": "_kKZly_edYEd",
    "outputId": "bcfcf6ad-cbd1-46b5-c9f4-2b1c9b789e89"
   },
   "outputs": [
    {
     "data": {
      "text/plain": [
       "'Hola, Pedro. Tu tienes 42 años.'"
      ]
     },
     "execution_count": 37,
     "metadata": {},
     "output_type": "execute_result"
    }
   ],
   "source": [
    "nombre = \"Pedro\"\n",
    "edad = 42\n",
    "f\"Hola, {nombre}. Tu tienes {edad} años.\""
   ]
  },
  {
   "cell_type": "code",
   "execution_count": 38,
   "metadata": {
    "colab": {
     "base_uri": "https://localhost:8080/",
     "height": 35
    },
    "executionInfo": {
     "elapsed": 248,
     "status": "ok",
     "timestamp": 1637353489624,
     "user": {
      "displayName": "Maria Julliette Marin Alarcon",
      "photoUrl": "https://lh3.googleusercontent.com/a/default-user=s64",
      "userId": "14948341870893292997"
     },
     "user_tz": 240
    },
    "id": "-Gz50rSWdYEd",
    "outputId": "e9ad2b10-67c9-430f-a32f-4536d6dd7da0"
   },
   "outputs": [
    {
     "data": {
      "text/plain": [
       "'Hola, Pedro. Tu tienes 42 años.'"
      ]
     },
     "execution_count": 38,
     "metadata": {},
     "output_type": "execute_result"
    }
   ],
   "source": [
    "# la f puede ser mayúscula tambien\n",
    "F\"Hola, {nombre}. Tu tienes {edad} años.\""
   ]
  },
  {
   "cell_type": "markdown",
   "metadata": {
    "id": "iNs9hbkgdYEd"
   },
   "source": [
    "Los f-strings pueden evaluar operaciones en su interior"
   ]
  },
  {
   "cell_type": "code",
   "execution_count": 39,
   "metadata": {
    "colab": {
     "base_uri": "https://localhost:8080/",
     "height": 35
    },
    "executionInfo": {
     "elapsed": 321,
     "status": "ok",
     "timestamp": 1637353494336,
     "user": {
      "displayName": "Maria Julliette Marin Alarcon",
      "photoUrl": "https://lh3.googleusercontent.com/a/default-user=s64",
      "userId": "14948341870893292997"
     },
     "user_tz": 240
    },
    "id": "nSnX6L0FdYEd",
    "outputId": "4dffd2a1-890e-462b-d600-42bcdf7480c3"
   },
   "outputs": [
    {
     "data": {
      "text/plain": [
       "'16'"
      ]
     },
     "execution_count": 39,
     "metadata": {},
     "output_type": "execute_result"
    }
   ],
   "source": [
    "f'{2 * 8}'"
   ]
  },
  {
   "cell_type": "code",
   "execution_count": 40,
   "metadata": {
    "colab": {
     "base_uri": "https://localhost:8080/",
     "height": 35
    },
    "executionInfo": {
     "elapsed": 287,
     "status": "ok",
     "timestamp": 1637353502274,
     "user": {
      "displayName": "Maria Julliette Marin Alarcon",
      "photoUrl": "https://lh3.googleusercontent.com/a/default-user=s64",
      "userId": "14948341870893292997"
     },
     "user_tz": 240
    },
    "id": "l3Qmq7IvdYEd",
    "outputId": "a7d21fac-fb52-4f8f-dd4e-f822b6ab0918"
   },
   "outputs": [
    {
     "data": {
      "text/plain": [
       "'2 x 8 = 16'"
      ]
     },
     "execution_count": 40,
     "metadata": {},
     "output_type": "execute_result"
    }
   ],
   "source": [
    "f'{2} x {8} = {2 * 8}'"
   ]
  },
  {
   "cell_type": "code",
   "execution_count": 41,
   "metadata": {
    "colab": {
     "base_uri": "https://localhost:8080/",
     "height": 35
    },
    "executionInfo": {
     "elapsed": 261,
     "status": "ok",
     "timestamp": 1637353545185,
     "user": {
      "displayName": "Maria Julliette Marin Alarcon",
      "photoUrl": "https://lh3.googleusercontent.com/a/default-user=s64",
      "userId": "14948341870893292997"
     },
     "user_tz": 240
    },
    "id": "tp_j10VfdYEe",
    "outputId": "4470f2ba-86ba-4f5e-97b3-7aa99b71b239"
   },
   "outputs": [
    {
     "data": {
      "text/plain": [
       "'Hola, Andrea. Tu tienes 38 años.'"
      ]
     },
     "execution_count": 41,
     "metadata": {},
     "output_type": "execute_result"
    }
   ],
   "source": [
    "# Igual que antes, si queremos imprimier más de una sentencia, deberemos usar la función print()\n",
    "F\"Hola, {nombre}. Tu tienes {edad} años.\"\n",
    "F\"Hola, {nombre2}. Tu tienes {edad2} años.\""
   ]
  },
  {
   "cell_type": "code",
   "execution_count": 42,
   "metadata": {
    "colab": {
     "base_uri": "https://localhost:8080/"
    },
    "executionInfo": {
     "elapsed": 300,
     "status": "ok",
     "timestamp": 1637353662299,
     "user": {
      "displayName": "Maria Julliette Marin Alarcon",
      "photoUrl": "https://lh3.googleusercontent.com/a/default-user=s64",
      "userId": "14948341870893292997"
     },
     "user_tz": 240
    },
    "id": "pPRHkBOTdYEe",
    "outputId": "ed0747e7-6b52-4eac-b049-979c32b17e9a"
   },
   "outputs": [
    {
     "name": "stdout",
     "output_type": "stream",
     "text": [
      "Hola, Pedro. Tu tienes 42 años.\n",
      "Hola, Andrea. Tu tienes 38 años.\n"
     ]
    }
   ],
   "source": [
    "print(F\"Hola, {nombre}. Tu tienes {edad} años.\")\n",
    "print(F\"Hola, {nombre2}. Tu tienes {edad2} años.\")"
   ]
  },
  {
   "cell_type": "code",
   "execution_count": 43,
   "metadata": {
    "colab": {
     "base_uri": "https://localhost:8080/"
    },
    "executionInfo": {
     "elapsed": 239,
     "status": "ok",
     "timestamp": 1637353686737,
     "user": {
      "displayName": "Maria Julliette Marin Alarcon",
      "photoUrl": "https://lh3.googleusercontent.com/a/default-user=s64",
      "userId": "14948341870893292997"
     },
     "user_tz": 240
    },
    "id": "m8EKDVvKdYEe",
    "outputId": "388fe872-0a81-44e8-82fb-20e0dd4a41b0"
   },
   "outputs": [
    {
     "name": "stdout",
     "output_type": "stream",
     "text": [
      "Hola, Pedro. Tu tienes 42 años. \n",
      "Hola, Andrea. Tu tienes 38 años.\n"
     ]
    }
   ],
   "source": [
    "mensaje = (\n",
    "    F\"Hola, {nombre}. Tu tienes {edad} años. \\n\"\n",
    "    F\"Hola, {nombre2}. Tu tienes {edad2} años.\"\n",
    ")\n",
    "print(mensaje)"
   ]
  },
  {
   "cell_type": "code",
   "execution_count": 44,
   "metadata": {
    "colab": {
     "base_uri": "https://localhost:8080/"
    },
    "executionInfo": {
     "elapsed": 267,
     "status": "ok",
     "timestamp": 1637353704829,
     "user": {
      "displayName": "Maria Julliette Marin Alarcon",
      "photoUrl": "https://lh3.googleusercontent.com/a/default-user=s64",
      "userId": "14948341870893292997"
     },
     "user_tz": 240
    },
    "id": "DCZGH2K7dYEe",
    "outputId": "38616396-9987-4de2-fa01-076dd7aa1ce0"
   },
   "outputs": [
    {
     "name": "stdout",
     "output_type": "stream",
     "text": [
      "Actual Number =  18\n",
      "Float of the number =  18.000000\n",
      "Octal equivalent of the number = 22\n",
      "Hexadecimal equivalent of the number = 12\n",
      "Exponential equivalent of the number = 1.800000e+01\n"
     ]
    }
   ],
   "source": [
    "# Otras notaciones numéricas utilizando la Opción 3\n",
    "val = 18\n",
    "print (f\"Actual Number = {val: d}\")\n",
    "print (f\"Float of the number = {val: f}\")\n",
    "print (f\"Octal equivalent of the number = {val :o}\")\n",
    "print (f\"Hexadecimal equivalent of the number = {val :x}\")\n",
    "print (f\"Exponential equivalent of the number = {val :e}\")"
   ]
  },
  {
   "cell_type": "markdown",
   "metadata": {
    "id": "4f-KD1HGdYEe"
   },
   "source": [
    "### Manejando la precisión y la cantidad de números a mostrar"
   ]
  },
  {
   "cell_type": "code",
   "execution_count": 45,
   "metadata": {
    "colab": {
     "base_uri": "https://localhost:8080/"
    },
    "executionInfo": {
     "elapsed": 229,
     "status": "ok",
     "timestamp": 1637353879569,
     "user": {
      "displayName": "Maria Julliette Marin Alarcon",
      "photoUrl": "https://lh3.googleusercontent.com/a/default-user=s64",
      "userId": "14948341870893292997"
     },
     "user_tz": 240
    },
    "id": "HWg2dgQzdYEe",
    "outputId": "1292b42d-221d-415e-b4f8-54ce168c0e4c"
   },
   "outputs": [
    {
     "name": "stdout",
     "output_type": "stream",
     "text": [
      "3.12\n",
      "3.12131\n",
      "  3.12131\n",
      "003.12131\n"
     ]
    }
   ],
   "source": [
    "val2 = 3.121312312312\n",
    "print(f\"{val2:.2f}\")\n",
    "print(f\"{val2:.5f}\")\n",
    "print(f\"{val2:9.5f}\")\n",
    "print(f\"{val2:09.5f}\")"
   ]
  },
  {
   "cell_type": "markdown",
   "metadata": {
    "id": "bS78uNT0dYEf"
   },
   "source": [
    "### Justificando y manejo de ancho con f-strings"
   ]
  },
  {
   "cell_type": "code",
   "execution_count": 46,
   "metadata": {
    "colab": {
     "base_uri": "https://localhost:8080/"
    },
    "executionInfo": {
     "elapsed": 251,
     "status": "ok",
     "timestamp": 1637354012406,
     "user": {
      "displayName": "Maria Julliette Marin Alarcon",
      "photoUrl": "https://lh3.googleusercontent.com/a/default-user=s64",
      "userId": "14948341870893292997"
     },
     "user_tz": 240
    },
    "id": "fRXSkpWGdYEf",
    "outputId": "aea907eb-1873-427d-d735-77281e8851e7"
   },
   "outputs": [
    {
     "name": "stdout",
     "output_type": "stream",
     "text": [
      "         a\n",
      "        ab\n",
      "       abc\n",
      "      abcd\n"
     ]
    }
   ],
   "source": [
    "s1 = 'a'\n",
    "s2 = 'ab'\n",
    "s3 = 'abc'\n",
    "s4 = 'abcd'\n",
    "\n",
    "print(f'{s1:>10}')\n",
    "print(f'{s2:>10}')\n",
    "print(f'{s3:>10}')\n",
    "print(f'{s4:>10}')"
   ]
  },
  {
   "cell_type": "markdown",
   "metadata": {
    "id": "xtJPXxl9dYEf"
   },
   "source": [
    "## <font color='green'>Actividad 4:</font> \n",
    "### Manejo de ancho con f-strings\n",
    "Ejecuta el siguiente ejemplo y luego desarrolla el desafío "
   ]
  },
  {
   "cell_type": "code",
   "execution_count": 47,
   "metadata": {
    "colab": {
     "base_uri": "https://localhost:8080/"
    },
    "executionInfo": {
     "elapsed": 263,
     "status": "ok",
     "timestamp": 1637354096875,
     "user": {
      "displayName": "Maria Julliette Marin Alarcon",
      "photoUrl": "https://lh3.googleusercontent.com/a/default-user=s64",
      "userId": "14948341870893292997"
     },
     "user_tz": 240
    },
    "id": "cK2leH0pdYEf",
    "outputId": "48d42329-84c0-47d1-aecc-a8bcd2ca5ce2"
   },
   "outputs": [
    {
     "name": "stdout",
     "output_type": "stream",
     "text": [
      " 1     1     1\n",
      " 2     2     2\n",
      " 3     3     3\n",
      " 4     4     4\n",
      " 5     5     5\n",
      " 6     6     6\n",
      " 7     7     7\n",
      " 8     8     8\n",
      " 9     9     9\n",
      "10    10    10\n"
     ]
    }
   ],
   "source": [
    "# El siguiente ejemplo imprime tres columnas del mismo ancho\n",
    "\n",
    "for x in range(1, 11):\n",
    "    print(f'{x:2} {x:5} {x:5}')"
   ]
  },
  {
   "cell_type": "code",
   "execution_count": 48,
   "metadata": {
    "colab": {
     "base_uri": "https://localhost:8080/"
    },
    "executionInfo": {
     "elapsed": 317,
     "status": "ok",
     "timestamp": 1638553698263,
     "user": {
      "displayName": "Maria Julliette Marin Alarcon",
      "photoUrl": "https://lh3.googleusercontent.com/a/default-user=s64",
      "userId": "14948341870893292997"
     },
     "user_tz": 240
    },
    "id": "uZErtxaEdYEf",
    "outputId": "596f6800-58c6-4083-9061-e0d39bc3ee2a"
   },
   "outputs": [
    {
     "name": "stdout",
     "output_type": "stream",
     "text": [
      " 1   1    1\n",
      " 2   4    8\n",
      " 3   9   27\n",
      " 4  16   64\n",
      " 5  25  125\n",
      " 6  36  216\n",
      " 7  49  343\n",
      " 8  64  512\n",
      " 9  81  729\n",
      "10 100 1000\n"
     ]
    }
   ],
   "source": [
    "# Crea tres columnas similares a las anteriores en cuyas filas se escriba el número, su potencia de \n",
    "# dos y su potencia de tres\n",
    "# El ancho de las columnas debe ser 2 para la primera, 3 para la segunda y 4 para la tercera\n",
    "# Tu código aquí...\n",
    "# Tomar anterior y generar potencia en la variable\n",
    "# formato {variable_con_operacion:espacio}\n",
    "for x in range(1, 11):\n",
    "    print(f'{x:2} {x**2:3} {x**3:4}')\n"
   ]
  },
  {
   "cell_type": "markdown",
   "metadata": {
    "id": "XytqpduYdYEg"
   },
   "source": [
    "<font color='green'>Fin actividad 4</font>"
   ]
  },
  {
   "cell_type": "markdown",
   "metadata": {
    "id": "hzrrcl6VdYEg"
   },
   "source": [
    "## <font color='blue'>**Ingresando datos desde el teclado**</font>"
   ]
  },
  {
   "cell_type": "code",
   "execution_count": 49,
   "metadata": {
    "colab": {
     "base_uri": "https://localhost:8080/",
     "height": 53
    },
    "executionInfo": {
     "elapsed": 5491,
     "status": "ok",
     "timestamp": 1637354424964,
     "user": {
      "displayName": "Maria Julliette Marin Alarcon",
      "photoUrl": "https://lh3.googleusercontent.com/a/default-user=s64",
      "userId": "14948341870893292997"
     },
     "user_tz": 240
    },
    "id": "nAutF4czdYEg",
    "outputId": "cabb9173-b764-4a63-cd00-48afb3eef168"
   },
   "outputs": [
    {
     "name": "stdout",
     "output_type": "stream",
     "text": [
      "Mi nombre es: Roberto\n"
     ]
    },
    {
     "data": {
      "text/plain": [
       "'Roberto'"
      ]
     },
     "execution_count": 49,
     "metadata": {},
     "output_type": "execute_result"
    }
   ],
   "source": [
    "input(\"Mi nombre es: \")"
   ]
  },
  {
   "cell_type": "markdown",
   "metadata": {
    "id": "Ap_-hxf5dYEg"
   },
   "source": [
    "## <font color='green'>Actividad 5:</font> \n",
    "### Almacena el dato ingresado en una variable\n",
    "Almacena su nombre en una variable\n",
    "\n",
    "TIP: utilice la función input()\n"
   ]
  },
  {
   "cell_type": "code",
   "execution_count": 50,
   "metadata": {
    "colab": {
     "base_uri": "https://localhost:8080/"
    },
    "executionInfo": {
     "elapsed": 5393,
     "status": "ok",
     "timestamp": 1638553750509,
     "user": {
      "displayName": "Maria Julliette Marin Alarcon",
      "photoUrl": "https://lh3.googleusercontent.com/a/default-user=s64",
      "userId": "14948341870893292997"
     },
     "user_tz": 240
    },
    "id": "brogOtk6dYEg",
    "outputId": "01e287d6-f3c5-43b4-ee68-cd38d533eaaa"
   },
   "outputs": [
    {
     "name": "stdout",
     "output_type": "stream",
     "text": [
      "Mi nombre es: Roberto\n"
     ]
    }
   ],
   "source": [
    "# Tu código aquí ...\n",
    "# Creación de variable donde se guardará dato ingresado por teclado\n",
    "nombre = input(\"Mi nombre es: \")\n",
    "\n"
   ]
  },
  {
   "cell_type": "markdown",
   "metadata": {
    "id": "_DQ_7FzbdYEh"
   },
   "source": [
    "<font color='green'>Fin actividad 5</font>"
   ]
  },
  {
   "cell_type": "markdown",
   "metadata": {
    "id": "LUgK4WYXdYEh"
   },
   "source": [
    "## <font color='green'>Actividad 6:</font> \n",
    "### Escribe \"Hello world\" con tu nombre\n",
    "Escribe \"Hello world, \\<nombre\\>\" utilizando los tres métodos de formateo enseñados en la clase <br>\n",
    "\n",
    "TIP: utiliza la variable que contiene tu nombre<br>\n",
    "OUTPUT: \"Hello world, Andrés!!\""
   ]
  },
  {
   "cell_type": "code",
   "execution_count": 51,
   "metadata": {
    "colab": {
     "base_uri": "https://localhost:8080/"
    },
    "executionInfo": {
     "elapsed": 267,
     "status": "ok",
     "timestamp": 1638555456688,
     "user": {
      "displayName": "Maria Julliette Marin Alarcon",
      "photoUrl": "https://lh3.googleusercontent.com/a/default-user=s64",
      "userId": "14948341870893292997"
     },
     "user_tz": 240
    },
    "id": "bTzvTG3TdYEh",
    "outputId": "4d939d7d-426e-460e-efa1-cafb9a5b87c5"
   },
   "outputs": [
    {
     "name": "stdout",
     "output_type": "stream",
     "text": [
      "Hello world, María!!\n",
      "Hello world, María!!\n",
      "Hello world, María!!\n"
     ]
    }
   ],
   "source": [
    "# Tu código aquí ...\n",
    "# Nombre a utilizar\n",
    "nombre='María'\n",
    "# Impresión con los métodos de formateos\n",
    "# %-formatting\n",
    "print('Hello world, %s!!' %nombre)\n",
    "# str.format()\n",
    "print('Hello world, {:s}!!'.format(nombre))\n",
    "# f-Strings --> ACTUAL\n",
    "print(f'Hello world, {nombre}!!')\n"
   ]
  },
  {
   "cell_type": "markdown",
   "metadata": {
    "id": "5tGoM0R1dYEh"
   },
   "source": [
    "<font color='green'>Fin actividad 6</font>"
   ]
  },
  {
   "cell_type": "code",
   "execution_count": null,
   "metadata": {
    "id": "ATdRMF8ZdYEh"
   },
   "outputs": [],
   "source": []
  }
 ],
 "metadata": {
  "colab": {
   "name": "FP02-Imprimiendo_en_Python-okd .ipynb",
   "provenance": []
  },
  "kernelspec": {
   "display_name": "Python 3 (ipykernel)",
   "language": "python",
   "name": "python3"
  },
  "language_info": {
   "codemirror_mode": {
    "name": "ipython",
    "version": 3
   },
   "file_extension": ".py",
   "mimetype": "text/x-python",
   "name": "python",
   "nbconvert_exporter": "python",
   "pygments_lexer": "ipython3",
   "version": "3.10.5"
  }
 },
 "nbformat": 4,
 "nbformat_minor": 1
}
