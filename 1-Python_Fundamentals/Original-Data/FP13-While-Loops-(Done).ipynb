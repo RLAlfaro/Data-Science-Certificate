{
 "cells": [
  {
   "cell_type": "markdown",
   "metadata": {
    "id": "EsGP5fEwb8g2"
   },
   "source": [
    "# **Introducción a Python**\n",
    "# FP13. Ciclos while (while loop)"
   ]
  },
  {
   "cell_type": "markdown",
   "metadata": {
    "id": "obTyFUxgb8g9"
   },
   "source": [
    "Ahora que entendemos el flujo de control con las declaraciones **if**, **elif** y **else**, aprendamos sobre los bucles. El primer ciclo que aprenderemos es el **while**.\n",
    "\n",
    "## <font color='blue'>**Ciclo while**</font>\n",
    "\n",
    "Un ciclo while ejecutará repetidamente una sola declaración o grupo de declaraciones siempre que la condición que se comprueba sea verdadera. La razón por la que se llama un 'bucle' es porque las declaraciones de código se repiten una y otra vez hasta que la condición ya no se cumple.\n",
    "\n",
    "La **indentación** del código se vuelve muy importante a medida que comenzamos a trabajar con bucles y control de flujo. Veamos algunos ejemplos."
   ]
  },
  {
   "cell_type": "code",
   "execution_count": 1,
   "metadata": {
    "colab": {
     "base_uri": "https://localhost:8080/"
    },
    "executionInfo": {
     "elapsed": 254,
     "status": "ok",
     "timestamp": 1637930769980,
     "user": {
      "displayName": "Maria Julliette Marin Alarcon",
      "photoUrl": "https://lh3.googleusercontent.com/a/default-user=s64",
      "userId": "14948341870893292997"
     },
     "user_tz": 240
    },
    "id": "LbimdghUb8g-",
    "outputId": "586c4710-3722-45d1-c43a-5676a434235d"
   },
   "outputs": [
    {
     "name": "stdout",
     "output_type": "stream",
     "text": [
      "x actualmente es = 0\n",
      "\n",
      "Añadimos 1 a x\n",
      "x actualmente es = 1\n",
      "\n",
      "Añadimos 1 a x\n",
      "x actualmente es = 2\n",
      "\n",
      "Añadimos 1 a x\n"
     ]
    }
   ],
   "source": [
    "# Inicialicemos la variable x en 0\n",
    "\n",
    "x = 0\n",
    "\n",
    "while x < 3:\n",
    "    print(f'x actualmente es = {x}\\n')\n",
    "    print(f\"Añadimos 1 a x\")\n",
    "    x = x + 1 # otra forma de escribir esta sentencia sería  x += 1"
   ]
  },
  {
   "cell_type": "markdown",
   "metadata": {
    "id": "7JC0i-z1b8hA"
   },
   "source": [
    "### Nota:\n",
    "\n",
    "```Python\n",
    "    x = x + 1\n",
    "```\n",
    "Puede se escrito como ...\n",
    "```Python\n",
    "    x += 1\n",
    "```\n",
    "Esta forma es más pythonista !!!"
   ]
  },
  {
   "cell_type": "markdown",
   "metadata": {
    "id": "vWm09V2Cb8hB"
   },
   "source": [
    "____\n",
    "### <font color='red'>Atención!!</font>\n",
    "¡Ten cuidado con los bucles **while**! Existe la posibilidad de escribir una condición que siempre permanece Verdadera, lo que significa que tendrás un ciclo while infinito en ejecución. \n",
    "\n",
    "Si esto te sucede, deberás interrumpir la ejecución del kernel de Python que estas usando. Para ello presiona haz lo siguiente:\n",
    "\n",
    "Si estás en Google Colab, haz click en el ícono que está en la esquina izquierda superior de tu celda (un pequeño cuadrado dentro de un circulo). \n",
    "\n",
    "Si estás trabajando en Jupyter o JupyterLab (en modo local) presiona el ícono de interrupción del kernel (cuadrado pequeño) en la barra superior.\n",
    "____\n",
    "\n",
    "Sigamos con algunos ejemplos más. Primero, le mostraremos cómo aceptar una entrada de un usuario:"
   ]
  },
  {
   "cell_type": "code",
   "execution_count": 2,
   "metadata": {
    "colab": {
     "base_uri": "https://localhost:8080/"
    },
    "executionInfo": {
     "elapsed": 3351,
     "status": "ok",
     "timestamp": 1637930839680,
     "user": {
      "displayName": "Maria Julliette Marin Alarcon",
      "photoUrl": "https://lh3.googleusercontent.com/a/default-user=s64",
      "userId": "14948341870893292997"
     },
     "user_tz": 240
    },
    "id": "6UvwzjsQb8hC",
    "outputId": "51518e2b-37bb-483e-92f3-356ee5229e99"
   },
   "outputs": [
    {
     "name": "stdout",
     "output_type": "stream",
     "text": [
      "Ingresa un número: 3\n"
     ]
    }
   ],
   "source": [
    "# Ejecuta esta celda solo una vez\n",
    "# Si lo vuelves a ejecutar sin proporcionar una\n",
    "# entrada, la celda se bloqueará con In [*]\n",
    "# Para solucionar este problema, reinicia el kernel.\n",
    "\n",
    "# Bien, ahora el código\n",
    "\n",
    "saved_input = input(\"Ingresa un número: \")"
   ]
  },
  {
   "cell_type": "code",
   "execution_count": 3,
   "metadata": {
    "colab": {
     "base_uri": "https://localhost:8080/",
     "height": 35
    },
    "executionInfo": {
     "elapsed": 235,
     "status": "ok",
     "timestamp": 1637930879007,
     "user": {
      "displayName": "Maria Julliette Marin Alarcon",
      "photoUrl": "https://lh3.googleusercontent.com/a/default-user=s64",
      "userId": "14948341870893292997"
     },
     "user_tz": 240
    },
    "id": "rNenMgdab8hD",
    "outputId": "8137f631-1d0a-4eca-d6fc-f1351e8b623f"
   },
   "outputs": [
    {
     "data": {
      "text/plain": [
       "'3'"
      ]
     },
     "execution_count": 3,
     "metadata": {},
     "output_type": "execute_result"
    }
   ],
   "source": [
    "saved_input"
   ]
  },
  {
   "cell_type": "markdown",
   "metadata": {
    "id": "jQheK0U4b8hI"
   },
   "source": [
    "### <font color = 'red'>Atención</font> \n",
    "\n",
    "Qué tipo de dato devolvió **input()**?<br>\n",
    "Fíjate, es un string!<br>\n",
    "Siempre que necesites ingresar un valor numérico podrás encapsular la función **input()** con **int()** o **float()**.<br>\n",
    "Considera eso si que siempr deberas validar los datos que se ingresan desde el teclado.\n",
    "\n",
    "Veamos cómo podríamos usar esto:"
   ]
  },
  {
   "cell_type": "code",
   "execution_count": 4,
   "metadata": {
    "colab": {
     "base_uri": "https://localhost:8080/"
    },
    "executionInfo": {
     "elapsed": 9266,
     "status": "ok",
     "timestamp": 1637930922301,
     "user": {
      "displayName": "Maria Julliette Marin Alarcon",
      "photoUrl": "https://lh3.googleusercontent.com/a/default-user=s64",
      "userId": "14948341870893292997"
     },
     "user_tz": 240
    },
    "id": "K-tCVwH4b8hK",
    "outputId": "7f6ed9e7-2cc1-48ec-a63d-b3e644c22cdc"
   },
   "outputs": [
    {
     "name": "stdout",
     "output_type": "stream",
     "text": [
      "Bienvenido hacker\n",
      "Ingresa tu password: 123\n",
      "Password correcta!\n"
     ]
    }
   ],
   "source": [
    "print(\"Bienvenido hacker\")\n",
    "\n",
    "# comienza con alguna contraseña predeterminada (debe definirse antes de que comience el ciclo)\n",
    "\n",
    "password = 0\n",
    "\n",
    "while password != 123:\n",
    "    password = int(input(\"Ingresa tu password: \"))\n",
    "\n",
    "# Esto no se ejecutará hasta que el ciclo while sea\n",
    "# hecho debido a la indentación\n",
    "print(\"Password correcta!\")"
   ]
  },
  {
   "cell_type": "code",
   "execution_count": 5,
   "metadata": {
    "colab": {
     "base_uri": "https://localhost:8080/"
    },
    "executionInfo": {
     "elapsed": 16786,
     "status": "ok",
     "timestamp": 1637930987544,
     "user": {
      "displayName": "Maria Julliette Marin Alarcon",
      "photoUrl": "https://lh3.googleusercontent.com/a/default-user=s64",
      "userId": "14948341870893292997"
     },
     "user_tz": 240
    },
    "id": "_EW2jOQ5b8hS",
    "outputId": "1039c5e8-0718-4419-cbd6-6158c9ce6d57"
   },
   "outputs": [
    {
     "name": "stdout",
     "output_type": "stream",
     "text": [
      "Bienvenido hacker\n",
      "Ingresa tu password: 123\n",
      "Password correcta!\n"
     ]
    }
   ],
   "source": [
    "print(\"Bienvenido hacker\")\n",
    "\n",
    "# comienza con alguna contraseña predeterminada (debe definirse antes de que comience el ciclo)\n",
    "\n",
    "password = 0\n",
    "\n",
    "while password != 123:\n",
    "    password = int(input(\"Ingresa tu password: \"))\n",
    "\n",
    "    # Lógica de flujo de control anidado\n",
    "    if password != 123:\n",
    "        print(\"Password errónea\")\n",
    "        print(\"Intenta nuevamente ...\\n\")\n",
    "\n",
    "# Esto no se ejecutará hasta que el ciclo while sea\n",
    "# hecho debido a la indentación\n",
    "print(\"Password correcta!\")"
   ]
  },
  {
   "cell_type": "markdown",
   "metadata": {
    "id": "pmIhdT6tb8hT"
   },
   "source": [
    "## <font color='blue'>**Rompiendo el flujo**</font>"
   ]
  },
  {
   "cell_type": "markdown",
   "metadata": {
    "id": "JygcCsjSb8hT"
   },
   "source": [
    "La palabra clave **break** le permite \"salir\" del bucle. Por ejemplo:"
   ]
  },
  {
   "cell_type": "code",
   "execution_count": 6,
   "metadata": {
    "colab": {
     "base_uri": "https://localhost:8080/"
    },
    "executionInfo": {
     "elapsed": 232,
     "status": "ok",
     "timestamp": 1637931000373,
     "user": {
      "displayName": "Maria Julliette Marin Alarcon",
      "photoUrl": "https://lh3.googleusercontent.com/a/default-user=s64",
      "userId": "14948341870893292997"
     },
     "user_tz": 240
    },
    "id": "pesx4d85b8hU",
    "outputId": "807d1b5c-b47e-4f57-f15f-c50348422e06"
   },
   "outputs": [
    {
     "name": "stdout",
     "output_type": "stream",
     "text": [
      "0\n",
      "Suma 1 a x\n",
      "1\n",
      "Suma 1 a x\n",
      "2\n",
      "Suma 1 a x\n"
     ]
    }
   ],
   "source": [
    "x = 0\n",
    "\n",
    "while x < 10:\n",
    "    print(x)\n",
    "    print('Suma 1 a x')\n",
    "    x += 1\n",
    "    \n",
    "    if x == 3:   # Si x = 3 (Verdadero), esto causará la salida (break out) del bucle\n",
    "        break"
   ]
  },
  {
   "cell_type": "markdown",
   "metadata": {
    "id": "4ERhFvilb8hV"
   },
   "source": [
    "## <font color='green'>Actividad 1:</font> \n",
    "### Contando números\n",
    "\n",
    "Crea un programa que cuente de 1 a 10 utilizando **while**. \n",
    "Imprime cada número en una línea separada.\n",
    "\n",
    "Pasos:\n",
    "1. Crea e inicializa una variable para contar\n",
    "2. Crea el bucle while\n",
    "3. Imprime la variable\n",
    "4. Incrementa la variable usando += 1"
   ]
  },
  {
   "cell_type": "code",
   "execution_count": 7,
   "metadata": {
    "colab": {
     "base_uri": "https://localhost:8080/"
    },
    "executionInfo": {
     "elapsed": 24,
     "status": "ok",
     "timestamp": 1638496516553,
     "user": {
      "displayName": "Maria Julliette Marin Alarcon",
      "photoUrl": "https://lh3.googleusercontent.com/a/default-user=s64",
      "userId": "14948341870893292997"
     },
     "user_tz": 240
    },
    "id": "Ke8VJdo2b8hW",
    "outputId": "7d5c3995-eac6-4720-a90c-9ae0511a1ab1"
   },
   "outputs": [
    {
     "name": "stdout",
     "output_type": "stream",
     "text": [
      "1\n",
      "2\n",
      "3\n",
      "4\n",
      "5\n",
      "6\n",
      "7\n",
      "8\n",
      "9\n",
      "10\n"
     ]
    }
   ],
   "source": [
    "# Tu código aquí ...\n",
    "# Programa que cuenta de 1 al 10 con ciclo while\n",
    "# Creando e inicializando variable de cuenta\n",
    "cuenta = 0\n",
    "# Ciclo que recorre desde 0 a 9, es decir cuenta hasta 10\n",
    "while cuenta < 10 :\n",
    "  # Agrega uno a variable cuenta\n",
    "  cuenta += 1\n",
    "  # imprime variable cuenta\n",
    "  print(cuenta)"
   ]
  },
  {
   "cell_type": "markdown",
   "metadata": {
    "id": "S-OBsXQrb8hX"
   },
   "source": [
    "<font color='green'>Fin actividad 1</font>"
   ]
  },
  {
   "cell_type": "markdown",
   "metadata": {
    "id": "HHee7lcbb8hX"
   },
   "source": [
    "## <font color='green'>Actividad 2: Challenging</font> \n",
    "### Contar números, pero detenerse cuando la suma de los números contados sea > 50\n",
    "\n",
    "Crea un programa que cuente de 1 a 100 usando bucles while. <br>\n",
    "Imprime cada número en una línea separada. <br>\n",
    "Suma el número contado en otra variable y deja de contar cuando la suma sea mayor o igual a 50.\n",
    "    \n",
    "Pasos:\n",
    "1. Crea e inicializa una variable para contar\n",
    "2. Cree e inicialice una variable para sumar\n",
    "3. Crea el bucle while\n",
    "4. Imprime la variable de recuento\n",
    "5. Agregua la variable de recuento a la variable de suma\n",
    "6. Compara si la variable suma es mayor o igual a 50. Si es así, imprime la variable suma y rompe el ciclo\n",
    "7. Incrementar la variable usando += 1"
   ]
  },
  {
   "cell_type": "code",
   "execution_count": 8,
   "metadata": {
    "colab": {
     "base_uri": "https://localhost:8080/"
    },
    "executionInfo": {
     "elapsed": 476,
     "status": "ok",
     "timestamp": 1638496824292,
     "user": {
      "displayName": "Maria Julliette Marin Alarcon",
      "photoUrl": "https://lh3.googleusercontent.com/a/default-user=s64",
      "userId": "14948341870893292997"
     },
     "user_tz": 240
    },
    "id": "z_sTJ75jb8hY",
    "outputId": "194e75c4-c801-4116-ddb0-8702c66b0575"
   },
   "outputs": [
    {
     "name": "stdout",
     "output_type": "stream",
     "text": [
      "1\n",
      "2\n",
      "3\n",
      "4\n",
      "5\n",
      "6\n",
      "7\n",
      "8\n",
      "9\n",
      "10\n",
      "La suma es: 55\n"
     ]
    }
   ],
   "source": [
    "# Tu código aquí ...\n",
    "# Programa para contar de 1 a 100 con bucle while y que detenga la suma cuando la suma sea > 50\n",
    "# Crear e inicialozar variable para contar\n",
    "i=1\n",
    "# Crear e inicializar variable para sumar\n",
    "suma=0\n",
    "# Bucle while para sumar \n",
    "while i <= 100:\n",
    "  # Imprime cada número en una línea separada\n",
    "  print(i)\n",
    "  # Suma el número contado en la variable suma\n",
    "  suma=suma+i\n",
    "   # Condición de: si la suma es mayor o igual a 50 entonces termina de sumar\n",
    "  if suma >= 50:\n",
    "    print(\"La suma es: \" f'{suma}')\n",
    "    break\n",
    "  # Incrementar variable para contar\n",
    "  i+=1\n",
    "\n",
    "\n",
    "\n",
    "\n"
   ]
  },
  {
   "cell_type": "markdown",
   "metadata": {
    "id": "Lui3HoXDb8hZ"
   },
   "source": [
    "<font color='green'>Fin actividad 2</font>"
   ]
  },
  {
   "cell_type": "markdown",
   "metadata": {
    "id": "Z21plIlSb8hZ"
   },
   "source": [
    "Excelente trabajo !!"
   ]
  }
 ],
 "metadata": {
  "colab": {
   "name": "FP13-While-Loops-ok.ipynb",
   "provenance": []
  },
  "kernelspec": {
   "display_name": "Python 3 (ipykernel)",
   "language": "python",
   "name": "python3"
  },
  "language_info": {
   "codemirror_mode": {
    "name": "ipython",
    "version": 3
   },
   "file_extension": ".py",
   "mimetype": "text/x-python",
   "name": "python",
   "nbconvert_exporter": "python",
   "pygments_lexer": "ipython3",
   "version": "3.10.5"
  }
 },
 "nbformat": 4,
 "nbformat_minor": 1
}
