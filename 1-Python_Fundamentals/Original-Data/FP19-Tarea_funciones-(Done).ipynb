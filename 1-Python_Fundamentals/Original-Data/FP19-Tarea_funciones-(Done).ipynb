{
 "cells": [
  {
   "cell_type": "markdown",
   "metadata": {
    "id": "oF5cm7jY-iQo"
   },
   "source": [
    "# **Introducción a Python**\n",
    "# FP19. Tarea 3 \n",
    "\n",
    "Hola hackers. Aquí tienes una tarea exclusiva de funciones. Hay desafíos de distinto tipo, trata de superarlos todos.\n",
    "Buena suerte !!\n",
    "_______"
   ]
  },
  {
   "cell_type": "markdown",
   "metadata": {
    "id": "W8ol6Stx-iRA"
   },
   "source": [
    "## <font color='green'>Tarea 1: Challenging</font>  \n",
    "Crea una función que tome un número del 1 al 10 y que devuelva la tabla de multiplicación de dicho número (hasta x 10).<br>\n",
    "Verifica que el númeor ingresado sea mayor que 0 y menor que 11, en caso contrario despliega un mensaje.\n",
    "Nombra la función como **tabla_mult**\n",
    "\n",
    "El resultado debería verse como\n",
    "```python\n",
    "tabla_mult(3)\n",
    "```\n",
    " 1 x 3 =   3 <br> \n",
    " 2 x 3 =   6 <br>\n",
    " 3 x 3 =   9 <br>\n",
    " 4 x 3 =  12 <br>\n",
    " 5 x 3 =  15 <br>\n",
    " 6 x 3 =  18 <br>\n",
    " 7 x 3 =  21 <br>\n",
    " 8 x 3 =  24 <br>\n",
    " 9 x 3 =  27 <br>\n",
    "10 x 3 =  30 <br>"
   ]
  },
  {
   "cell_type": "code",
   "execution_count": 1,
   "metadata": {
    "id": "EaSwuFun-iRE"
   },
   "outputs": [],
   "source": [
    "# Tu código aquí ...\n",
    "\n",
    "#Definición de función que toma número de 1 a 10 y etrega la tabla de multiplicación del número hasta 10\n",
    "def tabla_mult (a):\n",
    "#condición para verificar que el número está entre 0 y 11\n",
    "    if a >= 1 and a <=10 :\n",
    "      #imprimir tabla de multiplicación si cumple condición\n",
    "        for j in range(1,11):\n",
    "          print(f'{j} x {a} = {j*a}')\n",
    "    else:\n",
    "      #mensaje si no cumple la condición\n",
    "       print('Por favor ingrese un número desde el 1 hasta el 10')\n"
   ]
  },
  {
   "cell_type": "code",
   "execution_count": 2,
   "metadata": {
    "colab": {
     "base_uri": "https://localhost:8080/"
    },
    "executionInfo": {
     "elapsed": 313,
     "status": "ok",
     "timestamp": 1638463117529,
     "user": {
      "displayName": "Maria Julliette Marin Alarcon",
      "photoUrl": "https://lh3.googleusercontent.com/a/default-user=s64",
      "userId": "14948341870893292997"
     },
     "user_tz": 240
    },
    "id": "qAxxVTF3-iRK",
    "outputId": "308b8966-e582-4f98-d0c3-930c429044a8"
   },
   "outputs": [
    {
     "name": "stdout",
     "output_type": "stream",
     "text": [
      "1 x 3 = 3\n",
      "2 x 3 = 6\n",
      "3 x 3 = 9\n",
      "4 x 3 = 12\n",
      "5 x 3 = 15\n",
      "6 x 3 = 18\n",
      "7 x 3 = 21\n",
      "8 x 3 = 24\n",
      "9 x 3 = 27\n",
      "10 x 3 = 30\n"
     ]
    }
   ],
   "source": [
    "tabla_mult(3)"
   ]
  },
  {
   "cell_type": "code",
   "execution_count": 3,
   "metadata": {
    "colab": {
     "base_uri": "https://localhost:8080/"
    },
    "executionInfo": {
     "elapsed": 329,
     "status": "ok",
     "timestamp": 1638463130322,
     "user": {
      "displayName": "Maria Julliette Marin Alarcon",
      "photoUrl": "https://lh3.googleusercontent.com/a/default-user=s64",
      "userId": "14948341870893292997"
     },
     "user_tz": 240
    },
    "id": "pb8mgdUk-iRL",
    "outputId": "0ad000ad-654a-45bb-8e74-b657be8749ec"
   },
   "outputs": [
    {
     "name": "stdout",
     "output_type": "stream",
     "text": [
      "1 x 5 = 5\n",
      "2 x 5 = 10\n",
      "3 x 5 = 15\n",
      "4 x 5 = 20\n",
      "5 x 5 = 25\n",
      "6 x 5 = 30\n",
      "7 x 5 = 35\n",
      "8 x 5 = 40\n",
      "9 x 5 = 45\n",
      "10 x 5 = 50\n"
     ]
    }
   ],
   "source": [
    "tabla_mult(5)"
   ]
  },
  {
   "cell_type": "code",
   "execution_count": 4,
   "metadata": {
    "colab": {
     "base_uri": "https://localhost:8080/"
    },
    "executionInfo": {
     "elapsed": 331,
     "status": "ok",
     "timestamp": 1638463140799,
     "user": {
      "displayName": "Maria Julliette Marin Alarcon",
      "photoUrl": "https://lh3.googleusercontent.com/a/default-user=s64",
      "userId": "14948341870893292997"
     },
     "user_tz": 240
    },
    "id": "4H8VY_3F-iRN",
    "outputId": "8f694d44-b712-49e8-8ce4-f625a6c374e0"
   },
   "outputs": [
    {
     "name": "stdout",
     "output_type": "stream",
     "text": [
      "Por favor ingrese un número desde el 1 hasta el 10\n"
     ]
    }
   ],
   "source": [
    "tabla_mult(15)"
   ]
  },
  {
   "cell_type": "markdown",
   "metadata": {
    "id": "kEd3TDEb-iRP"
   },
   "source": [
    "## <font color='green'>Tarea 2:</font> \n",
    "Crea una función que tome un entero y devuelva **True** si es par y **False** si es impar.<br>\n",
    "Nombra la función como **check_par_impar**"
   ]
  },
  {
   "cell_type": "code",
   "execution_count": 5,
   "metadata": {
    "id": "ZyLsQr8A-iRT"
   },
   "outputs": [],
   "source": [
    "# Tu código aquí ...\n",
    "\n",
    "#Definición de función que toma un entero y devuelve True si es par y False si es impar\n",
    "def check_par_impar(a, type=int):\n",
    "#Condición para verificar si es par\n",
    "    if a % 2 == 0:\n",
    "        return True\n",
    "    else:\n",
    "        return False"
   ]
  },
  {
   "cell_type": "code",
   "execution_count": 6,
   "metadata": {
    "colab": {
     "base_uri": "https://localhost:8080/"
    },
    "executionInfo": {
     "elapsed": 414,
     "status": "ok",
     "timestamp": 1638463537966,
     "user": {
      "displayName": "Maria Julliette Marin Alarcon",
      "photoUrl": "https://lh3.googleusercontent.com/a/default-user=s64",
      "userId": "14948341870893292997"
     },
     "user_tz": 240
    },
    "id": "kNRsQCvs-iRX",
    "outputId": "c2e993e9-46d9-4b23-b544-f383ff938513"
   },
   "outputs": [
    {
     "data": {
      "text/plain": [
       "True"
      ]
     },
     "execution_count": 6,
     "metadata": {},
     "output_type": "execute_result"
    }
   ],
   "source": [
    "check_par_impar(10)"
   ]
  },
  {
   "cell_type": "code",
   "execution_count": 7,
   "metadata": {
    "colab": {
     "base_uri": "https://localhost:8080/"
    },
    "executionInfo": {
     "elapsed": 317,
     "status": "ok",
     "timestamp": 1638463541135,
     "user": {
      "displayName": "Maria Julliette Marin Alarcon",
      "photoUrl": "https://lh3.googleusercontent.com/a/default-user=s64",
      "userId": "14948341870893292997"
     },
     "user_tz": 240
    },
    "id": "peUc7rqp-iRc",
    "outputId": "f65b8683-2bfb-4b6d-e7e8-328e2a5846f1"
   },
   "outputs": [
    {
     "data": {
      "text/plain": [
       "False"
      ]
     },
     "execution_count": 7,
     "metadata": {},
     "output_type": "execute_result"
    }
   ],
   "source": [
    "check_par_impar(7)"
   ]
  },
  {
   "cell_type": "markdown",
   "metadata": {
    "id": "FdvDkAFa-iRe"
   },
   "source": [
    "## <font color='green'>Tarea 3:</font> \n",
    "\n",
    "Crea una función que tome una cadena y devuelva el primer carácter de esa cadena en mayúsculas y el resto en minúsculas.<br>\n",
    "Nombra la función como **first_upper**\n",
    "\n",
    "Tip:\n",
    "\n",
    "Busca en internet cómo concatenar strings en Python"
   ]
  },
  {
   "cell_type": "code",
   "execution_count": 8,
   "metadata": {
    "id": "EdLLppS0-iRg"
   },
   "outputs": [],
   "source": [
    "# Tu código aquí ...\n",
    "\n",
    "#Definición de función que toma una cadena y devuelva el primer carácter de esa cadena en mayúsculas y el resto en minúsculas\n",
    "def first_upper(palabra):\n",
    "    #ciclo que toma primer caracter y lo transforma en mayúscula y el resto en minúscula\n",
    "    for j in range(len(palabra)):\n",
    "        if j == 0:\n",
    "            print(f'{palabra[0].upper()}', end='')\n",
    "        else:\n",
    "            print(f'{palabra[j].lower()}', end='')\n"
   ]
  },
  {
   "cell_type": "code",
   "execution_count": 9,
   "metadata": {
    "colab": {
     "base_uri": "https://localhost:8080/"
    },
    "executionInfo": {
     "elapsed": 36,
     "status": "ok",
     "timestamp": 1638464544704,
     "user": {
      "displayName": "Maria Julliette Marin Alarcon",
      "photoUrl": "https://lh3.googleusercontent.com/a/default-user=s64",
      "userId": "14948341870893292997"
     },
     "user_tz": 240
    },
    "id": "Tr9tBLIO-iRh",
    "outputId": "ebaa3415-dccd-4800-a955-216baa36ca6c"
   },
   "outputs": [
    {
     "name": "stdout",
     "output_type": "stream",
     "text": [
      "Hello"
     ]
    }
   ],
   "source": [
    "first_upper('hello')"
   ]
  },
  {
   "cell_type": "code",
   "execution_count": 10,
   "metadata": {
    "colab": {
     "base_uri": "https://localhost:8080/"
    },
    "executionInfo": {
     "elapsed": 388,
     "status": "ok",
     "timestamp": 1638464548127,
     "user": {
      "displayName": "Maria Julliette Marin Alarcon",
      "photoUrl": "https://lh3.googleusercontent.com/a/default-user=s64",
      "userId": "14948341870893292997"
     },
     "user_tz": 240
    },
    "id": "YyHo6_dY-iRk",
    "outputId": "385b1392-be91-49b9-c474-ff8057f7e634"
   },
   "outputs": [
    {
     "name": "stdout",
     "output_type": "stream",
     "text": [
      "Agent"
     ]
    }
   ],
   "source": [
    "first_upper('agent')"
   ]
  },
  {
   "cell_type": "code",
   "execution_count": 11,
   "metadata": {
    "colab": {
     "base_uri": "https://localhost:8080/"
    },
    "executionInfo": {
     "elapsed": 338,
     "status": "ok",
     "timestamp": 1638464550661,
     "user": {
      "displayName": "Maria Julliette Marin Alarcon",
      "photoUrl": "https://lh3.googleusercontent.com/a/default-user=s64",
      "userId": "14948341870893292997"
     },
     "user_tz": 240
    },
    "id": "Kxr_xttU-iRl",
    "outputId": "7c047b7d-d1d6-4643-aacb-2c9acea18509"
   },
   "outputs": [
    {
     "name": "stdout",
     "output_type": "stream",
     "text": [
      "El espia que vino del frío"
     ]
    }
   ],
   "source": [
    "first_upper('el EspiA que vinO del frÍo')"
   ]
  },
  {
   "cell_type": "markdown",
   "metadata": {
    "id": "YVNdxLyw-iRm"
   },
   "source": [
    "## <font color='green'>Tarea 4:</font> \n",
    "\n",
    "Crea una función que tome una cadena y devuelva los dos últimos caracteres. Si hay menos de dos caracteres, devuelve la palabra: \"Error\".<br>\n",
    "Nombra la función como **last_two**\n",
    "\n",
    "Tip:\n",
    "[Usa este link si necesitas ayuda](https://stackoverflow.com/questions/7983820/get-the-last-4-characters-of-a-string)\n",
    "\n",
    "Acostúmbrate a buscar ayuda en internet!!!"
   ]
  },
  {
   "cell_type": "code",
   "execution_count": 12,
   "metadata": {
    "id": "51R2c8gi-iRo"
   },
   "outputs": [],
   "source": [
    "# Tu código aquí ...\n",
    "\n",
    "#Definición de función que toma una cadena y devuelve los dos últimos caracteres. Si hay menos de dos caracteres, devuelve la palabra: \"Error\".\n",
    "def last_two(cadena):\n",
    "    #condición para verificar si tiene al menos dos caracteres\n",
    "    if len(cadena) >= 2:\n",
    "      #imrime los dos últimos caracteres\n",
    "        print(cadena[-2:])\n",
    "    else:\n",
    "        print('Error')"
   ]
  },
  {
   "cell_type": "code",
   "execution_count": 13,
   "metadata": {
    "colab": {
     "base_uri": "https://localhost:8080/"
    },
    "executionInfo": {
     "elapsed": 328,
     "status": "ok",
     "timestamp": 1638464956006,
     "user": {
      "displayName": "Maria Julliette Marin Alarcon",
      "photoUrl": "https://lh3.googleusercontent.com/a/default-user=s64",
      "userId": "14948341870893292997"
     },
     "user_tz": 240
    },
    "id": "jI5fJXAZ-iRp",
    "outputId": "6818db6d-b2fc-4111-86ed-c0d191f433c5"
   },
   "outputs": [
    {
     "name": "stdout",
     "output_type": "stream",
     "text": [
      "lo\n"
     ]
    }
   ],
   "source": [
    "last_two('hello')"
   ]
  },
  {
   "cell_type": "code",
   "execution_count": 14,
   "metadata": {
    "colab": {
     "base_uri": "https://localhost:8080/"
    },
    "executionInfo": {
     "elapsed": 17,
     "status": "ok",
     "timestamp": 1638464957336,
     "user": {
      "displayName": "Maria Julliette Marin Alarcon",
      "photoUrl": "https://lh3.googleusercontent.com/a/default-user=s64",
      "userId": "14948341870893292997"
     },
     "user_tz": 240
    },
    "id": "LOMK_Wly-iRq",
    "outputId": "d3759d8a-5ea4-4f67-b84b-d1706de68c6a"
   },
   "outputs": [
    {
     "name": "stdout",
     "output_type": "stream",
     "text": [
      "hi\n"
     ]
    }
   ],
   "source": [
    "last_two('hi')"
   ]
  },
  {
   "cell_type": "code",
   "execution_count": 15,
   "metadata": {
    "colab": {
     "base_uri": "https://localhost:8080/"
    },
    "executionInfo": {
     "elapsed": 322,
     "status": "ok",
     "timestamp": 1638464960009,
     "user": {
      "displayName": "Maria Julliette Marin Alarcon",
      "photoUrl": "https://lh3.googleusercontent.com/a/default-user=s64",
      "userId": "14948341870893292997"
     },
     "user_tz": 240
    },
    "id": "kkfcjQLq-iRr",
    "outputId": "7b1aa5de-290f-4f73-e92c-90b14168f25b"
   },
   "outputs": [
    {
     "name": "stdout",
     "output_type": "stream",
     "text": [
      "Error\n"
     ]
    }
   ],
   "source": [
    "last_two('a')"
   ]
  },
  {
   "cell_type": "markdown",
   "metadata": {
    "id": "CLFf3dim-iRs"
   },
   "source": [
    "## <font color='green'>Tarea 5: Challenging</font> \n",
    "Dada una lista de enteros, devuelve **True** si la secuencia [1, 2, 3] está en algún lugar de la lista.\n",
    "<br>\n",
    "Nombra la función como **seq_check**\n",
    "\n",
    "Tip:\n",
    "\n",
    "Use *slicing* y un bucle **for**."
   ]
  },
  {
   "cell_type": "code",
   "execution_count": 16,
   "metadata": {
    "id": "fv_jb1_Q-iRu"
   },
   "outputs": [],
   "source": [
    "# Tu código aquí ...\n",
    "# Definición de función que si en una lista de enteros está la secuencia [1, 2, 3] en algún lugar de la lista entonces devuelve True.\n",
    "def seq_check(list):\n",
    "    contador=0\n",
    "    for x in list:\n",
    "        if x == 1:\n",
    "            if contador+2 <= len(list):\n",
    "                if list[contador:contador+3] == [1,2,3]:\n",
    "                    return True\n",
    "        contador+=1\n",
    "        \n",
    "                 \n"
   ]
  },
  {
   "cell_type": "code",
   "execution_count": 17,
   "metadata": {
    "colab": {
     "base_uri": "https://localhost:8080/"
    },
    "executionInfo": {
     "elapsed": 299,
     "status": "ok",
     "timestamp": 1638466196991,
     "user": {
      "displayName": "Maria Julliette Marin Alarcon",
      "photoUrl": "https://lh3.googleusercontent.com/a/default-user=s64",
      "userId": "14948341870893292997"
     },
     "user_tz": 240
    },
    "id": "sbLxaG4D-iRw",
    "outputId": "ae18feaa-3990-4902-ef7e-5c77c589e219"
   },
   "outputs": [
    {
     "data": {
      "text/plain": [
       "True"
      ]
     },
     "execution_count": 17,
     "metadata": {},
     "output_type": "execute_result"
    }
   ],
   "source": [
    "seq_check([1, 2, 3])"
   ]
  },
  {
   "cell_type": "code",
   "execution_count": 18,
   "metadata": {
    "colab": {
     "base_uri": "https://localhost:8080/"
    },
    "executionInfo": {
     "elapsed": 288,
     "status": "ok",
     "timestamp": 1638466199958,
     "user": {
      "displayName": "Maria Julliette Marin Alarcon",
      "photoUrl": "https://lh3.googleusercontent.com/a/default-user=s64",
      "userId": "14948341870893292997"
     },
     "user_tz": 240
    },
    "id": "bNNWKHAQ-iRz",
    "outputId": "6c46a08e-f508-43b0-9a77-bbac8a21981f"
   },
   "outputs": [
    {
     "data": {
      "text/plain": [
       "True"
      ]
     },
     "execution_count": 18,
     "metadata": {},
     "output_type": "execute_result"
    }
   ],
   "source": [
    "seq_check([7, 7, 7, 1, 2, 3, 7, 7, 7])"
   ]
  },
  {
   "cell_type": "code",
   "execution_count": 19,
   "metadata": {
    "id": "zqc6Dqqb-iR0"
   },
   "outputs": [],
   "source": [
    "seq_check([3, 2, 1, 3, 2, 1, 1, 1, 2, 2, 3, 3, 3])"
   ]
  },
  {
   "cell_type": "markdown",
   "metadata": {
    "id": "lw3v4fYB-iR1"
   },
   "source": [
    "## <font color='green'>Tarea 6: Challenging</font> \n",
    "\n",
    "Dados 2 strings (cadenas), crea una función que devuelva la diferencia de longitud entre ellas. Esta diferencia de longitud siempre debe ser un número positivo (o sólo 0). <br>\n",
    "Nombra la función como **compare_len**\n",
    "\n",
    "Tip: \n",
    "\n",
    "Busca en internet la función de valor absoluto en Python"
   ]
  },
  {
   "cell_type": "code",
   "execution_count": 20,
   "metadata": {
    "id": "D4v5p2XW-iR2"
   },
   "outputs": [],
   "source": [
    "# Tu código aquí ...\n",
    "# Definición de función que devuelve la diferencia de longitud entre dos cadenas.\n",
    "def compare_len(cad1,cad2):\n",
    "  #condición para que al restar, la diferencia sea positiva\n",
    "    if len(cad1) >= len(cad2):\n",
    "        return print(f'La diferencia de longitud entre {cad1} y {cad2} es {len(cad1) - len(cad2)}')\n",
    "    else:\n",
    "        return print(f'La diferencia de longitud entre {cad1} y {cad2} es {len(cad2) - len(cad1)}')\n"
   ]
  },
  {
   "cell_type": "code",
   "execution_count": 21,
   "metadata": {
    "colab": {
     "base_uri": "https://localhost:8080/"
    },
    "executionInfo": {
     "elapsed": 15,
     "status": "ok",
     "timestamp": 1638466545516,
     "user": {
      "displayName": "Maria Julliette Marin Alarcon",
      "photoUrl": "https://lh3.googleusercontent.com/a/default-user=s64",
      "userId": "14948341870893292997"
     },
     "user_tz": 240
    },
    "id": "ekW3Msum-iR3",
    "outputId": "f35ac7e4-c0a7-48d7-cf44-d87157a6a8de"
   },
   "outputs": [
    {
     "name": "stdout",
     "output_type": "stream",
     "text": [
      "La diferencia de longitud entre aa y aa es 0\n"
     ]
    }
   ],
   "source": [
    "compare_len('aa','aa')"
   ]
  },
  {
   "cell_type": "code",
   "execution_count": 22,
   "metadata": {
    "colab": {
     "base_uri": "https://localhost:8080/"
    },
    "executionInfo": {
     "elapsed": 349,
     "status": "ok",
     "timestamp": 1638466552837,
     "user": {
      "displayName": "Maria Julliette Marin Alarcon",
      "photoUrl": "https://lh3.googleusercontent.com/a/default-user=s64",
      "userId": "14948341870893292997"
     },
     "user_tz": 240
    },
    "id": "VtpQlett-iR4",
    "outputId": "42f2505f-0542-43fe-9be2-d3e0418e14fc"
   },
   "outputs": [
    {
     "name": "stdout",
     "output_type": "stream",
     "text": [
      "La diferencia de longitud entre a y bb es 1\n"
     ]
    }
   ],
   "source": [
    "compare_len('a','bb')"
   ]
  },
  {
   "cell_type": "code",
   "execution_count": 23,
   "metadata": {
    "colab": {
     "base_uri": "https://localhost:8080/"
    },
    "executionInfo": {
     "elapsed": 620,
     "status": "ok",
     "timestamp": 1638466556484,
     "user": {
      "displayName": "Maria Julliette Marin Alarcon",
      "photoUrl": "https://lh3.googleusercontent.com/a/default-user=s64",
      "userId": "14948341870893292997"
     },
     "user_tz": 240
    },
    "id": "5-twYsaM-iR5",
    "outputId": "c0a7707c-8895-43ea-a4b8-716400c8b280"
   },
   "outputs": [
    {
     "name": "stdout",
     "output_type": "stream",
     "text": [
      "La diferencia de longitud entre bb y a es 1\n"
     ]
    }
   ],
   "source": [
    "compare_len('bb','a')"
   ]
  },
  {
   "cell_type": "markdown",
   "metadata": {
    "id": "esURrzIT-iR6"
   },
   "source": [
    "## <font color='green'>Tarea 7:</font> \n",
    "\n",
    "Dada una lista de enteros, si la longitud de la lista es un número par, devuelve la suma de la lista. Si la longitud de la lista es impar, devuelva el valor máximo en esa lista.\n",
    "\n",
    "Nombra tu función como **sum_or_max**"
   ]
  },
  {
   "cell_type": "code",
   "execution_count": 24,
   "metadata": {
    "id": "M_iRDyO2-iR7"
   },
   "outputs": [],
   "source": [
    "# Tu código aquí ...\n",
    "# Definición de función que de una lista de enteros, si la longitud de la lista es un número par, devuelve la suma de la lista. Si la longitud de la lista es impar, devuelva el valor máximo en esa lista.\n",
    "def sum_or_max(list_enter):\n",
    "    # Condición para verificar si el la longitud de la lista es par\n",
    "    if len(list_enter)%2 == 0:\n",
    "        print(f'La suma de la lista es: {sum(list_enter)}')\n",
    "    else:\n",
    "        print(f'El valor máximo de la lista es: {max(list_enter)}')"
   ]
  },
  {
   "cell_type": "code",
   "execution_count": 25,
   "metadata": {
    "colab": {
     "base_uri": "https://localhost:8080/"
    },
    "executionInfo": {
     "elapsed": 294,
     "status": "ok",
     "timestamp": 1638467116437,
     "user": {
      "displayName": "Maria Julliette Marin Alarcon",
      "photoUrl": "https://lh3.googleusercontent.com/a/default-user=s64",
      "userId": "14948341870893292997"
     },
     "user_tz": 240
    },
    "id": "SPg3Dqw5-iR8",
    "outputId": "f20dac3f-6db4-4949-af67-ee328449748b"
   },
   "outputs": [
    {
     "name": "stdout",
     "output_type": "stream",
     "text": [
      "El valor máximo de la lista es: 3\n"
     ]
    }
   ],
   "source": [
    "sum_or_max([1,2,3])"
   ]
  },
  {
   "cell_type": "code",
   "execution_count": 26,
   "metadata": {
    "colab": {
     "base_uri": "https://localhost:8080/"
    },
    "executionInfo": {
     "elapsed": 440,
     "status": "ok",
     "timestamp": 1638467119123,
     "user": {
      "displayName": "Maria Julliette Marin Alarcon",
      "photoUrl": "https://lh3.googleusercontent.com/a/default-user=s64",
      "userId": "14948341870893292997"
     },
     "user_tz": 240
    },
    "id": "4ZTVPZWs-iR9",
    "outputId": "cf5ca8c3-3726-4e08-e52c-19a7d87457da"
   },
   "outputs": [
    {
     "name": "stdout",
     "output_type": "stream",
     "text": [
      "La suma de la lista es: 6\n"
     ]
    }
   ],
   "source": [
    "sum_or_max([0,1,2,3])"
   ]
  },
  {
   "cell_type": "markdown",
   "metadata": {
    "id": "yj3fSyJM-iR9"
   },
   "source": [
    "## <font color='green'>Tarea 8: Super challenging</font> \n",
    "\n",
    "Los agentes en el campo a veces necesitan hablar en código. Cree una función que tome un nombre (un string, por ejemplo, \"Juan Antonio\", \"Alejandra\", etc.) y haga lo siguiente:\n",
    "* Reemplace todas las vocales con la letra x. Para nuestros propósitos, consideremos estas letras como vocales: a, e, i, o, u, y sus respectivas mayúsculas. \n",
    "* Cambie la posición de la primera y última letra.\n",
    "* Entregue el resultado en mayúsculas.\n",
    "\n",
    "Tip:\n",
    "1. Esta tarea es desafiante, divídela en varias partes.\n",
    "2. AL trabajar sobre una lista, necesitarás unirla en un único string para devolver el resultado. Utiliza para ello el método **.join()** de los strings.\n",
    "\n",
    "Nombre tu función como **replace_and_switch**"
   ]
  },
  {
   "cell_type": "code",
   "execution_count": 27,
   "metadata": {
    "id": "iibUj4Vn-iR-"
   },
   "outputs": [],
   "source": [
    "# Tu código aquí ...\n",
    "def replace_and_switch (nombre):\n",
    "    '''\n",
    "     Función que tome un nombre y transforme en un código donde:\n",
    "     * Reemplace todas las vocales con la letra x. Para nuestros propósitos, consideremos estas letras como vocales: a, e, i, o, u, y sus \n",
    "       respectivas mayúsculas.\n",
    "     * Cambie la posición de la primera y última letra.\n",
    "     * Entregue el resultado en mayúsculas.\n",
    "\n",
    "    '''\n",
    "    # Transformar el nombre en mayúscula dado que se entrega el resultado en mayúscula\n",
    "    nombre = list(nombre.upper())\n",
    "    vocales = ['A','E','I','O','U']\n",
    "    resultado = []\n",
    "    # Ciclo que transforma vocales en 'X' y crea una nueva lista con el resultado\n",
    "    for x in nombre:\n",
    "        if x in vocales:\n",
    "            resultado.append('X')\n",
    "        else:\n",
    "            resultado.append(x)\n",
    "    # Cambio de posición de la primera y última letra\n",
    "    primera_letra = resultado[0]\n",
    "    ultima_letra = resultado[-1]\n",
    "    aux_letra = primera_letra\n",
    "    resultado[0]= ultima_letra\n",
    "    resultado[-1]= aux_letra\n",
    "    print(''.join(resultado))\n",
    "\n"
   ]
  },
  {
   "cell_type": "code",
   "execution_count": 28,
   "metadata": {
    "colab": {
     "base_uri": "https://localhost:8080/"
    },
    "executionInfo": {
     "elapsed": 353,
     "status": "ok",
     "timestamp": 1638471674898,
     "user": {
      "displayName": "Maria Julliette Marin Alarcon",
      "photoUrl": "https://lh3.googleusercontent.com/a/default-user=s64",
      "userId": "14948341870893292997"
     },
     "user_tz": 240
    },
    "id": "nmS8X_OW-iSA",
    "outputId": "29fc0fdc-f7cc-407a-d30d-272c24efbce6"
   },
   "outputs": [
    {
     "name": "stdout",
     "output_type": "stream",
     "text": [
      "XXXN XNTXNXJ\n"
     ]
    }
   ],
   "source": [
    "replace_and_switch('Juan Antonio')"
   ]
  },
  {
   "cell_type": "code",
   "execution_count": 29,
   "metadata": {
    "colab": {
     "base_uri": "https://localhost:8080/"
    },
    "executionInfo": {
     "elapsed": 376,
     "status": "ok",
     "timestamp": 1638471678558,
     "user": {
      "displayName": "Maria Julliette Marin Alarcon",
      "photoUrl": "https://lh3.googleusercontent.com/a/default-user=s64",
      "userId": "14948341870893292997"
     },
     "user_tz": 240
    },
    "id": "MBOd6V9Y-iSB",
    "outputId": "3be42325-5922-4f70-e7e6-d6a8726715d8"
   },
   "outputs": [
    {
     "name": "stdout",
     "output_type": "stream",
     "text": [
      "XXRCXLM\n"
     ]
    }
   ],
   "source": [
    "replace_and_switch(\"Marcela\")"
   ]
  },
  {
   "cell_type": "markdown",
   "metadata": {
    "id": "w78wxPsk-iSC"
   },
   "source": [
    "¡Excelente trabajo recluta! Más adelante, podrá combinar múltiples funciones para crear grandes piezas de código de trabajo que realizan tareas complejas."
   ]
  }
 ],
 "metadata": {
  "colab": {
   "collapsed_sections": [],
   "name": "FP19-Tarea_funciones-okd.ipynb",
   "provenance": []
  },
  "kernelspec": {
   "display_name": "Python 3 (ipykernel)",
   "language": "python",
   "name": "python3"
  },
  "language_info": {
   "codemirror_mode": {
    "name": "ipython",
    "version": 3
   },
   "file_extension": ".py",
   "mimetype": "text/x-python",
   "name": "python",
   "nbconvert_exporter": "python",
   "pygments_lexer": "ipython3",
   "version": "3.10.5"
  }
 },
 "nbformat": 4,
 "nbformat_minor": 1
}
