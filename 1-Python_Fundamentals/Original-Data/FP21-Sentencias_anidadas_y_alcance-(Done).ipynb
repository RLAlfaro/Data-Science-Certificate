{
 "cells": [
  {
   "cell_type": "markdown",
   "metadata": {
    "id": "VbKjWgvrOO9-"
   },
   "source": [
    "# **Introducción a Python**\n",
    "# FP21. Sentencias anidadas y alcance (nested - scope)"
   ]
  },
  {
   "cell_type": "markdown",
   "metadata": {
    "id": "5WVfTiPtOO-T"
   },
   "source": [
    "Bienvenidos de nuevo espías. Después de haber visto funciones, deberían sentirse mucho más cómodos escribiendolas. Más adelante veremos cómo las funciones pueden interactuar entre sí como parte de scripts más grandes y complejos. Para poder continuar, necesitamos aprender sobre las declaraciones anidadas y alcance. Es importante comprender cómo Python maneja los nombres de función y variable que tu creas cuando codificas. Cuando creas un nombre de variable en Python, el nombre se almacena en un espacio de nombres. Los nombres de variable también tienen un alcance, el alcance determina la visibilidad de ese nombre de variable en otras partes de su código. Veamos.\n",
    "\n",
    "\n",
    "## <font color='blue'>**namespace**</font>\n",
    "\n",
    "El ***namespace*** (espacio de nombres) es una estructura utilizada para organizar los nombres simbólicos asignados a los objetos en un programa Python. En el **namespace** se lleva un registro de todos los nombres simbólicos definidos actualmente junto con información sobre el objeto al que hace referencia cada nombre. Puedes pensar en un e**namespace** como un diccionario en el que las claves son los nombres de los objetos y los valores son los propios objetos. Cada par clave-valor asigna un nombre a su objeto correspondiente.\n",
    "\n",
    "Una declaración de asignación crea un nombre simbólico que puede usar para hacer referencia a un objeto. La declaración\n",
    "```python\n",
    "x = 'foo' \n",
    "```\n",
    "crea un nombre simbólico **x** en el ***namespace***, el cual se refiere al objeto de cadena **'foo'**.\n",
    "\n",
    "## <font color='blue'>**Tipos de namespace en Python**</font>\n",
    "\n",
    "Hay cuatro tipos:\n",
    "1. Built-In\n",
    "2. Global\n",
    "3. Enclosing\n",
    "4. Local"
   ]
  },
  {
   "cell_type": "markdown",
   "metadata": {
    "id": "8IDO5y8EOO-Y"
   },
   "source": [
    "### 1. Built-In namespace\n",
    "El **Built-In namespace** (espacio de nombres integrado) contiene los nombres de todos los objetos integrados de Python y se crea cuando ejecutas el interprete de Python o ejecutas tu primera celda en un notebook. Están disponibles en todo momento cuando se ejecuta Python. Puede enumerar los objetos en el espacio de nombres integrado con el método **dir**\n",
    "```python\n",
    "dir(objeto)\n",
    "```\n",
    "El método dir intenta obtener todos los atributos de un objeto."
   ]
  },
  {
   "cell_type": "code",
   "execution_count": 1,
   "metadata": {
    "id": "Iq5DYLmiOO-b",
    "outputId": "d22e0637-ad79-4c90-899b-b2ea5ecc1010",
    "scrolled": true,
    "tags": []
   },
   "outputs": [
    {
     "data": {
      "text/plain": [
       "['ArithmeticError',\n",
       " 'AssertionError',\n",
       " 'AttributeError',\n",
       " 'BaseException',\n",
       " 'BlockingIOError',\n",
       " 'BrokenPipeError',\n",
       " 'BufferError',\n",
       " 'BytesWarning',\n",
       " 'ChildProcessError',\n",
       " 'ConnectionAbortedError',\n",
       " 'ConnectionError',\n",
       " 'ConnectionRefusedError',\n",
       " 'ConnectionResetError',\n",
       " 'DeprecationWarning',\n",
       " 'EOFError',\n",
       " 'Ellipsis',\n",
       " 'EncodingWarning',\n",
       " 'EnvironmentError',\n",
       " 'Exception',\n",
       " 'False',\n",
       " 'FileExistsError',\n",
       " 'FileNotFoundError',\n",
       " 'FloatingPointError',\n",
       " 'FutureWarning',\n",
       " 'GeneratorExit',\n",
       " 'IOError',\n",
       " 'ImportError',\n",
       " 'ImportWarning',\n",
       " 'IndentationError',\n",
       " 'IndexError',\n",
       " 'InterruptedError',\n",
       " 'IsADirectoryError',\n",
       " 'KeyError',\n",
       " 'KeyboardInterrupt',\n",
       " 'LookupError',\n",
       " 'MemoryError',\n",
       " 'ModuleNotFoundError',\n",
       " 'NameError',\n",
       " 'None',\n",
       " 'NotADirectoryError',\n",
       " 'NotImplemented',\n",
       " 'NotImplementedError',\n",
       " 'OSError',\n",
       " 'OverflowError',\n",
       " 'PendingDeprecationWarning',\n",
       " 'PermissionError',\n",
       " 'ProcessLookupError',\n",
       " 'RecursionError',\n",
       " 'ReferenceError',\n",
       " 'ResourceWarning',\n",
       " 'RuntimeError',\n",
       " 'RuntimeWarning',\n",
       " 'StopAsyncIteration',\n",
       " 'StopIteration',\n",
       " 'SyntaxError',\n",
       " 'SyntaxWarning',\n",
       " 'SystemError',\n",
       " 'SystemExit',\n",
       " 'TabError',\n",
       " 'TimeoutError',\n",
       " 'True',\n",
       " 'TypeError',\n",
       " 'UnboundLocalError',\n",
       " 'UnicodeDecodeError',\n",
       " 'UnicodeEncodeError',\n",
       " 'UnicodeError',\n",
       " 'UnicodeTranslateError',\n",
       " 'UnicodeWarning',\n",
       " 'UserWarning',\n",
       " 'ValueError',\n",
       " 'Warning',\n",
       " 'WindowsError',\n",
       " 'ZeroDivisionError',\n",
       " '__IPYTHON__',\n",
       " '__build_class__',\n",
       " '__debug__',\n",
       " '__doc__',\n",
       " '__import__',\n",
       " '__loader__',\n",
       " '__name__',\n",
       " '__package__',\n",
       " '__spec__',\n",
       " 'abs',\n",
       " 'aiter',\n",
       " 'all',\n",
       " 'anext',\n",
       " 'any',\n",
       " 'ascii',\n",
       " 'bin',\n",
       " 'bool',\n",
       " 'breakpoint',\n",
       " 'bytearray',\n",
       " 'bytes',\n",
       " 'callable',\n",
       " 'chr',\n",
       " 'classmethod',\n",
       " 'compile',\n",
       " 'complex',\n",
       " 'copyright',\n",
       " 'credits',\n",
       " 'delattr',\n",
       " 'dict',\n",
       " 'dir',\n",
       " 'display',\n",
       " 'divmod',\n",
       " 'enumerate',\n",
       " 'eval',\n",
       " 'exec',\n",
       " 'execfile',\n",
       " 'filter',\n",
       " 'float',\n",
       " 'format',\n",
       " 'frozenset',\n",
       " 'get_ipython',\n",
       " 'getattr',\n",
       " 'globals',\n",
       " 'hasattr',\n",
       " 'hash',\n",
       " 'help',\n",
       " 'hex',\n",
       " 'id',\n",
       " 'input',\n",
       " 'int',\n",
       " 'isinstance',\n",
       " 'issubclass',\n",
       " 'iter',\n",
       " 'len',\n",
       " 'license',\n",
       " 'list',\n",
       " 'locals',\n",
       " 'map',\n",
       " 'max',\n",
       " 'memoryview',\n",
       " 'min',\n",
       " 'next',\n",
       " 'object',\n",
       " 'oct',\n",
       " 'open',\n",
       " 'ord',\n",
       " 'pow',\n",
       " 'print',\n",
       " 'property',\n",
       " 'range',\n",
       " 'repr',\n",
       " 'reversed',\n",
       " 'round',\n",
       " 'runfile',\n",
       " 'set',\n",
       " 'setattr',\n",
       " 'slice',\n",
       " 'sorted',\n",
       " 'staticmethod',\n",
       " 'str',\n",
       " 'sum',\n",
       " 'super',\n",
       " 'tuple',\n",
       " 'type',\n",
       " 'vars',\n",
       " 'zip']"
      ]
     },
     "execution_count": 1,
     "metadata": {},
     "output_type": "execute_result"
    }
   ],
   "source": [
    "dir(__builtins__)"
   ]
  },
  {
   "cell_type": "markdown",
   "metadata": {
    "id": "B5eS-o58OO-k"
   },
   "source": [
    "## <font color='green'> Actividad 1:</font>\n",
    "### Reconoce objetos en el built-in nbamespace\n",
    "Recorre la salida de la celda anterior e identifica 10 objetos propios de Python que ya hayas utilizado hasta ahora (incluido el presente notebook)."
   ]
  },
  {
   "cell_type": "markdown",
   "metadata": {
    "id": "9px9Bw0NOO-m"
   },
   "source": [
    "Tu respuesta aquí...\n",
    "\n",
    "str, False, True, bool, int, len, list, zip, input y open"
   ]
  },
  {
   "cell_type": "markdown",
   "metadata": {
    "id": "VIM8odReOO-p"
   },
   "source": [
    "<font color='green'> Fin actividad 1</font>"
   ]
  },
  {
   "cell_type": "markdown",
   "metadata": {
    "id": "_-q3NhXaOO-s"
   },
   "source": [
    "### 2. Global namespace\n",
    "\n",
    "El **Global namespace** (espacio de nombres global) contiene cualquier nombre definido en el nivel del programa principal. Python crea el espacio de nombres global cuando se inicia el cuerpo del programa principal, y permanece hasta que termina la ejecución del intérprete de Python o terminas el kernel.\n",
    "\n",
    "Estrictamente hablando, este puede no ser el único espacio de nombres global que existe. El intérprete también crea un espacio de nombres global para cualquier módulo que tu programa cargue con la declaración de **import** (veremos esto en los siguientes notebooks). "
   ]
  },
  {
   "cell_type": "markdown",
   "metadata": {
    "id": "3DCT1souOO-w"
   },
   "source": [
    "La función **globals()** nos devuelve un diccionario con el espacio de nombres global actual de nuestro programa. El contenido dependerá de la versión de Python y el sistema operativo que estés utilizando."
   ]
  },
  {
   "cell_type": "code",
   "execution_count": 2,
   "metadata": {
    "id": "S3eChmeEOO-0",
    "outputId": "69f3f1bb-4ca0-478f-b3cc-2f03ed122f80",
    "scrolled": true,
    "tags": []
   },
   "outputs": [
    {
     "data": {
      "text/plain": [
       "dict_values(['__main__', 'Automatically created module for IPython interactive environment', None, None, None, <module 'builtins' (built-in)>, <module 'builtins' (built-in)>, ['', 'dir(__builtins__)', 'globals().values()'], {1: ['ArithmeticError', 'AssertionError', 'AttributeError', 'BaseException', 'BlockingIOError', 'BrokenPipeError', 'BufferError', 'BytesWarning', 'ChildProcessError', 'ConnectionAbortedError', 'ConnectionError', 'ConnectionRefusedError', 'ConnectionResetError', 'DeprecationWarning', 'EOFError', 'Ellipsis', 'EncodingWarning', 'EnvironmentError', 'Exception', 'False', 'FileExistsError', 'FileNotFoundError', 'FloatingPointError', 'FutureWarning', 'GeneratorExit', 'IOError', 'ImportError', 'ImportWarning', 'IndentationError', 'IndexError', 'InterruptedError', 'IsADirectoryError', 'KeyError', 'KeyboardInterrupt', 'LookupError', 'MemoryError', 'ModuleNotFoundError', 'NameError', 'None', 'NotADirectoryError', 'NotImplemented', 'NotImplementedError', 'OSError', 'OverflowError', 'PendingDeprecationWarning', 'PermissionError', 'ProcessLookupError', 'RecursionError', 'ReferenceError', 'ResourceWarning', 'RuntimeError', 'RuntimeWarning', 'StopAsyncIteration', 'StopIteration', 'SyntaxError', 'SyntaxWarning', 'SystemError', 'SystemExit', 'TabError', 'TimeoutError', 'True', 'TypeError', 'UnboundLocalError', 'UnicodeDecodeError', 'UnicodeEncodeError', 'UnicodeError', 'UnicodeTranslateError', 'UnicodeWarning', 'UserWarning', 'ValueError', 'Warning', 'WindowsError', 'ZeroDivisionError', '__IPYTHON__', '__build_class__', '__debug__', '__doc__', '__import__', '__loader__', '__name__', '__package__', '__spec__', 'abs', 'aiter', 'all', 'anext', 'any', 'ascii', 'bin', 'bool', 'breakpoint', 'bytearray', 'bytes', 'callable', 'chr', 'classmethod', 'compile', 'complex', 'copyright', 'credits', 'delattr', 'dict', 'dir', 'display', 'divmod', 'enumerate', 'eval', 'exec', 'execfile', 'filter', 'float', 'format', 'frozenset', 'get_ipython', 'getattr', 'globals', 'hasattr', 'hash', 'help', 'hex', 'id', 'input', 'int', 'isinstance', 'issubclass', 'iter', 'len', 'license', 'list', 'locals', 'map', 'max', 'memoryview', 'min', 'next', 'object', 'oct', 'open', 'ord', 'pow', 'print', 'property', 'range', 'repr', 'reversed', 'round', 'runfile', 'set', 'setattr', 'slice', 'sorted', 'staticmethod', 'str', 'sum', 'super', 'tuple', 'type', 'vars', 'zip']}, [WindowsPath('C:/Users/tarto/rlalfaro_data/Diplomado UDD/DataScience_Certificate_CL/1-Python_Fundamentals/Original-Data')], ['', 'dir(__builtins__)', 'globals().values()'], {1: ['ArithmeticError', 'AssertionError', 'AttributeError', 'BaseException', 'BlockingIOError', 'BrokenPipeError', 'BufferError', 'BytesWarning', 'ChildProcessError', 'ConnectionAbortedError', 'ConnectionError', 'ConnectionRefusedError', 'ConnectionResetError', 'DeprecationWarning', 'EOFError', 'Ellipsis', 'EncodingWarning', 'EnvironmentError', 'Exception', 'False', 'FileExistsError', 'FileNotFoundError', 'FloatingPointError', 'FutureWarning', 'GeneratorExit', 'IOError', 'ImportError', 'ImportWarning', 'IndentationError', 'IndexError', 'InterruptedError', 'IsADirectoryError', 'KeyError', 'KeyboardInterrupt', 'LookupError', 'MemoryError', 'ModuleNotFoundError', 'NameError', 'None', 'NotADirectoryError', 'NotImplemented', 'NotImplementedError', 'OSError', 'OverflowError', 'PendingDeprecationWarning', 'PermissionError', 'ProcessLookupError', 'RecursionError', 'ReferenceError', 'ResourceWarning', 'RuntimeError', 'RuntimeWarning', 'StopAsyncIteration', 'StopIteration', 'SyntaxError', 'SyntaxWarning', 'SystemError', 'SystemExit', 'TabError', 'TimeoutError', 'True', 'TypeError', 'UnboundLocalError', 'UnicodeDecodeError', 'UnicodeEncodeError', 'UnicodeError', 'UnicodeTranslateError', 'UnicodeWarning', 'UserWarning', 'ValueError', 'Warning', 'WindowsError', 'ZeroDivisionError', '__IPYTHON__', '__build_class__', '__debug__', '__doc__', '__import__', '__loader__', '__name__', '__package__', '__spec__', 'abs', 'aiter', 'all', 'anext', 'any', 'ascii', 'bin', 'bool', 'breakpoint', 'bytearray', 'bytes', 'callable', 'chr', 'classmethod', 'compile', 'complex', 'copyright', 'credits', 'delattr', 'dict', 'dir', 'display', 'divmod', 'enumerate', 'eval', 'exec', 'execfile', 'filter', 'float', 'format', 'frozenset', 'get_ipython', 'getattr', 'globals', 'hasattr', 'hash', 'help', 'hex', 'id', 'input', 'int', 'isinstance', 'issubclass', 'iter', 'len', 'license', 'list', 'locals', 'map', 'max', 'memoryview', 'min', 'next', 'object', 'oct', 'open', 'ord', 'pow', 'print', 'property', 'range', 'repr', 'reversed', 'round', 'runfile', 'set', 'setattr', 'slice', 'sorted', 'staticmethod', 'str', 'sum', 'super', 'tuple', 'type', 'vars', 'zip']}, <bound method InteractiveShell.get_ipython of <ipykernel.zmqshell.ZMQInteractiveShell object at 0x000001F0DDBF5B40>>, <IPython.core.autocall.ZMQExitAutocall object at 0x000001F0DDBF7A90>, <IPython.core.autocall.ZMQExitAutocall object at 0x000001F0DDBF7A90>, ['ArithmeticError', 'AssertionError', 'AttributeError', 'BaseException', 'BlockingIOError', 'BrokenPipeError', 'BufferError', 'BytesWarning', 'ChildProcessError', 'ConnectionAbortedError', 'ConnectionError', 'ConnectionRefusedError', 'ConnectionResetError', 'DeprecationWarning', 'EOFError', 'Ellipsis', 'EncodingWarning', 'EnvironmentError', 'Exception', 'False', 'FileExistsError', 'FileNotFoundError', 'FloatingPointError', 'FutureWarning', 'GeneratorExit', 'IOError', 'ImportError', 'ImportWarning', 'IndentationError', 'IndexError', 'InterruptedError', 'IsADirectoryError', 'KeyError', 'KeyboardInterrupt', 'LookupError', 'MemoryError', 'ModuleNotFoundError', 'NameError', 'None', 'NotADirectoryError', 'NotImplemented', 'NotImplementedError', 'OSError', 'OverflowError', 'PendingDeprecationWarning', 'PermissionError', 'ProcessLookupError', 'RecursionError', 'ReferenceError', 'ResourceWarning', 'RuntimeError', 'RuntimeWarning', 'StopAsyncIteration', 'StopIteration', 'SyntaxError', 'SyntaxWarning', 'SystemError', 'SystemExit', 'TabError', 'TimeoutError', 'True', 'TypeError', 'UnboundLocalError', 'UnicodeDecodeError', 'UnicodeEncodeError', 'UnicodeError', 'UnicodeTranslateError', 'UnicodeWarning', 'UserWarning', 'ValueError', 'Warning', 'WindowsError', 'ZeroDivisionError', '__IPYTHON__', '__build_class__', '__debug__', '__doc__', '__import__', '__loader__', '__name__', '__package__', '__spec__', 'abs', 'aiter', 'all', 'anext', 'any', 'ascii', 'bin', 'bool', 'breakpoint', 'bytearray', 'bytes', 'callable', 'chr', 'classmethod', 'compile', 'complex', 'copyright', 'credits', 'delattr', 'dict', 'dir', 'display', 'divmod', 'enumerate', 'eval', 'exec', 'execfile', 'filter', 'float', 'format', 'frozenset', 'get_ipython', 'getattr', 'globals', 'hasattr', 'hash', 'help', 'hex', 'id', 'input', 'int', 'isinstance', 'issubclass', 'iter', 'len', 'license', 'list', 'locals', 'map', 'max', 'memoryview', 'min', 'next', 'object', 'oct', 'open', 'ord', 'pow', 'print', 'property', 'range', 'repr', 'reversed', 'round', 'runfile', 'set', 'setattr', 'slice', 'sorted', 'staticmethod', 'str', 'sum', 'super', 'tuple', 'type', 'vars', 'zip'], '', '', 'dir(__builtins__)', '', '', 'dir(__builtins__)', ['ArithmeticError', 'AssertionError', 'AttributeError', 'BaseException', 'BlockingIOError', 'BrokenPipeError', 'BufferError', 'BytesWarning', 'ChildProcessError', 'ConnectionAbortedError', 'ConnectionError', 'ConnectionRefusedError', 'ConnectionResetError', 'DeprecationWarning', 'EOFError', 'Ellipsis', 'EncodingWarning', 'EnvironmentError', 'Exception', 'False', 'FileExistsError', 'FileNotFoundError', 'FloatingPointError', 'FutureWarning', 'GeneratorExit', 'IOError', 'ImportError', 'ImportWarning', 'IndentationError', 'IndexError', 'InterruptedError', 'IsADirectoryError', 'KeyError', 'KeyboardInterrupt', 'LookupError', 'MemoryError', 'ModuleNotFoundError', 'NameError', 'None', 'NotADirectoryError', 'NotImplemented', 'NotImplementedError', 'OSError', 'OverflowError', 'PendingDeprecationWarning', 'PermissionError', 'ProcessLookupError', 'RecursionError', 'ReferenceError', 'ResourceWarning', 'RuntimeError', 'RuntimeWarning', 'StopAsyncIteration', 'StopIteration', 'SyntaxError', 'SyntaxWarning', 'SystemError', 'SystemExit', 'TabError', 'TimeoutError', 'True', 'TypeError', 'UnboundLocalError', 'UnicodeDecodeError', 'UnicodeEncodeError', 'UnicodeError', 'UnicodeTranslateError', 'UnicodeWarning', 'UserWarning', 'ValueError', 'Warning', 'WindowsError', 'ZeroDivisionError', '__IPYTHON__', '__build_class__', '__debug__', '__doc__', '__import__', '__loader__', '__name__', '__package__', '__spec__', 'abs', 'aiter', 'all', 'anext', 'any', 'ascii', 'bin', 'bool', 'breakpoint', 'bytearray', 'bytes', 'callable', 'chr', 'classmethod', 'compile', 'complex', 'copyright', 'credits', 'delattr', 'dict', 'dir', 'display', 'divmod', 'enumerate', 'eval', 'exec', 'execfile', 'filter', 'float', 'format', 'frozenset', 'get_ipython', 'getattr', 'globals', 'hasattr', 'hash', 'help', 'hex', 'id', 'input', 'int', 'isinstance', 'issubclass', 'iter', 'len', 'license', 'list', 'locals', 'map', 'max', 'memoryview', 'min', 'next', 'object', 'oct', 'open', 'ord', 'pow', 'print', 'property', 'range', 'repr', 'reversed', 'round', 'runfile', 'set', 'setattr', 'slice', 'sorted', 'staticmethod', 'str', 'sum', 'super', 'tuple', 'type', 'vars', 'zip'], 'globals().values()'])"
      ]
     },
     "execution_count": 2,
     "metadata": {},
     "output_type": "execute_result"
    }
   ],
   "source": [
    "globals().values()"
   ]
  },
  {
   "cell_type": "markdown",
   "metadata": {
    "id": "4ZMQ11taOO-3"
   },
   "source": [
    "Veamos que pasa cuando definimos un objeto llamado 'saludo' en este espacio de nombres."
   ]
  },
  {
   "cell_type": "code",
   "execution_count": 3,
   "metadata": {
    "id": "nJQ_EDx-OO-4",
    "outputId": "ce9f3cd0-f4a4-4bd9-945d-6251b6618ea4"
   },
   "outputs": [
    {
     "data": {
      "text/plain": [
       "False"
      ]
     },
     "execution_count": 3,
     "metadata": {},
     "output_type": "execute_result"
    }
   ],
   "source": [
    "'saludo' in globals().keys()"
   ]
  },
  {
   "cell_type": "code",
   "execution_count": 4,
   "metadata": {
    "id": "oQMofj0rOO-6"
   },
   "outputs": [],
   "source": [
    "saludo = 'Hola mundo'"
   ]
  },
  {
   "cell_type": "code",
   "execution_count": 5,
   "metadata": {
    "id": "OY5G3pzwOO-7",
    "outputId": "54601ee4-7958-468a-d2d2-da5b71af8236"
   },
   "outputs": [
    {
     "data": {
      "text/plain": [
       "True"
      ]
     },
     "execution_count": 5,
     "metadata": {},
     "output_type": "execute_result"
    }
   ],
   "source": [
    "'Hola mundo' in globals().values()"
   ]
  },
  {
   "cell_type": "code",
   "execution_count": 6,
   "metadata": {
    "id": "awyLNjuROO-8",
    "outputId": "9db92bcf-807a-4ef8-81dd-b17178a0bb02"
   },
   "outputs": [
    {
     "data": {
      "text/plain": [
       "True"
      ]
     },
     "execution_count": 6,
     "metadata": {},
     "output_type": "execute_result"
    }
   ],
   "source": [
    "'saludo' in globals().keys()"
   ]
  },
  {
   "cell_type": "markdown",
   "metadata": {
    "id": "5C8rbWq6OO-9"
   },
   "source": [
    "###  3 y 4. Enclosing y Local namespaces\n",
    "Los **Enclosing y Local namespaces** (espacios de nombres adjuntos y locales)\n",
    "son creados por el intérprete de Python cada vez que se ejecuta una nueva función. Ese espacio de nombres es local a la función (y sólo a ella) y permanece hasta que la función termina.\n",
    "\n",
    "Las funciones no existen independientemente unas de otras, solo en el nivel del programa principal. También puede definir una función dentro de otra.\n",
    "\n",
    "Python nos ofrece la funcióin (Built-In) **locals()**, la cual nos devuelve el contenido de un espacio de nombres local para un objeto definido:"
   ]
  },
  {
   "cell_type": "code",
   "execution_count": 7,
   "metadata": {
    "id": "-oV5QU-1OO-_",
    "outputId": "2deeb3be-bee5-41b2-b8bf-0287e1252f77"
   },
   "outputs": [
    {
     "data": {
      "text/plain": [
       "dict_keys(['__name__', '__doc__', '__package__', '__loader__', '__spec__', '__builtin__', '__builtins__', '_ih', '_oh', '_dh', 'In', 'Out', 'get_ipython', 'exit', 'quit', '_', '__', '___', '_i', '_ii', '_iii', '_i1', '_1', '_i2', '_2', '_i3', '_3', '_i4', 'saludo', '_i5', '_5', '_i6', '_6', '_i7'])"
      ]
     },
     "execution_count": 7,
     "metadata": {},
     "output_type": "execute_result"
    }
   ],
   "source": [
    "locals().keys()"
   ]
  },
  {
   "cell_type": "code",
   "execution_count": 8,
   "metadata": {
    "id": "semE4R-TOO_A",
    "outputId": "cb622b95-9a3d-4f0b-dba1-c1a496e1201c"
   },
   "outputs": [
    {
     "name": "stdout",
     "output_type": "stream",
     "text": [
      "Se ejecutó f()\n",
      "Se ejecutó g()\n",
      "Termina g()\n",
      "Termina f()\n"
     ]
    }
   ],
   "source": [
    "def f():                         # 1\n",
    "    print('Se ejecutó f()')      # 2\n",
    "                                 # 3\n",
    "    def g():                     # 4\n",
    "        print('Se ejecutó g()')  # 5\n",
    "        print('Termina g()')     # 6\n",
    "        return                   # 7\n",
    "                                 # 8\n",
    "    g()                          # 9\n",
    "    print('Termina f()')         # 10\n",
    "    return                       # 11\n",
    "                                 # 12\n",
    "                                 # 13\n",
    "f()                              # 14"
   ]
  },
  {
   "cell_type": "markdown",
   "metadata": {
    "id": "0lKszrMPOO_C"
   },
   "source": [
    "En este ejemplo, la función **g()** se define dentro del cuerpo de **f()**. <br>\n",
    "Esto es lo que sucede en este código:\n",
    "\n",
    "Las líneas 1 a 11 definen f(), la función envolvente (**enclosing**).<br>\n",
    "Las líneas 4 a 7 definen g(), la función incluida o adjunta (**enclosed**).<br>\n",
    "En la línea 14, el programa principal llama a f().<br>\n",
    "En la línea 9, la función f() llama a la función g().<br>\n",
    "\n",
    "Cuando el programa principal llama a f(), Python crea un nuevo espacio de nombres para f(). De manera similar, cuando f() llama a g(), g() obtiene su propio espacio de nombres separado. El espacio de nombres creado para g() es el **local namespace** (espacio de nombres local) y el espacio de nombres creado para f() es el **enclosing namespace** (espacio de nombres adjunto).\n",
    "\n",
    "Cada uno de estos espacios de nombres sigue existiendo hasta que finaliza su función respectiva. Es posible que Python no reclame inmediatamente la memoria asignada para esos espacios de nombres cuando sus funciones terminen, pero todas las referencias a los objetos que contienen dejan de ser válidas."
   ]
  },
  {
   "cell_type": "code",
   "execution_count": 9,
   "metadata": {
    "id": "l-8TGkk6OO_F",
    "outputId": "9c8e7e85-ad00-40db-ef9a-56aa97a0cdbf"
   },
   "outputs": [
    {
     "name": "stdout",
     "output_type": "stream",
     "text": [
      "Función sin nombres locales: {} \n",
      "\n",
      "Función con nombres locales:: {'present': True, 'a': 1} \n",
      "\n",
      "Función con nombres locales:: {'argumento': 'hola', 'present': True, 'a': 'hola'}\n"
     ]
    }
   ],
   "source": [
    "def noHayLocales():\n",
    "    pass\n",
    "    return locals()\n",
    "\n",
    "def siHayLocales():\n",
    "    present = True\n",
    "    a = 1\n",
    "    return locals()\n",
    "\n",
    "def siHayLocales2(argumento):\n",
    "    present = True\n",
    "    a = argumento\n",
    "    return locals()\n",
    "\n",
    "print('Función sin nombres locales:', noHayLocales(), '\\n')\n",
    "print('Función con nombres locales::', siHayLocales(), '\\n')\n",
    "print('Función con nombres locales::', siHayLocales2('hola'))"
   ]
  },
  {
   "cell_type": "markdown",
   "metadata": {
    "id": "JZs2bFlZOO_H"
   },
   "source": [
    "## <font color='blue'>**Variable scope (Alcance de las variable)**</font>\n",
    "La existencia de múltiples espacios de nombres distintos significa que pueden existir varias instancias diferentes de un nombre en particular simultáneamente mientras se ejecuta un programa de Python. Siempre que cada instancia esté en un espacio de nombres diferente, todas se mantienen por separado y no interferirán entre sí.\n",
    "\n",
    "Pero eso plantea una pregunta: supón que te refiere al nombre **x** en tu código, y **x** existe en varios espacios de nombres. ¿Cómo sabe Python a cuál te refieres?\n",
    "\n",
    "La respuesta está en el concepto de alcance (**scope**). El alcance de un nombre es la región de un programa en la que ese nombre tiene significado. El intérprete determina esto en tiempo de ejecución en función de dónde se produce la definición del nombre y en qué parte del código se hace referencia al nombre."
   ]
  },
  {
   "cell_type": "markdown",
   "metadata": {
    "id": "RRAXdOt5OO_I"
   },
   "source": [
    "### Ejemplo simple\n",
    "Comencemos con un experimento mental rápido, imagina el siguiente código:"
   ]
  },
  {
   "cell_type": "code",
   "execution_count": 10,
   "metadata": {
    "id": "eDiC5h0rOO_J"
   },
   "outputs": [],
   "source": [
    "x = 'fuera'\n",
    "\n",
    "def report():\n",
    "    x = 'dentro'\n",
    "    return x"
   ]
  },
  {
   "cell_type": "markdown",
   "metadata": {
    "id": "BLZji96IOO_L"
   },
   "source": [
    "Cuál esperas que sea la salida si llamamos a *report( )*?"
   ]
  },
  {
   "cell_type": "code",
   "execution_count": 11,
   "metadata": {
    "id": "QDeAGhvDOO_L",
    "outputId": "67ece50f-c1ec-4da9-bca7-0e498958ef5f"
   },
   "outputs": [
    {
     "data": {
      "text/plain": [
       "'dentro'"
      ]
     },
     "execution_count": 11,
     "metadata": {},
     "output_type": "execute_result"
    }
   ],
   "source": [
    "report()"
   ]
  },
  {
   "cell_type": "markdown",
   "metadata": {
    "id": "uznMeUiiOO_N"
   },
   "source": [
    "Bien, eso tiene sentido, ya que vemos que *x* fue reasignada dentro de la función *report( )*. ¿Qué crees que sucede si llamamos a print(x) fuera de esta función?"
   ]
  },
  {
   "cell_type": "code",
   "execution_count": 12,
   "metadata": {
    "id": "Z5slZhH-OO_N",
    "outputId": "f2683970-1efd-42b9-a0ac-bb81f65cbb15"
   },
   "outputs": [
    {
     "name": "stdout",
     "output_type": "stream",
     "text": [
      "fuera\n"
     ]
    }
   ],
   "source": [
    "print(x)"
   ]
  },
  {
   "cell_type": "markdown",
   "metadata": {
    "id": "xAdPXVuxOO_P"
   },
   "source": [
    "Si te fijas, **x** está definido ene más de un **namespace**; uno de ellos es global y el otro local. Claro que si buscas **x** en locals(), ya no la vas a encontrar, porque a esta altura del código la función *report()* que la creó, dejó de ejecutarse."
   ]
  },
  {
   "cell_type": "code",
   "execution_count": 13,
   "metadata": {
    "id": "-QNLzZ57OO_P",
    "outputId": "0e536250-c20e-4ae8-ec04-f13c14e343b5"
   },
   "outputs": [
    {
     "data": {
      "text/plain": [
       "False"
      ]
     },
     "execution_count": 13,
     "metadata": {},
     "output_type": "execute_result"
    }
   ],
   "source": [
    "x in locals()"
   ]
  },
  {
   "cell_type": "markdown",
   "metadata": {
    "id": "09dMtXWIOO_Q"
   },
   "source": [
    "### Cómo busca Python las variables?\n",
    "\n",
    "Si tu código se refiere al nombre **x**, Python busca **x** en los siguientes espacios de nombres siguiendo el orden que a continuación se muestra:\n",
    "\n",
    "1. **Local**: si hace referencia a x dentro de una función (**def** o **lambda**), el intérprete primero la busca en el ámbito más interno que es local para esa función.\n",
    "\n",
    "2. **Enclosing** (adjunto): si x no está en el ámbito local pero aparece en una función que reside dentro de otra función, el intérprete busca en el ámbito de la función envolvente.\n",
    "\n",
    "3. **Global**: si ninguna de las búsquedas anteriores es fructífera, el intérprete busca a continuación en el ámbito global.\n",
    "\n",
    "4. **Built-in** (integrado): si no puede encontrar x en ningún otro lugar, el intérprete prueba en el espacio de nombres incorporado.\n",
    "\n",
    "Como ves, el intérprete busca un nombre de adentro hacia afuera, buscando en el ámbito local, adjunto, global y finalmente integrado. La regla para memorizar esta búsqueda es **LEGB**."
   ]
  },
  {
   "cell_type": "markdown",
   "metadata": {
    "id": "fhCu5sJ1OO_R"
   },
   "source": [
    "### Ejemplo de Local"
   ]
  },
  {
   "cell_type": "code",
   "execution_count": 14,
   "metadata": {
    "id": "4p625DOKOO_S"
   },
   "outputs": [],
   "source": [
    "def report():\n",
    "    \n",
    "    # Esta es una asignación local dento de la función\n",
    "    x = 'local'\n",
    "    print(x)"
   ]
  },
  {
   "cell_type": "code",
   "execution_count": 15,
   "metadata": {
    "id": "uveaVv1qOO_S",
    "outputId": "f67acf73-b3df-4ea3-e35d-275dea4a5e93"
   },
   "outputs": [
    {
     "name": "stdout",
     "output_type": "stream",
     "text": [
      "local\n"
     ]
    }
   ],
   "source": [
    "report()"
   ]
  },
  {
   "cell_type": "markdown",
   "metadata": {
    "id": "ERMfJjBrOO_T"
   },
   "source": [
    "### Ejemplo de Enclosing Function\n",
    "\n",
    "Recuerda que esto ocurre cuando una función está dentro de otra función (veremos más ejemplos de esto más adelante, se llaman funciones anidadas, no las usarás tan a menudo cuando comiences a programar)."
   ]
  },
  {
   "cell_type": "code",
   "execution_count": 16,
   "metadata": {
    "id": "HIvyKjgLOO_V"
   },
   "outputs": [],
   "source": [
    "x = 'Este es el nivel global'  # x definido a nivel global\n",
    "\n",
    "def enclosing():\n",
    "    # x también se define a nivel enclosing\n",
    "    x = 'Nivel dentro de la función (enclosing)' \n",
    "    \n",
    "    def inside():\n",
    "        # Esta función está encerranda en la interior\n",
    "        # Observe la indentación\n",
    "        print(x)\n",
    "        \n",
    "    # Ahora llamemos a inside()\n",
    "    # Nota la indentación\n",
    "    inside()"
   ]
  },
  {
   "cell_type": "markdown",
   "metadata": {
    "id": "5uPmGHlKOO_W"
   },
   "source": [
    "Entonces, ¿qué pasará cuando llamemos a *enclosing( )*? Que veremos?"
   ]
  },
  {
   "cell_type": "code",
   "execution_count": 17,
   "metadata": {
    "id": "UD5hkhbEOO_X",
    "outputId": "67d6dad5-a6f5-45c5-c73d-bfc1c67780ec"
   },
   "outputs": [
    {
     "name": "stdout",
     "output_type": "stream",
     "text": [
      "Nivel dentro de la función (enclosing)\n"
     ]
    }
   ],
   "source": [
    "enclosing()"
   ]
  },
  {
   "cell_type": "markdown",
   "metadata": {
    "id": "nwx14VHeOO_Y"
   },
   "source": [
    "Siguiendo la regla **LEGB**, la función *inside( )* primero busca la variable **x** localmente. Como no está definido allí, mira el nivel adjunto (enclosing), lo encuentra definido allí, por lo que puede imprimirlo. \n",
    "\n",
    "### Ejemplo de Global\n",
    "Veamos qué sucede si no se hubiese definido en la función adjunta (lo que significa que era global)."
   ]
  },
  {
   "cell_type": "code",
   "execution_count": 18,
   "metadata": {
    "id": "wtN2YPAgOO_Z"
   },
   "outputs": [],
   "source": [
    "x = 'Este es el nivel global'\n",
    "\n",
    "def enclosing():\n",
    "    # x ya NO se define a nivel enclosing\n",
    "    # x = 'Nivel dentro de la función (enclosing)' \n",
    "    \n",
    "    def inside():\n",
    "        # Esta función está encerranda en la interior\n",
    "        # Observe la indentación\n",
    "        print(x)\n",
    "        \n",
    "    # Ahora llamemos a inside()\n",
    "    # Nota la indentación\n",
    "    inside()"
   ]
  },
  {
   "cell_type": "code",
   "execution_count": 19,
   "metadata": {
    "id": "I7ku6CI8OO_a",
    "outputId": "054370c1-0653-472f-cef9-d6777e1fbeca"
   },
   "outputs": [
    {
     "name": "stdout",
     "output_type": "stream",
     "text": [
      "Este es el nivel global\n"
     ]
    }
   ],
   "source": [
    "enclosing()"
   ]
  },
  {
   "cell_type": "markdown",
   "metadata": {
    "id": "3VBCJ97LOO_b"
   },
   "source": [
    "## <font color='green'> Actividad 2:</font>\n",
    "### Genera una definición Local\n",
    "Modifica el código anterior para que la variable **x** sea local."
   ]
  },
  {
   "cell_type": "code",
   "execution_count": 20,
   "metadata": {
    "id": "PvJUA0CpOO_b"
   },
   "outputs": [],
   "source": [
    "x = 'Este es el nivel global'\n",
    "\n",
    "def enclosing():\n",
    "    x = 'Nivel dentro de la función (enclosing)'\n",
    "\n",
    "    \n",
    "    def inside():\n",
    "        x = 'Dentro de la 2da funcion'\n",
    "        print(locals())\n",
    "        print(x)\n",
    "        \n",
    "    inside()"
   ]
  },
  {
   "cell_type": "code",
   "execution_count": 21,
   "metadata": {
    "id": "lkHFywPHOO_c",
    "outputId": "19a1fd77-3bad-4928-9a14-77d7ee96a566"
   },
   "outputs": [
    {
     "name": "stdout",
     "output_type": "stream",
     "text": [
      "{'x': 'Dentro de la 2da funcion'}\n",
      "Dentro de la 2da funcion\n"
     ]
    }
   ],
   "source": [
    "enclosing()"
   ]
  },
  {
   "cell_type": "markdown",
   "metadata": {
    "id": "B63uDiYzOO_d"
   },
   "source": [
    "<font color ='green'>Fin actividad 2</font>"
   ]
  },
  {
   "cell_type": "markdown",
   "metadata": {
    "id": "JEJ1budeOO_d"
   },
   "source": [
    "### Ejemplo de Built-in\n",
    "\n",
    "Estas son funciones y palabras clave integradas (built-in), ¡ten cuidado de no sobrescribirlas! Si el nombre de la variable ya está especialmente resaltado con otro color cuando lo escribes, probablemente sea una función pre-definida de Python a alguna de sus librerías."
   ]
  },
  {
   "cell_type": "code",
   "execution_count": 22,
   "metadata": {
    "id": "bRHf4xt_OO_e",
    "outputId": "354e4e9e-59d3-4c34-b786-7d25a57d5d7b"
   },
   "outputs": [
    {
     "data": {
      "text/plain": [
       "<function len(obj, /)>"
      ]
     },
     "execution_count": 22,
     "metadata": {},
     "output_type": "execute_result"
    }
   ],
   "source": [
    "len"
   ]
  },
  {
   "cell_type": "code",
   "execution_count": 23,
   "metadata": {
    "id": "8PgrlbNdOO_f",
    "outputId": "39589fc0-a431-47d6-9be5-96d1f6443f69"
   },
   "outputs": [
    {
     "data": {
      "text/plain": [
       "<function sum(iterable, /, start=0)>"
      ]
     },
     "execution_count": 23,
     "metadata": {},
     "output_type": "execute_result"
    }
   ],
   "source": [
    "sum"
   ]
  },
  {
   "cell_type": "code",
   "execution_count": 24,
   "metadata": {
    "id": "7eJJwD2IOO_g",
    "outputId": "b4022a46-bf74-4aef-d4ec-fbc0a69fbed5"
   },
   "outputs": [
    {
     "data": {
      "text/plain": [
       "builtin_function_or_method"
      ]
     },
     "execution_count": 24,
     "metadata": {},
     "output_type": "execute_result"
    }
   ],
   "source": [
    "type(sum)"
   ]
  },
  {
   "cell_type": "code",
   "execution_count": 25,
   "metadata": {
    "id": "EShQGdf4OO_g"
   },
   "outputs": [],
   "source": [
    "# Cuidado con sobre escribir funciones integradas\n",
    "sum = 3"
   ]
  },
  {
   "cell_type": "markdown",
   "metadata": {
    "id": "b8sAXNr-OO_h"
   },
   "source": [
    "Acabas de convertir la **función sum()** en la **variable tipo int sum**<br>\n",
    "Qué opinas; esto es una fortaleza o una debilidad de Python?"
   ]
  },
  {
   "cell_type": "code",
   "execution_count": 26,
   "metadata": {
    "id": "BBKaiDj4OO_i",
    "outputId": "c17a4ed9-be7a-4e8a-9840-2a24614edda1"
   },
   "outputs": [
    {
     "data": {
      "text/plain": [
       "3"
      ]
     },
     "execution_count": 26,
     "metadata": {},
     "output_type": "execute_result"
    }
   ],
   "source": [
    "sum"
   ]
  },
  {
   "cell_type": "code",
   "execution_count": 27,
   "metadata": {
    "id": "iUeBZJAIOO_j",
    "outputId": "dcbfa027-89de-4d5d-ac7d-8287ef987cdd"
   },
   "outputs": [
    {
     "data": {
      "text/plain": [
       "int"
      ]
     },
     "execution_count": 27,
     "metadata": {},
     "output_type": "execute_result"
    }
   ],
   "source": [
    "type(sum)"
   ]
  },
  {
   "cell_type": "markdown",
   "metadata": {
    "id": "JwtLPXBQOO_k"
   },
   "source": [
    "### Variables Locales vs Globales\n",
    "\n",
    "Ahora que hemos visto los niveles, asegurémonos de entenderlos con otro ejemplo:"
   ]
  },
  {
   "cell_type": "code",
   "execution_count": 28,
   "metadata": {
    "id": "qSsMeZmuOO_k"
   },
   "outputs": [],
   "source": [
    "x = 'global afuera'\n",
    "\n",
    "def myfunc(x):\n",
    "    \n",
    "    print(f'X es {x}')\n",
    "    \n",
    "    x = 'redefinida dentro de myfunc()'\n",
    "    \n",
    "    print(f'X es {x}')"
   ]
  },
  {
   "cell_type": "code",
   "execution_count": 29,
   "metadata": {
    "id": "mJo7av1NOO_m",
    "outputId": "cd09b54d-851c-43c4-8587-efc21deb6401"
   },
   "outputs": [
    {
     "name": "stdout",
     "output_type": "stream",
     "text": [
      "X es global afuera\n",
      "X es redefinida dentro de myfunc()\n"
     ]
    }
   ],
   "source": [
    "myfunc(x)"
   ]
  },
  {
   "cell_type": "code",
   "execution_count": 30,
   "metadata": {
    "id": "R6dC99S1OO_n",
    "outputId": "8123fd36-1c71-4c7b-f8e4-062a1d607297"
   },
   "outputs": [
    {
     "name": "stdout",
     "output_type": "stream",
     "text": [
      "global afuera\n"
     ]
    }
   ],
   "source": [
    "print(x)"
   ]
  },
  {
   "cell_type": "markdown",
   "metadata": {
    "id": "ChW4kyNpOO_o"
   },
   "source": [
    "## <font color='blue'>**Global (palabra reservada)**</font>\n",
    "\n",
    "Ahora puede haber una ocasión en la que específicamente desees sobrescribir la variable global dentro de una función. Cómo puedes hacer eso? Puedes utilizar la palabra reservada **global** antes de la variable para indicar que desea \"tomar\" la variable global y no crear una nueva de forma **local**. \n",
    "\n",
    "Ten en cuenta que esto generalmente no se recomienda, y debe hacer todo lo posible para evitarlo hasta que tengas más experiencia programando. ¿Por qué? Porque se vuelve muy fácil crear errores accidentalmente de esta manera al sobrescribir variables en una parte de su script que afectan el script en un parte completamente diferente.\n",
    "\n",
    "Veamos un ejemplo de la palabra clave **global**."
   ]
  },
  {
   "cell_type": "code",
   "execution_count": 31,
   "metadata": {
    "id": "dzPmseedOO_p"
   },
   "outputs": [],
   "source": [
    "x = 'global afuera'\n",
    "\n",
    "def myfunc():\n",
    "    # Debes declarar la variable coom global dento de la función\n",
    "    # HAcerlo al comienzo, antes de usarla\n",
    "    global x \n",
    "    \n",
    "    print(f'X es {x}')\n",
    "    \n",
    "    x = 'redefinida dentro de myfunc() con la palabra reservada \"global\".'\n",
    "    \n",
    "    print(f'X es {x}')"
   ]
  },
  {
   "cell_type": "code",
   "execution_count": 32,
   "metadata": {
    "id": "TABcRaSYOO_q",
    "outputId": "d1de9619-0d8a-42b6-d232-b3e27d1fd26a"
   },
   "outputs": [
    {
     "name": "stdout",
     "output_type": "stream",
     "text": [
      "X es global afuera\n",
      "X es redefinida dentro de myfunc() con la palabra reservada \"global\".\n"
     ]
    }
   ],
   "source": [
    "myfunc()"
   ]
  },
  {
   "cell_type": "code",
   "execution_count": 33,
   "metadata": {
    "id": "WP-nNuwTOO_r",
    "outputId": "5103f5ed-b689-4ed3-fcdf-525e9cd9d1bc"
   },
   "outputs": [
    {
     "name": "stdout",
     "output_type": "stream",
     "text": [
      "redefinida dentro de myfunc() con la palabra reservada \"global\".\n"
     ]
    }
   ],
   "source": [
    "# Aquí está la diferencia respecto del ejemplo anterior\n",
    "# La función modificó el valor de 'x'\n",
    "\n",
    "print(x)"
   ]
  },
  {
   "cell_type": "markdown",
   "metadata": {
    "id": "JBjk9GGzOO_r"
   },
   "source": [
    "Excelente trabajo reclutas de agentes! Ahora, esto debería ayudarlos a desarrollar a crear scripts con múltiples funciones y variables!"
   ]
  }
 ],
 "metadata": {
  "colab": {
   "name": "FP21-Sentencias_anidadas_y_alcance.ipynb",
   "provenance": []
  },
  "kernelspec": {
   "display_name": "Python 3 (ipykernel)",
   "language": "python",
   "name": "python3"
  },
  "language_info": {
   "codemirror_mode": {
    "name": "ipython",
    "version": 3
   },
   "file_extension": ".py",
   "mimetype": "text/x-python",
   "name": "python",
   "nbconvert_exporter": "python",
   "pygments_lexer": "ipython3",
   "version": "3.10.5"
  }
 },
 "nbformat": 4,
 "nbformat_minor": 1
}
