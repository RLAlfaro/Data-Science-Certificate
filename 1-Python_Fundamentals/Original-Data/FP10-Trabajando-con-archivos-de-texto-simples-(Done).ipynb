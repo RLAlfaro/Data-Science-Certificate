{
 "cells": [
  {
   "cell_type": "markdown",
   "metadata": {
    "id": "KtPhdWXmVi71"
   },
   "source": [
    "# **Introducción a Python**\n",
    "# FP10. Trabajando con archivos de texto simples"
   ]
  },
  {
   "cell_type": "markdown",
   "metadata": {
    "id": "IRjyIsJVVi78"
   },
   "source": [
    "¡Hola espías!\n",
    "\n",
    "En esta oportunidad vamos a trabajar con archivos. Al final de esta lección, podrá abrir archivos y trabajar con ellos usando código.\n",
    "\n",
    "Python puede manejar fácilmente el trabajo con archivos .txt (más adelante aprenderás a trabajar con otros formatos de archivo, como .csv). Repasemos las mejores prácticas para trabajar con archivos de texto simples en Python."
   ]
  },
  {
   "cell_type": "markdown",
   "metadata": {
    "id": "97IzQcgvVi79",
    "tags": []
   },
   "source": [
    "## <font color='blue'>Abrir un archivo</font>\n",
    "\n",
    "Vamos a abrir el archivo ***test_file.txt*** que se encuentra en el mismo directorio que este notebook.<br>\n",
    "Para usar un archivo y hacer algo con él, lo primero que debemos hacer es abrirlo. Sí, igual que como hacemos con un libro.<br>\n",
    "Usaremos la función **open( )**, de la siguiente forma:\n",
    "\n",
    "``` Python\n",
    "my_file = open ('ruta_del_archivo/nombre_archivo.extensión')\n",
    "```\n",
    "\n",
    "* **ruta_del_archivo** corresponde a la ruta (path) en el cual se encuentra el archivo; considera que puede hacer diferencias en el uso de los slash (/) o backslash (\\) dependiendo de si tu sistema operativo es MacOS, Linux o Windows.\n",
    "* **file_name.extension**. el nombre que elegimos del archivo y su respectiva extensión."
   ]
  },
  {
   "cell_type": "code",
   "execution_count": 1,
   "metadata": {
    "colab": {
     "base_uri": "https://localhost:8080/",
     "height": 200
    },
    "executionInfo": {
     "elapsed": 233,
     "status": "error",
     "timestamp": 1637924810272,
     "user": {
      "displayName": "Maria Julliette Marin Alarcon",
      "photoUrl": "https://lh3.googleusercontent.com/a/default-user=s64",
      "userId": "14948341870893292997"
     },
     "user_tz": 240
    },
    "id": "pzRlSYcGVi79",
    "outputId": "ac0de032-af05-43f1-a3d4-e71055b38839"
   },
   "outputs": [
    {
     "ename": "FileNotFoundError",
     "evalue": "[Errno 2] No such file or directory: 'nombre_inexistente.txt'",
     "output_type": "error",
     "traceback": [
      "\u001b[1;31m---------------------------------------------------------------------------\u001b[0m",
      "\u001b[1;31mFileNotFoundError\u001b[0m                         Traceback (most recent call last)",
      "Input \u001b[1;32mIn [1]\u001b[0m, in \u001b[0;36m<cell line: 3>\u001b[1;34m()\u001b[0m\n\u001b[0;32m      1\u001b[0m \u001b[38;5;66;03m# Por ejemplo si escribimos mal el nombre o el archivo no existe en el directorio actual\u001b[39;00m\n\u001b[0;32m      2\u001b[0m \u001b[38;5;66;03m# Esta celda dará un error\u001b[39;00m\n\u001b[1;32m----> 3\u001b[0m my_file \u001b[38;5;241m=\u001b[39m \u001b[38;5;28;43mopen\u001b[39;49m\u001b[43m(\u001b[49m\u001b[38;5;124;43m'\u001b[39;49m\u001b[38;5;124;43mnombre_inexistente.txt\u001b[39;49m\u001b[38;5;124;43m'\u001b[39;49m\u001b[43m)\u001b[49m\n",
      "\u001b[1;31mFileNotFoundError\u001b[0m: [Errno 2] No such file or directory: 'nombre_inexistente.txt'"
     ]
    }
   ],
   "source": [
    "# Por ejemplo si escribimos mal el nombre o el archivo no existe en el directorio actual\n",
    "# Esta celda dará un error\n",
    "my_file = open('nombre_inexistente.txt')"
   ]
  },
  {
   "cell_type": "markdown",
   "metadata": {
    "id": "EF4pxp9iVi8A"
   },
   "source": [
    "Esto significa que ocurrieron dos cosas posibles, o el nombre del archivo es incorrecto o no se proporcionó la ruta del archivo correcta. Cuando trabajas en Colab la ruta hay que armarla desde tu Drive de Goole en la nube.\n",
    "\n",
    "## <font color='red'>Importante</font>\n",
    "\n",
    "Si estás trabajando en Colab, estás trabajando en la nube; por ello, antes de iniciar el trabajo con archivos, debes montar el Drive (de Google) en el cual estás trabajando.<br>\n",
    "Para hacer eso usaremos el siguiente snippet de cógigo:\n",
    "\n",
    "``` Python\n",
    "from google.colab import drive\n",
    "drive.mount('/content/drive')\n",
    "```\n",
    "\n",
    "El montar el Drive te permitirá en el futuro acceder a datos almacenados en la nube.\n",
    "\n",
    "Veamos como hacer esto en el siguiente video."
   ]
  },
  {
   "cell_type": "markdown",
   "metadata": {
    "id": "Tr-ICk08Vi8B"
   },
   "source": [
    "### [Cómo montar mi Drive en Colab](https://youtu.be/ddJPeY2pqpw)"
   ]
  },
  {
   "cell_type": "code",
   "execution_count": 2,
   "metadata": {
    "colab": {
     "base_uri": "https://localhost:8080/"
    },
    "executionInfo": {
     "elapsed": 23537,
     "status": "ok",
     "timestamp": 1638556764204,
     "user": {
      "displayName": "Maria Julliette Marin Alarcon",
      "photoUrl": "https://lh3.googleusercontent.com/a/default-user=s64",
      "userId": "14948341870893292997"
     },
     "user_tz": 240
    },
    "id": "VTyf77YCVi8C",
    "outputId": "e304285e-7241-4e21-e3f9-c4eb665fbccc"
   },
   "outputs": [],
   "source": [
    "#from google.colab import drive\n",
    "#drive.mount('/content/drive')\n",
    "\n",
    "# No trabajo con Drive"
   ]
  },
  {
   "cell_type": "code",
   "execution_count": 4,
   "metadata": {
    "id": "V4oA3QRBVi8E"
   },
   "outputs": [],
   "source": [
    "myfile = open('C:/Users/tarto/rlalfaro_data/Diplomado UDD/DataScience_Certificate_CL/1-Python_Fundamentals/Original-Data/exam.txt')"
   ]
  },
  {
   "cell_type": "markdown",
   "metadata": {
    "id": "WCk6PD6tVi8F"
   },
   "source": [
    "Cuando abrimos un archivo, le asignamos un puntero a un nuevo objeto. En este caso, el objeto se llama *myfile* <br>\n",
    "El puntero quedará posicionado por defecto al inicio del archivo.<br>\n",
    "Veamos el tipo de objeto:"
   ]
  },
  {
   "cell_type": "code",
   "execution_count": 6,
   "metadata": {
    "colab": {
     "base_uri": "https://localhost:8080/"
    },
    "executionInfo": {
     "elapsed": 12,
     "status": "ok",
     "timestamp": 1638556796062,
     "user": {
      "displayName": "Maria Julliette Marin Alarcon",
      "photoUrl": "https://lh3.googleusercontent.com/a/default-user=s64",
      "userId": "14948341870893292997"
     },
     "user_tz": 240
    },
    "id": "CtRGrDSOVi8G",
    "outputId": "74e0c7a0-0a60-40bc-81d0-56d5314d2790"
   },
   "outputs": [
    {
     "data": {
      "text/plain": [
       "_io.TextIOWrapper"
      ]
     },
     "execution_count": 6,
     "metadata": {},
     "output_type": "execute_result"
    }
   ],
   "source": [
    "type(myfile)"
   ]
  },
  {
   "cell_type": "markdown",
   "metadata": {
    "id": "BRD5KmTkVi8H"
   },
   "source": [
    "## <font color='blue'>Métodos asociados a nuestro nuevo objeto</font>\n",
    "Ahora podemos llamar a varios métodos de lectura de este archivo de texto:\n",
    "\n",
    "**read()** devuelve todo el contenido como una cadena:"
   ]
  },
  {
   "cell_type": "code",
   "execution_count": 7,
   "metadata": {
    "colab": {
     "base_uri": "https://localhost:8080/",
     "height": 70
    },
    "executionInfo": {
     "elapsed": 458,
     "status": "ok",
     "timestamp": 1638494525829,
     "user": {
      "displayName": "Maria Julliette Marin Alarcon",
      "photoUrl": "https://lh3.googleusercontent.com/a/default-user=s64",
      "userId": "14948341870893292997"
     },
     "user_tz": 240
    },
    "id": "4WVlkBFXVi8J",
    "outputId": "1b5cad30-0a03-45dd-d4d2-2b644f5178da"
   },
   "outputs": [
    {
     "data": {
      "text/plain": [
       "'Bienvenido a su Primera Prueba aspirante a espÃ\\xada.\\nSi trabajas duro en clase y en casa podrÃ¡s completarlo.\\nÂ¿Completaste todos los cuadernos?\\nÂ¿Pediste ayuda cuando tuviste alguna duda?\\nSi practicaste, deberÃ\\xada ser bastante simple.\\nEmpecemos.\\nMucha suerte, Hacker.'"
      ]
     },
     "execution_count": 7,
     "metadata": {},
     "output_type": "execute_result"
    }
   ],
   "source": [
    "myfile.read()"
   ]
  },
  {
   "cell_type": "markdown",
   "metadata": {
    "id": "tXE5z-_JVi8L"
   },
   "source": [
    "Si ejecutas la sentencia anterior nuevamente, obtendrás un string vacío:"
   ]
  },
  {
   "cell_type": "code",
   "execution_count": 8,
   "metadata": {
    "colab": {
     "base_uri": "https://localhost:8080/",
     "height": 35
    },
    "executionInfo": {
     "elapsed": 62,
     "status": "ok",
     "timestamp": 1638494529135,
     "user": {
      "displayName": "Maria Julliette Marin Alarcon",
      "photoUrl": "https://lh3.googleusercontent.com/a/default-user=s64",
      "userId": "14948341870893292997"
     },
     "user_tz": 240
    },
    "id": "2E9Yn_c7Vi8M",
    "outputId": "c43d6dce-801d-4d4c-af36-03a6c1d85895"
   },
   "outputs": [
    {
     "data": {
      "text/plain": [
       "''"
      ]
     },
     "execution_count": 8,
     "metadata": {},
     "output_type": "execute_result"
    }
   ],
   "source": [
    "myfile.read()"
   ]
  },
  {
   "cell_type": "markdown",
   "metadata": {
    "id": "9TBQVtbeVi8N"
   },
   "source": [
    "Eso es porque el \"cursor\" está al final del archivo. Puedes restablecer el cursor al inicio usando el método **seek()**:"
   ]
  },
  {
   "cell_type": "code",
   "execution_count": 9,
   "metadata": {
    "colab": {
     "base_uri": "https://localhost:8080/"
    },
    "executionInfo": {
     "elapsed": 30,
     "status": "ok",
     "timestamp": 1638494717676,
     "user": {
      "displayName": "Maria Julliette Marin Alarcon",
      "photoUrl": "https://lh3.googleusercontent.com/a/default-user=s64",
      "userId": "14948341870893292997"
     },
     "user_tz": 240
    },
    "id": "1p1XXyeJVi8O",
    "outputId": "ffa7f8e4-d89d-4559-9d5d-a0c33c069070"
   },
   "outputs": [
    {
     "data": {
      "text/plain": [
       "0"
      ]
     },
     "execution_count": 9,
     "metadata": {},
     "output_type": "execute_result"
    }
   ],
   "source": [
    "myfile.seek(0)"
   ]
  },
  {
   "cell_type": "code",
   "execution_count": 10,
   "metadata": {
    "colab": {
     "base_uri": "https://localhost:8080/",
     "height": 70
    },
    "executionInfo": {
     "elapsed": 45,
     "status": "ok",
     "timestamp": 1638494720351,
     "user": {
      "displayName": "Maria Julliette Marin Alarcon",
      "photoUrl": "https://lh3.googleusercontent.com/a/default-user=s64",
      "userId": "14948341870893292997"
     },
     "user_tz": 240
    },
    "id": "RFAzA_FeVi8Q",
    "outputId": "9efd63ed-4895-48a2-b3da-9da06ff5bc74"
   },
   "outputs": [
    {
     "data": {
      "text/plain": [
       "'Bienvenido a su Primera Prueba aspirante a espÃ\\xada.\\nSi trabajas duro en clase y en casa podrÃ¡s completarlo.\\nÂ¿Completaste todos los cuadernos?\\nÂ¿Pediste ayuda cuando tuviste alguna duda?\\nSi practicaste, deberÃ\\xada ser bastante simple.\\nEmpecemos.\\nMucha suerte, Hacker.'"
      ]
     },
     "execution_count": 10,
     "metadata": {},
     "output_type": "execute_result"
    }
   ],
   "source": [
    "myfile.read()"
   ]
  },
  {
   "cell_type": "markdown",
   "metadata": {
    "id": "Ugc4L_wBVi8R"
   },
   "source": [
    "## <font color='green'>Actividad 1:</font> \n",
    "### Mira que pasa si usas seek() con el cursor en diferentes posiciones\n",
    "Pon el cursor en las siguientes posiciones 10, 45 y 88.<br>\n",
    "Analiza el resultado de cada una de ellas.\n",
    "* Todas devolvieron resultados?\n",
    "* Si alguna no lo hizo, por qué ocurrió eso?\n",
    "* seek() cuenta los caracteres de escape incluidos (\\n)?\n",
    "Tip: \n",
    "1. Usa el método seek(numero_posicion)\n",
    "2. Luego verifica con myfile.read()"
   ]
  },
  {
   "cell_type": "code",
   "execution_count": 11,
   "metadata": {
    "colab": {
     "base_uri": "https://localhost:8080/",
     "height": 53
    },
    "executionInfo": {
     "elapsed": 337,
     "status": "ok",
     "timestamp": 1638495047207,
     "user": {
      "displayName": "Maria Julliette Marin Alarcon",
      "photoUrl": "https://lh3.googleusercontent.com/a/default-user=s64",
      "userId": "14948341870893292997"
     },
     "user_tz": 240
    },
    "id": "R6cgmj-MVi8S",
    "outputId": "553eb581-f7d0-4ab1-fa63-7c23cf6b3b5c"
   },
   "outputs": [
    {
     "data": {
      "text/plain": [
       "'odrÃ¡s completarlo.\\nÂ¿Completaste todos los cuadernos?\\nÂ¿Pediste ayuda cuando tuviste alguna duda?\\nSi practicaste, deberÃ\\xada ser bastante simple.\\nEmpecemos.\\nMucha suerte, Hacker.'"
      ]
     },
     "execution_count": 11,
     "metadata": {},
     "output_type": "execute_result"
    }
   ],
   "source": [
    "# Tu código aquí ...\n",
    "\n",
    "myfile.seek(10)\n",
    "myfile.read()\n",
    "\n",
    "myfile.seek(45)\n",
    "myfile.read()\n",
    "\n",
    "myfile.seek(88)\n",
    "myfile.read()\n",
    "\n",
    "\n"
   ]
  },
  {
   "cell_type": "markdown",
   "metadata": {
    "id": "XPgrHK8RVi8S"
   },
   "source": [
    "<font color='green'>Fin actividad 1</font>"
   ]
  },
  {
   "cell_type": "markdown",
   "metadata": {
    "id": "4E-NBo06Vi8S"
   },
   "source": [
    "### El método readlines( )\n",
    "\n",
    "Debido a que muchos archivos a menudo tienen **saltos de línea (\\ n)**, a menudo la gente quiere usarlos como separadores y leer todo el archivo de texto como una lista, donde cada elemento de la lista es una cadena que representa una línea en el archivo de texto ."
   ]
  },
  {
   "cell_type": "code",
   "execution_count": 12,
   "metadata": {
    "colab": {
     "base_uri": "https://localhost:8080/"
    },
    "executionInfo": {
     "elapsed": 207,
     "status": "ok",
     "timestamp": 1637925414552,
     "user": {
      "displayName": "Maria Julliette Marin Alarcon",
      "photoUrl": "https://lh3.googleusercontent.com/a/default-user=s64",
      "userId": "14948341870893292997"
     },
     "user_tz": 240
    },
    "id": "9LSLXV0sVi8T",
    "outputId": "c2862262-5658-42aa-a6cb-9ed6a4671272"
   },
   "outputs": [
    {
     "data": {
      "text/plain": [
       "0"
      ]
     },
     "execution_count": 12,
     "metadata": {},
     "output_type": "execute_result"
    }
   ],
   "source": [
    "myfile.seek(0)"
   ]
  },
  {
   "cell_type": "code",
   "execution_count": 13,
   "metadata": {
    "colab": {
     "base_uri": "https://localhost:8080/"
    },
    "executionInfo": {
     "elapsed": 205,
     "status": "ok",
     "timestamp": 1637925418755,
     "user": {
      "displayName": "Maria Julliette Marin Alarcon",
      "photoUrl": "https://lh3.googleusercontent.com/a/default-user=s64",
      "userId": "14948341870893292997"
     },
     "user_tz": 240
    },
    "id": "dIynPUJgVi8T",
    "outputId": "3b2cf21b-e36b-403b-93e5-8e7f2352a4b6"
   },
   "outputs": [
    {
     "data": {
      "text/plain": [
       "['Bienvenido a su Primera Prueba aspirante a espÃ\\xada.\\n',\n",
       " 'Si trabajas duro en clase y en casa podrÃ¡s completarlo.\\n',\n",
       " 'Â¿Completaste todos los cuadernos?\\n',\n",
       " 'Â¿Pediste ayuda cuando tuviste alguna duda?\\n',\n",
       " 'Si practicaste, deberÃ\\xada ser bastante simple.\\n',\n",
       " 'Empecemos.\\n',\n",
       " 'Mucha suerte, Hacker.']"
      ]
     },
     "execution_count": 13,
     "metadata": {},
     "output_type": "execute_result"
    }
   ],
   "source": [
    "myfile.readlines()"
   ]
  },
  {
   "cell_type": "markdown",
   "metadata": {
    "id": "d1v7HLAZVi8U"
   },
   "source": [
    "## <font color='green'>Actividad 2:</font> \n",
    "### ¿Qué tipo de objeto devuelve el método readlines( )?\n",
    "Determina el tipo de objeto que devuelve el método readline()\n",
    "\n",
    "Tip:\n",
    "1. Utiliza la función type() sobre myfile.readlines()"
   ]
  },
  {
   "cell_type": "code",
   "execution_count": 14,
   "metadata": {
    "colab": {
     "base_uri": "https://localhost:8080/"
    },
    "executionInfo": {
     "elapsed": 337,
     "status": "ok",
     "timestamp": 1637925469832,
     "user": {
      "displayName": "Maria Julliette Marin Alarcon",
      "photoUrl": "https://lh3.googleusercontent.com/a/default-user=s64",
      "userId": "14948341870893292997"
     },
     "user_tz": 240
    },
    "id": "1s3UmWf9Vi8U",
    "outputId": "88606fc2-70a0-446f-ab5b-2a3412f70198"
   },
   "outputs": [
    {
     "data": {
      "text/plain": [
       "list"
      ]
     },
     "execution_count": 14,
     "metadata": {},
     "output_type": "execute_result"
    }
   ],
   "source": [
    "# Tu código aquí ...\n",
    "type(myfile.readlines())\n"
   ]
  },
  {
   "cell_type": "markdown",
   "metadata": {
    "id": "aIcZ1Z4OVi8U"
   },
   "source": [
    "<font color='green'>Fin actividad 2</font>"
   ]
  },
  {
   "cell_type": "markdown",
   "metadata": {
    "id": "n4vTU9UQVi8U"
   },
   "source": [
    "## <font color='blue'>**Ubicaciones de archivos cuando trabajas en modo local**</font>\n",
    "\n",
    "Si estás trabajando con una versión de Python instalada en tu computador, puedes acceder a los archivos ubicados en tu disco duro. Si el archivo a abrir está en la misma carpeta del notebook, utiliza la siguiente instrucción:\n",
    "``` Python\n",
    "      my_file = open ('nombre_archivo.extensión')  # No se incluye la ruta de acceso\n",
    "```\n",
    "\n",
    "Por el contrario, si deseas abrir archivos en otra ubicación de su computadora, simplemente ingresa la ruta completa o absoluta del archivo.\n",
    "\n",
    "Para Windows, debe usar doble \\\\ (backslash) para que Python no trate el segundo \\ como un carácter de escape, una ruta de archivo tiene la forma:\n",
    "```Python\n",
    "     myfile = open (\"C:\\\\Users\\\\YourUserName\\\\Home\\\\Folder\\\\myfile.txt\")\n",
    "```    \n",
    "Para MacOS y Linux, usa barras en la dirección opuesta (slash):\n",
    "```Python\n",
    "     myfile = open (\"/Usuarios/NombreDeUsuario/Carpeta/myfile.txt\")\n",
    "```    \n",
    "Este fue un ejemplo, intenta abrir y leer el archivo usando *tu propia ruta*"
   ]
  },
  {
   "cell_type": "markdown",
   "metadata": {
    "id": "OwO8nwBTVi8U"
   },
   "source": [
    "## <font color='green'>Actividad 3:</font> \n",
    "### <font color='red'>Atención: realiza esta activiidad sólo si estás trabajando en modo local</font>\n",
    "### Abre el archivo text_file.txt usando tu propia ruta absoluta\n",
    "\n",
    "Tip:\n",
    "1. Busca tu ruta usando el Explorador de Windows o el Finder del Mac.\n",
    "2. Abre el archivo de esta manera:\n",
    "``` Python\n",
    "      myfile = open (\"C:\\\\tu_ruta_va_aqui\\\\myfile.txt\")\n",
    "```\n",
    "3. Recuerda separar las carpetas en su ruta con barras invertidas dobles ( \\\\\\ ) en Windows o una barra simple ( / ) en Mac y Linux."
   ]
  },
  {
   "cell_type": "code",
   "execution_count": 17,
   "metadata": {
    "id": "z-QSjxQPVi8V"
   },
   "outputs": [],
   "source": [
    "# Tu código aquí ...\n",
    "act3 = open('C:/Users/tarto/rlalfaro_data/Diplomado UDD/DataScience_Certificate_CL/1-Python_Fundamentals/Original-Data/myfile.txt')"
   ]
  },
  {
   "cell_type": "code",
   "execution_count": 18,
   "metadata": {},
   "outputs": [
    {
     "data": {
      "text/plain": [
       "'Test'"
      ]
     },
     "execution_count": 18,
     "metadata": {},
     "output_type": "execute_result"
    }
   ],
   "source": [
    "act3.read()"
   ]
  },
  {
   "cell_type": "code",
   "execution_count": 20,
   "metadata": {},
   "outputs": [],
   "source": [
    "act3.close()"
   ]
  },
  {
   "cell_type": "markdown",
   "metadata": {
    "id": "bYSTnc12Vi8V"
   },
   "source": [
    "<font color='green'>Fin actividad 3</font>"
   ]
  },
  {
   "cell_type": "markdown",
   "metadata": {
    "id": "pp7ytCAAVi8V"
   },
   "source": [
    "## <font color='blue'>**No te olvides de cerrar la puerta al salir**</font>\n",
    "\n",
    "Como con el libro, cuando terminas de usarlo (leerlo) ... lo cierras.\n",
    "\n",
    "En Python *siempre* cerramos los archivos que abrimos. Para hacer eso usamos el método **close()** de esta manera:\n",
    "\n",
    "```Python\n",
    "    myfile.close()\n",
    "```"
   ]
  },
  {
   "cell_type": "markdown",
   "metadata": {
    "id": "c-YcM515Vi8W"
   },
   "source": [
    "## <font color='green'>Actividad 4:</font> \n",
    "### Cierra el archivo\n",
    "\n",
    "Tip:\n",
    "1. Cierra el archivo abierto de esta forma:\n",
    "```Python\n",
    "    myfile.close()\n",
    "```"
   ]
  },
  {
   "cell_type": "code",
   "execution_count": 19,
   "metadata": {
    "id": "Dax9q_klVi8W"
   },
   "outputs": [],
   "source": [
    "# Tu código aquí ...\n",
    "myfile.close()\n"
   ]
  },
  {
   "cell_type": "markdown",
   "metadata": {
    "id": "tTSU8m7TVi8W"
   },
   "source": [
    "<font color='green'>Fin actividad 4</font>"
   ]
  },
  {
   "cell_type": "markdown",
   "metadata": {
    "id": "CU_0IPTSVi8W"
   },
   "source": [
    "## <font color='green'>Actividad 5:</font>\n",
    "### Veamos un ejemplo completo\n",
    "\n",
    "Tip: considera que acabas de cerrar el archivo.\n",
    "Ajusta la ruta de acceso en la siguiente celda y ejecutala."
   ]
  },
  {
   "cell_type": "code",
   "execution_count": 24,
   "metadata": {
    "colab": {
     "base_uri": "https://localhost:8080/"
    },
    "executionInfo": {
     "elapsed": 744,
     "status": "ok",
     "timestamp": 1638556818376,
     "user": {
      "displayName": "Maria Julliette Marin Alarcon",
      "photoUrl": "https://lh3.googleusercontent.com/a/default-user=s64",
      "userId": "14948341870893292997"
     },
     "user_tz": 240
    },
    "id": "oad9T38xVi8W",
    "outputId": "1420edf0-fc0e-4125-a53e-ba200cfe1519"
   },
   "outputs": [
    {
     "name": "stdout",
     "output_type": "stream",
     "text": [
      "Bienvenido a su Primera Prueba aspirante a espía.\n",
      "Si trabajas duro en clase y en casa podrás completarlo.\n",
      "¿Completaste todos los cuadernos?\n",
      "¿Pediste ayuda cuando tuviste alguna duda?\n",
      "Si practicaste, debería ser bastante simple.\n",
      "Empecemos.\n",
      "Mucha suerte, Hacker.\n"
     ]
    }
   ],
   "source": [
    "# Completa el código\n",
    "\n",
    "myfile = open('C:/Users/tarto/rlalfaro_data/Diplomado UDD/DataScience_Certificate_CL/1-Python_Fundamentals/Original-Data/exam.txt', \n",
    "              encoding=\"utf-8\")\n",
    "lines = myfile.read()\n",
    "print(lines)\n",
    "myfile.close()"
   ]
  },
  {
   "cell_type": "markdown",
   "metadata": {
    "id": "bgsBc0YOVi8X"
   },
   "source": [
    "<font color='green'>Fin actividad 5</font>"
   ]
  },
  {
   "cell_type": "markdown",
   "metadata": {
    "id": "ZSa2b6k1Vi8X",
    "tags": []
   },
   "source": [
    "## <font color='blue'>**Best Practice ... la forma Paythonista !!**</font>\n",
    "Es una buena práctica usar la declaración **with ...** para abrir archivos, esto te permite no preocuparte por tener que cerrar el archivo después de abrirlo. Aquí está la sintaxis:\n",
    "\n",
    "<font color='red'>Atención: Recuerda corregir la ruta</font>"
   ]
  },
  {
   "cell_type": "code",
   "execution_count": 28,
   "metadata": {
    "id": "zc-OiQpvVi8X"
   },
   "outputs": [],
   "source": [
    "path = \"C:/Users/tarto/rlalfaro_data/Diplomado UDD/DataScience_Certificate_CL/1-Python_Fundamentals/Original-Data/\"\n",
    "\n",
    "with open(path + 'exam.txt', encoding =\"utf-8\") as myfile:\n",
    "    # Fíjate en la indentación!\n",
    "    # Veremos este tema de la indentación en profundidad más adelante\n",
    "    lines = myfile.read()\n",
    "    \n",
    "    \n",
    "# El archivo se cierra automáticamente después de la cláusula 'with ...'\n",
    "# el contenido quedo guardado en la lista 'lines'"
   ]
  },
  {
   "cell_type": "code",
   "execution_count": 29,
   "metadata": {
    "colab": {
     "base_uri": "https://localhost:8080/"
    },
    "executionInfo": {
     "elapsed": 311,
     "status": "ok",
     "timestamp": 1638556887108,
     "user": {
      "displayName": "Maria Julliette Marin Alarcon",
      "photoUrl": "https://lh3.googleusercontent.com/a/default-user=s64",
      "userId": "14948341870893292997"
     },
     "user_tz": 240
    },
    "id": "PXBb0lTUVi8X",
    "outputId": "73766da8-ca97-4389-c00f-a41ed00af22e"
   },
   "outputs": [
    {
     "data": {
      "text/plain": [
       "str"
      ]
     },
     "execution_count": 29,
     "metadata": {},
     "output_type": "execute_result"
    }
   ],
   "source": [
    "type(lines)"
   ]
  },
  {
   "cell_type": "code",
   "execution_count": 30,
   "metadata": {
    "colab": {
     "base_uri": "https://localhost:8080/"
    },
    "executionInfo": {
     "elapsed": 10,
     "status": "ok",
     "timestamp": 1638556888378,
     "user": {
      "displayName": "Maria Julliette Marin Alarcon",
      "photoUrl": "https://lh3.googleusercontent.com/a/default-user=s64",
      "userId": "14948341870893292997"
     },
     "user_tz": 240
    },
    "id": "pwh8aeogVi8Y",
    "outputId": "4f2673e3-3d55-40b5-898d-2892459a600f"
   },
   "outputs": [
    {
     "name": "stdout",
     "output_type": "stream",
     "text": [
      "Bienvenido a su Primera Prueba aspirante a espía.\n",
      "Si trabajas duro en clase y en casa podrás completarlo.\n",
      "¿Completaste todos los cuadernos?\n",
      "¿Pediste ayuda cuando tuviste alguna duda?\n",
      "Si practicaste, debería ser bastante simple.\n",
      "Empecemos.\n",
      "Mucha suerte, Hacker.\n"
     ]
    }
   ],
   "source": [
    "print(lines)"
   ]
  },
  {
   "cell_type": "markdown",
   "metadata": {
    "id": "VFJMjEHfVi8Y"
   },
   "source": [
    "## <font color='blue'>**Opciones de lectura y escritura**</font>\n",
    "La función **open()** tiene un segundo parámetro que le permite especificar si sólo desea poder leer el archivo, escribir en él o hacer ambas cosas.<br>\n",
    "A continuación, se muestra una tabla con algunas de las opciones más importantes:"
   ]
  },
  {
   "cell_type": "markdown",
   "metadata": {
    "id": "zcSb_xWUVi8Y"
   },
   "source": [
    "| Modos | Descripción |\n",
    "|:----------------:|:--------|\n",
    "|  r            | Abre un archivo solo para lectura.<br>El puntero de archivo se coloca al principio del archivo. Este es el modo por defecto |\n",
    "| r+            | Abre un archivo para leer y escribir.<br>El puntero de archivo colocado al principio del archivo. |\n",
    "|  w            | Abre un archivo solo para escritura. <br>Sobrescribe el archivo si existe. Si el archivo no existe, crea un nuevo archivo para escribir. |\n",
    "|  w+          | Abre un archivo para escribir y leer.<br>Sobrescribe el archivo existente si el archivo existe. Si el archivo no existe, crea un nuevo archivo para leer y escribir. |\n",
    "|  a      | Abre un archivo para agregar. <br>El puntero de archivo está al final del archivo si el archivo existe, es decir, el archivo está en modo adjuntar. <br>Si el archivo no existe, crea un nuevo archivo para escribir. |\n",
    "|  ab       | Abre un archivo para agregar en formato binario.<br> El puntero de archivo está al final del archivo si el archivo existe, es decir, el archivo está en modo adjuntar. <br>Si el archivo no existe, crea un nuevo archivo para escribir |\n",
    "|  a+          | Abre un archivo para agregarlo y leerlo. <br>El puntero de archivo está al final del archivo si el archivo existe. <br>El archivo se abre en el modo anexar. <br>Si el archivo no existe, crea un nuevo archivo para lectura y escritura. |\n",
    "\n",
    "\n"
   ]
  },
  {
   "cell_type": "markdown",
   "metadata": {
    "id": "ItBPC0tuVi8Z"
   },
   "source": [
    "Siempre se muy consciente del directorio en el cual estás trabajando. Las siguientes líneas de código te dirán dónde estás actualmente. <br>\n",
    "Por ahora no te preocupes sobre qué es ***import os***; eso ya lo veremos más adelante."
   ]
  },
  {
   "cell_type": "code",
   "execution_count": 31,
   "metadata": {
    "colab": {
     "base_uri": "https://localhost:8080/",
     "height": 35
    },
    "executionInfo": {
     "elapsed": 405,
     "status": "ok",
     "timestamp": 1638556904812,
     "user": {
      "displayName": "Maria Julliette Marin Alarcon",
      "photoUrl": "https://lh3.googleusercontent.com/a/default-user=s64",
      "userId": "14948341870893292997"
     },
     "user_tz": 240
    },
    "id": "n-EI0Eo7Vi8Z",
    "outputId": "55e9336d-ef55-4993-c2fc-0b1d980ed7e3"
   },
   "outputs": [
    {
     "data": {
      "text/plain": [
       "'C:\\\\Users\\\\tarto\\\\rlalfaro_data\\\\Diplomado UDD\\\\DataScience_Certificate_CL\\\\1-Python_Fundamentals\\\\Original-Data'"
      ]
     },
     "execution_count": 31,
     "metadata": {},
     "output_type": "execute_result"
    }
   ],
   "source": [
    "import os\n",
    "os.getcwd() # get current working directory\n"
   ]
  },
  {
   "cell_type": "code",
   "execution_count": 33,
   "metadata": {
    "colab": {
     "base_uri": "https://localhost:8080/",
     "height": 53
    },
    "executionInfo": {
     "elapsed": 16,
     "status": "ok",
     "timestamp": 1638556906189,
     "user": {
      "displayName": "Maria Julliette Marin Alarcon",
      "photoUrl": "https://lh3.googleusercontent.com/a/default-user=s64",
      "userId": "14948341870893292997"
     },
     "user_tz": 240
    },
    "id": "afIY3qLrVi8a",
    "outputId": "845a1a3e-8f28-4a14-efbb-26eab7545e4d"
   },
   "outputs": [
    {
     "data": {
      "text/plain": [
       "'Bienvenido a su Primera Prueba aspirante a espÃ\\xada.\\nSi trabajas duro en clase y en casa podrÃ¡s completarlo.\\nÂ¿Completaste todos los cuadernos?\\nÂ¿Pediste ayuda cuando tuviste alguna duda?\\nSi practicaste, deberÃ\\xada ser bastante simple.\\nEmpecemos.\\nMucha suerte, Hacker.'"
      ]
     },
     "execution_count": 33,
     "metadata": {},
     "output_type": "execute_result"
    }
   ],
   "source": [
    "# Probablemente second_file.txt no está en dicho directorio, \n",
    "# así es que recuerda corregir la ruta\n",
    "f = open(os.getcwd() + '\\\\exam.txt')\n",
    "f.read()"
   ]
  },
  {
   "cell_type": "markdown",
   "metadata": {
    "id": "vcBAKThDVi8a"
   },
   "source": [
    "### Intentemos escribir en el archivo"
   ]
  },
  {
   "cell_type": "code",
   "execution_count": 34,
   "metadata": {
    "colab": {
     "base_uri": "https://localhost:8080/",
     "height": 200
    },
    "executionInfo": {
     "elapsed": 340,
     "status": "error",
     "timestamp": 1638556927987,
     "user": {
      "displayName": "Maria Julliette Marin Alarcon",
      "photoUrl": "https://lh3.googleusercontent.com/a/default-user=s64",
      "userId": "14948341870893292997"
     },
     "user_tz": 240
    },
    "id": "zlq8YEovVi8a",
    "outputId": "f3017e39-86b2-43b7-bdfa-2328f1c067d3"
   },
   "outputs": [
    {
     "ename": "UnsupportedOperation",
     "evalue": "not writable",
     "output_type": "error",
     "traceback": [
      "\u001b[1;31m---------------------------------------------------------------------------\u001b[0m",
      "\u001b[1;31mUnsupportedOperation\u001b[0m                      Traceback (most recent call last)",
      "Input \u001b[1;32mIn [34]\u001b[0m, in \u001b[0;36m<cell line: 4>\u001b[1;34m()\u001b[0m\n\u001b[0;32m      1\u001b[0m \u001b[38;5;66;03m# Este código te dará error ....\u001b[39;00m\n\u001b[0;32m      3\u001b[0m f \u001b[38;5;241m=\u001b[39m \u001b[38;5;28mopen\u001b[39m(path \u001b[38;5;241m+\u001b[39m \u001b[38;5;124m'\u001b[39m\u001b[38;5;124mexam.txt\u001b[39m\u001b[38;5;124m'\u001b[39m)\n\u001b[1;32m----> 4\u001b[0m \u001b[43mf\u001b[49m\u001b[38;5;241;43m.\u001b[39;49m\u001b[43mwrite\u001b[49m\u001b[43m(\u001b[49m\u001b[38;5;124;43m\"\u001b[39;49m\u001b[38;5;124;43mnew line\u001b[39;49m\u001b[38;5;124;43m\"\u001b[39;49m\u001b[43m)\u001b[49m\n",
      "\u001b[1;31mUnsupportedOperation\u001b[0m: not writable"
     ]
    }
   ],
   "source": [
    "# Este código te dará error ....\n",
    "\n",
    "f = open(path + 'exam.txt')\n",
    "f.write(\"new line\")\n",
    "# Error debido a que está en modo lectura"
   ]
  },
  {
   "cell_type": "markdown",
   "metadata": {
    "id": "QGDhyQjQVi8a"
   },
   "source": [
    "Por defecto, la función **open()** abre los archivos en modo lectura solamente. Luego, necesitamos decirle que queremos escribir en el archivo. <br>\n",
    "\n",
    "## <font color='blue'>**Escribiendo archivos**</font>\n",
    "Tal como vimos más arriba, utilizaremos el modo 'w' para escribir en un archivo; sin ambargo, como éste no existe, primero lo creará y luego escribirña sobre él."
   ]
  },
  {
   "cell_type": "code",
   "execution_count": 35,
   "metadata": {
    "colab": {
     "base_uri": "https://localhost:8080/"
    },
    "executionInfo": {
     "elapsed": 463,
     "status": "ok",
     "timestamp": 1638556968858,
     "user": {
      "displayName": "Maria Julliette Marin Alarcon",
      "photoUrl": "https://lh3.googleusercontent.com/a/default-user=s64",
      "userId": "14948341870893292997"
     },
     "user_tz": 240
    },
    "id": "gRKB1FTyVi8b",
    "outputId": "509cf5f5-72dc-487c-d45e-e1c84968f707"
   },
   "outputs": [
    {
     "data": {
      "text/plain": [
       "39"
      ]
     },
     "execution_count": 35,
     "metadata": {},
     "output_type": "execute_result"
    }
   ],
   "source": [
    "f = open(path + 'exam.txt','w', encoding =\"utf-8\") # Recuerda corregir la ruta\n",
    "\n",
    "# La función 'writw' además de escribir, retorna el número de caracteres escritos\n",
    "f.write('Creamos un nuevo archivo con una línea\\n')"
   ]
  },
  {
   "cell_type": "code",
   "execution_count": 36,
   "metadata": {
    "id": "zFt1RU67Vi8b"
   },
   "outputs": [],
   "source": [
    "f.close()"
   ]
  },
  {
   "cell_type": "code",
   "execution_count": 37,
   "metadata": {
    "colab": {
     "base_uri": "https://localhost:8080/",
     "height": 35
    },
    "executionInfo": {
     "elapsed": 303,
     "status": "ok",
     "timestamp": 1638556976158,
     "user": {
      "displayName": "Maria Julliette Marin Alarcon",
      "photoUrl": "https://lh3.googleusercontent.com/a/default-user=s64",
      "userId": "14948341870893292997"
     },
     "user_tz": 240
    },
    "id": "K1lU1PDxVi8b",
    "outputId": "1a1938d4-96ef-4e31-942e-6ffe15c29b0b"
   },
   "outputs": [
    {
     "data": {
      "text/plain": [
       "'Creamos un nuevo archivo con una línea\\n'"
      ]
     },
     "execution_count": 37,
     "metadata": {},
     "output_type": "execute_result"
    }
   ],
   "source": [
    "f = open(path + 'exam.txt', encoding =\"utf-8\") # Recuerda corregir la ruta\n",
    "f.read()"
   ]
  },
  {
   "cell_type": "code",
   "execution_count": 38,
   "metadata": {
    "colab": {
     "base_uri": "https://localhost:8080/",
     "height": 35
    },
    "executionInfo": {
     "elapsed": 353,
     "status": "ok",
     "timestamp": 1638556986560,
     "user": {
      "displayName": "Maria Julliette Marin Alarcon",
      "photoUrl": "https://lh3.googleusercontent.com/a/default-user=s64",
      "userId": "14948341870893292997"
     },
     "user_tz": 240
    },
    "id": "EKKXweThVi8b",
    "outputId": "6caa5cc9-ef8b-4327-d7ed-315adec526ab"
   },
   "outputs": [
    {
     "data": {
      "text/plain": [
       "'Esta es una línea adicional\\n'"
      ]
     },
     "execution_count": 38,
     "metadata": {},
     "output_type": "execute_result"
    }
   ],
   "source": [
    "# Escribamos algo adicional\n",
    "# Abriremos el archivo en modo escritura y lectura (w+)\n",
    "f = open(path + 'exam.txt','w+')   # Recuerda corregir la ruta\n",
    "# y escribimos en él\n",
    "f.write('Esta es una línea adicional\\n')\n",
    "\n",
    "# Veamos que hay en el archivo hasta ahora\n",
    "f.seek(0)\n",
    "f.read()"
   ]
  },
  {
   "cell_type": "markdown",
   "metadata": {
    "id": "ccLdLw9eVi8c"
   },
   "source": [
    "Observa cómo se ha sobrescrito el contenido previo (*'Creamos un nuevo archivo con una linea\\n'*) !!<br> \n",
    "Si deseas agregar al archivo, debes usar el modo **'a+'** para escribir en él y luego poder leerlo."
   ]
  },
  {
   "cell_type": "code",
   "execution_count": 39,
   "metadata": {
    "colab": {
     "base_uri": "https://localhost:8080/"
    },
    "executionInfo": {
     "elapsed": 312,
     "status": "ok",
     "timestamp": 1638557000512,
     "user": {
      "displayName": "Maria Julliette Marin Alarcon",
      "photoUrl": "https://lh3.googleusercontent.com/a/default-user=s64",
      "userId": "14948341870893292997"
     },
     "user_tz": 240
    },
    "id": "TYyZIoxKVi8c",
    "outputId": "2399a577-7b4a-477d-b891-0b58a41b657f"
   },
   "outputs": [
    {
     "name": "stdout",
     "output_type": "stream",
     "text": [
      "Esta es una línea adicional\n",
      "Esta es una segunda línea adicional\n",
      "\n"
     ]
    }
   ],
   "source": [
    "f = open(path + 'exam.txt', 'a+')\n",
    "f.write(\"Esta es una segunda línea adicional\\n\")\n",
    "f.seek(0)\n",
    "print(f.read())\n",
    "f.close()"
   ]
  },
  {
   "cell_type": "markdown",
   "metadata": {
    "id": "0SLedisNVi8c"
   },
   "source": [
    "## <font color='green'>Actividad 5:</font> \n",
    "### Añade dos nuevas líneas al archivo *totally_new_file.txt* recién creado\n",
    "\n",
    "Tip:\n",
    "1. Necesitas abrir el archivo en modo 'a+'\n",
    "```Python\n",
    "     file_to_add = open('.../archivo_3.txt','a+')\n",
    "```\n",
    "2. Escribe dos líneas\n",
    "```Python\n",
    "     file_to_add.write('New line')\n",
    "```\n",
    "3. Lee el archivo usando **read( )**\n",
    "4. Cierra el archivo usando **close( )**"
   ]
  },
  {
   "cell_type": "code",
   "execution_count": 40,
   "metadata": {
    "colab": {
     "base_uri": "https://localhost:8080/"
    },
    "executionInfo": {
     "elapsed": 474,
     "status": "ok",
     "timestamp": 1638557074154,
     "user": {
      "displayName": "Maria Julliette Marin Alarcon",
      "photoUrl": "https://lh3.googleusercontent.com/a/default-user=s64",
      "userId": "14948341870893292997"
     },
     "user_tz": 240
    },
    "id": "gw2D8ubQVi8d",
    "outputId": "bc90b76a-0b67-4db1-fa36-d6db16b46f50"
   },
   "outputs": [
    {
     "name": "stdout",
     "output_type": "stream",
     "text": [
      "Esta es una línea adicional\n",
      "Esta es una segunda línea adicional\n",
      "Nueva línea - actividad 5 \n",
      "Segunda nueva línea - actividad 5\n",
      "\n"
     ]
    }
   ],
   "source": [
    "# Tu código aquí ...\n",
    "# Abrir archivo con modo a+\n",
    "file_to_add = open(path + 'exam.txt','a+')\n",
    "# Escribir una linea\n",
    "file_to_add.write('Nueva línea - actividad 5 \\n')\n",
    "# Escribir una linea\n",
    "file_to_add.write('Segunda nueva línea - actividad 5\\n')\n",
    "# Cursor en 0\n",
    "file_to_add.seek(0)\n",
    "# Leer el archivo\n",
    "print(file_to_add.read())\n",
    "# Cerrar el archivo\n",
    "file_to_add.close()\n"
   ]
  },
  {
   "cell_type": "markdown",
   "metadata": {
    "id": "CAC5Vd_yVi8e"
   },
   "source": [
    "<font color='green'>Fin actividad 5</font>"
   ]
  },
  {
   "cell_type": "markdown",
   "metadata": {
    "id": "YLCpGZmzVi8e"
   },
   "source": [
    "## <font color='green'>Actividad 6:</font> \n",
    "### Haz lo mismo anterior pero utilizando la sentencia *with* \n",
    "Esta es la forma *pythonista* de abrir archivos!!\n",
    "\n",
    "Tip:\n",
    "1. Necesitarás usar la sentencia *with open ... * \n",
    "```Python\n",
    "    with open('.../archivo_3.txt') as archivo:\n",
    "```\n",
    "2. Añade la siguiente línea\n",
    "```Python\n",
    "    archivo.write('Esta vez arbimos el archivo como verdadero pythonista y agregamos una linea\\n')\n",
    "```\n",
    "3. Lee el archivo utilizando **read( )**"
   ]
  },
  {
   "cell_type": "code",
   "execution_count": 41,
   "metadata": {
    "colab": {
     "base_uri": "https://localhost:8080/"
    },
    "executionInfo": {
     "elapsed": 306,
     "status": "ok",
     "timestamp": 1638557169940,
     "user": {
      "displayName": "Maria Julliette Marin Alarcon",
      "photoUrl": "https://lh3.googleusercontent.com/a/default-user=s64",
      "userId": "14948341870893292997"
     },
     "user_tz": 240
    },
    "id": "mNUtyuW-Vi8e",
    "outputId": "028e150a-aa35-480c-fbdd-22674125b124"
   },
   "outputs": [
    {
     "name": "stdout",
     "output_type": "stream",
     "text": [
      "Esta es una línea adicional\n",
      "Esta es una segunda línea adicional\n",
      "Nueva línea - actividad 5 \n",
      "Segunda nueva línea - actividad 5\n",
      "Esta vez arbimos el archivo como verdadero pythonista y agregamos una linea\n",
      "\n"
     ]
    }
   ],
   "source": [
    "# Tu código aquí ...\n",
    "# Apertura con sentencia with\n",
    "with open(path + 'exam.txt','a+') as file_to_add:\n",
    "  # Escribir una linea\n",
    "  file_to_add.write('Esta vez arbimos el archivo como verdadero pythonista y agregamos una linea\\n')\n",
    "  # Cursor en 0\n",
    "  file_to_add.seek(0)\n",
    "  # Leer texto\n",
    "  print(file_to_add.read())\n",
    "  # Cerrar archivo\n",
    "  file_to_add.close()\n"
   ]
  },
  {
   "cell_type": "markdown",
   "metadata": {
    "id": "dE_R0JFAVi8e"
   },
   "source": [
    "<font color='green'>Fin actividad 6</font>"
   ]
  },
  {
   "cell_type": "markdown",
   "metadata": {
    "id": "ymyWQ_7GVi8f"
   },
   "source": [
    "## <font color='blue'>Borrando archivos</font>\n",
    "También podemos borrar los archivos que generamos. Para ello utilizamos las siguientes instrucciones. No te preocupes por ahora de las instrucciónes *from ... import ...*; las veremos más adelante."
   ]
  },
  {
   "cell_type": "code",
   "execution_count": 45,
   "metadata": {
    "id": "n38bdCgaVi8f"
   },
   "outputs": [],
   "source": [
    "from os import remove\n",
    "from os import path\n",
    "# Verificamos que la ruta y el archivo existan\n",
    "if path.exists('C:/Users/tarto/rlalfaro_data/Diplomado UDD/DataScience_Certificate_CL/1-Python_Fundamentals/Original-Data/archivo_3.txt'):\n",
    "    # Eliminamos el archivo\n",
    "    remove('C:/Users/tarto/rlalfaro_data/Diplomado UDD/DataScience_Certificate_CL/1-Python_Fundamentals/Original-Data/archivo_3.txt')"
   ]
  },
  {
   "cell_type": "markdown",
   "metadata": {
    "id": "u4hzS5t_Vi8f"
   },
   "source": [
    "Buen trabajo espías!!"
   ]
  }
 ],
 "metadata": {
  "colab": {
   "collapsed_sections": [
    "4E-NBo06Vi8S"
   ],
   "name": "FP10-Trabajando-con-archivos-de-texto-simples-okd.ipynb",
   "provenance": []
  },
  "kernelspec": {
   "display_name": "Python 3 (ipykernel)",
   "language": "python",
   "name": "python3"
  },
  "language_info": {
   "codemirror_mode": {
    "name": "ipython",
    "version": 3
   },
   "file_extension": ".py",
   "mimetype": "text/x-python",
   "name": "python",
   "nbconvert_exporter": "python",
   "pygments_lexer": "ipython3",
   "version": "3.10.5"
  }
 },
 "nbformat": 4,
 "nbformat_minor": 1
}
