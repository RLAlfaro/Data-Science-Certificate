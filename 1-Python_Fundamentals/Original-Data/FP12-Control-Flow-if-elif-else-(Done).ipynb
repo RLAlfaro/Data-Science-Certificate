{
 "cells": [
  {
   "cell_type": "markdown",
   "metadata": {
    "id": "hVDlEHtRt5yJ"
   },
   "source": [
    "# **Introducción a Python**\n",
    "# FP12. Control de flujo (Contro Flow)\n",
    "## if , elif , y else statements"
   ]
  },
  {
   "cell_type": "markdown",
   "metadata": {
    "id": "9rlvK7ket5yT"
   },
   "source": [
    "¡Hola, Hackers!\n",
    "\n",
    "A veces necesitamos tomar decisiones en nuestro código. Necesitamos realizar algunas acciones u otras distintas dependiendo de si se cumplen o no ciertas condiciones. Para ello usamos las declaraciones **if**, **elif** y **else** para controlar estos casos. VEamos cómo funcionan !!!"
   ]
  },
  {
   "cell_type": "markdown",
   "metadata": {
    "id": "kzjtdaRPt5yV"
   },
   "source": [
    "## <font color='blue'>**La instrucción if**</font> \n",
    "La forma más simple de la sentencia *if* es la siguiente:\n",
    "```Python\n",
    "    if some_condition:\n",
    "        # Do Something\n",
    "```"
   ]
  },
  {
   "cell_type": "code",
   "execution_count": 1,
   "metadata": {
    "colab": {
     "base_uri": "https://localhost:8080/"
    },
    "executionInfo": {
     "elapsed": 302,
     "status": "ok",
     "timestamp": 1637928016958,
     "user": {
      "displayName": "Maria Julliette Marin Alarcon",
      "photoUrl": "https://lh3.googleusercontent.com/a/default-user=s64",
      "userId": "14948341870893292997"
     },
     "user_tz": 240
    },
    "id": "YVgYBBT_t5yW",
    "outputId": "0730f216-139f-48bb-8017-9da26eda4466"
   },
   "outputs": [
    {
     "name": "stdout",
     "output_type": "stream",
     "text": [
      "Uno es menor que dos\n"
     ]
    }
   ],
   "source": [
    "if 1 < 2:\n",
    "    print('Uno es menor que dos')"
   ]
  },
  {
   "cell_type": "markdown",
   "metadata": {
    "id": "MregEH-Xt5yY"
   },
   "source": [
    "**Pyhtonista:** El operador lógico siempre lleva un espacio antes y después."
   ]
  },
  {
   "cell_type": "code",
   "execution_count": 2,
   "metadata": {
    "id": "qaNlScrnt5yY"
   },
   "outputs": [],
   "source": [
    "if 1 > 2:\n",
    "    print(\"Uno es más grande que dos?\")"
   ]
  },
  {
   "cell_type": "markdown",
   "metadata": {
    "id": "igWlbuuJt5yZ"
   },
   "source": [
    "Observa lo que sucede, el bloque de código sangrado solo se ejecuta cuando la condición **if** es verdadera (*True*)."
   ]
  },
  {
   "cell_type": "code",
   "execution_count": 3,
   "metadata": {
    "colab": {
     "base_uri": "https://localhost:8080/"
    },
    "executionInfo": {
     "elapsed": 240,
     "status": "ok",
     "timestamp": 1637928118739,
     "user": {
      "displayName": "Maria Julliette Marin Alarcon",
      "photoUrl": "https://lh3.googleusercontent.com/a/default-user=s64",
      "userId": "14948341870893292997"
     },
     "user_tz": 240
    },
    "id": "ZOCC9bROt5ya",
    "outputId": "22fc3640-ae2d-4ff9-ad2e-8aa0fe00aff3"
   },
   "outputs": [
    {
     "name": "stdout",
     "output_type": "stream",
     "text": [
      "La sentencia 'if' se evaluó afirmativamente\n"
     ]
    }
   ],
   "source": [
    "# Podemos usar una variable booleana \n",
    "\n",
    "if True:\n",
    "    print(\"La sentencia 'if' se evaluó afirmativamente\")"
   ]
  },
  {
   "cell_type": "markdown",
   "metadata": {
    "id": "_I2lt6Uet5yb"
   },
   "source": [
    "**ATENCION con la indentación**. \n",
    "\n",
    "\n",
    "La **indentación** (sangría del código) le permite a Python saber cuáles líneas de código pertenecen a un mismo bloque. Unas celdas más abajo veremos reglas detalladas de cómo hacerlo."
   ]
  },
  {
   "cell_type": "markdown",
   "metadata": {
    "id": "H09wcfjit5yc"
   },
   "source": [
    "## <font color='blue'>**if else**</font>\n",
    "Ahora agreguemos una acción alternativa en caso de que **if** no sea *True* usando la instrucción **else**.\n",
    "\n",
    "Observa el formato y cómo se alinean los bloques de código con **indentación**, ¡esto es crucial en Python!"
   ]
  },
  {
   "cell_type": "code",
   "execution_count": 4,
   "metadata": {
    "colab": {
     "base_uri": "https://localhost:8080/"
    },
    "executionInfo": {
     "elapsed": 243,
     "status": "ok",
     "timestamp": 1637928257051,
     "user": {
      "displayName": "Maria Julliette Marin Alarcon",
      "photoUrl": "https://lh3.googleusercontent.com/a/default-user=s64",
      "userId": "14948341870893292997"
     },
     "user_tz": 240
    },
    "id": "SuU-H77yt5yc",
    "outputId": "b000da70-b3bd-4e0c-cdca-2bfb4e885a42"
   },
   "outputs": [
    {
     "name": "stdout",
     "output_type": "stream",
     "text": [
      "Uno es igual a uno, obvio !!\n"
     ]
    }
   ],
   "source": [
    "if 1 == 1:\n",
    "    print(\"Uno es igual a uno, obvio !!\")\n",
    "else:\n",
    "    print(\"La comparación no es correcta\")"
   ]
  },
  {
   "cell_type": "code",
   "execution_count": 5,
   "metadata": {
    "colab": {
     "base_uri": "https://localhost:8080/"
    },
    "executionInfo": {
     "elapsed": 237,
     "status": "ok",
     "timestamp": 1637928259326,
     "user": {
      "displayName": "Maria Julliette Marin Alarcon",
      "photoUrl": "https://lh3.googleusercontent.com/a/default-user=s64",
      "userId": "14948341870893292997"
     },
     "user_tz": 240
    },
    "id": "pdQLZ1Lat5yd",
    "outputId": "dbc70c3d-d14f-4c00-8c0f-30b6cca480fb"
   },
   "outputs": [
    {
     "name": "stdout",
     "output_type": "stream",
     "text": [
      "La comparación no es Verdadera (True)\n"
     ]
    }
   ],
   "source": [
    "if 1 == 2:\n",
    "    print(\"Uno es igual a uno, obvio !!\")\n",
    "else:\n",
    "    print(\"La comparación no es Verdadera (True)\")"
   ]
  },
  {
   "cell_type": "markdown",
   "metadata": {
    "id": "wH31CTujt5yd"
   },
   "source": [
    "## <font color='blue'>**if, elif, else**</font> \n",
    "\n",
    "Ahora imaginemos que tenemos varias condiciones para verificar antes de la declaración **else** final, aquí es donde podemos usar la palabra clave **elif** para verificar tantas condiciones individuales como sea necesario:"
   ]
  },
  {
   "cell_type": "code",
   "execution_count": 6,
   "metadata": {
    "colab": {
     "base_uri": "https://localhost:8080/"
    },
    "executionInfo": {
     "elapsed": 257,
     "status": "ok",
     "timestamp": 1637928300878,
     "user": {
      "displayName": "Maria Julliette Marin Alarcon",
      "photoUrl": "https://lh3.googleusercontent.com/a/default-user=s64",
      "userId": "14948341870893292997"
     },
     "user_tz": 240
    },
    "id": "h1tIvIp6t5ye",
    "outputId": "ced92026-1170-44a9-a303-d6ec14c30bd0"
   },
   "outputs": [
    {
     "name": "stdout",
     "output_type": "stream",
     "text": [
      "La tercera comparación es Verdadera (True)\n"
     ]
    }
   ],
   "source": [
    "if 2 == 0:\n",
    "    print('La primera comparación es Verdadera (True)')\n",
    "elif 2 == 1:\n",
    "    print(\"La segunda comparación es Verdadera (True)\")\n",
    "elif 2 == 2:\n",
    "    print(\"La tercera comparación es Verdadera (True)\")\n",
    "else:\n",
    "    print(\"Ninguna de las comparaciones anteriores es Verdadera (True)\")"
   ]
  },
  {
   "cell_type": "code",
   "execution_count": 7,
   "metadata": {
    "colab": {
     "base_uri": "https://localhost:8080/"
    },
    "executionInfo": {
     "elapsed": 238,
     "status": "ok",
     "timestamp": 1637928398951,
     "user": {
      "displayName": "Maria Julliette Marin Alarcon",
      "photoUrl": "https://lh3.googleusercontent.com/a/default-user=s64",
      "userId": "14948341870893292997"
     },
     "user_tz": 240
    },
    "id": "fqrnHfdht5yg",
    "outputId": "55bb8647-5436-432d-a6a8-cdad6cc7fc4a"
   },
   "outputs": [
    {
     "name": "stdout",
     "output_type": "stream",
     "text": [
      "Ninguna de las comparaciones anteriores es Verdadera (True)\n"
     ]
    }
   ],
   "source": [
    "if 2 == 0:\n",
    "    print('La primera comparación es Verdadera (True)')\n",
    "elif 2 == 1:\n",
    "    print(\"La segunda comparación es Verdadera (True)\")\n",
    "elif 2 == 100:\n",
    "    print(\"La tercera comparación es Verdadera (True)\")\n",
    "else:\n",
    "    print(\"Ninguna de las comparaciones anteriores es Verdadera (True)\")"
   ]
  },
  {
   "cell_type": "markdown",
   "metadata": {
    "id": "Iz0HE35yt5yh"
   },
   "source": [
    "Veamos qué sucede si tuviéramos múltiples condiciones *True*:"
   ]
  },
  {
   "cell_type": "code",
   "execution_count": 8,
   "metadata": {
    "colab": {
     "base_uri": "https://localhost:8080/"
    },
    "executionInfo": {
     "elapsed": 233,
     "status": "ok",
     "timestamp": 1637928404906,
     "user": {
      "displayName": "Maria Julliette Marin Alarcon",
      "photoUrl": "https://lh3.googleusercontent.com/a/default-user=s64",
      "userId": "14948341870893292997"
     },
     "user_tz": 240
    },
    "id": "JlSPKI0dt5yi",
    "outputId": "7ef3e6fd-94aa-4a37-dda4-0afad9fa93d7"
   },
   "outputs": [
    {
     "name": "stdout",
     "output_type": "stream",
     "text": [
      "La primera comparación es Verdadera (True)\n"
     ]
    }
   ],
   "source": [
    "if 2 == 2:\n",
    "    print('La primera comparación es Verdadera (True)')\n",
    "elif 2 == 2:\n",
    "    print(\"La segunda comparación es Verdadera (True)\")\n",
    "elif 2 == 2:\n",
    "    print(\"La tercera comparación es Verdadera (True)\")\n",
    "else:\n",
    "    print(\"Ninguna de las comparaciones anteriores es Verdadera (True)\")"
   ]
  },
  {
   "cell_type": "markdown",
   "metadata": {
    "id": "E2IaSTqet5yi"
   },
   "source": [
    "Observa cómo solo se ejecutará el bloque de código de la primera condición verdadera, ¡ten esto en cuenta al escribir sus scripts!"
   ]
  },
  {
   "cell_type": "markdown",
   "metadata": {
    "id": "3I05uezet5yj"
   },
   "source": [
    "Es importante tener una buena comprensión de cómo funciona la **indentación** en Python para mantener la estructura y el orden de su código. ¡Tocaremos este tema nuevamente cuando comencemos a construir funciones!"
   ]
  },
  {
   "cell_type": "markdown",
   "metadata": {
    "id": "-1LQd_mnt5yj"
   },
   "source": [
    "## <font color='blue'>**Veamos un poco más acerca de la indentación**</font>\n",
    "### Reglas\n",
    "1. Cada nivel de indentación utiliza 4 espacios\n",
    "2. Aún cuando funcionan, se recomienda NO usar tabs para las indentaciones\n",
    "3. NUNCA combines tabs y espacios para indentar código"
   ]
  },
  {
   "cell_type": "code",
   "execution_count": 9,
   "metadata": {
    "colab": {
     "base_uri": "https://localhost:8080/"
    },
    "executionInfo": {
     "elapsed": 251,
     "status": "ok",
     "timestamp": 1637928476849,
     "user": {
      "displayName": "Maria Julliette Marin Alarcon",
      "photoUrl": "https://lh3.googleusercontent.com/a/default-user=s64",
      "userId": "14948341870893292997"
     },
     "user_tz": 240
    },
    "id": "EG4mDtIrt5yk",
    "outputId": "0f3a87f2-c508-4913-ec9b-db2f2d4753cd"
   },
   "outputs": [
    {
     "name": "stdout",
     "output_type": "stream",
     "text": [
      "Esta impresión está dentro del bloque 'if'\n",
      "Esta impresión está dentro del bloque 'if'\n",
      "Esta impresión está dentro del bloque 'if'\n",
      "Esta impresión está fuera del bloque 'if'\n"
     ]
    }
   ],
   "source": [
    "if True:\n",
    "    print(\"Esta impresión está dentro del bloque 'if'\")\n",
    "    print(\"Esta impresión está dentro del bloque 'if'\")\n",
    "    print(\"Esta impresión está dentro del bloque 'if'\")\n",
    "print(\"Esta impresión está fuera del bloque 'if'\")"
   ]
  },
  {
   "cell_type": "code",
   "execution_count": 10,
   "metadata": {
    "colab": {
     "base_uri": "https://localhost:8080/"
    },
    "executionInfo": {
     "elapsed": 229,
     "status": "ok",
     "timestamp": 1637928489520,
     "user": {
      "displayName": "Maria Julliette Marin Alarcon",
      "photoUrl": "https://lh3.googleusercontent.com/a/default-user=s64",
      "userId": "14948341870893292997"
     },
     "user_tz": 240
    },
    "id": "lBpW0b-jt5yk",
    "outputId": "eae296c4-1e05-41df-fc1d-10ad012376c1"
   },
   "outputs": [
    {
     "name": "stdout",
     "output_type": "stream",
     "text": [
      "Esta impresión está fuera del bloque 'if'\n"
     ]
    }
   ],
   "source": [
    "# Veamos que ocurre cuando cambiamos la condición a False\n",
    "\n",
    "if False:\n",
    "    print(\"Esta impresión está dentro del bloque 'if'\")\n",
    "    print(\"Esta impresión está dentro del bloque 'if'\")\n",
    "    print(\"Esta impresión está dentro del bloque 'if'\")\n",
    "print(\"Esta impresión está fuera del bloque 'if'\")"
   ]
  },
  {
   "cell_type": "code",
   "execution_count": 12,
   "metadata": {
    "colab": {
     "base_uri": "https://localhost:8080/",
     "height": 130
    },
    "executionInfo": {
     "elapsed": 241,
     "status": "error",
     "timestamp": 1637928498450,
     "user": {
      "displayName": "Maria Julliette Marin Alarcon",
      "photoUrl": "https://lh3.googleusercontent.com/a/default-user=s64",
      "userId": "14948341870893292997"
     },
     "user_tz": 240
    },
    "id": "WPUtn_75t5yk",
    "outputId": "9de935ca-3d3a-47c1-eb18-e8971670c908"
   },
   "outputs": [
    {
     "ename": "IndentationError",
     "evalue": "unindent does not match any outer indentation level (<tokenize>, line 6)",
     "output_type": "error",
     "traceback": [
      "\u001b[1;36m  File \u001b[1;32m<tokenize>:6\u001b[1;36m\u001b[0m\n\u001b[1;33m    print(\"Esta impresión está dentro del bloque 'if'\")\u001b[0m\n\u001b[1;37m    ^\u001b[0m\n\u001b[1;31mIndentationError\u001b[0m\u001b[1;31m:\u001b[0m unindent does not match any outer indentation level\n"
     ]
    }
   ],
   "source": [
    "# En este caso hemos introducido una indentación es de tres espacios. \n",
    "# Esto genererá un error del tipo *IndentationEror*\n",
    "\n",
    "if False:\n",
    "    print(\"Esta impresión está dentro del bloque 'if'\")\n",
    "   print(\"Esta impresión está dentro del bloque 'if'\")\n",
    "    print(\"Esta impresión está dentro del bloque 'if'\")\n",
    "print(\"Esta impresión está fuera del bloque 'if'\")"
   ]
  },
  {
   "cell_type": "markdown",
   "metadata": {
    "id": "lFs2cOlYt5yl"
   },
   "source": [
    "### Agreguemos todo en un ejemplo final"
   ]
  },
  {
   "cell_type": "code",
   "execution_count": 13,
   "metadata": {
    "id": "43DTO716t5yl"
   },
   "outputs": [],
   "source": [
    "agent_code = 231912\n",
    "access = False"
   ]
  },
  {
   "cell_type": "code",
   "execution_count": 14,
   "metadata": {
    "colab": {
     "base_uri": "https://localhost:8080/"
    },
    "executionInfo": {
     "elapsed": 4,
     "status": "ok",
     "timestamp": 1637928508898,
     "user": {
      "displayName": "Maria Julliette Marin Alarcon",
      "photoUrl": "https://lh3.googleusercontent.com/a/default-user=s64",
      "userId": "14948341870893292997"
     },
     "user_tz": 240
    },
    "id": "Ay2NrwlJt5yl",
    "outputId": "365b08a6-b15d-4276-ff28-17083976abf9"
   },
   "outputs": [
    {
     "name": "stdout",
     "output_type": "stream",
     "text": [
      "Bienvenido agente\n",
      "Inicializando su aceso a condición: Verdadera\n"
     ]
    }
   ],
   "source": [
    "if agent_code == 12345:\n",
    "    print('Código reinicializado')\n",
    "    print(\"Comuníquese con el supervisor\")\n",
    "elif agent_code == 231912:\n",
    "    print('Bienvenido agente')\n",
    "    print('Inicializando su aceso a condición: Verdadera')\n",
    "    access = True\n",
    "else:\n",
    "    print(\"Código erréneo\")"
   ]
  },
  {
   "cell_type": "code",
   "execution_count": 15,
   "metadata": {
    "colab": {
     "base_uri": "https://localhost:8080/"
    },
    "executionInfo": {
     "elapsed": 235,
     "status": "ok",
     "timestamp": 1637928531493,
     "user": {
      "displayName": "Maria Julliette Marin Alarcon",
      "photoUrl": "https://lh3.googleusercontent.com/a/default-user=s64",
      "userId": "14948341870893292997"
     },
     "user_tz": 240
    },
    "id": "q-uKvAuQt5ym",
    "outputId": "2e464452-74f9-4b9f-9e8d-ca0ae34757d7"
   },
   "outputs": [
    {
     "name": "stdout",
     "output_type": "stream",
     "text": [
      "Acceso concedido\n"
     ]
    }
   ],
   "source": [
    "# Ahora podemos iniciar otro conjunto de lógica de flujo de control aquí.\n",
    "\n",
    "if access == True:\n",
    "    print('Acceso concedido')\n",
    "else:\n",
    "    print('Access denegado')"
   ]
  },
  {
   "cell_type": "markdown",
   "metadata": {
    "id": "DGBMNWMtt5ym"
   },
   "source": [
    "Echa un vistazo al último conjunto del bloque *if / else*, dado que la variable **acceso** en sí es un booleano, también podríamos haberlo escrito así:"
   ]
  },
  {
   "cell_type": "code",
   "execution_count": 16,
   "metadata": {
    "colab": {
     "base_uri": "https://localhost:8080/"
    },
    "executionInfo": {
     "elapsed": 242,
     "status": "ok",
     "timestamp": 1637928542448,
     "user": {
      "displayName": "Maria Julliette Marin Alarcon",
      "photoUrl": "https://lh3.googleusercontent.com/a/default-user=s64",
      "userId": "14948341870893292997"
     },
     "user_tz": 240
    },
    "id": "Vs8nMJcCt5ym",
    "outputId": "44bf21d6-805b-4001-9991-7845079e25bb"
   },
   "outputs": [
    {
     "name": "stdout",
     "output_type": "stream",
     "text": [
      "Acceso concedido\n"
     ]
    }
   ],
   "source": [
    "if access:\n",
    "    print('Acceso concedido')\n",
    "else:\n",
    "    print('Access denegado')"
   ]
  },
  {
   "cell_type": "markdown",
   "metadata": {
    "id": "JefTlO8et5yn"
   },
   "source": [
    "Escribir código como acabamos de hacer en la celda anterior es más limpio. Ppuedes nombrar tus variables de manera diferente para que también sea aún más legible tu código; por ejemplo, cambia el nombre de **acceso** a **solicitud_acceso** de forma que el código quede como sigue:\n",
    "\n",
    "```python\n",
    "if solicitud_acceso:\n",
    "```"
   ]
  },
  {
   "cell_type": "markdown",
   "metadata": {
    "id": "LD8e_J3Wt5yn"
   },
   "source": [
    "## <font color='green'>Actividad 1:</font> \n",
    "### Juego de adivina el número\n",
    "\n",
    "Juego: el computador generará un número aleatorio; intenta adivinarlo !!!\n",
    "\n",
    "Pasos:\n",
    "1. Ingresa un número desde el teclado usando la función de entrada y guárdalo en una variable llamada 'my_guess_number'\n",
    "2. Genera un número aleatorio y guárdalo en una variable llamada 'número_secreto'\n",
    "3. Compara los números e imprime un mensaje: si lo adivinó, imprime \"¡Bingo, tú ganas!\" y si no, imprime \"Inténtalo de nuevo\""
   ]
  },
  {
   "cell_type": "code",
   "execution_count": 17,
   "metadata": {
    "executionInfo": {
     "elapsed": 389,
     "status": "ok",
     "timestamp": 1638496071389,
     "user": {
      "displayName": "Maria Julliette Marin Alarcon",
      "photoUrl": "https://lh3.googleusercontent.com/a/default-user=s64",
      "userId": "14948341870893292997"
     },
     "user_tz": 240
    },
    "id": "tKAJwTrXt5yn"
   },
   "outputs": [],
   "source": [
    "# Primero vamos a importar una biblioteca llamada 'numpy'\n",
    "# Hablaremos mucho de bibliotecas muy pronto; por ahora decir que en ellas hay mucho código pre-armado\n",
    "# Por ahora ejecuta esta celda\n",
    "\n",
    "import numpy as np"
   ]
  },
  {
   "cell_type": "code",
   "execution_count": 18,
   "metadata": {
    "colab": {
     "base_uri": "https://localhost:8080/"
    },
    "executionInfo": {
     "elapsed": 2833,
     "status": "ok",
     "timestamp": 1638496179899,
     "user": {
      "displayName": "Maria Julliette Marin Alarcon",
      "photoUrl": "https://lh3.googleusercontent.com/a/default-user=s64",
      "userId": "14948341870893292997"
     },
     "user_tz": 240
    },
    "id": "eOH0Myd8t5yn",
    "outputId": "285c4e6e-ce2b-4e14-82e9-d2b827a8e826"
   },
   "outputs": [
    {
     "name": "stdout",
     "output_type": "stream",
     "text": [
      "Ingresa un número: 5\n",
      "Inténtalo de nuevo\n"
     ]
    }
   ],
   "source": [
    "# Ingresar número por teclado y guardar en variable\n",
    "my_guess_number = input(\"Ingresa un número: \")\n",
    "# Generar número aleatorio y guardar en variable\n",
    "secret_number = np.random.randint(0,9)\n",
    "# Condición para confirmar si el número coincide e imprimir mensaje según resultado\n",
    "if my_guess_number == secret_number:\n",
    "    print(\"¡Bingo, tú ganas!\")\n",
    "else:\n",
    "    print(\"Inténtalo de nuevo\")\n"
   ]
  },
  {
   "cell_type": "markdown",
   "metadata": {
    "id": "g-s7iLg1t5yo"
   },
   "source": [
    "<font color='green'>Fin actividad 1</font> "
   ]
  },
  {
   "cell_type": "markdown",
   "metadata": {
    "id": "VajHRBbht5yo"
   },
   "source": [
    "## <font color='green'>Actividad 2: Super challenging</font> \n",
    "### Año bisiesto\n",
    "Un año bisiesto (también conocido como año intercalario o año bissextil) es un año calendario que contiene un día adicional. Cada año bisiesto tiene 366 días en lugar de los 365 habituales, extendiendo febrero a 29 días en lugar de los 28 habituales. \n",
    "\n",
    "En el calendario gregoriano, un año normal consta de 365 días. Debido a que la duración real de un año sideral (el tiempo necesario para que la Tierra gire una vez alrededor del Sol) es en realidad 365.2425 días, un \"año bisiesto\" de 366 días se utiliza una vez cada cuatro años para eliminar el error causado por tres años normales (pero cortos). \n",
    "\n",
    "Cualquier año divisible por 4 es un año bisiesto: por ejemplo, 1988, 1992 y 1996 son años bisiestos.\n",
    "\n",
    "Sin embargo, hay un pequeño error de cálculo que debe tenerse en cuenta. Para eliminar este error, el calendario gregoriano estipula que un año que es divisible por 100 (por ejemplo, 1900) es un año bisiesto solo si también es divisible por 400.\n",
    "\n",
    "Por esta razón, los años siguientes no son años bisiestos:\n",
    "1700, 1800, 1900, 2100, 2200, 2300, 2500, 2600\n",
    "\n",
    "Esto se debe a que son divisibles por 100 pero no por 400.\n",
    "\n",
    "Los años siguientes son años bisiestos: 1600, 2000, 2400\n",
    "Esto se debe a que son divisibles por 100 y 400.\n",
    "\n",
    "\n",
    "### Algoritmo para calcular si un año es bisiesto\n",
    "\n",
    "Comprueba las siguientes condiciones en el orden en que se presentan:\n",
    "\n",
    "**Condición_1:** si el año es exactamente divisible por 4<br>\n",
    "**Condición_2:** si el año es divisible por 100<br>\n",
    "**Condición_3:** si el año es exactamente divisible por 400. <br>\n",
    "\n",
    "El pseudo-código que se suele usar para establecer si un año es bisiesto sería:\n",
    "\n",
    "```python\n",
    "si condición_1 y (no condición_2 o condición_3) entonces:\n",
    "    es año bisiesto\n",
    "sino\n",
    "    no es bisiesto\n",
    "```\n",
    "Por ejemplo, los años 1700, 1800 y 1900 no fueron años bisiestos, pero los años 1600 y 2000 sí lo fueron.\n",
    "\n",
    "Desafío: determina si un año específico es bisiesto o no.\n",
    "\n",
    "Pasos:\n",
    "1. Ingrese un año desde el teclado usando la función de entrada y guárdelo en una variable llamada 'input_year'\n",
    "2. Cree un código que determine si 'input_year' es o no es un año bisiesto.\n",
    "3. Imprima un mensaje que indique que input_year 'es un año bisiesto' o 'no es un año bisiesto'\n",
    "\n",
    "Tips:\n",
    "\n",
    "1. Use las funciones de entrada para ingresar el año\n",
    "2. Utilice el operador % (módulo) para hacer las divisiones"
   ]
  },
  {
   "cell_type": "code",
   "execution_count": 19,
   "metadata": {
    "colab": {
     "base_uri": "https://localhost:8080/"
    },
    "executionInfo": {
     "elapsed": 245,
     "status": "ok",
     "timestamp": 1637929271206,
     "user": {
      "displayName": "Maria Julliette Marin Alarcon",
      "photoUrl": "https://lh3.googleusercontent.com/a/default-user=s64",
      "userId": "14948341870893292997"
     },
     "user_tz": 240
    },
    "id": "5Gn-ep7Zt5yo",
    "outputId": "72e74a3e-b66f-4860-a4db-031fd4ff722a"
   },
   "outputs": [
    {
     "data": {
      "text/plain": [
       "0"
      ]
     },
     "execution_count": 19,
     "metadata": {},
     "output_type": "execute_result"
    }
   ],
   "source": [
    "# Tip 2: recuerda el operador % \n",
    "\n",
    "2200 % 4"
   ]
  },
  {
   "cell_type": "code",
   "execution_count": 20,
   "metadata": {
    "colab": {
     "base_uri": "https://localhost:8080/"
    },
    "executionInfo": {
     "elapsed": 4441,
     "status": "ok",
     "timestamp": 1638496306134,
     "user": {
      "displayName": "Maria Julliette Marin Alarcon",
      "photoUrl": "https://lh3.googleusercontent.com/a/default-user=s64",
      "userId": "14948341870893292997"
     },
     "user_tz": 240
    },
    "id": "iZQBoulGt5yp",
    "outputId": "b0e038f8-db90-444e-fdd8-9d6b597fc00f"
   },
   "outputs": [
    {
     "name": "stdout",
     "output_type": "stream",
     "text": [
      "Ingresa un año: 2020\n",
      "Es bisiesto\n"
     ]
    }
   ],
   "source": [
    "# Tu código aquí ...\n",
    "# Para verificar si año ingresado es bisiesto o no\n",
    "# Ingresar número por teclado y guardar en variable\n",
    "input_year= int(input(\"Ingresa un año: \"))\n",
    "# Condición para verificar si es año bisiesto\n",
    "if input_year % 4 == 0 and (input_year % 100 != 0 or input_year % 400 == 0):\n",
    "  # Impresión si es año bisiesto\n",
    "    print(\"Es bisiesto\")\n",
    "else:\n",
    "  # Impresión si no es año bisiesto\n",
    "    print(\"No es bisiesto\")"
   ]
  },
  {
   "cell_type": "markdown",
   "metadata": {
    "id": "l_DvaSPkt5yp"
   },
   "source": [
    "<font color='green'>Fin actividad 2</font> "
   ]
  }
 ],
 "metadata": {
  "colab": {
   "name": "FP12-Control-Flow-if-elif-else-ok.ipynb",
   "provenance": []
  },
  "kernelspec": {
   "display_name": "Python 3 (ipykernel)",
   "language": "python",
   "name": "python3"
  },
  "language_info": {
   "codemirror_mode": {
    "name": "ipython",
    "version": 3
   },
   "file_extension": ".py",
   "mimetype": "text/x-python",
   "name": "python",
   "nbconvert_exporter": "python",
   "pygments_lexer": "ipython3",
   "version": "3.10.5"
  }
 },
 "nbformat": 4,
 "nbformat_minor": 1
}
