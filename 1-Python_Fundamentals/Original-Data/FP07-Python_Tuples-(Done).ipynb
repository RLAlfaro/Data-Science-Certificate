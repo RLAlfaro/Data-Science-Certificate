{
 "cells": [
  {
   "cell_type": "markdown",
   "metadata": {
    "id": "T_9soEUbNQft"
   },
   "source": [
    "# **Introducción a Python**\n",
    "# FP07. Tuplas en Python (Tuples)"
   ]
  },
  {
   "cell_type": "markdown",
   "metadata": {
    "id": "G7Z9IAFENQf5"
   },
   "source": [
    "¡Bienvenidos de nuevo Hackers !. \n",
    "\n",
    "Veamos que son las tuplas (tuples). \n",
    "\n",
    "Las tuplas son secuencias ordenadas como una lista, pero tienen una diferencia importante: son **inmutables**. Lo que significa que no puede *mutar* o *cambiar*. Entonces, en la práctica, ¿qué significa esto realmente? Significa que no puede reasignar un elemento una vez que está en la tupla, a diferencia de una lista, donde si puede hacer una reasignación.\n",
    "\n",
    "Las tuplas son un tipo de datos fundamental que verás bastante a medida que aprenda más en su camino a convertirte en un programados avanzado.\n",
    "\n",
    "Veamos esto en acción:\n",
    "\n",
    "## <font color='blue'>**Creando una tupla**</font>\n",
    "\n",
    "Usas paréntesis y comas para tuplas:"
   ]
  },
  {
   "cell_type": "code",
   "execution_count": 1,
   "metadata": {
    "executionInfo": {
     "elapsed": 15,
     "status": "ok",
     "timestamp": 1638493690851,
     "user": {
      "displayName": "Maria Julliette Marin Alarcon",
      "photoUrl": "https://lh3.googleusercontent.com/a/default-user=s64",
      "userId": "14948341870893292997"
     },
     "user_tz": 240
    },
    "id": "T3aJnOOjNQf7"
   },
   "outputs": [],
   "source": [
    "t = (1, 2, 3)"
   ]
  },
  {
   "cell_type": "code",
   "execution_count": 2,
   "metadata": {
    "colab": {
     "base_uri": "https://localhost:8080/"
    },
    "executionInfo": {
     "elapsed": 6,
     "status": "ok",
     "timestamp": 1637922017846,
     "user": {
      "displayName": "Maria Julliette Marin Alarcon",
      "photoUrl": "https://lh3.googleusercontent.com/a/default-user=s64",
      "userId": "14948341870893292997"
     },
     "user_tz": 240
    },
    "id": "mDUzkMYCNQgF",
    "outputId": "58c7255e-eadb-4494-ba31-000b371cacaa"
   },
   "outputs": [
    {
     "data": {
      "text/plain": [
       "tuple"
      ]
     },
     "execution_count": 2,
     "metadata": {},
     "output_type": "execute_result"
    }
   ],
   "source": [
    "type(t)"
   ]
  },
  {
   "cell_type": "code",
   "execution_count": 3,
   "metadata": {
    "id": "RqQQZeuPNQgG"
   },
   "outputs": [],
   "source": [
    "# Se pueden combinar distintos tipos de datos\n",
    "t2 = ('a', 1)"
   ]
  },
  {
   "cell_type": "code",
   "execution_count": 4,
   "metadata": {
    "colab": {
     "base_uri": "https://localhost:8080/"
    },
    "executionInfo": {
     "elapsed": 853,
     "status": "ok",
     "timestamp": 1637922023798,
     "user": {
      "displayName": "Maria Julliette Marin Alarcon",
      "photoUrl": "https://lh3.googleusercontent.com/a/default-user=s64",
      "userId": "14948341870893292997"
     },
     "user_tz": 240
    },
    "id": "FvOJM0O_NQgH",
    "outputId": "10d2959c-ec29-4c0a-932f-33e919cf8927"
   },
   "outputs": [
    {
     "data": {
      "text/plain": [
       "1"
      ]
     },
     "execution_count": 4,
     "metadata": {},
     "output_type": "execute_result"
    }
   ],
   "source": [
    "# El indexing funciona tal cual en las listas\n",
    "t[0]"
   ]
  },
  {
   "cell_type": "markdown",
   "metadata": {
    "id": "LQPUmeBbNQgL"
   },
   "source": [
    "## <font color='green'>Actividad 1:</font> \n",
    "### Extrae un elemento de la tupla usando *indexing*\n",
    "Obtén el 3er elemento de la tupla *t*\n",
    "\n",
    "Tip: \n",
    "1. Usa el indexer \\[\\]\n",
    "2. Recuerda que los índices comienzan en 0 en Python"
   ]
  },
  {
   "cell_type": "code",
   "execution_count": 5,
   "metadata": {
    "colab": {
     "base_uri": "https://localhost:8080/"
    },
    "executionInfo": {
     "elapsed": 273,
     "status": "ok",
     "timestamp": 1638493719404,
     "user": {
      "displayName": "Maria Julliette Marin Alarcon",
      "photoUrl": "https://lh3.googleusercontent.com/a/default-user=s64",
      "userId": "14948341870893292997"
     },
     "user_tz": 240
    },
    "id": "g7gbiwbYNQgO",
    "outputId": "2f36aeb4-8e6b-4dc3-e512-b8e41bebf36c"
   },
   "outputs": [
    {
     "data": {
      "text/plain": [
       "3"
      ]
     },
     "execution_count": 5,
     "metadata": {},
     "output_type": "execute_result"
    }
   ],
   "source": [
    "# Tu código aquí ...\n",
    "# Extraer el tercer elemento de la tupla 't'\n",
    "t[2]"
   ]
  },
  {
   "cell_type": "markdown",
   "metadata": {
    "id": "ygh6tD3WNQgQ"
   },
   "source": [
    "<font color='green'>**Fin actividad 1**</font>"
   ]
  },
  {
   "cell_type": "markdown",
   "metadata": {
    "id": "SAIGMEksNQgS"
   },
   "source": [
    "## <font color='blue'>**Inmutabilidad**</font>\n",
    "Las tuplas son inmutables, es decir, una vez creadas no pueden ser modificadas"
   ]
  },
  {
   "cell_type": "code",
   "execution_count": 6,
   "metadata": {
    "id": "Xns-UkUuNQgT"
   },
   "outputs": [],
   "source": [
    "# Recuerda que las listas son mutables, las puedes cambiar\n",
    "\n",
    "mylist = [1, 2, 3]"
   ]
  },
  {
   "cell_type": "code",
   "execution_count": 7,
   "metadata": {
    "colab": {
     "base_uri": "https://localhost:8080/"
    },
    "executionInfo": {
     "elapsed": 258,
     "status": "ok",
     "timestamp": 1637922076987,
     "user": {
      "displayName": "Maria Julliette Marin Alarcon",
      "photoUrl": "https://lh3.googleusercontent.com/a/default-user=s64",
      "userId": "14948341870893292997"
     },
     "user_tz": 240
    },
    "id": "KsIEYRp7NQgU",
    "outputId": "ccfea7a8-5508-4eca-b10c-6bcad0a4a83f"
   },
   "outputs": [
    {
     "data": {
      "text/plain": [
       "list"
      ]
     },
     "execution_count": 7,
     "metadata": {},
     "output_type": "execute_result"
    }
   ],
   "source": [
    "type(mylist)"
   ]
  },
  {
   "cell_type": "code",
   "execution_count": 8,
   "metadata": {
    "id": "OVOkw1MRNQgW"
   },
   "outputs": [],
   "source": [
    "# Cambiemos el primer elemento en la lista\n",
    "# No hay problemas con esto en una lista!!\n",
    "\n",
    "mylist[0] = 'new'"
   ]
  },
  {
   "cell_type": "code",
   "execution_count": 9,
   "metadata": {
    "colab": {
     "base_uri": "https://localhost:8080/"
    },
    "executionInfo": {
     "elapsed": 261,
     "status": "ok",
     "timestamp": 1637922082700,
     "user": {
      "displayName": "Maria Julliette Marin Alarcon",
      "photoUrl": "https://lh3.googleusercontent.com/a/default-user=s64",
      "userId": "14948341870893292997"
     },
     "user_tz": 240
    },
    "id": "Z-NpSiC3NQgZ",
    "outputId": "82973651-c833-48cd-fea3-646d90009c4f"
   },
   "outputs": [
    {
     "data": {
      "text/plain": [
       "['new', 2, 3]"
      ]
     },
     "execution_count": 9,
     "metadata": {},
     "output_type": "execute_result"
    }
   ],
   "source": [
    "mylist"
   ]
  },
  {
   "cell_type": "code",
   "execution_count": 10,
   "metadata": {
    "id": "r6YHvTegNQga"
   },
   "outputs": [],
   "source": [
    "# Veamos que pasa con una tupla\n",
    "\n",
    "my_tuple = (1, 2, 3)"
   ]
  },
  {
   "cell_type": "code",
   "execution_count": 11,
   "metadata": {
    "colab": {
     "base_uri": "https://localhost:8080/",
     "height": 200
    },
    "executionInfo": {
     "elapsed": 247,
     "status": "error",
     "timestamp": 1637922088594,
     "user": {
      "displayName": "Maria Julliette Marin Alarcon",
      "photoUrl": "https://lh3.googleusercontent.com/a/default-user=s64",
      "userId": "14948341870893292997"
     },
     "user_tz": 240
    },
    "id": "E5frNUrgNQgb",
    "outputId": "3122eee0-2bca-42a4-ca9d-018b58d2760b"
   },
   "outputs": [
    {
     "ename": "TypeError",
     "evalue": "'tuple' object does not support item assignment",
     "output_type": "error",
     "traceback": [
      "\u001b[1;31m---------------------------------------------------------------------------\u001b[0m",
      "\u001b[1;31mTypeError\u001b[0m                                 Traceback (most recent call last)",
      "Input \u001b[1;32mIn [11]\u001b[0m, in \u001b[0;36m<cell line: 5>\u001b[1;34m()\u001b[0m\n\u001b[0;32m      1\u001b[0m \u001b[38;5;66;03m# Creamos la tupla my_tuple con tres elementos\u001b[39;00m\n\u001b[0;32m      2\u001b[0m \u001b[38;5;66;03m# Intentemos cambiar uno de ellos\u001b[39;00m\n\u001b[0;32m      3\u001b[0m \u001b[38;5;66;03m# Nos dará un error\u001b[39;00m\n\u001b[1;32m----> 5\u001b[0m my_tuple[\u001b[38;5;241m0\u001b[39m] \u001b[38;5;241m=\u001b[39m \u001b[38;5;124m'\u001b[39m\u001b[38;5;124mnew\u001b[39m\u001b[38;5;124m'\u001b[39m\n",
      "\u001b[1;31mTypeError\u001b[0m: 'tuple' object does not support item assignment"
     ]
    }
   ],
   "source": [
    "# Creamos la tupla my_tuple con tres elementos\n",
    "# Intentemos cambiar uno de ellos\n",
    "# Nos dará un error\n",
    "\n",
    "my_tuple[0] = 'new'"
   ]
  },
  {
   "cell_type": "markdown",
   "metadata": {
    "id": "o-bbN6TBNQgc"
   },
   "source": [
    "Tampoco puedes añadir o eliminar elementos a una tupla ya creada!!"
   ]
  },
  {
   "cell_type": "code",
   "execution_count": 12,
   "metadata": {
    "colab": {
     "base_uri": "https://localhost:8080/",
     "height": 200
    },
    "executionInfo": {
     "elapsed": 251,
     "status": "error",
     "timestamp": 1637922092581,
     "user": {
      "displayName": "Maria Julliette Marin Alarcon",
      "photoUrl": "https://lh3.googleusercontent.com/a/default-user=s64",
      "userId": "14948341870893292997"
     },
     "user_tz": 240
    },
    "id": "2cVv6t5wNQgd",
    "outputId": "6fca42f4-53c3-4e44-a0c6-a7ebec675857"
   },
   "outputs": [
    {
     "ename": "AttributeError",
     "evalue": "'tuple' object has no attribute 'append'",
     "output_type": "error",
     "traceback": [
      "\u001b[1;31m---------------------------------------------------------------------------\u001b[0m",
      "\u001b[1;31mAttributeError\u001b[0m                            Traceback (most recent call last)",
      "Input \u001b[1;32mIn [12]\u001b[0m, in \u001b[0;36m<cell line: 3>\u001b[1;34m()\u001b[0m\n\u001b[0;32m      1\u001b[0m \u001b[38;5;66;03m# Otro error\u001b[39;00m\n\u001b[1;32m----> 3\u001b[0m \u001b[43mmy_tuple\u001b[49m\u001b[38;5;241;43m.\u001b[39;49m\u001b[43mappend\u001b[49m(\u001b[38;5;124m'\u001b[39m\u001b[38;5;124mNOPE!\u001b[39m\u001b[38;5;124m'\u001b[39m)\n",
      "\u001b[1;31mAttributeError\u001b[0m: 'tuple' object has no attribute 'append'"
     ]
    }
   ],
   "source": [
    "# Otro error\n",
    "\n",
    "my_tuple.append('NOPE!')"
   ]
  },
  {
   "cell_type": "markdown",
   "metadata": {
    "id": "wNkn2QNjNQge"
   },
   "source": [
    "## <font color='blue'>**Métodos de las tuplas**</font>\n",
    "\n",
    "Las tuplas tienen un par de métodos disponibles: **index()** y **count()**"
   ]
  },
  {
   "cell_type": "code",
   "execution_count": 13,
   "metadata": {
    "executionInfo": {
     "elapsed": 436,
     "status": "ok",
     "timestamp": 1638493734219,
     "user": {
      "displayName": "Maria Julliette Marin Alarcon",
      "photoUrl": "https://lh3.googleusercontent.com/a/default-user=s64",
      "userId": "14948341870893292997"
     },
     "user_tz": 240
    },
    "id": "L8MGBlXoNQge"
   },
   "outputs": [],
   "source": [
    "t3 = ('a', 'b', 'c', 'a', 'c', 'e', 'a', 'b')"
   ]
  },
  {
   "cell_type": "code",
   "execution_count": 14,
   "metadata": {
    "colab": {
     "base_uri": "https://localhost:8080/"
    },
    "executionInfo": {
     "elapsed": 291,
     "status": "ok",
     "timestamp": 1637922115222,
     "user": {
      "displayName": "Maria Julliette Marin Alarcon",
      "photoUrl": "https://lh3.googleusercontent.com/a/default-user=s64",
      "userId": "14948341870893292997"
     },
     "user_tz": 240
    },
    "id": "rD2D28-3NQgf",
    "outputId": "13269f71-d6f2-4054-ebe3-954f3b79775e"
   },
   "outputs": [
    {
     "data": {
      "text/plain": [
       "1"
      ]
     },
     "execution_count": 14,
     "metadata": {},
     "output_type": "execute_result"
    }
   ],
   "source": [
    "# index() retorna la primera instancia que encuentra\n",
    "# NOTA: hay dons instancias de 'b', peor index() devolverá sólo el primero\n",
    "\n",
    "t3.index('b')"
   ]
  },
  {
   "cell_type": "code",
   "execution_count": 15,
   "metadata": {
    "colab": {
     "base_uri": "https://localhost:8080/"
    },
    "executionInfo": {
     "elapsed": 259,
     "status": "ok",
     "timestamp": 1637922120246,
     "user": {
      "displayName": "Maria Julliette Marin Alarcon",
      "photoUrl": "https://lh3.googleusercontent.com/a/default-user=s64",
      "userId": "14948341870893292997"
     },
     "user_tz": 240
    },
    "id": "CjoaUekLNQgg",
    "outputId": "16209875-0391-4415-e881-b24af84b1e35"
   },
   "outputs": [
    {
     "data": {
      "text/plain": [
       "3"
      ]
     },
     "execution_count": 15,
     "metadata": {},
     "output_type": "execute_result"
    }
   ],
   "source": [
    "t3.count('a')"
   ]
  },
  {
   "cell_type": "markdown",
   "metadata": {
    "id": "7GoOZuDpNQgg"
   },
   "source": [
    "## <font color='green'>Actividad 2:</font> \n",
    "### Extrae el índice de un elemento de la tupla\n",
    "Obtén el índice del elemento 'c' de la tupla *t3*\n",
    "\n",
    "Tip: \n",
    "1. Usa el método index()"
   ]
  },
  {
   "cell_type": "code",
   "execution_count": 16,
   "metadata": {
    "colab": {
     "base_uri": "https://localhost:8080/"
    },
    "executionInfo": {
     "elapsed": 352,
     "status": "ok",
     "timestamp": 1638493766112,
     "user": {
      "displayName": "Maria Julliette Marin Alarcon",
      "photoUrl": "https://lh3.googleusercontent.com/a/default-user=s64",
      "userId": "14948341870893292997"
     },
     "user_tz": 240
    },
    "id": "bcK00ozhNQgh",
    "outputId": "da9d525c-9a36-46a9-9f5a-41732122358a"
   },
   "outputs": [
    {
     "data": {
      "text/plain": [
       "2"
      ]
     },
     "execution_count": 16,
     "metadata": {},
     "output_type": "execute_result"
    }
   ],
   "source": [
    "# Tu código aquí ...\n",
    "# Extrae el índice del elemento 'c' de la tupla 't3'\n",
    "t3.index('c')"
   ]
  },
  {
   "cell_type": "markdown",
   "metadata": {
    "id": "Le9rdUTSNQgi"
   },
   "source": [
    "<font color='green'>Fin actividad 2</font>"
   ]
  },
  {
   "cell_type": "markdown",
   "metadata": {
    "id": "3rePEQlnNQgi"
   },
   "source": [
    "## <font color='green'>Actividad 3:</font> \n",
    "### Cuenta los elementos en la tupla *t*\n",
    "Obtén el número de veces que el elemento 'b' aparece en la tupla *t3*\n",
    "\n",
    "Tip: \n",
    "1. Usa el método count()"
   ]
  },
  {
   "cell_type": "code",
   "execution_count": 17,
   "metadata": {
    "colab": {
     "base_uri": "https://localhost:8080/"
    },
    "executionInfo": {
     "elapsed": 283,
     "status": "ok",
     "timestamp": 1638493811719,
     "user": {
      "displayName": "Maria Julliette Marin Alarcon",
      "photoUrl": "https://lh3.googleusercontent.com/a/default-user=s64",
      "userId": "14948341870893292997"
     },
     "user_tz": 240
    },
    "id": "bNzfeVBkNQgj",
    "outputId": "bf0e0889-5f14-48da-f3d3-7cc708afe8e8"
   },
   "outputs": [
    {
     "data": {
      "text/plain": [
       "2"
      ]
     },
     "execution_count": 17,
     "metadata": {},
     "output_type": "execute_result"
    }
   ],
   "source": [
    "# Tu código aquí ...\n",
    "# Contar el número de veces que el elemento 'b' aparece en la tupla 't3'\n",
    "t3.count('b')"
   ]
  },
  {
   "cell_type": "markdown",
   "metadata": {
    "id": "DEI28uGuNQgk"
   },
   "source": [
    "<font color='green'>Fin actividad 3</font>"
   ]
  },
  {
   "cell_type": "markdown",
   "metadata": {
    "id": "qCzd4wBPNQgk"
   },
   "source": [
    "## <font color='green'>Actividad 4:</font> \n",
    "### Crea tu propia tupla \n",
    "* Crea una tupla con el nombre de algún hito geográfico. <br>\n",
    "* Busca en internet sus coordenadas; e.g. *lat lon Rapa Nui*\n",
    "* Asígnale los dos elementos (latitud y longitud)\n",
    "* Imprime una frase utilizando la tupla creada y f-Strigns\n",
    "\n",
    "Tip: \n",
    "1. Recuerda usar paréntesis curvos para crear la tupla"
   ]
  },
  {
   "cell_type": "code",
   "execution_count": 18,
   "metadata": {
    "colab": {
     "base_uri": "https://localhost:8080/"
    },
    "executionInfo": {
     "elapsed": 290,
     "status": "ok",
     "timestamp": 1638493895661,
     "user": {
      "displayName": "Maria Julliette Marin Alarcon",
      "photoUrl": "https://lh3.googleusercontent.com/a/default-user=s64",
      "userId": "14948341870893292997"
     },
     "user_tz": 240
    },
    "id": "rEgEotX-NQgp",
    "outputId": "4c7fdc92-26be-4e7d-d38c-cfe611bb9bcf"
   },
   "outputs": [
    {
     "name": "stdout",
     "output_type": "stream",
     "text": [
      "Las coordenadas geográficas de Antártoca son latitud -75 longitud -71.5\n"
     ]
    }
   ],
   "source": [
    "# Tu código aquí ...\n",
    "# Creación de tupla de coordenadas de la Antártica y asignación de valores de latitud y longitud\n",
    "lat_lon_Antartica=(-75, -71.5)\n",
    "# Impresión de una frase utilizando la tupla y f-Strings\n",
    "print('Las coordenadas geográficas de Antártoca son ' f\"latitud {lat_lon_Antartica[0]} longitud {lat_lon_Antartica[1]}\")\n",
    "\n",
    "\n"
   ]
  },
  {
   "cell_type": "markdown",
   "metadata": {
    "id": "iu_1g_8HNQgq"
   },
   "source": [
    "<font color='green'>Fin actividad 4</font>"
   ]
  },
  {
   "cell_type": "markdown",
   "metadata": {
    "id": "1FDtHkHyNQgr"
   },
   "source": [
    "## <font color='blue'>**Atención con la inmutabilidad**</font>\n",
    "\n",
    "La tupla es una colección inmutable de elementos ... no necesariamente inmutables !!!"
   ]
  },
  {
   "cell_type": "code",
   "execution_count": 19,
   "metadata": {
    "id": "bfDcG2GANQgr"
   },
   "outputs": [],
   "source": [
    "# La tupla t4 tiene 3 elementos\n",
    "\n",
    "t4 = (1, 2, [3, 4])"
   ]
  },
  {
   "cell_type": "code",
   "execution_count": 20,
   "metadata": {
    "colab": {
     "base_uri": "https://localhost:8080/"
    },
    "executionInfo": {
     "elapsed": 5,
     "status": "ok",
     "timestamp": 1637922528954,
     "user": {
      "displayName": "Maria Julliette Marin Alarcon",
      "photoUrl": "https://lh3.googleusercontent.com/a/default-user=s64",
      "userId": "14948341870893292997"
     },
     "user_tz": 240
    },
    "id": "TheyqnkfNQgs",
    "outputId": "0a0c1628-e9fb-47ba-c18c-419cd8631b12"
   },
   "outputs": [
    {
     "data": {
      "text/plain": [
       "[3, 4]"
      ]
     },
     "execution_count": 20,
     "metadata": {},
     "output_type": "execute_result"
    }
   ],
   "source": [
    "# La tupla (inmutable) tiene una lista (mutable) en su interior\n",
    "\n",
    "t4[2]"
   ]
  },
  {
   "cell_type": "code",
   "execution_count": 21,
   "metadata": {
    "colab": {
     "base_uri": "https://localhost:8080/"
    },
    "executionInfo": {
     "elapsed": 243,
     "status": "ok",
     "timestamp": 1637922531535,
     "user": {
      "displayName": "Maria Julliette Marin Alarcon",
      "photoUrl": "https://lh3.googleusercontent.com/a/default-user=s64",
      "userId": "14948341870893292997"
     },
     "user_tz": 240
    },
    "id": "UdJ4EuyVNQgs",
    "outputId": "ace3e327-1449-4e84-f763-2e9581f79b77"
   },
   "outputs": [
    {
     "name": "stdout",
     "output_type": "stream",
     "text": [
      "<class 'tuple'>\n",
      "<class 'list'>\n"
     ]
    }
   ],
   "source": [
    "print(type(t4))\n",
    "print(type(t4[2]))"
   ]
  },
  {
   "cell_type": "code",
   "execution_count": 22,
   "metadata": {
    "id": "bOiEYGTbNQgt"
   },
   "outputs": [],
   "source": [
    "# Intentemos modificar la lista que esta en la posición 2 dentro de la tupla\n",
    "\n",
    "t4[2].append(5)"
   ]
  },
  {
   "cell_type": "code",
   "execution_count": 23,
   "metadata": {
    "colab": {
     "base_uri": "https://localhost:8080/"
    },
    "executionInfo": {
     "elapsed": 227,
     "status": "ok",
     "timestamp": 1637922543074,
     "user": {
      "displayName": "Maria Julliette Marin Alarcon",
      "photoUrl": "https://lh3.googleusercontent.com/a/default-user=s64",
      "userId": "14948341870893292997"
     },
     "user_tz": 240
    },
    "id": "EjOiOeoKNQgt",
    "outputId": "9e8449e0-500b-4201-cdb3-cbb50df7ddc2"
   },
   "outputs": [
    {
     "data": {
      "text/plain": [
       "(1, 2, [3, 4, 5])"
      ]
     },
     "execution_count": 23,
     "metadata": {},
     "output_type": "execute_result"
    }
   ],
   "source": [
    "t4"
   ]
  },
  {
   "cell_type": "markdown",
   "metadata": {
    "id": "3yqP6ugVNQgu",
    "tags": []
   },
   "source": [
    "## <font color='blue'>**¿Por qué usar tuplas?**</font>\n",
    "\n",
    "Las listas y tuplas son muy similares, por lo que es posible intercambiar casos de uso por cualquiera de ellas. Sin embargo, debes usar una tupla para colecciones o secuencias que no deben cambiarse, como las fechas del año asociadas a eventos que ocurrieron, o información de objetos que no debieran sufrir cambios (latitud y longitud), etc.\n",
    "\n",
    "Por lo tanto, cada vez que NO desees que sus datos cambien ... usa tuplas.\n",
    "\n",
    "Excelente. ¡Continuemos!"
   ]
  }
 ],
 "metadata": {
  "colab": {
   "name": "FP07-Python_Tuples - ok.ipynb",
   "provenance": []
  },
  "kernelspec": {
   "display_name": "Python 3 (ipykernel)",
   "language": "python",
   "name": "python3"
  },
  "language_info": {
   "codemirror_mode": {
    "name": "ipython",
    "version": 3
   },
   "file_extension": ".py",
   "mimetype": "text/x-python",
   "name": "python",
   "nbconvert_exporter": "python",
   "pygments_lexer": "ipython3",
   "version": "3.10.5"
  }
 },
 "nbformat": 4,
 "nbformat_minor": 1
}
