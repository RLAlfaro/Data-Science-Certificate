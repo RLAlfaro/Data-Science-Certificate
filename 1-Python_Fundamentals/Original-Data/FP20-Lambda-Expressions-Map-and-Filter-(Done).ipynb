{
 "cells": [
  {
   "cell_type": "markdown",
   "metadata": {
    "id": "ZfpkIAzVmSn1"
   },
   "source": [
    "# **Introducción a Python**\n",
    "# FP20. Expresiones Lambda, Map y Filter"
   ]
  },
  {
   "cell_type": "markdown",
   "metadata": {
    "id": "94C1uimkmSoN"
   },
   "source": [
    "Ahora es el momento de aprender sobre dos funciones integradas, **filter** y **map**. Una vez que aprendamos cómo funcionan, podemos aprender sobre la expresión **lambda**, que será útil cuando comiences a desarrollar más tus habilidades."
   ]
  },
  {
   "cell_type": "markdown",
   "metadata": {
    "id": "R69wkOCjmSoQ"
   },
   "source": [
    "## <font color='blue'>**Función map**</font>\n",
    "La función **map( )** te permite \"asignar\" una función a un objeto iterable (e.g. un string o una lista). Es decir, puedes llamar rápidamente a la misma función para todos los elementos que constituyen el objeto iterable.<br>\n",
    "Veamos un ejemplo:"
   ]
  },
  {
   "cell_type": "code",
   "execution_count": 1,
   "metadata": {
    "id": "8hdnFv6zmSoT"
   },
   "outputs": [],
   "source": [
    "# Definimos una función\n",
    "def square(num):\n",
    "    return num ** 2"
   ]
  },
  {
   "cell_type": "code",
   "execution_count": 2,
   "metadata": {
    "id": "hfQcs4TZmSoa"
   },
   "outputs": [],
   "source": [
    "# Y ahora una lista\n",
    "my_nums = [1, 2, 3, 4, 5]"
   ]
  },
  {
   "cell_type": "markdown",
   "metadata": {
    "id": "uOLdUnjsmSoc"
   },
   "source": [
    "Aplicamos **map** a la función y la lista (iterable)"
   ]
  },
  {
   "cell_type": "code",
   "execution_count": 3,
   "metadata": {
    "colab": {
     "base_uri": "https://localhost:8080/"
    },
    "executionInfo": {
     "elapsed": 326,
     "status": "ok",
     "timestamp": 1638540444706,
     "user": {
      "displayName": "Maria Julliette Marin Alarcon",
      "photoUrl": "https://lh3.googleusercontent.com/a/default-user=s64",
      "userId": "14948341870893292997"
     },
     "user_tz": 240
    },
    "id": "OyS9l1qSmSoe",
    "outputId": "b30c8b60-304f-4d60-fa8b-44bbc40249f3"
   },
   "outputs": [
    {
     "data": {
      "text/plain": [
       "<map at 0x1fcfb2f1540>"
      ]
     },
     "execution_count": 3,
     "metadata": {},
     "output_type": "execute_result"
    }
   ],
   "source": [
    "map(square, my_nums)"
   ]
  },
  {
   "cell_type": "markdown",
   "metadata": {
    "id": "WWbL2rv1mSoh"
   },
   "source": [
    "No nos devuelve nada porque es un iterable. Hay que iterar sobre él, o desempaquetarlo o convertirlo en otro objeto (lista)."
   ]
  },
  {
   "cell_type": "code",
   "execution_count": 4,
   "metadata": {
    "colab": {
     "base_uri": "https://localhost:8080/"
    },
    "executionInfo": {
     "elapsed": 328,
     "status": "ok",
     "timestamp": 1638540458056,
     "user": {
      "displayName": "Maria Julliette Marin Alarcon",
      "photoUrl": "https://lh3.googleusercontent.com/a/default-user=s64",
      "userId": "14948341870893292997"
     },
     "user_tz": 240
    },
    "id": "Ufry28JLmSok",
    "outputId": "6e39db9d-456e-40b8-b640-160f7e748267"
   },
   "outputs": [
    {
     "name": "stdout",
     "output_type": "stream",
     "text": [
      "1 4 9 16 25 "
     ]
    }
   ],
   "source": [
    "# Iteramos sobre el objeto map\n",
    "for i in map(square, my_nums):\n",
    "    print(i, end=' ')"
   ]
  },
  {
   "cell_type": "code",
   "execution_count": 5,
   "metadata": {
    "colab": {
     "base_uri": "https://localhost:8080/"
    },
    "executionInfo": {
     "elapsed": 305,
     "status": "ok",
     "timestamp": 1638540501208,
     "user": {
      "displayName": "Maria Julliette Marin Alarcon",
      "photoUrl": "https://lh3.googleusercontent.com/a/default-user=s64",
      "userId": "14948341870893292997"
     },
     "user_tz": 240
    },
    "id": "QsDN8V7kmSoq",
    "outputId": "7495d374-7609-47bd-f973-157a5e6d520a"
   },
   "outputs": [
    {
     "name": "stdout",
     "output_type": "stream",
     "text": [
      "1 4 9 16 25\n"
     ]
    }
   ],
   "source": [
    "# Lo desempaquetamos dentro de un print()\n",
    "print(*map(square, my_nums))"
   ]
  },
  {
   "cell_type": "code",
   "execution_count": 6,
   "metadata": {
    "colab": {
     "base_uri": "https://localhost:8080/"
    },
    "executionInfo": {
     "elapsed": 312,
     "status": "ok",
     "timestamp": 1638540519989,
     "user": {
      "displayName": "Maria Julliette Marin Alarcon",
      "photoUrl": "https://lh3.googleusercontent.com/a/default-user=s64",
      "userId": "14948341870893292997"
     },
     "user_tz": 240
    },
    "id": "bakyiVFXmSot",
    "outputId": "42121c90-c4f2-4bcc-8e34-1a5c6716e6ca"
   },
   "outputs": [
    {
     "data": {
      "text/plain": [
       "[1, 4, 9, 16, 25]"
      ]
     },
     "execution_count": 6,
     "metadata": {},
     "output_type": "execute_result"
    }
   ],
   "source": [
    "# O simplemente lo ponermos como argumento de la función list\n",
    "list(map(square, my_nums))"
   ]
  },
  {
   "cell_type": "markdown",
   "metadata": {
    "id": "nc0gsI-_mSou"
   },
   "source": [
    "Las funciones pueden ser mucho más complejas"
   ]
  },
  {
   "cell_type": "code",
   "execution_count": 7,
   "metadata": {
    "id": "e3bwBThCmSow"
   },
   "outputs": [],
   "source": [
    "def splicer(mystring):\n",
    "    if len(mystring) % 2 == 0:\n",
    "        return 'es par'\n",
    "    else:\n",
    "        return 'es impar' # "
   ]
  },
  {
   "cell_type": "code",
   "execution_count": 8,
   "metadata": {
    "id": "k2c0h-qWmSox"
   },
   "outputs": [],
   "source": [
    "mynames = ['Juan', 'Andrea', 'Julia', 'Beto', 'Zoe']"
   ]
  },
  {
   "cell_type": "code",
   "execution_count": 9,
   "metadata": {
    "colab": {
     "base_uri": "https://localhost:8080/"
    },
    "executionInfo": {
     "elapsed": 353,
     "status": "ok",
     "timestamp": 1638540692900,
     "user": {
      "displayName": "Maria Julliette Marin Alarcon",
      "photoUrl": "https://lh3.googleusercontent.com/a/default-user=s64",
      "userId": "14948341870893292997"
     },
     "user_tz": 240
    },
    "id": "HSXCgOD2mSoz",
    "outputId": "b30fe5f3-c9b1-43e3-904f-0dd49f549883"
   },
   "outputs": [
    {
     "data": {
      "text/plain": [
       "['es par', 'es par', 'es impar', 'es par', 'es impar']"
      ]
     },
     "execution_count": 9,
     "metadata": {},
     "output_type": "execute_result"
    }
   ],
   "source": [
    "list(map(splicer,mynames))"
   ]
  },
  {
   "cell_type": "markdown",
   "metadata": {
    "id": "wIYDplfomSo0"
   },
   "source": [
    "## <font color='blue'>**Función filter**</font>\n",
    "\n",
    "La función **filter( )** devuelve un iterador donde los elementos se filtran a través de una función para probar si el elemento es aceptado o no, i.e., que cumpla con una confición o no. Esto qué significa? Que debe filtrar por una función que devuelva **True** o **False**. "
   ]
  },
  {
   "cell_type": "code",
   "execution_count": 10,
   "metadata": {
    "id": "WV_jZ3JImSo1"
   },
   "outputs": [],
   "source": [
    "def check_even(num):\n",
    "    \"\"\"\n",
    "    Esta función chequea si el número ingresado es par o impar\n",
    "    Devuelve True o False\n",
    "    \"\"\"\n",
    "    return num % 2 == 0 "
   ]
  },
  {
   "cell_type": "code",
   "execution_count": 11,
   "metadata": {
    "colab": {
     "base_uri": "https://localhost:8080/"
    },
    "executionInfo": {
     "elapsed": 654,
     "status": "ok",
     "timestamp": 1638540802995,
     "user": {
      "displayName": "Maria Julliette Marin Alarcon",
      "photoUrl": "https://lh3.googleusercontent.com/a/default-user=s64",
      "userId": "14948341870893292997"
     },
     "user_tz": 240
    },
    "id": "RpEBnueOmSo4",
    "outputId": "7e6783bc-462f-4b68-b29c-f24aac2eb8e5"
   },
   "outputs": [
    {
     "data": {
      "text/plain": [
       "False"
      ]
     },
     "execution_count": 11,
     "metadata": {},
     "output_type": "execute_result"
    }
   ],
   "source": [
    "check_even(3)"
   ]
  },
  {
   "cell_type": "code",
   "execution_count": 12,
   "metadata": {
    "colab": {
     "base_uri": "https://localhost:8080/"
    },
    "executionInfo": {
     "elapsed": 527,
     "status": "ok",
     "timestamp": 1638540806195,
     "user": {
      "displayName": "Maria Julliette Marin Alarcon",
      "photoUrl": "https://lh3.googleusercontent.com/a/default-user=s64",
      "userId": "14948341870893292997"
     },
     "user_tz": 240
    },
    "id": "Gvd9SebwmSo5",
    "outputId": "13d58aca-b0c2-4946-a770-e1324bcfe169"
   },
   "outputs": [
    {
     "data": {
      "text/plain": [
       "True"
      ]
     },
     "execution_count": 12,
     "metadata": {},
     "output_type": "execute_result"
    }
   ],
   "source": [
    "check_even(8)"
   ]
  },
  {
   "cell_type": "code",
   "execution_count": 13,
   "metadata": {
    "id": "0PMeBmc6mSo7"
   },
   "outputs": [],
   "source": [
    "nums = [0, 1, 2, 3, 4, 5, 6, 7, 8, 9, 10]"
   ]
  },
  {
   "cell_type": "markdown",
   "metadata": {
    "id": "FrWwTqsrmSo8"
   },
   "source": [
    "Apliquémosla a una lista con una función **filter( )**"
   ]
  },
  {
   "cell_type": "code",
   "execution_count": 14,
   "metadata": {
    "colab": {
     "base_uri": "https://localhost:8080/"
    },
    "executionInfo": {
     "elapsed": 608,
     "status": "ok",
     "timestamp": 1638540812271,
     "user": {
      "displayName": "Maria Julliette Marin Alarcon",
      "photoUrl": "https://lh3.googleusercontent.com/a/default-user=s64",
      "userId": "14948341870893292997"
     },
     "user_tz": 240
    },
    "id": "Vi_QoBzHmSo9",
    "outputId": "c5633f57-9ede-4459-f4fc-04dcef62981d"
   },
   "outputs": [
    {
     "data": {
      "text/plain": [
       "<filter at 0x1fcfb2d7400>"
      ]
     },
     "execution_count": 14,
     "metadata": {},
     "output_type": "execute_result"
    }
   ],
   "source": [
    "filter(check_even, nums)"
   ]
  },
  {
   "cell_type": "markdown",
   "metadata": {
    "id": "B5dIQ_rumSo-"
   },
   "source": [
    "Nuevamente nos devuelve un iterador"
   ]
  },
  {
   "cell_type": "code",
   "execution_count": 15,
   "metadata": {
    "colab": {
     "base_uri": "https://localhost:8080/"
    },
    "executionInfo": {
     "elapsed": 293,
     "status": "ok",
     "timestamp": 1638540843743,
     "user": {
      "displayName": "Maria Julliette Marin Alarcon",
      "photoUrl": "https://lh3.googleusercontent.com/a/default-user=s64",
      "userId": "14948341870893292997"
     },
     "user_tz": 240
    },
    "id": "xBt1TXz5mSo_",
    "outputId": "80f1b88b-d88e-4194-fd0e-ed8ae54fba7c"
   },
   "outputs": [
    {
     "name": "stdout",
     "output_type": "stream",
     "text": [
      "0 2 4 6 8 10\n"
     ]
    }
   ],
   "source": [
    "even = filter(check_even, nums)\n",
    "print(*even)"
   ]
  },
  {
   "cell_type": "markdown",
   "metadata": {
    "id": "ymsXFgQamSpA"
   },
   "source": [
    "## <font color='blue'>**Generators (generadores)**</font>\n",
    "\n",
    "Los generadores (**generators**) fueron introducidos en el [PEP255](https://www.python.org/dev/peps/pep-0255/). Son funciones especiales que retornan un iterador de tipo *lazzy*. Una **evaluación lazzy** es aquella que retrasa la evaluación de una expresión hasta el momento preciso en que se necesita su valor (evaluación no estricta) y no inmediatamemte cuando aparece en nuestro código.\n",
    "\n",
    "Como resultado de la generación *lazzy* (bajo demanda) de valores, se produce una mejora del rendimiento y un menor uso de memoria. Además, no necesitamos esperar hasta que se hayan generado todos los elementos antes de empezar a utilizarlos. Esto es similar a los beneficios proporcionados por los iteradores."
   ]
  },
  {
   "cell_type": "code",
   "execution_count": 16,
   "metadata": {
    "id": "cGfh1-VnmSpB"
   },
   "outputs": [],
   "source": [
    "generador = filter(check_even, nums)"
   ]
  },
  {
   "cell_type": "code",
   "execution_count": 17,
   "metadata": {
    "colab": {
     "base_uri": "https://localhost:8080/"
    },
    "executionInfo": {
     "elapsed": 368,
     "status": "ok",
     "timestamp": 1638541045608,
     "user": {
      "displayName": "Maria Julliette Marin Alarcon",
      "photoUrl": "https://lh3.googleusercontent.com/a/default-user=s64",
      "userId": "14948341870893292997"
     },
     "user_tz": 240
    },
    "id": "YISqvqd_mSpC",
    "outputId": "7bebea53-bf1c-4a71-ec72-4130222a2367"
   },
   "outputs": [
    {
     "data": {
      "text/plain": [
       "<filter at 0x1fcfb360490>"
      ]
     },
     "execution_count": 17,
     "metadata": {},
     "output_type": "execute_result"
    }
   ],
   "source": [
    "generador"
   ]
  },
  {
   "cell_type": "code",
   "execution_count": 18,
   "metadata": {
    "colab": {
     "base_uri": "https://localhost:8080/",
     "height": 200
    },
    "executionInfo": {
     "elapsed": 297,
     "status": "error",
     "timestamp": 1638541130580,
     "user": {
      "displayName": "Maria Julliette Marin Alarcon",
      "photoUrl": "https://lh3.googleusercontent.com/a/default-user=s64",
      "userId": "14948341870893292997"
     },
     "user_tz": 240
    },
    "id": "gTvelpLqmSpE",
    "outputId": "1c9b379b-f4fa-47d6-b2df-234b85c47804"
   },
   "outputs": [
    {
     "data": {
      "text/plain": [
       "0"
      ]
     },
     "execution_count": 18,
     "metadata": {},
     "output_type": "execute_result"
    }
   ],
   "source": [
    "# Ejecuta esta celda repetidas veces, verás como next( ) nos entrega un valor a la vez.\n",
    "# Le pide a la función 'check_even' que genere un valor a la vez.\n",
    "# Nota que en algún punto el generador se agota y ya no entrega más valores y devuelve un error \n",
    "# de 'StopIteration'\n",
    "\n",
    "next(generador)"
   ]
  },
  {
   "cell_type": "markdown",
   "metadata": {
    "id": "NILK9y4cmSpF"
   },
   "source": [
    "Si quieres utilizar el generador deberás recrearlo nuevamente:\n",
    "```Python\n",
    "generador = filter(check_even, nums)\n",
    "```\n",
    "Como te habrás fijado, el generador devuelve un valor a la vez, lo cual es muy eficiente para el uso de memoria. Por ejemploi si desempaquetas todos los elementos con una lista (list()):\n",
    "```Python\n",
    "list(generador)\n",
    "```\n",
    "... estarás utilizando el máximo de memoria asociado a la operación; si el generador es muy grande, podrías complicar el uso de memoria en tu equipo."
   ]
  },
  {
   "cell_type": "code",
   "execution_count": 19,
   "metadata": {
    "colab": {
     "base_uri": "https://localhost:8080/"
    },
    "executionInfo": {
     "elapsed": 269,
     "status": "ok",
     "timestamp": 1638541219642,
     "user": {
      "displayName": "Maria Julliette Marin Alarcon",
      "photoUrl": "https://lh3.googleusercontent.com/a/default-user=s64",
      "userId": "14948341870893292997"
     },
     "user_tz": 240
    },
    "id": "jO3axFU_mSpH",
    "outputId": "4909ebe6-1d8b-4c69-86ae-f6538944880b"
   },
   "outputs": [
    {
     "data": {
      "text/plain": [
       "1"
      ]
     },
     "execution_count": 19,
     "metadata": {},
     "output_type": "execute_result"
    }
   ],
   "source": [
    "# La función map() también devuelve un generador\n",
    "a = map(square, my_nums)\n",
    "next(a)"
   ]
  },
  {
   "cell_type": "code",
   "execution_count": 20,
   "metadata": {
    "colab": {
     "base_uri": "https://localhost:8080/"
    },
    "executionInfo": {
     "elapsed": 373,
     "status": "ok",
     "timestamp": 1638541227554,
     "user": {
      "displayName": "Maria Julliette Marin Alarcon",
      "photoUrl": "https://lh3.googleusercontent.com/a/default-user=s64",
      "userId": "14948341870893292997"
     },
     "user_tz": 240
    },
    "id": "q1VQNcBcmSpI",
    "outputId": "e0c8495c-e553-4efc-8978-fb185907758f"
   },
   "outputs": [
    {
     "data": {
      "text/plain": [
       "4"
      ]
     },
     "execution_count": 20,
     "metadata": {},
     "output_type": "execute_result"
    }
   ],
   "source": [
    "next(a)"
   ]
  },
  {
   "cell_type": "markdown",
   "metadata": {
    "id": "lfW_7dlEmSpJ"
   },
   "source": [
    "## <font color='blue'>**Funciones de usuario generadoras**</font>"
   ]
  },
  {
   "cell_type": "markdown",
   "metadata": {
    "id": "YNbCUxHymSpJ"
   },
   "source": [
    "Podemos definir nuestras propias funciones generadores, para ello utilizaremos la expresión **yield** en vez de **return** en ellas."
   ]
  },
  {
   "cell_type": "code",
   "execution_count": 21,
   "metadata": {
    "id": "ykbetw1MmSpL"
   },
   "outputs": [],
   "source": [
    "# Definimos una función generadora\n",
    "# Nota el uso de 'yield' en vez de 'return'\n",
    "\n",
    "def secuencia_infinita():\n",
    "    num = 0\n",
    "    while True:\n",
    "        yield num\n",
    "        num += 1"
   ]
  },
  {
   "cell_type": "code",
   "execution_count": 22,
   "metadata": {
    "id": "ACQd6um5mSpM"
   },
   "outputs": [],
   "source": [
    "# Creamos un generador\n",
    "\n",
    "generador_2 = secuencia_infinita()"
   ]
  },
  {
   "cell_type": "code",
   "execution_count": 23,
   "metadata": {
    "colab": {
     "base_uri": "https://localhost:8080/"
    },
    "executionInfo": {
     "elapsed": 432,
     "status": "ok",
     "timestamp": 1638541329571,
     "user": {
      "displayName": "Maria Julliette Marin Alarcon",
      "photoUrl": "https://lh3.googleusercontent.com/a/default-user=s64",
      "userId": "14948341870893292997"
     },
     "user_tz": 240
    },
    "id": "wcxAQz-zmSpN",
    "outputId": "1019a906-e900-4fce-ee48-48e299ed800b"
   },
   "outputs": [
    {
     "data": {
      "text/plain": [
       "0"
      ]
     },
     "execution_count": 23,
     "metadata": {},
     "output_type": "execute_result"
    }
   ],
   "source": [
    "next(generador_2)"
   ]
  },
  {
   "cell_type": "code",
   "execution_count": 24,
   "metadata": {
    "colab": {
     "base_uri": "https://localhost:8080/"
    },
    "executionInfo": {
     "elapsed": 269,
     "status": "ok",
     "timestamp": 1638541332356,
     "user": {
      "displayName": "Maria Julliette Marin Alarcon",
      "photoUrl": "https://lh3.googleusercontent.com/a/default-user=s64",
      "userId": "14948341870893292997"
     },
     "user_tz": 240
    },
    "id": "yjMWm3u6mSpO",
    "outputId": "867e69bc-582a-490e-af52-25e4fbff4089"
   },
   "outputs": [
    {
     "data": {
      "text/plain": [
       "1"
      ]
     },
     "execution_count": 24,
     "metadata": {},
     "output_type": "execute_result"
    }
   ],
   "source": [
    "next(generador_2)"
   ]
  },
  {
   "cell_type": "code",
   "execution_count": 25,
   "metadata": {
    "id": "mkBa4JkXmSpP"
   },
   "outputs": [],
   "source": [
    "generador_2.close()"
   ]
  },
  {
   "cell_type": "code",
   "execution_count": 27,
   "metadata": {
    "colab": {
     "base_uri": "https://localhost:8080/",
     "height": 183
    },
    "executionInfo": {
     "elapsed": 346,
     "status": "error",
     "timestamp": 1638541349732,
     "user": {
      "displayName": "Maria Julliette Marin Alarcon",
      "photoUrl": "https://lh3.googleusercontent.com/a/default-user=s64",
      "userId": "14948341870893292997"
     },
     "user_tz": 240
    },
    "id": "fYSugSHhmSpQ",
    "outputId": "7b16e420-a918-461f-bdf1-3138cfc2b029"
   },
   "outputs": [
    {
     "ename": "StopIteration",
     "evalue": "",
     "output_type": "error",
     "traceback": [
      "\u001b[1;31m---------------------------------------------------------------------------\u001b[0m",
      "\u001b[1;31mStopIteration\u001b[0m                             Traceback (most recent call last)",
      "Input \u001b[1;32mIn [27]\u001b[0m, in \u001b[0;36m<cell line: 2>\u001b[1;34m()\u001b[0m\n\u001b[0;32m      1\u001b[0m \u001b[38;5;66;03m# Esta celda dará un error ya que hemos cerrado (close) el generador\u001b[39;00m\n\u001b[1;32m----> 2\u001b[0m \u001b[38;5;28;43mnext\u001b[39;49m\u001b[43m(\u001b[49m\u001b[43mgenerador_2\u001b[49m\u001b[43m)\u001b[49m\n",
      "\u001b[1;31mStopIteration\u001b[0m: "
     ]
    }
   ],
   "source": [
    "# Esta celda dará un error ya que hemos cerrado (close) el generador\n",
    "next(generador_2)"
   ]
  },
  {
   "cell_type": "markdown",
   "metadata": {
    "id": "ohuSosSUmSpR"
   },
   "source": [
    "## <font color='green'>Actividad 1: </font> \n",
    "### Crea un generador\n",
    "Desarrolla un generador utilizando la función **map()** aplicando una función a una lista"
   ]
  },
  {
   "cell_type": "code",
   "execution_count": 28,
   "metadata": {
    "colab": {
     "base_uri": "https://localhost:8080/"
    },
    "executionInfo": {
     "elapsed": 445,
     "status": "ok",
     "timestamp": 1638542334186,
     "user": {
      "displayName": "Maria Julliette Marin Alarcon",
      "photoUrl": "https://lh3.googleusercontent.com/a/default-user=s64",
      "userId": "14948341870893292997"
     },
     "user_tz": 240
    },
    "id": "lTOGzwmVmSpR",
    "outputId": "e5760b37-24c9-4d6d-b254-f13d55a36901"
   },
   "outputs": [
    {
     "data": {
      "text/plain": [
       "4"
      ]
     },
     "execution_count": 28,
     "metadata": {},
     "output_type": "execute_result"
    }
   ],
   "source": [
    "# Tu código aquí ...\n",
    "# Programa que crea un generador utilizando función map()\n",
    "# Creación de función que aumenta 2 al número\n",
    "def agre_two(x):\n",
    "   return x+2\n",
    "# Creación de lista números\n",
    "lista = [1,2,3,4,5,6,7,8,9,10]\n",
    "# Creación de función map aplicado a la lista\n",
    "func_map = map(agre_two,lista)\n",
    "# Entrega primer valor\n",
    "next(func_map)\n",
    "# Si esta función (segundo next()) está al final muestra segundo valor aplicando función a segundo elemento de la lista\n",
    "next(func_map)\n",
    "\n"
   ]
  },
  {
   "cell_type": "markdown",
   "metadata": {
    "id": "xBorF-XYmSpS"
   },
   "source": [
    "<font color='green'>Fin actividad 1</font>"
   ]
  },
  {
   "cell_type": "markdown",
   "metadata": {
    "id": "eXf5eL_UmSpT"
   },
   "source": [
    "## <font color='green'>Actividad 2: Challenging</font> \n",
    "### Crea un generador de lectura de archivos\n",
    "Desarrolla un generador para leer un archivo (supuestamente muy) grande\n",
    "\n",
    "Pasos:\n",
    "1. Crea una función llamada **txt_reader** que reciba el nombre de un archivo y lo abra en modo lectura\n",
    "2. Haz que la función recorra las líneas del archivo con un ciclo for\n",
    "3. Retorna cada línea leída con un **yield**\n",
    "4. Crea un generador asociado a tu funcion generadora\n",
    "4. Prueba tu generador con la función **next( )** y **close( )**.\n",
    "\n",
    "Tip:<br>\n",
    "1. Utiliza esta estructura\n",
    "\n",
    "```python\n",
    "def txt_reader(file_name):\n",
    "    with open ... # Abre el archivo de forma pythonista\n",
    "        for ...:  # recórrelo\n",
    "        yield row\n",
    "```\n",
    "\n",
    "2. Prueba tu función generadora con el archivo ***poblaciones.txt***\n",
    "3. Recuerda corregir la ruta de acceso si estás trabajando en la nube."
   ]
  },
  {
   "cell_type": "code",
   "execution_count": 34,
   "metadata": {
    "colab": {
     "base_uri": "https://localhost:8080/"
    },
    "executionInfo": {
     "elapsed": 319,
     "status": "ok",
     "timestamp": 1638543280093,
     "user": {
      "displayName": "Maria Julliette Marin Alarcon",
      "photoUrl": "https://lh3.googleusercontent.com/a/default-user=s64",
      "userId": "14948341870893292997"
     },
     "user_tz": 240
    },
    "id": "HwvU7pKfwlcQ",
    "outputId": "30fd04d4-9b67-4228-9ab4-1a82f3a95c31"
   },
   "outputs": [],
   "source": [
    "# Acceso a drive\n",
    "#from google.colab import drive\n",
    "#drive.mount('/content/drive')"
   ]
  },
  {
   "cell_type": "code",
   "execution_count": 35,
   "metadata": {
    "id": "it8Vf401mSpU"
   },
   "outputs": [],
   "source": [
    "# Tu código aquí ...\n",
    "\n",
    "path = 'C:/Users/tarto/rlalfaro_data/Diplomado UDD/DataScience_Certificate_CL/1-Python_Fundamentals/Original-Data/'\n",
    "\n",
    "# Creación de función generadora\n",
    "def txt_reader(file_name):\n",
    "    with open(path + 'poblaciones.txt','r') as file_name:\n",
    "        # Recorriendo líneas de archivo\n",
    "        for linea in file_name:  \n",
    "            print(linea)\n",
    "        yield linea\n",
    "\n"
   ]
  },
  {
   "cell_type": "code",
   "execution_count": 36,
   "metadata": {
    "id": "3rAdnsIymSpU"
   },
   "outputs": [],
   "source": [
    "# Crea tu generador\n",
    "gener_lectura = txt_reader('poblaciones.txt')"
   ]
  },
  {
   "cell_type": "code",
   "execution_count": 37,
   "metadata": {
    "colab": {
     "base_uri": "https://localhost:8080/",
     "height": 365
    },
    "executionInfo": {
     "elapsed": 328,
     "status": "ok",
     "timestamp": 1638544255484,
     "user": {
      "displayName": "Maria Julliette Marin Alarcon",
      "photoUrl": "https://lh3.googleusercontent.com/a/default-user=s64",
      "userId": "14948341870893292997"
     },
     "user_tz": 240
    },
    "id": "NYpjdDtFmSpV",
    "outputId": "7999055f-23e9-45c9-f413-7f5f465ba904"
   },
   "outputs": [
    {
     "name": "stdout",
     "output_type": "stream",
     "text": [
      "China 1.338\n",
      "\n",
      "India 1.180\n",
      "\n",
      "Estados Unidos 309\n",
      "\n",
      "Indonesia 230\n",
      "\n",
      "Brasil 192\n",
      "\n",
      "PaquistÃ¡n 180\n",
      "\n",
      "Bangladesh,158\n",
      "\n",
      "Nigeria 154\n",
      "\n",
      "Rusia 142\n",
      "\n",
      "Japon 127\n"
     ]
    },
    {
     "data": {
      "text/plain": [
       "'Japon 127'"
      ]
     },
     "execution_count": 37,
     "metadata": {},
     "output_type": "execute_result"
    }
   ],
   "source": [
    "# Extrae un elemento\n",
    "next(gener_lectura)"
   ]
  },
  {
   "cell_type": "code",
   "execution_count": 38,
   "metadata": {
    "id": "b1lHFDnemSpW"
   },
   "outputs": [],
   "source": [
    "# Cierra tu generador\n",
    "gener_lectura.close()\n"
   ]
  },
  {
   "cell_type": "markdown",
   "metadata": {
    "id": "2JGiyKXCmSpW"
   },
   "source": [
    "<font color='green'>Fin actividad 2</font>"
   ]
  },
  {
   "cell_type": "markdown",
   "metadata": {
    "id": "FnQNbv0lmSpX"
   },
   "source": [
    "## <font color='blue'>**Expresiones lambda**</font>E\n",
    "\n",
    "Una de las herramientas más útiles de Python (y potencialmente confusa) es la expresión **lambda**. Las expresiones **lambda** nos permiten crear funciones \"anónimas\", es decir, sin nombre. Básicamente, esto significa que podemos crear funciones ad-hoc rápidamente sin necesidad de definir correctamente una función usando **def**.\n",
    "\n",
    "Los objetos de función devueltos al ejecutar expresiones **lambda** funcionan exactamente igual que los creados y asignados por **def**. \n",
    "\n",
    "Existe una diferencia clave que hace que lambda sea útil en roles especializados:\n",
    "\n",
    "* El cuerpo de *lambda* es una expresión única, no un bloque de declaraciones. \n",
    "\n",
    "* Debido a que se limita a una expresión, una *lambda* es menos general que una *def*. \n",
    "\n",
    "* *lambda* está diseñado para codificar funciones simples y *def* maneja las tareas más grandes y complejas.\n",
    "\n",
    "* Las funciones *def* son reutilizables, las *lambda* no."
   ]
  },
  {
   "cell_type": "markdown",
   "metadata": {
    "id": "jfe9yLPLmSpY"
   },
   "source": [
    "Analicemos lentamente una expresión lambda deconstruyendo una función:"
   ]
  },
  {
   "cell_type": "code",
   "execution_count": 39,
   "metadata": {
    "id": "TW1Ih-vamSpZ"
   },
   "outputs": [],
   "source": [
    "def square(num):\n",
    "    \"\"\"\n",
    "    Esta función calcula el cuadrado de un número\n",
    "    \"\"\"\n",
    "    result = num ** 2\n",
    "    return result"
   ]
  },
  {
   "cell_type": "code",
   "execution_count": 40,
   "metadata": {
    "colab": {
     "base_uri": "https://localhost:8080/"
    },
    "executionInfo": {
     "elapsed": 11,
     "status": "ok",
     "timestamp": 1638544487261,
     "user": {
      "displayName": "Maria Julliette Marin Alarcon",
      "photoUrl": "https://lh3.googleusercontent.com/a/default-user=s64",
      "userId": "14948341870893292997"
     },
     "user_tz": 240
    },
    "id": "neSrwfN-mSpZ",
    "outputId": "753adf8d-24be-4e08-939b-0e111feaed62"
   },
   "outputs": [
    {
     "data": {
      "text/plain": [
       "4"
      ]
     },
     "execution_count": 40,
     "metadata": {},
     "output_type": "execute_result"
    }
   ],
   "source": [
    "square(2)"
   ]
  },
  {
   "cell_type": "markdown",
   "metadata": {
    "id": "5HHPmZ7CmSpa"
   },
   "source": [
    "La podemos simplificar así:"
   ]
  },
  {
   "cell_type": "code",
   "execution_count": 41,
   "metadata": {
    "id": "tQhdcj23mSpb"
   },
   "outputs": [],
   "source": [
    "def square(num):\n",
    "    return num ** 2"
   ]
  },
  {
   "cell_type": "code",
   "execution_count": 42,
   "metadata": {
    "colab": {
     "base_uri": "https://localhost:8080/"
    },
    "executionInfo": {
     "elapsed": 12,
     "status": "ok",
     "timestamp": 1638544490881,
     "user": {
      "displayName": "Maria Julliette Marin Alarcon",
      "photoUrl": "https://lh3.googleusercontent.com/a/default-user=s64",
      "userId": "14948341870893292997"
     },
     "user_tz": 240
    },
    "id": "zL1WAaABmSpb",
    "outputId": "668c8d20-4b38-45d1-ce0e-fb53483c2b78"
   },
   "outputs": [
    {
     "data": {
      "text/plain": [
       "4"
      ]
     },
     "execution_count": 42,
     "metadata": {},
     "output_type": "execute_result"
    }
   ],
   "source": [
    "square(2)"
   ]
  },
  {
   "cell_type": "markdown",
   "metadata": {
    "id": "RMl9LQHSmSpc"
   },
   "source": [
    "Idiomáticamente hablando, incluso podríamos escribir todo esto en una sola línea."
   ]
  },
  {
   "cell_type": "code",
   "execution_count": 43,
   "metadata": {
    "id": "Lf6MRaohmSpc"
   },
   "outputs": [],
   "source": [
    "def square(num): return num ** 2"
   ]
  },
  {
   "cell_type": "code",
   "execution_count": 44,
   "metadata": {
    "colab": {
     "base_uri": "https://localhost:8080/"
    },
    "executionInfo": {
     "elapsed": 14,
     "status": "ok",
     "timestamp": 1638544494735,
     "user": {
      "displayName": "Maria Julliette Marin Alarcon",
      "photoUrl": "https://lh3.googleusercontent.com/a/default-user=s64",
      "userId": "14948341870893292997"
     },
     "user_tz": 240
    },
    "id": "4tplpDpnmSpd",
    "outputId": "43a5145a-0685-40b3-98bb-3a54f21e9c0d"
   },
   "outputs": [
    {
     "data": {
      "text/plain": [
       "4"
      ]
     },
     "execution_count": 44,
     "metadata": {},
     "output_type": "execute_result"
    }
   ],
   "source": [
    "square(2)"
   ]
  },
  {
   "cell_type": "markdown",
   "metadata": {
    "id": "ns7fSkeTmSpe"
   },
   "source": [
    "Esta es jústamente la forma que una expresión ***lambda*** intenta replicar. Una expresión ***lambda*** se puede escribir como:"
   ]
  },
  {
   "cell_type": "code",
   "execution_count": 45,
   "metadata": {
    "colab": {
     "base_uri": "https://localhost:8080/"
    },
    "executionInfo": {
     "elapsed": 618,
     "status": "ok",
     "timestamp": 1638544496921,
     "user": {
      "displayName": "Maria Julliette Marin Alarcon",
      "photoUrl": "https://lh3.googleusercontent.com/a/default-user=s64",
      "userId": "14948341870893292997"
     },
     "user_tz": 240
    },
    "id": "X5czrqoemSpf",
    "outputId": "a8447001-0e70-4616-8157-4946f8317fd4"
   },
   "outputs": [
    {
     "data": {
      "text/plain": [
       "<function __main__.<lambda>(num)>"
      ]
     },
     "execution_count": 45,
     "metadata": {},
     "output_type": "execute_result"
    }
   ],
   "source": [
    "lambda num: num ** 2"
   ]
  },
  {
   "cell_type": "code",
   "execution_count": 46,
   "metadata": {
    "id": "WFB5tuuQmSpf"
   },
   "outputs": [],
   "source": [
    "# Normalmente, no asignaremos una variable a una expresión lambda\n",
    "# esto es solo para demostración!\n",
    "\n",
    "square = lambda num: num **2"
   ]
  },
  {
   "cell_type": "code",
   "execution_count": 47,
   "metadata": {
    "colab": {
     "base_uri": "https://localhost:8080/"
    },
    "executionInfo": {
     "elapsed": 11,
     "status": "ok",
     "timestamp": 1638544499888,
     "user": {
      "displayName": "Maria Julliette Marin Alarcon",
      "photoUrl": "https://lh3.googleusercontent.com/a/default-user=s64",
      "userId": "14948341870893292997"
     },
     "user_tz": 240
    },
    "id": "lpmeksJSmSpg",
    "outputId": "bc371b90-58fc-4bba-8374-591a576e3bb8"
   },
   "outputs": [
    {
     "data": {
      "text/plain": [
       "4"
      ]
     },
     "execution_count": 47,
     "metadata": {},
     "output_type": "execute_result"
    }
   ],
   "source": [
    "square(2)"
   ]
  },
  {
   "cell_type": "markdown",
   "metadata": {
    "id": "5Jp533nYmSpg"
   },
   "source": [
    "Entonces, ¿por qué usaríamos esto? \n",
    "\n",
    "Muchas llamadas a funciones necesitan una función creada anteriormente (más arriba en nuestro código), como en los casos de map y filter. Sin embargo, a veces solo se necesita usar la función una vez, por lo que en lugar de definirla formalmente con **def**), usamos una expresión lambda.\n",
    "\n",
    "Repitamos algunos de los ejemplos anteriores con una expresión lambda"
   ]
  },
  {
   "cell_type": "code",
   "execution_count": 48,
   "metadata": {
    "colab": {
     "base_uri": "https://localhost:8080/"
    },
    "executionInfo": {
     "elapsed": 11,
     "status": "ok",
     "timestamp": 1638544501992,
     "user": {
      "displayName": "Maria Julliette Marin Alarcon",
      "photoUrl": "https://lh3.googleusercontent.com/a/default-user=s64",
      "userId": "14948341870893292997"
     },
     "user_tz": 240
    },
    "id": "CZJ0R79amSph",
    "outputId": "7e59f3ee-e0eb-44ee-c749-bc347788c0e1"
   },
   "outputs": [
    {
     "data": {
      "text/plain": [
       "[1, 4, 9, 16, 25]"
      ]
     },
     "execution_count": 48,
     "metadata": {},
     "output_type": "execute_result"
    }
   ],
   "source": [
    "list(map(lambda num: num ** 2, my_nums))"
   ]
  },
  {
   "cell_type": "code",
   "execution_count": 49,
   "metadata": {
    "colab": {
     "base_uri": "https://localhost:8080/"
    },
    "executionInfo": {
     "elapsed": 448,
     "status": "ok",
     "timestamp": 1638544503346,
     "user": {
      "displayName": "Maria Julliette Marin Alarcon",
      "photoUrl": "https://lh3.googleusercontent.com/a/default-user=s64",
      "userId": "14948341870893292997"
     },
     "user_tz": 240
    },
    "id": "-xiUGMi1mSpi",
    "outputId": "3a1ae648-e485-4419-9874-6fc16b93bc5f"
   },
   "outputs": [
    {
     "data": {
      "text/plain": [
       "[0, 2, 4, 6, 8, 10]"
      ]
     },
     "execution_count": 49,
     "metadata": {},
     "output_type": "execute_result"
    }
   ],
   "source": [
    "list(filter(lambda n: n % 2 == 0, nums))"
   ]
  },
  {
   "cell_type": "markdown",
   "metadata": {
    "id": "nnZNEh3qmSpj"
   },
   "source": [
    "Ten en cuenta que cuanto más compleja sea una función, más difícil será traducirla a una expresión lambda, lo que significa que a veces es más fácil (y a menudo la única forma) crear la función con *def*.\n",
    "\n",
    "A continuación algunos ejemplos más."
   ]
  },
  {
   "cell_type": "markdown",
   "metadata": {
    "id": "ZxpjkWz-mSpj"
   },
   "source": [
    "### Expresión lambda para capturar el primer carácter de una cadena"
   ]
  },
  {
   "cell_type": "code",
   "execution_count": 50,
   "metadata": {
    "colab": {
     "base_uri": "https://localhost:8080/"
    },
    "executionInfo": {
     "elapsed": 14,
     "status": "ok",
     "timestamp": 1638544505333,
     "user": {
      "displayName": "Maria Julliette Marin Alarcon",
      "photoUrl": "https://lh3.googleusercontent.com/a/default-user=s64",
      "userId": "14948341870893292997"
     },
     "user_tz": 240
    },
    "id": "tO3EHkyfmSpk",
    "outputId": "4b98b840-4206-4825-8416-ef0279f2d269"
   },
   "outputs": [
    {
     "name": "stdout",
     "output_type": "stream",
     "text": [
      "H\n"
     ]
    }
   ],
   "source": [
    "cadena = lambda s: s[0]\n",
    "print(cadena('Hola'))"
   ]
  },
  {
   "cell_type": "markdown",
   "metadata": {
    "id": "bEVH8ghUmSpl"
   },
   "source": [
    "### Expresión lambda para invertir una cadena"
   ]
  },
  {
   "cell_type": "code",
   "execution_count": 51,
   "metadata": {
    "colab": {
     "base_uri": "https://localhost:8080/"
    },
    "executionInfo": {
     "elapsed": 399,
     "status": "ok",
     "timestamp": 1638544507083,
     "user": {
      "displayName": "Maria Julliette Marin Alarcon",
      "photoUrl": "https://lh3.googleusercontent.com/a/default-user=s64",
      "userId": "14948341870893292997"
     },
     "user_tz": 240
    },
    "id": "CACkDc3bmSpm",
    "outputId": "b9a33aae-999f-4214-bb6e-a64526dd4273"
   },
   "outputs": [
    {
     "name": "stdout",
     "output_type": "stream",
     "text": [
      "aloH\n"
     ]
    }
   ],
   "source": [
    "cadena_invertida = lambda s: s[::-1]\n",
    "print(cadena_invertida('Hola'))"
   ]
  },
  {
   "cell_type": "markdown",
   "metadata": {
    "id": "Cuyp28UEmSpn"
   },
   "source": [
    "Incluso puedes pasar varios argumentos a una expresión lambda. Nuevamente, ten en cuenta que no todas las funciones se pueden traducir a una expresión lambda."
   ]
  },
  {
   "cell_type": "markdown",
   "metadata": {
    "id": "So5M2OBkmSpn"
   },
   "source": [
    "### Expresión lambda para sumar dos números"
   ]
  },
  {
   "cell_type": "code",
   "execution_count": 52,
   "metadata": {
    "colab": {
     "base_uri": "https://localhost:8080/"
    },
    "executionInfo": {
     "elapsed": 317,
     "status": "ok",
     "timestamp": 1638544511100,
     "user": {
      "displayName": "Maria Julliette Marin Alarcon",
      "photoUrl": "https://lh3.googleusercontent.com/a/default-user=s64",
      "userId": "14948341870893292997"
     },
     "user_tz": 240
    },
    "id": "hZOFhutsmSpo",
    "outputId": "a554a882-0344-441c-fb46-37fa058d7135"
   },
   "outputs": [
    {
     "data": {
      "text/plain": [
       "7"
      ]
     },
     "execution_count": 52,
     "metadata": {},
     "output_type": "execute_result"
    }
   ],
   "source": [
    "suma_2_num = lambda x,y : x + y\n",
    "suma_2_num(3, 4)"
   ]
  },
  {
   "cell_type": "markdown",
   "metadata": {
    "id": "QgBqHhuKmSpp"
   },
   "source": [
    "### Expresión lambda para sumar muchos números"
   ]
  },
  {
   "cell_type": "code",
   "execution_count": 53,
   "metadata": {
    "colab": {
     "base_uri": "https://localhost:8080/"
    },
    "executionInfo": {
     "elapsed": 12,
     "status": "ok",
     "timestamp": 1638544513112,
     "user": {
      "displayName": "Maria Julliette Marin Alarcon",
      "photoUrl": "https://lh3.googleusercontent.com/a/default-user=s64",
      "userId": "14948341870893292997"
     },
     "user_tz": 240
    },
    "id": "S3mx27NTmSpq",
    "outputId": "53c14f58-711d-48ad-cad6-aa2f376433e9"
   },
   "outputs": [
    {
     "data": {
      "text/plain": [
       "45"
      ]
     },
     "execution_count": 53,
     "metadata": {},
     "output_type": "execute_result"
    }
   ],
   "source": [
    "suma_n_num = lambda *args: sum(args)\n",
    "suma_n_num(1, 2, 3, 4, 5, 6, 7, 8, 9)"
   ]
  },
  {
   "cell_type": "markdown",
   "metadata": {
    "id": "rHS1kAoOmSpq"
   },
   "source": [
    "Más adelante verás que ciertas librerías de Python (e.g. Pandas) utilizan mucho las expresiones lambda."
   ]
  }
 ],
 "metadata": {
  "colab": {
   "name": "FP20-Lambda-Expressions-Map-and-Filter-okd.ipynb",
   "provenance": []
  },
  "kernelspec": {
   "display_name": "Python 3 (ipykernel)",
   "language": "python",
   "name": "python3"
  },
  "language_info": {
   "codemirror_mode": {
    "name": "ipython",
    "version": 3
   },
   "file_extension": ".py",
   "mimetype": "text/x-python",
   "name": "python",
   "nbconvert_exporter": "python",
   "pygments_lexer": "ipython3",
   "version": "3.10.5"
  }
 },
 "nbformat": 4,
 "nbformat_minor": 1
}
