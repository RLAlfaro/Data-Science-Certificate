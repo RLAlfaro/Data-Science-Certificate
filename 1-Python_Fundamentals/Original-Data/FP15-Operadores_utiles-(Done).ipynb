{
 "cells": [
  {
   "cell_type": "markdown",
   "metadata": {
    "id": "Zq_e0vU6lH6q"
   },
   "source": [
    "# **Introducción a Python**\n",
    "# FP15. Operadores útiles (operators)"
   ]
  },
  {
   "cell_type": "markdown",
   "metadata": {
    "id": "FpCeGheclH6w"
   },
   "source": [
    "Hay algunas funciones pre-hechas y operadores incorporados en Python que no encajan bien en ninguna categoría, así que los repasaremos en esta lección, ¡comencemos!"
   ]
  },
  {
   "cell_type": "markdown",
   "metadata": {
    "id": "0xR5UXN6lH6x"
   },
   "source": [
    "## <font color='blue'>**Operadores básicosn**</font>"
   ]
  },
  {
   "cell_type": "markdown",
   "metadata": {
    "id": "gDS8okI3lH6y"
   },
   "source": [
    "### range( )\n",
    "\n",
    "La función **range( )** te permite generar rápidamente una lista de números enteros, esto es muy útil. Toma nota de cómo usarlo!\n",
    "\n",
    "Hay 3 parámetros que se le pueden pasar a la función:\n",
    "\n",
    "* un inicio\n",
    "* una parada\n",
    "* un tamaño de paso\n",
    "\n",
    "Veamos algunos ejemplos:"
   ]
  },
  {
   "cell_type": "code",
   "execution_count": 1,
   "metadata": {
    "colab": {
     "base_uri": "https://localhost:8080/"
    },
    "executionInfo": {
     "elapsed": 264,
     "status": "ok",
     "timestamp": 1637942704667,
     "user": {
      "displayName": "Maria Julliette Marin Alarcon",
      "photoUrl": "https://lh3.googleusercontent.com/a/default-user=s64",
      "userId": "14948341870893292997"
     },
     "user_tz": 240
    },
    "id": "e7sWsV-ElH6z",
    "outputId": "aed153c8-8a18-42ca-d044-bfd6e6790595"
   },
   "outputs": [
    {
     "data": {
      "text/plain": [
       "range(0, 11)"
      ]
     },
     "execution_count": 1,
     "metadata": {},
     "output_type": "execute_result"
    }
   ],
   "source": [
    "range(0, 11)"
   ]
  },
  {
   "cell_type": "code",
   "execution_count": 2,
   "metadata": {
    "colab": {
     "base_uri": "https://localhost:8080/"
    },
    "executionInfo": {
     "elapsed": 410,
     "status": "ok",
     "timestamp": 1637942738754,
     "user": {
      "displayName": "Maria Julliette Marin Alarcon",
      "photoUrl": "https://lh3.googleusercontent.com/a/default-user=s64",
      "userId": "14948341870893292997"
     },
     "user_tz": 240
    },
    "id": "ggWSBEOGlH60",
    "outputId": "191815c2-fee9-4f71-b48d-ce0757d37ae0"
   },
   "outputs": [
    {
     "data": {
      "text/plain": [
       "range"
      ]
     },
     "execution_count": 2,
     "metadata": {},
     "output_type": "execute_result"
    }
   ],
   "source": [
    "type(range(0, 11))"
   ]
  },
  {
   "cell_type": "code",
   "execution_count": 3,
   "metadata": {
    "colab": {
     "base_uri": "https://localhost:8080/"
    },
    "executionInfo": {
     "elapsed": 295,
     "status": "ok",
     "timestamp": 1637942740445,
     "user": {
      "displayName": "Maria Julliette Marin Alarcon",
      "photoUrl": "https://lh3.googleusercontent.com/a/default-user=s64",
      "userId": "14948341870893292997"
     },
     "user_tz": 240
    },
    "id": "be-ipYnHlH61",
    "outputId": "e6e2fb45-c5e8-428c-ce66-bc9f8242bf27"
   },
   "outputs": [
    {
     "name": "stdout",
     "output_type": "stream",
     "text": [
      "range(0, 11)\n"
     ]
    }
   ],
   "source": [
    "a = range(0, 11)\n",
    "print(a)"
   ]
  },
  {
   "cell_type": "markdown",
   "metadata": {
    "id": "GY6--CDXlH62"
   },
   "source": [
    "Ten en cuenta que esta es una función generadora (**generator**), por lo que para obtener una lista, necesitamos convertirla en una lista con **list( )**.\n",
    "\n",
    "¿Qué es un generador? Es un tipo especial de función que generará un resultado a la vez, conforme se le solicita; esto permite un uso muy eficiente de la memoria de tu computador. Un generador es una función que devuelve un objeto (del tipo iterador) sobre el que podemos iterar (un valor a la vez). Aún no hemos hablado de funciones o generadores, así que mantén esto en tus notas por ahora, ¡lo discutiremos con mucho más detalle más adelante en tu capacitación!"
   ]
  },
  {
   "cell_type": "code",
   "execution_count": 4,
   "metadata": {
    "colab": {
     "base_uri": "https://localhost:8080/"
    },
    "executionInfo": {
     "elapsed": 280,
     "status": "ok",
     "timestamp": 1637942822133,
     "user": {
      "displayName": "Maria Julliette Marin Alarcon",
      "photoUrl": "https://lh3.googleusercontent.com/a/default-user=s64",
      "userId": "14948341870893292997"
     },
     "user_tz": 240
    },
    "id": "n6AzR3MslH63",
    "outputId": "ba869203-98aa-4bfb-9b04-d33521f03232"
   },
   "outputs": [
    {
     "data": {
      "text/plain": [
       "[0, 1, 2, 3, 4, 5, 6, 7, 8, 9, 10]"
      ]
     },
     "execution_count": 4,
     "metadata": {},
     "output_type": "execute_result"
    }
   ],
   "source": [
    "# Fíjate como el 11 no se incluye en el resultado. Es hasta 11 pero sin el 11.\n",
    "# Tal como cuando hacemos slicing\n",
    "\n",
    "list(range(0, 11))"
   ]
  },
  {
   "cell_type": "code",
   "execution_count": 5,
   "metadata": {
    "colab": {
     "base_uri": "https://localhost:8080/"
    },
    "executionInfo": {
     "elapsed": 291,
     "status": "ok",
     "timestamp": 1637942830998,
     "user": {
      "displayName": "Maria Julliette Marin Alarcon",
      "photoUrl": "https://lh3.googleusercontent.com/a/default-user=s64",
      "userId": "14948341870893292997"
     },
     "user_tz": 240
    },
    "id": "dXTkTmhilH64",
    "outputId": "c7f7beed-fa86-41c1-a4c4-74c0bfa5405b"
   },
   "outputs": [
    {
     "data": {
      "text/plain": [
       "[0, 1, 2, 3, 4, 5, 6, 7, 8, 9, 10, 11]"
      ]
     },
     "execution_count": 5,
     "metadata": {},
     "output_type": "execute_result"
    }
   ],
   "source": [
    "list(range(0, 12))"
   ]
  },
  {
   "cell_type": "code",
   "execution_count": 6,
   "metadata": {
    "colab": {
     "base_uri": "https://localhost:8080/"
    },
    "executionInfo": {
     "elapsed": 258,
     "status": "ok",
     "timestamp": 1637942834998,
     "user": {
      "displayName": "Maria Julliette Marin Alarcon",
      "photoUrl": "https://lh3.googleusercontent.com/a/default-user=s64",
      "userId": "14948341870893292997"
     },
     "user_tz": 240
    },
    "id": "UTaJq6PSlH64",
    "outputId": "0b6bfdd6-e9d5-4e99-e88b-e5c6e61631b5"
   },
   "outputs": [
    {
     "data": {
      "text/plain": [
       "[0, 2, 4, 6, 8, 10]"
      ]
     },
     "execution_count": 6,
     "metadata": {},
     "output_type": "execute_result"
    }
   ],
   "source": [
    "# El tercer parámetro es el tamaño del paso!\n",
    "# el tamaño del paso solo significa qué tan grande es un salto o paso\n",
    "# toma del número inicial para pasar al siguiente número.\n",
    "\n",
    "list(range(0, 11, 2))"
   ]
  },
  {
   "cell_type": "code",
   "execution_count": 7,
   "metadata": {
    "colab": {
     "base_uri": "https://localhost:8080/"
    },
    "executionInfo": {
     "elapsed": 5,
     "status": "ok",
     "timestamp": 1637942841661,
     "user": {
      "displayName": "Maria Julliette Marin Alarcon",
      "photoUrl": "https://lh3.googleusercontent.com/a/default-user=s64",
      "userId": "14948341870893292997"
     },
     "user_tz": 240
    },
    "id": "qTqB9GjklH65",
    "outputId": "589c8651-dd9c-4b3b-954b-665ceedeeb38"
   },
   "outputs": [
    {
     "data": {
      "text/plain": [
       "[0, 10, 20, 30, 40, 50, 60, 70, 80, 90, 100]"
      ]
     },
     "execution_count": 7,
     "metadata": {},
     "output_type": "execute_result"
    }
   ],
   "source": [
    "list(range(0, 101, 10))"
   ]
  },
  {
   "cell_type": "markdown",
   "metadata": {
    "id": "VU8Vvp30lH65"
   },
   "source": [
    "## <font color='green'>Actividad 1</font> \n",
    "### Crea una lista con enteros, partiendo desde 0, hasta 102, con paso 3\n"
   ]
  },
  {
   "cell_type": "code",
   "execution_count": 8,
   "metadata": {
    "colab": {
     "base_uri": "https://localhost:8080/"
    },
    "executionInfo": {
     "elapsed": 22,
     "status": "ok",
     "timestamp": 1638497199451,
     "user": {
      "displayName": "Maria Julliette Marin Alarcon",
      "photoUrl": "https://lh3.googleusercontent.com/a/default-user=s64",
      "userId": "14948341870893292997"
     },
     "user_tz": 240
    },
    "id": "FhBrDqkUlH66",
    "outputId": "1d8006aa-a9d9-4692-9f14-39b564f09efa"
   },
   "outputs": [
    {
     "data": {
      "text/plain": [
       "[0,\n",
       " 3,\n",
       " 6,\n",
       " 9,\n",
       " 12,\n",
       " 15,\n",
       " 18,\n",
       " 21,\n",
       " 24,\n",
       " 27,\n",
       " 30,\n",
       " 33,\n",
       " 36,\n",
       " 39,\n",
       " 42,\n",
       " 45,\n",
       " 48,\n",
       " 51,\n",
       " 54,\n",
       " 57,\n",
       " 60,\n",
       " 63,\n",
       " 66,\n",
       " 69,\n",
       " 72,\n",
       " 75,\n",
       " 78,\n",
       " 81,\n",
       " 84,\n",
       " 87,\n",
       " 90,\n",
       " 93,\n",
       " 96,\n",
       " 99,\n",
       " 102]"
      ]
     },
     "execution_count": 8,
     "metadata": {},
     "output_type": "execute_result"
    }
   ],
   "source": [
    "# Tu código aquí ...\n",
    "# Creación de una lista de enteros, comenzando en 0, hasta 102 con paso 3 con range()\n",
    "list(range(0, 103, 3))"
   ]
  },
  {
   "cell_type": "markdown",
   "metadata": {
    "id": "R3CychMclH66"
   },
   "source": [
    "<font color='green'>Fin actividad 1</font> "
   ]
  },
  {
   "cell_type": "markdown",
   "metadata": {
    "id": "q1NcuYoRlH66"
   },
   "source": [
    "### enumerate( )\n",
    "\n",
    "**enumerate( )** es una función muy útil para usar con **for loops**.\n",
    "Imagina la siguiente situación:"
   ]
  },
  {
   "cell_type": "code",
   "execution_count": 9,
   "metadata": {
    "colab": {
     "base_uri": "https://localhost:8080/"
    },
    "executionInfo": {
     "elapsed": 336,
     "status": "ok",
     "timestamp": 1637942958359,
     "user": {
      "displayName": "Maria Julliette Marin Alarcon",
      "photoUrl": "https://lh3.googleusercontent.com/a/default-user=s64",
      "userId": "14948341870893292997"
     },
     "user_tz": 240
    },
    "id": "BN7dbk1SlH67",
    "outputId": "57d3a0e6-c484-4076-bc17-c8e7d84c0779"
   },
   "outputs": [
    {
     "name": "stdout",
     "output_type": "stream",
     "text": [
      "En el índice 0 la letra es a\n",
      "En el índice 1 la letra es b\n",
      "En el índice 2 la letra es c\n",
      "En el índice 3 la letra es d\n",
      "En el índice 4 la letra es e\n"
     ]
    }
   ],
   "source": [
    "index_count = 0\n",
    "\n",
    "for letter in 'abcde':\n",
    "    print(f\"En el índice {index_count} la letra es {letter}\")\n",
    "    index_count += 1"
   ]
  },
  {
   "cell_type": "markdown",
   "metadata": {
    "id": "FLJplka5lH67"
   },
   "source": [
    "Hacer un seguimiento de cuántos ciclos o bucles se han generado es tan común, que se creó la **enumerate()** para no tener que preocuparse por crear y actualizar esta variable *index_coun*t o *loop_count*."
   ]
  },
  {
   "cell_type": "code",
   "execution_count": 10,
   "metadata": {
    "colab": {
     "base_uri": "https://localhost:8080/"
    },
    "executionInfo": {
     "elapsed": 265,
     "status": "ok",
     "timestamp": 1637942975029,
     "user": {
      "displayName": "Maria Julliette Marin Alarcon",
      "photoUrl": "https://lh3.googleusercontent.com/a/default-user=s64",
      "userId": "14948341870893292997"
     },
     "user_tz": 240
    },
    "id": "G_x6J_0slH68",
    "outputId": "48155fb9-2b5d-4ec6-b415-af2359197764"
   },
   "outputs": [
    {
     "name": "stdout",
     "output_type": "stream",
     "text": [
      "En el índice 0 la letra es a\n",
      "En el índice 1 la letra es b\n",
      "En el índice 2 la letra es c\n",
      "En el índice 3 la letra es d\n",
      "En el índice 4 la letra es e\n"
     ]
    }
   ],
   "source": [
    "# enumarate() crea tuplas con las letras del string y su indice. \n",
    "# Fíjate en el desempaquetado de la tupla (tuple unpacking) en la cláusula for!\n",
    "\n",
    "for i,letter in enumerate('abcde'):\n",
    "    print(f\"En el índice {i} la letra es {letter}\")"
   ]
  },
  {
   "cell_type": "code",
   "execution_count": 11,
   "metadata": {
    "colab": {
     "base_uri": "https://localhost:8080/"
    },
    "executionInfo": {
     "elapsed": 262,
     "status": "ok",
     "timestamp": 1637943037691,
     "user": {
      "displayName": "Maria Julliette Marin Alarcon",
      "photoUrl": "https://lh3.googleusercontent.com/a/default-user=s64",
      "userId": "14948341870893292997"
     },
     "user_tz": 240
    },
    "id": "croixpDrlH68",
    "outputId": "4c6e0b3a-0e12-43b3-f64e-339619e5958b"
   },
   "outputs": [
    {
     "data": {
      "text/plain": [
       "enumerate"
      ]
     },
     "execution_count": 11,
     "metadata": {},
     "output_type": "execute_result"
    }
   ],
   "source": [
    "type(enumerate('abcde'))"
   ]
  },
  {
   "cell_type": "markdown",
   "metadata": {
    "id": "-kMFAFOWlH69"
   },
   "source": [
    "### zip( )\n",
    "\n",
    "Observa lo que **enumerate** realmente devuelve, echemos un vistazo transformándolo en una lista."
   ]
  },
  {
   "cell_type": "code",
   "execution_count": 12,
   "metadata": {
    "colab": {
     "base_uri": "https://localhost:8080/"
    },
    "executionInfo": {
     "elapsed": 368,
     "status": "ok",
     "timestamp": 1637943067801,
     "user": {
      "displayName": "Maria Julliette Marin Alarcon",
      "photoUrl": "https://lh3.googleusercontent.com/a/default-user=s64",
      "userId": "14948341870893292997"
     },
     "user_tz": 240
    },
    "id": "lYgN_rmLlH69",
    "outputId": "23e16eae-7eb2-48a9-b340-923bb10868d3"
   },
   "outputs": [
    {
     "data": {
      "text/plain": [
       "[(0, 'a'), (1, 'b'), (2, 'c'), (3, 'd'), (4, 'e')]"
      ]
     },
     "execution_count": 12,
     "metadata": {},
     "output_type": "execute_result"
    }
   ],
   "source": [
    "list(enumerate('abcde'))"
   ]
  },
  {
   "cell_type": "markdown",
   "metadata": {
    "id": "drVa4UUAlH69"
   },
   "source": [
    "Era una lista de tuplas, lo que significa que podríamos usar el desempaquetado de tuplas durante nuestro ciclo for. Esta estructura de datos es muy común en Python, especialmente cuando se trabaja con bibliotecas externas. Puede utilizar la función **zip( )** para crear rápidamente una lista de tuplas \"comprimiendo\" dos listas juntas."
   ]
  },
  {
   "cell_type": "code",
   "execution_count": 13,
   "metadata": {
    "id": "JY3S_xkelH6-"
   },
   "outputs": [],
   "source": [
    "# Creamos dos listas\n",
    "\n",
    "mylist1 = [1, 2, 3, 4, 5]\n",
    "mylist2 = ['a', 'b', 'c', 'd', 'e']"
   ]
  },
  {
   "cell_type": "code",
   "execution_count": 14,
   "metadata": {
    "colab": {
     "base_uri": "https://localhost:8080/"
    },
    "executionInfo": {
     "elapsed": 300,
     "status": "ok",
     "timestamp": 1637943141925,
     "user": {
      "displayName": "Maria Julliette Marin Alarcon",
      "photoUrl": "https://lh3.googleusercontent.com/a/default-user=s64",
      "userId": "14948341870893292997"
     },
     "user_tz": 240
    },
    "id": "RTm3M9T0lH6_",
    "outputId": "ed19b350-2cbb-44b5-f630-3e167c696fb0"
   },
   "outputs": [
    {
     "data": {
      "text/plain": [
       "<zip at 0x292ec324740>"
      ]
     },
     "execution_count": 14,
     "metadata": {},
     "output_type": "execute_result"
    }
   ],
   "source": [
    "# ¡Este también es un generador! Explicaremos esto más adelante, pero por ahora transformémoslo\n",
    "# en una lista.\n",
    "# Al ejecutarlo no entregará nada útil. Debemos recorrerlo e iterar sobre él\n",
    "\n",
    "zip(mylist1, mylist2)"
   ]
  },
  {
   "cell_type": "code",
   "execution_count": 15,
   "metadata": {
    "colab": {
     "base_uri": "https://localhost:8080/"
    },
    "executionInfo": {
     "elapsed": 270,
     "status": "ok",
     "timestamp": 1637943169127,
     "user": {
      "displayName": "Maria Julliette Marin Alarcon",
      "photoUrl": "https://lh3.googleusercontent.com/a/default-user=s64",
      "userId": "14948341870893292997"
     },
     "user_tz": 240
    },
    "id": "FqEIOmyBlH6_",
    "outputId": "c1446dc3-7caf-4adb-fe3d-4bd164afc816"
   },
   "outputs": [
    {
     "data": {
      "text/plain": [
       "[(1, 'a'), (2, 'b'), (3, 'c'), (4, 'd'), (5, 'e')]"
      ]
     },
     "execution_count": 15,
     "metadata": {},
     "output_type": "execute_result"
    }
   ],
   "source": [
    "list(zip(mylist1, mylist2))"
   ]
  },
  {
   "cell_type": "markdown",
   "metadata": {
    "id": "CIZREVVflH7A"
   },
   "source": [
    "Para usar el generador, podríamos usar un ciclo for"
   ]
  },
  {
   "cell_type": "code",
   "execution_count": 16,
   "metadata": {
    "colab": {
     "base_uri": "https://localhost:8080/"
    },
    "executionInfo": {
     "elapsed": 263,
     "status": "ok",
     "timestamp": 1637943178535,
     "user": {
      "displayName": "Maria Julliette Marin Alarcon",
      "photoUrl": "https://lh3.googleusercontent.com/a/default-user=s64",
      "userId": "14948341870893292997"
     },
     "user_tz": 240
    },
    "id": "hO1NBeFnlH7A",
    "outputId": "8b7e018c-6dab-4dde-ee10-beae105bee7f"
   },
   "outputs": [
    {
     "name": "stdout",
     "output_type": "stream",
     "text": [
      "En esta tupla, el primer elemento es 1, y el segundo elemento es a\n",
      "En esta tupla, el primer elemento es 2, y el segundo elemento es b\n",
      "En esta tupla, el primer elemento es 3, y el segundo elemento es c\n",
      "En esta tupla, el primer elemento es 4, y el segundo elemento es d\n",
      "En esta tupla, el primer elemento es 5, y el segundo elemento es e\n"
     ]
    }
   ],
   "source": [
    "for item1, item2 in zip(mylist1, mylist2):\n",
    "    print(f'En esta tupla, el primer elemento es {item1}, y el segundo elemento es {item2}')"
   ]
  },
  {
   "cell_type": "markdown",
   "metadata": {
    "id": "tLftOMR1lH7A"
   },
   "source": [
    "### el operador in\n",
    "Ya hemos visto la palabra clave **in** durante el ciclo **for**, pero también podemos usarla para verificar rápidamente si un objeto está en una lista."
   ]
  },
  {
   "cell_type": "code",
   "execution_count": 17,
   "metadata": {
    "colab": {
     "base_uri": "https://localhost:8080/"
    },
    "executionInfo": {
     "elapsed": 292,
     "status": "ok",
     "timestamp": 1637943228449,
     "user": {
      "displayName": "Maria Julliette Marin Alarcon",
      "photoUrl": "https://lh3.googleusercontent.com/a/default-user=s64",
      "userId": "14948341870893292997"
     },
     "user_tz": 240
    },
    "id": "rGEumIXslH7A",
    "outputId": "4785cf0f-fd64-485c-e9e2-e6fbc4b980e8"
   },
   "outputs": [
    {
     "data": {
      "text/plain": [
       "True"
      ]
     },
     "execution_count": 17,
     "metadata": {},
     "output_type": "execute_result"
    }
   ],
   "source": [
    "'x' in ['x','y','z']"
   ]
  },
  {
   "cell_type": "code",
   "execution_count": 18,
   "metadata": {
    "colab": {
     "base_uri": "https://localhost:8080/"
    },
    "executionInfo": {
     "elapsed": 251,
     "status": "ok",
     "timestamp": 1637943247057,
     "user": {
      "displayName": "Maria Julliette Marin Alarcon",
      "photoUrl": "https://lh3.googleusercontent.com/a/default-user=s64",
      "userId": "14948341870893292997"
     },
     "user_tz": 240
    },
    "id": "E1yPOeJZlH7B",
    "outputId": "8dd741d8-bbfb-4b99-f54e-457799207f24"
   },
   "outputs": [
    {
     "data": {
      "text/plain": [
       "False"
      ]
     },
     "execution_count": 18,
     "metadata": {},
     "output_type": "execute_result"
    }
   ],
   "source": [
    "'x' in [1, 2, 3]"
   ]
  },
  {
   "cell_type": "code",
   "execution_count": 19,
   "metadata": {
    "colab": {
     "base_uri": "https://localhost:8080/"
    },
    "executionInfo": {
     "elapsed": 300,
     "status": "ok",
     "timestamp": 1637943258301,
     "user": {
      "displayName": "Maria Julliette Marin Alarcon",
      "photoUrl": "https://lh3.googleusercontent.com/a/default-user=s64",
      "userId": "14948341870893292997"
     },
     "user_tz": 240
    },
    "id": "h4gTJOWhlH7B",
    "outputId": "418e7203-61eb-43e3-bf64-4aa40e2563ae"
   },
   "outputs": [
    {
     "data": {
      "text/plain": [
       "False"
      ]
     },
     "execution_count": 19,
     "metadata": {},
     "output_type": "execute_result"
    }
   ],
   "source": [
    "# Cuidado con las mayúsculas y minúsculas\n",
    "'homer' in ['Marge', 'Bart', 'Homer', 'Lisa']"
   ]
  },
  {
   "cell_type": "code",
   "execution_count": 20,
   "metadata": {
    "colab": {
     "base_uri": "https://localhost:8080/"
    },
    "executionInfo": {
     "elapsed": 287,
     "status": "ok",
     "timestamp": 1637943263510,
     "user": {
      "displayName": "Maria Julliette Marin Alarcon",
      "photoUrl": "https://lh3.googleusercontent.com/a/default-user=s64",
      "userId": "14948341870893292997"
     },
     "user_tz": 240
    },
    "id": "hHh-0tOzlH7B",
    "outputId": "431b0b9a-8231-484f-a4d4-a095457ca281"
   },
   "outputs": [
    {
     "data": {
      "text/plain": [
       "True"
      ]
     },
     "execution_count": 20,
     "metadata": {},
     "output_type": "execute_result"
    }
   ],
   "source": [
    "simpson = ['Marge', 'Bart', 'Homer', 'Lisa']\n",
    "'Homer' in simpson"
   ]
  },
  {
   "cell_type": "markdown",
   "metadata": {
    "id": "D6t3V8Y4lH7B"
   },
   "source": [
    "No sólo con listas; intenta usar **in** con sets, diccionarios, strigns, etc."
   ]
  },
  {
   "cell_type": "code",
   "execution_count": 21,
   "metadata": {
    "colab": {
     "base_uri": "https://localhost:8080/"
    },
    "executionInfo": {
     "elapsed": 275,
     "status": "ok",
     "timestamp": 1637943267329,
     "user": {
      "displayName": "Maria Julliette Marin Alarcon",
      "photoUrl": "https://lh3.googleusercontent.com/a/default-user=s64",
      "userId": "14948341870893292997"
     },
     "user_tz": 240
    },
    "id": "M1kv2M9SlH7B",
    "outputId": "79d9019d-e4b7-4dcb-e30f-114bcd9b1e26"
   },
   "outputs": [
    {
     "data": {
      "text/plain": [
       "True"
      ]
     },
     "execution_count": 21,
     "metadata": {},
     "output_type": "execute_result"
    }
   ],
   "source": [
    "s = {1, 2, 3, 4, 5}\n",
    "3 in s"
   ]
  },
  {
   "cell_type": "code",
   "execution_count": 22,
   "metadata": {
    "colab": {
     "base_uri": "https://localhost:8080/"
    },
    "executionInfo": {
     "elapsed": 308,
     "status": "ok",
     "timestamp": 1637943273463,
     "user": {
      "displayName": "Maria Julliette Marin Alarcon",
      "photoUrl": "https://lh3.googleusercontent.com/a/default-user=s64",
      "userId": "14948341870893292997"
     },
     "user_tz": 240
    },
    "id": "skeljbC5lH7C",
    "outputId": "4a25c916-d2dd-42ea-c425-ce660afd7f29"
   },
   "outputs": [
    {
     "data": {
      "text/plain": [
       "True"
      ]
     },
     "execution_count": 22,
     "metadata": {},
     "output_type": "execute_result"
    }
   ],
   "source": [
    "d = {'a': 1, 'b': 2, 'c': 3}\n",
    "'a' in d"
   ]
  },
  {
   "cell_type": "code",
   "execution_count": 23,
   "metadata": {
    "colab": {
     "base_uri": "https://localhost:8080/"
    },
    "executionInfo": {
     "elapsed": 6,
     "status": "ok",
     "timestamp": 1637943275187,
     "user": {
      "displayName": "Maria Julliette Marin Alarcon",
      "photoUrl": "https://lh3.googleusercontent.com/a/default-user=s64",
      "userId": "14948341870893292997"
     },
     "user_tz": 240
    },
    "id": "24RqT0EvlH7C",
    "outputId": "29a191fa-c05f-4363-b40a-eb9e43975b01"
   },
   "outputs": [
    {
     "data": {
      "text/plain": [
       "True"
      ]
     },
     "execution_count": 23,
     "metadata": {},
     "output_type": "execute_result"
    }
   ],
   "source": [
    "1 in d.values()"
   ]
  },
  {
   "cell_type": "code",
   "execution_count": 24,
   "metadata": {
    "colab": {
     "base_uri": "https://localhost:8080/"
    },
    "executionInfo": {
     "elapsed": 330,
     "status": "ok",
     "timestamp": 1637943277397,
     "user": {
      "displayName": "Maria Julliette Marin Alarcon",
      "photoUrl": "https://lh3.googleusercontent.com/a/default-user=s64",
      "userId": "14948341870893292997"
     },
     "user_tz": 240
    },
    "id": "ry4kvGVOlH7C",
    "outputId": "4c25aa78-972f-4dda-b848-3e11ea6f0806"
   },
   "outputs": [
    {
     "data": {
      "text/plain": [
       "True"
      ]
     },
     "execution_count": 24,
     "metadata": {},
     "output_type": "execute_result"
    }
   ],
   "source": [
    "'hola' in 'hola mundo'"
   ]
  },
  {
   "cell_type": "markdown",
   "metadata": {
    "id": "l0BtXxbMlH7C"
   },
   "source": [
    "### min( ) y max( )\n",
    "Comprueba el mínimo o el máximo de una lista con estas funciones."
   ]
  },
  {
   "cell_type": "code",
   "execution_count": 25,
   "metadata": {
    "id": "1Q85hn8LlH7D"
   },
   "outputs": [],
   "source": [
    "mylist = [10, 20, 30, 40, 100]"
   ]
  },
  {
   "cell_type": "code",
   "execution_count": 26,
   "metadata": {
    "colab": {
     "base_uri": "https://localhost:8080/"
    },
    "executionInfo": {
     "elapsed": 237,
     "status": "ok",
     "timestamp": 1637943302872,
     "user": {
      "displayName": "Maria Julliette Marin Alarcon",
      "photoUrl": "https://lh3.googleusercontent.com/a/default-user=s64",
      "userId": "14948341870893292997"
     },
     "user_tz": 240
    },
    "id": "01VfxLemlH7D",
    "outputId": "2374901e-f7e5-45f9-d3e5-a59adba740a9"
   },
   "outputs": [
    {
     "data": {
      "text/plain": [
       "10"
      ]
     },
     "execution_count": 26,
     "metadata": {},
     "output_type": "execute_result"
    }
   ],
   "source": [
    "min(mylist)"
   ]
  },
  {
   "cell_type": "code",
   "execution_count": 27,
   "metadata": {
    "colab": {
     "base_uri": "https://localhost:8080/"
    },
    "executionInfo": {
     "elapsed": 261,
     "status": "ok",
     "timestamp": 1637943304436,
     "user": {
      "displayName": "Maria Julliette Marin Alarcon",
      "photoUrl": "https://lh3.googleusercontent.com/a/default-user=s64",
      "userId": "14948341870893292997"
     },
     "user_tz": 240
    },
    "id": "DB1MYG2slH7D",
    "outputId": "5ffde18d-8ea2-4042-aaf0-9d2277b1b0e5"
   },
   "outputs": [
    {
     "data": {
      "text/plain": [
       "100"
      ]
     },
     "execution_count": 27,
     "metadata": {},
     "output_type": "execute_result"
    }
   ],
   "source": [
    "max(mylist)"
   ]
  },
  {
   "cell_type": "code",
   "execution_count": 28,
   "metadata": {
    "colab": {
     "base_uri": "https://localhost:8080/",
     "height": 35
    },
    "executionInfo": {
     "elapsed": 304,
     "status": "ok",
     "timestamp": 1637943310575,
     "user": {
      "displayName": "Maria Julliette Marin Alarcon",
      "photoUrl": "https://lh3.googleusercontent.com/a/default-user=s64",
      "userId": "14948341870893292997"
     },
     "user_tz": 240
    },
    "id": "YE0epjQdlH7D",
    "outputId": "3add0fcf-7c46-4e8c-80b4-c87cca438aea"
   },
   "outputs": [
    {
     "data": {
      "text/plain": [
       "'Bart'"
      ]
     },
     "execution_count": 28,
     "metadata": {},
     "output_type": "execute_result"
    }
   ],
   "source": [
    "min(simpson)"
   ]
  },
  {
   "cell_type": "markdown",
   "metadata": {
    "id": "NAJvm1ySlH7E"
   },
   "source": [
    "### random( )\n",
    "\n",
    "Python viene con una biblioteca para generar números aleatorios incorporada. Hay muchas funciones incluidas en esta biblioteca, por lo que solo te mostraremos dos funciones útiles por ahora."
   ]
  },
  {
   "cell_type": "code",
   "execution_count": 29,
   "metadata": {
    "id": "PXMsW_tdlH7E"
   },
   "outputs": [],
   "source": [
    "from random import shuffle"
   ]
  },
  {
   "cell_type": "code",
   "execution_count": 30,
   "metadata": {
    "id": "irk1RH7slH7E"
   },
   "outputs": [],
   "source": [
    "# Esto baraja o cambia de posición los elementos de la lista \"en el lugar\", lo que significa que no volverá\n",
    "# cualquier cosa, en su lugar, afectará el orden de la lista pasada como argumento de la función\n",
    "\n",
    "shuffle(mylist)"
   ]
  },
  {
   "cell_type": "code",
   "execution_count": 31,
   "metadata": {
    "colab": {
     "base_uri": "https://localhost:8080/"
    },
    "executionInfo": {
     "elapsed": 274,
     "status": "ok",
     "timestamp": 1637943435799,
     "user": {
      "displayName": "Maria Julliette Marin Alarcon",
      "photoUrl": "https://lh3.googleusercontent.com/a/default-user=s64",
      "userId": "14948341870893292997"
     },
     "user_tz": 240
    },
    "id": "_SMh1oXdlH7E",
    "outputId": "d913be9f-c2a9-4eda-834b-e58741ca666b"
   },
   "outputs": [
    {
     "data": {
      "text/plain": [
       "[30, 100, 10, 40, 20]"
      ]
     },
     "execution_count": 31,
     "metadata": {},
     "output_type": "execute_result"
    }
   ],
   "source": [
    "mylist"
   ]
  },
  {
   "cell_type": "code",
   "execution_count": 32,
   "metadata": {
    "id": "n6wPsepUlH7E"
   },
   "outputs": [],
   "source": [
    "from random import randint"
   ]
  },
  {
   "cell_type": "code",
   "execution_count": 33,
   "metadata": {
    "colab": {
     "base_uri": "https://localhost:8080/"
    },
    "executionInfo": {
     "elapsed": 283,
     "status": "ok",
     "timestamp": 1637943538221,
     "user": {
      "displayName": "Maria Julliette Marin Alarcon",
      "photoUrl": "https://lh3.googleusercontent.com/a/default-user=s64",
      "userId": "14948341870893292997"
     },
     "user_tz": 240
    },
    "id": "VytkgoVOlH7F",
    "outputId": "33a74b99-1a66-4397-c1ef-aaeb49f18ade"
   },
   "outputs": [
    {
     "data": {
      "text/plain": [
       "15"
      ]
     },
     "execution_count": 33,
     "metadata": {},
     "output_type": "execute_result"
    }
   ],
   "source": [
    "# Devuelve un número entero aleatorio en el rango [a, b], incluidos ambos puntos finales.\n",
    "\n",
    "randint(0, 100)"
   ]
  },
  {
   "cell_type": "code",
   "execution_count": 34,
   "metadata": {
    "colab": {
     "base_uri": "https://localhost:8080/"
    },
    "executionInfo": {
     "elapsed": 275,
     "status": "ok",
     "timestamp": 1637943534319,
     "user": {
      "displayName": "Maria Julliette Marin Alarcon",
      "photoUrl": "https://lh3.googleusercontent.com/a/default-user=s64",
      "userId": "14948341870893292997"
     },
     "user_tz": 240
    },
    "id": "I53bFz1vlH7F",
    "outputId": "0cd2c643-c7e4-46c5-c2b0-993867ac67f6"
   },
   "outputs": [
    {
     "data": {
      "text/plain": [
       "18"
      ]
     },
     "execution_count": 34,
     "metadata": {},
     "output_type": "execute_result"
    }
   ],
   "source": [
    "# Otra vez para chequear ...\n",
    "\n",
    "randint(0,100)"
   ]
  },
  {
   "cell_type": "markdown",
   "metadata": {
    "id": "_gfHTHdjlH7F"
   },
   "source": [
    "### input( )\n",
    "Esta función ya la hemos usado. recuerda que devuelve un string."
   ]
  },
  {
   "cell_type": "code",
   "execution_count": 35,
   "metadata": {
    "colab": {
     "base_uri": "https://localhost:8080/"
    },
    "executionInfo": {
     "elapsed": 3225,
     "status": "ok",
     "timestamp": 1637943565666,
     "user": {
      "displayName": "Maria Julliette Marin Alarcon",
      "photoUrl": "https://lh3.googleusercontent.com/a/default-user=s64",
      "userId": "14948341870893292997"
     },
     "user_tz": 240
    },
    "id": "Pf20DiLolH7F",
    "outputId": "6df2e504-ea20-4898-c9d8-7481b0004ba8"
   },
   "outputs": [
    {
     "name": "stdout",
     "output_type": "stream",
     "text": [
      "Ingresa un número: 6\n"
     ]
    },
    {
     "data": {
      "text/plain": [
       "str"
      ]
     },
     "execution_count": 35,
     "metadata": {},
     "output_type": "execute_result"
    }
   ],
   "source": [
    "num= input('Ingresa un número: ')\n",
    "type(num)"
   ]
  },
  {
   "cell_type": "code",
   "execution_count": 36,
   "metadata": {
    "colab": {
     "base_uri": "https://localhost:8080/"
    },
    "executionInfo": {
     "elapsed": 11098,
     "status": "ok",
     "timestamp": 1637943579690,
     "user": {
      "displayName": "Maria Julliette Marin Alarcon",
      "photoUrl": "https://lh3.googleusercontent.com/a/default-user=s64",
      "userId": "14948341870893292997"
     },
     "user_tz": 240
    },
    "id": "sJjsNIHylH7F",
    "outputId": "3bd69f8b-b0ee-412c-eb3a-70682f95f8a7"
   },
   "outputs": [
    {
     "name": "stdout",
     "output_type": "stream",
     "text": [
      "Ingresa tu nombre: Roberto\n",
      "Mi nombre es Roberto\n"
     ]
    }
   ],
   "source": [
    "\n",
    "name = input('Ingresa tu nombre: ')\n",
    "print(f'Mi nombre es {name}')"
   ]
  },
  {
   "cell_type": "markdown",
   "metadata": {
    "id": "Nbn8A9kPlH7F"
   },
   "source": [
    "## <font color='blue'>**Operadores de comparación**</font>\n",
    "Hemos visto operadores de comparación anteriormente, pero repasemos rápidamente todos ellos:"
   ]
  },
  {
   "cell_type": "code",
   "execution_count": 37,
   "metadata": {
    "colab": {
     "base_uri": "https://localhost:8080/"
    },
    "executionInfo": {
     "elapsed": 307,
     "status": "ok",
     "timestamp": 1637943646573,
     "user": {
      "displayName": "Maria Julliette Marin Alarcon",
      "photoUrl": "https://lh3.googleusercontent.com/a/default-user=s64",
      "userId": "14948341870893292997"
     },
     "user_tz": 240
    },
    "id": "JyiU7yphlH7G",
    "outputId": "24df9ee4-df9c-4e4b-f3f2-d5f184276b43"
   },
   "outputs": [
    {
     "data": {
      "text/plain": [
       "True"
      ]
     },
     "execution_count": 37,
     "metadata": {},
     "output_type": "execute_result"
    }
   ],
   "source": [
    "# Less Than (menor que)\n",
    "1 < 2"
   ]
  },
  {
   "cell_type": "code",
   "execution_count": 38,
   "metadata": {
    "colab": {
     "base_uri": "https://localhost:8080/"
    },
    "executionInfo": {
     "elapsed": 242,
     "status": "ok",
     "timestamp": 1637943648253,
     "user": {
      "displayName": "Maria Julliette Marin Alarcon",
      "photoUrl": "https://lh3.googleusercontent.com/a/default-user=s64",
      "userId": "14948341870893292997"
     },
     "user_tz": 240
    },
    "id": "_MNMrkerlH7G",
    "outputId": "924bb6be-33a1-4740-b300-b568a2402371"
   },
   "outputs": [
    {
     "data": {
      "text/plain": [
       "False"
      ]
     },
     "execution_count": 38,
     "metadata": {},
     "output_type": "execute_result"
    }
   ],
   "source": [
    "# Great Than (mayor que)\n",
    "1 > 2"
   ]
  },
  {
   "cell_type": "code",
   "execution_count": 39,
   "metadata": {
    "colab": {
     "base_uri": "https://localhost:8080/"
    },
    "executionInfo": {
     "elapsed": 5,
     "status": "ok",
     "timestamp": 1637943649501,
     "user": {
      "displayName": "Maria Julliette Marin Alarcon",
      "photoUrl": "https://lh3.googleusercontent.com/a/default-user=s64",
      "userId": "14948341870893292997"
     },
     "user_tz": 240
    },
    "id": "-mtTwx9JlH7G",
    "outputId": "67423a01-92a7-48c4-b765-9da791cd0c0b"
   },
   "outputs": [
    {
     "data": {
      "text/plain": [
       "True"
      ]
     },
     "execution_count": 39,
     "metadata": {},
     "output_type": "execute_result"
    }
   ],
   "source": [
    "# Check for equality (igualdad)\n",
    "1 == 1"
   ]
  },
  {
   "cell_type": "code",
   "execution_count": 40,
   "metadata": {
    "colab": {
     "base_uri": "https://localhost:8080/"
    },
    "executionInfo": {
     "elapsed": 357,
     "status": "ok",
     "timestamp": 1637943679286,
     "user": {
      "displayName": "Maria Julliette Marin Alarcon",
      "photoUrl": "https://lh3.googleusercontent.com/a/default-user=s64",
      "userId": "14948341870893292997"
     },
     "user_tz": 240
    },
    "id": "aCwEKMmqlH7G",
    "outputId": "5cd86956-3b27-4520-d1a9-90dfd6786349"
   },
   "outputs": [
    {
     "data": {
      "text/plain": [
       "False"
      ]
     },
     "execution_count": 40,
     "metadata": {},
     "output_type": "execute_result"
    }
   ],
   "source": [
    "# Check for inequality (desigualdad)\n",
    "1 != 1"
   ]
  },
  {
   "cell_type": "code",
   "execution_count": 41,
   "metadata": {
    "colab": {
     "base_uri": "https://localhost:8080/"
    },
    "executionInfo": {
     "elapsed": 337,
     "status": "ok",
     "timestamp": 1637943687677,
     "user": {
      "displayName": "Maria Julliette Marin Alarcon",
      "photoUrl": "https://lh3.googleusercontent.com/a/default-user=s64",
      "userId": "14948341870893292997"
     },
     "user_tz": 240
    },
    "id": "keMDxx_MlH7H",
    "outputId": "94aec309-24d6-456f-d9a2-362d2fb2d01f"
   },
   "outputs": [
    {
     "data": {
      "text/plain": [
       "True"
      ]
     },
     "execution_count": 41,
     "metadata": {},
     "output_type": "execute_result"
    }
   ],
   "source": [
    "# Less than or equal to (menor o igua que)\n",
    "1 <= 3"
   ]
  },
  {
   "cell_type": "code",
   "execution_count": 42,
   "metadata": {
    "colab": {
     "base_uri": "https://localhost:8080/"
    },
    "executionInfo": {
     "elapsed": 320,
     "status": "ok",
     "timestamp": 1637943701426,
     "user": {
      "displayName": "Maria Julliette Marin Alarcon",
      "photoUrl": "https://lh3.googleusercontent.com/a/default-user=s64",
      "userId": "14948341870893292997"
     },
     "user_tz": 240
    },
    "id": "xo5wcykvlH7H",
    "outputId": "22183463-9ba5-40aa-ed9d-cc69e6b4a84f"
   },
   "outputs": [
    {
     "data": {
      "text/plain": [
       "True"
      ]
     },
     "execution_count": 42,
     "metadata": {},
     "output_type": "execute_result"
    }
   ],
   "source": [
    "# Greater than of equal to (mayor o igual que)\n",
    "1 >= 1"
   ]
  },
  {
   "cell_type": "markdown",
   "metadata": {
    "id": "8v7Sf_XllH7H"
   },
   "source": [
    "## <font color='blue'>**Operadores lógicos (Logical Operators)**</font>\n",
    "\n",
    "Ahora que conocemos los operadores de comparación, podemos usar operadores lógicos para combinar múltiples comparaciones (en general, múltiples declaraciones booleanas)"
   ]
  },
  {
   "cell_type": "markdown",
   "metadata": {
    "id": "lgpbi2UDlH7H"
   },
   "source": [
    "### and\n",
    "Úsalo cuando quieras comprobar que ambas declaraciones son verdaderas (**True**)"
   ]
  },
  {
   "cell_type": "code",
   "execution_count": 43,
   "metadata": {
    "colab": {
     "base_uri": "https://localhost:8080/"
    },
    "executionInfo": {
     "elapsed": 283,
     "status": "ok",
     "timestamp": 1637943726670,
     "user": {
      "displayName": "Maria Julliette Marin Alarcon",
      "photoUrl": "https://lh3.googleusercontent.com/a/default-user=s64",
      "userId": "14948341870893292997"
     },
     "user_tz": 240
    },
    "id": "HQP0uuvhlH7H",
    "outputId": "589b06ce-651a-42c9-a20c-8d9231a8eba9"
   },
   "outputs": [
    {
     "data": {
      "text/plain": [
       "True"
      ]
     },
     "execution_count": 43,
     "metadata": {},
     "output_type": "execute_result"
    }
   ],
   "source": [
    "# Verdadero y Verdadero es Verdadero\n",
    "\n",
    "1 == 1 and 2 == 2"
   ]
  },
  {
   "cell_type": "code",
   "execution_count": 44,
   "metadata": {
    "colab": {
     "base_uri": "https://localhost:8080/"
    },
    "executionInfo": {
     "elapsed": 359,
     "status": "ok",
     "timestamp": 1637943728395,
     "user": {
      "displayName": "Maria Julliette Marin Alarcon",
      "photoUrl": "https://lh3.googleusercontent.com/a/default-user=s64",
      "userId": "14948341870893292997"
     },
     "user_tz": 240
    },
    "id": "a8Aw2pZylH7I",
    "outputId": "9cdced9c-b3f3-4fea-99fd-f32e6ff784e6"
   },
   "outputs": [
    {
     "data": {
      "text/plain": [
       "False"
      ]
     },
     "execution_count": 44,
     "metadata": {},
     "output_type": "execute_result"
    }
   ],
   "source": [
    "# Verdadero y Falso es Falso\n",
    "1 == 1 and 2 == 1"
   ]
  },
  {
   "cell_type": "code",
   "execution_count": 45,
   "metadata": {
    "colab": {
     "base_uri": "https://localhost:8080/"
    },
    "executionInfo": {
     "elapsed": 6,
     "status": "ok",
     "timestamp": 1637943729367,
     "user": {
      "displayName": "Maria Julliette Marin Alarcon",
      "photoUrl": "https://lh3.googleusercontent.com/a/default-user=s64",
      "userId": "14948341870893292997"
     },
     "user_tz": 240
    },
    "id": "WiGgw7jdlH7I",
    "outputId": "0104d78b-e889-4032-a43b-b6de435c6fda"
   },
   "outputs": [
    {
     "data": {
      "text/plain": [
       "False"
      ]
     },
     "execution_count": 45,
     "metadata": {},
     "output_type": "execute_result"
    }
   ],
   "source": [
    "# Falso y Falso es Falso\n",
    "1 == 2 and 2 == 1"
   ]
  },
  {
   "cell_type": "markdown",
   "metadata": {
    "id": "k85WsLRllH7I"
   },
   "source": [
    "### or\n",
    "Úsalo cuando solo una declaración debe ser verdadera (**True**)"
   ]
  },
  {
   "cell_type": "code",
   "execution_count": 46,
   "metadata": {
    "colab": {
     "base_uri": "https://localhost:8080/"
    },
    "executionInfo": {
     "elapsed": 306,
     "status": "ok",
     "timestamp": 1637943739515,
     "user": {
      "displayName": "Maria Julliette Marin Alarcon",
      "photoUrl": "https://lh3.googleusercontent.com/a/default-user=s64",
      "userId": "14948341870893292997"
     },
     "user_tz": 240
    },
    "id": "GGsVkLvHlH7I",
    "outputId": "5ab5a18b-8da5-4eff-ce65-515f37260ac0"
   },
   "outputs": [
    {
     "data": {
      "text/plain": [
       "True"
      ]
     },
     "execution_count": 46,
     "metadata": {},
     "output_type": "execute_result"
    }
   ],
   "source": [
    "# Verdadero o Verdadero es Verdadero\n",
    "\n",
    "1 == 1 or 2 == 2"
   ]
  },
  {
   "cell_type": "code",
   "execution_count": 47,
   "metadata": {
    "colab": {
     "base_uri": "https://localhost:8080/"
    },
    "executionInfo": {
     "elapsed": 389,
     "status": "ok",
     "timestamp": 1637943741201,
     "user": {
      "displayName": "Maria Julliette Marin Alarcon",
      "photoUrl": "https://lh3.googleusercontent.com/a/default-user=s64",
      "userId": "14948341870893292997"
     },
     "user_tz": 240
    },
    "id": "9yZNrBwClH7I",
    "outputId": "5685a22a-8b35-4ee2-ac27-260aaf97f73d"
   },
   "outputs": [
    {
     "data": {
      "text/plain": [
       "True"
      ]
     },
     "execution_count": 47,
     "metadata": {},
     "output_type": "execute_result"
    }
   ],
   "source": [
    "# Verdadero o Falso es Verdadero\n",
    "\n",
    "1 == 1 or 2 == 10"
   ]
  },
  {
   "cell_type": "code",
   "execution_count": 48,
   "metadata": {
    "colab": {
     "base_uri": "https://localhost:8080/"
    },
    "executionInfo": {
     "elapsed": 265,
     "status": "ok",
     "timestamp": 1637943745051,
     "user": {
      "displayName": "Maria Julliette Marin Alarcon",
      "photoUrl": "https://lh3.googleusercontent.com/a/default-user=s64",
      "userId": "14948341870893292997"
     },
     "user_tz": 240
    },
    "id": "2bZfPvPqlH7J",
    "outputId": "98018d8f-da92-4deb-b5c7-6232d5c940f3"
   },
   "outputs": [
    {
     "data": {
      "text/plain": [
       "False"
      ]
     },
     "execution_count": 48,
     "metadata": {},
     "output_type": "execute_result"
    }
   ],
   "source": [
    "# Falso o Falso es Falso\n",
    "\n",
    "1 == 2 or 2 == 10"
   ]
  },
  {
   "cell_type": "markdown",
   "metadata": {
    "id": "w-Ye_sBLlH7J"
   },
   "source": [
    "### not\n",
    "El operador **not**  invierte el valor booleano"
   ]
  },
  {
   "cell_type": "code",
   "execution_count": 49,
   "metadata": {
    "colab": {
     "base_uri": "https://localhost:8080/"
    },
    "executionInfo": {
     "elapsed": 435,
     "status": "ok",
     "timestamp": 1637943753246,
     "user": {
      "displayName": "Maria Julliette Marin Alarcon",
      "photoUrl": "https://lh3.googleusercontent.com/a/default-user=s64",
      "userId": "14948341870893292997"
     },
     "user_tz": 240
    },
    "id": "dfQMfHRmlH7J",
    "outputId": "87ac5413-83a9-4aee-a853-9847a022100c"
   },
   "outputs": [
    {
     "data": {
      "text/plain": [
       "False"
      ]
     },
     "execution_count": 49,
     "metadata": {},
     "output_type": "execute_result"
    }
   ],
   "source": [
    "not 1 == 1"
   ]
  },
  {
   "cell_type": "code",
   "execution_count": 50,
   "metadata": {
    "colab": {
     "base_uri": "https://localhost:8080/"
    },
    "executionInfo": {
     "elapsed": 5,
     "status": "ok",
     "timestamp": 1637943754608,
     "user": {
      "displayName": "Maria Julliette Marin Alarcon",
      "photoUrl": "https://lh3.googleusercontent.com/a/default-user=s64",
      "userId": "14948341870893292997"
     },
     "user_tz": 240
    },
    "id": "f--JJZkylH7J",
    "outputId": "f8aec655-af35-4e19-dcd6-2f979e1f9b96"
   },
   "outputs": [
    {
     "data": {
      "text/plain": [
       "True"
      ]
     },
     "execution_count": 50,
     "metadata": {},
     "output_type": "execute_result"
    }
   ],
   "source": [
    "# No es muy común ver algo como esto, pero funciona\n",
    "\n",
    "1 == 1 and not 2 == 3"
   ]
  },
  {
   "cell_type": "code",
   "execution_count": 51,
   "metadata": {
    "colab": {
     "base_uri": "https://localhost:8080/"
    },
    "executionInfo": {
     "elapsed": 4,
     "status": "ok",
     "timestamp": 1637943755451,
     "user": {
      "displayName": "Maria Julliette Marin Alarcon",
      "photoUrl": "https://lh3.googleusercontent.com/a/default-user=s64",
      "userId": "14948341870893292997"
     },
     "user_tz": 240
    },
    "id": "jphScemAlH7K",
    "outputId": "a2e43ad2-aac0-48be-ea67-b8fce9f49240"
   },
   "outputs": [
    {
     "name": "stdout",
     "output_type": "stream",
     "text": [
      "Exito!\n"
     ]
    }
   ],
   "source": [
    "# Un ejemplo más realista\n",
    "\n",
    "respuesta = 'no'\n",
    "if 1 == 1 and not respuesta == 'yes':\n",
    "    print(\"Exito!\")"
   ]
  },
  {
   "cell_type": "code",
   "execution_count": 52,
   "metadata": {
    "colab": {
     "base_uri": "https://localhost:8080/"
    },
    "executionInfo": {
     "elapsed": 248,
     "status": "ok",
     "timestamp": 1637943765207,
     "user": {
      "displayName": "Maria Julliette Marin Alarcon",
      "photoUrl": "https://lh3.googleusercontent.com/a/default-user=s64",
      "userId": "14948341870893292997"
     },
     "user_tz": 240
    },
    "id": "-EuqembQlH7K",
    "outputId": "1675e6ff-bec1-41b9-ff20-5ff4daf3a31f"
   },
   "outputs": [
    {
     "name": "stdout",
     "output_type": "stream",
     "text": [
      "Exito!\n"
     ]
    }
   ],
   "source": [
    "# Lo mismo\n",
    "\n",
    "respuesta = 'no'\n",
    "if 1 ==1 and respuesta != 'yes':\n",
    "    print(\"Exito!\")"
   ]
  },
  {
   "cell_type": "markdown",
   "metadata": {
    "id": "HNWjIVxflH7K"
   },
   "source": [
    "## <font color='green'>Activida 2: </font> \n",
    "### Trabajando con Operadores Lógicos\n",
    "¿Cuál es el resultado (True o False) de una expresión como esta?\n",
    "```Python \n",
    "    True and False or True and False\n",
    "```"
   ]
  },
  {
   "cell_type": "code",
   "execution_count": 53,
   "metadata": {
    "colab": {
     "base_uri": "https://localhost:8080/"
    },
    "executionInfo": {
     "elapsed": 312,
     "status": "ok",
     "timestamp": 1638497437798,
     "user": {
      "displayName": "Maria Julliette Marin Alarcon",
      "photoUrl": "https://lh3.googleusercontent.com/a/default-user=s64",
      "userId": "14948341870893292997"
     },
     "user_tz": 240
    },
    "id": "d_0ohijZlH7L",
    "outputId": "eb418d96-efce-49a6-a158-ae1210925de8"
   },
   "outputs": [
    {
     "data": {
      "text/plain": [
       "False"
      ]
     },
     "execution_count": 53,
     "metadata": {},
     "output_type": "execute_result"
    }
   ],
   "source": [
    "# Tu código aquí ...\n",
    "# El resultado de esta expresión es\n",
    "# True and False = False\n",
    "# False or True = True\n",
    "# True and False = False\n",
    "# Por lo tanto el resultado final es False\n",
    "True and False or True and False\n"
   ]
  },
  {
   "cell_type": "markdown",
   "metadata": {
    "id": "XTriT5C8lH7L"
   },
   "source": [
    "<font color='green'>Fin actividad 2</font>"
   ]
  },
  {
   "cell_type": "markdown",
   "metadata": {
    "id": "5kGXtHsZlH7M"
   },
   "source": [
    "## <font color='green'>Actividad 3: </font> \n",
    "### Trabajando con Operadores Lógicos\n",
    "\n",
    "¿Cuál es el resultado (True o False) de una expresión como esta?\n",
    "```Python\n",
    "    True or False and True or False\n",
    "```"
   ]
  },
  {
   "cell_type": "code",
   "execution_count": 54,
   "metadata": {
    "colab": {
     "base_uri": "https://localhost:8080/"
    },
    "executionInfo": {
     "elapsed": 348,
     "status": "ok",
     "timestamp": 1638497340015,
     "user": {
      "displayName": "Maria Julliette Marin Alarcon",
      "photoUrl": "https://lh3.googleusercontent.com/a/default-user=s64",
      "userId": "14948341870893292997"
     },
     "user_tz": 240
    },
    "id": "Wm9rlYRdlH7M",
    "outputId": "c7580a82-f5b5-4f62-9393-577afea7f282"
   },
   "outputs": [
    {
     "data": {
      "text/plain": [
       "True"
      ]
     },
     "execution_count": 54,
     "metadata": {},
     "output_type": "execute_result"
    }
   ],
   "source": [
    "# Tu código aquí ...\n",
    "# El resultado de esta expresión es\n",
    "# True or False = True\n",
    "# True and True = True\n",
    "# True or False = True\n",
    "# Por lo tanto el resultado final es False\n",
    "True or False and True or False\n"
   ]
  },
  {
   "cell_type": "markdown",
   "metadata": {
    "id": "j50nY96ulH7M"
   },
   "source": [
    "<font color='green'>Fin actividad 3</font>"
   ]
  },
  {
   "cell_type": "markdown",
   "metadata": {
    "id": "WFCgutERlH7M"
   },
   "source": [
    "## <font color='green'>Actividad 4: </font> \n",
    "### Trabajando con Operadores Lógicos\n",
    "Escribe una expresión como la siguiente, pero usando números\n",
    "```Python\n",
    "    True or False and True or False\n",
    "```\n",
    "Tip:\n",
    "```Python\n",
    "    1 == 1\n",
    "    True\n",
    "```"
   ]
  },
  {
   "cell_type": "code",
   "execution_count": 55,
   "metadata": {
    "colab": {
     "base_uri": "https://localhost:8080/"
    },
    "executionInfo": {
     "elapsed": 339,
     "status": "ok",
     "timestamp": 1638497483066,
     "user": {
      "displayName": "Maria Julliette Marin Alarcon",
      "photoUrl": "https://lh3.googleusercontent.com/a/default-user=s64",
      "userId": "14948341870893292997"
     },
     "user_tz": 240
    },
    "id": "eaXGC3dMlH7M",
    "outputId": "a1f5910a-6c0f-4aff-88f2-f64fd6040709"
   },
   "outputs": [
    {
     "data": {
      "text/plain": [
       "True"
      ]
     },
     "execution_count": 55,
     "metadata": {},
     "output_type": "execute_result"
    }
   ],
   "source": [
    "# Tu código aquí ...\n",
    "# El equivalente a la expresión True or False and True or False en números puede ser:\n",
    "1 == 1 or 1 == 2 and 2 == 2 or 2 == 3"
   ]
  },
  {
   "cell_type": "markdown",
   "metadata": {
    "id": "kXUrLW2xlH7N"
   },
   "source": [
    "<font color='green'>Fin actividad 4</font>"
   ]
  }
 ],
 "metadata": {
  "colab": {
   "name": "FP15-Operadores_utiles-ok.ipynb",
   "provenance": []
  },
  "kernelspec": {
   "display_name": "Python 3 (ipykernel)",
   "language": "python",
   "name": "python3"
  },
  "language_info": {
   "codemirror_mode": {
    "name": "ipython",
    "version": 3
   },
   "file_extension": ".py",
   "mimetype": "text/x-python",
   "name": "python",
   "nbconvert_exporter": "python",
   "pygments_lexer": "ipython3",
   "version": "3.10.5"
  }
 },
 "nbformat": 4,
 "nbformat_minor": 1
}
