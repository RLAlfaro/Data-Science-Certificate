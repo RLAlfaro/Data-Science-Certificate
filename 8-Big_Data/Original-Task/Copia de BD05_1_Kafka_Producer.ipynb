{
  "nbformat": 4,
  "nbformat_minor": 0,
  "metadata": {
    "kernelspec": {
      "display_name": "Python 3",
      "language": "python",
      "name": "python3"
    },
    "language_info": {
      "codemirror_mode": {
        "name": "ipython",
        "version": 3
      },
      "file_extension": ".py",
      "mimetype": "text/x-python",
      "name": "python",
      "nbconvert_exporter": "python",
      "pygments_lexer": "ipython3",
      "version": "3.6.10"
    },
    "colab": {
      "name": "BD05.1-Kafka-Producer.ipynb",
      "provenance": [],
      "collapsed_sections": []
    }
  },
  "cells": [
    {
      "cell_type": "markdown",
      "metadata": {
        "id": "jkUwB3ezFZ_K"
      },
      "source": [
        "# **Kafka**\n"
      ]
    },
    {
      "cell_type": "code",
      "source": [
        "!pip install kafka-python"
      ],
      "metadata": {
        "id": "kmsweI3ee9mY",
        "colab": {
          "base_uri": "https://localhost:8080/"
        },
        "outputId": "ef431869-eaa0-4886-a27e-d738d63b9828"
      },
      "execution_count": null,
      "outputs": [
        {
          "output_type": "stream",
          "name": "stdout",
          "text": [
            "Collecting kafka-python\n",
            "  Downloading kafka_python-2.0.2-py2.py3-none-any.whl (246 kB)\n",
            "\u001b[K     |████████████████████████████████| 246 kB 4.3 MB/s \n",
            "\u001b[?25hInstalling collected packages: kafka-python\n",
            "Successfully installed kafka-python-2.0.2\n"
          ]
        }
      ]
    },
    {
      "cell_type": "code",
      "source": [
        "import time\n",
        "import json\n",
        "import kafka\n",
        "from kafka import KafkaProducer,KafkaConsumer\n",
        "from kafka.errors import KafkaError\n",
        "from random import *\n",
        "import pandas as pd"
      ],
      "metadata": {
        "id": "cpjVox9pfXn2"
      },
      "execution_count": null,
      "outputs": []
    },
    {
      "cell_type": "markdown",
      "source": [
        "Nos conectaremos a un servidor kafka en amazon."
      ],
      "metadata": {
        "id": "nvpQpNcWEd35"
      }
    },
    {
      "cell_type": "code",
      "source": [
        "producer = KafkaProducer(bootstrap_servers=['ec2-18-118-112-10.us-east-2.compute.amazonaws.com'])"
      ],
      "metadata": {
        "id": "2pSAoo5Re9ld"
      },
      "execution_count": null,
      "outputs": []
    },
    {
      "cell_type": "code",
      "source": [
        "admin_client = kafka.KafkaAdminClient(bootstrap_servers=['ec2-18-118-112-10.us-east-2.compute.amazonaws.com'])\n",
        "L = admin_client.list_topics()\n",
        "print(L)"
      ],
      "metadata": {
        "id": "K_UafIB6C7g5",
        "colab": {
          "base_uri": "https://localhost:8080/"
        },
        "outputId": "1e87af28-4dd0-43d3-a493-633e70f443b1"
      },
      "execution_count": null,
      "outputs": [
        {
          "output_type": "stream",
          "name": "stdout",
          "text": [
            "['G2-grupo5', 'G2-alarmas4-1', 'G2-alarmas4', 'Images3', 'G2-grupo1', 'G3-grupo5', 'grupo1', 'Sales', 'alarmas', 'diplomado', 'Images2', 'G3-grupo1', 'grupo4', 'G2-grupo4', 'G2-alarmas1', 'G3-grupo4', 'G2-alarmas3', 'G2-grupo2G2', 'CSV', 'G2-2', 'grupo5', 'numbers', '__consumer_offsets', 'G3-grupoX', 'G2-grupo3', 'G2-alarmas2', 'G2-Grupo3', 'grupo6', 'XXXX', 'G2-grupo7', 'G3-grupo3', 'G3', 'G2-alarmas6', 'grupo2', 'G3-grupo7', 'RUL_25', 'G2-alarmas', 'G2-alarmas5', 'wiki', 'RUL', 'grupo7', 'G2-grupo2', 'G1-grupo5', 'grupo3', 'Images22', 'G2-grupo6', 'G3-grupo6', 'G2-grupo4-1', 'wiki-7', 'G3-ALARMA', 'G3-grupo2', 'Images', 'Images_22']\n"
          ]
        }
      ]
    },
    {
      "cell_type": "markdown",
      "source": [
        "Creamos mensajes del tipo (key,value) y los publicamos en el tópico **G3-grupoX** (reemplazar **X** por el grupo que corresponda)."
      ],
      "metadata": {
        "id": "5idCOC2xEmAu"
      }
    },
    {
      "cell_type": "code",
      "source": [
        "topic_name = 'G3-grupo6'"
      ],
      "metadata": {
        "id": "9cJ9KwYUFH-7"
      },
      "execution_count": null,
      "outputs": []
    },
    {
      "cell_type": "code",
      "source": [
        "i = 1;\n",
        "while (i<=100):\n",
        "  v = randint(1,100)\n",
        "  msg = \"%d\" % v\n",
        "  key = \"%d\" % i\n",
        "  print(\"sending (%d,%d)\"%(i,v))\n",
        "  producer.send(topic_name, key=key.encode('utf-8'), value=msg.encode('utf-8'))\n",
        "  time.sleep(1)\n",
        "  i=i+1"
      ],
      "metadata": {
        "id": "nj6g9O4ahu_Y",
        "colab": {
          "base_uri": "https://localhost:8080/"
        },
        "outputId": "3eeb8826-e3a5-4894-edd6-86d3b1c29373"
      },
      "execution_count": null,
      "outputs": [
        {
          "output_type": "stream",
          "name": "stdout",
          "text": [
            "sending (1,92)\n",
            "sending (2,68)\n",
            "sending (3,61)\n",
            "sending (4,68)\n",
            "sending (5,16)\n",
            "sending (6,95)\n",
            "sending (7,20)\n",
            "sending (8,87)\n",
            "sending (9,82)\n",
            "sending (10,55)\n",
            "sending (11,100)\n",
            "sending (12,15)\n",
            "sending (13,62)\n",
            "sending (14,90)\n",
            "sending (15,14)\n",
            "sending (16,85)\n",
            "sending (17,44)\n",
            "sending (18,23)\n",
            "sending (19,10)\n",
            "sending (20,68)\n",
            "sending (21,51)\n",
            "sending (22,20)\n",
            "sending (23,98)\n",
            "sending (24,17)\n",
            "sending (25,10)\n",
            "sending (26,47)\n",
            "sending (27,92)\n",
            "sending (28,76)\n",
            "sending (29,26)\n",
            "sending (30,84)\n",
            "sending (31,37)\n",
            "sending (32,93)\n",
            "sending (33,84)\n",
            "sending (34,75)\n",
            "sending (35,45)\n",
            "sending (36,53)\n",
            "sending (37,25)\n",
            "sending (38,71)\n",
            "sending (39,17)\n",
            "sending (40,76)\n",
            "sending (41,96)\n",
            "sending (42,92)\n",
            "sending (43,4)\n",
            "sending (44,6)\n",
            "sending (45,60)\n",
            "sending (46,77)\n",
            "sending (47,38)\n",
            "sending (48,2)\n",
            "sending (49,66)\n",
            "sending (50,8)\n",
            "sending (51,36)\n",
            "sending (52,99)\n",
            "sending (53,76)\n",
            "sending (54,11)\n",
            "sending (55,17)\n",
            "sending (56,4)\n",
            "sending (57,37)\n",
            "sending (58,33)\n",
            "sending (59,5)\n",
            "sending (60,89)\n",
            "sending (61,90)\n",
            "sending (62,16)\n",
            "sending (63,50)\n",
            "sending (64,10)\n",
            "sending (65,55)\n",
            "sending (66,63)\n",
            "sending (67,90)\n",
            "sending (68,87)\n",
            "sending (69,93)\n",
            "sending (70,15)\n",
            "sending (71,49)\n",
            "sending (72,28)\n",
            "sending (73,74)\n",
            "sending (74,63)\n",
            "sending (75,79)\n",
            "sending (76,49)\n",
            "sending (77,14)\n",
            "sending (78,62)\n",
            "sending (79,9)\n",
            "sending (80,75)\n",
            "sending (81,31)\n",
            "sending (82,63)\n",
            "sending (83,32)\n",
            "sending (84,90)\n",
            "sending (85,61)\n",
            "sending (86,6)\n",
            "sending (87,3)\n",
            "sending (88,13)\n",
            "sending (89,49)\n",
            "sending (90,87)\n",
            "sending (91,67)\n",
            "sending (92,59)\n",
            "sending (93,8)\n",
            "sending (94,35)\n",
            "sending (95,37)\n",
            "sending (96,80)\n",
            "sending (97,12)\n",
            "sending (98,30)\n",
            "sending (99,42)\n",
            "sending (100,9)\n"
          ]
        }
      ]
    }
  ]
}