{
  "nbformat": 4,
  "nbformat_minor": 0,
  "metadata": {
    "colab": {
      "name": "Casos de Uso.ipynb",
      "provenance": [],
      "collapsed_sections": []
    },
    "kernelspec": {
      "name": "python3",
      "display_name": "Python 3"
    },
    "language_info": {
      "name": "python"
    }
  },
  "cells": [
    {
      "cell_type": "markdown",
      "source": [
        "# Casos de Uso"
      ],
      "metadata": {
        "id": "-bFDElnByoWi"
      }
    },
    {
      "cell_type": "markdown",
      "source": [
        "# Analisis Tiempo Real Precio Oro KafkaProducer\n",
        "\n",
        "## Instalación librerías"
      ],
      "metadata": {
        "id": "2JVlC6iWUter"
      }
    },
    {
      "cell_type": "code",
      "execution_count": null,
      "metadata": {
        "id": "pHpwU5N_S-jM"
      },
      "outputs": [],
      "source": [
        "!!curl -sSOL https://dlcdn.apache.org/kafka/3.1.0/kafka_2.13-3.1.0.tgz\n",
        "!tar -xzf kafka_2.13-3.1.0.tgz"
      ]
    },
    {
      "cell_type": "code",
      "source": [
        "!./kafka_2.13-3.1.0/bin/zookeeper-server-start.sh -daemon ./kafka_2.13-3.1.0/config/zookeeper.properties\n",
        "!./kafka_2.13-3.1.0/bin/kafka-server-start.sh -daemon ./kafka_2.13-3.1.0/config/server.properties\n",
        "!echo \"Waiting for 10 secs until kafka and zookeeper services are up and running\"\n",
        "!sleep 10"
      ],
      "metadata": {
        "colab": {
          "base_uri": "https://localhost:8080/"
        },
        "id": "97r4zD4SUxsD",
        "outputId": "de3732db-aeae-4e0a-bc82-a5190c1c52f2"
      },
      "execution_count": null,
      "outputs": [
        {
          "output_type": "stream",
          "name": "stdout",
          "text": [
            "Waiting for 10 secs until kafka and zookeeper services are up and running\n"
          ]
        }
      ]
    },
    {
      "cell_type": "code",
      "source": [
        "!ps -ef | grep kafka"
      ],
      "metadata": {
        "colab": {
          "base_uri": "https://localhost:8080/"
        },
        "id": "LsLFW-cxU1MA",
        "outputId": "50068e3a-f3d8-41c4-9b9f-494b74f271de"
      },
      "execution_count": null,
      "outputs": [
        {
          "output_type": "stream",
          "name": "stdout",
          "text": [
            "root         469       1 14 23:57 ?        00:00:01 java -Xmx512M -Xms512M -server -XX:+UseG1GC -XX:MaxGCPauseMillis=20 -XX:InitiatingHeapOccupancyPercent=35 -XX:+ExplicitGCInvokesConcurrent -XX:MaxInlineLevel=15 -Djava.awt.headless=true -Xlog:gc*:file=/content/kafka_2.13-3.1.0/bin/../logs/zookeeper-gc.log:time,tags:filecount=10,filesize=100M -Dcom.sun.management.jmxremote -Dcom.sun.management.jmxremote.authenticate=false -Dcom.sun.management.jmxremote.ssl=false -Dkafka.logs.dir=/content/kafka_2.13-3.1.0/bin/../logs -Dlog4j.configuration=file:./kafka_2.13-3.1.0/bin/../config/log4j.properties -cp /content/kafka_2.13-3.1.0/bin/../libs/activation-1.1.1.jar:/content/kafka_2.13-3.1.0/bin/../libs/aopalliance-repackaged-2.6.1.jar:/content/kafka_2.13-3.1.0/bin/../libs/argparse4j-0.7.0.jar:/content/kafka_2.13-3.1.0/bin/../libs/audience-annotations-0.5.0.jar:/content/kafka_2.13-3.1.0/bin/../libs/commons-cli-1.4.jar:/content/kafka_2.13-3.1.0/bin/../libs/commons-lang3-3.8.1.jar:/content/kafka_2.13-3.1.0/bin/../libs/connect-api-3.1.0.jar:/content/kafka_2.13-3.1.0/bin/../libs/connect-basic-auth-extension-3.1.0.jar:/content/kafka_2.13-3.1.0/bin/../libs/connect-file-3.1.0.jar:/content/kafka_2.13-3.1.0/bin/../libs/connect-json-3.1.0.jar:/content/kafka_2.13-3.1.0/bin/../libs/connect-mirror-3.1.0.jar:/content/kafka_2.13-3.1.0/bin/../libs/connect-mirror-client-3.1.0.jar:/content/kafka_2.13-3.1.0/bin/../libs/connect-runtime-3.1.0.jar:/content/kafka_2.13-3.1.0/bin/../libs/connect-transforms-3.1.0.jar:/content/kafka_2.13-3.1.0/bin/../libs/hk2-api-2.6.1.jar:/content/kafka_2.13-3.1.0/bin/../libs/hk2-locator-2.6.1.jar:/content/kafka_2.13-3.1.0/bin/../libs/hk2-utils-2.6.1.jar:/content/kafka_2.13-3.1.0/bin/../libs/jackson-annotations-2.12.3.jar:/content/kafka_2.13-3.1.0/bin/../libs/jackson-core-2.12.3.jar:/content/kafka_2.13-3.1.0/bin/../libs/jackson-databind-2.12.3.jar:/content/kafka_2.13-3.1.0/bin/../libs/jackson-dataformat-csv-2.12.3.jar:/content/kafka_2.13-3.1.0/bin/../libs/jackson-datatype-jdk8-2.12.3.jar:/content/kafka_2.13-3.1.0/bin/../libs/jackson-jaxrs-base-2.12.3.jar:/content/kafka_2.13-3.1.0/bin/../libs/jackson-jaxrs-json-provider-2.12.3.jar:/content/kafka_2.13-3.1.0/bin/../libs/jackson-module-jaxb-annotations-2.12.3.jar:/content/kafka_2.13-3.1.0/bin/../libs/jackson-module-scala_2.13-2.12.3.jar:/content/kafka_2.13-3.1.0/bin/../libs/jakarta.activation-api-1.2.1.jar:/content/kafka_2.13-3.1.0/bin/../libs/jakarta.annotation-api-1.3.5.jar:/content/kafka_2.13-3.1.0/bin/../libs/jakarta.inject-2.6.1.jar:/content/kafka_2.13-3.1.0/bin/../libs/jakarta.validation-api-2.0.2.jar:/content/kafka_2.13-3.1.0/bin/../libs/jakarta.ws.rs-api-2.1.6.jar:/content/kafka_2.13-3.1.0/bin/../libs/jakarta.xml.bind-api-2.3.2.jar:/content/kafka_2.13-3.1.0/bin/../libs/javassist-3.27.0-GA.jar:/content/kafka_2.13-3.1.0/bin/../libs/javax.servlet-api-3.1.0.jar:/content/kafka_2.13-3.1.0/bin/../libs/javax.ws.rs-api-2.1.1.jar:/content/kafka_2.13-3.1.0/bin/../libs/jaxb-api-2.3.0.jar:/content/kafka_2.13-3.1.0/bin/../libs/jersey-client-2.34.jar:/content/kafka_2.13-3.1.0/bin/../libs/jersey-common-2.34.jar:/content/kafka_2.13-3.1.0/bin/../libs/jersey-container-servlet-2.34.jar:/content/kafka_2.13-3.1.0/bin/../libs/jersey-container-servlet-core-2.34.jar:/content/kafka_2.13-3.1.0/bin/../libs/jersey-hk2-2.34.jar:/content/kafka_2.13-3.1.0/bin/../libs/jersey-server-2.34.jar:/content/kafka_2.13-3.1.0/bin/../libs/jetty-client-9.4.43.v20210629.jar:/content/kafka_2.13-3.1.0/bin/../libs/jetty-continuation-9.4.43.v20210629.jar:/content/kafka_2.13-3.1.0/bin/../libs/jetty-http-9.4.43.v20210629.jar:/content/kafka_2.13-3.1.0/bin/../libs/jetty-io-9.4.43.v20210629.jar:/content/kafka_2.13-3.1.0/bin/../libs/jetty-security-9.4.43.v20210629.jar:/content/kafka_2.13-3.1.0/bin/../libs/jetty-server-9.4.43.v20210629.jar:/content/kafka_2.13-3.1.0/bin/../libs/jetty-servlet-9.4.43.v20210629.jar:/content/kafka_2.13-3.1.0/bin/../libs/jetty-servlets-9.4.43.v20210629.jar:/content/kafka_2.13-3.1.0/bin/../libs/jetty-util-9.4.43.v20210629.jar:/content/kafka_2.13-3.1.0/bin/../libs/jetty-util-ajax-9.4.43.v20210629.jar:/content/kafka_2.13-3.1.0/bin/../libs/jline-3.12.1.jar:/content/kafka_2.13-3.1.0/bin/../libs/jopt-simple-5.0.4.jar:/content/kafka_2.13-3.1.0/bin/../libs/jose4j-0.7.8.jar:/content/kafka_2.13-3.1.0/bin/../libs/kafka_2.13-3.1.0.jar:/content/kafka_2.13-3.1.0/bin/../libs/kafka-clients-3.1.0.jar:/content/kafka_2.13-3.1.0/bin/../libs/kafka-log4j-appender-3.1.0.jar:/content/kafka_2.13-3.1.0/bin/../libs/kafka-metadata-3.1.0.jar:/content/kafka_2.13-3.1.0/bin/../libs/kafka-raft-3.1.0.jar:/content/kafka_2.13-3.1.0/bin/../libs/kafka-server-common-3.1.0.jar:/content/kafka_2.13-3.1.0/bin/../libs/kafka-shell-3.1.0.jar:/content/kafka_2.13-3.1.0/bin/../libs/kafka-storage-3.1.0.jar:/content/kafka_2.13-3.1.0/bin/../libs/kafka-storage-api-3.1.0.jar:/content/kafka_2.13-3.1.0/bin/../libs/kafka-streams-3.1.0.jar:/content/kafka_2.13-3.1.0/bin/../libs/kafka-streams-examples-3.1.0.jar:/content/kafka_2.13-3.1.0/bin/../libs/kafka-streams-scala_2.13-3.1.0.jar:/content/kafka_2.13-3.1.0/bin/../libs/kafka-streams-test-utils-3.1.0.jar:/content/kafka_2.13-3.1.0/bin/../libs/kafka-tools-3.1.0.jar:/content/kafka_2.13-3.1.0/bin/../libs/log4j-1.2.17.jar:/content/kafka_2.13-3.1.0/bin/../libs/lz4-java-1.8.0.jar:/content/kafka_2.13-3.1.0/bin/../libs/maven-artifact-3.8.1.jar:/content/kafka_2.13-3.1.0/bin/../libs/metrics-core-2.2.0.jar:/content/kafka_2.13-3.1.0/bin/../libs/metrics-core-4.1.12.1.jar:/content/kafka_2.13-3.1.0/bin/../libs/netty-buffer-4.1.68.Final.jar:/content/kafka_2.13-3.1.0/bin/../libs/netty-codec-4.1.68.Final.jar:/content/kafka_2.13-3.1.0/bin/../libs/netty-common-4.1.68.Final.jar:/content/kafka_2.13-3.1.0/bin/../libs/netty-handler-4.1.68.Final.jar:/content/kafka_2.13-3.1.0/bin/../libs/netty-resolver-4.1.68.Final.jar:/content/kafka_2.13-3.1.0/bin/../libs/netty-transport-4.1.68.Final.jar:/content/kafka_2.13-3.1.0/bin/../libs/netty-transport-native-epoll-4.1.68.Final.jar:/content/kafka_2.13-3.1.0/bin/../libs/netty-transport-native-unix-common-4.1.68.Final.jar:/content/kafka_2.13-3.1.0/bin/../libs/osgi-resource-locator-1.0.3.jar:/content/kafka_2.13-3.1.0/bin/../libs/paranamer-2.8.jar:/content/kafka_2.13-3.1.0/bin/../libs/plexus-utils-3.2.1.jar:/content/kafka_2.13-3.1.0/bin/../libs/reflections-0.9.12.jar:/content/kafka_2.13-3.1.0/bin/../libs/rocksdbjni-6.22.1.1.jar:/content/kafka_2.13-3.1.0/bin/../libs/scala-collection-compat_2.13-2.4.4.jar:/content/kafka_2.13-3.1.0/bin/../libs/scala-java8-compat_2.13-1.0.0.jar:/content/kafka_2.13-3.1.0/bin/../libs/scala-library-2.13.6.jar:/content/kafka_2.13-3.1.0/bin/../libs/scala-logging_2.13-3.9.3.jar:/content/kafka_2.13-3.1.0/bin/../libs/scala-reflect-2.13.6.jar:/content/kafka_2.13-3.1.0/bin/../libs/slf4j-api-1.7.30.jar:/content/kafka_2.13-3.1.0/bin/../libs/slf4j-log4j12-1.7.30.jar:/content/kafka_2.13-3.1.0/bin/../libs/snappy-java-1.1.8.4.jar:/content/kafka_2.13-3.1.0/bin/../libs/trogdor-3.1.0.jar:/content/kafka_2.13-3.1.0/bin/../libs/zookeeper-3.6.3.jar:/content/kafka_2.13-3.1.0/bin/../libs/zookeeper-jute-3.6.3.jar:/content/kafka_2.13-3.1.0/bin/../libs/zstd-jni-1.5.0-4.jar org.apache.zookeeper.server.quorum.QuorumPeerMain ./kafka_2.13-3.1.0/config/zookeeper.properties\n",
            "root         822       1 47 23:57 ?        00:00:06 java -Xmx1G -Xms1G -server -XX:+UseG1GC -XX:MaxGCPauseMillis=20 -XX:InitiatingHeapOccupancyPercent=35 -XX:+ExplicitGCInvokesConcurrent -XX:MaxInlineLevel=15 -Djava.awt.headless=true -Xlog:gc*:file=/content/kafka_2.13-3.1.0/bin/../logs/kafkaServer-gc.log:time,tags:filecount=10,filesize=100M -Dcom.sun.management.jmxremote -Dcom.sun.management.jmxremote.authenticate=false -Dcom.sun.management.jmxremote.ssl=false -Dkafka.logs.dir=/content/kafka_2.13-3.1.0/bin/../logs -Dlog4j.configuration=file:./kafka_2.13-3.1.0/bin/../config/log4j.properties -cp /content/kafka_2.13-3.1.0/bin/../libs/activation-1.1.1.jar:/content/kafka_2.13-3.1.0/bin/../libs/aopalliance-repackaged-2.6.1.jar:/content/kafka_2.13-3.1.0/bin/../libs/argparse4j-0.7.0.jar:/content/kafka_2.13-3.1.0/bin/../libs/audience-annotations-0.5.0.jar:/content/kafka_2.13-3.1.0/bin/../libs/commons-cli-1.4.jar:/content/kafka_2.13-3.1.0/bin/../libs/commons-lang3-3.8.1.jar:/content/kafka_2.13-3.1.0/bin/../libs/connect-api-3.1.0.jar:/content/kafka_2.13-3.1.0/bin/../libs/connect-basic-auth-extension-3.1.0.jar:/content/kafka_2.13-3.1.0/bin/../libs/connect-file-3.1.0.jar:/content/kafka_2.13-3.1.0/bin/../libs/connect-json-3.1.0.jar:/content/kafka_2.13-3.1.0/bin/../libs/connect-mirror-3.1.0.jar:/content/kafka_2.13-3.1.0/bin/../libs/connect-mirror-client-3.1.0.jar:/content/kafka_2.13-3.1.0/bin/../libs/connect-runtime-3.1.0.jar:/content/kafka_2.13-3.1.0/bin/../libs/connect-transforms-3.1.0.jar:/content/kafka_2.13-3.1.0/bin/../libs/hk2-api-2.6.1.jar:/content/kafka_2.13-3.1.0/bin/../libs/hk2-locator-2.6.1.jar:/content/kafka_2.13-3.1.0/bin/../libs/hk2-utils-2.6.1.jar:/content/kafka_2.13-3.1.0/bin/../libs/jackson-annotations-2.12.3.jar:/content/kafka_2.13-3.1.0/bin/../libs/jackson-core-2.12.3.jar:/content/kafka_2.13-3.1.0/bin/../libs/jackson-databind-2.12.3.jar:/content/kafka_2.13-3.1.0/bin/../libs/jackson-dataformat-csv-2.12.3.jar:/content/kafka_2.13-3.1.0/bin/../libs/jackson-datatype-jdk8-2.12.3.jar:/content/kafka_2.13-3.1.0/bin/../libs/jackson-jaxrs-base-2.12.3.jar:/content/kafka_2.13-3.1.0/bin/../libs/jackson-jaxrs-json-provider-2.12.3.jar:/content/kafka_2.13-3.1.0/bin/../libs/jackson-module-jaxb-annotations-2.12.3.jar:/content/kafka_2.13-3.1.0/bin/../libs/jackson-module-scala_2.13-2.12.3.jar:/content/kafka_2.13-3.1.0/bin/../libs/jakarta.activation-api-1.2.1.jar:/content/kafka_2.13-3.1.0/bin/../libs/jakarta.annotation-api-1.3.5.jar:/content/kafka_2.13-3.1.0/bin/../libs/jakarta.inject-2.6.1.jar:/content/kafka_2.13-3.1.0/bin/../libs/jakarta.validation-api-2.0.2.jar:/content/kafka_2.13-3.1.0/bin/../libs/jakarta.ws.rs-api-2.1.6.jar:/content/kafka_2.13-3.1.0/bin/../libs/jakarta.xml.bind-api-2.3.2.jar:/content/kafka_2.13-3.1.0/bin/../libs/javassist-3.27.0-GA.jar:/content/kafka_2.13-3.1.0/bin/../libs/javax.servlet-api-3.1.0.jar:/content/kafka_2.13-3.1.0/bin/../libs/javax.ws.rs-api-2.1.1.jar:/content/kafka_2.13-3.1.0/bin/../libs/jaxb-api-2.3.0.jar:/content/kafka_2.13-3.1.0/bin/../libs/jersey-client-2.34.jar:/content/kafka_2.13-3.1.0/bin/../libs/jersey-common-2.34.jar:/content/kafka_2.13-3.1.0/bin/../libs/jersey-container-servlet-2.34.jar:/content/kafka_2.13-3.1.0/bin/../libs/jersey-container-servlet-core-2.34.jar:/content/kafka_2.13-3.1.0/bin/../libs/jersey-hk2-2.34.jar:/content/kafka_2.13-3.1.0/bin/../libs/jersey-server-2.34.jar:/content/kafka_2.13-3.1.0/bin/../libs/jetty-client-9.4.43.v20210629.jar:/content/kafka_2.13-3.1.0/bin/../libs/jetty-continuation-9.4.43.v20210629.jar:/content/kafka_2.13-3.1.0/bin/../libs/jetty-http-9.4.43.v20210629.jar:/content/kafka_2.13-3.1.0/bin/../libs/jetty-io-9.4.43.v20210629.jar:/content/kafka_2.13-3.1.0/bin/../libs/jetty-security-9.4.43.v20210629.jar:/content/kafka_2.13-3.1.0/bin/../libs/jetty-server-9.4.43.v20210629.jar:/content/kafka_2.13-3.1.0/bin/../libs/jetty-servlet-9.4.43.v20210629.jar:/content/kafka_2.13-3.1.0/bin/../libs/jetty-servlets-9.4.43.v20210629.jar:/content/kafka_2.13-3.1.0/bin/../libs/jetty-util-9.4.43.v20210629.jar:/content/kafka_2.13-3.1.0/bin/../libs/jetty-util-ajax-9.4.43.v20210629.jar:/content/kafka_2.13-3.1.0/bin/../libs/jline-3.12.1.jar:/content/kafka_2.13-3.1.0/bin/../libs/jopt-simple-5.0.4.jar:/content/kafka_2.13-3.1.0/bin/../libs/jose4j-0.7.8.jar:/content/kafka_2.13-3.1.0/bin/../libs/kafka_2.13-3.1.0.jar:/content/kafka_2.13-3.1.0/bin/../libs/kafka-clients-3.1.0.jar:/content/kafka_2.13-3.1.0/bin/../libs/kafka-log4j-appender-3.1.0.jar:/content/kafka_2.13-3.1.0/bin/../libs/kafka-metadata-3.1.0.jar:/content/kafka_2.13-3.1.0/bin/../libs/kafka-raft-3.1.0.jar:/content/kafka_2.13-3.1.0/bin/../libs/kafka-server-common-3.1.0.jar:/content/kafka_2.13-3.1.0/bin/../libs/kafka-shell-3.1.0.jar:/content/kafka_2.13-3.1.0/bin/../libs/kafka-storage-3.1.0.jar:/content/kafka_2.13-3.1.0/bin/../libs/kafka-storage-api-3.1.0.jar:/content/kafka_2.13-3.1.0/bin/../libs/kafka-streams-3.1.0.jar:/content/kafka_2.13-3.1.0/bin/../libs/kafka-streams-examples-3.1.0.jar:/content/kafka_2.13-3.1.0/bin/../libs/kafka-streams-scala_2.13-3.1.0.jar:/content/kafka_2.13-3.1.0/bin/../libs/kafka-streams-test-utils-3.1.0.jar:/content/kafka_2.13-3.1.0/bin/../libs/kafka-tools-3.1.0.jar:/content/kafka_2.13-3.1.0/bin/../libs/log4j-1.2.17.jar:/content/kafka_2.13-3.1.0/bin/../libs/lz4-java-1.8.0.jar:/content/kafka_2.13-3.1.0/bin/../libs/maven-artifact-3.8.1.jar:/content/kafka_2.13-3.1.0/bin/../libs/metrics-core-2.2.0.jar:/content/kafka_2.13-3.1.0/bin/../libs/metrics-core-4.1.12.1.jar:/content/kafka_2.13-3.1.0/bin/../libs/netty-buffer-4.1.68.Final.jar:/content/kafka_2.13-3.1.0/bin/../libs/netty-codec-4.1.68.Final.jar:/content/kafka_2.13-3.1.0/bin/../libs/netty-common-4.1.68.Final.jar:/content/kafka_2.13-3.1.0/bin/../libs/netty-handler-4.1.68.Final.jar:/content/kafka_2.13-3.1.0/bin/../libs/netty-resolver-4.1.68.Final.jar:/content/kafka_2.13-3.1.0/bin/../libs/netty-transport-4.1.68.Final.jar:/content/kafka_2.13-3.1.0/bin/../libs/netty-transport-native-epoll-4.1.68.Final.jar:/content/kafka_2.13-3.1.0/bin/../libs/netty-transport-native-unix-common-4.1.68.Final.jar:/content/kafka_2.13-3.1.0/bin/../libs/osgi-resource-locator-1.0.3.jar:/content/kafka_2.13-3.1.0/bin/../libs/paranamer-2.8.jar:/content/kafka_2.13-3.1.0/bin/../libs/plexus-utils-3.2.1.jar:/content/kafka_2.13-3.1.0/bin/../libs/reflections-0.9.12.jar:/content/kafka_2.13-3.1.0/bin/../libs/rocksdbjni-6.22.1.1.jar:/content/kafka_2.13-3.1.0/bin/../libs/scala-collection-compat_2.13-2.4.4.jar:/content/kafka_2.13-3.1.0/bin/../libs/scala-java8-compat_2.13-1.0.0.jar:/content/kafka_2.13-3.1.0/bin/../libs/scala-library-2.13.6.jar:/content/kafka_2.13-3.1.0/bin/../libs/scala-logging_2.13-3.9.3.jar:/content/kafka_2.13-3.1.0/bin/../libs/scala-reflect-2.13.6.jar:/content/kafka_2.13-3.1.0/bin/../libs/slf4j-api-1.7.30.jar:/content/kafka_2.13-3.1.0/bin/../libs/slf4j-log4j12-1.7.30.jar:/content/kafka_2.13-3.1.0/bin/../libs/snappy-java-1.1.8.4.jar:/content/kafka_2.13-3.1.0/bin/../libs/trogdor-3.1.0.jar:/content/kafka_2.13-3.1.0/bin/../libs/zookeeper-3.6.3.jar:/content/kafka_2.13-3.1.0/bin/../libs/zookeeper-jute-3.6.3.jar:/content/kafka_2.13-3.1.0/bin/../libs/zstd-jni-1.5.0-4.jar kafka.Kafka ./kafka_2.13-3.1.0/config/server.properties\n",
            "root         899      56  0 23:57 ?        00:00:00 /bin/bash -c ps -ef | grep kafka\n",
            "root         901     899  0 23:57 ?        00:00:00 grep kafka\n"
          ]
        }
      ]
    },
    {
      "cell_type": "markdown",
      "source": [
        "Creamos un topico llamado \"Goldrates\""
      ],
      "metadata": {
        "id": "us2IW-1JVBAY"
      }
    },
    {
      "cell_type": "code",
      "source": [
        "!./kafka_2.13-3.1.0/bin/kafka-topics.sh --create --bootstrap-server 127.0.0.1:9092 --replication-factor 1 --partitions 1 --topic Goldrates"
      ],
      "metadata": {
        "colab": {
          "base_uri": "https://localhost:8080/"
        },
        "id": "g0zJbPrGU59L",
        "outputId": "ced28f9b-858d-4a68-db46-2e68bba755a1"
      },
      "execution_count": null,
      "outputs": [
        {
          "output_type": "stream",
          "name": "stdout",
          "text": [
            "Created topic Goldrates.\n"
          ]
        }
      ]
    },
    {
      "cell_type": "markdown",
      "source": [
        "Instalamos KafkaProducer en python"
      ],
      "metadata": {
        "id": "mGXesp9gVNlP"
      }
    },
    {
      "cell_type": "code",
      "source": [
        "!pip install kafka-python"
      ],
      "metadata": {
        "colab": {
          "base_uri": "https://localhost:8080/"
        },
        "id": "ehjszKZQU3Sr",
        "outputId": "ca3e1e78-b29b-46cf-c982-d32419bd2b41"
      },
      "execution_count": null,
      "outputs": [
        {
          "output_type": "stream",
          "name": "stdout",
          "text": [
            "Looking in indexes: https://pypi.org/simple, https://us-python.pkg.dev/colab-wheels/public/simple/\n",
            "Collecting kafka-python\n",
            "  Downloading kafka_python-2.0.2-py2.py3-none-any.whl (246 kB)\n",
            "\u001b[K     |████████████████████████████████| 246 kB 25.3 MB/s \n",
            "\u001b[?25hInstalling collected packages: kafka-python\n",
            "Successfully installed kafka-python-2.0.2\n"
          ]
        }
      ]
    },
    {
      "cell_type": "code",
      "source": [
        "import time\n",
        "import json\n",
        "import kafka\n",
        "import pandas as pd\n",
        "import requests as req\n",
        "from kafka import KafkaProducer,KafkaConsumer\n",
        "from kafka.errors import KafkaError\n",
        "from random import *\n",
        "from json import dumps\n",
        "from time import sleep"
      ],
      "metadata": {
        "id": "-YMN2P-aVYa-"
      },
      "execution_count": null,
      "outputs": []
    },
    {
      "cell_type": "code",
      "source": [
        "ticker_url=\"https://forex-data-feed.swissquote.com/public-quotes/bboquotes/instrument/XAU/USD\"\n",
        "topic='Goldrates'\n",
        "sleep_time=1"
      ],
      "metadata": {
        "id": "-MpN1wQUVg64"
      },
      "execution_count": null,
      "outputs": []
    },
    {
      "cell_type": "markdown",
      "source": [
        "Nos conectamos al servidor de kafka."
      ],
      "metadata": {
        "id": "l55BURvU8VCO"
      }
    },
    {
      "cell_type": "code",
      "source": [
        "producer = KafkaProducer(bootstrap_servers=['ec2-18-118-112-10.us-east-2.compute.amazonaws.com'],value_serializer=lambda x: dumps(x).encode('utf-8'))"
      ],
      "metadata": {
        "id": "2pSAoo5Re9ld"
      },
      "execution_count": null,
      "outputs": []
    },
    {
      "cell_type": "code",
      "source": [
        "producer"
      ],
      "metadata": {
        "colab": {
          "base_uri": "https://localhost:8080/"
        },
        "id": "z21z5rHD4iNW",
        "outputId": "bac4641a-506f-4aef-a72c-ec1f629d6a11"
      },
      "execution_count": null,
      "outputs": [
        {
          "output_type": "execute_result",
          "data": {
            "text/plain": [
              "<kafka.producer.kafka.KafkaProducer at 0x7f467c6c0ed0>"
            ]
          },
          "metadata": {},
          "execution_count": 23
        }
      ]
    },
    {
      "cell_type": "markdown",
      "source": [
        "Haremos un requerimiento al ticket de forex-data para obtener los precios del oro con respecto al precio dolar XAU/USD. La información extraida del ticker será guardada en formato json y enviada por Kafka."
      ],
      "metadata": {
        "id": "N2Cbf9j7XiH7"
      }
    },
    {
      "cell_type": "code",
      "source": [
        "while(True):\n",
        "    print(\"Obteniendo nuevos datos...\")\n",
        "    #request de la data de precios\n",
        "    resp = req.get(ticker_url)\n",
        "    #convertir a formato json\n",
        "    json_data = json.loads(resp.text)\n",
        "    print(json_data)\n",
        "    #enviar con kafka\n",
        "    producer.send(topic, json_data)\n",
        "    #1 segundo de pausa\n",
        "    time.sleep(sleep_time)"
      ],
      "metadata": {
        "id": "IzoqnE98Ww2U"
      },
      "execution_count": null,
      "outputs": []
    },
    {
      "cell_type": "markdown",
      "source": [
        "#Consumidor de los datos generados en notebook \"CasoUso_AnalisisTiempoRealPrecioOro_KafkaProducer\""
      ],
      "metadata": {
        "id": "oMaCEfGbYYWe"
      }
    },
    {
      "cell_type": "code",
      "source": [
        "!pip install kafka-python"
      ],
      "metadata": {
        "colab": {
          "base_uri": "https://localhost:8080/"
        },
        "id": "ck6Yy6Y3YXrp",
        "outputId": "7c8fcacc-9e69-40a6-b94b-02c673bee314"
      },
      "execution_count": null,
      "outputs": [
        {
          "output_type": "stream",
          "name": "stdout",
          "text": [
            "Looking in indexes: https://pypi.org/simple, https://us-python.pkg.dev/colab-wheels/public/simple/\n",
            "Collecting kafka-python\n",
            "  Downloading kafka_python-2.0.2-py2.py3-none-any.whl (246 kB)\n",
            "\u001b[K     |████████████████████████████████| 246 kB 5.3 MB/s \n",
            "\u001b[?25hInstalling collected packages: kafka-python\n",
            "Successfully installed kafka-python-2.0.2\n"
          ]
        }
      ]
    },
    {
      "cell_type": "code",
      "execution_count": null,
      "metadata": {
        "id": "PtrNzI4ZYOVj"
      },
      "outputs": [],
      "source": [
        "import time\n",
        "import json\n",
        "import kafka\n",
        "from kafka import KafkaProducer,KafkaConsumer\n",
        "from kafka.errors import KafkaError\n",
        "from pandas import DataFrame\n",
        "from datetime import datetime\n",
        "from random import *\n",
        "import matplotlib.pyplot as plt"
      ]
    },
    {
      "cell_type": "markdown",
      "source": [
        "Nos conectamos al servidor de Kafka y preguntamos por los tópicos existentes."
      ],
      "metadata": {
        "id": "tu2A_E5fYsTh"
      }
    },
    {
      "cell_type": "code",
      "source": [
        "admin_client = kafka.KafkaAdminClient(bootstrap_servers=['ec2-18-118-112-10.us-east-2.compute.amazonaws.com'])\n",
        "L = admin_client.list_topics()\n",
        "print(L)"
      ],
      "metadata": {
        "colab": {
          "base_uri": "https://localhost:8080/"
        },
        "id": "jV9az64ofDz9",
        "outputId": "609d5007-86e9-4289-de1e-e15c1cda041b"
      },
      "execution_count": null,
      "outputs": [
        {
          "output_type": "stream",
          "name": "stdout",
          "text": [
            "['G2-grupo5', 'G2-alarmas4-1', 'G2-alarmas4', 'Images3', 'G2-grupo1', 'G3-grupo5', 'grupo1', 'fotos', 'Sales', 'G3-grupo5-test', 'alarmas', 'diplomado', 'Images2', 'G3-grupo5-test2', 'G3-grupo1', 'grupo4', 'G2-grupo4', 'diplomaddas', 'G2-alarmas1', 'G3-grupo4', 'G2-alarmas3', 'G2-grupo2G2', 'CSV', 'G2-2', 'grupo5', '__consumer_offsets', 'G3-grupoX', 'G2-grupo3', 'G2-alarmas2', 'G2-Grupo3', 'grupo6', 'XXXX', 'G2-grupo7', 'G3-grupo3', 'G3', 'G2-alarmas6', 'grupo2', 'G3-grupo7', 'RUL_25', 'G2-alarmas', 'G2-alarmas5', 'wiki', 'wiki_2', 'RUL', 'grupo7', 'G2-g1_alarmas_test', 'G2-grupo2', 'images', 'G1-grupo5', 'grupo3', 'Images22', 'G2-grupo6', 'G3-grupo6', 'G2-grupo4-1', 'wiki-7', 'G3-ALARMA', 'Goldrates', 'G3-grupo2', 'G2-alarma3', 'Images', 'Images_22']\n"
          ]
        }
      ]
    },
    {
      "cell_type": "code",
      "source": [
        "topic='Goldrates'\n",
        "sleep_time=10\n",
        "offset='latest'"
      ],
      "metadata": {
        "id": "3mnI-4DgZVSE"
      },
      "execution_count": null,
      "outputs": []
    },
    {
      "cell_type": "code",
      "source": [
        "consumer = KafkaConsumer(topic, bootstrap_servers=['ec2-18-118-112-10.us-east-2.compute.amazonaws.com'], auto_offset_reset=offset)\n",
        "consumer.subscribe([topic]) "
      ],
      "metadata": {
        "id": "TYtiExT9ZTmM"
      },
      "execution_count": null,
      "outputs": []
    },
    {
      "cell_type": "code",
      "source": [
        "consumer"
      ],
      "metadata": {
        "colab": {
          "base_uri": "https://localhost:8080/"
        },
        "id": "ZHgIj8jyf6Mu",
        "outputId": "fc10ce21-49d3-48f6-854a-ccbb8e654092"
      },
      "execution_count": null,
      "outputs": [
        {
          "output_type": "execute_result",
          "data": {
            "text/plain": [
              "<kafka.consumer.group.KafkaConsumer at 0x7f35318579d0>"
            ]
          },
          "metadata": {},
          "execution_count": 16
        }
      ]
    },
    {
      "cell_type": "markdown",
      "source": [
        "Ahora podemos consumir la información del oro y extraer la información que nos interesa"
      ],
      "metadata": {
        "id": "nNArbhr-l5zJ"
      }
    },
    {
      "cell_type": "code",
      "source": [
        "for message in consumer:\n",
        "  data_msg = message.value.decode(encoding=\"utf-8\")\n",
        "  jdata    = json.loads(data_msg)\n",
        "  print(jdata[0]['spreadProfilePrices'][0]['bid'])"
      ],
      "metadata": {
        "colab": {
          "base_uri": "https://localhost:8080/",
          "height": 1000
        },
        "id": "BJiCauref2gv",
        "outputId": "a8f213fe-b42c-4e84-ee55-82c2ceaad55f"
      },
      "execution_count": null,
      "outputs": [
        {
          "output_type": "stream",
          "name": "stdout",
          "text": [
            "1853.396\n",
            "1853.396\n",
            "1853.396\n",
            "1853.396\n",
            "1853.396\n",
            "1853.396\n",
            "1853.339\n",
            "1853.366\n",
            "1853.366\n",
            "1853.296\n",
            "1853.296\n",
            "1853.296\n",
            "1853.296\n",
            "1853.296\n",
            "1853.326\n",
            "1853.296\n",
            "1853.296\n",
            "1853.236\n",
            "1853.306\n",
            "1853.276\n",
            "1853.256\n",
            "1853.256\n",
            "1853.226\n",
            "1853.226\n",
            "1853.206\n",
            "1853.216\n",
            "1853.189\n",
            "1853.226\n",
            "1853.226\n",
            "1853.226\n",
            "1853.216\n",
            "1853.226\n",
            "1853.256\n",
            "1853.256\n",
            "1853.306\n",
            "1853.306\n",
            "1853.286\n",
            "1853.276\n",
            "1853.316\n",
            "1853.346\n",
            "1853.346\n",
            "1853.326\n",
            "1853.326\n",
            "1853.326\n",
            "1853.346\n",
            "1853.346\n",
            "1853.356\n",
            "1853.356\n",
            "1853.436\n",
            "1853.516\n",
            "1853.496\n",
            "1853.476\n",
            "1853.476\n",
            "1853.476\n",
            "1853.476\n",
            "1853.476\n",
            "1853.476\n",
            "1853.416\n",
            "1853.416\n",
            "1853.366\n",
            "1853.356\n",
            "1853.396\n",
            "1853.396\n",
            "1853.406\n",
            "1853.366\n",
            "1853.386\n",
            "1853.329\n",
            "1853.356\n",
            "1853.316\n",
            "1853.356\n",
            "1853.356\n",
            "1853.326\n",
            "1853.326\n",
            "1853.316\n",
            "1853.346\n",
            "1853.346\n",
            "1853.356\n",
            "1853.356\n",
            "1853.306\n",
            "1853.306\n",
            "1853.316\n",
            "1853.296\n",
            "1853.296\n",
            "1853.296\n",
            "1853.286\n",
            "1853.286\n",
            "1853.286\n",
            "1853.236\n",
            "1853.186\n",
            "1853.116\n",
            "1853.116\n",
            "1853.086\n",
            "1853.096\n",
            "1853.146\n",
            "1853.176\n",
            "1853.126\n",
            "1853.166\n",
            "1853.166\n",
            "1853.115\n",
            "1853.266\n",
            "1853.266\n",
            "1853.266\n",
            "1853.256\n",
            "1853.256\n",
            "1853.256\n",
            "1853.256\n",
            "1853.256\n",
            "1853.246\n",
            "1853.227\n",
            "1853.236\n",
            "1853.236\n",
            "1853.226\n",
            "1853.166\n",
            "1853.186\n",
            "1853.146\n",
            "1853.146\n",
            "1853.036\n",
            "1853.036\n",
            "1853.126\n",
            "1853.106\n",
            "1853.106\n",
            "1853.146\n",
            "1853.146\n",
            "1853.089\n",
            "1853.106\n",
            "1853.086\n",
            "1853.086\n",
            "1853.086\n",
            "1853.266\n",
            "1853.276\n",
            "1853.316\n",
            "1853.296\n",
            "1853.246\n",
            "1853.176\n",
            "1853.226\n",
            "1853.226\n",
            "1853.136\n",
            "1853.116\n",
            "1853.126\n",
            "1853.126\n",
            "1853.126\n",
            "1853.166\n",
            "1853.176\n",
            "1853.186\n",
            "1853.136\n",
            "1853.116\n",
            "1853.196\n",
            "1853.256\n",
            "1853.256\n",
            "1853.266\n",
            "1853.286\n",
            "1853.206\n",
            "1853.206\n",
            "1853.226\n",
            "1853.176\n",
            "1853.045\n",
            "1853.116\n",
            "1853.096\n",
            "1853.026\n",
            "1853.026\n",
            "1853.026\n",
            "1853.096\n",
            "1853.086\n",
            "1853.106\n"
          ]
        },
        {
          "output_type": "error",
          "ename": "KeyboardInterrupt",
          "evalue": "ignored",
          "traceback": [
            "\u001b[0;31m---------------------------------------------------------------------------\u001b[0m",
            "\u001b[0;31mKeyboardInterrupt\u001b[0m                         Traceback (most recent call last)",
            "\u001b[0;32m<ipython-input-38-d1c9fbe454f5>\u001b[0m in \u001b[0;36m<module>\u001b[0;34m()\u001b[0m\n\u001b[0;32m----> 1\u001b[0;31m \u001b[0;32mfor\u001b[0m \u001b[0mmsg\u001b[0m \u001b[0;32min\u001b[0m \u001b[0mconsumer\u001b[0m\u001b[0;34m:\u001b[0m\u001b[0;34m\u001b[0m\u001b[0;34m\u001b[0m\u001b[0m\n\u001b[0m\u001b[1;32m      2\u001b[0m   \u001b[0mdata_msg\u001b[0m \u001b[0;34m=\u001b[0m \u001b[0mmsg\u001b[0m\u001b[0;34m.\u001b[0m\u001b[0mvalue\u001b[0m\u001b[0;34m.\u001b[0m\u001b[0mdecode\u001b[0m\u001b[0;34m(\u001b[0m\u001b[0mencoding\u001b[0m\u001b[0;34m=\u001b[0m\u001b[0;34m\"utf-8\"\u001b[0m\u001b[0;34m)\u001b[0m\u001b[0;34m\u001b[0m\u001b[0;34m\u001b[0m\u001b[0m\n\u001b[1;32m      3\u001b[0m   \u001b[0mjdata\u001b[0m    \u001b[0;34m=\u001b[0m \u001b[0mjson\u001b[0m\u001b[0;34m.\u001b[0m\u001b[0mloads\u001b[0m\u001b[0;34m(\u001b[0m\u001b[0mdata_msg\u001b[0m\u001b[0;34m)\u001b[0m\u001b[0;34m\u001b[0m\u001b[0;34m\u001b[0m\u001b[0m\n\u001b[1;32m      4\u001b[0m   \u001b[0;31m#print(value)\u001b[0m\u001b[0;34m\u001b[0m\u001b[0;34m\u001b[0m\u001b[0;34m\u001b[0m\u001b[0m\n\u001b[1;32m      5\u001b[0m   \u001b[0mprint\u001b[0m\u001b[0;34m(\u001b[0m\u001b[0mjdata\u001b[0m\u001b[0;34m[\u001b[0m\u001b[0;36m0\u001b[0m\u001b[0;34m]\u001b[0m\u001b[0;34m[\u001b[0m\u001b[0;34m'spreadProfilePrices'\u001b[0m\u001b[0;34m]\u001b[0m\u001b[0;34m[\u001b[0m\u001b[0;36m0\u001b[0m\u001b[0;34m]\u001b[0m\u001b[0;34m[\u001b[0m\u001b[0;34m'bid'\u001b[0m\u001b[0;34m]\u001b[0m\u001b[0;34m)\u001b[0m\u001b[0;34m\u001b[0m\u001b[0;34m\u001b[0m\u001b[0m\n",
            "\u001b[0;32m/usr/local/lib/python3.7/dist-packages/kafka/consumer/group.py\u001b[0m in \u001b[0;36m__next__\u001b[0;34m(self)\u001b[0m\n\u001b[1;32m   1191\u001b[0m             \u001b[0;32mreturn\u001b[0m \u001b[0mself\u001b[0m\u001b[0;34m.\u001b[0m\u001b[0mnext_v1\u001b[0m\u001b[0;34m(\u001b[0m\u001b[0;34m)\u001b[0m\u001b[0;34m\u001b[0m\u001b[0;34m\u001b[0m\u001b[0m\n\u001b[1;32m   1192\u001b[0m         \u001b[0;32melse\u001b[0m\u001b[0;34m:\u001b[0m\u001b[0;34m\u001b[0m\u001b[0;34m\u001b[0m\u001b[0m\n\u001b[0;32m-> 1193\u001b[0;31m             \u001b[0;32mreturn\u001b[0m \u001b[0mself\u001b[0m\u001b[0;34m.\u001b[0m\u001b[0mnext_v2\u001b[0m\u001b[0;34m(\u001b[0m\u001b[0;34m)\u001b[0m\u001b[0;34m\u001b[0m\u001b[0;34m\u001b[0m\u001b[0m\n\u001b[0m\u001b[1;32m   1194\u001b[0m \u001b[0;34m\u001b[0m\u001b[0m\n\u001b[1;32m   1195\u001b[0m     \u001b[0;32mdef\u001b[0m \u001b[0mnext_v2\u001b[0m\u001b[0;34m(\u001b[0m\u001b[0mself\u001b[0m\u001b[0;34m)\u001b[0m\u001b[0;34m:\u001b[0m\u001b[0;34m\u001b[0m\u001b[0;34m\u001b[0m\u001b[0m\n",
            "\u001b[0;32m/usr/local/lib/python3.7/dist-packages/kafka/consumer/group.py\u001b[0m in \u001b[0;36mnext_v2\u001b[0;34m(self)\u001b[0m\n\u001b[1;32m   1199\u001b[0m                 \u001b[0mself\u001b[0m\u001b[0;34m.\u001b[0m\u001b[0m_iterator\u001b[0m \u001b[0;34m=\u001b[0m \u001b[0mself\u001b[0m\u001b[0;34m.\u001b[0m\u001b[0m_message_generator_v2\u001b[0m\u001b[0;34m(\u001b[0m\u001b[0;34m)\u001b[0m\u001b[0;34m\u001b[0m\u001b[0;34m\u001b[0m\u001b[0m\n\u001b[1;32m   1200\u001b[0m             \u001b[0;32mtry\u001b[0m\u001b[0;34m:\u001b[0m\u001b[0;34m\u001b[0m\u001b[0;34m\u001b[0m\u001b[0m\n\u001b[0;32m-> 1201\u001b[0;31m                 \u001b[0;32mreturn\u001b[0m \u001b[0mnext\u001b[0m\u001b[0;34m(\u001b[0m\u001b[0mself\u001b[0m\u001b[0;34m.\u001b[0m\u001b[0m_iterator\u001b[0m\u001b[0;34m)\u001b[0m\u001b[0;34m\u001b[0m\u001b[0;34m\u001b[0m\u001b[0m\n\u001b[0m\u001b[1;32m   1202\u001b[0m             \u001b[0;32mexcept\u001b[0m \u001b[0mStopIteration\u001b[0m\u001b[0;34m:\u001b[0m\u001b[0;34m\u001b[0m\u001b[0;34m\u001b[0m\u001b[0m\n\u001b[1;32m   1203\u001b[0m                 \u001b[0mself\u001b[0m\u001b[0;34m.\u001b[0m\u001b[0m_iterator\u001b[0m \u001b[0;34m=\u001b[0m \u001b[0;32mNone\u001b[0m\u001b[0;34m\u001b[0m\u001b[0;34m\u001b[0m\u001b[0m\n",
            "\u001b[0;32m/usr/local/lib/python3.7/dist-packages/kafka/consumer/group.py\u001b[0m in \u001b[0;36m_message_generator_v2\u001b[0;34m(self)\u001b[0m\n\u001b[1;32m   1114\u001b[0m     \u001b[0;32mdef\u001b[0m \u001b[0m_message_generator_v2\u001b[0m\u001b[0;34m(\u001b[0m\u001b[0mself\u001b[0m\u001b[0;34m)\u001b[0m\u001b[0;34m:\u001b[0m\u001b[0;34m\u001b[0m\u001b[0;34m\u001b[0m\u001b[0m\n\u001b[1;32m   1115\u001b[0m         \u001b[0mtimeout_ms\u001b[0m \u001b[0;34m=\u001b[0m \u001b[0;36m1000\u001b[0m \u001b[0;34m*\u001b[0m \u001b[0;34m(\u001b[0m\u001b[0mself\u001b[0m\u001b[0;34m.\u001b[0m\u001b[0m_consumer_timeout\u001b[0m \u001b[0;34m-\u001b[0m \u001b[0mtime\u001b[0m\u001b[0;34m.\u001b[0m\u001b[0mtime\u001b[0m\u001b[0;34m(\u001b[0m\u001b[0;34m)\u001b[0m\u001b[0;34m)\u001b[0m\u001b[0;34m\u001b[0m\u001b[0;34m\u001b[0m\u001b[0m\n\u001b[0;32m-> 1116\u001b[0;31m         \u001b[0mrecord_map\u001b[0m \u001b[0;34m=\u001b[0m \u001b[0mself\u001b[0m\u001b[0;34m.\u001b[0m\u001b[0mpoll\u001b[0m\u001b[0;34m(\u001b[0m\u001b[0mtimeout_ms\u001b[0m\u001b[0;34m=\u001b[0m\u001b[0mtimeout_ms\u001b[0m\u001b[0;34m,\u001b[0m \u001b[0mupdate_offsets\u001b[0m\u001b[0;34m=\u001b[0m\u001b[0;32mFalse\u001b[0m\u001b[0;34m)\u001b[0m\u001b[0;34m\u001b[0m\u001b[0;34m\u001b[0m\u001b[0m\n\u001b[0m\u001b[1;32m   1117\u001b[0m         \u001b[0;32mfor\u001b[0m \u001b[0mtp\u001b[0m\u001b[0;34m,\u001b[0m \u001b[0mrecords\u001b[0m \u001b[0;32min\u001b[0m \u001b[0msix\u001b[0m\u001b[0;34m.\u001b[0m\u001b[0miteritems\u001b[0m\u001b[0;34m(\u001b[0m\u001b[0mrecord_map\u001b[0m\u001b[0;34m)\u001b[0m\u001b[0;34m:\u001b[0m\u001b[0;34m\u001b[0m\u001b[0;34m\u001b[0m\u001b[0m\n\u001b[1;32m   1118\u001b[0m             \u001b[0;31m# Generators are stateful, and it is possible that the tp / records\u001b[0m\u001b[0;34m\u001b[0m\u001b[0;34m\u001b[0m\u001b[0;34m\u001b[0m\u001b[0m\n",
            "\u001b[0;32m/usr/local/lib/python3.7/dist-packages/kafka/consumer/group.py\u001b[0m in \u001b[0;36mpoll\u001b[0;34m(self, timeout_ms, max_records, update_offsets)\u001b[0m\n\u001b[1;32m    653\u001b[0m         \u001b[0mremaining\u001b[0m \u001b[0;34m=\u001b[0m \u001b[0mtimeout_ms\u001b[0m\u001b[0;34m\u001b[0m\u001b[0;34m\u001b[0m\u001b[0m\n\u001b[1;32m    654\u001b[0m         \u001b[0;32mwhile\u001b[0m \u001b[0;32mTrue\u001b[0m\u001b[0;34m:\u001b[0m\u001b[0;34m\u001b[0m\u001b[0;34m\u001b[0m\u001b[0m\n\u001b[0;32m--> 655\u001b[0;31m             \u001b[0mrecords\u001b[0m \u001b[0;34m=\u001b[0m \u001b[0mself\u001b[0m\u001b[0;34m.\u001b[0m\u001b[0m_poll_once\u001b[0m\u001b[0;34m(\u001b[0m\u001b[0mremaining\u001b[0m\u001b[0;34m,\u001b[0m \u001b[0mmax_records\u001b[0m\u001b[0;34m,\u001b[0m \u001b[0mupdate_offsets\u001b[0m\u001b[0;34m=\u001b[0m\u001b[0mupdate_offsets\u001b[0m\u001b[0;34m)\u001b[0m\u001b[0;34m\u001b[0m\u001b[0;34m\u001b[0m\u001b[0m\n\u001b[0m\u001b[1;32m    656\u001b[0m             \u001b[0;32mif\u001b[0m \u001b[0mrecords\u001b[0m\u001b[0;34m:\u001b[0m\u001b[0;34m\u001b[0m\u001b[0;34m\u001b[0m\u001b[0m\n\u001b[1;32m    657\u001b[0m                 \u001b[0;32mreturn\u001b[0m \u001b[0mrecords\u001b[0m\u001b[0;34m\u001b[0m\u001b[0;34m\u001b[0m\u001b[0m\n",
            "\u001b[0;32m/usr/local/lib/python3.7/dist-packages/kafka/consumer/group.py\u001b[0m in \u001b[0;36m_poll_once\u001b[0;34m(self, timeout_ms, max_records, update_offsets)\u001b[0m\n\u001b[1;32m    700\u001b[0m \u001b[0;34m\u001b[0m\u001b[0m\n\u001b[1;32m    701\u001b[0m         \u001b[0mtimeout_ms\u001b[0m \u001b[0;34m=\u001b[0m \u001b[0mmin\u001b[0m\u001b[0;34m(\u001b[0m\u001b[0mtimeout_ms\u001b[0m\u001b[0;34m,\u001b[0m \u001b[0mself\u001b[0m\u001b[0;34m.\u001b[0m\u001b[0m_coordinator\u001b[0m\u001b[0;34m.\u001b[0m\u001b[0mtime_to_next_poll\u001b[0m\u001b[0;34m(\u001b[0m\u001b[0;34m)\u001b[0m \u001b[0;34m*\u001b[0m \u001b[0;36m1000\u001b[0m\u001b[0;34m)\u001b[0m\u001b[0;34m\u001b[0m\u001b[0;34m\u001b[0m\u001b[0m\n\u001b[0;32m--> 702\u001b[0;31m         \u001b[0mself\u001b[0m\u001b[0;34m.\u001b[0m\u001b[0m_client\u001b[0m\u001b[0;34m.\u001b[0m\u001b[0mpoll\u001b[0m\u001b[0;34m(\u001b[0m\u001b[0mtimeout_ms\u001b[0m\u001b[0;34m=\u001b[0m\u001b[0mtimeout_ms\u001b[0m\u001b[0;34m)\u001b[0m\u001b[0;34m\u001b[0m\u001b[0;34m\u001b[0m\u001b[0m\n\u001b[0m\u001b[1;32m    703\u001b[0m         \u001b[0;31m# after the long poll, we should check whether the group needs to rebalance\u001b[0m\u001b[0;34m\u001b[0m\u001b[0;34m\u001b[0m\u001b[0;34m\u001b[0m\u001b[0m\n\u001b[1;32m    704\u001b[0m         \u001b[0;31m# prior to returning data so that the group can stabilize faster\u001b[0m\u001b[0;34m\u001b[0m\u001b[0;34m\u001b[0m\u001b[0;34m\u001b[0m\u001b[0m\n",
            "\u001b[0;32m/usr/local/lib/python3.7/dist-packages/kafka/client_async.py\u001b[0m in \u001b[0;36mpoll\u001b[0;34m(self, timeout_ms, future)\u001b[0m\n\u001b[1;32m    600\u001b[0m                     \u001b[0mtimeout\u001b[0m \u001b[0;34m=\u001b[0m \u001b[0mmax\u001b[0m\u001b[0;34m(\u001b[0m\u001b[0;36m0\u001b[0m\u001b[0;34m,\u001b[0m \u001b[0mtimeout\u001b[0m\u001b[0;34m)\u001b[0m  \u001b[0;31m# avoid negative timeouts\u001b[0m\u001b[0;34m\u001b[0m\u001b[0;34m\u001b[0m\u001b[0m\n\u001b[1;32m    601\u001b[0m \u001b[0;34m\u001b[0m\u001b[0m\n\u001b[0;32m--> 602\u001b[0;31m                 \u001b[0mself\u001b[0m\u001b[0;34m.\u001b[0m\u001b[0m_poll\u001b[0m\u001b[0;34m(\u001b[0m\u001b[0mtimeout\u001b[0m \u001b[0;34m/\u001b[0m \u001b[0;36m1000\u001b[0m\u001b[0;34m)\u001b[0m\u001b[0;34m\u001b[0m\u001b[0;34m\u001b[0m\u001b[0m\n\u001b[0m\u001b[1;32m    603\u001b[0m \u001b[0;34m\u001b[0m\u001b[0m\n\u001b[1;32m    604\u001b[0m             \u001b[0;31m# called without the lock to avoid deadlock potential\u001b[0m\u001b[0;34m\u001b[0m\u001b[0;34m\u001b[0m\u001b[0;34m\u001b[0m\u001b[0m\n",
            "\u001b[0;32m/usr/local/lib/python3.7/dist-packages/kafka/client_async.py\u001b[0m in \u001b[0;36m_poll\u001b[0;34m(self, timeout)\u001b[0m\n\u001b[1;32m    632\u001b[0m \u001b[0;34m\u001b[0m\u001b[0m\n\u001b[1;32m    633\u001b[0m         \u001b[0mstart_select\u001b[0m \u001b[0;34m=\u001b[0m \u001b[0mtime\u001b[0m\u001b[0;34m.\u001b[0m\u001b[0mtime\u001b[0m\u001b[0;34m(\u001b[0m\u001b[0;34m)\u001b[0m\u001b[0;34m\u001b[0m\u001b[0;34m\u001b[0m\u001b[0m\n\u001b[0;32m--> 634\u001b[0;31m         \u001b[0mready\u001b[0m \u001b[0;34m=\u001b[0m \u001b[0mself\u001b[0m\u001b[0;34m.\u001b[0m\u001b[0m_selector\u001b[0m\u001b[0;34m.\u001b[0m\u001b[0mselect\u001b[0m\u001b[0;34m(\u001b[0m\u001b[0mtimeout\u001b[0m\u001b[0;34m)\u001b[0m\u001b[0;34m\u001b[0m\u001b[0;34m\u001b[0m\u001b[0m\n\u001b[0m\u001b[1;32m    635\u001b[0m         \u001b[0mend_select\u001b[0m \u001b[0;34m=\u001b[0m \u001b[0mtime\u001b[0m\u001b[0;34m.\u001b[0m\u001b[0mtime\u001b[0m\u001b[0;34m(\u001b[0m\u001b[0;34m)\u001b[0m\u001b[0;34m\u001b[0m\u001b[0;34m\u001b[0m\u001b[0m\n\u001b[1;32m    636\u001b[0m         \u001b[0;32mif\u001b[0m \u001b[0mself\u001b[0m\u001b[0;34m.\u001b[0m\u001b[0m_sensors\u001b[0m\u001b[0;34m:\u001b[0m\u001b[0;34m\u001b[0m\u001b[0;34m\u001b[0m\u001b[0m\n",
            "\u001b[0;32m/usr/lib/python3.7/selectors.py\u001b[0m in \u001b[0;36mselect\u001b[0;34m(self, timeout)\u001b[0m\n\u001b[1;32m    466\u001b[0m             \u001b[0mready\u001b[0m \u001b[0;34m=\u001b[0m \u001b[0;34m[\u001b[0m\u001b[0;34m]\u001b[0m\u001b[0;34m\u001b[0m\u001b[0;34m\u001b[0m\u001b[0m\n\u001b[1;32m    467\u001b[0m             \u001b[0;32mtry\u001b[0m\u001b[0;34m:\u001b[0m\u001b[0;34m\u001b[0m\u001b[0;34m\u001b[0m\u001b[0m\n\u001b[0;32m--> 468\u001b[0;31m                 \u001b[0mfd_event_list\u001b[0m \u001b[0;34m=\u001b[0m \u001b[0mself\u001b[0m\u001b[0;34m.\u001b[0m\u001b[0m_selector\u001b[0m\u001b[0;34m.\u001b[0m\u001b[0mpoll\u001b[0m\u001b[0;34m(\u001b[0m\u001b[0mtimeout\u001b[0m\u001b[0;34m,\u001b[0m \u001b[0mmax_ev\u001b[0m\u001b[0;34m)\u001b[0m\u001b[0;34m\u001b[0m\u001b[0;34m\u001b[0m\u001b[0m\n\u001b[0m\u001b[1;32m    469\u001b[0m             \u001b[0;32mexcept\u001b[0m \u001b[0mInterruptedError\u001b[0m\u001b[0;34m:\u001b[0m\u001b[0;34m\u001b[0m\u001b[0;34m\u001b[0m\u001b[0m\n\u001b[1;32m    470\u001b[0m                 \u001b[0;32mreturn\u001b[0m \u001b[0mready\u001b[0m\u001b[0;34m\u001b[0m\u001b[0;34m\u001b[0m\u001b[0m\n",
            "\u001b[0;31mKeyboardInterrupt\u001b[0m: "
          ]
        }
      ]
    },
    {
      "cell_type": "code",
      "source": [
        "prev_price=0\n",
        "goldprice_dict = {}\n",
        "while(True):\n",
        "    for message in consumer:\n",
        "        #print(message)\n",
        "        d=json.loads(message.value)\n",
        "        df=DataFrame(d)\n",
        "        for x in range(1):\n",
        "            #print(x)\n",
        "            new_price=df['spreadProfilePrices'][x][0]\n",
        "            ts=df['ts'][x]\n",
        "            #print(new_price)\n",
        "            print(\"Latest Gold Price: \" + str(new_price['ask']))\n",
        "            datetime_time = datetime.fromtimestamp(ts/1000)\n",
        "            goldprice_dict[str(datetime_time)]=new_price['ask']\n",
        "            print(\"Gold Price at: \" + str(datetime_time))\n",
        "        print(\"-----------------------------------------\")\n",
        "        #print(goldprice_dict)\n",
        "        plt.figure(figsize=(20,10))\n",
        "        plt.bar(range(len(goldprice_dict)), list(goldprice_dict.values()), align='center',linewidth=0.5)\n",
        "        plt.xticks(range(len(goldprice_dict)), list(goldprice_dict.keys()))\n",
        "        plt.show()\n",
        "        \n",
        "    time.sleep(sleep_time)"
      ],
      "metadata": {
        "colab": {
          "base_uri": "https://localhost:8080/",
          "height": 1000
        },
        "id": "Q62QQPVmYzNx",
        "outputId": "511c13db-4f22-488d-a550-3e3f1da853f7"
      },
      "execution_count": null,
      "outputs": [
        {
          "output_type": "stream",
          "name": "stdout",
          "text": [
            "Latest Gold Price: 1853.453\n",
            "Gold Price at: 2022-05-24 00:53:30.496000\n",
            "-----------------------------------------\n"
          ]
        },
        {
          "output_type": "display_data",
          "data": {
            "text/plain": [
              "<Figure size 1440x720 with 1 Axes>"
            ],
            "image/png": "[encoded data removed]"
          },
          "metadata": {
            "needs_background": "light"
          }
        },
        {
          "output_type": "stream",
          "name": "stdout",
          "text": [
            "Latest Gold Price: 1853.533\n",
            "Gold Price at: 2022-05-24 00:53:31.517000\n",
            "-----------------------------------------\n"
          ]
        },
        {
          "output_type": "display_data",
          "data": {
            "text/plain": [
              "<Figure size 1440x720 with 1 Axes>"
            ],
            "image/png": "[encoded data removed]"
          },
          "metadata": {
            "needs_background": "light"
          }
        },
        {
          "output_type": "stream",
          "name": "stdout",
          "text": [
            "Latest Gold Price: 1853.563\n",
            "Gold Price at: 2022-05-24 00:53:33.501000\n",
            "-----------------------------------------\n"
          ]
        },
        {
          "output_type": "display_data",
          "data": {
            "text/plain": [
              "<Figure size 1440x720 with 1 Axes>"
            ],
            "image/png": "[encoded data removed]"
          },
          "metadata": {
            "needs_background": "light"
          }
        },
        {
          "output_type": "stream",
          "name": "stdout",
          "text": [
            "Latest Gold Price: 1853.503\n",
            "Gold Price at: 2022-05-24 00:53:34.497000\n",
            "-----------------------------------------\n"
          ]
        },
        {
          "output_type": "display_data",
          "data": {
            "text/plain": [
              "<Figure size 1440x720 with 1 Axes>"
            ],
            "image/png": "[encoded data removed]"
          },
          "metadata": {
            "needs_background": "light"
          }
        },
        {
          "output_type": "stream",
          "name": "stdout",
          "text": [
            "Latest Gold Price: 1853.493\n",
            "Gold Price at: 2022-05-24 00:53:36.500000\n",
            "-----------------------------------------\n"
          ]
        },
        {
          "output_type": "display_data",
          "data": {
            "text/plain": [
              "<Figure size 1440x720 with 1 Axes>"
            ],
            "image/png": "[encoded data removed]"
          },
          "metadata": {
            "needs_background": "light"
          }
        },
        {
          "output_type": "stream",
          "name": "stdout",
          "text": [
            "Latest Gold Price: 1853.513\n",
            "Gold Price at: 2022-05-24 00:53:37.495000\n",
            "-----------------------------------------\n"
          ]
        },
        {
          "output_type": "display_data",
          "data": {
            "text/plain": [
              "<Figure size 1440x720 with 1 Axes>"
            ],
            "image/png": "[encoded data removed]"
          },
          "metadata": {
            "needs_background": "light"
          }
        },
        {
          "output_type": "stream",
          "name": "stdout",
          "text": [
            "Latest Gold Price: 1853.517\n",
            "Gold Price at: 2022-05-24 00:53:38.550000\n",
            "-----------------------------------------\n"
          ]
        },
        {
          "output_type": "display_data",
          "data": {
            "text/plain": [
              "<Figure size 1440x720 with 1 Axes>"
            ],
            "image/png": "[encoded data removed]"
          },
          "metadata": {
            "needs_background": "light"
          }
        },
        {
          "output_type": "stream",
          "name": "stdout",
          "text": [
            "Latest Gold Price: 1853.483\n",
            "Gold Price at: 2022-05-24 00:53:40.494000\n",
            "-----------------------------------------\n"
          ]
        },
        {
          "output_type": "display_data",
          "data": {
            "text/plain": [
              "<Figure size 1440x720 with 1 Axes>"
            ],
            "image/png": "[encoded data removed]"
          },
          "metadata": {
            "needs_background": "light"
          }
        },
        {
          "output_type": "stream",
          "name": "stdout",
          "text": [
            "Latest Gold Price: 1853.493\n",
            "Gold Price at: 2022-05-24 00:53:41.509000\n",
            "-----------------------------------------\n"
          ]
        },
        {
          "output_type": "display_data",
          "data": {
            "text/plain": [
              "<Figure size 1440x720 with 1 Axes>"
            ],
            "image/png": "[encoded data removed]"
          },
          "metadata": {
            "needs_background": "light"
          }
        },
        {
          "output_type": "stream",
          "name": "stdout",
          "text": [
            "Latest Gold Price: 1853.493\n",
            "Gold Price at: 2022-05-24 00:53:43.503000\n",
            "-----------------------------------------\n"
          ]
        },
        {
          "output_type": "display_data",
          "data": {
            "text/plain": [
              "<Figure size 1440x720 with 1 Axes>"
            ],
            "image/png": "[encoded data removed]"
          },
          "metadata": {
            "needs_background": "light"
          }
        },
        {
          "output_type": "stream",
          "name": "stdout",
          "text": [
            "Latest Gold Price: 1853.493\n",
            "Gold Price at: 2022-05-24 00:53:44.508000\n",
            "-----------------------------------------\n"
          ]
        },
        {
          "output_type": "display_data",
          "data": {
            "text/plain": [
              "<Figure size 1440x720 with 1 Axes>"
            ],
            "image/png": "[encoded data removed]"
          },
          "metadata": {
            "needs_background": "light"
          }
        },
        {
          "output_type": "stream",
          "name": "stdout",
          "text": [
            "Latest Gold Price: 1853.515\n",
            "Gold Price at: 2022-05-24 00:53:45.536000\n",
            "-----------------------------------------\n"
          ]
        },
        {
          "output_type": "display_data",
          "data": {
            "text/plain": [
              "<Figure size 1440x720 with 1 Axes>"
            ],
            "image/png": "[encoded data removed]"
          },
          "metadata": {
            "needs_background": "light"
          }
        },
        {
          "output_type": "stream",
          "name": "stdout",
          "text": [
            "Latest Gold Price: 1853.403\n",
            "Gold Price at: 2022-05-24 00:53:47.487000\n",
            "-----------------------------------------\n"
          ]
        },
        {
          "output_type": "display_data",
          "data": {
            "text/plain": [
              "<Figure size 1440x720 with 1 Axes>"
            ],
            "image/png": "[encoded data removed]"
          },
          "metadata": {
            "needs_background": "light"
          }
        },
        {
          "output_type": "stream",
          "name": "stdout",
          "text": [
            "Latest Gold Price: 1853.393\n",
            "Gold Price at: 2022-05-24 00:53:48.486000\n",
            "-----------------------------------------\n"
          ]
        },
        {
          "output_type": "display_data",
          "data": {
            "text/plain": [
              "<Figure size 1440x720 with 1 Axes>"
            ],
            "image/png": "[encoded data removed]"
          },
          "metadata": {
            "needs_background": "light"
          }
        },
        {
          "output_type": "stream",
          "name": "stdout",
          "text": [
            "Latest Gold Price: 1853.403\n",
            "Gold Price at: 2022-05-24 00:53:50.488000\n",
            "-----------------------------------------\n"
          ]
        },
        {
          "output_type": "display_data",
          "data": {
            "text/plain": [
              "<Figure size 1440x720 with 1 Axes>"
            ],
            "image/png": "[encoded data removed]"
          },
          "metadata": {
            "needs_background": "light"
          }
        },
        {
          "output_type": "stream",
          "name": "stdout",
          "text": [
            "Latest Gold Price: 1853.423\n",
            "Gold Price at: 2022-05-24 00:53:51.501000\n",
            "-----------------------------------------\n"
          ]
        },
        {
          "output_type": "display_data",
          "data": {
            "text/plain": [
              "<Figure size 1440x720 with 1 Axes>"
            ],
            "image/png": "[encoded data removed]"
          },
          "metadata": {
            "needs_background": "light"
          }
        },
        {
          "output_type": "stream",
          "name": "stdout",
          "text": [
            "Latest Gold Price: 1853.437\n",
            "Gold Price at: 2022-05-24 00:53:52.544000\n",
            "-----------------------------------------\n"
          ]
        },
        {
          "output_type": "display_data",
          "data": {
            "text/plain": [
              "<Figure size 1440x720 with 1 Axes>"
            ],
            "image/png": "[encoded data removed]"
          },
          "metadata": {
            "needs_background": "light"
          }
        },
        {
          "output_type": "stream",
          "name": "stdout",
          "text": [
            "Latest Gold Price: 1853.483\n",
            "Gold Price at: 2022-05-24 00:53:54.497000\n",
            "-----------------------------------------\n"
          ]
        },
        {
          "output_type": "display_data",
          "data": {
            "text/plain": [
              "<Figure size 1440x720 with 1 Axes>"
            ],
            "image/png": "[encoded data removed]"
          },
          "metadata": {
            "needs_background": "light"
          }
        },
        {
          "output_type": "stream",
          "name": "stdout",
          "text": [
            "Latest Gold Price: 1853.443\n",
            "Gold Price at: 2022-05-24 00:53:55.503000\n",
            "-----------------------------------------\n"
          ]
        },
        {
          "output_type": "display_data",
          "data": {
            "text/plain": [
              "<Figure size 1440x720 with 1 Axes>"
            ],
            "image/png": "[encoded data removed]"
          },
          "metadata": {
            "needs_background": "light"
          }
        },
        {
          "output_type": "stream",
          "name": "stdout",
          "text": [
            "Latest Gold Price: 1853.463\n",
            "Gold Price at: 2022-05-24 00:53:57.509000\n",
            "-----------------------------------------\n"
          ]
        },
        {
          "output_type": "display_data",
          "data": {
            "text/plain": [
              "<Figure size 1440x720 with 1 Axes>"
            ],
            "image/png": "[encoded data removed]"
          },
          "metadata": {
            "needs_background": "light"
          }
        },
        {
          "output_type": "stream",
          "name": "stdout",
          "text": [
            "Latest Gold Price: 1853.463\n",
            "Gold Price at: 2022-05-24 00:53:58.504000\n",
            "-----------------------------------------\n"
          ]
        },
        {
          "output_type": "display_data",
          "data": {
            "text/plain": [
              "<Figure size 1440x720 with 1 Axes>"
            ],
            "image/png": "[encoded data removed]"
          },
          "metadata": {
            "needs_background": "light"
          }
        },
        {
          "output_type": "stream",
          "name": "stdout",
          "text": [
            "Latest Gold Price: 1853.463\n",
            "Gold Price at: 2022-05-24 00:53:59.562000\n",
            "-----------------------------------------\n"
          ]
        },
        {
          "output_type": "display_data",
          "data": {
            "text/plain": [
              "<Figure size 1440x720 with 1 Axes>"
            ],
            "image/png": "[encoded data removed]"
          },
          "metadata": {
            "needs_background": "light"
          }
        },
        {
          "output_type": "stream",
          "name": "stdout",
          "text": [
            "Latest Gold Price: 1853.433\n",
            "Gold Price at: 2022-05-24 00:54:01.495000\n",
            "-----------------------------------------\n"
          ]
        },
        {
          "output_type": "display_data",
          "data": {
            "text/plain": [
              "<Figure size 1440x720 with 1 Axes>"
            ],
            "image/png": "[encoded data removed]"
          },
          "metadata": {
            "needs_background": "light"
          }
        },
        {
          "output_type": "stream",
          "name": "stdout",
          "text": [
            "Latest Gold Price: 1853.393\n",
            "Gold Price at: 2022-05-24 00:54:02.502000\n",
            "-----------------------------------------\n"
          ]
        },
        {
          "output_type": "display_data",
          "data": {
            "text/plain": [
              "<Figure size 1440x720 with 1 Axes>"
            ],
            "image/png": "[encoded data removed]"
          },
          "metadata": {
            "needs_background": "light"
          }
        },
        {
          "output_type": "error",
          "ename": "KeyboardInterrupt",
          "evalue": "ignored",
          "traceback": [
            "\u001b[0;31m---------------------------------------------------------------------------\u001b[0m",
            "\u001b[0;31mKeyboardInterrupt\u001b[0m                         Traceback (most recent call last)",
            "\u001b[0;32m<ipython-input-39-c4411eb396cd>\u001b[0m in \u001b[0;36m<module>\u001b[0;34m()\u001b[0m\n\u001b[1;32m      2\u001b[0m \u001b[0mgoldprice_dict\u001b[0m \u001b[0;34m=\u001b[0m \u001b[0;34m{\u001b[0m\u001b[0;34m}\u001b[0m\u001b[0;34m\u001b[0m\u001b[0;34m\u001b[0m\u001b[0m\n\u001b[1;32m      3\u001b[0m \u001b[0;32mwhile\u001b[0m\u001b[0;34m(\u001b[0m\u001b[0;32mTrue\u001b[0m\u001b[0;34m)\u001b[0m\u001b[0;34m:\u001b[0m\u001b[0;34m\u001b[0m\u001b[0;34m\u001b[0m\u001b[0m\n\u001b[0;32m----> 4\u001b[0;31m     \u001b[0;32mfor\u001b[0m \u001b[0mmessage\u001b[0m \u001b[0;32min\u001b[0m \u001b[0mconsumer\u001b[0m\u001b[0;34m:\u001b[0m\u001b[0;34m\u001b[0m\u001b[0;34m\u001b[0m\u001b[0m\n\u001b[0m\u001b[1;32m      5\u001b[0m         \u001b[0;31m#print(message)\u001b[0m\u001b[0;34m\u001b[0m\u001b[0;34m\u001b[0m\u001b[0;34m\u001b[0m\u001b[0m\n\u001b[1;32m      6\u001b[0m         \u001b[0md\u001b[0m\u001b[0;34m=\u001b[0m\u001b[0mjson\u001b[0m\u001b[0;34m.\u001b[0m\u001b[0mloads\u001b[0m\u001b[0;34m(\u001b[0m\u001b[0mmessage\u001b[0m\u001b[0;34m.\u001b[0m\u001b[0mvalue\u001b[0m\u001b[0;34m)\u001b[0m\u001b[0;34m\u001b[0m\u001b[0;34m\u001b[0m\u001b[0m\n",
            "\u001b[0;32m/usr/local/lib/python3.7/dist-packages/kafka/consumer/group.py\u001b[0m in \u001b[0;36m__next__\u001b[0;34m(self)\u001b[0m\n\u001b[1;32m   1191\u001b[0m             \u001b[0;32mreturn\u001b[0m \u001b[0mself\u001b[0m\u001b[0;34m.\u001b[0m\u001b[0mnext_v1\u001b[0m\u001b[0;34m(\u001b[0m\u001b[0;34m)\u001b[0m\u001b[0;34m\u001b[0m\u001b[0;34m\u001b[0m\u001b[0m\n\u001b[1;32m   1192\u001b[0m         \u001b[0;32melse\u001b[0m\u001b[0;34m:\u001b[0m\u001b[0;34m\u001b[0m\u001b[0;34m\u001b[0m\u001b[0m\n\u001b[0;32m-> 1193\u001b[0;31m             \u001b[0;32mreturn\u001b[0m \u001b[0mself\u001b[0m\u001b[0;34m.\u001b[0m\u001b[0mnext_v2\u001b[0m\u001b[0;34m(\u001b[0m\u001b[0;34m)\u001b[0m\u001b[0;34m\u001b[0m\u001b[0;34m\u001b[0m\u001b[0m\n\u001b[0m\u001b[1;32m   1194\u001b[0m \u001b[0;34m\u001b[0m\u001b[0m\n\u001b[1;32m   1195\u001b[0m     \u001b[0;32mdef\u001b[0m \u001b[0mnext_v2\u001b[0m\u001b[0;34m(\u001b[0m\u001b[0mself\u001b[0m\u001b[0;34m)\u001b[0m\u001b[0;34m:\u001b[0m\u001b[0;34m\u001b[0m\u001b[0;34m\u001b[0m\u001b[0m\n",
            "\u001b[0;32m/usr/local/lib/python3.7/dist-packages/kafka/consumer/group.py\u001b[0m in \u001b[0;36mnext_v2\u001b[0;34m(self)\u001b[0m\n\u001b[1;32m   1199\u001b[0m                 \u001b[0mself\u001b[0m\u001b[0;34m.\u001b[0m\u001b[0m_iterator\u001b[0m \u001b[0;34m=\u001b[0m \u001b[0mself\u001b[0m\u001b[0;34m.\u001b[0m\u001b[0m_message_generator_v2\u001b[0m\u001b[0;34m(\u001b[0m\u001b[0;34m)\u001b[0m\u001b[0;34m\u001b[0m\u001b[0;34m\u001b[0m\u001b[0m\n\u001b[1;32m   1200\u001b[0m             \u001b[0;32mtry\u001b[0m\u001b[0;34m:\u001b[0m\u001b[0;34m\u001b[0m\u001b[0;34m\u001b[0m\u001b[0m\n\u001b[0;32m-> 1201\u001b[0;31m                 \u001b[0;32mreturn\u001b[0m \u001b[0mnext\u001b[0m\u001b[0;34m(\u001b[0m\u001b[0mself\u001b[0m\u001b[0;34m.\u001b[0m\u001b[0m_iterator\u001b[0m\u001b[0;34m)\u001b[0m\u001b[0;34m\u001b[0m\u001b[0;34m\u001b[0m\u001b[0m\n\u001b[0m\u001b[1;32m   1202\u001b[0m             \u001b[0;32mexcept\u001b[0m \u001b[0mStopIteration\u001b[0m\u001b[0;34m:\u001b[0m\u001b[0;34m\u001b[0m\u001b[0;34m\u001b[0m\u001b[0m\n\u001b[1;32m   1203\u001b[0m                 \u001b[0mself\u001b[0m\u001b[0;34m.\u001b[0m\u001b[0m_iterator\u001b[0m \u001b[0;34m=\u001b[0m \u001b[0;32mNone\u001b[0m\u001b[0;34m\u001b[0m\u001b[0;34m\u001b[0m\u001b[0m\n",
            "\u001b[0;32m/usr/local/lib/python3.7/dist-packages/kafka/consumer/group.py\u001b[0m in \u001b[0;36m_message_generator_v2\u001b[0;34m(self)\u001b[0m\n\u001b[1;32m   1114\u001b[0m     \u001b[0;32mdef\u001b[0m \u001b[0m_message_generator_v2\u001b[0m\u001b[0;34m(\u001b[0m\u001b[0mself\u001b[0m\u001b[0;34m)\u001b[0m\u001b[0;34m:\u001b[0m\u001b[0;34m\u001b[0m\u001b[0;34m\u001b[0m\u001b[0m\n\u001b[1;32m   1115\u001b[0m         \u001b[0mtimeout_ms\u001b[0m \u001b[0;34m=\u001b[0m \u001b[0;36m1000\u001b[0m \u001b[0;34m*\u001b[0m \u001b[0;34m(\u001b[0m\u001b[0mself\u001b[0m\u001b[0;34m.\u001b[0m\u001b[0m_consumer_timeout\u001b[0m \u001b[0;34m-\u001b[0m \u001b[0mtime\u001b[0m\u001b[0;34m.\u001b[0m\u001b[0mtime\u001b[0m\u001b[0;34m(\u001b[0m\u001b[0;34m)\u001b[0m\u001b[0;34m)\u001b[0m\u001b[0;34m\u001b[0m\u001b[0;34m\u001b[0m\u001b[0m\n\u001b[0;32m-> 1116\u001b[0;31m         \u001b[0mrecord_map\u001b[0m \u001b[0;34m=\u001b[0m \u001b[0mself\u001b[0m\u001b[0;34m.\u001b[0m\u001b[0mpoll\u001b[0m\u001b[0;34m(\u001b[0m\u001b[0mtimeout_ms\u001b[0m\u001b[0;34m=\u001b[0m\u001b[0mtimeout_ms\u001b[0m\u001b[0;34m,\u001b[0m \u001b[0mupdate_offsets\u001b[0m\u001b[0;34m=\u001b[0m\u001b[0;32mFalse\u001b[0m\u001b[0;34m)\u001b[0m\u001b[0;34m\u001b[0m\u001b[0;34m\u001b[0m\u001b[0m\n\u001b[0m\u001b[1;32m   1117\u001b[0m         \u001b[0;32mfor\u001b[0m \u001b[0mtp\u001b[0m\u001b[0;34m,\u001b[0m \u001b[0mrecords\u001b[0m \u001b[0;32min\u001b[0m \u001b[0msix\u001b[0m\u001b[0;34m.\u001b[0m\u001b[0miteritems\u001b[0m\u001b[0;34m(\u001b[0m\u001b[0mrecord_map\u001b[0m\u001b[0;34m)\u001b[0m\u001b[0;34m:\u001b[0m\u001b[0;34m\u001b[0m\u001b[0;34m\u001b[0m\u001b[0m\n\u001b[1;32m   1118\u001b[0m             \u001b[0;31m# Generators are stateful, and it is possible that the tp / records\u001b[0m\u001b[0;34m\u001b[0m\u001b[0;34m\u001b[0m\u001b[0;34m\u001b[0m\u001b[0m\n",
            "\u001b[0;32m/usr/local/lib/python3.7/dist-packages/kafka/consumer/group.py\u001b[0m in \u001b[0;36mpoll\u001b[0;34m(self, timeout_ms, max_records, update_offsets)\u001b[0m\n\u001b[1;32m    653\u001b[0m         \u001b[0mremaining\u001b[0m \u001b[0;34m=\u001b[0m \u001b[0mtimeout_ms\u001b[0m\u001b[0;34m\u001b[0m\u001b[0;34m\u001b[0m\u001b[0m\n\u001b[1;32m    654\u001b[0m         \u001b[0;32mwhile\u001b[0m \u001b[0;32mTrue\u001b[0m\u001b[0;34m:\u001b[0m\u001b[0;34m\u001b[0m\u001b[0;34m\u001b[0m\u001b[0m\n\u001b[0;32m--> 655\u001b[0;31m             \u001b[0mrecords\u001b[0m \u001b[0;34m=\u001b[0m \u001b[0mself\u001b[0m\u001b[0;34m.\u001b[0m\u001b[0m_poll_once\u001b[0m\u001b[0;34m(\u001b[0m\u001b[0mremaining\u001b[0m\u001b[0;34m,\u001b[0m \u001b[0mmax_records\u001b[0m\u001b[0;34m,\u001b[0m \u001b[0mupdate_offsets\u001b[0m\u001b[0;34m=\u001b[0m\u001b[0mupdate_offsets\u001b[0m\u001b[0;34m)\u001b[0m\u001b[0;34m\u001b[0m\u001b[0;34m\u001b[0m\u001b[0m\n\u001b[0m\u001b[1;32m    656\u001b[0m             \u001b[0;32mif\u001b[0m \u001b[0mrecords\u001b[0m\u001b[0;34m:\u001b[0m\u001b[0;34m\u001b[0m\u001b[0;34m\u001b[0m\u001b[0m\n\u001b[1;32m    657\u001b[0m                 \u001b[0;32mreturn\u001b[0m \u001b[0mrecords\u001b[0m\u001b[0;34m\u001b[0m\u001b[0;34m\u001b[0m\u001b[0m\n",
            "\u001b[0;32m/usr/local/lib/python3.7/dist-packages/kafka/consumer/group.py\u001b[0m in \u001b[0;36m_poll_once\u001b[0;34m(self, timeout_ms, max_records, update_offsets)\u001b[0m\n\u001b[1;32m    700\u001b[0m \u001b[0;34m\u001b[0m\u001b[0m\n\u001b[1;32m    701\u001b[0m         \u001b[0mtimeout_ms\u001b[0m \u001b[0;34m=\u001b[0m \u001b[0mmin\u001b[0m\u001b[0;34m(\u001b[0m\u001b[0mtimeout_ms\u001b[0m\u001b[0;34m,\u001b[0m \u001b[0mself\u001b[0m\u001b[0;34m.\u001b[0m\u001b[0m_coordinator\u001b[0m\u001b[0;34m.\u001b[0m\u001b[0mtime_to_next_poll\u001b[0m\u001b[0;34m(\u001b[0m\u001b[0;34m)\u001b[0m \u001b[0;34m*\u001b[0m \u001b[0;36m1000\u001b[0m\u001b[0;34m)\u001b[0m\u001b[0;34m\u001b[0m\u001b[0;34m\u001b[0m\u001b[0m\n\u001b[0;32m--> 702\u001b[0;31m         \u001b[0mself\u001b[0m\u001b[0;34m.\u001b[0m\u001b[0m_client\u001b[0m\u001b[0;34m.\u001b[0m\u001b[0mpoll\u001b[0m\u001b[0;34m(\u001b[0m\u001b[0mtimeout_ms\u001b[0m\u001b[0;34m=\u001b[0m\u001b[0mtimeout_ms\u001b[0m\u001b[0;34m)\u001b[0m\u001b[0;34m\u001b[0m\u001b[0;34m\u001b[0m\u001b[0m\n\u001b[0m\u001b[1;32m    703\u001b[0m         \u001b[0;31m# after the long poll, we should check whether the group needs to rebalance\u001b[0m\u001b[0;34m\u001b[0m\u001b[0;34m\u001b[0m\u001b[0;34m\u001b[0m\u001b[0m\n\u001b[1;32m    704\u001b[0m         \u001b[0;31m# prior to returning data so that the group can stabilize faster\u001b[0m\u001b[0;34m\u001b[0m\u001b[0;34m\u001b[0m\u001b[0;34m\u001b[0m\u001b[0m\n",
            "\u001b[0;32m/usr/local/lib/python3.7/dist-packages/kafka/client_async.py\u001b[0m in \u001b[0;36mpoll\u001b[0;34m(self, timeout_ms, future)\u001b[0m\n\u001b[1;32m    600\u001b[0m                     \u001b[0mtimeout\u001b[0m \u001b[0;34m=\u001b[0m \u001b[0mmax\u001b[0m\u001b[0;34m(\u001b[0m\u001b[0;36m0\u001b[0m\u001b[0;34m,\u001b[0m \u001b[0mtimeout\u001b[0m\u001b[0;34m)\u001b[0m  \u001b[0;31m# avoid negative timeouts\u001b[0m\u001b[0;34m\u001b[0m\u001b[0;34m\u001b[0m\u001b[0m\n\u001b[1;32m    601\u001b[0m \u001b[0;34m\u001b[0m\u001b[0m\n\u001b[0;32m--> 602\u001b[0;31m                 \u001b[0mself\u001b[0m\u001b[0;34m.\u001b[0m\u001b[0m_poll\u001b[0m\u001b[0;34m(\u001b[0m\u001b[0mtimeout\u001b[0m \u001b[0;34m/\u001b[0m \u001b[0;36m1000\u001b[0m\u001b[0;34m)\u001b[0m\u001b[0;34m\u001b[0m\u001b[0;34m\u001b[0m\u001b[0m\n\u001b[0m\u001b[1;32m    603\u001b[0m \u001b[0;34m\u001b[0m\u001b[0m\n\u001b[1;32m    604\u001b[0m             \u001b[0;31m# called without the lock to avoid deadlock potential\u001b[0m\u001b[0;34m\u001b[0m\u001b[0;34m\u001b[0m\u001b[0;34m\u001b[0m\u001b[0m\n",
            "\u001b[0;32m/usr/local/lib/python3.7/dist-packages/kafka/client_async.py\u001b[0m in \u001b[0;36m_poll\u001b[0;34m(self, timeout)\u001b[0m\n\u001b[1;32m    632\u001b[0m \u001b[0;34m\u001b[0m\u001b[0m\n\u001b[1;32m    633\u001b[0m         \u001b[0mstart_select\u001b[0m \u001b[0;34m=\u001b[0m \u001b[0mtime\u001b[0m\u001b[0;34m.\u001b[0m\u001b[0mtime\u001b[0m\u001b[0;34m(\u001b[0m\u001b[0;34m)\u001b[0m\u001b[0;34m\u001b[0m\u001b[0;34m\u001b[0m\u001b[0m\n\u001b[0;32m--> 634\u001b[0;31m         \u001b[0mready\u001b[0m \u001b[0;34m=\u001b[0m \u001b[0mself\u001b[0m\u001b[0;34m.\u001b[0m\u001b[0m_selector\u001b[0m\u001b[0;34m.\u001b[0m\u001b[0mselect\u001b[0m\u001b[0;34m(\u001b[0m\u001b[0mtimeout\u001b[0m\u001b[0;34m)\u001b[0m\u001b[0;34m\u001b[0m\u001b[0;34m\u001b[0m\u001b[0m\n\u001b[0m\u001b[1;32m    635\u001b[0m         \u001b[0mend_select\u001b[0m \u001b[0;34m=\u001b[0m \u001b[0mtime\u001b[0m\u001b[0;34m.\u001b[0m\u001b[0mtime\u001b[0m\u001b[0;34m(\u001b[0m\u001b[0;34m)\u001b[0m\u001b[0;34m\u001b[0m\u001b[0;34m\u001b[0m\u001b[0m\n\u001b[1;32m    636\u001b[0m         \u001b[0;32mif\u001b[0m \u001b[0mself\u001b[0m\u001b[0;34m.\u001b[0m\u001b[0m_sensors\u001b[0m\u001b[0;34m:\u001b[0m\u001b[0;34m\u001b[0m\u001b[0;34m\u001b[0m\u001b[0m\n",
            "\u001b[0;32m/usr/lib/python3.7/selectors.py\u001b[0m in \u001b[0;36mselect\u001b[0;34m(self, timeout)\u001b[0m\n\u001b[1;32m    466\u001b[0m             \u001b[0mready\u001b[0m \u001b[0;34m=\u001b[0m \u001b[0;34m[\u001b[0m\u001b[0;34m]\u001b[0m\u001b[0;34m\u001b[0m\u001b[0;34m\u001b[0m\u001b[0m\n\u001b[1;32m    467\u001b[0m             \u001b[0;32mtry\u001b[0m\u001b[0;34m:\u001b[0m\u001b[0;34m\u001b[0m\u001b[0;34m\u001b[0m\u001b[0m\n\u001b[0;32m--> 468\u001b[0;31m                 \u001b[0mfd_event_list\u001b[0m \u001b[0;34m=\u001b[0m \u001b[0mself\u001b[0m\u001b[0;34m.\u001b[0m\u001b[0m_selector\u001b[0m\u001b[0;34m.\u001b[0m\u001b[0mpoll\u001b[0m\u001b[0;34m(\u001b[0m\u001b[0mtimeout\u001b[0m\u001b[0;34m,\u001b[0m \u001b[0mmax_ev\u001b[0m\u001b[0;34m)\u001b[0m\u001b[0;34m\u001b[0m\u001b[0;34m\u001b[0m\u001b[0m\n\u001b[0m\u001b[1;32m    469\u001b[0m             \u001b[0;32mexcept\u001b[0m \u001b[0mInterruptedError\u001b[0m\u001b[0;34m:\u001b[0m\u001b[0;34m\u001b[0m\u001b[0;34m\u001b[0m\u001b[0m\n\u001b[1;32m    470\u001b[0m                 \u001b[0;32mreturn\u001b[0m \u001b[0mready\u001b[0m\u001b[0;34m\u001b[0m\u001b[0;34m\u001b[0m\u001b[0m\n",
            "\u001b[0;31mKeyboardInterrupt\u001b[0m: "
          ]
        }
      ]
    },
    {
      "cell_type": "code",
      "source": [
        "df.head(5)"
      ],
      "metadata": {
        "colab": {
          "base_uri": "https://localhost:8080/",
          "height": 206
        },
        "id": "Cldz24fajoQv",
        "outputId": "ceeee821-9634-48e3-ffd5-e6c3ead327b6"
      },
      "execution_count": null,
      "outputs": [
        {
          "output_type": "execute_result",
          "data": {
            "text/plain": [
              "                                      topo  \\\n",
              "0   {'platform': 'MT5', 'server': 'Live1'}   \n",
              "1   {'platform': 'MT4', 'server': 'Real2'}   \n",
              "2   {'platform': 'MT4', 'server': 'Live2'}   \n",
              "3   {'platform': 'MT4', 'server': 'Live1'}   \n",
              "4  {'platform': 'MT4', 'server': 'RealUK'}   \n",
              "\n",
              "                                 spreadProfilePrices             ts  \n",
              "0  [{'spreadProfile': 'Prime', 'bidSpread': 11.4,...  1653353642502  \n",
              "1  [{'spreadProfile': 'Prime', 'bidSpread': 17.5,...  1653353642516  \n",
              "2  [{'spreadProfile': 'Standard', 'bidSpread': 6....  1653353642524  \n",
              "3  [{'spreadProfile': 'Prime', 'bidSpread': 11.4,...  1653353642527  \n",
              "4  [{'spreadProfile': 'Prime', 'bidSpread': 17.5,...  1653353642539  "
            ],
            "text/html": [
              "\n",
              "  <div id=\"df-04db955f-b50a-4209-9a9b-4179fb9ed070\">\n",
              "    <div class=\"colab-df-container\">\n",
              "      <div>\n",
              "<style scoped>\n",
              "    .dataframe tbody tr th:only-of-type {\n",
              "        vertical-align: middle;\n",
              "    }\n",
              "\n",
              "    .dataframe tbody tr th {\n",
              "        vertical-align: top;\n",
              "    }\n",
              "\n",
              "    .dataframe thead th {\n",
              "        text-align: right;\n",
              "    }\n",
              "</style>\n",
              "<table border=\"1\" class=\"dataframe\">\n",
              "  <thead>\n",
              "    <tr style=\"text-align: right;\">\n",
              "      <th></th>\n",
              "      <th>topo</th>\n",
              "      <th>spreadProfilePrices</th>\n",
              "      <th>ts</th>\n",
              "    </tr>\n",
              "  </thead>\n",
              "  <tbody>\n",
              "    <tr>\n",
              "      <th>0</th>\n",
              "      <td>{'platform': 'MT5', 'server': 'Live1'}</td>\n",
              "      <td>[{'spreadProfile': 'Prime', 'bidSpread': 11.4,...</td>\n",
              "      <td>1653353642502</td>\n",
              "    </tr>\n",
              "    <tr>\n",
              "      <th>1</th>\n",
              "      <td>{'platform': 'MT4', 'server': 'Real2'}</td>\n",
              "      <td>[{'spreadProfile': 'Prime', 'bidSpread': 17.5,...</td>\n",
              "      <td>1653353642516</td>\n",
              "    </tr>\n",
              "    <tr>\n",
              "      <th>2</th>\n",
              "      <td>{'platform': 'MT4', 'server': 'Live2'}</td>\n",
              "      <td>[{'spreadProfile': 'Standard', 'bidSpread': 6....</td>\n",
              "      <td>1653353642524</td>\n",
              "    </tr>\n",
              "    <tr>\n",
              "      <th>3</th>\n",
              "      <td>{'platform': 'MT4', 'server': 'Live1'}</td>\n",
              "      <td>[{'spreadProfile': 'Prime', 'bidSpread': 11.4,...</td>\n",
              "      <td>1653353642527</td>\n",
              "    </tr>\n",
              "    <tr>\n",
              "      <th>4</th>\n",
              "      <td>{'platform': 'MT4', 'server': 'RealUK'}</td>\n",
              "      <td>[{'spreadProfile': 'Prime', 'bidSpread': 17.5,...</td>\n",
              "      <td>1653353642539</td>\n",
              "    </tr>\n",
              "  </tbody>\n",
              "</table>\n",
              "</div>\n",
              "      <button class=\"colab-df-convert\" onclick=\"convertToInteractive('df-04db955f-b50a-4209-9a9b-4179fb9ed070')\"\n",
              "              title=\"Convert this dataframe to an interactive table.\"\n",
              "              style=\"display:none;\">\n",
              "        \n",
              "  <svg xmlns=\"http://www.w3.org/2000/svg\" height=\"24px\"viewBox=\"0 0 24 24\"\n",
              "       width=\"24px\">\n",
              "    <path d=\"M0 0h24v24H0V0z\" fill=\"none\"/>\n",
              "    <path d=\"M18.56 5.44l.94 2.06.94-2.06 2.06-.94-2.06-.94-.94-2.06-.94 2.06-2.06.94zm-11 1L8.5 8.5l.94-2.06 2.06-.94-2.06-.94L8.5 2.5l-.94 2.06-2.06.94zm10 10l.94 2.06.94-2.06 2.06-.94-2.06-.94-.94-2.06-.94 2.06-2.06.94z\"/><path d=\"M17.41 7.96l-1.37-1.37c-.4-.4-.92-.59-1.43-.59-.52 0-1.04.2-1.43.59L10.3 9.45l-7.72 7.72c-.78.78-.78 2.05 0 2.83L4 21.41c.39.39.9.59 1.41.59.51 0 1.02-.2 1.41-.59l7.78-7.78 2.81-2.81c.8-.78.8-2.07 0-2.86zM5.41 20L4 18.59l7.72-7.72 1.47 1.35L5.41 20z\"/>\n",
              "  </svg>\n",
              "      </button>\n",
              "      \n",
              "  <style>\n",
              "    .colab-df-container {\n",
              "      display:flex;\n",
              "      flex-wrap:wrap;\n",
              "      gap: 12px;\n",
              "    }\n",
              "\n",
              "    .colab-df-convert {\n",
              "      background-color: #E8F0FE;\n",
              "      border: none;\n",
              "      border-radius: 50%;\n",
              "      cursor: pointer;\n",
              "      display: none;\n",
              "      fill: #1967D2;\n",
              "      height: 32px;\n",
              "      padding: 0 0 0 0;\n",
              "      width: 32px;\n",
              "    }\n",
              "\n",
              "    .colab-df-convert:hover {\n",
              "      background-color: #E2EBFA;\n",
              "      box-shadow: 0px 1px 2px rgba(60, 64, 67, 0.3), 0px 1px 3px 1px rgba(60, 64, 67, 0.15);\n",
              "      fill: #174EA6;\n",
              "    }\n",
              "\n",
              "    [theme=dark] .colab-df-convert {\n",
              "      background-color: #3B4455;\n",
              "      fill: #D2E3FC;\n",
              "    }\n",
              "\n",
              "    [theme=dark] .colab-df-convert:hover {\n",
              "      background-color: #434B5C;\n",
              "      box-shadow: 0px 1px 3px 1px rgba(0, 0, 0, 0.15);\n",
              "      filter: drop-shadow(0px 1px 2px rgba(0, 0, 0, 0.3));\n",
              "      fill: #FFFFFF;\n",
              "    }\n",
              "  </style>\n",
              "\n",
              "      <script>\n",
              "        const buttonEl =\n",
              "          document.querySelector('#df-04db955f-b50a-4209-9a9b-4179fb9ed070 button.colab-df-convert');\n",
              "        buttonEl.style.display =\n",
              "          google.colab.kernel.accessAllowed ? 'block' : 'none';\n",
              "\n",
              "        async function convertToInteractive(key) {\n",
              "          const element = document.querySelector('#df-04db955f-b50a-4209-9a9b-4179fb9ed070');\n",
              "          const dataTable =\n",
              "            await google.colab.kernel.invokeFunction('convertToInteractive',\n",
              "                                                     [key], {});\n",
              "          if (!dataTable) return;\n",
              "\n",
              "          const docLinkHtml = 'Like what you see? Visit the ' +\n",
              "            '<a target=\"_blank\" href=https://colab.research.google.com/notebooks/data_table.ipynb>data table notebook</a>'\n",
              "            + ' to learn more about interactive tables.';\n",
              "          element.innerHTML = '';\n",
              "          dataTable['output_type'] = 'display_data';\n",
              "          await google.colab.output.renderOutput(dataTable, element);\n",
              "          const docLink = document.createElement('div');\n",
              "          docLink.innerHTML = docLinkHtml;\n",
              "          element.appendChild(docLink);\n",
              "        }\n",
              "      </script>\n",
              "    </div>\n",
              "  </div>\n",
              "  "
            ]
          },
          "metadata": {},
          "execution_count": 40
        }
      ]
    },
    {
      "cell_type": "code",
      "source": [
        "# Bid es el precio más alto que el comprador está dispuesto a pagar, y \n",
        "# ask el precio más bajo al que el vendedor está dispuesto a vender.\n",
        "# El spread del precio bid es la diferencia entre el  precio más alto que el comprador \n",
        "# esta dispuesto a pagar por el bien (en este caso oro) y el minimo precio que el\n",
        "# vendedor esta dispuesto a vender\n",
        "\n",
        "#Para el oro prime\n",
        "ask_price = df['spreadProfilePrices'][0][0]['ask'] \n",
        "bid_price = df['spreadProfilePrices'][0][0]['bid']\n",
        "\n",
        "print(ask_price, bid_price)\n"
      ],
      "metadata": {
        "colab": {
          "base_uri": "https://localhost:8080/"
        },
        "id": "SC-L9nFYjqdH",
        "outputId": "254cffbd-4f2c-4392-dd3b-4949e0eb69e7"
      },
      "execution_count": null,
      "outputs": [
        {
          "output_type": "stream",
          "name": "stdout",
          "text": [
            "1853.393 1853.066\n"
          ]
        }
      ]
    },
    {
      "cell_type": "markdown",
      "source": [
        "# Clasificación suscripción de productos bancarios\n",
        "## Explorando data bancaria\n"
      ],
      "metadata": {
        "id": "71J4kNwsY8pq"
      }
    },
    {
      "cell_type": "markdown",
      "source": [
        "## Definición del problema\n",
        "\n",
        "A continuación se presenta un set de datos obtenidos de una campaa de marketing de una institución bancaria. El objetivo de la campaña es determinar si el cliente se suscribirá o no al producto (depósito a plazo) y para esto, se realiza un modelo de clasificación binaria. En particular, se utilizará la regresión logística (enfoque más simple) y un Gradient-Boosted Tree Clasifier (enfoque más sofisticado). Para construir el modelo, así como para analizar y limpiar los datos, se utilizará PySpark."
      ],
      "metadata": {
        "id": "61AjAqW0TKNr"
      }
    },
    {
      "cell_type": "code",
      "source": [
        "!pip install pyspark"
      ],
      "metadata": {
        "colab": {
          "base_uri": "https://localhost:8080/"
        },
        "id": "0xE2R2QuHNX3",
        "outputId": "29c602d9-7975-4274-ab52-5af660a5b004"
      },
      "execution_count": null,
      "outputs": [
        {
          "output_type": "stream",
          "name": "stdout",
          "text": [
            "Requirement already satisfied: pyspark in /usr/local/lib/python3.7/dist-packages (3.2.1)\n",
            "Requirement already satisfied: py4j==0.10.9.3 in /usr/local/lib/python3.7/dist-packages (from pyspark) (0.10.9.3)\n"
          ]
        }
      ]
    },
    {
      "cell_type": "markdown",
      "source": [
        "El primer paso es importar las librerías que utilizaremos para construir e implementar el modelo"
      ],
      "metadata": {
        "id": "IG_ElRJVT8pH"
      }
    },
    {
      "cell_type": "code",
      "source": [
        "import numpy as np\n",
        "import pandas as pd\n",
        "from pyspark.sql import SparkSession\n",
        "from pyspark.ml.feature import OneHotEncoder, StringIndexer, VectorAssembler\n",
        "from pyspark.ml import Pipeline\n",
        "from pyspark.ml.classification import LogisticRegression\n",
        "import matplotlib.pyplot as plt\n",
        "from pyspark.ml.evaluation import BinaryClassificationEvaluator\n",
        "from pyspark.ml.classification import GBTClassifier\n",
        "from pyspark.ml.tuning import ParamGridBuilder, CrossValidator"
      ],
      "metadata": {
        "id": "uxeu57HEZG8J"
      },
      "execution_count": null,
      "outputs": []
    },
    {
      "cell_type": "markdown",
      "source": [
        "Montaremos también drive para así poder leer los datos almacenados en nuestro espacio"
      ],
      "metadata": {
        "id": "lc4mT-j9Ucbv"
      }
    },
    {
      "cell_type": "code",
      "source": [
        "from google.colab import drive\n",
        "drive.mount(\"/content/drive/\")\n",
        "path = \"/content/drive/MyDrive/Cursos/Data Science UDD/Big Data/\""
      ],
      "metadata": {
        "colab": {
          "base_uri": "https://localhost:8080/"
        },
        "id": "DushjHUBZLRo",
        "outputId": "f3e9ab0b-ff3b-4811-c1ee-0213a5f9b6fa"
      },
      "execution_count": null,
      "outputs": [
        {
          "output_type": "stream",
          "name": "stdout",
          "text": [
            "Drive already mounted at /content/drive/; to attempt to forcibly remount, call drive.mount(\"/content/drive/\", force_remount=True).\n"
          ]
        }
      ]
    },
    {
      "cell_type": "markdown",
      "source": [
        "Damos una primera mirada al esquema de los datos, para entender las variables y qué papel jugará cada una en el modelo"
      ],
      "metadata": {
        "id": "kowQz8MWU0nT"
      }
    },
    {
      "cell_type": "code",
      "source": [
        "spark = SparkSession.builder.appName(\"Bank\").getOrCreate()\n",
        "df = spark.read.csv(path + 'bank.csv', header = True, inferSchema = True)\n",
        "df.printSchema()"
      ],
      "metadata": {
        "colab": {
          "base_uri": "https://localhost:8080/"
        },
        "id": "e_edeiRrZSFx",
        "outputId": "2adceb23-341f-4335-83d2-194ae37d016f"
      },
      "execution_count": null,
      "outputs": [
        {
          "output_type": "stream",
          "name": "stdout",
          "text": [
            "root\n",
            " |-- age: integer (nullable = true)\n",
            " |-- job: string (nullable = true)\n",
            " |-- marital: string (nullable = true)\n",
            " |-- education: string (nullable = true)\n",
            " |-- default: string (nullable = true)\n",
            " |-- balance: integer (nullable = true)\n",
            " |-- housing: string (nullable = true)\n",
            " |-- loan: string (nullable = true)\n",
            " |-- contact: string (nullable = true)\n",
            " |-- day: integer (nullable = true)\n",
            " |-- month: string (nullable = true)\n",
            " |-- duration: integer (nullable = true)\n",
            " |-- campaign: integer (nullable = true)\n",
            " |-- pdays: integer (nullable = true)\n",
            " |-- previous: integer (nullable = true)\n",
            " |-- poutcome: string (nullable = true)\n",
            " |-- deposit: string (nullable = true)\n",
            "\n"
          ]
        }
      ]
    },
    {
      "cell_type": "code",
      "source": [
        "pd.DataFrame(df.take(5), columns=df.columns).transpose()"
      ],
      "metadata": {
        "colab": {
          "base_uri": "https://localhost:8080/",
          "height": 582
        },
        "id": "OvTVgtQCaHxa",
        "outputId": "24507d27-651c-498c-c24a-d31a9b9b1749"
      },
      "execution_count": null,
      "outputs": [
        {
          "output_type": "execute_result",
          "data": {
            "text/plain": [
              "                   0          1           2          3         4\n",
              "age               59         56          41         55        54\n",
              "job           admin.     admin.  technician   services    admin.\n",
              "marital      married    married     married    married   married\n",
              "education  secondary  secondary   secondary  secondary  tertiary\n",
              "default           no         no          no         no        no\n",
              "balance         2343         45        1270       2476       184\n",
              "housing          yes         no         yes        yes        no\n",
              "loan              no         no          no         no        no\n",
              "contact      unknown    unknown     unknown    unknown   unknown\n",
              "day                5          5           5          5         5\n",
              "month            may        may         may        may       may\n",
              "duration        1042       1467        1389        579       673\n",
              "campaign           1          1           1          1         2\n",
              "pdays             -1         -1          -1         -1        -1\n",
              "previous           0          0           0          0         0\n",
              "poutcome     unknown    unknown     unknown    unknown   unknown\n",
              "deposit          yes        yes         yes        yes       yes"
            ],
            "text/html": [
              "\n",
              "  <div id=\"df-e05cea67-69ba-4d79-9a3e-a10a147f10f1\">\n",
              "    <div class=\"colab-df-container\">\n",
              "      <div>\n",
              "<style scoped>\n",
              "    .dataframe tbody tr th:only-of-type {\n",
              "        vertical-align: middle;\n",
              "    }\n",
              "\n",
              "    .dataframe tbody tr th {\n",
              "        vertical-align: top;\n",
              "    }\n",
              "\n",
              "    .dataframe thead th {\n",
              "        text-align: right;\n",
              "    }\n",
              "</style>\n",
              "<table border=\"1\" class=\"dataframe\">\n",
              "  <thead>\n",
              "    <tr style=\"text-align: right;\">\n",
              "      <th></th>\n",
              "      <th>0</th>\n",
              "      <th>1</th>\n",
              "      <th>2</th>\n",
              "      <th>3</th>\n",
              "      <th>4</th>\n",
              "    </tr>\n",
              "  </thead>\n",
              "  <tbody>\n",
              "    <tr>\n",
              "      <th>age</th>\n",
              "      <td>59</td>\n",
              "      <td>56</td>\n",
              "      <td>41</td>\n",
              "      <td>55</td>\n",
              "      <td>54</td>\n",
              "    </tr>\n",
              "    <tr>\n",
              "      <th>job</th>\n",
              "      <td>admin.</td>\n",
              "      <td>admin.</td>\n",
              "      <td>technician</td>\n",
              "      <td>services</td>\n",
              "      <td>admin.</td>\n",
              "    </tr>\n",
              "    <tr>\n",
              "      <th>marital</th>\n",
              "      <td>married</td>\n",
              "      <td>married</td>\n",
              "      <td>married</td>\n",
              "      <td>married</td>\n",
              "      <td>married</td>\n",
              "    </tr>\n",
              "    <tr>\n",
              "      <th>education</th>\n",
              "      <td>secondary</td>\n",
              "      <td>secondary</td>\n",
              "      <td>secondary</td>\n",
              "      <td>secondary</td>\n",
              "      <td>tertiary</td>\n",
              "    </tr>\n",
              "    <tr>\n",
              "      <th>default</th>\n",
              "      <td>no</td>\n",
              "      <td>no</td>\n",
              "      <td>no</td>\n",
              "      <td>no</td>\n",
              "      <td>no</td>\n",
              "    </tr>\n",
              "    <tr>\n",
              "      <th>balance</th>\n",
              "      <td>2343</td>\n",
              "      <td>45</td>\n",
              "      <td>1270</td>\n",
              "      <td>2476</td>\n",
              "      <td>184</td>\n",
              "    </tr>\n",
              "    <tr>\n",
              "      <th>housing</th>\n",
              "      <td>yes</td>\n",
              "      <td>no</td>\n",
              "      <td>yes</td>\n",
              "      <td>yes</td>\n",
              "      <td>no</td>\n",
              "    </tr>\n",
              "    <tr>\n",
              "      <th>loan</th>\n",
              "      <td>no</td>\n",
              "      <td>no</td>\n",
              "      <td>no</td>\n",
              "      <td>no</td>\n",
              "      <td>no</td>\n",
              "    </tr>\n",
              "    <tr>\n",
              "      <th>contact</th>\n",
              "      <td>unknown</td>\n",
              "      <td>unknown</td>\n",
              "      <td>unknown</td>\n",
              "      <td>unknown</td>\n",
              "      <td>unknown</td>\n",
              "    </tr>\n",
              "    <tr>\n",
              "      <th>day</th>\n",
              "      <td>5</td>\n",
              "      <td>5</td>\n",
              "      <td>5</td>\n",
              "      <td>5</td>\n",
              "      <td>5</td>\n",
              "    </tr>\n",
              "    <tr>\n",
              "      <th>month</th>\n",
              "      <td>may</td>\n",
              "      <td>may</td>\n",
              "      <td>may</td>\n",
              "      <td>may</td>\n",
              "      <td>may</td>\n",
              "    </tr>\n",
              "    <tr>\n",
              "      <th>duration</th>\n",
              "      <td>1042</td>\n",
              "      <td>1467</td>\n",
              "      <td>1389</td>\n",
              "      <td>579</td>\n",
              "      <td>673</td>\n",
              "    </tr>\n",
              "    <tr>\n",
              "      <th>campaign</th>\n",
              "      <td>1</td>\n",
              "      <td>1</td>\n",
              "      <td>1</td>\n",
              "      <td>1</td>\n",
              "      <td>2</td>\n",
              "    </tr>\n",
              "    <tr>\n",
              "      <th>pdays</th>\n",
              "      <td>-1</td>\n",
              "      <td>-1</td>\n",
              "      <td>-1</td>\n",
              "      <td>-1</td>\n",
              "      <td>-1</td>\n",
              "    </tr>\n",
              "    <tr>\n",
              "      <th>previous</th>\n",
              "      <td>0</td>\n",
              "      <td>0</td>\n",
              "      <td>0</td>\n",
              "      <td>0</td>\n",
              "      <td>0</td>\n",
              "    </tr>\n",
              "    <tr>\n",
              "      <th>poutcome</th>\n",
              "      <td>unknown</td>\n",
              "      <td>unknown</td>\n",
              "      <td>unknown</td>\n",
              "      <td>unknown</td>\n",
              "      <td>unknown</td>\n",
              "    </tr>\n",
              "    <tr>\n",
              "      <th>deposit</th>\n",
              "      <td>yes</td>\n",
              "      <td>yes</td>\n",
              "      <td>yes</td>\n",
              "      <td>yes</td>\n",
              "      <td>yes</td>\n",
              "    </tr>\n",
              "  </tbody>\n",
              "</table>\n",
              "</div>\n",
              "      <button class=\"colab-df-convert\" onclick=\"convertToInteractive('df-e05cea67-69ba-4d79-9a3e-a10a147f10f1')\"\n",
              "              title=\"Convert this dataframe to an interactive table.\"\n",
              "              style=\"display:none;\">\n",
              "        \n",
              "  <svg xmlns=\"http://www.w3.org/2000/svg\" height=\"24px\"viewBox=\"0 0 24 24\"\n",
              "       width=\"24px\">\n",
              "    <path d=\"M0 0h24v24H0V0z\" fill=\"none\"/>\n",
              "    <path d=\"M18.56 5.44l.94 2.06.94-2.06 2.06-.94-2.06-.94-.94-2.06-.94 2.06-2.06.94zm-11 1L8.5 8.5l.94-2.06 2.06-.94-2.06-.94L8.5 2.5l-.94 2.06-2.06.94zm10 10l.94 2.06.94-2.06 2.06-.94-2.06-.94-.94-2.06-.94 2.06-2.06.94z\"/><path d=\"M17.41 7.96l-1.37-1.37c-.4-.4-.92-.59-1.43-.59-.52 0-1.04.2-1.43.59L10.3 9.45l-7.72 7.72c-.78.78-.78 2.05 0 2.83L4 21.41c.39.39.9.59 1.41.59.51 0 1.02-.2 1.41-.59l7.78-7.78 2.81-2.81c.8-.78.8-2.07 0-2.86zM5.41 20L4 18.59l7.72-7.72 1.47 1.35L5.41 20z\"/>\n",
              "  </svg>\n",
              "      </button>\n",
              "      \n",
              "  <style>\n",
              "    .colab-df-container {\n",
              "      display:flex;\n",
              "      flex-wrap:wrap;\n",
              "      gap: 12px;\n",
              "    }\n",
              "\n",
              "    .colab-df-convert {\n",
              "      background-color: #E8F0FE;\n",
              "      border: none;\n",
              "      border-radius: 50%;\n",
              "      cursor: pointer;\n",
              "      display: none;\n",
              "      fill: #1967D2;\n",
              "      height: 32px;\n",
              "      padding: 0 0 0 0;\n",
              "      width: 32px;\n",
              "    }\n",
              "\n",
              "    .colab-df-convert:hover {\n",
              "      background-color: #E2EBFA;\n",
              "      box-shadow: 0px 1px 2px rgba(60, 64, 67, 0.3), 0px 1px 3px 1px rgba(60, 64, 67, 0.15);\n",
              "      fill: #174EA6;\n",
              "    }\n",
              "\n",
              "    [theme=dark] .colab-df-convert {\n",
              "      background-color: #3B4455;\n",
              "      fill: #D2E3FC;\n",
              "    }\n",
              "\n",
              "    [theme=dark] .colab-df-convert:hover {\n",
              "      background-color: #434B5C;\n",
              "      box-shadow: 0px 1px 3px 1px rgba(0, 0, 0, 0.15);\n",
              "      filter: drop-shadow(0px 1px 2px rgba(0, 0, 0, 0.3));\n",
              "      fill: #FFFFFF;\n",
              "    }\n",
              "  </style>\n",
              "\n",
              "      <script>\n",
              "        const buttonEl =\n",
              "          document.querySelector('#df-e05cea67-69ba-4d79-9a3e-a10a147f10f1 button.colab-df-convert');\n",
              "        buttonEl.style.display =\n",
              "          google.colab.kernel.accessAllowed ? 'block' : 'none';\n",
              "\n",
              "        async function convertToInteractive(key) {\n",
              "          const element = document.querySelector('#df-e05cea67-69ba-4d79-9a3e-a10a147f10f1');\n",
              "          const dataTable =\n",
              "            await google.colab.kernel.invokeFunction('convertToInteractive',\n",
              "                                                     [key], {});\n",
              "          if (!dataTable) return;\n",
              "\n",
              "          const docLinkHtml = 'Like what you see? Visit the ' +\n",
              "            '<a target=\"_blank\" href=https://colab.research.google.com/notebooks/data_table.ipynb>data table notebook</a>'\n",
              "            + ' to learn more about interactive tables.';\n",
              "          element.innerHTML = '';\n",
              "          dataTable['output_type'] = 'display_data';\n",
              "          await google.colab.output.renderOutput(dataTable, element);\n",
              "          const docLink = document.createElement('div');\n",
              "          docLink.innerHTML = docLinkHtml;\n",
              "          element.appendChild(docLink);\n",
              "        }\n",
              "      </script>\n",
              "    </div>\n",
              "  </div>\n",
              "  "
            ]
          },
          "metadata": {},
          "execution_count": 34
        }
      ]
    },
    {
      "cell_type": "markdown",
      "source": [
        "De lo anterior, podemos concluir que los inputs del modelo serán:\n",
        "+ age\n",
        "+ job\n",
        "+ marital\n",
        "+ education\n",
        "+ default\n",
        "+ balance\n",
        "+ housing\n",
        "+ loan\n",
        "+ contact\n",
        "+ day\n",
        "+ month\n",
        "+ duration\n",
        "+ campaign\n",
        "+ pdays\n",
        "+ previous\n",
        "+ poutcome\n",
        "\n",
        "Mientras que la variable predecir o el label será:\n",
        "+ deposit\n",
        "\n",
        "A continuación checkeamos si el dataset se encuentra balanceado o no"
      ],
      "metadata": {
        "id": "NT6gzR68U_8_"
      }
    },
    {
      "cell_type": "code",
      "source": [
        "df.groupby('deposit').count().toPandas()"
      ],
      "metadata": {
        "colab": {
          "base_uri": "https://localhost:8080/",
          "height": 112
        },
        "id": "0doI5ODWJlBq",
        "outputId": "224001b6-989c-47d6-9d46-6e264ae60bb4"
      },
      "execution_count": null,
      "outputs": [
        {
          "output_type": "execute_result",
          "data": {
            "text/plain": [
              "  deposit  count\n",
              "0      no   5873\n",
              "1     yes   5289"
            ],
            "text/html": [
              "\n",
              "  <div id=\"df-18e6879d-4aab-4dd8-bc0b-090cf7e195d2\">\n",
              "    <div class=\"colab-df-container\">\n",
              "      <div>\n",
              "<style scoped>\n",
              "    .dataframe tbody tr th:only-of-type {\n",
              "        vertical-align: middle;\n",
              "    }\n",
              "\n",
              "    .dataframe tbody tr th {\n",
              "        vertical-align: top;\n",
              "    }\n",
              "\n",
              "    .dataframe thead th {\n",
              "        text-align: right;\n",
              "    }\n",
              "</style>\n",
              "<table border=\"1\" class=\"dataframe\">\n",
              "  <thead>\n",
              "    <tr style=\"text-align: right;\">\n",
              "      <th></th>\n",
              "      <th>deposit</th>\n",
              "      <th>count</th>\n",
              "    </tr>\n",
              "  </thead>\n",
              "  <tbody>\n",
              "    <tr>\n",
              "      <th>0</th>\n",
              "      <td>no</td>\n",
              "      <td>5873</td>\n",
              "    </tr>\n",
              "    <tr>\n",
              "      <th>1</th>\n",
              "      <td>yes</td>\n",
              "      <td>5289</td>\n",
              "    </tr>\n",
              "  </tbody>\n",
              "</table>\n",
              "</div>\n",
              "      <button class=\"colab-df-convert\" onclick=\"convertToInteractive('df-18e6879d-4aab-4dd8-bc0b-090cf7e195d2')\"\n",
              "              title=\"Convert this dataframe to an interactive table.\"\n",
              "              style=\"display:none;\">\n",
              "        \n",
              "  <svg xmlns=\"http://www.w3.org/2000/svg\" height=\"24px\"viewBox=\"0 0 24 24\"\n",
              "       width=\"24px\">\n",
              "    <path d=\"M0 0h24v24H0V0z\" fill=\"none\"/>\n",
              "    <path d=\"M18.56 5.44l.94 2.06.94-2.06 2.06-.94-2.06-.94-.94-2.06-.94 2.06-2.06.94zm-11 1L8.5 8.5l.94-2.06 2.06-.94-2.06-.94L8.5 2.5l-.94 2.06-2.06.94zm10 10l.94 2.06.94-2.06 2.06-.94-2.06-.94-.94-2.06-.94 2.06-2.06.94z\"/><path d=\"M17.41 7.96l-1.37-1.37c-.4-.4-.92-.59-1.43-.59-.52 0-1.04.2-1.43.59L10.3 9.45l-7.72 7.72c-.78.78-.78 2.05 0 2.83L4 21.41c.39.39.9.59 1.41.59.51 0 1.02-.2 1.41-.59l7.78-7.78 2.81-2.81c.8-.78.8-2.07 0-2.86zM5.41 20L4 18.59l7.72-7.72 1.47 1.35L5.41 20z\"/>\n",
              "  </svg>\n",
              "      </button>\n",
              "      \n",
              "  <style>\n",
              "    .colab-df-container {\n",
              "      display:flex;\n",
              "      flex-wrap:wrap;\n",
              "      gap: 12px;\n",
              "    }\n",
              "\n",
              "    .colab-df-convert {\n",
              "      background-color: #E8F0FE;\n",
              "      border: none;\n",
              "      border-radius: 50%;\n",
              "      cursor: pointer;\n",
              "      display: none;\n",
              "      fill: #1967D2;\n",
              "      height: 32px;\n",
              "      padding: 0 0 0 0;\n",
              "      width: 32px;\n",
              "    }\n",
              "\n",
              "    .colab-df-convert:hover {\n",
              "      background-color: #E2EBFA;\n",
              "      box-shadow: 0px 1px 2px rgba(60, 64, 67, 0.3), 0px 1px 3px 1px rgba(60, 64, 67, 0.15);\n",
              "      fill: #174EA6;\n",
              "    }\n",
              "\n",
              "    [theme=dark] .colab-df-convert {\n",
              "      background-color: #3B4455;\n",
              "      fill: #D2E3FC;\n",
              "    }\n",
              "\n",
              "    [theme=dark] .colab-df-convert:hover {\n",
              "      background-color: #434B5C;\n",
              "      box-shadow: 0px 1px 3px 1px rgba(0, 0, 0, 0.15);\n",
              "      filter: drop-shadow(0px 1px 2px rgba(0, 0, 0, 0.3));\n",
              "      fill: #FFFFFF;\n",
              "    }\n",
              "  </style>\n",
              "\n",
              "      <script>\n",
              "        const buttonEl =\n",
              "          document.querySelector('#df-18e6879d-4aab-4dd8-bc0b-090cf7e195d2 button.colab-df-convert');\n",
              "        buttonEl.style.display =\n",
              "          google.colab.kernel.accessAllowed ? 'block' : 'none';\n",
              "\n",
              "        async function convertToInteractive(key) {\n",
              "          const element = document.querySelector('#df-18e6879d-4aab-4dd8-bc0b-090cf7e195d2');\n",
              "          const dataTable =\n",
              "            await google.colab.kernel.invokeFunction('convertToInteractive',\n",
              "                                                     [key], {});\n",
              "          if (!dataTable) return;\n",
              "\n",
              "          const docLinkHtml = 'Like what you see? Visit the ' +\n",
              "            '<a target=\"_blank\" href=https://colab.research.google.com/notebooks/data_table.ipynb>data table notebook</a>'\n",
              "            + ' to learn more about interactive tables.';\n",
              "          element.innerHTML = '';\n",
              "          dataTable['output_type'] = 'display_data';\n",
              "          await google.colab.output.renderOutput(dataTable, element);\n",
              "          const docLink = document.createElement('div');\n",
              "          docLink.innerHTML = docLinkHtml;\n",
              "          element.appendChild(docLink);\n",
              "        }\n",
              "      </script>\n",
              "    </div>\n",
              "  </div>\n",
              "  "
            ]
          },
          "metadata": {},
          "execution_count": 35
        }
      ]
    },
    {
      "cell_type": "markdown",
      "source": [
        "El dataset se encuentra balanceado, por lo que el siguiente paso será hacer estadística descriptiva sobre las variables numéricas del dataset, así como revisar la correlación entre las variables."
      ],
      "metadata": {
        "id": "7vczGEdwVsjC"
      }
    },
    {
      "cell_type": "code",
      "source": [
        "numeric_features = [t[0] for t in df.dtypes if t[1] == 'int']\n",
        "df.select(numeric_features).describe().toPandas().transpose()"
      ],
      "metadata": {
        "colab": {
          "base_uri": "https://localhost:8080/",
          "height": 300
        },
        "id": "Eozd9XJ8JqvC",
        "outputId": "03eecb2e-0766-4314-e13d-a48e63d3871a"
      },
      "execution_count": null,
      "outputs": [
        {
          "output_type": "execute_result",
          "data": {
            "text/plain": [
              "              0                   1                   2      3      4\n",
              "summary   count                mean              stddev    min    max\n",
              "age       11162  41.231947679627304  11.913369192215518     18     95\n",
              "balance   11162  1528.5385235620856   3225.413325946149  -6847  81204\n",
              "day       11162  15.658036194230425   8.420739541006462      1     31\n",
              "duration  11162  371.99381831213043  347.12838571630687      2   3881\n",
              "campaign  11162   2.508421429851281  2.7220771816614824      1     63\n",
              "pdays     11162   51.33040673714388  108.75828197197717     -1    854\n",
              "previous  11162  0.8325568894463358   2.292007218670508      0     58"
            ],
            "text/html": [
              "\n",
              "  <div id=\"df-723d1ca0-53d2-45cd-8bbd-cbaf69009153\">\n",
              "    <div class=\"colab-df-container\">\n",
              "      <div>\n",
              "<style scoped>\n",
              "    .dataframe tbody tr th:only-of-type {\n",
              "        vertical-align: middle;\n",
              "    }\n",
              "\n",
              "    .dataframe tbody tr th {\n",
              "        vertical-align: top;\n",
              "    }\n",
              "\n",
              "    .dataframe thead th {\n",
              "        text-align: right;\n",
              "    }\n",
              "</style>\n",
              "<table border=\"1\" class=\"dataframe\">\n",
              "  <thead>\n",
              "    <tr style=\"text-align: right;\">\n",
              "      <th></th>\n",
              "      <th>0</th>\n",
              "      <th>1</th>\n",
              "      <th>2</th>\n",
              "      <th>3</th>\n",
              "      <th>4</th>\n",
              "    </tr>\n",
              "  </thead>\n",
              "  <tbody>\n",
              "    <tr>\n",
              "      <th>summary</th>\n",
              "      <td>count</td>\n",
              "      <td>mean</td>\n",
              "      <td>stddev</td>\n",
              "      <td>min</td>\n",
              "      <td>max</td>\n",
              "    </tr>\n",
              "    <tr>\n",
              "      <th>age</th>\n",
              "      <td>11162</td>\n",
              "      <td>41.231947679627304</td>\n",
              "      <td>11.913369192215518</td>\n",
              "      <td>18</td>\n",
              "      <td>95</td>\n",
              "    </tr>\n",
              "    <tr>\n",
              "      <th>balance</th>\n",
              "      <td>11162</td>\n",
              "      <td>1528.5385235620856</td>\n",
              "      <td>3225.413325946149</td>\n",
              "      <td>-6847</td>\n",
              "      <td>81204</td>\n",
              "    </tr>\n",
              "    <tr>\n",
              "      <th>day</th>\n",
              "      <td>11162</td>\n",
              "      <td>15.658036194230425</td>\n",
              "      <td>8.420739541006462</td>\n",
              "      <td>1</td>\n",
              "      <td>31</td>\n",
              "    </tr>\n",
              "    <tr>\n",
              "      <th>duration</th>\n",
              "      <td>11162</td>\n",
              "      <td>371.99381831213043</td>\n",
              "      <td>347.12838571630687</td>\n",
              "      <td>2</td>\n",
              "      <td>3881</td>\n",
              "    </tr>\n",
              "    <tr>\n",
              "      <th>campaign</th>\n",
              "      <td>11162</td>\n",
              "      <td>2.508421429851281</td>\n",
              "      <td>2.7220771816614824</td>\n",
              "      <td>1</td>\n",
              "      <td>63</td>\n",
              "    </tr>\n",
              "    <tr>\n",
              "      <th>pdays</th>\n",
              "      <td>11162</td>\n",
              "      <td>51.33040673714388</td>\n",
              "      <td>108.75828197197717</td>\n",
              "      <td>-1</td>\n",
              "      <td>854</td>\n",
              "    </tr>\n",
              "    <tr>\n",
              "      <th>previous</th>\n",
              "      <td>11162</td>\n",
              "      <td>0.8325568894463358</td>\n",
              "      <td>2.292007218670508</td>\n",
              "      <td>0</td>\n",
              "      <td>58</td>\n",
              "    </tr>\n",
              "  </tbody>\n",
              "</table>\n",
              "</div>\n",
              "      <button class=\"colab-df-convert\" onclick=\"convertToInteractive('df-723d1ca0-53d2-45cd-8bbd-cbaf69009153')\"\n",
              "              title=\"Convert this dataframe to an interactive table.\"\n",
              "              style=\"display:none;\">\n",
              "        \n",
              "  <svg xmlns=\"http://www.w3.org/2000/svg\" height=\"24px\"viewBox=\"0 0 24 24\"\n",
              "       width=\"24px\">\n",
              "    <path d=\"M0 0h24v24H0V0z\" fill=\"none\"/>\n",
              "    <path d=\"M18.56 5.44l.94 2.06.94-2.06 2.06-.94-2.06-.94-.94-2.06-.94 2.06-2.06.94zm-11 1L8.5 8.5l.94-2.06 2.06-.94-2.06-.94L8.5 2.5l-.94 2.06-2.06.94zm10 10l.94 2.06.94-2.06 2.06-.94-2.06-.94-.94-2.06-.94 2.06-2.06.94z\"/><path d=\"M17.41 7.96l-1.37-1.37c-.4-.4-.92-.59-1.43-.59-.52 0-1.04.2-1.43.59L10.3 9.45l-7.72 7.72c-.78.78-.78 2.05 0 2.83L4 21.41c.39.39.9.59 1.41.59.51 0 1.02-.2 1.41-.59l7.78-7.78 2.81-2.81c.8-.78.8-2.07 0-2.86zM5.41 20L4 18.59l7.72-7.72 1.47 1.35L5.41 20z\"/>\n",
              "  </svg>\n",
              "      </button>\n",
              "      \n",
              "  <style>\n",
              "    .colab-df-container {\n",
              "      display:flex;\n",
              "      flex-wrap:wrap;\n",
              "      gap: 12px;\n",
              "    }\n",
              "\n",
              "    .colab-df-convert {\n",
              "      background-color: #E8F0FE;\n",
              "      border: none;\n",
              "      border-radius: 50%;\n",
              "      cursor: pointer;\n",
              "      display: none;\n",
              "      fill: #1967D2;\n",
              "      height: 32px;\n",
              "      padding: 0 0 0 0;\n",
              "      width: 32px;\n",
              "    }\n",
              "\n",
              "    .colab-df-convert:hover {\n",
              "      background-color: #E2EBFA;\n",
              "      box-shadow: 0px 1px 2px rgba(60, 64, 67, 0.3), 0px 1px 3px 1px rgba(60, 64, 67, 0.15);\n",
              "      fill: #174EA6;\n",
              "    }\n",
              "\n",
              "    [theme=dark] .colab-df-convert {\n",
              "      background-color: #3B4455;\n",
              "      fill: #D2E3FC;\n",
              "    }\n",
              "\n",
              "    [theme=dark] .colab-df-convert:hover {\n",
              "      background-color: #434B5C;\n",
              "      box-shadow: 0px 1px 3px 1px rgba(0, 0, 0, 0.15);\n",
              "      filter: drop-shadow(0px 1px 2px rgba(0, 0, 0, 0.3));\n",
              "      fill: #FFFFFF;\n",
              "    }\n",
              "  </style>\n",
              "\n",
              "      <script>\n",
              "        const buttonEl =\n",
              "          document.querySelector('#df-723d1ca0-53d2-45cd-8bbd-cbaf69009153 button.colab-df-convert');\n",
              "        buttonEl.style.display =\n",
              "          google.colab.kernel.accessAllowed ? 'block' : 'none';\n",
              "\n",
              "        async function convertToInteractive(key) {\n",
              "          const element = document.querySelector('#df-723d1ca0-53d2-45cd-8bbd-cbaf69009153');\n",
              "          const dataTable =\n",
              "            await google.colab.kernel.invokeFunction('convertToInteractive',\n",
              "                                                     [key], {});\n",
              "          if (!dataTable) return;\n",
              "\n",
              "          const docLinkHtml = 'Like what you see? Visit the ' +\n",
              "            '<a target=\"_blank\" href=https://colab.research.google.com/notebooks/data_table.ipynb>data table notebook</a>'\n",
              "            + ' to learn more about interactive tables.';\n",
              "          element.innerHTML = '';\n",
              "          dataTable['output_type'] = 'display_data';\n",
              "          await google.colab.output.renderOutput(dataTable, element);\n",
              "          const docLink = document.createElement('div');\n",
              "          docLink.innerHTML = docLinkHtml;\n",
              "          element.appendChild(docLink);\n",
              "        }\n",
              "      </script>\n",
              "    </div>\n",
              "  </div>\n",
              "  "
            ]
          },
          "metadata": {},
          "execution_count": 36
        }
      ]
    },
    {
      "cell_type": "code",
      "source": [
        "numeric_data = df.select(numeric_features).toPandas()\n",
        "axs = pd.plotting.scatter_matrix(numeric_data, figsize=(8, 8), );\n",
        "n = len(numeric_data.columns)\n",
        "for i in range(n):\n",
        "    v = axs[i, 0]\n",
        "    v.yaxis.label.set_rotation(0)\n",
        "    v.yaxis.label.set_ha('right')\n",
        "    v.set_yticks(())\n",
        "    h = axs[n-1, i]\n",
        "    h.xaxis.label.set_rotation(90)\n",
        "    h.set_xticks(())"
      ],
      "metadata": {
        "colab": {
          "base_uri": "https://localhost:8080/",
          "height": 519
        },
        "id": "lqnTzTpYJvWw",
        "outputId": "3fa9131e-2131-4a19-ec05-76d55d5b3dff"
      },
      "execution_count": null,
      "outputs": [
        {
          "output_type": "display_data",
          "data": {
            "text/plain": [
              "<Figure size 576x576 with 49 Axes>"
            ],
            "image/png": "[encoded data removed]"
          },
          "metadata": {
            "needs_background": "light"
          }
        }
      ]
    },
    {
      "cell_type": "markdown",
      "source": [
        "Visualmente no se observan variables altamente correlacionada, por lo que, por ahora, conservamos todas las variables en el modelo, a excepción de día y mes, que para fines de la predicción no son relevantes."
      ],
      "metadata": {
        "id": "eBarvmrHWPQ6"
      }
    },
    {
      "cell_type": "code",
      "source": [
        "df = df.select('age', 'job', 'marital', 'education', 'default', 'balance', 'housing', 'loan', 'contact', 'duration', 'campaign', 'pdays', 'previous', 'poutcome', 'deposit')\n",
        "cols = df.columns\n",
        "df.printSchema()"
      ],
      "metadata": {
        "colab": {
          "base_uri": "https://localhost:8080/"
        },
        "id": "6HJwztI2J0i1",
        "outputId": "ade1857b-f051-4b67-f809-d95868939a4a"
      },
      "execution_count": null,
      "outputs": [
        {
          "output_type": "stream",
          "name": "stdout",
          "text": [
            "root\n",
            " |-- age: integer (nullable = true)\n",
            " |-- job: string (nullable = true)\n",
            " |-- marital: string (nullable = true)\n",
            " |-- education: string (nullable = true)\n",
            " |-- default: string (nullable = true)\n",
            " |-- balance: integer (nullable = true)\n",
            " |-- housing: string (nullable = true)\n",
            " |-- loan: string (nullable = true)\n",
            " |-- contact: string (nullable = true)\n",
            " |-- duration: integer (nullable = true)\n",
            " |-- campaign: integer (nullable = true)\n",
            " |-- pdays: integer (nullable = true)\n",
            " |-- previous: integer (nullable = true)\n",
            " |-- poutcome: string (nullable = true)\n",
            " |-- deposit: string (nullable = true)\n",
            "\n"
          ]
        }
      ]
    },
    {
      "cell_type": "markdown",
      "source": [
        "A continuación, trasnformaremos cada variable categórica para poder utilizarla como input del modelo. Para esto, lo primero que haremos, será indexar cada columna categórica con StringIndexer, luego aplicaremos un One Hot Encoding a cada columna categórica, aplicamos nuevament StringIndexer para trasnformar nuestras estiquetas en índices de etiquetas y por último aplicamos VectorAssembler para combinar todas las columnas de características en una sola vector column (esta columna se puede observar en el pandas df más abajo con el índice **feature**). "
      ],
      "metadata": {
        "id": "kgdKNAb6XaZx"
      }
    },
    {
      "cell_type": "code",
      "source": [
        "categoricalColumns = ['job', 'marital', 'education', 'default', 'housing', 'loan', 'contact', 'poutcome']\n",
        "\n",
        "stages = []\n",
        "\n",
        "for categoricalCol in categoricalColumns:\n",
        "    \n",
        "    stringIndexer = StringIndexer(inputCol = categoricalCol, outputCol = categoricalCol + 'Index')\n",
        "    \n",
        "    encoder = OneHotEncoder(inputCols=[stringIndexer.getOutputCol()], outputCols=[categoricalCol + \"classVec\"])\n",
        "    \n",
        "    stages += [stringIndexer, encoder]"
      ],
      "metadata": {
        "id": "AF-8dntAPGpl"
      },
      "execution_count": null,
      "outputs": []
    },
    {
      "cell_type": "code",
      "source": [
        "label_stringIdx = StringIndexer(inputCol = 'deposit', outputCol = 'label')\n",
        "\n",
        "stages += [label_stringIdx]\n",
        "\n",
        "numericCols = ['age', 'balance', 'duration', 'campaign', 'pdays', 'previous']\n",
        "\n",
        "assemblerInputs = [c + \"classVec\" for c in categoricalColumns] + numericCols\n",
        "\n",
        "assembler = VectorAssembler(inputCols=assemblerInputs, outputCol=\"features\")\n",
        "\n",
        "stages += [assembler]"
      ],
      "metadata": {
        "id": "zebEm6NGPOcZ"
      },
      "execution_count": null,
      "outputs": []
    },
    {
      "cell_type": "markdown",
      "source": [
        "Usamos Pipeline para especificar el workflow de nuestro modelo"
      ],
      "metadata": {
        "id": "kVVq97ymYpgO"
      }
    },
    {
      "cell_type": "code",
      "source": [
        "pipeline = Pipeline(stages = stages)\n",
        "pipelineModel = pipeline.fit(df)\n",
        "df = pipelineModel.transform(df)\n",
        "selectedCols = ['label', 'features'] + cols\n",
        "df = df.select(selectedCols)\n",
        "df.printSchema()"
      ],
      "metadata": {
        "colab": {
          "base_uri": "https://localhost:8080/"
        },
        "id": "vo-RVF1wPnA1",
        "outputId": "009465f0-9068-4a8f-a21f-2d5d4897ea56"
      },
      "execution_count": null,
      "outputs": [
        {
          "output_type": "stream",
          "name": "stdout",
          "text": [
            "root\n",
            " |-- label: double (nullable = false)\n",
            " |-- features: vector (nullable = true)\n",
            " |-- age: integer (nullable = true)\n",
            " |-- job: string (nullable = true)\n",
            " |-- marital: string (nullable = true)\n",
            " |-- education: string (nullable = true)\n",
            " |-- default: string (nullable = true)\n",
            " |-- balance: integer (nullable = true)\n",
            " |-- housing: string (nullable = true)\n",
            " |-- loan: string (nullable = true)\n",
            " |-- contact: string (nullable = true)\n",
            " |-- duration: integer (nullable = true)\n",
            " |-- campaign: integer (nullable = true)\n",
            " |-- pdays: integer (nullable = true)\n",
            " |-- previous: integer (nullable = true)\n",
            " |-- poutcome: string (nullable = true)\n",
            " |-- deposit: string (nullable = true)\n",
            "\n"
          ]
        }
      ]
    },
    {
      "cell_type": "code",
      "source": [
        "pd.DataFrame(df.take(5), columns=df.columns).transpose()"
      ],
      "metadata": {
        "colab": {
          "base_uri": "https://localhost:8080/",
          "height": 644
        },
        "id": "g9ZN8SbrPpQb",
        "outputId": "4f759e65-b3e4-4b6b-da1f-9a11010f582f"
      },
      "execution_count": null,
      "outputs": [
        {
          "output_type": "execute_result",
          "data": {
            "text/plain": [
              "                                                           0  \\\n",
              "label                                                    1.0   \n",
              "features   (0.0, 0.0, 0.0, 1.0, 0.0, 0.0, 0.0, 0.0, 0.0, ...   \n",
              "age                                                       59   \n",
              "job                                                   admin.   \n",
              "marital                                              married   \n",
              "education                                          secondary   \n",
              "default                                                   no   \n",
              "balance                                                 2343   \n",
              "housing                                                  yes   \n",
              "loan                                                      no   \n",
              "contact                                              unknown   \n",
              "duration                                                1042   \n",
              "campaign                                                   1   \n",
              "pdays                                                     -1   \n",
              "previous                                                   0   \n",
              "poutcome                                             unknown   \n",
              "deposit                                                  yes   \n",
              "\n",
              "                                                           1  \\\n",
              "label                                                    1.0   \n",
              "features   (0.0, 0.0, 0.0, 1.0, 0.0, 0.0, 0.0, 0.0, 0.0, ...   \n",
              "age                                                       56   \n",
              "job                                                   admin.   \n",
              "marital                                              married   \n",
              "education                                          secondary   \n",
              "default                                                   no   \n",
              "balance                                                   45   \n",
              "housing                                                   no   \n",
              "loan                                                      no   \n",
              "contact                                              unknown   \n",
              "duration                                                1467   \n",
              "campaign                                                   1   \n",
              "pdays                                                     -1   \n",
              "previous                                                   0   \n",
              "poutcome                                             unknown   \n",
              "deposit                                                  yes   \n",
              "\n",
              "                                                           2  \\\n",
              "label                                                    1.0   \n",
              "features   (0.0, 0.0, 1.0, 0.0, 0.0, 0.0, 0.0, 0.0, 0.0, ...   \n",
              "age                                                       41   \n",
              "job                                               technician   \n",
              "marital                                              married   \n",
              "education                                          secondary   \n",
              "default                                                   no   \n",
              "balance                                                 1270   \n",
              "housing                                                  yes   \n",
              "loan                                                      no   \n",
              "contact                                              unknown   \n",
              "duration                                                1389   \n",
              "campaign                                                   1   \n",
              "pdays                                                     -1   \n",
              "previous                                                   0   \n",
              "poutcome                                             unknown   \n",
              "deposit                                                  yes   \n",
              "\n",
              "                                                           3  \\\n",
              "label                                                    1.0   \n",
              "features   (0.0, 0.0, 0.0, 0.0, 1.0, 0.0, 0.0, 0.0, 0.0, ...   \n",
              "age                                                       55   \n",
              "job                                                 services   \n",
              "marital                                              married   \n",
              "education                                          secondary   \n",
              "default                                                   no   \n",
              "balance                                                 2476   \n",
              "housing                                                  yes   \n",
              "loan                                                      no   \n",
              "contact                                              unknown   \n",
              "duration                                                 579   \n",
              "campaign                                                   1   \n",
              "pdays                                                     -1   \n",
              "previous                                                   0   \n",
              "poutcome                                             unknown   \n",
              "deposit                                                  yes   \n",
              "\n",
              "                                                           4  \n",
              "label                                                    1.0  \n",
              "features   (0.0, 0.0, 0.0, 1.0, 0.0, 0.0, 0.0, 0.0, 0.0, ...  \n",
              "age                                                       54  \n",
              "job                                                   admin.  \n",
              "marital                                              married  \n",
              "education                                           tertiary  \n",
              "default                                                   no  \n",
              "balance                                                  184  \n",
              "housing                                                   no  \n",
              "loan                                                      no  \n",
              "contact                                              unknown  \n",
              "duration                                                 673  \n",
              "campaign                                                   2  \n",
              "pdays                                                     -1  \n",
              "previous                                                   0  \n",
              "poutcome                                             unknown  \n",
              "deposit                                                  yes  "
            ],
            "text/html": [
              "\n",
              "  <div id=\"df-10174b14-560f-4bf1-ad79-e1bd3d9490c2\">\n",
              "    <div class=\"colab-df-container\">\n",
              "      <div>\n",
              "<style scoped>\n",
              "    .dataframe tbody tr th:only-of-type {\n",
              "        vertical-align: middle;\n",
              "    }\n",
              "\n",
              "    .dataframe tbody tr th {\n",
              "        vertical-align: top;\n",
              "    }\n",
              "\n",
              "    .dataframe thead th {\n",
              "        text-align: right;\n",
              "    }\n",
              "</style>\n",
              "<table border=\"1\" class=\"dataframe\">\n",
              "  <thead>\n",
              "    <tr style=\"text-align: right;\">\n",
              "      <th></th>\n",
              "      <th>0</th>\n",
              "      <th>1</th>\n",
              "      <th>2</th>\n",
              "      <th>3</th>\n",
              "      <th>4</th>\n",
              "    </tr>\n",
              "  </thead>\n",
              "  <tbody>\n",
              "    <tr>\n",
              "      <th>label</th>\n",
              "      <td>1.0</td>\n",
              "      <td>1.0</td>\n",
              "      <td>1.0</td>\n",
              "      <td>1.0</td>\n",
              "      <td>1.0</td>\n",
              "    </tr>\n",
              "    <tr>\n",
              "      <th>features</th>\n",
              "      <td>(0.0, 0.0, 0.0, 1.0, 0.0, 0.0, 0.0, 0.0, 0.0, ...</td>\n",
              "      <td>(0.0, 0.0, 0.0, 1.0, 0.0, 0.0, 0.0, 0.0, 0.0, ...</td>\n",
              "      <td>(0.0, 0.0, 1.0, 0.0, 0.0, 0.0, 0.0, 0.0, 0.0, ...</td>\n",
              "      <td>(0.0, 0.0, 0.0, 0.0, 1.0, 0.0, 0.0, 0.0, 0.0, ...</td>\n",
              "      <td>(0.0, 0.0, 0.0, 1.0, 0.0, 0.0, 0.0, 0.0, 0.0, ...</td>\n",
              "    </tr>\n",
              "    <tr>\n",
              "      <th>age</th>\n",
              "      <td>59</td>\n",
              "      <td>56</td>\n",
              "      <td>41</td>\n",
              "      <td>55</td>\n",
              "      <td>54</td>\n",
              "    </tr>\n",
              "    <tr>\n",
              "      <th>job</th>\n",
              "      <td>admin.</td>\n",
              "      <td>admin.</td>\n",
              "      <td>technician</td>\n",
              "      <td>services</td>\n",
              "      <td>admin.</td>\n",
              "    </tr>\n",
              "    <tr>\n",
              "      <th>marital</th>\n",
              "      <td>married</td>\n",
              "      <td>married</td>\n",
              "      <td>married</td>\n",
              "      <td>married</td>\n",
              "      <td>married</td>\n",
              "    </tr>\n",
              "    <tr>\n",
              "      <th>education</th>\n",
              "      <td>secondary</td>\n",
              "      <td>secondary</td>\n",
              "      <td>secondary</td>\n",
              "      <td>secondary</td>\n",
              "      <td>tertiary</td>\n",
              "    </tr>\n",
              "    <tr>\n",
              "      <th>default</th>\n",
              "      <td>no</td>\n",
              "      <td>no</td>\n",
              "      <td>no</td>\n",
              "      <td>no</td>\n",
              "      <td>no</td>\n",
              "    </tr>\n",
              "    <tr>\n",
              "      <th>balance</th>\n",
              "      <td>2343</td>\n",
              "      <td>45</td>\n",
              "      <td>1270</td>\n",
              "      <td>2476</td>\n",
              "      <td>184</td>\n",
              "    </tr>\n",
              "    <tr>\n",
              "      <th>housing</th>\n",
              "      <td>yes</td>\n",
              "      <td>no</td>\n",
              "      <td>yes</td>\n",
              "      <td>yes</td>\n",
              "      <td>no</td>\n",
              "    </tr>\n",
              "    <tr>\n",
              "      <th>loan</th>\n",
              "      <td>no</td>\n",
              "      <td>no</td>\n",
              "      <td>no</td>\n",
              "      <td>no</td>\n",
              "      <td>no</td>\n",
              "    </tr>\n",
              "    <tr>\n",
              "      <th>contact</th>\n",
              "      <td>unknown</td>\n",
              "      <td>unknown</td>\n",
              "      <td>unknown</td>\n",
              "      <td>unknown</td>\n",
              "      <td>unknown</td>\n",
              "    </tr>\n",
              "    <tr>\n",
              "      <th>duration</th>\n",
              "      <td>1042</td>\n",
              "      <td>1467</td>\n",
              "      <td>1389</td>\n",
              "      <td>579</td>\n",
              "      <td>673</td>\n",
              "    </tr>\n",
              "    <tr>\n",
              "      <th>campaign</th>\n",
              "      <td>1</td>\n",
              "      <td>1</td>\n",
              "      <td>1</td>\n",
              "      <td>1</td>\n",
              "      <td>2</td>\n",
              "    </tr>\n",
              "    <tr>\n",
              "      <th>pdays</th>\n",
              "      <td>-1</td>\n",
              "      <td>-1</td>\n",
              "      <td>-1</td>\n",
              "      <td>-1</td>\n",
              "      <td>-1</td>\n",
              "    </tr>\n",
              "    <tr>\n",
              "      <th>previous</th>\n",
              "      <td>0</td>\n",
              "      <td>0</td>\n",
              "      <td>0</td>\n",
              "      <td>0</td>\n",
              "      <td>0</td>\n",
              "    </tr>\n",
              "    <tr>\n",
              "      <th>poutcome</th>\n",
              "      <td>unknown</td>\n",
              "      <td>unknown</td>\n",
              "      <td>unknown</td>\n",
              "      <td>unknown</td>\n",
              "      <td>unknown</td>\n",
              "    </tr>\n",
              "    <tr>\n",
              "      <th>deposit</th>\n",
              "      <td>yes</td>\n",
              "      <td>yes</td>\n",
              "      <td>yes</td>\n",
              "      <td>yes</td>\n",
              "      <td>yes</td>\n",
              "    </tr>\n",
              "  </tbody>\n",
              "</table>\n",
              "</div>\n",
              "      <button class=\"colab-df-convert\" onclick=\"convertToInteractive('df-10174b14-560f-4bf1-ad79-e1bd3d9490c2')\"\n",
              "              title=\"Convert this dataframe to an interactive table.\"\n",
              "              style=\"display:none;\">\n",
              "        \n",
              "  <svg xmlns=\"http://www.w3.org/2000/svg\" height=\"24px\"viewBox=\"0 0 24 24\"\n",
              "       width=\"24px\">\n",
              "    <path d=\"M0 0h24v24H0V0z\" fill=\"none\"/>\n",
              "    <path d=\"M18.56 5.44l.94 2.06.94-2.06 2.06-.94-2.06-.94-.94-2.06-.94 2.06-2.06.94zm-11 1L8.5 8.5l.94-2.06 2.06-.94-2.06-.94L8.5 2.5l-.94 2.06-2.06.94zm10 10l.94 2.06.94-2.06 2.06-.94-2.06-.94-.94-2.06-.94 2.06-2.06.94z\"/><path d=\"M17.41 7.96l-1.37-1.37c-.4-.4-.92-.59-1.43-.59-.52 0-1.04.2-1.43.59L10.3 9.45l-7.72 7.72c-.78.78-.78 2.05 0 2.83L4 21.41c.39.39.9.59 1.41.59.51 0 1.02-.2 1.41-.59l7.78-7.78 2.81-2.81c.8-.78.8-2.07 0-2.86zM5.41 20L4 18.59l7.72-7.72 1.47 1.35L5.41 20z\"/>\n",
              "  </svg>\n",
              "      </button>\n",
              "      \n",
              "  <style>\n",
              "    .colab-df-container {\n",
              "      display:flex;\n",
              "      flex-wrap:wrap;\n",
              "      gap: 12px;\n",
              "    }\n",
              "\n",
              "    .colab-df-convert {\n",
              "      background-color: #E8F0FE;\n",
              "      border: none;\n",
              "      border-radius: 50%;\n",
              "      cursor: pointer;\n",
              "      display: none;\n",
              "      fill: #1967D2;\n",
              "      height: 32px;\n",
              "      padding: 0 0 0 0;\n",
              "      width: 32px;\n",
              "    }\n",
              "\n",
              "    .colab-df-convert:hover {\n",
              "      background-color: #E2EBFA;\n",
              "      box-shadow: 0px 1px 2px rgba(60, 64, 67, 0.3), 0px 1px 3px 1px rgba(60, 64, 67, 0.15);\n",
              "      fill: #174EA6;\n",
              "    }\n",
              "\n",
              "    [theme=dark] .colab-df-convert {\n",
              "      background-color: #3B4455;\n",
              "      fill: #D2E3FC;\n",
              "    }\n",
              "\n",
              "    [theme=dark] .colab-df-convert:hover {\n",
              "      background-color: #434B5C;\n",
              "      box-shadow: 0px 1px 3px 1px rgba(0, 0, 0, 0.15);\n",
              "      filter: drop-shadow(0px 1px 2px rgba(0, 0, 0, 0.3));\n",
              "      fill: #FFFFFF;\n",
              "    }\n",
              "  </style>\n",
              "\n",
              "      <script>\n",
              "        const buttonEl =\n",
              "          document.querySelector('#df-10174b14-560f-4bf1-ad79-e1bd3d9490c2 button.colab-df-convert');\n",
              "        buttonEl.style.display =\n",
              "          google.colab.kernel.accessAllowed ? 'block' : 'none';\n",
              "\n",
              "        async function convertToInteractive(key) {\n",
              "          const element = document.querySelector('#df-10174b14-560f-4bf1-ad79-e1bd3d9490c2');\n",
              "          const dataTable =\n",
              "            await google.colab.kernel.invokeFunction('convertToInteractive',\n",
              "                                                     [key], {});\n",
              "          if (!dataTable) return;\n",
              "\n",
              "          const docLinkHtml = 'Like what you see? Visit the ' +\n",
              "            '<a target=\"_blank\" href=https://colab.research.google.com/notebooks/data_table.ipynb>data table notebook</a>'\n",
              "            + ' to learn more about interactive tables.';\n",
              "          element.innerHTML = '';\n",
              "          dataTable['output_type'] = 'display_data';\n",
              "          await google.colab.output.renderOutput(dataTable, element);\n",
              "          const docLink = document.createElement('div');\n",
              "          docLink.innerHTML = docLinkHtml;\n",
              "          element.appendChild(docLink);\n",
              "        }\n",
              "      </script>\n",
              "    </div>\n",
              "  </div>\n",
              "  "
            ]
          },
          "metadata": {},
          "execution_count": 42
        }
      ]
    },
    {
      "cell_type": "markdown",
      "source": [
        "El último paso antes de comenzar con el modelo de clasificación consiste en dividir el dataset en entrenamiento y prueba"
      ],
      "metadata": {
        "id": "CqHdVi4JZPMf"
      }
    },
    {
      "cell_type": "code",
      "source": [
        "train, test = df.randomSplit([0.7, 0.3], seed = 2018)\n",
        "print(\"Training Dataset Count: \" + str(train.count()))\n",
        "print(\"Test Dataset Count: \" + str(test.count()))"
      ],
      "metadata": {
        "colab": {
          "base_uri": "https://localhost:8080/"
        },
        "id": "j4F7tZHcQ1Vk",
        "outputId": "6da876df-1329-47f7-98ae-4db1e639e88e"
      },
      "execution_count": null,
      "outputs": [
        {
          "output_type": "stream",
          "name": "stdout",
          "text": [
            "Training Dataset Count: 7855\n",
            "Test Dataset Count: 3307\n"
          ]
        }
      ]
    },
    {
      "cell_type": "markdown",
      "source": [
        "## Regresión logística\n",
        "\n",
        "A continuación definimos e implementamos el modelo de regresión logística, obteniendo a su vez las métricas que nos permitan evaluar el desempeño del modelo:"
      ],
      "metadata": {
        "id": "CZOrSvzmZX8h"
      }
    },
    {
      "cell_type": "code",
      "source": [
        "lr = LogisticRegression(featuresCol = 'features', labelCol = 'label', maxIter=10)\n",
        "lrModel = lr.fit(train)"
      ],
      "metadata": {
        "id": "DnjztQhSQ7Ni"
      },
      "execution_count": null,
      "outputs": []
    },
    {
      "cell_type": "code",
      "source": [
        "trainingSummary = lrModel.summary\n",
        "roc = trainingSummary.roc.toPandas()\n",
        "plt.plot(roc['FPR'],roc['TPR'])\n",
        "plt.ylabel('False Positive Rate')\n",
        "plt.xlabel('True Positive Rate')\n",
        "plt.title('ROC Curve')\n",
        "plt.show()\n",
        "print('Training set areaUnderROC: ' + str(trainingSummary.areaUnderROC))"
      ],
      "metadata": {
        "colab": {
          "base_uri": "https://localhost:8080/",
          "height": 347
        },
        "id": "NsF-MW4eRC-5",
        "outputId": "c99d9a21-bf5e-47d7-ea61-d1bcdb40a241"
      },
      "execution_count": null,
      "outputs": [
        {
          "output_type": "stream",
          "name": "stderr",
          "text": [
            "/usr/local/lib/python3.7/dist-packages/pyspark/sql/context.py:127: FutureWarning: Deprecated in 3.0.0. Use SparkSession.builder.getOrCreate() instead.\n",
            "  FutureWarning\n"
          ]
        },
        {
          "output_type": "display_data",
          "data": {
            "text/plain": [
              "<Figure size 432x288 with 1 Axes>"
            ],
            "image/png": "[encoded data removed]"
          },
          "metadata": {
            "needs_background": "light"
          }
        },
        {
          "output_type": "stream",
          "name": "stdout",
          "text": [
            "Training set areaUnderROC: 0.8877385690600346\n"
          ]
        }
      ]
    },
    {
      "cell_type": "code",
      "source": [
        "pr = trainingSummary.pr.toPandas()\n",
        "plt.plot(pr['recall'],pr['precision'])\n",
        "plt.ylabel('Precision')\n",
        "plt.xlabel('Recall')\n",
        "plt.show()"
      ],
      "metadata": {
        "colab": {
          "base_uri": "https://localhost:8080/",
          "height": 314
        },
        "id": "Hkl0Qiy1RHTH",
        "outputId": "997369a3-5ac5-44a1-8971-929c418d30e3"
      },
      "execution_count": null,
      "outputs": [
        {
          "output_type": "stream",
          "name": "stderr",
          "text": [
            "/usr/local/lib/python3.7/dist-packages/pyspark/sql/context.py:127: FutureWarning: Deprecated in 3.0.0. Use SparkSession.builder.getOrCreate() instead.\n",
            "  FutureWarning\n"
          ]
        },
        {
          "output_type": "display_data",
          "data": {
            "text/plain": [
              "<Figure size 432x288 with 1 Axes>"
            ],
            "image/png": "[encoded data removed]"
          },
          "metadata": {
            "needs_background": "light"
          }
        }
      ]
    },
    {
      "cell_type": "code",
      "source": [
        "predictions = lrModel.transform(test)\n",
        "predictions.select('age', 'job', 'label', 'rawPrediction', 'prediction', 'probability').show(10)"
      ],
      "metadata": {
        "colab": {
          "base_uri": "https://localhost:8080/"
        },
        "id": "s_ldXkMORLHT",
        "outputId": "2bbf5641-b257-4146-a642-e3344f4ad951"
      },
      "execution_count": null,
      "outputs": [
        {
          "output_type": "stream",
          "name": "stdout",
          "text": [
            "+---+----------+-----+--------------------+----------+--------------------+\n",
            "|age|       job|label|       rawPrediction|prediction|         probability|\n",
            "+---+----------+-----+--------------------+----------+--------------------+\n",
            "| 33|management|  0.0|[1.93084854518128...|       0.0|[0.87334331124860...|\n",
            "| 49|management|  0.0|[1.92783695472097...|       0.0|[0.87300981013433...|\n",
            "| 52|management|  0.0|[-0.7737627890181...|       1.0|[0.31566570209267...|\n",
            "| 53|management|  0.0|[0.94708137344074...|       0.0|[0.72052784002179...|\n",
            "| 58|management|  0.0|[2.44657764692457...|       0.0|[0.92031082026376...|\n",
            "| 32|management|  0.0|[1.28386077546037...|       0.0|[0.78310624913886...|\n",
            "| 57|management|  0.0|[1.05745870556531...|       0.0|[0.74220460119091...|\n",
            "| 52|management|  0.0|[3.25200815517462...|       0.0|[0.96274520587479...|\n",
            "| 46|management|  0.0|[2.24978402804239...|       0.0|[0.90463190417562...|\n",
            "| 31|management|  0.0|[1.47121751117284...|       0.0|[0.81324237120150...|\n",
            "+---+----------+-----+--------------------+----------+--------------------+\n",
            "only showing top 10 rows\n",
            "\n"
          ]
        }
      ]
    },
    {
      "cell_type": "code",
      "source": [
        "evaluator = BinaryClassificationEvaluator()\n",
        "print('Test Area Under ROC', evaluator.evaluate(predictions))"
      ],
      "metadata": {
        "colab": {
          "base_uri": "https://localhost:8080/"
        },
        "id": "DGPpWMrvRNqP",
        "outputId": "32c728a9-e468-4aec-cb7d-27a63d223592"
      },
      "execution_count": null,
      "outputs": [
        {
          "output_type": "stream",
          "name": "stdout",
          "text": [
            "Test Area Under ROC 0.885643189559481\n"
          ]
        }
      ]
    },
    {
      "cell_type": "markdown",
      "source": [
        "## Gradient-Boosted Tree Classifier"
      ],
      "metadata": {
        "id": "jmMlwos1aIDw"
      }
    },
    {
      "cell_type": "code",
      "source": [
        "gbt = GBTClassifier(maxIter=10)\n",
        "gbtModel = gbt.fit(train)\n",
        "predictions = gbtModel.transform(test)\n",
        "predictions.select('age', 'job', 'label', 'rawPrediction', 'prediction', 'probability').show(10)"
      ],
      "metadata": {
        "colab": {
          "base_uri": "https://localhost:8080/"
        },
        "id": "gGA1DyjBRQM5",
        "outputId": "fe78bc80-a774-417a-ad14-7d4b366421d3"
      },
      "execution_count": null,
      "outputs": [
        {
          "output_type": "stream",
          "name": "stdout",
          "text": [
            "+---+----------+-----+--------------------+----------+--------------------+\n",
            "|age|       job|label|       rawPrediction|prediction|         probability|\n",
            "+---+----------+-----+--------------------+----------+--------------------+\n",
            "| 33|management|  0.0|[0.94992370947246...|       0.0|[0.86987425549896...|\n",
            "| 49|management|  0.0|[1.28281748604659...|       0.0|[0.92861688965145...|\n",
            "| 52|management|  0.0|[-0.5021429054421...|       1.0|[0.26809961471379...|\n",
            "| 53|management|  0.0|[0.09646513340517...|       0.0|[0.54808351175538...|\n",
            "| 58|management|  0.0|[1.05831377292163...|       0.0|[0.89250881497055...|\n",
            "| 32|management|  0.0|[0.57268875896254...|       0.0|[0.75866558918304...|\n",
            "| 57|management|  0.0|[0.34932946844840...|       0.0|[0.66789037418062...|\n",
            "| 52|management|  0.0|[1.33264456943866...|       0.0|[0.93494709840561...|\n",
            "| 46|management|  0.0|[1.28262818068783...|       0.0|[0.92859178839697...|\n",
            "| 31|management|  0.0|[1.16094954405484...|       0.0|[0.91067454521219...|\n",
            "+---+----------+-----+--------------------+----------+--------------------+\n",
            "only showing top 10 rows\n",
            "\n"
          ]
        }
      ]
    },
    {
      "cell_type": "code",
      "source": [
        "evaluator = BinaryClassificationEvaluator()\n",
        "print(\"Test Area Under ROC: \" + str(evaluator.evaluate(predictions, {evaluator.metricName: \"areaUnderROC\"})))"
      ],
      "metadata": {
        "colab": {
          "base_uri": "https://localhost:8080/"
        },
        "id": "Um01RtJ0R2U3",
        "outputId": "7a8dc0e9-8df7-45ba-c5fa-b3cb34adeea8"
      },
      "execution_count": null,
      "outputs": [
        {
          "output_type": "stream",
          "name": "stdout",
          "text": [
            "Test Area Under ROC: 0.8935091626908479\n"
          ]
        }
      ]
    },
    {
      "cell_type": "markdown",
      "source": [
        "Podemos observar que con el GBTClassifier obtuvimos mejores resultados que con nuestra regresión logística, po lo que a continuación, aplicaremos una grilla para hacer un *tuning* de los hiperparámetros, permitiéndonos afinar el modelo:"
      ],
      "metadata": {
        "id": "1EhELzq5aUUg"
      }
    },
    {
      "cell_type": "code",
      "source": [
        "paramGrid = (ParamGridBuilder()\n",
        "             .addGrid(gbt.maxDepth, [2, 4, 6])\n",
        "             .addGrid(gbt.maxBins, [20, 60])\n",
        "             .addGrid(gbt.maxIter, [10, 20])\n",
        "             .build())\n",
        "cv = CrossValidator(estimator=gbt, estimatorParamMaps=paramGrid, evaluator=evaluator, numFolds=5)\n",
        "\n",
        "cvModel = cv.fit(train)\n",
        "predictions = cvModel.transform(test)\n",
        "evaluator.evaluate(predictions)"
      ],
      "metadata": {
        "colab": {
          "base_uri": "https://localhost:8080/"
        },
        "id": "nD2JRQicSZB7",
        "outputId": "404fbd64-b429-40dc-dce7-c4979226bb0a"
      },
      "execution_count": null,
      "outputs": [
        {
          "output_type": "execute_result",
          "data": {
            "text/plain": [
              "0.8954659543871663"
            ]
          },
          "metadata": {},
          "execution_count": 51
        }
      ]
    },
    {
      "cell_type": "markdown",
      "source": [
        "# Recomendación de películas\n",
        "En el siguiente ejemplo verémos como utilizar Pyspark para trabajar con big data y entrenaremos un modelo para que recomiende películas que no han visto en base a una base de datos con información sobre como estos usuarios han calificado otras películas. Este es un ejemplo de como los servicios de streaming recomiendan peliculas a sus suscriptores y puede ser extrapolado a cualquier venta de productos o servicios, siempre y cuando se cuente con la data."
      ],
      "metadata": {
        "id": "xufK_tYsrudL"
      }
    },
    {
      "cell_type": "markdown",
      "source": [
        "Instalamos pyspark en el notebook"
      ],
      "metadata": {
        "id": "erXSSC-q3DF2"
      }
    },
    {
      "cell_type": "code",
      "source": [
        "!pip install pyspark"
      ],
      "metadata": {
        "colab": {
          "base_uri": "https://localhost:8080/"
        },
        "id": "MXq-N0YFNUb8",
        "outputId": "a34e27ea-896a-437d-e1b3-7dd22d45c59e"
      },
      "execution_count": null,
      "outputs": [
        {
          "output_type": "stream",
          "name": "stdout",
          "text": [
            "Looking in indexes: https://pypi.org/simple, https://us-python.pkg.dev/colab-wheels/public/simple/\n",
            "Collecting pyspark\n",
            "  Downloading pyspark-3.2.1.tar.gz (281.4 MB)\n",
            "\u001b[K     |████████████████████████████████| 281.4 MB 33 kB/s \n",
            "\u001b[?25hCollecting py4j==0.10.9.3\n",
            "  Downloading py4j-0.10.9.3-py2.py3-none-any.whl (198 kB)\n",
            "\u001b[K     |████████████████████████████████| 198 kB 53.0 MB/s \n",
            "\u001b[?25hBuilding wheels for collected packages: pyspark\n",
            "  Building wheel for pyspark (setup.py) ... \u001b[?25l\u001b[?25hdone\n",
            "  Created wheel for pyspark: filename=pyspark-3.2.1-py2.py3-none-any.whl size=281853642 sha256=ef01cf95a7d88b11c46b7d4481619b13387f35606b7025d62fb409dc3d9f0e1d\n",
            "  Stored in directory: /root/.cache/pip/wheels/9f/f5/07/7cd8017084dce4e93e84e92efd1e1d5334db05f2e83bcef74f\n",
            "Successfully built pyspark\n",
            "Installing collected packages: py4j, pyspark\n",
            "Successfully installed py4j-0.10.9.3 pyspark-3.2.1\n"
          ]
        }
      ]
    },
    {
      "cell_type": "markdown",
      "source": [
        "Importamos las librerias necesarias"
      ],
      "metadata": {
        "id": "wknM2DhM3G_w"
      }
    },
    {
      "cell_type": "code",
      "source": [
        "import numpy as np # linear algebra\n",
        "import pandas as pd # data processing, CSV file I/O (e.g. pd.read_csv)\n",
        "import matplotlib.pyplot as plt\n",
        "import seaborn as sns\n",
        "import sklearn\n",
        "import random\n",
        "import os\n",
        "\n",
        "from pyspark.sql import SparkSession \n",
        "from pyspark.ml  import Pipeline     \n",
        "from pyspark.sql import SQLContext  \n",
        "from pyspark.sql.functions import mean,col,split, col, regexp_extract, when, lit\n",
        "from pyspark.ml.feature import StringIndexer, VectorAssembler\n",
        "from pyspark.ml.evaluation import MulticlassClassificationEvaluator\n",
        "from pyspark.ml.feature import QuantileDiscretizer"
      ],
      "metadata": {
        "id": "-NWnG-JrNGnS"
      },
      "execution_count": null,
      "outputs": []
    },
    {
      "cell_type": "code",
      "execution_count": null,
      "metadata": {
        "id": "PXRIPtydLnvn"
      },
      "outputs": [],
      "source": [
        "# Creamos una SparkSession\n",
        "spark = SparkSession.builder.appName('recommender_system').getOrCreate()"
      ]
    },
    {
      "cell_type": "code",
      "source": [
        "# cargamos el dataset y lo leemos con spark para hacer un dataframe\n",
        "df=spark.read.csv('/content/drive/MyDrive/Big_Data/movie_ratings_df.csv',inferSchema=True,header=True)\n",
        "# Mostramos las primera 3 filas del dataframe\n",
        "df.show(3)"
      ],
      "metadata": {
        "colab": {
          "base_uri": "https://localhost:8080/"
        },
        "id": "iNiHqyhaLst3",
        "outputId": "2aae2c96-53c9-4401-82d0-5a7ac82aa5e6"
      },
      "execution_count": null,
      "outputs": [
        {
          "output_type": "stream",
          "name": "stdout",
          "text": [
            "+------+------------+------+\n",
            "|userId|       title|rating|\n",
            "+------+------------+------+\n",
            "|   196|Kolya (1996)|     3|\n",
            "|    63|Kolya (1996)|     3|\n",
            "|   226|Kolya (1996)|     5|\n",
            "+------+------------+------+\n",
            "only showing top 3 rows\n",
            "\n"
          ]
        }
      ]
    },
    {
      "cell_type": "code",
      "source": [
        "df.printSchema()"
      ],
      "metadata": {
        "colab": {
          "base_uri": "https://localhost:8080/"
        },
        "id": "MoI6jbvBLtYD",
        "outputId": "bade0f71-32cf-498c-f3f9-7d09e9164f80"
      },
      "execution_count": null,
      "outputs": [
        {
          "output_type": "stream",
          "name": "stdout",
          "text": [
            "root\n",
            " |-- userId: integer (nullable = true)\n",
            " |-- title: string (nullable = true)\n",
            " |-- rating: integer (nullable = true)\n",
            "\n"
          ]
        }
      ]
    },
    {
      "cell_type": "markdown",
      "source": [
        "Imprimimos el esquema del dataframe y vemos que tiene 3 columnas, el ID del usuario, el titulo de la pelicula y el rating que le dió a esa película ese usuario. Debido a que el titulo esta guardado como string, necesitamos transformarlo a valor numerico para poder utilizar la libreria MLlib de PySpark"
      ],
      "metadata": {
        "id": "74euLTGy3i8Z"
      }
    },
    {
      "cell_type": "code",
      "source": [
        "from pyspark.ml.feature import StringIndexer, IndexToString\n",
        "stringIndexer = StringIndexer(inputCol='title', outputCol='title_new')\n",
        "# Aplicamos el objeto stringindexer en la columna del titulo del dataframe\n",
        "model = stringIndexer.fit(df)\n",
        "#creamos el nuevo dataframe con los titulos de la pelicula transformados a valores numericos\n",
        "indexed = model.transform(df)\n",
        "#vemos el nuevo dataframe con la columna title_new que tiene valores numericos\n",
        "indexed.limit(5).toPandas()"
      ],
      "metadata": {
        "colab": {
          "base_uri": "https://localhost:8080/",
          "height": 206
        },
        "id": "Rw6s36GSLvvU",
        "outputId": "06ade97c-ca40-4a6d-d982-fbf3bc09cf2a"
      },
      "execution_count": null,
      "outputs": [
        {
          "output_type": "execute_result",
          "data": {
            "text/plain": [
              "   userId         title  rating  title_new\n",
              "0     196  Kolya (1996)       3      287.0\n",
              "1      63  Kolya (1996)       3      287.0\n",
              "2     226  Kolya (1996)       5      287.0\n",
              "3     154  Kolya (1996)       3      287.0\n",
              "4     306  Kolya (1996)       5      287.0"
            ],
            "text/html": [
              "\n",
              "  <div id=\"df-4c38fb2d-f66a-4922-9b07-93d4411a3e53\">\n",
              "    <div class=\"colab-df-container\">\n",
              "      <div>\n",
              "<style scoped>\n",
              "    .dataframe tbody tr th:only-of-type {\n",
              "        vertical-align: middle;\n",
              "    }\n",
              "\n",
              "    .dataframe tbody tr th {\n",
              "        vertical-align: top;\n",
              "    }\n",
              "\n",
              "    .dataframe thead th {\n",
              "        text-align: right;\n",
              "    }\n",
              "</style>\n",
              "<table border=\"1\" class=\"dataframe\">\n",
              "  <thead>\n",
              "    <tr style=\"text-align: right;\">\n",
              "      <th></th>\n",
              "      <th>userId</th>\n",
              "      <th>title</th>\n",
              "      <th>rating</th>\n",
              "      <th>title_new</th>\n",
              "    </tr>\n",
              "  </thead>\n",
              "  <tbody>\n",
              "    <tr>\n",
              "      <th>0</th>\n",
              "      <td>196</td>\n",
              "      <td>Kolya (1996)</td>\n",
              "      <td>3</td>\n",
              "      <td>287.0</td>\n",
              "    </tr>\n",
              "    <tr>\n",
              "      <th>1</th>\n",
              "      <td>63</td>\n",
              "      <td>Kolya (1996)</td>\n",
              "      <td>3</td>\n",
              "      <td>287.0</td>\n",
              "    </tr>\n",
              "    <tr>\n",
              "      <th>2</th>\n",
              "      <td>226</td>\n",
              "      <td>Kolya (1996)</td>\n",
              "      <td>5</td>\n",
              "      <td>287.0</td>\n",
              "    </tr>\n",
              "    <tr>\n",
              "      <th>3</th>\n",
              "      <td>154</td>\n",
              "      <td>Kolya (1996)</td>\n",
              "      <td>3</td>\n",
              "      <td>287.0</td>\n",
              "    </tr>\n",
              "    <tr>\n",
              "      <th>4</th>\n",
              "      <td>306</td>\n",
              "      <td>Kolya (1996)</td>\n",
              "      <td>5</td>\n",
              "      <td>287.0</td>\n",
              "    </tr>\n",
              "  </tbody>\n",
              "</table>\n",
              "</div>\n",
              "      <button class=\"colab-df-convert\" onclick=\"convertToInteractive('df-4c38fb2d-f66a-4922-9b07-93d4411a3e53')\"\n",
              "              title=\"Convert this dataframe to an interactive table.\"\n",
              "              style=\"display:none;\">\n",
              "        \n",
              "  <svg xmlns=\"http://www.w3.org/2000/svg\" height=\"24px\"viewBox=\"0 0 24 24\"\n",
              "       width=\"24px\">\n",
              "    <path d=\"M0 0h24v24H0V0z\" fill=\"none\"/>\n",
              "    <path d=\"M18.56 5.44l.94 2.06.94-2.06 2.06-.94-2.06-.94-.94-2.06-.94 2.06-2.06.94zm-11 1L8.5 8.5l.94-2.06 2.06-.94-2.06-.94L8.5 2.5l-.94 2.06-2.06.94zm10 10l.94 2.06.94-2.06 2.06-.94-2.06-.94-.94-2.06-.94 2.06-2.06.94z\"/><path d=\"M17.41 7.96l-1.37-1.37c-.4-.4-.92-.59-1.43-.59-.52 0-1.04.2-1.43.59L10.3 9.45l-7.72 7.72c-.78.78-.78 2.05 0 2.83L4 21.41c.39.39.9.59 1.41.59.51 0 1.02-.2 1.41-.59l7.78-7.78 2.81-2.81c.8-.78.8-2.07 0-2.86zM5.41 20L4 18.59l7.72-7.72 1.47 1.35L5.41 20z\"/>\n",
              "  </svg>\n",
              "      </button>\n",
              "      \n",
              "  <style>\n",
              "    .colab-df-container {\n",
              "      display:flex;\n",
              "      flex-wrap:wrap;\n",
              "      gap: 12px;\n",
              "    }\n",
              "\n",
              "    .colab-df-convert {\n",
              "      background-color: #E8F0FE;\n",
              "      border: none;\n",
              "      border-radius: 50%;\n",
              "      cursor: pointer;\n",
              "      display: none;\n",
              "      fill: #1967D2;\n",
              "      height: 32px;\n",
              "      padding: 0 0 0 0;\n",
              "      width: 32px;\n",
              "    }\n",
              "\n",
              "    .colab-df-convert:hover {\n",
              "      background-color: #E2EBFA;\n",
              "      box-shadow: 0px 1px 2px rgba(60, 64, 67, 0.3), 0px 1px 3px 1px rgba(60, 64, 67, 0.15);\n",
              "      fill: #174EA6;\n",
              "    }\n",
              "\n",
              "    [theme=dark] .colab-df-convert {\n",
              "      background-color: #3B4455;\n",
              "      fill: #D2E3FC;\n",
              "    }\n",
              "\n",
              "    [theme=dark] .colab-df-convert:hover {\n",
              "      background-color: #434B5C;\n",
              "      box-shadow: 0px 1px 3px 1px rgba(0, 0, 0, 0.15);\n",
              "      filter: drop-shadow(0px 1px 2px rgba(0, 0, 0, 0.3));\n",
              "      fill: #FFFFFF;\n",
              "    }\n",
              "  </style>\n",
              "\n",
              "      <script>\n",
              "        const buttonEl =\n",
              "          document.querySelector('#df-4c38fb2d-f66a-4922-9b07-93d4411a3e53 button.colab-df-convert');\n",
              "        buttonEl.style.display =\n",
              "          google.colab.kernel.accessAllowed ? 'block' : 'none';\n",
              "\n",
              "        async function convertToInteractive(key) {\n",
              "          const element = document.querySelector('#df-4c38fb2d-f66a-4922-9b07-93d4411a3e53');\n",
              "          const dataTable =\n",
              "            await google.colab.kernel.invokeFunction('convertToInteractive',\n",
              "                                                     [key], {});\n",
              "          if (!dataTable) return;\n",
              "\n",
              "          const docLinkHtml = 'Like what you see? Visit the ' +\n",
              "            '<a target=\"_blank\" href=https://colab.research.google.com/notebooks/data_table.ipynb>data table notebook</a>'\n",
              "            + ' to learn more about interactive tables.';\n",
              "          element.innerHTML = '';\n",
              "          dataTable['output_type'] = 'display_data';\n",
              "          await google.colab.output.renderOutput(dataTable, element);\n",
              "          const docLink = document.createElement('div');\n",
              "          docLink.innerHTML = docLinkHtml;\n",
              "          element.appendChild(docLink);\n",
              "        }\n",
              "      </script>\n",
              "    </div>\n",
              "  </div>\n",
              "  "
            ]
          },
          "metadata": {},
          "execution_count": 6
        }
      ]
    },
    {
      "cell_type": "markdown",
      "source": [
        "Para entrenar nuestro modelo utilizaremos un filtro colaborativo, el cual consiste en rellenar informacion de un usuario en base a factores latentes. Para rellenar esta informacion, utilizaremos especificamente el algoritmo ALS (Alternating Least Squares)."
      ],
      "metadata": {
        "id": "htImRsPD5GqJ"
      }
    },
    {
      "cell_type": "code",
      "source": [
        "# dividimos la data en entrenamiento y prueba\n",
        "train, test = indexed.randomSplit([0.75,0.25])\n",
        "# Importamos el algoritmo ALS\n",
        "from pyspark.ml.recommendation import ALS\n",
        "\n",
        "#Entrenamos el modelo recomendador usando el dataset de entrenamiento\n",
        "rec=ALS( maxIter=10\n",
        "        ,regParam=0.01\n",
        "        ,userCol='userId'\n",
        "        ,itemCol='title_new'\n",
        "        ,ratingCol='rating'\n",
        "        ,nonnegative=True\n",
        "        ,coldStartStrategy=\"drop\")\n",
        "\n",
        "#\"fiteamos\" el modelos al set de entrenamiento\n",
        "rec_model=rec.fit(train)\n",
        "\n",
        "#Realizamos las predicciones en el set de prueba\n",
        "predicted_ratings=rec_model.transform(test)\n",
        "predicted_ratings.limit(5).toPandas()"
      ],
      "metadata": {
        "colab": {
          "base_uri": "https://localhost:8080/",
          "height": 206
        },
        "id": "ZV1D9DtALx-K",
        "outputId": "54d47996-cf19-4580-fd46-ce6ea9653961"
      },
      "execution_count": null,
      "outputs": [
        {
          "output_type": "execute_result",
          "data": {
            "text/plain": [
              "   userId                                   title  rating  title_new  \\\n",
              "0     148                           Brazil (1985)       4      109.0   \n",
              "1     148                 Deer Hunter, The (1978)       1      280.0   \n",
              "2     148                         Fantasia (1940)       5      153.0   \n",
              "3     148      Four Weddings and a Funeral (1994)       5       66.0   \n",
              "4     148  Good, The Bad and The Ugly, The (1966)       2      223.0   \n",
              "\n",
              "   prediction  \n",
              "0    4.647859  \n",
              "1    6.328695  \n",
              "2    4.029494  \n",
              "3    3.274741  \n",
              "4    4.576540  "
            ],
            "text/html": [
              "\n",
              "  <div id=\"df-0d8f4a70-f53a-4309-843e-d1b8fefb7b5d\">\n",
              "    <div class=\"colab-df-container\">\n",
              "      <div>\n",
              "<style scoped>\n",
              "    .dataframe tbody tr th:only-of-type {\n",
              "        vertical-align: middle;\n",
              "    }\n",
              "\n",
              "    .dataframe tbody tr th {\n",
              "        vertical-align: top;\n",
              "    }\n",
              "\n",
              "    .dataframe thead th {\n",
              "        text-align: right;\n",
              "    }\n",
              "</style>\n",
              "<table border=\"1\" class=\"dataframe\">\n",
              "  <thead>\n",
              "    <tr style=\"text-align: right;\">\n",
              "      <th></th>\n",
              "      <th>userId</th>\n",
              "      <th>title</th>\n",
              "      <th>rating</th>\n",
              "      <th>title_new</th>\n",
              "      <th>prediction</th>\n",
              "    </tr>\n",
              "  </thead>\n",
              "  <tbody>\n",
              "    <tr>\n",
              "      <th>0</th>\n",
              "      <td>148</td>\n",
              "      <td>Brazil (1985)</td>\n",
              "      <td>4</td>\n",
              "      <td>109.0</td>\n",
              "      <td>4.647859</td>\n",
              "    </tr>\n",
              "    <tr>\n",
              "      <th>1</th>\n",
              "      <td>148</td>\n",
              "      <td>Deer Hunter, The (1978)</td>\n",
              "      <td>1</td>\n",
              "      <td>280.0</td>\n",
              "      <td>6.328695</td>\n",
              "    </tr>\n",
              "    <tr>\n",
              "      <th>2</th>\n",
              "      <td>148</td>\n",
              "      <td>Fantasia (1940)</td>\n",
              "      <td>5</td>\n",
              "      <td>153.0</td>\n",
              "      <td>4.029494</td>\n",
              "    </tr>\n",
              "    <tr>\n",
              "      <th>3</th>\n",
              "      <td>148</td>\n",
              "      <td>Four Weddings and a Funeral (1994)</td>\n",
              "      <td>5</td>\n",
              "      <td>66.0</td>\n",
              "      <td>3.274741</td>\n",
              "    </tr>\n",
              "    <tr>\n",
              "      <th>4</th>\n",
              "      <td>148</td>\n",
              "      <td>Good, The Bad and The Ugly, The (1966)</td>\n",
              "      <td>2</td>\n",
              "      <td>223.0</td>\n",
              "      <td>4.576540</td>\n",
              "    </tr>\n",
              "  </tbody>\n",
              "</table>\n",
              "</div>\n",
              "      <button class=\"colab-df-convert\" onclick=\"convertToInteractive('df-0d8f4a70-f53a-4309-843e-d1b8fefb7b5d')\"\n",
              "              title=\"Convert this dataframe to an interactive table.\"\n",
              "              style=\"display:none;\">\n",
              "        \n",
              "  <svg xmlns=\"http://www.w3.org/2000/svg\" height=\"24px\"viewBox=\"0 0 24 24\"\n",
              "       width=\"24px\">\n",
              "    <path d=\"M0 0h24v24H0V0z\" fill=\"none\"/>\n",
              "    <path d=\"M18.56 5.44l.94 2.06.94-2.06 2.06-.94-2.06-.94-.94-2.06-.94 2.06-2.06.94zm-11 1L8.5 8.5l.94-2.06 2.06-.94-2.06-.94L8.5 2.5l-.94 2.06-2.06.94zm10 10l.94 2.06.94-2.06 2.06-.94-2.06-.94-.94-2.06-.94 2.06-2.06.94z\"/><path d=\"M17.41 7.96l-1.37-1.37c-.4-.4-.92-.59-1.43-.59-.52 0-1.04.2-1.43.59L10.3 9.45l-7.72 7.72c-.78.78-.78 2.05 0 2.83L4 21.41c.39.39.9.59 1.41.59.51 0 1.02-.2 1.41-.59l7.78-7.78 2.81-2.81c.8-.78.8-2.07 0-2.86zM5.41 20L4 18.59l7.72-7.72 1.47 1.35L5.41 20z\"/>\n",
              "  </svg>\n",
              "      </button>\n",
              "      \n",
              "  <style>\n",
              "    .colab-df-container {\n",
              "      display:flex;\n",
              "      flex-wrap:wrap;\n",
              "      gap: 12px;\n",
              "    }\n",
              "\n",
              "    .colab-df-convert {\n",
              "      background-color: #E8F0FE;\n",
              "      border: none;\n",
              "      border-radius: 50%;\n",
              "      cursor: pointer;\n",
              "      display: none;\n",
              "      fill: #1967D2;\n",
              "      height: 32px;\n",
              "      padding: 0 0 0 0;\n",
              "      width: 32px;\n",
              "    }\n",
              "\n",
              "    .colab-df-convert:hover {\n",
              "      background-color: #E2EBFA;\n",
              "      box-shadow: 0px 1px 2px rgba(60, 64, 67, 0.3), 0px 1px 3px 1px rgba(60, 64, 67, 0.15);\n",
              "      fill: #174EA6;\n",
              "    }\n",
              "\n",
              "    [theme=dark] .colab-df-convert {\n",
              "      background-color: #3B4455;\n",
              "      fill: #D2E3FC;\n",
              "    }\n",
              "\n",
              "    [theme=dark] .colab-df-convert:hover {\n",
              "      background-color: #434B5C;\n",
              "      box-shadow: 0px 1px 3px 1px rgba(0, 0, 0, 0.15);\n",
              "      filter: drop-shadow(0px 1px 2px rgba(0, 0, 0, 0.3));\n",
              "      fill: #FFFFFF;\n",
              "    }\n",
              "  </style>\n",
              "\n",
              "      <script>\n",
              "        const buttonEl =\n",
              "          document.querySelector('#df-0d8f4a70-f53a-4309-843e-d1b8fefb7b5d button.colab-df-convert');\n",
              "        buttonEl.style.display =\n",
              "          google.colab.kernel.accessAllowed ? 'block' : 'none';\n",
              "\n",
              "        async function convertToInteractive(key) {\n",
              "          const element = document.querySelector('#df-0d8f4a70-f53a-4309-843e-d1b8fefb7b5d');\n",
              "          const dataTable =\n",
              "            await google.colab.kernel.invokeFunction('convertToInteractive',\n",
              "                                                     [key], {});\n",
              "          if (!dataTable) return;\n",
              "\n",
              "          const docLinkHtml = 'Like what you see? Visit the ' +\n",
              "            '<a target=\"_blank\" href=https://colab.research.google.com/notebooks/data_table.ipynb>data table notebook</a>'\n",
              "            + ' to learn more about interactive tables.';\n",
              "          element.innerHTML = '';\n",
              "          dataTable['output_type'] = 'display_data';\n",
              "          await google.colab.output.renderOutput(dataTable, element);\n",
              "          const docLink = document.createElement('div');\n",
              "          docLink.innerHTML = docLinkHtml;\n",
              "          element.appendChild(docLink);\n",
              "        }\n",
              "      </script>\n",
              "    </div>\n",
              "  </div>\n",
              "  "
            ]
          },
          "metadata": {},
          "execution_count": 7
        }
      ]
    },
    {
      "cell_type": "markdown",
      "source": [
        "Podemos ver que se ha añadido una nueva columna, la que corresponde a la prediccion. Esta columna le otorga un puntaje por pelicula a cada userId, el cual determina si a una persona se le recomendara cierta pelicula y a cual no (a mayor numero mas cerca de sus propios gustos)."
      ],
      "metadata": {
        "id": "FlyyVfWBRJjB"
      }
    },
    {
      "cell_type": "markdown",
      "source": [
        "A continuación, evaluamos el entrenamiento"
      ],
      "metadata": {
        "id": "fdnOF1JtSsRl"
      }
    },
    {
      "cell_type": "code",
      "source": [
        "# Importamos el evaluador de regresion para medir RMSE\n",
        "from pyspark.ml.evaluation import RegressionEvaluator\n",
        "# Creamos el eobjeto para medir la precision\n",
        "evaluator=RegressionEvaluator(metricName='rmse',predictionCol='prediction',labelCol='rating')\n",
        "# aplicamos el evaluador en las predicciones del dataframe para calcular RMSEE\n",
        "rmse=evaluator.evaluate(predicted_ratings)\n",
        "# imprimimos el RMSE\n",
        "print(rmse)"
      ],
      "metadata": {
        "colab": {
          "base_uri": "https://localhost:8080/"
        },
        "id": "z4uSIVooL198",
        "outputId": "4c0178a2-76bc-4b6e-8bc3-df28e376b6a9"
      },
      "execution_count": null,
      "outputs": [
        {
          "output_type": "stream",
          "name": "stdout",
          "text": [
            "1.0339732622503393\n"
          ]
        }
      ]
    },
    {
      "cell_type": "markdown",
      "source": [
        "Ahora crearemos una funcion para determinar el top de peliculas recomendadas para cada usuario"
      ],
      "metadata": {
        "id": "4jJ3kIScTiVL"
      }
    },
    {
      "cell_type": "code",
      "source": [
        "# Primero creamos un dataset con cada pelicula individualizada\n",
        "unique_movies=indexed.select('title_new').distinct()\n",
        "\n",
        "#creamos la funcion \"top_movies\" para seleccionar el top n de peliculas para determinado usuario\n",
        "def top_movies(user_id,n):\n",
        "    \"\"\"\n",
        "    Esta funcion devuelve el top 'n' de peliculas que el usuario no ha visto aun pero podrian gustarle \n",
        "    \n",
        "    \"\"\"\n",
        "    #le asignamos el alias 'a' al dataframe de peliculas individualizadas\n",
        "    a = unique_movies.alias('a')\n",
        "    \n",
        "    #creamos otro df que contenga las peliculas ya vistas por el usuario a recomendar \n",
        "    watched_movies=indexed.filter(indexed['userId'] == user_id).select('title_new')\n",
        "    \n",
        "    #le asignamos el alias 'b' al dataframe de peliculas ya vistas\n",
        "    b=watched_movies.alias('b')\n",
        "    \n",
        "    #unimos ambos df con la funcion \"left join\" \n",
        "    total_movies = a.join(b, a.title_new == b.title_new,how='left')\n",
        "    \n",
        "    #seleccionamos las peliculas que el usuario aun no ha rankeado ni visto\n",
        "    remaining_movies=total_movies.where(col(\"b.title_new\").isNull()).select(a.title_new).distinct()\n",
        "    \n",
        "    #le agregamos una columna con el Id del usuario al df de las peliculas por ver/a recomendar \n",
        "    remaining_movies=remaining_movies.withColumn(\"userId\",lit(int(user_id)))\n",
        "    \n",
        "    #realizamos las recomendaciones utilizando el algoritmo ALS y seleccionamos las 'n' peliculas top\n",
        "    recommendations=rec_model.transform(remaining_movies).orderBy('prediction',ascending=False).limit(n)\n",
        "    \n",
        "    #agregamos los nombres de las peliculas al df de recomendaciones finales\n",
        "    movie_title = IndexToString(inputCol=\"title_new\", outputCol=\"title\",labels=model.labels)\n",
        "    final_recommendations=movie_title.transform(recommendations)\n",
        "    \n",
        "    #imprimimos las recomendaciones para el usuario seleccionado\n",
        "    return final_recommendations.show(n,False)"
      ],
      "metadata": {
        "id": "uyLmQourL8T-"
      },
      "execution_count": null,
      "outputs": []
    },
    {
      "cell_type": "code",
      "source": [
        "#recomendacion de 5 peliculas para el usuario de id=30\n",
        "top_movies(30,5)"
      ],
      "metadata": {
        "colab": {
          "base_uri": "https://localhost:8080/"
        },
        "id": "rpj0Et9aL9Pb",
        "outputId": "6fdbac73-7903-4769-a030-568e9de58ca6"
      },
      "execution_count": null,
      "outputs": [
        {
          "output_type": "stream",
          "name": "stdout",
          "text": [
            "+---------+------+----------+--------------------------------+\n",
            "|title_new|userId|prediction|title                           |\n",
            "+---------+------+----------+--------------------------------+\n",
            "|1013.0   |30    |10.370202 |Go Fish (1994)                  |\n",
            "|843.0    |30    |9.593432  |Love! Valour! Compassion! (1997)|\n",
            "|921.0    |30    |9.543929  |For Whom the Bell Tolls (1943)  |\n",
            "|1040.0   |30    |9.066699  |Boys of St. Vincent, The (1993) |\n",
            "|1265.0   |30    |9.025103  |Duoluo tianshi (1995)           |\n",
            "+---------+------+----------+--------------------------------+\n",
            "\n"
          ]
        }
      ]
    },
    {
      "cell_type": "markdown",
      "source": [
        "De esta forma se puede implementar una funcion de recomendaciones sobre un gran numero de información en formato df de spark. Este algoritmo resulta bastante sencillo de aplicar y esta optimizado para funcionar con spark, por lo que es bastante eficiente con respecto al tiempo al momento de implementarlo."
      ],
      "metadata": {
        "id": "ea2g5lg5bknH"
      }
    },
    {
      "cell_type": "markdown",
      "source": [
        "# Analisis de historial de ventas\n",
        "\n",
        "El objetivo del caso es explorar un historial de un millon de ventas de una base de datos de muestra, utilizando pyspark y analizando mas a profundidad con SQL."
      ],
      "metadata": {
        "id": "7DdGNOaL4xwp"
      }
    },
    {
      "cell_type": "code",
      "source": [
        "!apt-get install openjdk-8-jdk-headless -qq > /dev/null\n",
        "!wget -q http://archive.apache.org/dist/spark/spark-3.1.1/spark-3.1.1-bin-hadoop3.2.tgz\n",
        "!tar xf spark-3.1.1-bin-hadoop3.2.tgz\n",
        "!pip install -q findspark"
      ],
      "metadata": {
        "id": "fCb8omOP4xNa"
      },
      "execution_count": 1,
      "outputs": []
    },
    {
      "cell_type": "code",
      "source": [
        "import os\n",
        "os.environ[\"JAVA_HOME\"] = \"/usr/lib/jvm/java-8-openjdk-amd64\"\n",
        "os.environ[\"SPARK_HOME\"] = \"/content/spark-3.1.1-bin-hadoop3.2\""
      ],
      "metadata": {
        "id": "E6OjcTcz4xTy"
      },
      "execution_count": 2,
      "outputs": []
    },
    {
      "cell_type": "code",
      "source": [
        "import findspark\n",
        "findspark.init()\n",
        "from pyspark.sql import SparkSession\n",
        "spark = SparkSession.builder.master(\"local[*]\").getOrCreate()\n",
        "spark.conf.set(\"spark.sql.repl.eagerEval.enabled\", True)\n",
        "spark"
      ],
      "metadata": {
        "colab": {
          "base_uri": "https://localhost:8080/",
          "height": 219
        },
        "id": "b7Tqq7qK4xYq",
        "outputId": "183ec535-1811-442c-f04f-d4aae849d60f"
      },
      "execution_count": 3,
      "outputs": [
        {
          "output_type": "execute_result",
          "data": {
            "text/plain": [
              "<pyspark.sql.session.SparkSession at 0x7fc79ea99710>"
            ],
            "text/html": [
              "\n",
              "            <div>\n",
              "                <p><b>SparkSession - in-memory</b></p>\n",
              "                \n",
              "        <div>\n",
              "            <p><b>SparkContext</b></p>\n",
              "\n",
              "            <p><a href=\"http://a75c7e39a113:4040\">Spark UI</a></p>\n",
              "\n",
              "            <dl>\n",
              "              <dt>Version</dt>\n",
              "                <dd><code>v3.1.1</code></dd>\n",
              "              <dt>Master</dt>\n",
              "                <dd><code>local[*]</code></dd>\n",
              "              <dt>AppName</dt>\n",
              "                <dd><code>pyspark-shell</code></dd>\n",
              "            </dl>\n",
              "        </div>\n",
              "        \n",
              "            </div>\n",
              "        "
            ]
          },
          "metadata": {},
          "execution_count": 3
        }
      ]
    },
    {
      "cell_type": "code",
      "source": [
        "from pyspark.sql import SparkSession\n",
        "import numpy as np\n",
        "import pandas as pd\n",
        "import pyspark.sql\n",
        "from pyspark.sql.functions import col\n",
        "from pyspark.context import SparkContext\n",
        "import time"
      ],
      "metadata": {
        "id": "-Gn0cUCK5S4v"
      },
      "execution_count": 4,
      "outputs": []
    },
    {
      "cell_type": "code",
      "source": [
        "spark = SparkSession.builder.getOrCreate()"
      ],
      "metadata": {
        "id": "vU4hP1EW5S7Z"
      },
      "execution_count": 5,
      "outputs": []
    },
    {
      "cell_type": "code",
      "source": [
        "df1 = spark.read.options(header=True, inferSchema=True, delimiter=\";\").csv('Data1.csv')\n",
        "df2 = spark.read.options(header=True, inferSchema=True, delimiter=\";\").csv('data2.csv')"
      ],
      "metadata": {
        "id": "YDORVw_N5S9_"
      },
      "execution_count": 33,
      "outputs": []
    },
    {
      "cell_type": "code",
      "source": [
        "df = df1.unionByName(df2)"
      ],
      "metadata": {
        "id": "6ZCAzDj75TAV"
      },
      "execution_count": 34,
      "outputs": []
    },
    {
      "cell_type": "code",
      "source": [
        "print(\"Data shape:\", df.count(), \"x\", len(df.columns))"
      ],
      "metadata": {
        "colab": {
          "base_uri": "https://localhost:8080/"
        },
        "id": "9V92fBsq5TCi",
        "outputId": "e8a79d07-f056-4590-ec5a-815d07286fa1"
      },
      "execution_count": 35,
      "outputs": [
        {
          "output_type": "stream",
          "name": "stdout",
          "text": [
            "Data shape: 1067371 x 8\n"
          ]
        }
      ]
    },
    {
      "cell_type": "code",
      "source": [
        "df.limit(5).show()"
      ],
      "metadata": {
        "colab": {
          "base_uri": "https://localhost:8080/"
        },
        "id": "eQnV7J745TE5",
        "outputId": "06ac4e65-8df6-4f37-fe5b-6d5eb610d1e6"
      },
      "execution_count": 36,
      "outputs": [
        {
          "output_type": "stream",
          "name": "stdout",
          "text": [
            "+-------+---------+--------------------+--------+-----------+-----+-----------+--------------+\n",
            "|Invoice|StockCode|         Description|Quantity|InvoiceDate|Price|Customer ID|       Country|\n",
            "+-------+---------+--------------------+--------+-----------+-----+-----------+--------------+\n",
            "| 536365|   85123A|WHITE HANGING HEA...|       6| 01-12-2010| 2,55|      17850|United Kingdom|\n",
            "| 536365|    71053| WHITE METAL LANTERN|       6| 01-12-2010| 3,39|      17850|United Kingdom|\n",
            "| 536365|   84406B|CREAM CUPID HEART...|       8| 01-12-2010| 2,75|      17850|United Kingdom|\n",
            "| 536365|   84029G|KNITTED UNION FLA...|       6| 01-12-2010| 3,39|      17850|United Kingdom|\n",
            "| 536365|   84029E|RED WOOLLY HOTTIE...|       6| 01-12-2010| 3,39|      17850|United Kingdom|\n",
            "+-------+---------+--------------------+--------+-----------+-----+-----------+--------------+\n",
            "\n"
          ]
        }
      ]
    },
    {
      "cell_type": "code",
      "source": [
        "summary = df.describe().toPandas()\n",
        "summary = summary.T\n",
        "summary.columns = summary.iloc[0]\n",
        "summary = summary.drop(summary.index[0])\n",
        "summary"
      ],
      "metadata": {
        "colab": {
          "base_uri": "https://localhost:8080/",
          "height": 300
        },
        "id": "o52ZCYDC5THC",
        "outputId": "87170ce1-be9a-4031-bf26-579b766bf6b1"
      },
      "execution_count": 37,
      "outputs": [
        {
          "output_type": "execute_result",
          "data": {
            "text/plain": [
              "summary        count                mean              stddev  \\\n",
              "Invoice      1067371   537608.1499316233  26662.450446910476   \n",
              "StockCode    1067371  29011.161534536903  18822.942866189307   \n",
              "Description  1062989            21848.25   922.9197780233488   \n",
              "Quantity     1067371     9.9388984711033  172.70579407675444   \n",
              "InvoiceDate  1067371                None                None   \n",
              "Price        1067371   19.92448124501197  400.46793090926843   \n",
              "Customer ID   824364   15324.63850435002  1697.4644503793115   \n",
              "Country      1067371                None                None   \n",
              "\n",
              "summary                                      min                max  \n",
              "Invoice                                   489434            C581569  \n",
              "StockCode                                  10002                  m  \n",
              "Description    DOORMAT UNION JACK GUNS AND ROSES  wrongly sold sets  \n",
              "Quantity                                  -80995              80995  \n",
              "InvoiceDate                           01-02-2010         31-10-2011  \n",
              "Price                                  -11062,06              99,96  \n",
              "Customer ID                                12346              18287  \n",
              "Country                                Australia        West Indies  "
            ],
            "text/html": [
              "\n",
              "  <div id=\"df-0755b68e-e413-41df-92c0-447f0a860b3a\">\n",
              "    <div class=\"colab-df-container\">\n",
              "      <div>\n",
              "<style scoped>\n",
              "    .dataframe tbody tr th:only-of-type {\n",
              "        vertical-align: middle;\n",
              "    }\n",
              "\n",
              "    .dataframe tbody tr th {\n",
              "        vertical-align: top;\n",
              "    }\n",
              "\n",
              "    .dataframe thead th {\n",
              "        text-align: right;\n",
              "    }\n",
              "</style>\n",
              "<table border=\"1\" class=\"dataframe\">\n",
              "  <thead>\n",
              "    <tr style=\"text-align: right;\">\n",
              "      <th>summary</th>\n",
              "      <th>count</th>\n",
              "      <th>mean</th>\n",
              "      <th>stddev</th>\n",
              "      <th>min</th>\n",
              "      <th>max</th>\n",
              "    </tr>\n",
              "  </thead>\n",
              "  <tbody>\n",
              "    <tr>\n",
              "      <th>Invoice</th>\n",
              "      <td>1067371</td>\n",
              "      <td>537608.1499316233</td>\n",
              "      <td>26662.450446910476</td>\n",
              "      <td>489434</td>\n",
              "      <td>C581569</td>\n",
              "    </tr>\n",
              "    <tr>\n",
              "      <th>StockCode</th>\n",
              "      <td>1067371</td>\n",
              "      <td>29011.161534536903</td>\n",
              "      <td>18822.942866189307</td>\n",
              "      <td>10002</td>\n",
              "      <td>m</td>\n",
              "    </tr>\n",
              "    <tr>\n",
              "      <th>Description</th>\n",
              "      <td>1062989</td>\n",
              "      <td>21848.25</td>\n",
              "      <td>922.9197780233488</td>\n",
              "      <td>DOORMAT UNION JACK GUNS AND ROSES</td>\n",
              "      <td>wrongly sold sets</td>\n",
              "    </tr>\n",
              "    <tr>\n",
              "      <th>Quantity</th>\n",
              "      <td>1067371</td>\n",
              "      <td>9.9388984711033</td>\n",
              "      <td>172.70579407675444</td>\n",
              "      <td>-80995</td>\n",
              "      <td>80995</td>\n",
              "    </tr>\n",
              "    <tr>\n",
              "      <th>InvoiceDate</th>\n",
              "      <td>1067371</td>\n",
              "      <td>None</td>\n",
              "      <td>None</td>\n",
              "      <td>01-02-2010</td>\n",
              "      <td>31-10-2011</td>\n",
              "    </tr>\n",
              "    <tr>\n",
              "      <th>Price</th>\n",
              "      <td>1067371</td>\n",
              "      <td>19.92448124501197</td>\n",
              "      <td>400.46793090926843</td>\n",
              "      <td>-11062,06</td>\n",
              "      <td>99,96</td>\n",
              "    </tr>\n",
              "    <tr>\n",
              "      <th>Customer ID</th>\n",
              "      <td>824364</td>\n",
              "      <td>15324.63850435002</td>\n",
              "      <td>1697.4644503793115</td>\n",
              "      <td>12346</td>\n",
              "      <td>18287</td>\n",
              "    </tr>\n",
              "    <tr>\n",
              "      <th>Country</th>\n",
              "      <td>1067371</td>\n",
              "      <td>None</td>\n",
              "      <td>None</td>\n",
              "      <td>Australia</td>\n",
              "      <td>West Indies</td>\n",
              "    </tr>\n",
              "  </tbody>\n",
              "</table>\n",
              "</div>\n",
              "      <button class=\"colab-df-convert\" onclick=\"convertToInteractive('df-0755b68e-e413-41df-92c0-447f0a860b3a')\"\n",
              "              title=\"Convert this dataframe to an interactive table.\"\n",
              "              style=\"display:none;\">\n",
              "        \n",
              "  <svg xmlns=\"http://www.w3.org/2000/svg\" height=\"24px\"viewBox=\"0 0 24 24\"\n",
              "       width=\"24px\">\n",
              "    <path d=\"M0 0h24v24H0V0z\" fill=\"none\"/>\n",
              "    <path d=\"M18.56 5.44l.94 2.06.94-2.06 2.06-.94-2.06-.94-.94-2.06-.94 2.06-2.06.94zm-11 1L8.5 8.5l.94-2.06 2.06-.94-2.06-.94L8.5 2.5l-.94 2.06-2.06.94zm10 10l.94 2.06.94-2.06 2.06-.94-2.06-.94-.94-2.06-.94 2.06-2.06.94z\"/><path d=\"M17.41 7.96l-1.37-1.37c-.4-.4-.92-.59-1.43-.59-.52 0-1.04.2-1.43.59L10.3 9.45l-7.72 7.72c-.78.78-.78 2.05 0 2.83L4 21.41c.39.39.9.59 1.41.59.51 0 1.02-.2 1.41-.59l7.78-7.78 2.81-2.81c.8-.78.8-2.07 0-2.86zM5.41 20L4 18.59l7.72-7.72 1.47 1.35L5.41 20z\"/>\n",
              "  </svg>\n",
              "      </button>\n",
              "      \n",
              "  <style>\n",
              "    .colab-df-container {\n",
              "      display:flex;\n",
              "      flex-wrap:wrap;\n",
              "      gap: 12px;\n",
              "    }\n",
              "\n",
              "    .colab-df-convert {\n",
              "      background-color: #E8F0FE;\n",
              "      border: none;\n",
              "      border-radius: 50%;\n",
              "      cursor: pointer;\n",
              "      display: none;\n",
              "      fill: #1967D2;\n",
              "      height: 32px;\n",
              "      padding: 0 0 0 0;\n",
              "      width: 32px;\n",
              "    }\n",
              "\n",
              "    .colab-df-convert:hover {\n",
              "      background-color: #E2EBFA;\n",
              "      box-shadow: 0px 1px 2px rgba(60, 64, 67, 0.3), 0px 1px 3px 1px rgba(60, 64, 67, 0.15);\n",
              "      fill: #174EA6;\n",
              "    }\n",
              "\n",
              "    [theme=dark] .colab-df-convert {\n",
              "      background-color: #3B4455;\n",
              "      fill: #D2E3FC;\n",
              "    }\n",
              "\n",
              "    [theme=dark] .colab-df-convert:hover {\n",
              "      background-color: #434B5C;\n",
              "      box-shadow: 0px 1px 3px 1px rgba(0, 0, 0, 0.15);\n",
              "      filter: drop-shadow(0px 1px 2px rgba(0, 0, 0, 0.3));\n",
              "      fill: #FFFFFF;\n",
              "    }\n",
              "  </style>\n",
              "\n",
              "      <script>\n",
              "        const buttonEl =\n",
              "          document.querySelector('#df-0755b68e-e413-41df-92c0-447f0a860b3a button.colab-df-convert');\n",
              "        buttonEl.style.display =\n",
              "          google.colab.kernel.accessAllowed ? 'block' : 'none';\n",
              "\n",
              "        async function convertToInteractive(key) {\n",
              "          const element = document.querySelector('#df-0755b68e-e413-41df-92c0-447f0a860b3a');\n",
              "          const dataTable =\n",
              "            await google.colab.kernel.invokeFunction('convertToInteractive',\n",
              "                                                     [key], {});\n",
              "          if (!dataTable) return;\n",
              "\n",
              "          const docLinkHtml = 'Like what you see? Visit the ' +\n",
              "            '<a target=\"_blank\" href=https://colab.research.google.com/notebooks/data_table.ipynb>data table notebook</a>'\n",
              "            + ' to learn more about interactive tables.';\n",
              "          element.innerHTML = '';\n",
              "          dataTable['output_type'] = 'display_data';\n",
              "          await google.colab.output.renderOutput(dataTable, element);\n",
              "          const docLink = document.createElement('div');\n",
              "          docLink.innerHTML = docLinkHtml;\n",
              "          element.appendChild(docLink);\n",
              "        }\n",
              "      </script>\n",
              "    </div>\n",
              "  </div>\n",
              "  "
            ]
          },
          "metadata": {},
          "execution_count": 37
        }
      ]
    },
    {
      "cell_type": "code",
      "source": [
        "from pyspark.sql.functions import isnan, count, col, when\n",
        "\n",
        "df.select([count(when(isnan(c) | col(c).isNull(), c)).alias(c) for c in df.columns]) # Funcion encontrada en sparkbyexamples.com"
      ],
      "metadata": {
        "colab": {
          "base_uri": "https://localhost:8080/",
          "height": 67
        },
        "id": "mtCQvO1Z5TJE",
        "outputId": "3db4e8b6-461a-4023-9d2d-86efce5eb6d8"
      },
      "execution_count": 38,
      "outputs": [
        {
          "output_type": "execute_result",
          "data": {
            "text/plain": [
              "+-------+---------+-----------+--------+-----------+-----+-----------+-------+\n",
              "|Invoice|StockCode|Description|Quantity|InvoiceDate|Price|Customer ID|Country|\n",
              "+-------+---------+-----------+--------+-----------+-----+-----------+-------+\n",
              "|      0|        0|       4382|       0|          0|    0|     243007|      0|\n",
              "+-------+---------+-----------+--------+-----------+-----+-----------+-------+"
            ],
            "text/html": [
              "<table border='1'>\n",
              "<tr><th>Invoice</th><th>StockCode</th><th>Description</th><th>Quantity</th><th>InvoiceDate</th><th>Price</th><th>Customer ID</th><th>Country</th></tr>\n",
              "<tr><td>0</td><td>0</td><td>4382</td><td>0</td><td>0</td><td>0</td><td>243007</td><td>0</td></tr>\n",
              "</table>\n"
            ]
          },
          "metadata": {},
          "execution_count": 38
        }
      ]
    },
    {
      "cell_type": "code",
      "source": [
        "df.schema \n",
        "# StructField(Price,StringType,true) --> Podemos ver que el precio es String, debe ser cambiado.\n",
        "# StructField(Quantity,IntegerType,true) --> Quantity debe ser Float."
      ],
      "metadata": {
        "colab": {
          "base_uri": "https://localhost:8080/"
        },
        "id": "dc1RRz7W5TLK",
        "outputId": "b2d1ce1b-7880-4181-bb8b-27b9e5b26841"
      },
      "execution_count": 39,
      "outputs": [
        {
          "output_type": "execute_result",
          "data": {
            "text/plain": [
              "StructType(List(StructField(Invoice,StringType,true),StructField(StockCode,StringType,true),StructField(Description,StringType,true),StructField(Quantity,IntegerType,true),StructField(InvoiceDate,StringType,true),StructField(Price,StringType,true),StructField(Customer ID,IntegerType,true),StructField(Country,StringType,true)))"
            ]
          },
          "metadata": {},
          "execution_count": 39
        }
      ]
    },
    {
      "cell_type": "code",
      "source": [
        "df.describe"
      ],
      "metadata": {
        "colab": {
          "base_uri": "https://localhost:8080/"
        },
        "id": "kulPMCat5TNC",
        "outputId": "492c1083-7de9-47bf-ef6d-b8d31e0f77f8"
      },
      "execution_count": 40,
      "outputs": [
        {
          "output_type": "execute_result",
          "data": {
            "text/plain": [
              "<bound method DataFrame.describe of +-------+---------+--------------------+--------+-----------+-----+-----------+--------------+\n",
              "|Invoice|StockCode|         Description|Quantity|InvoiceDate|Price|Customer ID|       Country|\n",
              "+-------+---------+--------------------+--------+-----------+-----+-----------+--------------+\n",
              "| 536365|   85123A|WHITE HANGING HEA...|       6| 01-12-2010| 2,55|      17850|United Kingdom|\n",
              "| 536365|    71053| WHITE METAL LANTERN|       6| 01-12-2010| 3,39|      17850|United Kingdom|\n",
              "| 536365|   84406B|CREAM CUPID HEART...|       8| 01-12-2010| 2,75|      17850|United Kingdom|\n",
              "| 536365|   84029G|KNITTED UNION FLA...|       6| 01-12-2010| 3,39|      17850|United Kingdom|\n",
              "| 536365|   84029E|RED WOOLLY HOTTIE...|       6| 01-12-2010| 3,39|      17850|United Kingdom|\n",
              "| 536365|    22752|SET 7 BABUSHKA NE...|       2| 01-12-2010| 7,65|      17850|United Kingdom|\n",
              "| 536365|    21730|GLASS STAR FROSTE...|       6| 01-12-2010| 4,25|      17850|United Kingdom|\n",
              "| 536366|    22633|HAND WARMER UNION...|       6| 01-12-2010| 1,85|      17850|United Kingdom|\n",
              "| 536366|    22632|HAND WARMER RED P...|       6| 01-12-2010| 1,85|      17850|United Kingdom|\n",
              "| 536368|    22960|JAM MAKING SET WI...|       6| 01-12-2010| 4,25|      13047|United Kingdom|\n",
              "| 536368|    22913|RED COAT RACK PAR...|       3| 01-12-2010| 4,95|      13047|United Kingdom|\n",
              "| 536368|    22912|YELLOW COAT RACK ...|       3| 01-12-2010| 4,95|      13047|United Kingdom|\n",
              "| 536368|    22914|BLUE COAT RACK PA...|       3| 01-12-2010| 4,95|      13047|United Kingdom|\n",
              "| 536367|    84879|ASSORTED COLOUR B...|      32| 01-12-2010| 1,69|      13047|United Kingdom|\n",
              "| 536367|    22745|POPPY'S PLAYHOUSE...|       6| 01-12-2010|  2,1|      13047|United Kingdom|\n",
              "| 536367|    22748|POPPY'S PLAYHOUSE...|       6| 01-12-2010|  2,1|      13047|United Kingdom|\n",
              "| 536367|    22749|FELTCRAFT PRINCES...|       8| 01-12-2010| 3,75|      13047|United Kingdom|\n",
              "| 536367|    22310|IVORY KNITTED MUG...|       6| 01-12-2010| 1,65|      13047|United Kingdom|\n",
              "| 536367|    84969|BOX OF 6 ASSORTED...|       6| 01-12-2010| 4,25|      13047|United Kingdom|\n",
              "| 536367|    22623|BOX OF VINTAGE JI...|       3| 01-12-2010| 4,95|      13047|United Kingdom|\n",
              "+-------+---------+--------------------+--------+-----------+-----+-----------+--------------+\n",
              "only showing top 20 rows\n",
              ">"
            ]
          },
          "metadata": {},
          "execution_count": 40
        }
      ]
    },
    {
      "cell_type": "code",
      "source": [
        "from pyspark.sql.functions import regexp_replace\n",
        "\n",
        "df = df.withColumn(\"Quantity\", col(\"Quantity\").cast(\"Float\"))\n",
        "df = df.withColumn('Price', regexp_replace('Price', ',', '.').cast('float'))"
      ],
      "metadata": {
        "id": "ul5F93-X5TPE"
      },
      "execution_count": 41,
      "outputs": []
    },
    {
      "cell_type": "code",
      "source": [
        "df.groupby(\"InvoiceDate\").count().sort(\"InvoiceDate\", ascending=True).limit(10)"
      ],
      "metadata": {
        "colab": {
          "base_uri": "https://localhost:8080/",
          "height": 273
        },
        "id": "eFLKd9785pAi",
        "outputId": "eef227ad-b7ea-442f-931e-b03a79ae2f4a"
      },
      "execution_count": 42,
      "outputs": [
        {
          "output_type": "execute_result",
          "data": {
            "text/plain": [
              "+-----------+-----+\n",
              "|InvoiceDate|count|\n",
              "+-----------+-----+\n",
              "| 01-02-2010| 1399|\n",
              "| 01-02-2011| 1574|\n",
              "| 01-03-2010| 1230|\n",
              "| 01-03-2011| 1361|\n",
              "| 01-04-2010| 1719|\n",
              "| 01-04-2011| 1261|\n",
              "| 01-05-2011|  452|\n",
              "| 01-06-2010| 1224|\n",
              "| 01-06-2011| 1456|\n",
              "| 01-07-2010| 1858|\n",
              "+-----------+-----+"
            ],
            "text/html": [
              "<table border='1'>\n",
              "<tr><th>InvoiceDate</th><th>count</th></tr>\n",
              "<tr><td>01-02-2010</td><td>1399</td></tr>\n",
              "<tr><td>01-02-2011</td><td>1574</td></tr>\n",
              "<tr><td>01-03-2010</td><td>1230</td></tr>\n",
              "<tr><td>01-03-2011</td><td>1361</td></tr>\n",
              "<tr><td>01-04-2010</td><td>1719</td></tr>\n",
              "<tr><td>01-04-2011</td><td>1261</td></tr>\n",
              "<tr><td>01-05-2011</td><td>452</td></tr>\n",
              "<tr><td>01-06-2010</td><td>1224</td></tr>\n",
              "<tr><td>01-06-2011</td><td>1456</td></tr>\n",
              "<tr><td>01-07-2010</td><td>1858</td></tr>\n",
              "</table>\n"
            ]
          },
          "metadata": {},
          "execution_count": 42
        }
      ]
    },
    {
      "cell_type": "code",
      "source": [
        "df = df.withColumn(\"Amount\", col(\"Quantity\") * col(\"Price\"))\n",
        "df.limit(5)"
      ],
      "metadata": {
        "colab": {
          "base_uri": "https://localhost:8080/",
          "height": 158
        },
        "id": "sTL9M4Db5pC5",
        "outputId": "9cead48f-503c-42b0-aedf-d6601e0a004e"
      },
      "execution_count": 43,
      "outputs": [
        {
          "output_type": "execute_result",
          "data": {
            "text/plain": [
              "+-------+---------+--------------------+--------+-----------+-----+-----------+--------------+---------+\n",
              "|Invoice|StockCode|         Description|Quantity|InvoiceDate|Price|Customer ID|       Country|   Amount|\n",
              "+-------+---------+--------------------+--------+-----------+-----+-----------+--------------+---------+\n",
              "| 536365|   85123A|WHITE HANGING HEA...|     6.0| 01-12-2010| 2.55|      17850|United Kingdom|15.299999|\n",
              "| 536365|    71053| WHITE METAL LANTERN|     6.0| 01-12-2010| 3.39|      17850|United Kingdom|    20.34|\n",
              "| 536365|   84406B|CREAM CUPID HEART...|     8.0| 01-12-2010| 2.75|      17850|United Kingdom|     22.0|\n",
              "| 536365|   84029G|KNITTED UNION FLA...|     6.0| 01-12-2010| 3.39|      17850|United Kingdom|    20.34|\n",
              "| 536365|   84029E|RED WOOLLY HOTTIE...|     6.0| 01-12-2010| 3.39|      17850|United Kingdom|    20.34|\n",
              "+-------+---------+--------------------+--------+-----------+-----+-----------+--------------+---------+"
            ],
            "text/html": [
              "<table border='1'>\n",
              "<tr><th>Invoice</th><th>StockCode</th><th>Description</th><th>Quantity</th><th>InvoiceDate</th><th>Price</th><th>Customer ID</th><th>Country</th><th>Amount</th></tr>\n",
              "<tr><td>536365</td><td>85123A</td><td>WHITE HANGING HEA...</td><td>6.0</td><td>01-12-2010</td><td>2.55</td><td>17850</td><td>United Kingdom</td><td>15.299999</td></tr>\n",
              "<tr><td>536365</td><td>71053</td><td>WHITE METAL LANTERN</td><td>6.0</td><td>01-12-2010</td><td>3.39</td><td>17850</td><td>United Kingdom</td><td>20.34</td></tr>\n",
              "<tr><td>536365</td><td>84406B</td><td>CREAM CUPID HEART...</td><td>8.0</td><td>01-12-2010</td><td>2.75</td><td>17850</td><td>United Kingdom</td><td>22.0</td></tr>\n",
              "<tr><td>536365</td><td>84029G</td><td>KNITTED UNION FLA...</td><td>6.0</td><td>01-12-2010</td><td>3.39</td><td>17850</td><td>United Kingdom</td><td>20.34</td></tr>\n",
              "<tr><td>536365</td><td>84029E</td><td>RED WOOLLY HOTTIE...</td><td>6.0</td><td>01-12-2010</td><td>3.39</td><td>17850</td><td>United Kingdom</td><td>20.34</td></tr>\n",
              "</table>\n"
            ]
          },
          "metadata": {},
          "execution_count": 43
        }
      ]
    },
    {
      "cell_type": "code",
      "source": [
        "# Busqueda de descripciones (Solo para revisar)\n",
        "df[df.Description.like('%WHITE%')].limit(5)"
      ],
      "metadata": {
        "colab": {
          "base_uri": "https://localhost:8080/",
          "height": 158
        },
        "id": "gN-1rgs15pFW",
        "outputId": "61aa5660-0a59-4c5e-a0a2-ad28906b1588"
      },
      "execution_count": 44,
      "outputs": [
        {
          "output_type": "execute_result",
          "data": {
            "text/plain": [
              "+-------+---------+--------------------+--------+-----------+-----+-----------+--------------+---------+\n",
              "|Invoice|StockCode|         Description|Quantity|InvoiceDate|Price|Customer ID|       Country|   Amount|\n",
              "+-------+---------+--------------------+--------+-----------+-----+-----------+--------------+---------+\n",
              "| 536365|   85123A|WHITE HANGING HEA...|     6.0| 01-12-2010| 2.55|      17850|United Kingdom|15.299999|\n",
              "| 536365|    71053| WHITE METAL LANTERN|     6.0| 01-12-2010| 3.39|      17850|United Kingdom|    20.34|\n",
              "| 536365|   84029E|RED WOOLLY HOTTIE...|     6.0| 01-12-2010| 3.39|      17850|United Kingdom|    20.34|\n",
              "| 536373|   85123A|WHITE HANGING HEA...|     6.0| 01-12-2010| 2.55|      17850|United Kingdom|15.299999|\n",
              "| 536373|    71053| WHITE METAL LANTERN|     6.0| 01-12-2010| 3.39|      17850|United Kingdom|    20.34|\n",
              "+-------+---------+--------------------+--------+-----------+-----+-----------+--------------+---------+"
            ],
            "text/html": [
              "<table border='1'>\n",
              "<tr><th>Invoice</th><th>StockCode</th><th>Description</th><th>Quantity</th><th>InvoiceDate</th><th>Price</th><th>Customer ID</th><th>Country</th><th>Amount</th></tr>\n",
              "<tr><td>536365</td><td>85123A</td><td>WHITE HANGING HEA...</td><td>6.0</td><td>01-12-2010</td><td>2.55</td><td>17850</td><td>United Kingdom</td><td>15.299999</td></tr>\n",
              "<tr><td>536365</td><td>71053</td><td>WHITE METAL LANTERN</td><td>6.0</td><td>01-12-2010</td><td>3.39</td><td>17850</td><td>United Kingdom</td><td>20.34</td></tr>\n",
              "<tr><td>536365</td><td>84029E</td><td>RED WOOLLY HOTTIE...</td><td>6.0</td><td>01-12-2010</td><td>3.39</td><td>17850</td><td>United Kingdom</td><td>20.34</td></tr>\n",
              "<tr><td>536373</td><td>85123A</td><td>WHITE HANGING HEA...</td><td>6.0</td><td>01-12-2010</td><td>2.55</td><td>17850</td><td>United Kingdom</td><td>15.299999</td></tr>\n",
              "<tr><td>536373</td><td>71053</td><td>WHITE METAL LANTERN</td><td>6.0</td><td>01-12-2010</td><td>3.39</td><td>17850</td><td>United Kingdom</td><td>20.34</td></tr>\n",
              "</table>\n"
            ]
          },
          "metadata": {},
          "execution_count": 44
        }
      ]
    },
    {
      "cell_type": "code",
      "source": [
        "# Grandes compras, solo en UK y Dinamarca\n",
        "df.filter(df.Quantity > 10000).limit(20)"
      ],
      "metadata": {
        "colab": {
          "base_uri": "https://localhost:8080/",
          "height": 250
        },
        "id": "7jkKai4F5pHV",
        "outputId": "468a6087-92bf-47e6-9c38-620b72b05132"
      },
      "execution_count": 45,
      "outputs": [
        {
          "output_type": "execute_result",
          "data": {
            "text/plain": [
              "+-------+---------+--------------------+--------+-----------+-----+-----------+--------------+---------+\n",
              "|Invoice|StockCode|         Description|Quantity|InvoiceDate|Price|Customer ID|       Country|   Amount|\n",
              "+-------+---------+--------------------+--------+-----------+-----+-----------+--------------+---------+\n",
              "| 541431|    23166|MEDIUM CERAMIC TO...| 74215.0| 18-01-2011| 1.04|      12346|United Kingdom| 77183.59|\n",
              "| 578841|    84826|ASSTD DESIGN 3D P...| 12540.0| 25-11-2011|  0.0|      13256|United Kingdom|      0.0|\n",
              "| 581483|    23843|PAPER CRAFT , LIT...| 80995.0| 09-12-2011| 2.08|      16446|United Kingdom| 168469.6|\n",
              "| 497946|    37410|BLACK AND WHITE P...| 19152.0| 15-02-2010|  0.1|      13902|       Denmark|1915.2001|\n",
              "| 501534|    21099|SET/6 STRAWBERRY ...| 12960.0| 17-03-2010|  0.1|      13902|       Denmark|   1296.0|\n",
              "| 501534|    21092|SET/6 STRAWBERRY ...| 12480.0| 17-03-2010|  0.1|      13902|       Denmark|   1248.0|\n",
              "| 501534|    21091|SET/6 WOODLAND PA...| 12960.0| 17-03-2010|  0.1|      13902|       Denmark|   1296.0|\n",
              "| 501534|    21085|SET/6 WOODLAND PA...| 12744.0| 17-03-2010|  0.1|      13902|       Denmark|   1274.4|\n",
              "| 507637|    84016|FLAG OF ST GEORGE...| 10200.0| 10-05-2010|  0.0|       null|United Kingdom|      0.0|\n",
              "+-------+---------+--------------------+--------+-----------+-----+-----------+--------------+---------+"
            ],
            "text/html": [
              "<table border='1'>\n",
              "<tr><th>Invoice</th><th>StockCode</th><th>Description</th><th>Quantity</th><th>InvoiceDate</th><th>Price</th><th>Customer ID</th><th>Country</th><th>Amount</th></tr>\n",
              "<tr><td>541431</td><td>23166</td><td>MEDIUM CERAMIC TO...</td><td>74215.0</td><td>18-01-2011</td><td>1.04</td><td>12346</td><td>United Kingdom</td><td>77183.59</td></tr>\n",
              "<tr><td>578841</td><td>84826</td><td>ASSTD DESIGN 3D P...</td><td>12540.0</td><td>25-11-2011</td><td>0.0</td><td>13256</td><td>United Kingdom</td><td>0.0</td></tr>\n",
              "<tr><td>581483</td><td>23843</td><td>PAPER CRAFT , LIT...</td><td>80995.0</td><td>09-12-2011</td><td>2.08</td><td>16446</td><td>United Kingdom</td><td>168469.6</td></tr>\n",
              "<tr><td>497946</td><td>37410</td><td>BLACK AND WHITE P...</td><td>19152.0</td><td>15-02-2010</td><td>0.1</td><td>13902</td><td>Denmark</td><td>1915.2001</td></tr>\n",
              "<tr><td>501534</td><td>21099</td><td>SET/6 STRAWBERRY ...</td><td>12960.0</td><td>17-03-2010</td><td>0.1</td><td>13902</td><td>Denmark</td><td>1296.0</td></tr>\n",
              "<tr><td>501534</td><td>21092</td><td>SET/6 STRAWBERRY ...</td><td>12480.0</td><td>17-03-2010</td><td>0.1</td><td>13902</td><td>Denmark</td><td>1248.0</td></tr>\n",
              "<tr><td>501534</td><td>21091</td><td>SET/6 WOODLAND PA...</td><td>12960.0</td><td>17-03-2010</td><td>0.1</td><td>13902</td><td>Denmark</td><td>1296.0</td></tr>\n",
              "<tr><td>501534</td><td>21085</td><td>SET/6 WOODLAND PA...</td><td>12744.0</td><td>17-03-2010</td><td>0.1</td><td>13902</td><td>Denmark</td><td>1274.4</td></tr>\n",
              "<tr><td>507637</td><td>84016</td><td>FLAG OF ST GEORGE...</td><td>10200.0</td><td>10-05-2010</td><td>0.0</td><td>null</td><td>United Kingdom</td><td>0.0</td></tr>\n",
              "</table>\n"
            ]
          },
          "metadata": {},
          "execution_count": 45
        }
      ]
    },
    {
      "cell_type": "code",
      "source": [
        "# Donde fue la mayor cantidad de compras\n",
        "df.groupBy(\"Country\").count().sort(\"count\", ascending=False).limit(10)\n",
        "# EIRE = Irlanda"
      ],
      "metadata": {
        "colab": {
          "base_uri": "https://localhost:8080/",
          "height": 273
        },
        "id": "Ah2hOpcK5pJR",
        "outputId": "ad674c4e-16d0-4132-fe5c-5eb1cf4bd573"
      },
      "execution_count": 46,
      "outputs": [
        {
          "output_type": "execute_result",
          "data": {
            "text/plain": [
              "+--------------+------+\n",
              "|       Country| count|\n",
              "+--------------+------+\n",
              "|United Kingdom|981330|\n",
              "|          EIRE| 17866|\n",
              "|       Germany| 17624|\n",
              "|        France| 14330|\n",
              "|   Netherlands|  5140|\n",
              "|         Spain|  3811|\n",
              "|   Switzerland|  3189|\n",
              "|       Belgium|  3123|\n",
              "|      Portugal|  2620|\n",
              "|     Australia|  1913|\n",
              "+--------------+------+"
            ],
            "text/html": [
              "<table border='1'>\n",
              "<tr><th>Country</th><th>count</th></tr>\n",
              "<tr><td>United Kingdom</td><td>981330</td></tr>\n",
              "<tr><td>EIRE</td><td>17866</td></tr>\n",
              "<tr><td>Germany</td><td>17624</td></tr>\n",
              "<tr><td>France</td><td>14330</td></tr>\n",
              "<tr><td>Netherlands</td><td>5140</td></tr>\n",
              "<tr><td>Spain</td><td>3811</td></tr>\n",
              "<tr><td>Switzerland</td><td>3189</td></tr>\n",
              "<tr><td>Belgium</td><td>3123</td></tr>\n",
              "<tr><td>Portugal</td><td>2620</td></tr>\n",
              "<tr><td>Australia</td><td>1913</td></tr>\n",
              "</table>\n"
            ]
          },
          "metadata": {},
          "execution_count": 46
        }
      ]
    },
    {
      "cell_type": "code",
      "source": [
        "df.registerTempTable(\"df\")"
      ],
      "metadata": {
        "id": "D4A1sMla79Tb"
      },
      "execution_count": 49,
      "outputs": []
    },
    {
      "cell_type": "code",
      "source": [
        "import pyspark.sql\n",
        "\n",
        "spark.sql(\"\"\"SELECT Description, Quantity, Country \n",
        "            FROM df \n",
        "            WHERE Quantity > 100 AND Country = 'United Kingdom'\n",
        "            ORDER BY Quantity DESC\"\"\").limit(20)"
      ],
      "metadata": {
        "colab": {
          "base_uri": "https://localhost:8080/",
          "height": 503
        },
        "id": "Yk-6q3_L5pLL",
        "outputId": "aa7523b8-9d80-450b-f55d-cb3a7b5335c6"
      },
      "execution_count": 50,
      "outputs": [
        {
          "output_type": "execute_result",
          "data": {
            "text/plain": [
              "+--------------------+--------+--------------+\n",
              "|         Description|Quantity|       Country|\n",
              "+--------------------+--------+--------------+\n",
              "|PAPER CRAFT , LIT...| 80995.0|United Kingdom|\n",
              "|MEDIUM CERAMIC TO...| 74215.0|United Kingdom|\n",
              "|ASSTD DESIGN 3D P...| 12540.0|United Kingdom|\n",
              "|FLAG OF ST GEORGE...| 10200.0|United Kingdom|\n",
              "|PACK OF 12 PINK P...| 10000.0|United Kingdom|\n",
              "|PACK OF 12 RED SP...| 10000.0|United Kingdom|\n",
              "|PACK OF 12 SUKI T...| 10000.0|United Kingdom|\n",
              "|PACK OF 12 WOODLA...| 10000.0|United Kingdom|\n",
              "|                null|  9600.0|United Kingdom|\n",
              "|ROTATING SILVER A...|  9360.0|United Kingdom|\n",
              "|SET/6 FRUIT SALAD...|  7128.0|United Kingdom|\n",
              "| BROCADE RING PURSE |  7128.0|United Kingdom|\n",
              "|SET/6 FRUIT SALAD...|  7008.0|United Kingdom|\n",
              "| BROCADE RING PURSE |  6336.0|United Kingdom|\n",
              "|                null|  6000.0|United Kingdom|\n",
              "|                null|  5568.0|United Kingdom|\n",
              "|POP ART PEN CASE ...|  5184.0|United Kingdom|\n",
              "|PACK OF 12 SKULL ...|  5184.0|United Kingdom|\n",
              "|                null|  5000.0|United Kingdom|\n",
              "|                null|  5000.0|United Kingdom|\n",
              "+--------------------+--------+--------------+"
            ],
            "text/html": [
              "<table border='1'>\n",
              "<tr><th>Description</th><th>Quantity</th><th>Country</th></tr>\n",
              "<tr><td>PAPER CRAFT , LIT...</td><td>80995.0</td><td>United Kingdom</td></tr>\n",
              "<tr><td>MEDIUM CERAMIC TO...</td><td>74215.0</td><td>United Kingdom</td></tr>\n",
              "<tr><td>ASSTD DESIGN 3D P...</td><td>12540.0</td><td>United Kingdom</td></tr>\n",
              "<tr><td>FLAG OF ST GEORGE...</td><td>10200.0</td><td>United Kingdom</td></tr>\n",
              "<tr><td>PACK OF 12 PINK P...</td><td>10000.0</td><td>United Kingdom</td></tr>\n",
              "<tr><td>PACK OF 12 RED SP...</td><td>10000.0</td><td>United Kingdom</td></tr>\n",
              "<tr><td>PACK OF 12 SUKI T...</td><td>10000.0</td><td>United Kingdom</td></tr>\n",
              "<tr><td>PACK OF 12 WOODLA...</td><td>10000.0</td><td>United Kingdom</td></tr>\n",
              "<tr><td>null</td><td>9600.0</td><td>United Kingdom</td></tr>\n",
              "<tr><td>ROTATING SILVER A...</td><td>9360.0</td><td>United Kingdom</td></tr>\n",
              "<tr><td>SET/6 FRUIT SALAD...</td><td>7128.0</td><td>United Kingdom</td></tr>\n",
              "<tr><td>BROCADE RING PURSE </td><td>7128.0</td><td>United Kingdom</td></tr>\n",
              "<tr><td>SET/6 FRUIT SALAD...</td><td>7008.0</td><td>United Kingdom</td></tr>\n",
              "<tr><td>BROCADE RING PURSE </td><td>6336.0</td><td>United Kingdom</td></tr>\n",
              "<tr><td>null</td><td>6000.0</td><td>United Kingdom</td></tr>\n",
              "<tr><td>null</td><td>5568.0</td><td>United Kingdom</td></tr>\n",
              "<tr><td>POP ART PEN CASE ...</td><td>5184.0</td><td>United Kingdom</td></tr>\n",
              "<tr><td>PACK OF 12 SKULL ...</td><td>5184.0</td><td>United Kingdom</td></tr>\n",
              "<tr><td>null</td><td>5000.0</td><td>United Kingdom</td></tr>\n",
              "<tr><td>null</td><td>5000.0</td><td>United Kingdom</td></tr>\n",
              "</table>\n"
            ]
          },
          "metadata": {},
          "execution_count": 50
        }
      ]
    },
    {
      "cell_type": "code",
      "source": [
        "spark.sql(\"SELECT COUNT(DISTINCT Country) from df\")"
      ],
      "metadata": {
        "colab": {
          "base_uri": "https://localhost:8080/",
          "height": 67
        },
        "id": "wfgTU7s25pNS",
        "outputId": "81899d42-06be-450d-96e7-e5e3da6434e4"
      },
      "execution_count": 51,
      "outputs": [
        {
          "output_type": "execute_result",
          "data": {
            "text/plain": [
              "+-----------------------+\n",
              "|count(DISTINCT Country)|\n",
              "+-----------------------+\n",
              "|                     43|\n",
              "+-----------------------+"
            ],
            "text/html": [
              "<table border='1'>\n",
              "<tr><th>count(DISTINCT Country)</th></tr>\n",
              "<tr><td>43</td></tr>\n",
              "</table>\n"
            ]
          },
          "metadata": {},
          "execution_count": 51
        }
      ]
    },
    {
      "cell_type": "code",
      "source": [
        "spark.sql(\"\"\"SELECT Description, Quantity, Country \n",
        "            FROM df \n",
        "            WHERE Quantity>100 AND NOT Country = 'United Kingdom'\n",
        "            ORDER BY Quantity DESC\"\"\").limit(20)"
      ],
      "metadata": {
        "colab": {
          "base_uri": "https://localhost:8080/",
          "height": 503
        },
        "id": "pn40ef6X5pPK",
        "outputId": "376251f6-5b53-47d5-fabb-c920ff9ef1d4"
      },
      "execution_count": 52,
      "outputs": [
        {
          "output_type": "execute_result",
          "data": {
            "text/plain": [
              "+--------------------+--------+-------+\n",
              "|         Description|Quantity|Country|\n",
              "+--------------------+--------+-------+\n",
              "|BLACK AND WHITE P...| 19152.0|Denmark|\n",
              "|SET/6 STRAWBERRY ...| 12960.0|Denmark|\n",
              "|SET/6 WOODLAND PA...| 12960.0|Denmark|\n",
              "|SET/6 WOODLAND PA...| 12744.0|Denmark|\n",
              "|SET/6 STRAWBERRY ...| 12480.0|Denmark|\n",
              "|SMALL FAIRY CAKE ...|  9456.0|Denmark|\n",
              "|JAZZ HEARTS MEMO PAD|  9312.0|Denmark|\n",
              "|SET/6 FRUIT SALAD...|  7128.0| France|\n",
              "|SET/6 FRUIT SALAD...|  7008.0| France|\n",
              "|JAZZ HEARTS MAGNE...|  6768.0|Denmark|\n",
              "|ASS FLORAL PRINT ...|  6696.0|Denmark|\n",
              "|POP-ART FLUORESCE...|  6144.0|Denmark|\n",
              "|BLACK AND WHITE P...|  6012.0|Denmark|\n",
              "|  ORANGE FLOWER MUG |  5364.0|Denmark|\n",
              "|CHRYSANTHEMUM POC...|  5280.0|Denmark|\n",
              "|GREEN FERN POCKET...|  5280.0|Denmark|\n",
              "|POP ART PEN CASE ...|  5184.0| France|\n",
              "|MULTICOLOUR SPRIN...|  4992.0| France|\n",
              "|RED DAISY POCKET ...|  4800.0|Denmark|\n",
              "|ABSTRACT CIRCLES ...|  4800.0|Denmark|\n",
              "+--------------------+--------+-------+"
            ],
            "text/html": [
              "<table border='1'>\n",
              "<tr><th>Description</th><th>Quantity</th><th>Country</th></tr>\n",
              "<tr><td>BLACK AND WHITE P...</td><td>19152.0</td><td>Denmark</td></tr>\n",
              "<tr><td>SET/6 STRAWBERRY ...</td><td>12960.0</td><td>Denmark</td></tr>\n",
              "<tr><td>SET/6 WOODLAND PA...</td><td>12960.0</td><td>Denmark</td></tr>\n",
              "<tr><td>SET/6 WOODLAND PA...</td><td>12744.0</td><td>Denmark</td></tr>\n",
              "<tr><td>SET/6 STRAWBERRY ...</td><td>12480.0</td><td>Denmark</td></tr>\n",
              "<tr><td>SMALL FAIRY CAKE ...</td><td>9456.0</td><td>Denmark</td></tr>\n",
              "<tr><td>JAZZ HEARTS MEMO PAD</td><td>9312.0</td><td>Denmark</td></tr>\n",
              "<tr><td>SET/6 FRUIT SALAD...</td><td>7128.0</td><td>France</td></tr>\n",
              "<tr><td>SET/6 FRUIT SALAD...</td><td>7008.0</td><td>France</td></tr>\n",
              "<tr><td>JAZZ HEARTS MAGNE...</td><td>6768.0</td><td>Denmark</td></tr>\n",
              "<tr><td>ASS FLORAL PRINT ...</td><td>6696.0</td><td>Denmark</td></tr>\n",
              "<tr><td>POP-ART FLUORESCE...</td><td>6144.0</td><td>Denmark</td></tr>\n",
              "<tr><td>BLACK AND WHITE P...</td><td>6012.0</td><td>Denmark</td></tr>\n",
              "<tr><td>ORANGE FLOWER MUG </td><td>5364.0</td><td>Denmark</td></tr>\n",
              "<tr><td>CHRYSANTHEMUM POC...</td><td>5280.0</td><td>Denmark</td></tr>\n",
              "<tr><td>GREEN FERN POCKET...</td><td>5280.0</td><td>Denmark</td></tr>\n",
              "<tr><td>POP ART PEN CASE ...</td><td>5184.0</td><td>France</td></tr>\n",
              "<tr><td>MULTICOLOUR SPRIN...</td><td>4992.0</td><td>France</td></tr>\n",
              "<tr><td>RED DAISY POCKET ...</td><td>4800.0</td><td>Denmark</td></tr>\n",
              "<tr><td>ABSTRACT CIRCLES ...</td><td>4800.0</td><td>Denmark</td></tr>\n",
              "</table>\n"
            ]
          },
          "metadata": {},
          "execution_count": 52
        }
      ]
    },
    {
      "cell_type": "code",
      "source": [
        "spark.sql(\"\"\"SELECT Description, Amount, Country \n",
        "            FROM df \n",
        "            WHERE Quantity>100 AND Country = 'United Kingdom'\n",
        "            ORDER BY Amount DESC\"\"\").limit(20)"
      ],
      "metadata": {
        "colab": {
          "base_uri": "https://localhost:8080/",
          "height": 503
        },
        "id": "qrUneQE-5xNc",
        "outputId": "3d65daf6-f842-465c-f4f8-842b7001d132"
      },
      "execution_count": 53,
      "outputs": [
        {
          "output_type": "execute_result",
          "data": {
            "text/plain": [
              "+--------------------+---------+--------------+\n",
              "|         Description|   Amount|       Country|\n",
              "+--------------------+---------+--------------+\n",
              "|PAPER CRAFT , LIT...| 168469.6|United Kingdom|\n",
              "|MEDIUM CERAMIC TO...| 77183.59|United Kingdom|\n",
              "|ROTATING SILVER A...|  15818.4|United Kingdom|\n",
              "| PINK PAPER PARASOL |   8925.0|United Kingdom|\n",
              "|SET OF TEA COFFEE...|7144.7197|United Kingdom|\n",
              "|FAIRY CAKE FLANNE...|   6539.4|United Kingdom|\n",
              "|FAIRY CAKE FLANNE...|   6539.4|United Kingdom|\n",
              "|PAPER CHAIN KIT 5...|  5803.25|United Kingdom|\n",
              "|ROTATING SILVER A...|5179.1997|United Kingdom|\n",
              "|WHITE HANGING HEA...|   4921.5|United Kingdom|\n",
              "|PAPER CHAIN KIT 5...|   4781.6|United Kingdom|\n",
              "|WHITE HANGING HEA...|   4632.0|United Kingdom|\n",
              "|  DOORMAT FAIRY CAKE|   4522.5|United Kingdom|\n",
              "|VINTAGE UNION JAC...|4464.7197|United Kingdom|\n",
              "|REGENCY TEAPOT RO...|   4401.0|United Kingdom|\n",
              "|  DOORMAT FAIRY CAKE|   4254.5|United Kingdom|\n",
              "|ASSORTED COLOUR B...|   4176.0|United Kingdom|\n",
              "|ASSORTED COLOUR B...|   4176.0|United Kingdom|\n",
              "|HEART OF WICKER L...|  4121.64|United Kingdom|\n",
              "|REGENCY CAKESTAND...|   3942.0|United Kingdom|\n",
              "+--------------------+---------+--------------+"
            ],
            "text/html": [
              "<table border='1'>\n",
              "<tr><th>Description</th><th>Amount</th><th>Country</th></tr>\n",
              "<tr><td>PAPER CRAFT , LIT...</td><td>168469.6</td><td>United Kingdom</td></tr>\n",
              "<tr><td>MEDIUM CERAMIC TO...</td><td>77183.59</td><td>United Kingdom</td></tr>\n",
              "<tr><td>ROTATING SILVER A...</td><td>15818.4</td><td>United Kingdom</td></tr>\n",
              "<tr><td>PINK PAPER PARASOL </td><td>8925.0</td><td>United Kingdom</td></tr>\n",
              "<tr><td>SET OF TEA COFFEE...</td><td>7144.7197</td><td>United Kingdom</td></tr>\n",
              "<tr><td>FAIRY CAKE FLANNE...</td><td>6539.4</td><td>United Kingdom</td></tr>\n",
              "<tr><td>FAIRY CAKE FLANNE...</td><td>6539.4</td><td>United Kingdom</td></tr>\n",
              "<tr><td>PAPER CHAIN KIT 5...</td><td>5803.25</td><td>United Kingdom</td></tr>\n",
              "<tr><td>ROTATING SILVER A...</td><td>5179.1997</td><td>United Kingdom</td></tr>\n",
              "<tr><td>WHITE HANGING HEA...</td><td>4921.5</td><td>United Kingdom</td></tr>\n",
              "<tr><td>PAPER CHAIN KIT 5...</td><td>4781.6</td><td>United Kingdom</td></tr>\n",
              "<tr><td>WHITE HANGING HEA...</td><td>4632.0</td><td>United Kingdom</td></tr>\n",
              "<tr><td>DOORMAT FAIRY CAKE</td><td>4522.5</td><td>United Kingdom</td></tr>\n",
              "<tr><td>VINTAGE UNION JAC...</td><td>4464.7197</td><td>United Kingdom</td></tr>\n",
              "<tr><td>REGENCY TEAPOT RO...</td><td>4401.0</td><td>United Kingdom</td></tr>\n",
              "<tr><td>DOORMAT FAIRY CAKE</td><td>4254.5</td><td>United Kingdom</td></tr>\n",
              "<tr><td>ASSORTED COLOUR B...</td><td>4176.0</td><td>United Kingdom</td></tr>\n",
              "<tr><td>ASSORTED COLOUR B...</td><td>4176.0</td><td>United Kingdom</td></tr>\n",
              "<tr><td>HEART OF WICKER L...</td><td>4121.64</td><td>United Kingdom</td></tr>\n",
              "<tr><td>REGENCY CAKESTAND...</td><td>3942.0</td><td>United Kingdom</td></tr>\n",
              "</table>\n"
            ]
          },
          "metadata": {},
          "execution_count": 53
        }
      ]
    },
    {
      "cell_type": "code",
      "source": [
        "spark.sql(\"\"\"SELECT Description, Amount, Country \n",
        "            FROM df \n",
        "            WHERE Quantity>100 AND NOT Country = 'United Kingdom'\n",
        "            ORDER BY Amount DESC\"\"\").limit(20)"
      ],
      "metadata": {
        "colab": {
          "base_uri": "https://localhost:8080/",
          "height": 503
        },
        "id": "fsRHEh8V5xPd",
        "outputId": "417b00d9-3c9d-44cb-d54d-a457070b5966"
      },
      "execution_count": 54,
      "outputs": [
        {
          "output_type": "execute_result",
          "data": {
            "text/plain": [
              "+--------------------+---------+-----------+\n",
              "|         Description|   Amount|    Country|\n",
              "+--------------------+---------+-----------+\n",
              "|  RABBIT NIGHT LIGHT|   4992.0|Netherlands|\n",
              "|ROUND SNACK BOXES...|   3794.4|      Japan|\n",
              "|ROUND SNACK BOXES...|   3794.4|      Japan|\n",
              "|  RABBIT NIGHT LIGHT|3651.5999|      Japan|\n",
              "|SMALL FAIRY CAKE ...|   3630.8|    Denmark|\n",
              "|SMALL FAIRY CAKE ...|   2836.8|    Denmark|\n",
              "|  RABBIT NIGHT LIGHT|2577.5999|Netherlands|\n",
              "|RED RETROSPOT CAK...|   2365.2|       EIRE|\n",
              "|POLKADOT CUTLERY ...|   1990.0|       EIRE|\n",
              "|BLACK AND WHITE P...|1915.2001|    Denmark|\n",
              "|SET 3 WICKER LOG ...|   1762.8|       EIRE|\n",
              "|REGENCY CAKESTAND...|   1752.0|       EIRE|\n",
              "|  RABBIT NIGHT LIGHT|1718.3999|  Australia|\n",
              "|  RABBIT NIGHT LIGHT|1718.3999|      Japan|\n",
              "|S/4 BLUE ROUND DE...|  1653.12|     France|\n",
              "|STRING OF 20 ROSE...|   1642.5|       EIRE|\n",
              "|  RABBIT NIGHT LIGHT|  1632.48|     France|\n",
              "|CARDHOLDER HOLLY ...|   1620.0|Netherlands|\n",
              "|RETRO SPOT CAKE S...|1576.7999|       EIRE|\n",
              "|SET/5 RED SPOTTY ...|   1550.4|       EIRE|\n",
              "+--------------------+---------+-----------+"
            ],
            "text/html": [
              "<table border='1'>\n",
              "<tr><th>Description</th><th>Amount</th><th>Country</th></tr>\n",
              "<tr><td>RABBIT NIGHT LIGHT</td><td>4992.0</td><td>Netherlands</td></tr>\n",
              "<tr><td>ROUND SNACK BOXES...</td><td>3794.4</td><td>Japan</td></tr>\n",
              "<tr><td>ROUND SNACK BOXES...</td><td>3794.4</td><td>Japan</td></tr>\n",
              "<tr><td>RABBIT NIGHT LIGHT</td><td>3651.5999</td><td>Japan</td></tr>\n",
              "<tr><td>SMALL FAIRY CAKE ...</td><td>3630.8</td><td>Denmark</td></tr>\n",
              "<tr><td>SMALL FAIRY CAKE ...</td><td>2836.8</td><td>Denmark</td></tr>\n",
              "<tr><td>RABBIT NIGHT LIGHT</td><td>2577.5999</td><td>Netherlands</td></tr>\n",
              "<tr><td>RED RETROSPOT CAK...</td><td>2365.2</td><td>EIRE</td></tr>\n",
              "<tr><td>POLKADOT CUTLERY ...</td><td>1990.0</td><td>EIRE</td></tr>\n",
              "<tr><td>BLACK AND WHITE P...</td><td>1915.2001</td><td>Denmark</td></tr>\n",
              "<tr><td>SET 3 WICKER LOG ...</td><td>1762.8</td><td>EIRE</td></tr>\n",
              "<tr><td>REGENCY CAKESTAND...</td><td>1752.0</td><td>EIRE</td></tr>\n",
              "<tr><td>RABBIT NIGHT LIGHT</td><td>1718.3999</td><td>Australia</td></tr>\n",
              "<tr><td>RABBIT NIGHT LIGHT</td><td>1718.3999</td><td>Japan</td></tr>\n",
              "<tr><td>S/4 BLUE ROUND DE...</td><td>1653.12</td><td>France</td></tr>\n",
              "<tr><td>STRING OF 20 ROSE...</td><td>1642.5</td><td>EIRE</td></tr>\n",
              "<tr><td>RABBIT NIGHT LIGHT</td><td>1632.48</td><td>France</td></tr>\n",
              "<tr><td>CARDHOLDER HOLLY ...</td><td>1620.0</td><td>Netherlands</td></tr>\n",
              "<tr><td>RETRO SPOT CAKE S...</td><td>1576.7999</td><td>EIRE</td></tr>\n",
              "<tr><td>SET/5 RED SPOTTY ...</td><td>1550.4</td><td>EIRE</td></tr>\n",
              "</table>\n"
            ]
          },
          "metadata": {},
          "execution_count": 54
        }
      ]
    },
    {
      "cell_type": "code",
      "source": [
        "# Claramente la fuente principal de ingresos es UK.\n",
        "from pyspark.sql.functions import lit\n",
        "\n",
        "# Asi que se creara una columna nueva solo para analizar la diferencia entre UK y los otros paises\n",
        "df = df.withColumn('Country_UK', lit(0))\n",
        "df = df.withColumn(\"Country_UK\", when(df[\"Country\"] == 'United Kingdom', 1).otherwise(df[\"Country_UK\"]))"
      ],
      "metadata": {
        "id": "agFJdboN5xRi"
      },
      "execution_count": 55,
      "outputs": []
    },
    {
      "cell_type": "code",
      "source": [
        "df.groupBy(\"Country_UK\").count()"
      ],
      "metadata": {
        "colab": {
          "base_uri": "https://localhost:8080/",
          "height": 89
        },
        "id": "KISYOfj55xTp",
        "outputId": "10f10ecb-cb82-46ec-cd3b-00b7b4a52203"
      },
      "execution_count": 56,
      "outputs": [
        {
          "output_type": "execute_result",
          "data": {
            "text/plain": [
              "+----------+------+\n",
              "|Country_UK| count|\n",
              "+----------+------+\n",
              "|         1|981330|\n",
              "|         0| 86041|\n",
              "+----------+------+"
            ],
            "text/html": [
              "<table border='1'>\n",
              "<tr><th>Country_UK</th><th>count</th></tr>\n",
              "<tr><td>1</td><td>981330</td></tr>\n",
              "<tr><td>0</td><td>86041</td></tr>\n",
              "</table>\n"
            ]
          },
          "metadata": {},
          "execution_count": 56
        }
      ]
    },
    {
      "cell_type": "code",
      "source": [
        "df.groupBy(\"Country_UK\").agg({\"Amount\": \"mean\", \"Quantity\": \"sum\"})"
      ],
      "metadata": {
        "colab": {
          "base_uri": "https://localhost:8080/",
          "height": 89
        },
        "id": "AQy2gV_-5xVq",
        "outputId": "1327ac2d-323e-4247-b883-a4125e32e359"
      },
      "execution_count": 57,
      "outputs": [
        {
          "output_type": "execute_result",
          "data": {
            "text/plain": [
              "+----------+-----------------+-------------+\n",
              "|Country_UK|      avg(Amount)|sum(Quantity)|\n",
              "+----------+-----------------+-------------+\n",
              "|         1|16.69426579423943|    8692875.0|\n",
              "|         0|33.75909931988668|    1915617.0|\n",
              "+----------+-----------------+-------------+"
            ],
            "text/html": [
              "<table border='1'>\n",
              "<tr><th>Country_UK</th><th>avg(Amount)</th><th>sum(Quantity)</th></tr>\n",
              "<tr><td>1</td><td>16.69426579423943</td><td>8692875.0</td></tr>\n",
              "<tr><td>0</td><td>33.75909931988668</td><td>1915617.0</td></tr>\n",
              "</table>\n"
            ]
          },
          "metadata": {},
          "execution_count": 57
        }
      ]
    }
  ]
}