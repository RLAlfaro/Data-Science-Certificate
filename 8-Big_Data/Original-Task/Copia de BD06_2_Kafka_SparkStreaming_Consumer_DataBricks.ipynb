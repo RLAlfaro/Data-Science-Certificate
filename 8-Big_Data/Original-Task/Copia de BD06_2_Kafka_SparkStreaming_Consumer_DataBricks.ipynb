{
  "cells": [
    {
      "cell_type": "markdown",
      "source": [
        "# **Kafka Consumer (desde tópico con datos de wikipedia)**"
      ],
      "metadata": {
        "id": "jkUwB3ezFZ_K",
        "application/vnd.databricks.v1+cell": {
          "title": "",
          "showTitle": false,
          "inputWidgets": {},
          "nuid": "97b2560b-0fff-4719-a3ee-498b5f5da8b1"
        }
      }
    },
    {
      "cell_type": "code",
      "source": [
        "!pip install kafka-python"
      ],
      "metadata": {
        "colab": {
          "base_uri": "https://localhost:8080/"
        },
        "id": "yqcZx2u8QvU6",
        "outputId": "70be47f7-e321-4e7a-f388-e079ed998ae2"
      },
      "execution_count": 2,
      "outputs": [
        {
          "output_type": "stream",
          "name": "stdout",
          "text": [
            "Looking in indexes: https://pypi.org/simple, https://us-python.pkg.dev/colab-wheels/public/simple/\n",
            "Collecting kafka-python\n",
            "  Downloading kafka_python-2.0.2-py2.py3-none-any.whl (246 kB)\n",
            "\u001b[K     |████████████████████████████████| 246 kB 24.7 MB/s \n",
            "\u001b[?25hInstalling collected packages: kafka-python\n",
            "Successfully installed kafka-python-2.0.2\n"
          ]
        }
      ]
    },
    {
      "cell_type": "code",
      "source": [
        "!apt-get install openjdk-8-jdk-headless -qq > /dev/null\n",
        "!wget -q https://downloads.apache.org/spark/spark-3.0.3/spark-3.0.3-bin-hadoop2.7.tgz       \n",
        "!tar xf spark-3.0.3-bin-hadoop2.7.tgz\n",
        "!pip install -q findspark"
      ],
      "metadata": {
        "id": "CLZN1MTnQvOG"
      },
      "execution_count": 3,
      "outputs": []
    },
    {
      "cell_type": "code",
      "source": [
        "import os\n",
        "os.environ[\"JAVA_HOME\"] = \"/usr/lib/jvm/java-8-openjdk-amd64\"\n",
        "os.environ[\"SPARK_HOME\"] = \"/content/spark-3.0.3-bin-hadoop2.7\""
      ],
      "metadata": {
        "id": "QXg2N5IpQvHa"
      },
      "execution_count": 4,
      "outputs": []
    },
    {
      "cell_type": "code",
      "source": [
        "!ls -la /content/spark-3.0.3-bin-hadoop2.7/jars"
      ],
      "metadata": {
        "colab": {
          "base_uri": "https://localhost:8080/"
        },
        "id": "Nt2n2xiSQu4U",
        "outputId": "d7f9e978-9662-491d-a6f5-7c77283a20ec"
      },
      "execution_count": 5,
      "outputs": [
        {
          "output_type": "stream",
          "name": "stdout",
          "text": [
            "total 216128\n",
            "drwxr-xr-x  2 1000 1000    16384 Jun 17  2021 .\n",
            "drwxr-xr-x 13 1000 1000     4096 Jun 17  2021 ..\n",
            "-rw-r--r--  1 1000 1000    69409 Jun 17  2021 activation-1.1.1.jar\n",
            "-rw-r--r--  1 1000 1000   134044 Jun 17  2021 aircompressor-0.10.jar\n",
            "-rw-r--r--  1 1000 1000  1168113 Jun 17  2021 algebra_2.12-2.0.0-M2.jar\n",
            "-rw-r--r--  1 1000 1000   336803 Jun 17  2021 antlr4-runtime-4.7.1.jar\n",
            "-rw-r--r--  1 1000 1000   167761 Jun 17  2021 antlr-runtime-3.5.2.jar\n",
            "-rw-r--r--  1 1000 1000     4467 Jun 17  2021 aopalliance-1.0.jar\n",
            "-rw-r--r--  1 1000 1000    27006 Jun 17  2021 aopalliance-repackaged-2.6.1.jar\n",
            "-rw-r--r--  1 1000 1000    44925 Jun 17  2021 apacheds-i18n-2.0.0-M15.jar\n",
            "-rw-r--r--  1 1000 1000   691479 Jun 17  2021 apacheds-kerberos-codec-2.0.0-M15.jar\n",
            "-rw-r--r--  1 1000 1000    16560 Jun 17  2021 api-asn1-api-1.0.0-M20.jar\n",
            "-rw-r--r--  1 1000 1000    79912 Jun 17  2021 api-util-1.0.0-M20.jar\n",
            "-rw-r--r--  1 1000 1000  1194003 Jun 17  2021 arpack_combined_all-0.1.jar\n",
            "-rw-r--r--  1 1000 1000    64674 Jun 17  2021 arrow-format-0.15.1.jar\n",
            "-rw-r--r--  1 1000 1000   105777 Jun 17  2021 arrow-memory-0.15.1.jar\n",
            "-rw-r--r--  1 1000 1000  1437215 Jun 17  2021 arrow-vector-0.15.1.jar\n",
            "-rw-r--r--  1 1000 1000    20437 Jun 17  2021 audience-annotations-0.5.0.jar\n",
            "-rw-r--r--  1 1000 1000   176285 Jun 17  2021 automaton-1.11-8.jar\n",
            "-rw-r--r--  1 1000 1000  1556863 Jun 17  2021 avro-1.8.2.jar\n",
            "-rw-r--r--  1 1000 1000   132989 Jun 17  2021 avro-ipc-1.8.2.jar\n",
            "-rw-r--r--  1 1000 1000   187052 Jun 17  2021 avro-mapred-1.8.2-hadoop2.jar\n",
            "-rw-r--r--  1 1000 1000   110600 Jun 17  2021 bonecp-0.8.0.RELEASE.jar\n",
            "-rw-r--r--  1 1000 1000 13826799 Jun 17  2021 breeze_2.12-1.0.jar\n",
            "-rw-r--r--  1 1000 1000   134696 Jun 17  2021 breeze-macros_2.12-1.0.jar\n",
            "-rw-r--r--  1 1000 1000  3226851 Jun 17  2021 cats-kernel_2.12-2.0.0-M4.jar\n",
            "-rw-r--r--  1 1000 1000   211523 Jun 17  2021 chill_2.12-0.9.5.jar\n",
            "-rw-r--r--  1 1000 1000    58684 Jun 17  2021 chill-java-0.9.5.jar\n",
            "-rw-r--r--  1 1000 1000   246918 Jun 17  2021 commons-beanutils-1.9.4.jar\n",
            "-rw-r--r--  1 1000 1000    41123 Jun 17  2021 commons-cli-1.2.jar\n",
            "-rw-r--r--  1 1000 1000   284184 Jun 17  2021 commons-codec-1.10.jar\n",
            "-rw-r--r--  1 1000 1000   588337 Jun 17  2021 commons-collections-3.2.2.jar\n",
            "-rw-r--r--  1 1000 1000    71626 Jun 17  2021 commons-compiler-3.0.16.jar\n",
            "-rw-r--r--  1 1000 1000   632424 Jun 17  2021 commons-compress-1.20.jar\n",
            "-rw-r--r--  1 1000 1000   298829 Jun 17  2021 commons-configuration-1.6.jar\n",
            "-rw-r--r--  1 1000 1000   166244 Jun 17  2021 commons-crypto-1.1.0.jar\n",
            "-rw-r--r--  1 1000 1000   160519 Jun 17  2021 commons-dbcp-1.4.jar\n",
            "-rw-r--r--  1 1000 1000   143602 Jun 17  2021 commons-digester-1.8.jar\n",
            "-rw-r--r--  1 1000 1000   305001 Jun 17  2021 commons-httpclient-3.1.jar\n",
            "-rw-r--r--  1 1000 1000   185140 Jun 17  2021 commons-io-2.4.jar\n",
            "-rw-r--r--  1 1000 1000   284220 Jun 17  2021 commons-lang-2.6.jar\n",
            "-rw-r--r--  1 1000 1000   503880 Jun 17  2021 commons-lang3-3.9.jar\n",
            "-rw-r--r--  1 1000 1000    62050 Jun 17  2021 commons-logging-1.1.3.jar\n",
            "-rw-r--r--  1 1000 1000  2035066 Jun 17  2021 commons-math3-3.4.1.jar\n",
            "-rw-r--r--  1 1000 1000   273370 Jun 17  2021 commons-net-3.1.jar\n",
            "-rw-r--r--  1 1000 1000    96221 Jun 17  2021 commons-pool-1.5.4.jar\n",
            "-rw-r--r--  1 1000 1000   197176 Jun 17  2021 commons-text-1.6.jar\n",
            "-rw-r--r--  1 1000 1000    79845 Jun 17  2021 compress-lzf-1.0.3.jar\n",
            "-rw-r--r--  1 1000 1000   164422 Jun 17  2021 core-1.1.2.jar\n",
            "-rw-r--r--  1 1000 1000    69500 Jun 17  2021 curator-client-2.7.1.jar\n",
            "-rw-r--r--  1 1000 1000   186273 Jun 17  2021 curator-framework-2.7.1.jar\n",
            "-rw-r--r--  1 1000 1000   270342 Jun 17  2021 curator-recipes-2.7.1.jar\n",
            "-rw-r--r--  1 1000 1000   366748 Jun 17  2021 datanucleus-api-jdo-4.2.4.jar\n",
            "-rw-r--r--  1 1000 1000  2016766 Jun 17  2021 datanucleus-core-4.1.17.jar\n",
            "-rw-r--r--  1 1000 1000  1908681 Jun 17  2021 datanucleus-rdbms-4.1.19.jar\n",
            "-rw-r--r--  1 1000 1000  3224708 Jun 17  2021 derby-10.12.1.1.jar\n",
            "-rw-r--r--  1 1000 1000    15935 Jun 17  2021 dropwizard-metrics-hadoop-metrics2-reporter-0.1.2.jar\n",
            "-rw-r--r--  1 1000 1000    18497 Jun 17  2021 flatbuffers-java-1.9.0.jar\n",
            "-rw-r--r--  1 1000 1000    14395 Jun 17  2021 generex-1.0.2.jar\n",
            "-rw-r--r--  1 1000 1000   190432 Jun 17  2021 gson-2.2.4.jar\n",
            "-rw-r--r--  1 1000 1000  2189117 Jun 17  2021 guava-14.0.1.jar\n",
            "-rw-r--r--  1 1000 1000   710492 Jun 17  2021 guice-3.0.jar\n",
            "-rw-r--r--  1 1000 1000    65012 Jun 17  2021 guice-servlet-3.0.jar\n",
            "-rw-r--r--  1 1000 1000    41094 Jun 17  2021 hadoop-annotations-2.7.4.jar\n",
            "-rw-r--r--  1 1000 1000    94621 Jun 17  2021 hadoop-auth-2.7.4.jar\n",
            "-rw-r--r--  1 1000 1000    26243 Jun 17  2021 hadoop-client-2.7.4.jar\n",
            "-rw-r--r--  1 1000 1000  3499224 Jun 17  2021 hadoop-common-2.7.4.jar\n",
            "-rw-r--r--  1 1000 1000  8350471 Jun 17  2021 hadoop-hdfs-2.7.4.jar\n",
            "-rw-r--r--  1 1000 1000   543852 Jun 17  2021 hadoop-mapreduce-client-app-2.7.4.jar\n",
            "-rw-r--r--  1 1000 1000   776862 Jun 17  2021 hadoop-mapreduce-client-common-2.7.4.jar\n",
            "-rw-r--r--  1 1000 1000  1558288 Jun 17  2021 hadoop-mapreduce-client-core-2.7.4.jar\n",
            "-rw-r--r--  1 1000 1000    62960 Jun 17  2021 hadoop-mapreduce-client-jobclient-2.7.4.jar\n",
            "-rw-r--r--  1 1000 1000    72050 Jun 17  2021 hadoop-mapreduce-client-shuffle-2.7.4.jar\n",
            "-rw-r--r--  1 1000 1000  2039372 Jun 17  2021 hadoop-yarn-api-2.7.4.jar\n",
            "-rw-r--r--  1 1000 1000   166121 Jun 17  2021 hadoop-yarn-client-2.7.4.jar\n",
            "-rw-r--r--  1 1000 1000  1679789 Jun 17  2021 hadoop-yarn-common-2.7.4.jar\n",
            "-rw-r--r--  1 1000 1000   388572 Jun 17  2021 hadoop-yarn-server-common-2.7.4.jar\n",
            "-rw-r--r--  1 1000 1000    58699 Jun 17  2021 hadoop-yarn-server-web-proxy-2.7.4.jar\n",
            "-rw-r--r--  1 1000 1000   136363 Jun 17  2021 HikariCP-2.5.1.jar\n",
            "-rw-r--r--  1 1000 1000   183472 Jun 17  2021 hive-beeline-2.3.7.jar\n",
            "-rw-r--r--  1 1000 1000    43387 Jun 17  2021 hive-cli-2.3.7.jar\n",
            "-rw-r--r--  1 1000 1000   436980 Jun 17  2021 hive-common-2.3.7.jar\n",
            "-rw-r--r--  1 1000 1000 10839104 Jun 17  2021 hive-exec-2.3.7-core.jar\n",
            "-rw-r--r--  1 1000 1000   116311 Jun 17  2021 hive-jdbc-2.3.7.jar\n",
            "-rw-r--r--  1 1000 1000   326419 Jun 17  2021 hive-llap-common-2.3.7.jar\n",
            "-rw-r--r--  1 1000 1000  8194428 Jun 17  2021 hive-metastore-2.3.7.jar\n",
            "-rw-r--r--  1 1000 1000   916206 Jun 17  2021 hive-serde-2.3.7.jar\n",
            "-rw-r--r--  1 1000 1000    54116 Jun 17  2021 hive-shims-0.23-2.3.7.jar\n",
            "-rw-r--r--  1 1000 1000     8785 Jun 17  2021 hive-shims-2.3.7.jar\n",
            "-rw-r--r--  1 1000 1000   120305 Jun 17  2021 hive-shims-common-2.3.7.jar\n",
            "-rw-r--r--  1 1000 1000    12984 Jun 17  2021 hive-shims-scheduler-2.3.7.jar\n",
            "-rw-r--r--  1 1000 1000   234942 Jun 17  2021 hive-storage-api-2.7.1.jar\n",
            "-rw-r--r--  1 1000 1000    38352 Jun 17  2021 hive-vector-code-gen-2.3.7.jar\n",
            "-rw-r--r--  1 1000 1000   200223 Jun 17  2021 hk2-api-2.6.1.jar\n",
            "-rw-r--r--  1 1000 1000   203358 Jun 17  2021 hk2-locator-2.6.1.jar\n",
            "-rw-r--r--  1 1000 1000   131590 Jun 17  2021 hk2-utils-2.6.1.jar\n",
            "-rw-r--r--  1 1000 1000  1475955 Jun 17  2021 htrace-core-3.1.0-incubating.jar\n",
            "-rw-r--r--  1 1000 1000   767140 Jun 17  2021 httpclient-4.5.6.jar\n",
            "-rw-r--r--  1 1000 1000   328347 Jun 17  2021 httpcore-4.4.12.jar\n",
            "-rw-r--r--  1 1000 1000    27156 Jun 17  2021 istack-commons-runtime-3.0.8.jar\n",
            "-rw-r--r--  1 1000 1000  1282424 Jun 17  2021 ivy-2.4.0.jar\n",
            "-rw-r--r--  1 1000 1000    67889 Jun 17  2021 jackson-annotations-2.10.0.jar\n",
            "-rw-r--r--  1 1000 1000   348635 Jun 17  2021 jackson-core-2.10.0.jar\n",
            "-rw-r--r--  1 1000 1000   232248 Jun 17  2021 jackson-core-asl-1.9.13.jar\n",
            "-rw-r--r--  1 1000 1000  1400944 Jun 17  2021 jackson-databind-2.10.0.jar\n",
            "-rw-r--r--  1 1000 1000    46646 Jun 17  2021 jackson-dataformat-yaml-2.10.0.jar\n",
            "-rw-r--r--  1 1000 1000   105898 Jun 17  2021 jackson-datatype-jsr310-2.10.3.jar\n",
            "-rw-r--r--  1 1000 1000    18336 Jun 17  2021 jackson-jaxrs-1.9.13.jar\n",
            "-rw-r--r--  1 1000 1000   780664 Jun 17  2021 jackson-mapper-asl-1.9.13.jar\n",
            "-rw-r--r--  1 1000 1000    34991 Jun 17  2021 jackson-module-jaxb-annotations-2.10.0.jar\n",
            "-rw-r--r--  1 1000 1000    43740 Jun 17  2021 jackson-module-paranamer-2.10.0.jar\n",
            "-rw-r--r--  1 1000 1000   341862 Jun 17  2021 jackson-module-scala_2.12-2.10.0.jar\n",
            "-rw-r--r--  1 1000 1000    27084 Jun 17  2021 jackson-xc-1.9.13.jar\n",
            "-rw-r--r--  1 1000 1000    44399 Jun 17  2021 jakarta.activation-api-1.2.1.jar\n",
            "-rw-r--r--  1 1000 1000    25058 Jun 17  2021 jakarta.annotation-api-1.3.5.jar\n",
            "-rw-r--r--  1 1000 1000    18140 Jun 17  2021 jakarta.inject-2.6.1.jar\n",
            "-rw-r--r--  1 1000 1000    91930 Jun 17  2021 jakarta.validation-api-2.0.2.jar\n",
            "-rw-r--r--  1 1000 1000   140376 Jun 17  2021 jakarta.ws.rs-api-2.1.6.jar\n",
            "-rw-r--r--  1 1000 1000   115498 Jun 17  2021 jakarta.xml.bind-api-2.3.2.jar\n",
            "-rw-r--r--  1 1000 1000   926574 Jun 17  2021 janino-3.0.16.jar\n",
            "-rw-r--r--  1 1000 1000   780265 Jun 17  2021 javassist-3.25.0-GA.jar\n",
            "-rw-r--r--  1 1000 1000     2497 Jun 17  2021 javax.inject-1.jar\n",
            "-rw-r--r--  1 1000 1000   249790 Jun 17  2021 javax.jdo-3.2.0-m3.jar\n",
            "-rw-r--r--  1 1000 1000    95806 Jun 17  2021 javax.servlet-api-3.1.0.jar\n",
            "-rw-r--r--  1 1000 1000   395195 Jun 17  2021 javolution-5.5.1.jar\n",
            "-rw-r--r--  1 1000 1000   105134 Jun 17  2021 jaxb-api-2.2.2.jar\n",
            "-rw-r--r--  1 1000 1000  1013367 Jun 17  2021 jaxb-runtime-2.3.2.jar\n",
            "-rw-r--r--  1 1000 1000    16537 Jun 17  2021 jcl-over-slf4j-1.7.30.jar\n",
            "-rw-r--r--  1 1000 1000   201124 Jun 17  2021 jdo-api-3.0.1.jar\n",
            "-rw-r--r--  1 1000 1000   244502 Jun 17  2021 jersey-client-2.30.jar\n",
            "-rw-r--r--  1 1000 1000  1166647 Jun 17  2021 jersey-common-2.30.jar\n",
            "-rw-r--r--  1 1000 1000    32091 Jun 17  2021 jersey-container-servlet-2.30.jar\n",
            "-rw-r--r--  1 1000 1000    73349 Jun 17  2021 jersey-container-servlet-core-2.30.jar\n",
            "-rw-r--r--  1 1000 1000    76733 Jun 17  2021 jersey-hk2-2.30.jar\n",
            "-rw-r--r--  1 1000 1000    85815 Jun 17  2021 jersey-media-jaxb-2.30.jar\n",
            "-rw-r--r--  1 1000 1000   927721 Jun 17  2021 jersey-server-2.30.jar\n",
            "-rw-r--r--  1 1000 1000   539912 Jun 17  2021 jetty-6.1.26.jar\n",
            "-rw-r--r--  1 1000 1000    18891 Jun 17  2021 jetty-sslengine-6.1.26.jar\n",
            "-rw-r--r--  1 1000 1000   177131 Jun 17  2021 jetty-util-6.1.26.jar\n",
            "-rw-r--r--  1 1000 1000   232470 Jun 17  2021 JLargeArrays-1.5.jar\n",
            "-rw-r--r--  1 1000 1000   268780 Jun 17  2021 jline-2.14.6.jar\n",
            "-rw-r--r--  1 1000 1000   643043 Jun 17  2021 joda-time-2.10.5.jar\n",
            "-rw-r--r--  1 1000 1000   427780 Jun 17  2021 jodd-core-3.5.2.jar\n",
            "-rw-r--r--  1 1000 1000    12131 Jun 17  2021 jpam-1.1.jar\n",
            "-rw-r--r--  1 1000 1000    25475 Jun 17  2021 json-1.8.jar\n",
            "-rw-r--r--  1 1000 1000    83632 Jun 17  2021 json4s-ast_2.12-3.6.6.jar\n",
            "-rw-r--r--  1 1000 1000   482486 Jun 17  2021 json4s-core_2.12-3.6.6.jar\n",
            "-rw-r--r--  1 1000 1000    36175 Jun 17  2021 json4s-jackson_2.12-3.6.6.jar\n",
            "-rw-r--r--  1 1000 1000   349025 Jun 17  2021 json4s-scalap_2.12-3.6.6.jar\n",
            "-rw-r--r--  1 1000 1000   100636 Jun 17  2021 jsp-api-2.1.jar\n",
            "-rw-r--r--  1 1000 1000    33031 Jun 17  2021 jsr305-3.0.0.jar\n",
            "-rw-r--r--  1 1000 1000    15071 Jun 17  2021 jta-1.1.jar\n",
            "-rw-r--r--  1 1000 1000  1175798 Jun 17  2021 JTransforms-3.1.jar\n",
            "-rw-r--r--  1 1000 1000     4592 Jun 17  2021 jul-to-slf4j-1.7.30.jar\n",
            "-rw-r--r--  1 1000 1000   410874 Jun 17  2021 kryo-shaded-4.0.2.jar\n",
            "-rw-r--r--  1 1000 1000   775174 Jun 17  2021 kubernetes-client-4.9.2.jar\n",
            "-rw-r--r--  1 1000 1000 11908731 Jun 17  2021 kubernetes-model-4.9.2.jar\n",
            "-rw-r--r--  1 1000 1000     3954 Jun 17  2021 kubernetes-model-common-4.9.2.jar\n",
            "-rw-r--r--  1 1000 1000  1045744 Jun 17  2021 leveldbjni-all-1.8.jar\n",
            "-rw-r--r--  1 1000 1000   313702 Jun 17  2021 libfb303-0.9.3.jar\n",
            "-rw-r--r--  1 1000 1000   246445 Jun 17  2021 libthrift-0.12.0.jar\n",
            "-rw-r--r--  1 1000 1000   489884 Jun 17  2021 log4j-1.2.17.jar\n",
            "-rw-r--r--  1 1000 1000    12488 Jun 17  2021 logging-interceptor-3.12.6.jar\n",
            "-rw-r--r--  1 1000 1000   649950 Jun 17  2021 lz4-java-1.7.1.jar\n",
            "-rw-r--r--  1 1000 1000    33786 Jun 17  2021 machinist_2.12-0.6.8.jar\n",
            "-rw-r--r--  1 1000 1000     3180 Jun 17  2021 macro-compat_2.12-1.1.1.jar\n",
            "-rw-r--r--  1 1000 1000  7343426 Jun 17  2021 mesos-1.4.0-shaded-protobuf.jar\n",
            "-rw-r--r--  1 1000 1000   105365 Jun 17  2021 metrics-core-4.1.1.jar\n",
            "-rw-r--r--  1 1000 1000    22042 Jun 17  2021 metrics-graphite-4.1.1.jar\n",
            "-rw-r--r--  1 1000 1000    20889 Jun 17  2021 metrics-jmx-4.1.1.jar\n",
            "-rw-r--r--  1 1000 1000    16642 Jun 17  2021 metrics-json-4.1.1.jar\n",
            "-rw-r--r--  1 1000 1000    23909 Jun 17  2021 metrics-jvm-4.1.1.jar\n",
            "-rw-r--r--  1 1000 1000     5711 Jun 17  2021 minlog-1.3.0.jar\n",
            "-rw-r--r--  1 1000 1000  4153218 Jun 17  2021 netty-all-4.1.47.Final.jar\n",
            "-rw-r--r--  1 1000 1000    54391 Jun 17  2021 objenesis-2.5.1.jar\n",
            "-rw-r--r--  1 1000 1000   423175 Jun 17  2021 okhttp-3.12.6.jar\n",
            "-rw-r--r--  1 1000 1000    88732 Jun 17  2021 okio-1.15.0.jar\n",
            "-rw-r--r--  1 1000 1000    19827 Jun 17  2021 opencsv-2.3.jar\n",
            "-rw-r--r--  1 1000 1000   813783 Jun 17  2021 orc-core-1.5.10.jar\n",
            "-rw-r--r--  1 1000 1000    48122 Jun 17  2021 orc-mapreduce-1.5.10.jar\n",
            "-rw-r--r--  1 1000 1000    27749 Jun 17  2021 orc-shims-1.5.10.jar\n",
            "-rw-r--r--  1 1000 1000    65261 Jun 17  2021 oro-2.0.8.jar\n",
            "-rw-r--r--  1 1000 1000    19479 Jun 17  2021 osgi-resource-locator-1.0.3.jar\n",
            "-rw-r--r--  1 1000 1000    34654 Jun 17  2021 paranamer-2.8.jar\n",
            "-rw-r--r--  1 1000 1000  1097799 Jun 17  2021 parquet-column-1.10.1.jar\n",
            "-rw-r--r--  1 1000 1000    94995 Jun 17  2021 parquet-common-1.10.1.jar\n",
            "-rw-r--r--  1 1000 1000   848750 Jun 17  2021 parquet-encoding-1.10.1.jar\n",
            "-rw-r--r--  1 1000 1000   723203 Jun 17  2021 parquet-format-2.4.0.jar\n",
            "-rw-r--r--  1 1000 1000   285732 Jun 17  2021 parquet-hadoop-1.10.1.jar\n",
            "-rw-r--r--  1 1000 1000  1048171 Jun 17  2021 parquet-jackson-1.10.1.jar\n",
            "-rw-r--r--  1 1000 1000   533455 Jun 17  2021 protobuf-java-2.5.0.jar\n",
            "-rw-r--r--  1 1000 1000   123052 Jun 17  2021 py4j-0.10.9.jar\n",
            "-rw-r--r--  1 1000 1000   100431 Jun 17  2021 pyrolite-4.30.jar\n",
            "-rw-r--r--  1 1000 1000   325335 Jun 17  2021 RoaringBitmap-0.7.45.jar\n",
            "-rw-r--r--  1 1000 1000   112235 Jun 17  2021 scala-collection-compat_2.12-2.1.1.jar\n",
            "-rw-r--r--  1 1000 1000 10672015 Jun 17  2021 scala-compiler-2.12.10.jar\n",
            "-rw-r--r--  1 1000 1000  5276900 Jun 17  2021 scala-library-2.12.10.jar\n",
            "-rw-r--r--  1 1000 1000   222980 Jun 17  2021 scala-parser-combinators_2.12-1.1.2.jar\n",
            "-rw-r--r--  1 1000 1000  3678534 Jun 17  2021 scala-reflect-2.12.10.jar\n",
            "-rw-r--r--  1 1000 1000   556575 Jun 17  2021 scala-xml_2.12-1.2.0.jar\n",
            "-rw-r--r--  1 1000 1000  3243337 Jun 17  2021 shapeless_2.12-2.3.3.jar\n",
            "-rw-r--r--  1 1000 1000     4028 Jun 17  2021 shims-0.7.45.jar\n",
            "-rw-r--r--  1 1000 1000    41472 Jun 17  2021 slf4j-api-1.7.30.jar\n",
            "-rw-r--r--  1 1000 1000    12211 Jun 17  2021 slf4j-log4j12-1.7.30.jar\n",
            "-rw-r--r--  1 1000 1000   302558 Jun 17  2021 snakeyaml-1.24.jar\n",
            "-rw-r--r--  1 1000 1000  1969177 Jun 17  2021 snappy-java-1.1.8.2.jar\n",
            "-rw-r--r--  1 1000 1000  9416447 Jun 17  2021 spark-catalyst_2.12-3.0.3.jar\n",
            "-rw-r--r--  1 1000 1000  9924938 Jun 17  2021 spark-core_2.12-3.0.3.jar\n",
            "-rw-r--r--  1 1000 1000   430762 Jun 17  2021 spark-graphx_2.12-3.0.3.jar\n",
            "-rw-r--r--  1 1000 1000   693885 Jun 17  2021 spark-hive_2.12-3.0.3.jar\n",
            "-rw-r--r--  1 1000 1000  2080836 Jun 17  2021 spark-hive-thriftserver_2.12-3.0.3.jar\n",
            "-rw-r--r--  1 1000 1000   375187 Jun 17  2021 spark-kubernetes_2.12-3.0.3.jar\n",
            "-rw-r--r--  1 1000 1000    59869 Jun 17  2021 spark-kvstore_2.12-3.0.3.jar\n",
            "-rw-r--r--  1 1000 1000    75936 Jun 17  2021 spark-launcher_2.12-3.0.3.jar\n",
            "-rw-r--r--  1 1000 1000   295141 Jun 17  2021 spark-mesos_2.12-3.0.3.jar\n",
            "-rw-r--r--  1 1000 1000  5887774 Jun 17  2021 spark-mllib_2.12-3.0.3.jar\n",
            "-rw-r--r--  1 1000 1000   111920 Jun 17  2021 spark-mllib-local_2.12-3.0.3.jar\n",
            "-rw-r--r--  1 1000 1000  2397711 Jun 17  2021 spark-network-common_2.12-3.0.3.jar\n",
            "-rw-r--r--  1 1000 1000    87872 Jun 17  2021 spark-network-shuffle_2.12-3.0.3.jar\n",
            "-rw-r--r--  1 1000 1000    52532 Jun 17  2021 spark-repl_2.12-3.0.3.jar\n",
            "-rw-r--r--  1 1000 1000    30353 Jun 17  2021 spark-sketch_2.12-3.0.3.jar\n",
            "-rw-r--r--  1 1000 1000  7164387 Jun 17  2021 spark-sql_2.12-3.0.3.jar\n",
            "-rw-r--r--  1 1000 1000  1138147 Jun 17  2021 spark-streaming_2.12-3.0.3.jar\n",
            "-rw-r--r--  1 1000 1000    15156 Jun 17  2021 spark-tags_2.12-3.0.3.jar\n",
            "-rw-r--r--  1 1000 1000    10376 Jun 17  2021 spark-tags_2.12-3.0.3-tests.jar\n",
            "-rw-r--r--  1 1000 1000    51309 Jun 17  2021 spark-unsafe_2.12-3.0.3.jar\n",
            "-rw-r--r--  1 1000 1000   331936 Jun 17  2021 spark-yarn_2.12-3.0.3.jar\n",
            "-rw-r--r--  1 1000 1000  7188024 Jun 17  2021 spire_2.12-0.17.0-M1.jar\n",
            "-rw-r--r--  1 1000 1000    79588 Jun 17  2021 spire-macros_2.12-0.17.0-M1.jar\n",
            "-rw-r--r--  1 1000 1000     8261 Jun 17  2021 spire-platform_2.12-0.17.0-M1.jar\n",
            "-rw-r--r--  1 1000 1000    34601 Jun 17  2021 spire-util_2.12-0.17.0-M1.jar\n",
            "-rw-r--r--  1 1000 1000   236660 Jun 17  2021 ST4-4.0.4.jar\n",
            "-rw-r--r--  1 1000 1000    26514 Jun 17  2021 stax-api-1.0.1.jar\n",
            "-rw-r--r--  1 1000 1000    23346 Jun 17  2021 stax-api-1.0-2.jar\n",
            "-rw-r--r--  1 1000 1000   178149 Jun 17  2021 stream-2.9.6.jar\n",
            "-rw-r--r--  1 1000 1000    93210 Jun 17  2021 super-csv-2.2.0.jar\n",
            "-rw-r--r--  1 1000 1000   233745 Jun 17  2021 threeten-extra-1.5.0.jar\n",
            "-rw-r--r--  1 1000 1000    15071 Jun 17  2021 transaction-api-1.1.jar\n",
            "-rw-r--r--  1 1000 1000   443986 Jun 17  2021 univocity-parsers-2.9.0.jar\n",
            "-rw-r--r--  1 1000 1000   392124 Jun 17  2021 velocity-1.5.jar\n",
            "-rw-r--r--  1 1000 1000   281356 Jun 17  2021 xbean-asm7-shaded-4.15.jar\n",
            "-rw-r--r--  1 1000 1000  1386397 Jun 17  2021 xercesImpl-2.12.0.jar\n",
            "-rw-r--r--  1 1000 1000   220536 Jun 17  2021 xml-apis-1.4.01.jar\n",
            "-rw-r--r--  1 1000 1000    15010 Jun 17  2021 xmlenc-0.52.jar\n",
            "-rw-r--r--  1 1000 1000    99555 Jun 17  2021 xz-1.5.jar\n",
            "-rw-r--r--  1 1000 1000    35518 Jun 17  2021 zjsonpatch-0.3.0.jar\n",
            "-rw-r--r--  1 1000 1000   911603 Jun 17  2021 zookeeper-3.4.14.jar\n",
            "-rw-r--r--  1 1000 1000  4210625 Jun 17  2021 zstd-jni-1.4.4-3.jar\n"
          ]
        }
      ]
    },
    {
      "cell_type": "code",
      "source": [
        "import findspark\n",
        "findspark.init()\n",
        "from pyspark.sql import SparkSession\n",
        "from pyspark.sql.functions import *\n",
        "import time\n",
        "spark = SparkSession.builder.master(\"local[*]\").config(\"spark.jars.packages\", \"org.apache.spark:spark-sql-kafka-0-10_2.12:3.0.3\").getOrCreate()"
      ],
      "metadata": {
        "id": "FoBpX7yGQ0v1"
      },
      "execution_count": 6,
      "outputs": []
    },
    {
      "cell_type": "code",
      "source": [
        "spark"
      ],
      "metadata": {
        "application/vnd.databricks.v1+cell": {
          "title": "",
          "showTitle": false,
          "inputWidgets": {},
          "nuid": "f74b7fec-03ec-4c5d-a1e6-09b61fd89401"
        },
        "colab": {
          "base_uri": "https://localhost:8080/",
          "height": 219
        },
        "id": "FtvxSHSZOfE7",
        "outputId": "9d6839be-a900-4b21-8122-3965f508cb90"
      },
      "outputs": [
        {
          "output_type": "execute_result",
          "data": {
            "text/plain": [
              "<pyspark.sql.session.SparkSession at 0x7fdeef5a21d0>"
            ],
            "text/html": [
              "\n",
              "            <div>\n",
              "                <p><b>SparkSession - in-memory</b></p>\n",
              "                \n",
              "        <div>\n",
              "            <p><b>SparkContext</b></p>\n",
              "\n",
              "            <p><a href=\"http://e6bdd1f337ac:4040\">Spark UI</a></p>\n",
              "\n",
              "            <dl>\n",
              "              <dt>Version</dt>\n",
              "                <dd><code>v3.0.3</code></dd>\n",
              "              <dt>Master</dt>\n",
              "                <dd><code>local[*]</code></dd>\n",
              "              <dt>AppName</dt>\n",
              "                <dd><code>pyspark-shell</code></dd>\n",
              "            </dl>\n",
              "        </div>\n",
              "        \n",
              "            </div>\n",
              "        "
            ]
          },
          "metadata": {},
          "execution_count": 7
        }
      ],
      "execution_count": 7
    },
    {
      "cell_type": "code",
      "source": [
        "from pyspark.sql import SparkSession\n",
        "from pyspark.sql.functions import * \n",
        "import pyspark.sql.functions as fn \n",
        "from pyspark.sql.types import StringType\n",
        "import time"
      ],
      "metadata": {
        "id": "xF--dkudDaSj",
        "application/vnd.databricks.v1+cell": {
          "title": "",
          "showTitle": false,
          "inputWidgets": {},
          "nuid": "ec219896-9603-441d-aa88-33062c5e410a"
        }
      },
      "outputs": [],
      "execution_count": 8
    },
    {
      "cell_type": "code",
      "source": [
        "wikiStream = (spark\n",
        "  .readStream\n",
        "  .format(\"kafka\")\n",
        "  .option(\"kafka.bootstrap.servers\",\"ec2-18-118-112-10.us-east-2.compute.amazonaws.com:9092\") # kafka server\n",
        "  .option(\"subscribe\", \"wiki\") # topic\n",
        "  .option(\"startingOffsets\", \"earliest\") # start from beginning \n",
        "  .load())"
      ],
      "metadata": {
        "id": "soTZZL9YDvt1",
        "application/vnd.databricks.v1+cell": {
          "title": "",
          "showTitle": false,
          "inputWidgets": {},
          "nuid": "883ba54d-4d76-4807-a3fd-d6b4898056db"
        }
      },
      "outputs": [],
      "execution_count": 9
    },
    {
      "cell_type": "code",
      "source": [
        "wikiStream"
      ],
      "metadata": {
        "id": "H3uAPZjFE3xF",
        "application/vnd.databricks.v1+cell": {
          "title": "",
          "showTitle": false,
          "inputWidgets": {},
          "nuid": "4bb067a7-386f-4b4a-8522-33b1739d17f8"
        },
        "colab": {
          "base_uri": "https://localhost:8080/"
        },
        "outputId": "32defb52-bfdc-4bf4-f62b-21b09d7ad20f"
      },
      "outputs": [
        {
          "output_type": "execute_result",
          "data": {
            "text/plain": [
              "DataFrame[key: binary, value: binary, topic: string, partition: int, offset: bigint, timestamp: timestamp, timestampType: int]"
            ]
          },
          "metadata": {},
          "execution_count": 10
        }
      ],
      "execution_count": 10
    },
    {
      "cell_type": "code",
      "source": [
        "wikiStream.isStreaming"
      ],
      "metadata": {
        "id": "dkx7ApzJjgff",
        "application/vnd.databricks.v1+cell": {
          "title": "",
          "showTitle": false,
          "inputWidgets": {},
          "nuid": "f0aba723-5fc0-4d81-b880-e16201d88abd"
        },
        "colab": {
          "base_uri": "https://localhost:8080/"
        },
        "outputId": "c0588656-a7da-447e-fa12-cedac2d02f7f"
      },
      "outputs": [
        {
          "output_type": "execute_result",
          "data": {
            "text/plain": [
              "True"
            ]
          },
          "metadata": {},
          "execution_count": 11
        }
      ],
      "execution_count": 11
    },
    {
      "cell_type": "code",
      "source": [
        "from pyspark.sql.types import StringType\n",
        "\n",
        "# Convert binary to string key and value\n",
        "wikiStream = (wikiStream\n",
        "    .withColumn(\"key\", wikiStream[\"key\"].cast(StringType()))\n",
        "    .withColumn(\"value\", wikiStream[\"value\"].cast(StringType())))"
      ],
      "metadata": {
        "id": "nPCdxJTnFBNF",
        "application/vnd.databricks.v1+cell": {
          "title": "",
          "showTitle": false,
          "inputWidgets": {},
          "nuid": "0558080f-698b-4ac5-97c5-6733333413cf"
        }
      },
      "outputs": [],
      "execution_count": 12
    },
    {
      "cell_type": "code",
      "source": [
        "wikiStream"
      ],
      "metadata": {
        "id": "19hfGTgd0_oP",
        "application/vnd.databricks.v1+cell": {
          "title": "",
          "showTitle": false,
          "inputWidgets": {},
          "nuid": "3ad07d45-4a75-4d97-a1da-5091f8749441"
        },
        "colab": {
          "base_uri": "https://localhost:8080/"
        },
        "outputId": "7cc60edd-0d13-4801-f4bd-1d392ba73c91"
      },
      "outputs": [
        {
          "output_type": "execute_result",
          "data": {
            "text/plain": [
              "DataFrame[key: string, value: string, topic: string, partition: int, offset: bigint, timestamp: timestamp, timestampType: int]"
            ]
          },
          "metadata": {},
          "execution_count": 13
        }
      ],
      "execution_count": 13
    },
    {
      "cell_type": "code",
      "source": [
        "from pyspark.sql.functions import from_json\n",
        "from pyspark.sql.types import StructType, StructField, BooleanType, LongType, IntegerType\n",
        "\n",
        "# Event data schema\n",
        "schema_wiki = StructType(\n",
        "    [StructField(\"$schema\",StringType(),True),\n",
        "     StructField(\"bot\",BooleanType(),True),\n",
        "     StructField(\"comment\",StringType(),True),\n",
        "     StructField(\"id\",StringType(),True),\n",
        "     StructField(\"length\",\n",
        "                 StructType(\n",
        "                     [StructField(\"new\",IntegerType(),True),\n",
        "                      StructField(\"old\",IntegerType(),True)]),True),\n",
        "     StructField(\"meta\",\n",
        "                 StructType(\n",
        "                     [StructField(\"domain\",StringType(),True),\n",
        "                      StructField(\"dt\",StringType(),True),\n",
        "                      StructField(\"id\",StringType(),True),\n",
        "                      StructField(\"offset\",LongType(),True),\n",
        "                      StructField(\"partition\",LongType(),True),\n",
        "                      StructField(\"request_id\",StringType(),True),\n",
        "                      StructField(\"stream\",StringType(),True),\n",
        "                      StructField(\"topic\",StringType(),True),\n",
        "                      StructField(\"uri\",StringType(),True)]),True),\n",
        "     StructField(\"minor\",BooleanType(),True),\n",
        "     StructField(\"namespace\",IntegerType(),True),\n",
        "     StructField(\"parsedcomment\",StringType(),True),\n",
        "     StructField(\"patrolled\",BooleanType(),True),\n",
        "     StructField(\"revision\",\n",
        "                 StructType(\n",
        "                     [StructField(\"new\",IntegerType(),True),\n",
        "                      StructField(\"old\",IntegerType(),True)]),True),\n",
        "     StructField(\"server_name\",StringType(),True),\n",
        "     StructField(\"server_script_path\",StringType(),True),\n",
        "     StructField(\"server_url\",StringType(),True),\n",
        "     StructField(\"timestamp\",StringType(),True),\n",
        "     StructField(\"title\",StringType(),True),\n",
        "     StructField(\"type\",StringType(),True),\n",
        "     StructField(\"user\",StringType(),True),\n",
        "     StructField(\"wiki\",StringType(),True)])\n",
        "\n",
        "# Create dataframe setting schema for event data\n",
        "df_wiki = (wikiStream\n",
        "           # Sets schema for event data\n",
        "           .withColumn(\"value\", from_json(\"value\", schema_wiki))\n",
        "          )"
      ],
      "metadata": {
        "id": "3DjPFtbDFJiG",
        "application/vnd.databricks.v1+cell": {
          "title": "",
          "showTitle": false,
          "inputWidgets": {},
          "nuid": "9d2a00e0-26ee-4a8e-bdec-2ddd02ed1827"
        }
      },
      "outputs": [],
      "execution_count": 14
    },
    {
      "cell_type": "code",
      "source": [
        "df_wiki"
      ],
      "metadata": {
        "id": "33bkzPyNJd3R",
        "application/vnd.databricks.v1+cell": {
          "title": "",
          "showTitle": false,
          "inputWidgets": {},
          "nuid": "0c13635a-c46b-4a05-80ea-bb81834ac663"
        },
        "colab": {
          "base_uri": "https://localhost:8080/"
        },
        "outputId": "5ae1e818-c4db-4345-be7f-aa839d0e2ffc"
      },
      "outputs": [
        {
          "output_type": "execute_result",
          "data": {
            "text/plain": [
              "DataFrame[key: string, value: struct<$schema:string,bot:boolean,comment:string,id:string,length:struct<new:int,old:int>,meta:struct<domain:string,dt:string,id:string,offset:bigint,partition:bigint,request_id:string,stream:string,topic:string,uri:string>,minor:boolean,namespace:int,parsedcomment:string,patrolled:boolean,revision:struct<new:int,old:int>,server_name:string,server_script_path:string,server_url:string,timestamp:string,title:string,type:string,user:string,wiki:string>, topic: string, partition: int, offset: bigint, timestamp: timestamp, timestampType: int]"
            ]
          },
          "metadata": {},
          "execution_count": 15
        }
      ],
      "execution_count": 15
    },
    {
      "cell_type": "code",
      "source": [
        "df_wiki.isStreaming"
      ],
      "metadata": {
        "id": "PL8PNws1j56O",
        "application/vnd.databricks.v1+cell": {
          "title": "",
          "showTitle": false,
          "inputWidgets": {},
          "nuid": "8690eb6d-631c-4e8e-9424-cd2a43f36d8b"
        },
        "colab": {
          "base_uri": "https://localhost:8080/"
        },
        "outputId": "e8e38053-7e28-4d50-dfa7-208d8971cbe0"
      },
      "outputs": [
        {
          "output_type": "execute_result",
          "data": {
            "text/plain": [
              "True"
            ]
          },
          "metadata": {},
          "execution_count": 16
        }
      ],
      "execution_count": 16
    },
    {
      "cell_type": "code",
      "source": [
        "from pyspark.sql.functions import col, from_unixtime, to_date, to_timestamp\n",
        "\n",
        "# Transform into tabular \n",
        "# Convert unix timestamp to timestamp\n",
        "# Create partition column (change_timestamp_date)\n",
        "df_wiki_formatted = (df_wiki.select(\n",
        "    col(\"key\").alias(\"event_key\")\n",
        "    ,col(\"topic\").alias(\"event_topic\")\n",
        "    ,col(\"timestamp\").alias(\"event_timestamp\")\n",
        "    ,col(\"value.$schema\").alias(\"schema\")\n",
        "    ,\"value.bot\"\n",
        "    ,\"value.comment\"\n",
        "    ,\"value.id\"\n",
        "    ,col(\"value.length.new\").alias(\"length_new\")\n",
        "    ,col(\"value.length.old\").alias(\"length_old\")\n",
        "    ,\"value.minor\"\n",
        "    ,\"value.namespace\"\n",
        "    ,\"value.parsedcomment\"\n",
        "    ,\"value.patrolled\"\n",
        "    ,col(\"value.revision.new\").alias(\"revision_new\")\n",
        "    ,col(\"value.revision.old\").alias(\"revision_old\")\n",
        "    ,\"value.server_name\"\n",
        "    ,\"value.server_script_path\"\n",
        "    ,\"value.server_url\"\n",
        "    ,to_timestamp(from_unixtime(col(\"value.timestamp\"))).alias(\"change_timestamp\")\n",
        "    ,to_date(from_unixtime(col(\"value.timestamp\"))).alias(\"change_timestamp_date\")\n",
        "    ,\"value.title\"\n",
        "    ,\"value.type\"\n",
        "    ,\"value.user\"\n",
        "    ,\"value.wiki\"\n",
        "    ,col(\"value.meta.domain\").alias(\"meta_domain\")\n",
        "    ,col(\"value.meta.dt\").alias(\"meta_dt\")\n",
        "    ,col(\"value.meta.id\").alias(\"meta_id\")\n",
        "    ,col(\"value.meta.offset\").alias(\"meta_offset\")\n",
        "    ,col(\"value.meta.partition\").alias(\"meta_partition\")\n",
        "    ,col(\"value.meta.request_id\").alias(\"meta_request_id\")\n",
        "    ,col(\"value.meta.stream\").alias(\"meta_stream\")\n",
        "    ,col(\"value.meta.topic\").alias(\"meta_topic\")\n",
        "    ,col(\"value.meta.uri\").alias(\"meta_uri\")\n",
        "))"
      ],
      "metadata": {
        "id": "d0Hdjj10Fvev",
        "application/vnd.databricks.v1+cell": {
          "title": "",
          "showTitle": false,
          "inputWidgets": {},
          "nuid": "a252f1a2-6995-4875-9331-2aaa7891faef"
        }
      },
      "outputs": [],
      "execution_count": 17
    },
    {
      "cell_type": "code",
      "source": [
        "df_wiki_formatted"
      ],
      "metadata": {
        "id": "xUk6_lo_FyFZ",
        "application/vnd.databricks.v1+cell": {
          "title": "",
          "showTitle": false,
          "inputWidgets": {},
          "nuid": "f470f70a-0775-48d2-8520-905d8f9371f0"
        },
        "colab": {
          "base_uri": "https://localhost:8080/"
        },
        "outputId": "5db4469c-5c1f-4740-8357-9ee785281353"
      },
      "outputs": [
        {
          "output_type": "execute_result",
          "data": {
            "text/plain": [
              "DataFrame[event_key: string, event_topic: string, event_timestamp: timestamp, schema: string, bot: boolean, comment: string, id: string, length_new: int, length_old: int, minor: boolean, namespace: int, parsedcomment: string, patrolled: boolean, revision_new: int, revision_old: int, server_name: string, server_script_path: string, server_url: string, change_timestamp: timestamp, change_timestamp_date: date, title: string, type: string, user: string, wiki: string, meta_domain: string, meta_dt: string, meta_id: string, meta_offset: bigint, meta_partition: bigint, meta_request_id: string, meta_stream: string, meta_topic: string, meta_uri: string]"
            ]
          },
          "metadata": {},
          "execution_count": 18
        }
      ],
      "execution_count": 18
    },
    {
      "cell_type": "code",
      "source": [
        "df_wiki_formatted.isStreaming"
      ],
      "metadata": {
        "id": "8V07Qt16j_TK",
        "application/vnd.databricks.v1+cell": {
          "title": "",
          "showTitle": false,
          "inputWidgets": {},
          "nuid": "8ecdadee-5f5e-4bd0-9345-e10f8de48b57"
        },
        "colab": {
          "base_uri": "https://localhost:8080/"
        },
        "outputId": "2a6528b3-1d03-4caa-db31-896c90e657d5"
      },
      "outputs": [
        {
          "output_type": "execute_result",
          "data": {
            "text/plain": [
              "True"
            ]
          },
          "metadata": {},
          "execution_count": 19
        }
      ],
      "execution_count": 19
    },
    {
      "cell_type": "code",
      "source": [
        "query = df_wiki_formatted.writeStream.format(\"memory\").queryName(\"wikiTable\").outputMode(\"append\").start()\n",
        "#query = df_wiki_formatted.writeStream.format(\"console\").outputMode(\"append\").start()"
      ],
      "metadata": {
        "id": "MThhzbGAEuIB",
        "application/vnd.databricks.v1+cell": {
          "title": "",
          "showTitle": false,
          "inputWidgets": {},
          "nuid": "ea37679d-42cf-40b9-b359-8057a5800607"
        }
      },
      "outputs": [],
      "execution_count": 20
    },
    {
      "cell_type": "code",
      "source": [
        "type(query)"
      ],
      "metadata": {
        "id": "VzKgy4bTkq8F",
        "application/vnd.databricks.v1+cell": {
          "title": "",
          "showTitle": false,
          "inputWidgets": {},
          "nuid": "8a28d5af-3ac9-4e4e-8fbf-8271147630e1"
        },
        "colab": {
          "base_uri": "https://localhost:8080/"
        },
        "outputId": "edf3d4bf-48ae-4baa-9deb-d1eb0c1b10a9"
      },
      "outputs": [
        {
          "output_type": "execute_result",
          "data": {
            "text/plain": [
              "pyspark.sql.streaming.StreamingQuery"
            ]
          },
          "metadata": {},
          "execution_count": 21
        }
      ],
      "execution_count": 21
    },
    {
      "cell_type": "code",
      "source": [
        "print(query.name)"
      ],
      "metadata": {
        "id": "0LoeTVnfmGMP",
        "application/vnd.databricks.v1+cell": {
          "title": "",
          "showTitle": false,
          "inputWidgets": {},
          "nuid": "eff9f1a7-ea8d-4375-ab16-8acda5e8b849"
        },
        "colab": {
          "base_uri": "https://localhost:8080/"
        },
        "outputId": "2a65fdc4-c4b1-4b78-948f-636c5d3edc9c"
      },
      "outputs": [
        {
          "output_type": "stream",
          "name": "stdout",
          "text": [
            "wikiTable\n"
          ]
        }
      ],
      "execution_count": 22
    },
    {
      "cell_type": "code",
      "source": [
        "for x in range(10):\n",
        "  DF = spark.sql(\"select event_topic,bot,user from wikiTable\")\n",
        "  print(DF.show())\n",
        "  time.sleep(1)"
      ],
      "metadata": {
        "id": "xsGnckE0EuGw",
        "application/vnd.databricks.v1+cell": {
          "title": "",
          "showTitle": false,
          "inputWidgets": {},
          "nuid": "d6567f1e-30a1-49bd-9a13-452510bc5939"
        },
        "outputId": "e89ae5f9-2eb1-45c6-dd76-cc1baa126180"
      },
      "outputs": [
        {
          "output_type": "display_data",
          "metadata": {
            "application/vnd.databricks.v1+output": {
              "datasetInfos": [],
              "data": "+-----------+-----+--------------------+\n|event_topic|  bot|                user|\n+-----------+-----+--------------------+\n|       wiki| true|  InternetArchiveBot|\n|       wiki| true|            MatSuBot|\n|       wiki| true|       Mr.Ibrahembot|\n|       wiki|false|Ser Amantio di Ni...|\n|       wiki|false|Ser Amantio di Ni...|\n|       wiki| true|           WingerBot|\n|       wiki|false|            Jevansen|\n|       wiki|false|          Raeeskamal|\n|       wiki| true|               KrBot|\n|       wiki|false|             Dig.log|\n|       wiki| true|       Mr.Ibrahembot|\n|       wiki|false|       Freimut Bahlo|\n|       wiki|false|   Designer Ethan Hu|\n|       wiki| true|            NikkiBot|\n|       wiki| true|              Pi bot|\n|       wiki| true|              Pi bot|\n|       wiki|false|          柚子沒長草|\n|       wiki| true|              Pi bot|\n|       wiki|false|               Codas|\n|       wiki| true|              Pi bot|\n+-----------+-----+--------------------+\nonly showing top 20 rows\n\nNone\n+-----------+-----+--------------------+\n|event_topic|  bot|                user|\n+-----------+-----+--------------------+\n|       wiki| true|  InternetArchiveBot|\n|       wiki| true|            MatSuBot|\n|       wiki| true|       Mr.Ibrahembot|\n|       wiki|false|Ser Amantio di Ni...|\n|       wiki|false|Ser Amantio di Ni...|\n|       wiki| true|           WingerBot|\n|       wiki|false|            Jevansen|\n|       wiki|false|          Raeeskamal|\n|       wiki| true|               KrBot|\n|       wiki|false|             Dig.log|\n|       wiki| true|       Mr.Ibrahembot|\n|       wiki|false|       Freimut Bahlo|\n|       wiki|false|   Designer Ethan Hu|\n|       wiki| true|            NikkiBot|\n|       wiki| true|              Pi bot|\n|       wiki| true|              Pi bot|\n|       wiki|false|          柚子沒長草|\n|       wiki| true|              Pi bot|\n|       wiki|false|               Codas|\n|       wiki| true|              Pi bot|\n+-----------+-----+--------------------+\nonly showing top 20 rows\n\nNone\n+-----------+-----+--------------------+\n|event_topic|  bot|                user|\n+-----------+-----+--------------------+\n|       wiki| true|  InternetArchiveBot|\n|       wiki| true|            MatSuBot|\n|       wiki| true|       Mr.Ibrahembot|\n|       wiki|false|Ser Amantio di Ni...|\n|       wiki|false|Ser Amantio di Ni...|\n|       wiki| true|           WingerBot|\n|       wiki|false|            Jevansen|\n|       wiki|false|          Raeeskamal|\n|       wiki| true|               KrBot|\n|       wiki|false|             Dig.log|\n|       wiki| true|       Mr.Ibrahembot|\n|       wiki|false|       Freimut Bahlo|\n|       wiki|false|   Designer Ethan Hu|\n|       wiki| true|            NikkiBot|\n|       wiki| true|              Pi bot|\n|       wiki| true|              Pi bot|\n|       wiki|false|          柚子沒長草|\n|       wiki| true|              Pi bot|\n|       wiki|false|               Codas|\n|       wiki| true|              Pi bot|\n+-----------+-----+--------------------+\nonly showing top 20 rows\n\nNone\n+-----------+-----+--------------------+\n|event_topic|  bot|                user|\n+-----------+-----+--------------------+\n|       wiki| true|  InternetArchiveBot|\n|       wiki| true|            MatSuBot|\n|       wiki| true|       Mr.Ibrahembot|\n|       wiki|false|Ser Amantio di Ni...|\n|       wiki|false|Ser Amantio di Ni...|\n|       wiki| true|           WingerBot|\n|       wiki|false|            Jevansen|\n|       wiki|false|          Raeeskamal|\n|       wiki| true|               KrBot|\n|       wiki|false|             Dig.log|\n|       wiki| true|       Mr.Ibrahembot|\n|       wiki|false|       Freimut Bahlo|\n|       wiki|false|   Designer Ethan Hu|\n|       wiki| true|            NikkiBot|\n|       wiki| true|              Pi bot|\n|       wiki| true|              Pi bot|\n|       wiki|false|          柚子沒長草|\n|       wiki| true|              Pi bot|\n|       wiki|false|               Codas|\n|       wiki| true|              Pi bot|\n+-----------+-----+--------------------+\nonly showing top 20 rows\n\nNone\n+-----------+-----+--------------------+\n|event_topic|  bot|                user|\n+-----------+-----+--------------------+\n|       wiki| true|  InternetArchiveBot|\n|       wiki| true|            MatSuBot|\n|       wiki| true|       Mr.Ibrahembot|\n|       wiki|false|Ser Amantio di Ni...|\n|       wiki|false|Ser Amantio di Ni...|\n|       wiki| true|           WingerBot|\n|       wiki|false|            Jevansen|\n|       wiki|false|          Raeeskamal|\n|       wiki| true|               KrBot|\n|       wiki|false|             Dig.log|\n|       wiki| true|       Mr.Ibrahembot|\n|       wiki|false|       Freimut Bahlo|\n|       wiki|false|   Designer Ethan Hu|\n|       wiki| true|            NikkiBot|\n|       wiki| true|              Pi bot|\n|       wiki| true|              Pi bot|\n|       wiki|false|          柚子沒長草|\n|       wiki| true|              Pi bot|\n|       wiki|false|               Codas|\n|       wiki| true|              Pi bot|\n+-----------+-----+--------------------+\nonly showing top 20 rows\n\nNone\n+-----------+-----+--------------------+\n|event_topic|  bot|                user|\n+-----------+-----+--------------------+\n|       wiki| true|  InternetArchiveBot|\n|       wiki| true|            MatSuBot|\n|       wiki| true|       Mr.Ibrahembot|\n|       wiki|false|Ser Amantio di Ni...|\n|       wiki|false|Ser Amantio di Ni...|\n|       wiki| true|           WingerBot|\n|       wiki|false|            Jevansen|\n|       wiki|false|          Raeeskamal|\n|       wiki| true|               KrBot|\n|       wiki|false|             Dig.log|\n|       wiki| true|       Mr.Ibrahembot|\n|       wiki|false|       Freimut Bahlo|\n|       wiki|false|   Designer Ethan Hu|\n|       wiki| true|            NikkiBot|\n|       wiki| true|              Pi bot|\n|       wiki| true|              Pi bot|\n|       wiki|false|          柚子沒長草|\n|       wiki| true|              Pi bot|\n|       wiki|false|               Codas|\n|       wiki| true|              Pi bot|\n+-----------+-----+--------------------+\nonly showing top 20 rows\n\nNone\n+-----------+-----+--------------------+\n|event_topic|  bot|                user|\n+-----------+-----+--------------------+\n|       wiki| true|  InternetArchiveBot|\n|       wiki| true|            MatSuBot|\n|       wiki| true|       Mr.Ibrahembot|\n|       wiki|false|Ser Amantio di Ni...|\n|       wiki|false|Ser Amantio di Ni...|\n|       wiki| true|           WingerBot|\n|       wiki|false|            Jevansen|\n|       wiki|false|          Raeeskamal|\n|       wiki| true|               KrBot|\n|       wiki|false|             Dig.log|\n|       wiki| true|       Mr.Ibrahembot|\n|       wiki|false|       Freimut Bahlo|\n|       wiki|false|   Designer Ethan Hu|\n|       wiki| true|            NikkiBot|\n|       wiki| true|              Pi bot|\n|       wiki| true|              Pi bot|\n|       wiki|false|          柚子沒長草|\n|       wiki| true|              Pi bot|\n|       wiki|false|               Codas|\n|       wiki| true|              Pi bot|\n+-----------+-----+--------------------+\nonly showing top 20 rows\n\nNone\n+-----------+-----+--------------------+\n|event_topic|  bot|                user|\n+-----------+-----+--------------------+\n|       wiki| true|  InternetArchiveBot|\n|       wiki| true|            MatSuBot|\n|       wiki| true|       Mr.Ibrahembot|\n|       wiki|false|Ser Amantio di Ni...|\n|       wiki|false|Ser Amantio di Ni...|\n|       wiki| true|           WingerBot|\n|       wiki|false|            Jevansen|\n|       wiki|false|          Raeeskamal|\n|       wiki| true|               KrBot|\n|       wiki|false|             Dig.log|\n|       wiki| true|       Mr.Ibrahembot|\n|       wiki|false|       Freimut Bahlo|\n|       wiki|false|   Designer Ethan Hu|\n|       wiki| true|            NikkiBot|\n|       wiki| true|              Pi bot|\n|       wiki| true|              Pi bot|\n|       wiki|false|          柚子沒長草|\n|       wiki| true|              Pi bot|\n|       wiki|false|               Codas|\n|       wiki| true|              Pi bot|\n+-----------+-----+--------------------+\nonly showing top 20 rows\n\nNone\n+-----------+-----+--------------------+\n|event_topic|  bot|                user|\n+-----------+-----+--------------------+\n|       wiki| true|  InternetArchiveBot|\n|       wiki| true|            MatSuBot|\n|       wiki| true|       Mr.Ibrahembot|\n|       wiki|false|Ser Amantio di Ni...|\n|       wiki|false|Ser Amantio di Ni...|\n|       wiki| true|           WingerBot|\n|       wiki|false|            Jevansen|\n|       wiki|false|          Raeeskamal|\n|       wiki| true|               KrBot|\n|       wiki|false|             Dig.log|\n|       wiki| true|       Mr.Ibrahembot|\n|       wiki|false|       Freimut Bahlo|\n|       wiki|false|   Designer Ethan Hu|\n|       wiki| true|            NikkiBot|\n|       wiki| true|              Pi bot|\n|       wiki| true|              Pi bot|\n|       wiki|false|          柚子沒長草|\n|       wiki| true|              Pi bot|\n|       wiki|false|               Codas|\n|       wiki| true|              Pi bot|\n+-----------+-----+--------------------+\nonly showing top 20 rows\n\nNone\n+-----------+-----+--------------------+\n|event_topic|  bot|                user|\n+-----------+-----+--------------------+\n|       wiki| true|  InternetArchiveBot|\n|       wiki| true|            MatSuBot|\n|       wiki| true|       Mr.Ibrahembot|\n|       wiki|false|Ser Amantio di Ni...|\n|       wiki|false|Ser Amantio di Ni...|\n|       wiki| true|           WingerBot|\n|       wiki|false|            Jevansen|\n|       wiki|false|          Raeeskamal|\n|       wiki| true|               KrBot|\n|       wiki|false|             Dig.log|\n|       wiki| true|       Mr.Ibrahembot|\n|       wiki|false|       Freimut Bahlo|\n|       wiki|false|   Designer Ethan Hu|\n|       wiki| true|            NikkiBot|\n|       wiki| true|              Pi bot|\n|       wiki| true|              Pi bot|\n|       wiki|false|          柚子沒長草|\n|       wiki| true|              Pi bot|\n|       wiki|false|               Codas|\n|       wiki| true|              Pi bot|\n+-----------+-----+--------------------+\nonly showing top 20 rows\n\nNone\n",
              "removedWidgets": [],
              "addedWidgets": {},
              "metadata": {},
              "type": "ansi",
              "arguments": {}
            }
          },
          "data": {
            "text/plain": [
              "+-----------+-----+--------------------+\n|event_topic|  bot|                user|\n+-----------+-----+--------------------+\n|       wiki| true|  InternetArchiveBot|\n|       wiki| true|            MatSuBot|\n|       wiki| true|       Mr.Ibrahembot|\n|       wiki|false|Ser Amantio di Ni...|\n|       wiki|false|Ser Amantio di Ni...|\n|       wiki| true|           WingerBot|\n|       wiki|false|            Jevansen|\n|       wiki|false|          Raeeskamal|\n|       wiki| true|               KrBot|\n|       wiki|false|             Dig.log|\n|       wiki| true|       Mr.Ibrahembot|\n|       wiki|false|       Freimut Bahlo|\n|       wiki|false|   Designer Ethan Hu|\n|       wiki| true|            NikkiBot|\n|       wiki| true|              Pi bot|\n|       wiki| true|              Pi bot|\n|       wiki|false|          柚子沒長草|\n|       wiki| true|              Pi bot|\n|       wiki|false|               Codas|\n|       wiki| true|              Pi bot|\n+-----------+-----+--------------------+\nonly showing top 20 rows\n\nNone\n+-----------+-----+--------------------+\n|event_topic|  bot|                user|\n+-----------+-----+--------------------+\n|       wiki| true|  InternetArchiveBot|\n|       wiki| true|            MatSuBot|\n|       wiki| true|       Mr.Ibrahembot|\n|       wiki|false|Ser Amantio di Ni...|\n|       wiki|false|Ser Amantio di Ni...|\n|       wiki| true|           WingerBot|\n|       wiki|false|            Jevansen|\n|       wiki|false|          Raeeskamal|\n|       wiki| true|               KrBot|\n|       wiki|false|             Dig.log|\n|       wiki| true|       Mr.Ibrahembot|\n|       wiki|false|       Freimut Bahlo|\n|       wiki|false|   Designer Ethan Hu|\n|       wiki| true|            NikkiBot|\n|       wiki| true|              Pi bot|\n|       wiki| true|              Pi bot|\n|       wiki|false|          柚子沒長草|\n|       wiki| true|              Pi bot|\n|       wiki|false|               Codas|\n|       wiki| true|              Pi bot|\n+-----------+-----+--------------------+\nonly showing top 20 rows\n\nNone\n+-----------+-----+--------------------+\n|event_topic|  bot|                user|\n+-----------+-----+--------------------+\n|       wiki| true|  InternetArchiveBot|\n|       wiki| true|            MatSuBot|\n|       wiki| true|       Mr.Ibrahembot|\n|       wiki|false|Ser Amantio di Ni...|\n|       wiki|false|Ser Amantio di Ni...|\n|       wiki| true|           WingerBot|\n|       wiki|false|            Jevansen|\n|       wiki|false|          Raeeskamal|\n|       wiki| true|               KrBot|\n|       wiki|false|             Dig.log|\n|       wiki| true|       Mr.Ibrahembot|\n|       wiki|false|       Freimut Bahlo|\n|       wiki|false|   Designer Ethan Hu|\n|       wiki| true|            NikkiBot|\n|       wiki| true|              Pi bot|\n|       wiki| true|              Pi bot|\n|       wiki|false|          柚子沒長草|\n|       wiki| true|              Pi bot|\n|       wiki|false|               Codas|\n|       wiki| true|              Pi bot|\n+-----------+-----+--------------------+\nonly showing top 20 rows\n\nNone\n+-----------+-----+--------------------+\n|event_topic|  bot|                user|\n+-----------+-----+--------------------+\n|       wiki| true|  InternetArchiveBot|\n|       wiki| true|            MatSuBot|\n|       wiki| true|       Mr.Ibrahembot|\n|       wiki|false|Ser Amantio di Ni...|\n|       wiki|false|Ser Amantio di Ni...|\n|       wiki| true|           WingerBot|\n|       wiki|false|            Jevansen|\n|       wiki|false|          Raeeskamal|\n|       wiki| true|               KrBot|\n|       wiki|false|             Dig.log|\n|       wiki| true|       Mr.Ibrahembot|\n|       wiki|false|       Freimut Bahlo|\n|       wiki|false|   Designer Ethan Hu|\n|       wiki| true|            NikkiBot|\n|       wiki| true|              Pi bot|\n|       wiki| true|              Pi bot|\n|       wiki|false|          柚子沒長草|\n|       wiki| true|              Pi bot|\n|       wiki|false|               Codas|\n|       wiki| true|              Pi bot|\n+-----------+-----+--------------------+\nonly showing top 20 rows\n\nNone\n+-----------+-----+--------------------+\n|event_topic|  bot|                user|\n+-----------+-----+--------------------+\n|       wiki| true|  InternetArchiveBot|\n|       wiki| true|            MatSuBot|\n|       wiki| true|       Mr.Ibrahembot|\n|       wiki|false|Ser Amantio di Ni...|\n|       wiki|false|Ser Amantio di Ni...|\n|       wiki| true|           WingerBot|\n|       wiki|false|            Jevansen|\n|       wiki|false|          Raeeskamal|\n|       wiki| true|               KrBot|\n|       wiki|false|             Dig.log|\n|       wiki| true|       Mr.Ibrahembot|\n|       wiki|false|       Freimut Bahlo|\n|       wiki|false|   Designer Ethan Hu|\n|       wiki| true|            NikkiBot|\n|       wiki| true|              Pi bot|\n|       wiki| true|              Pi bot|\n|       wiki|false|          柚子沒長草|\n|       wiki| true|              Pi bot|\n|       wiki|false|               Codas|\n|       wiki| true|              Pi bot|\n+-----------+-----+--------------------+\nonly showing top 20 rows\n\nNone\n+-----------+-----+--------------------+\n|event_topic|  bot|                user|\n+-----------+-----+--------------------+\n|       wiki| true|  InternetArchiveBot|\n|       wiki| true|            MatSuBot|\n|       wiki| true|       Mr.Ibrahembot|\n|       wiki|false|Ser Amantio di Ni...|\n|       wiki|false|Ser Amantio di Ni...|\n|       wiki| true|           WingerBot|\n|       wiki|false|            Jevansen|\n|       wiki|false|          Raeeskamal|\n|       wiki| true|               KrBot|\n|       wiki|false|             Dig.log|\n|       wiki| true|       Mr.Ibrahembot|\n|       wiki|false|       Freimut Bahlo|\n|       wiki|false|   Designer Ethan Hu|\n|       wiki| true|            NikkiBot|\n|       wiki| true|              Pi bot|\n|       wiki| true|              Pi bot|\n|       wiki|false|          柚子沒長草|\n|       wiki| true|              Pi bot|\n|       wiki|false|               Codas|\n|       wiki| true|              Pi bot|\n+-----------+-----+--------------------+\nonly showing top 20 rows\n\nNone\n+-----------+-----+--------------------+\n|event_topic|  bot|                user|\n+-----------+-----+--------------------+\n|       wiki| true|  InternetArchiveBot|\n|       wiki| true|            MatSuBot|\n|       wiki| true|       Mr.Ibrahembot|\n|       wiki|false|Ser Amantio di Ni...|\n|       wiki|false|Ser Amantio di Ni...|\n|       wiki| true|           WingerBot|\n|       wiki|false|            Jevansen|\n|       wiki|false|          Raeeskamal|\n|       wiki| true|               KrBot|\n|       wiki|false|             Dig.log|\n|       wiki| true|       Mr.Ibrahembot|\n|       wiki|false|       Freimut Bahlo|\n|       wiki|false|   Designer Ethan Hu|\n|       wiki| true|            NikkiBot|\n|       wiki| true|              Pi bot|\n|       wiki| true|              Pi bot|\n|       wiki|false|          柚子沒長草|\n|       wiki| true|              Pi bot|\n|       wiki|false|               Codas|\n|       wiki| true|              Pi bot|\n+-----------+-----+--------------------+\nonly showing top 20 rows\n\nNone\n+-----------+-----+--------------------+\n|event_topic|  bot|                user|\n+-----------+-----+--------------------+\n|       wiki| true|  InternetArchiveBot|\n|       wiki| true|            MatSuBot|\n|       wiki| true|       Mr.Ibrahembot|\n|       wiki|false|Ser Amantio di Ni...|\n|       wiki|false|Ser Amantio di Ni...|\n|       wiki| true|           WingerBot|\n|       wiki|false|            Jevansen|\n|       wiki|false|          Raeeskamal|\n|       wiki| true|               KrBot|\n|       wiki|false|             Dig.log|\n|       wiki| true|       Mr.Ibrahembot|\n|       wiki|false|       Freimut Bahlo|\n|       wiki|false|   Designer Ethan Hu|\n|       wiki| true|            NikkiBot|\n|       wiki| true|              Pi bot|\n|       wiki| true|              Pi bot|\n|       wiki|false|          柚子沒長草|\n|       wiki| true|              Pi bot|\n|       wiki|false|               Codas|\n|       wiki| true|              Pi bot|\n+-----------+-----+--------------------+\nonly showing top 20 rows\n\nNone\n+-----------+-----+--------------------+\n|event_topic|  bot|                user|\n+-----------+-----+--------------------+\n|       wiki| true|  InternetArchiveBot|\n|       wiki| true|            MatSuBot|\n|       wiki| true|       Mr.Ibrahembot|\n|       wiki|false|Ser Amantio di Ni...|\n|       wiki|false|Ser Amantio di Ni...|\n|       wiki| true|           WingerBot|\n|       wiki|false|            Jevansen|\n|       wiki|false|          Raeeskamal|\n|       wiki| true|               KrBot|\n|       wiki|false|             Dig.log|\n|       wiki| true|       Mr.Ibrahembot|\n|       wiki|false|       Freimut Bahlo|\n|       wiki|false|   Designer Ethan Hu|\n|       wiki| true|            NikkiBot|\n|       wiki| true|              Pi bot|\n|       wiki| true|              Pi bot|\n|       wiki|false|          柚子沒長草|\n|       wiki| true|              Pi bot|\n|       wiki|false|               Codas|\n|       wiki| true|              Pi bot|\n+-----------+-----+--------------------+\nonly showing top 20 rows\n\nNone\n+-----------+-----+--------------------+\n|event_topic|  bot|                user|\n+-----------+-----+--------------------+\n|       wiki| true|  InternetArchiveBot|\n|       wiki| true|            MatSuBot|\n|       wiki| true|       Mr.Ibrahembot|\n|       wiki|false|Ser Amantio di Ni...|\n|       wiki|false|Ser Amantio di Ni...|\n|       wiki| true|           WingerBot|\n|       wiki|false|            Jevansen|\n|       wiki|false|          Raeeskamal|\n|       wiki| true|               KrBot|\n|       wiki|false|             Dig.log|\n|       wiki| true|       Mr.Ibrahembot|\n|       wiki|false|       Freimut Bahlo|\n|       wiki|false|   Designer Ethan Hu|\n|       wiki| true|            NikkiBot|\n|       wiki| true|              Pi bot|\n|       wiki| true|              Pi bot|\n|       wiki|false|          柚子沒長草|\n|       wiki| true|              Pi bot|\n|       wiki|false|               Codas|\n|       wiki| true|              Pi bot|\n+-----------+-----+--------------------+\nonly showing top 20 rows\n\nNone\n"
            ]
          }
        }
      ],
      "execution_count": null
    },
    {
      "cell_type": "code",
      "source": [
        "print(spark.streams.active)"
      ],
      "metadata": {
        "id": "99j2kI1Jpy43",
        "application/vnd.databricks.v1+cell": {
          "title": "",
          "showTitle": false,
          "inputWidgets": {},
          "nuid": "223cdda8-3c3e-4378-94c7-e6c3cedcc325"
        },
        "colab": {
          "base_uri": "https://localhost:8080/"
        },
        "outputId": "1a439bf9-543f-4356-e192-cadcc856d605"
      },
      "outputs": [
        {
          "output_type": "stream",
          "name": "stdout",
          "text": [
            "[<pyspark.sql.streaming.StreamingQuery object at 0x7fdeef534510>]\n"
          ]
        }
      ],
      "execution_count": 23
    },
    {
      "cell_type": "code",
      "source": [
        "query.stop()"
      ],
      "metadata": {
        "id": "xKhmiqMPGOii",
        "application/vnd.databricks.v1+cell": {
          "title": "",
          "showTitle": false,
          "inputWidgets": {},
          "nuid": "c7a18a0c-6a7b-4e34-be3b-cde6d7f09b38"
        }
      },
      "outputs": [],
      "execution_count": 24
    }
  ],
  "metadata": {
    "kernelspec": {
      "display_name": "Python 3",
      "language": "python",
      "name": "python3"
    },
    "language_info": {
      "mimetype": "text/x-python",
      "name": "python",
      "pygments_lexer": "ipython3",
      "codemirror_mode": {
        "name": "ipython",
        "version": 3
      },
      "version": "3.6.10",
      "nbconvert_exporter": "python",
      "file_extension": ".py"
    },
    "colab": {
      "name": "BD06.2-Kafka-SparkStreaming-Consumer-DataBricks.ipynb",
      "provenance": [],
      "collapsed_sections": []
    },
    "application/vnd.databricks.v1+notebook": {
      "notebookName": "BD06.2-Kafka-SparkStreaming-Consumer-DataBricks",
      "dashboards": [],
      "notebookMetadata": {
        "pythonIndentUnit": 2
      },
      "language": "python",
      "widgets": {},
      "notebookOrigID": 3913239202957971
    }
  },
  "nbformat": 4,
  "nbformat_minor": 0
}