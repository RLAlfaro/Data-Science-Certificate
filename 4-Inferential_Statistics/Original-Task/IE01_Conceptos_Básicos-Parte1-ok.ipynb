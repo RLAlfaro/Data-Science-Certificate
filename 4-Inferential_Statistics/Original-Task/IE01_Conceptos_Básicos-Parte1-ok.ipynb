{
 "cells": [
  {
   "cell_type": "markdown",
   "metadata": {
    "id": "tZTRWdjEME2u"
   },
   "source": [
    "# Introducción a la inferencia estadística\n",
    "# IE01 Conceptos básicos - Parte 1"
   ]
  },
  {
   "cell_type": "markdown",
   "metadata": {
    "id": "0VUPHIyZMZMY"
   },
   "source": [
    "## <font color='blue'>**Conceptos básicos**</font>\n",
    "\n",
    "Un error frecuente sostiene que la era de Big data, significa el fin de la necesidad de muestreo. De hecho, la proliferación de datos de diferente calidad y relevancia, refuerza la necesidad del muestreo como herramienta para trabajar de manera eficiente con una variedad de datos y minimizar el sesgo (_bias_). Incluso en un proyecto de Big data, los modelos predictivos suelen desarrollarse con muestras. \n",
    "\n",
    "### Muestreo aleatorio y sesgo de muestra\n",
    "\n",
    "Una **muestra** (sample) es un subconjunto de datos de un conjunto de datos más grande; Los estadísticos llaman a este conjunto de datos más amplio la **población**. Una población en estadística no es lo mismo que en biología: es un conjunto de datos grande y definido (pero a veces teórico o imaginario).\n",
    "\n",
    "El muestreo aleatorio es un proceso en el que cada miembro disponible de la población que se muestrea tiene la misma probabilidad de ser elegido para la muestra en cada sorteo. La muestra resultante se denomina muestra aleatoria simple. El muestreo se puede hacer con reemplazo, en el que las observaciones se vuelven a colocar en la población después de cada sorteo para\n",
    "posible reselección futura. O se puede hacer sin reemplazo, en cuyo caso las observaciones, una vez seleccionadas, no están disponibles para futuros sorteos.\n",
    "\n",
    "La calidad de los datos a menudo es más importante que la cantidad de datos cuando se hace una estimación o un modelo basado en una muestra. La calidad de los datos en la ciencia de datos implica la integridad, la coherencia del formato, la limpieza y la precisión de los puntos de datos individuales. La estadística agrega la noción de representatividad."
   ]
  },
  {
   "cell_type": "markdown",
   "metadata": {
    "id": "HJLJCOhbO8S4"
   },
   "source": [
    "### Sesgo (Bias)\n",
    "\n",
    "El ejemplo clásico es la encuesta Literary Digest de 1936 que predijo una victoria de Alf Landon sobre Franklin Roosevelt. The Literary Digest, un periódico líder del día, encuestó a toda su base de suscriptores más listas adicionales de individuos, un total de más de 10 millones de personas, y predijo una victoria aplastante para Landon. George Gallup, fundador de la Encuesta Gallup, realizó encuestas quincenales de solo 2.000 personas y predijo con precisión una victoria de Roosevelt. La diferencia radica en la selección de los encuestados. El mal resultado fue debido al sesgo de la muestra.\n",
    "\n",
    "El sesgo estadístico se refiere a errores de medición o muestreo que son sistemáticos y producidos por el proceso de medición o muestreo. Debe hacerse una distinción importante entre *los errores debidos al azar y los errores debidos al sesgo*. Considere el proceso físico de un arma que dispara a un objetivo. La bala no impactará el centro absoluto al apuntar cada vez. Un proceso imparcial producirá un error, pero el mismo será aleatorio y no tenderá a preferenciar ninguna dirección. En la imagen siguiente tenemos a la izquierda un scatter plot sin sesgo y en el grafico de la derecha uno con sesgo.\n",
    "\n",
    "![tipos de variables](https://drive.google.com/uc?export=view&id=1IH_OCdVOJuu-YBftlpbpIFMXm4hG2crn)\n",
    "\n"
   ]
  },
  {
   "cell_type": "markdown",
   "metadata": {
    "id": "TZGuYuv6-J7h"
   },
   "source": [
    "### Muestreo Aleatorio\n",
    "\n",
    "1. **Muestreo aleatorio simple**: cada elemento tiene la misma probabilidad de ser seleccionado para ser parte de la muestra. Se utiliza cuando no tenemos ningún tipo de información previa sobre la población objetivo.\n",
    "\n",
    "  _Nota: Se espera que sean a lo menos 30 elementos_\n",
    "\n",
    "\n",
    "![MuestreoAleatorioSimple](https://drive.google.com/uc?export=view&id=1RbuQ5OFB9aBqI9Rku3ODneOd9wtuNS1M)\n",
    "\n",
    "2. En el **muestreo estratificado**, la población se divide en estratos y se toman muestras aleatorias de cada estrato. Los encuestadores políticos pueden buscar conocer las preferencias electorales de blancos, afro-americanos e hispanos. Una muestra aleatoria simple tomada de la población produciría muy pocos afro-americanos e hispanos, por lo que esos estratos podrían sobreponderarse en el muestreo estratificado para producir tamaños de muestra equivalentes. El problema es que la mayoria de las veces no se conoce la población y sus estratos. \n",
    "\n",
    "\n",
    "![MuestreoEstratificado](https://drive.google.com/uc?export=view&id=1B6JZso39ptFZgTw7hQ8MzH0rGNmZuoNs)\n",
    "\n",
    "3. **Muestreo por grupos**:Toda nuestra población se divide en grupos o secciones y luego los grupos se seleccionan al azar. Todos los elementos del conglomerado se utilizan para el muestreo. Los clústeres se identifican utilizando detalles como edad, sexo, ubicación, etc.\n",
    "\n",
    "\n",
    "![Muestreo  Por grupos](https://drive.google.com/uc?export=view&id=15VmkVo6OEDGNQXhNeWhjiee3D4m1YhF2)\n",
    "\n",
    "4. **Muestreo de varias etapas**: La población se divide en múltiples grupos y luego estos grupos se dividen y agrupan en varios subgrupos (estratos) según la similitud. Se pueden seleccionar al azar uno o más conglomerados de cada estrato. Este proceso continúa hasta que el clúster ya no se puede dividir. Por ejemplo, el país se puede dividir en estados, ciudades, urbano y rural y todas las áreas con características similares se pueden fusionar para formar un estrato.\n",
    "\n",
    "![Muestreo  Por grupos](https://drive.google.com/uc?export=view&id=1NYHlJFCMZDgX4aD7BymnShPCsJibE1VO)\n",
    "\n",
    "\n"
   ]
  },
  {
   "cell_type": "markdown",
   "metadata": {
    "id": "dAsRaWbWBjat"
   },
   "source": [
    "### Probabilidad\n",
    "\n",
    "La probabilidad consiste en interpretar y comprender los eventos aleatorios de la vida, y dado que vivimos en absoluta aleatoriedad (incluso si tratamos de creer que no lo hacemos), su utilidad se vuelve bastante clara. La probabilidad es la posibilidad a largo plazo de que se produzca un determinado resultado de algún proceso aleatorio. Básicamente, le dice con qué frecuencia ocurrirán diferentes tipos de eventos.\n",
    "\n",
    "Algunos ejemplos de la vida real del uso de probabilidades son:\n",
    "\n",
    "1. Finanzas: al estimar la probabilidad de que un activo financiero determinado se encuentre entre o dentro de un rango específico, es posible desarrollar estrategias comerciales para capturar ese resultado previsto.\n",
    "\n",
    "2. Pronóstico del tiempo: los meteorólogos no pueden predecir exactamente qué tiempo hará, por lo que utilizan herramientas e instrumentos para determinar la probabilidad de que llueva, nieve o granizo. También examinan bases de datos históricas para estimar temperaturas altas y bajas y patrones climáticos probables para ese día o semana.\n",
    "\n",
    "3. Seguro: la probabilidad juega un papel importante en el análisis de las pólizas de seguro para determinar qué planes son los mejores para los clientes y qué deducibles necesitan.\n",
    "\n",
    "4. Deportes: los atletas y entrenadores usan la probabilidad para determinar las mejores estrategias deportivas para juegos y competencias. Empresas como BWin han hecho un negocio con esto e incluso puedes apostar usando diferentes estrategias.\n",
    "\n",
    "5. Publicidad: la probabilidad se utiliza para estimar los clientes potenciales que tendrán más probabilidades de reaccionar positivamente a campañas específicas, en función de sus patrones de consumo."
   ]
  },
  {
   "cell_type": "markdown",
   "metadata": {
    "id": "qSWRfpYOES4w"
   },
   "source": [
    "Hablando numéricamente, una probabilidad es un número que va desde 0 (lo que significa que no hay forma de que suceda un evento) a 1 (lo que significa que el evento sucederá con seguridad), y si toma todos los resultados posibles y los suma , la suma  da 1. Cuanto mayor sea el valor de la probabilidad, mayor será la probabilidad de que ocurra el evento.\n",
    "\n",
    "Axiomas:\n",
    "\n",
    "1. La probabilidad de un evento ${\\displaystyle S}$ no puede ser negativa\n",
    "\n",
    "$$0 \\le P({\\displaystyle S})$$\n",
    "\n",
    "2. La probabilidad del evento seguro, ${\\displaystyle \\Omega }$ , es igual a 1, denotado simbólicamente como:\n",
    "\n",
    "$$1 = P({\\displaystyle \\Omega})$$\n",
    "\n",
    "3. Si ${\\displaystyle E_{1},E_{2},\\dots }$ son eventos mutuamente excluyentes (es decir, no tienen resultados en común o su intersección es el conjunto vacío), entonces:\n",
    "\n",
    "$$ P(\\displaystyle E_{1} \\cup \\displaystyle  E_{2}\\cup \\dots )=\\sum P(E_{i})$$\n",
    "\n",
    "Experimento: Se echa a rodar un dado de 6 lados. ¿Cuál es la probabilidad de que salga un número par o uno impar?\n",
    "\n",
    "Posibilidades: \n",
    "1. El número que salga puede ser un número impar.\n",
    "2. El número que salga puede ser un número par.\n",
    "\n",
    "Eventos: \n",
    "\n",
    "Estos eventos son mutuamente excluyentes no pueden ocurrir a la misma vez. \n",
    "\n",
    "\n"
   ]
  },
  {
   "cell_type": "markdown",
   "metadata": {
    "id": "uVdJ1YyWFwfN"
   },
   "source": [
    "### Variables aleatorias\n",
    "Digamos que la probabilidad de que llueva mañana es del 40% (expresada como \"P (lluvia) = 0,4\"), o la probabilidad de un robo de automóvil en una región en particular es del 2% (definida como \" P (robo de coche) = 0,02 ”). En el primer caso, le interesa la variable \"lluvia\", y en el segundo, la variable \"robo de coche\". Estas variables, así como cualquier otra que sea resultado de un proceso aleatorio, se denominan **variables aleatorias**.\n",
    "\n",
    "Una **variable aleatoria** es una variable que está sujeta a variaciones aleatorias para que pueda tomar varios valores diferentes, cada uno con una probabilidad asociada."
   ]
  },
  {
   "cell_type": "markdown",
   "metadata": {
    "id": "kJMlpiBNGP9B"
   },
   "source": [
    "### Distribuciones de probabilidad\n",
    "\n",
    "Una distribución de probabilidad es una lista de todos los posibles resultados de una variable aleatoria, junto con sus correspondientes valores de probabilidad. Una distribución de probabilidad vincula cada resultado de una variable o proceso aleatorio con su probabilidad de ocurrencia. Por ejemplo, si toma muestras de sangre de diferentes personas en un lugar determinado, puede calcular la distribución de probabilidad de sus tipos de sangre:\n",
    "\n",
    "![Muestreo  Por grupos](https://drive.google.com/uc?export=view&id=1cgrimjyOatpOUqgxnkfHzH1q2FrUktDt)\n",
    "\n",
    "En este caso, el tipo de sangre es la variable aleatoria. La distribución de probabilidad muestra que los individuos con el tipo de sangre \"A\" tienen la mayor probabilidad de ocurrencia, a diferencia de las personas con el tipo de sangre \"AB\", que tienen la más baja. Además, si sumas las diferentes probabilidades, obtienes 1. ¿Cómo lo haces? Simple: define la variable aleatoria que desea analizar (en este ejemplo es \"tipo de sangre\"), establece las categorías que desea contar (\"O\", \"A\", \"B\" y \"AB\"), y cuente el número de ocurrencias en cada categoría. Luego, o trabaja con ese número absoluto (por ejemplo, 150 casos de tipo de sangre \"A\"), o lo divide por el número total de casos (haciéndolo un porcentaje del total, como en nuestro ejemplo).\n",
    "\n",
    "Lo interesante es cuando **estima** la distribución de probabilidad de una variable aleatoria (como el tipo de sangre o cualquier otra), lo que realmente está haciendo es usar datos que representan solo una parte del comportamiento real de esa variable aleatoria que está analizando. No está mirando todos los valores de datos posibles (que en términos probabilísticos se define como \"población\"), ya que solo obtuvo datos de un subconjunto (que se conoce como \"muestra\") en un momento y espacio dados."
   ]
  },
  {
   "cell_type": "markdown",
   "metadata": {
    "id": "vlhUpctRLV5R"
   },
   "source": [
    "## <font color='green'>**Actividad 1**</font>\n",
    "\n",
    "Abra con _Pandas_ el archivo `loans_income.csv`. <br>\n",
    "Tome una muestra aleatoria de 10, 50, 100, 1000, 10000 puntos.<br> \n",
    "Compare las variables estadísticas como media, mediana, desviación estandar y rango intercuartil para las distintas muestras y la población.\n",
    "\n",
    "Qué conclusiones se pueden obtener?"
   ]
  },
  {
   "cell_type": "code",
   "execution_count": 2,
   "metadata": {
    "colab": {
     "base_uri": "https://localhost:8080/"
    },
    "executionInfo": {
     "elapsed": 27480,
     "status": "ok",
     "timestamp": 1643383245929,
     "user": {
      "displayName": "Nicolas Enrique Bastias Tejos",
      "photoUrl": "https://lh3.googleusercontent.com/a/default-user=s64",
      "userId": "05876033824720005772"
     },
     "user_tz": 180
    },
    "id": "ST1QMCh2NI-W",
    "outputId": "f6640733-dd42-416d-b335-8abda0376123"
   },
   "outputs": [
    {
     "name": "stdout",
     "output_type": "stream",
     "text": [
      "Mounted at /content/drive\n"
     ]
    }
   ],
   "source": [
    "from google.colab import drive\n",
    "drive.mount('/content/drive')"
   ]
  },
  {
   "cell_type": "code",
   "execution_count": 29,
   "metadata": {
    "colab": {
     "base_uri": "https://localhost:8080/",
     "height": 206
    },
    "executionInfo": {
     "elapsed": 6,
     "status": "ok",
     "timestamp": 1643384115635,
     "user": {
      "displayName": "Nicolas Enrique Bastias Tejos",
      "photoUrl": "https://lh3.googleusercontent.com/a/default-user=s64",
      "userId": "05876033824720005772"
     },
     "user_tz": 180
    },
    "id": "zMRx7Wak6BB0",
    "outputId": "6a0b126e-e9be-48b8-a435-5b2abe6c1376"
   },
   "outputs": [
    {
     "data": {
      "text/html": [
       "\n",
       "  <div id=\"df-c89246db-b998-461c-bf39-0b7876d4afa4\">\n",
       "    <div class=\"colab-df-container\">\n",
       "      <div>\n",
       "<style scoped>\n",
       "    .dataframe tbody tr th:only-of-type {\n",
       "        vertical-align: middle;\n",
       "    }\n",
       "\n",
       "    .dataframe tbody tr th {\n",
       "        vertical-align: top;\n",
       "    }\n",
       "\n",
       "    .dataframe thead th {\n",
       "        text-align: right;\n",
       "    }\n",
       "</style>\n",
       "<table border=\"1\" class=\"dataframe\">\n",
       "  <thead>\n",
       "    <tr style=\"text-align: right;\">\n",
       "      <th></th>\n",
       "      <th>x</th>\n",
       "    </tr>\n",
       "  </thead>\n",
       "  <tbody>\n",
       "    <tr>\n",
       "      <th>0</th>\n",
       "      <td>67000</td>\n",
       "    </tr>\n",
       "    <tr>\n",
       "      <th>1</th>\n",
       "      <td>52000</td>\n",
       "    </tr>\n",
       "    <tr>\n",
       "      <th>2</th>\n",
       "      <td>100000</td>\n",
       "    </tr>\n",
       "    <tr>\n",
       "      <th>3</th>\n",
       "      <td>78762</td>\n",
       "    </tr>\n",
       "    <tr>\n",
       "      <th>4</th>\n",
       "      <td>37041</td>\n",
       "    </tr>\n",
       "  </tbody>\n",
       "</table>\n",
       "</div>\n",
       "      <button class=\"colab-df-convert\" onclick=\"convertToInteractive('df-c89246db-b998-461c-bf39-0b7876d4afa4')\"\n",
       "              title=\"Convert this dataframe to an interactive table.\"\n",
       "              style=\"display:none;\">\n",
       "        \n",
       "  <svg xmlns=\"http://www.w3.org/2000/svg\" height=\"24px\"viewBox=\"0 0 24 24\"\n",
       "       width=\"24px\">\n",
       "    <path d=\"M0 0h24v24H0V0z\" fill=\"none\"/>\n",
       "    <path d=\"M18.56 5.44l.94 2.06.94-2.06 2.06-.94-2.06-.94-.94-2.06-.94 2.06-2.06.94zm-11 1L8.5 8.5l.94-2.06 2.06-.94-2.06-.94L8.5 2.5l-.94 2.06-2.06.94zm10 10l.94 2.06.94-2.06 2.06-.94-2.06-.94-.94-2.06-.94 2.06-2.06.94z\"/><path d=\"M17.41 7.96l-1.37-1.37c-.4-.4-.92-.59-1.43-.59-.52 0-1.04.2-1.43.59L10.3 9.45l-7.72 7.72c-.78.78-.78 2.05 0 2.83L4 21.41c.39.39.9.59 1.41.59.51 0 1.02-.2 1.41-.59l7.78-7.78 2.81-2.81c.8-.78.8-2.07 0-2.86zM5.41 20L4 18.59l7.72-7.72 1.47 1.35L5.41 20z\"/>\n",
       "  </svg>\n",
       "      </button>\n",
       "      \n",
       "  <style>\n",
       "    .colab-df-container {\n",
       "      display:flex;\n",
       "      flex-wrap:wrap;\n",
       "      gap: 12px;\n",
       "    }\n",
       "\n",
       "    .colab-df-convert {\n",
       "      background-color: #E8F0FE;\n",
       "      border: none;\n",
       "      border-radius: 50%;\n",
       "      cursor: pointer;\n",
       "      display: none;\n",
       "      fill: #1967D2;\n",
       "      height: 32px;\n",
       "      padding: 0 0 0 0;\n",
       "      width: 32px;\n",
       "    }\n",
       "\n",
       "    .colab-df-convert:hover {\n",
       "      background-color: #E2EBFA;\n",
       "      box-shadow: 0px 1px 2px rgba(60, 64, 67, 0.3), 0px 1px 3px 1px rgba(60, 64, 67, 0.15);\n",
       "      fill: #174EA6;\n",
       "    }\n",
       "\n",
       "    [theme=dark] .colab-df-convert {\n",
       "      background-color: #3B4455;\n",
       "      fill: #D2E3FC;\n",
       "    }\n",
       "\n",
       "    [theme=dark] .colab-df-convert:hover {\n",
       "      background-color: #434B5C;\n",
       "      box-shadow: 0px 1px 3px 1px rgba(0, 0, 0, 0.15);\n",
       "      filter: drop-shadow(0px 1px 2px rgba(0, 0, 0, 0.3));\n",
       "      fill: #FFFFFF;\n",
       "    }\n",
       "  </style>\n",
       "\n",
       "      <script>\n",
       "        const buttonEl =\n",
       "          document.querySelector('#df-c89246db-b998-461c-bf39-0b7876d4afa4 button.colab-df-convert');\n",
       "        buttonEl.style.display =\n",
       "          google.colab.kernel.accessAllowed ? 'block' : 'none';\n",
       "\n",
       "        async function convertToInteractive(key) {\n",
       "          const element = document.querySelector('#df-c89246db-b998-461c-bf39-0b7876d4afa4');\n",
       "          const dataTable =\n",
       "            await google.colab.kernel.invokeFunction('convertToInteractive',\n",
       "                                                     [key], {});\n",
       "          if (!dataTable) return;\n",
       "\n",
       "          const docLinkHtml = 'Like what you see? Visit the ' +\n",
       "            '<a target=\"_blank\" href=https://colab.research.google.com/notebooks/data_table.ipynb>data table notebook</a>'\n",
       "            + ' to learn more about interactive tables.';\n",
       "          element.innerHTML = '';\n",
       "          dataTable['output_type'] = 'display_data';\n",
       "          await google.colab.output.renderOutput(dataTable, element);\n",
       "          const docLink = document.createElement('div');\n",
       "          docLink.innerHTML = docLinkHtml;\n",
       "          element.appendChild(docLink);\n",
       "        }\n",
       "      </script>\n",
       "    </div>\n",
       "  </div>\n",
       "  "
      ],
      "text/plain": [
       "        x\n",
       "0   67000\n",
       "1   52000\n",
       "2  100000\n",
       "3   78762\n",
       "4   37041"
      ]
     },
     "execution_count": 29,
     "metadata": {},
     "output_type": "execute_result"
    }
   ],
   "source": [
    "# Tu código aquí ...\n",
    "import pandas as pd\n",
    "import numpy as np\n",
    "path = '/content/drive/MyDrive/03_Inferencia Estadistica/Archivos/'\n",
    "loans_pd = pd.read_csv(path+'loans_income.csv')\n",
    "loans_pd.head()"
   ]
  },
  {
   "cell_type": "code",
   "execution_count": 17,
   "metadata": {
    "colab": {
     "base_uri": "https://localhost:8080/"
    },
    "executionInfo": {
     "elapsed": 412,
     "status": "ok",
     "timestamp": 1643383787968,
     "user": {
      "displayName": "Nicolas Enrique Bastias Tejos",
      "photoUrl": "https://lh3.googleusercontent.com/a/default-user=s64",
      "userId": "05876033824720005772"
     },
     "user_tz": 180
    },
    "id": "X3rp5soFToqy",
    "outputId": "e274930c-adda-46cd-a2ab-a8f85fa1f828"
   },
   "outputs": [
    {
     "name": "stdout",
     "output_type": "stream",
     "text": [
      "La base de datos loans_pd tiene 50000 datos\n"
     ]
    }
   ],
   "source": [
    "print(f'La base de datos loans_pd tiene {len(loans_pd)} datos')"
   ]
  },
  {
   "cell_type": "code",
   "execution_count": 9,
   "metadata": {
    "executionInfo": {
     "elapsed": 3,
     "status": "ok",
     "timestamp": 1643383383307,
     "user": {
      "displayName": "Nicolas Enrique Bastias Tejos",
      "photoUrl": "https://lh3.googleusercontent.com/a/default-user=s64",
      "userId": "05876033824720005772"
     },
     "user_tz": 180
    },
    "id": "MPd_di2URHTS"
   },
   "outputs": [],
   "source": [
    "# Compare las variables estadísticas como media, mediana, desviación estandar y rango intercuartil para las distintas muestras y la población.\n",
    "# Generamos una función para esto\n",
    "def basic_statistics(pd):\n",
    "  mean = pd.describe(include='all').loc['mean'][0]\n",
    "  std = pd.describe(include='all').loc['std'][0]\n",
    "  median = pd.describe(include='all').loc['50%'][0]\n",
    "  q3 = pd.describe(include='all').loc['75%'][0]\n",
    "  q1 = pd.describe(include='all').loc['25%'][0]\n",
    "  IQR = q3 - q1\n",
    "  n_data = pd.describe(include='all').loc['count'][0]\n",
    "  return mean, std, median, IQR, n_data"
   ]
  },
  {
   "cell_type": "code",
   "execution_count": 54,
   "metadata": {
    "executionInfo": {
     "elapsed": 3,
     "status": "ok",
     "timestamp": 1643384673401,
     "user": {
      "displayName": "Nicolas Enrique Bastias Tejos",
      "photoUrl": "https://lh3.googleusercontent.com/a/default-user=s64",
      "userId": "05876033824720005772"
     },
     "user_tz": 180
    },
    "id": "2qDwrg5vk5xR"
   },
   "outputs": [],
   "source": [
    "#creamos las submuestras aleatorizadas\n",
    "loans_10_pd = loans_pd.sample(10)\n",
    "loans_50_pd = loans_pd.sample(50)\n",
    "loans_100_pd = loans_pd.sample(100)\n",
    "loans_1000_pd = loans_pd.sample(1000)\n",
    "loans_5000_pd = loans_pd.sample(5000)\n",
    "loans_10000_pd = loans_pd.sample(10000)\n",
    "loans_30000_pd = loans_pd.sample(30000)\n",
    "loans_50000_pd = loans_pd.sample(50000)"
   ]
  },
  {
   "cell_type": "code",
   "execution_count": 55,
   "metadata": {
    "colab": {
     "base_uri": "https://localhost:8080/"
    },
    "executionInfo": {
     "elapsed": 12,
     "status": "ok",
     "timestamp": 1643384675999,
     "user": {
      "displayName": "Nicolas Enrique Bastias Tejos",
      "photoUrl": "https://lh3.googleusercontent.com/a/default-user=s64",
      "userId": "05876033824720005772"
     },
     "user_tz": 180
    },
    "id": "AytN-G-LlIwv",
    "outputId": "3822b14f-aeb4-45a3-a223-87f0937eb2d6"
   },
   "outputs": [
    {
     "name": "stdout",
     "output_type": "stream",
     "text": [
      "10\n",
      "------------------------------------------------------------\n",
      "La muestra con  10 datos posee las siguientes estadisticas:\n",
      "\tMedia  \t:  86699.00 +-  36525.29\n",
      "\tMediana\t :  91000.00\n",
      "\tIQR\t :  52000.00\n",
      "------------------------------------------------------------\n",
      "50\n",
      "------------------------------------------------------------\n",
      "La muestra con  50 datos posee las siguientes estadisticas:\n",
      "\tMedia  \t:  60317.50 +-  25720.57\n",
      "\tMediana\t :  60000.00\n",
      "\tIQR\t :  34696.50\n",
      "------------------------------------------------------------\n",
      "100\n",
      "------------------------------------------------------------\n",
      "La muestra con  100 datos posee las siguientes estadisticas:\n",
      "\tMedia  \t:  61308.71 +-  32822.58\n",
      "\tMediana\t :  55000.00\n",
      "\tIQR\t :  28000.00\n",
      "------------------------------------------------------------\n",
      "1000\n",
      "------------------------------------------------------------\n",
      "La muestra con  1000 datos posee las siguientes estadisticas:\n",
      "\tMedia  \t:  67702.73 +-  31524.91\n",
      "\tMediana\t :  60790.00\n",
      "\tIQR\t :  40000.00\n",
      "------------------------------------------------------------\n",
      "5000\n",
      "------------------------------------------------------------\n",
      "La muestra con  5000 datos posee las siguientes estadisticas:\n",
      "\tMedia  \t:  68580.70 +-  32937.64\n",
      "\tMediana\t :  60000.00\n",
      "\tIQR\t :  40000.00\n",
      "------------------------------------------------------------\n",
      "10000\n",
      "------------------------------------------------------------\n",
      "La muestra con  10000 datos posee las siguientes estadisticas:\n",
      "\tMedia  \t:  69105.03 +-  32865.57\n",
      "\tMediana\t :  62000.00\n",
      "\tIQR\t :  41000.00\n",
      "------------------------------------------------------------\n",
      "30000\n",
      "------------------------------------------------------------\n",
      "La muestra con  30000 datos posee las siguientes estadisticas:\n",
      "\tMedia  \t:  68754.84 +-  32739.06\n",
      "\tMediana\t :  62000.00\n",
      "\tIQR\t :  40000.00\n",
      "------------------------------------------------------------\n",
      "50000\n",
      "------------------------------------------------------------\n",
      "La muestra con  50000 datos posee las siguientes estadisticas:\n",
      "\tMedia  \t:  68760.52 +-  32872.04\n",
      "\tMediana\t :  62000.00\n",
      "\tIQR\t :  40000.00\n",
      "------------------------------------------------------------\n"
     ]
    }
   ],
   "source": [
    "sample_size = [10, 50, 100, 1000, 5000, 10000, 30000, 50000]\n",
    "mean_vec    = np.nan*np.ones(len(sample_size))\n",
    "median_vec  = np.nan*np.ones(len(sample_size))\n",
    "std_vec     = np.nan*np.ones(len(sample_size))\n",
    "IQR_vec     = np.nan*np.ones(len(sample_size))\n",
    "\n",
    "count_vec = 0\n",
    "\n",
    "for sample in sample_size:\n",
    "  mean, std, median, IQR, n_dat = basic_statistics(eval('loans_'+str(sample)+'_pd'))\n",
    "  print(sample)\n",
    "  print(10*'------')\n",
    "  print(f'La muestra con {n_dat: .0f} datos posee las siguientes estadisticas:')\n",
    "  print(f'\\tMedia  \\t: {mean: .2f} +- {std: .2f}')\n",
    "  print(f'\\tMediana\\t : {median: .2f}')\n",
    "  print(f'\\tIQR\\t : {IQR: .2f}')\n",
    "  #guardar resultados\n",
    "  mean_vec[count_vec] = mean\n",
    "  median_vec[count_vec] = median\n",
    "  std_vec[count_vec] = std\n",
    "  IQR_vec[count_vec] = IQR\n",
    "  count_vec += 1\n",
    "  print(10*'------')\n",
    "\n",
    "    "
   ]
  },
  {
   "cell_type": "code",
   "execution_count": 71,
   "metadata": {
    "colab": {
     "base_uri": "https://localhost:8080/",
     "height": 392
    },
    "executionInfo": {
     "elapsed": 1810,
     "status": "ok",
     "timestamp": 1643385065836,
     "user": {
      "displayName": "Nicolas Enrique Bastias Tejos",
      "photoUrl": "https://lh3.googleusercontent.com/a/default-user=s64",
      "userId": "05876033824720005772"
     },
     "user_tz": 180
    },
    "id": "A57PYTKdozpr",
    "outputId": "e39beff9-168d-4d76-c90e-b7ee10c62cc2"
   },
   "outputs": [
    {
     "data": {
      "image/png": "[encoded data removed]",
      "text/plain": [
       "<Figure size 864x432 with 2 Axes>"
      ]
     },
     "metadata": {
      "needs_background": "light"
     },
     "output_type": "display_data"
    }
   ],
   "source": [
    "import matplotlib.pyplot as plt\n",
    "\n",
    "fig, ax = plt.subplots(1,2, figsize = (12,6))\n",
    "\n",
    "ax[0].plot(sample_size, mean_vec, 'o-', label='Mean')\n",
    "ax[0].plot(sample_size, median_vec, 's-', label='Median')\n",
    "\n",
    "ax[0].set_xscale('log')\n",
    "ax[0].set_xlabel('Tamaño de muestra')\n",
    "ax[0].set_ylabel('Valor Estadistico')\n",
    "ax[0].legend()\n",
    "\n",
    "#\n",
    "\n",
    "ax[1].plot(sample_size, std_vec, 'o-', label='std')\n",
    "ax[1].plot(sample_size, IQR_vec, 's-', label='IQR')\n",
    "\n",
    "ax[1].set_xscale('log')\n",
    "ax[1].set_xlabel('Tamaño de muestra')\n",
    "ax[1].set_ylabel('Valor Estadistico')\n",
    "ax[1].legend()\n",
    "\n",
    "\n",
    "plt.show()"
   ]
  },
  {
   "cell_type": "markdown",
   "metadata": {
    "id": "tK0_kETmYjwB"
   },
   "source": [
    "**_Conclusión_**: Posterior a una muestra de tamaño aproximadamente 1000, los estadisticos de tendencia central se estabilizan en torno a valores cercanos al database poblacional (loans_pd con 50,000 datos). Después de 10,000 datos son practicamente los mismos valores que el database completo. Se cumple la logica que mientras más grande la muestra, más cercano el comportamiento de la muestra que al de la población."
   ]
  },
  {
   "cell_type": "markdown",
   "metadata": {
    "id": "d9ZP_hfTLXA-"
   },
   "source": [
    "<font color='green'>Fin actividad 1</font>"
   ]
  }
 ],
 "metadata": {
  "colab": {
   "collapsed_sections": [],
   "name": "IE01_Conceptos_Básicos-Parte1-ok.ipynb",
   "provenance": []
  },
  "kernelspec": {
   "display_name": "Python 3 (ipykernel)",
   "language": "python",
   "name": "python3"
  },
  "language_info": {
   "codemirror_mode": {
    "name": "ipython",
    "version": 3
   },
   "file_extension": ".py",
   "mimetype": "text/x-python",
   "name": "python",
   "nbconvert_exporter": "python",
   "pygments_lexer": "ipython3",
   "version": "3.10.5"
  }
 },
 "nbformat": 4,
 "nbformat_minor": 1
}
