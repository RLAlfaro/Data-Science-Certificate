{
  "nbformat": 4,
  "nbformat_minor": 0,
  "metadata": {
    "colab": {
      "name": "IC para varianza.ipynb",
      "provenance": []
    },
    "kernelspec": {
      "name": "python3",
      "display_name": "Python 3"
    },
    "language_info": {
      "name": "python"
    }
  },
  "cells": [
    {
      "cell_type": "code",
      "execution_count": 1,
      "metadata": {
        "id": "R18aTLJvvcpa"
      },
      "outputs": [],
      "source": [
        "import numpy as np # importando numpy\n",
        "from scipy import stats # importando scipy.stats\n",
        "import matplotlib.pyplot as plt #importando matplotlib"
      ]
    },
    {
      "cell_type": "markdown",
      "source": [
        "**IC para varianza**\n",
        "\n",
        "Para estimar un intervalo de confianza para la varianza, nos ayudaremos de la distribución ${ \\mbox{$\\chi$ } }^2$:\n",
        "\n",
        "![Estadísticos de prueba](https://drive.google.com/uc?export=view&id=1-HpE_VSuuKjSyORfdmm6AFJa55vc29Yt)\n",
        "\n",
        "Aquí el estadístico que nos resulta útil es:\n",
        "\n",
        "![Estadísticos de prueba](https://drive.google.com/uc?export=view&id=1hdlUIXEBk6Nv0dJYCJNuXifaFPpNlShP)\n",
        "\n",
        "![Estadísticos de prueba](https://drive.google.com/uc?export=view&id=1cA2_LbIZLwwyj4pyvATpSXvoeLCMFwQK)"
      ],
      "metadata": {
        "id": "bZbfnLox4Ccb"
      }
    },
    {
      "cell_type": "markdown",
      "source": [
        "**Ejemplo**\n",
        "\n",
        "En un ejemplo anterior se estudiaba la altura de los individuos de una ciudad, obteniéndose en una muestra de tamaño 25 los siguientes valores:\n",
        "\n",
        "\n",
        "\\begin{eqnarray*}\\overline{x}&=& 170 \\mbox{ cm}\n",
        "\\\\\n",
        "{\\cal S}&=& 10 \\mbox{ cm}\n",
        "\\end{eqnarray*}\n",
        "\n",
        "Calcular un intervalo de confianza con $\\alpha=0,05$ para la varianza $\\sigma ^2$ de la altura de los individuos de la ciudad."
      ],
      "metadata": {
        "id": "XWH1qjAlvyaE"
      }
    },
    {
      "cell_type": "markdown",
      "source": [
        "**Solución**:\n",
        "\n",
        "Para estimar un intervalo de confianza para $\\sigma ^2$ (varianza poblacional) el estadístico que nos resulta útil es:\n",
        "\n",
        "![Estadísticos de prueba](https://drive.google.com/uc?export=view&id=1hdlUIXEBk6Nv0dJYCJNuXifaFPpNlShP)\n",
        "\n",
        "\n",
        "\n",
        "Entonces el intervalo de confianza que buscamos lo obtenemos mediante los percentiles alpha/2  (cola izquierda) y 1-alpha/2 (cola derecha), para la Distribución $\\chi _{24}^2$"
      ],
      "metadata": {
        "id": "ULlfGGNU1WlP"
      }
    },
    {
      "cell_type": "code",
      "source": [
        "n = 25\n",
        "xbar = 170\n",
        "sigma = 10 # Desv. std muestra no insesgada\n",
        "s = sigma * (np.sqrt(n) / np.sqrt(n-1)) #Desv. std muestral \"insesgada\"\n",
        "s2 = np.power(s, 2) #varianza muestral insesgada\n",
        "\n",
        "\n",
        "# IC con NC 95%\n",
        "NC = 0.95\n",
        "alpha = 1 - NC\n",
        "alpha_medio = alpha / 2\n",
        "\n",
        "# Calcular Chi2 con la función de distribucion X2 acumulada inversa (ppf) para ambas colas\n",
        "#esto dado que Chi2 no es simétrica, como la normal\n",
        "Chi_izq = stats.chi2.ppf(alpha_medio, n-1) # cola izquierda con n-1 grados de libertad\n",
        "Chi_der = stats.chi2.ppf(1-alpha_medio, n-1) # cola izquierda con n-1 grados de libertad\n",
        "\n",
        "LI = (n-1)*s2 / Chi_der\n",
        "LS = (n-1)*s2 / Chi_izq\n",
        "\n",
        "print(f'Intervalo de Confianza (IC) al {NC} para varianza poblacional: {LI:4.2f}, {LS:4.2f}')\n",
        "\n",
        "#calcular desv. std poblacional\n",
        "print(f'Intervalo de Confianza (IC) al {NC} para desv. estándar poblacional: {np.sqrt(LI):4.2f}, {np.sqrt(LS):4.2f}')"
      ],
      "metadata": {
        "colab": {
          "base_uri": "https://localhost:8080/"
        },
        "id": "4o90eWaywGWB",
        "outputId": "985e0ef6-b801-44ec-fd50-14ca2ebc1fc7"
      },
      "execution_count": 42,
      "outputs": [
        {
          "output_type": "stream",
          "name": "stdout",
          "text": [
            "Intervalo de Confianza (IC) al 0.95 para varianza poblacional: 63.51, 201.59\n",
            "Intervalo de Confianza (IC) al 0.95 para desv. estándar poblacional: 7.97, 14.20\n"
          ]
        }
      ]
    }
  ]
}