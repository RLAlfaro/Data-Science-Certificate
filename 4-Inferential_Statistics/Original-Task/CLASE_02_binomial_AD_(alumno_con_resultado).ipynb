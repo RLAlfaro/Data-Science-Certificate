{
  "nbformat": 4,
  "nbformat_minor": 0,
  "metadata": {
    "colab": {
      "name": "CLASE_02_binomial_AD_(alumno con resultado).ipynb",
      "provenance": []
    },
    "kernelspec": {
      "name": "python3",
      "display_name": "Python 3"
    }
  },
  "cells": [
    {
      "cell_type": "code",
      "metadata": {
        "id": "O_hDgTBArGbr"
      },
      "source": [
        "#Importamos librerias de la siguiente forma: \n",
        "import numpy as np # importando numpy\n",
        "from scipy import stats # importando scipy.stats\n",
        "import matplotlib.pyplot as plt #importando matplotlib\n",
        "import pandas as pd #pandas"
      ],
      "execution_count": 1,
      "outputs": []
    },
    {
      "cell_type": "markdown",
      "metadata": {
        "id": "QWWJ_9VSrxjl"
      },
      "source": [
        "##Ejercicio 1\n",
        "El jefe de recursos humanos de una empresa realiza un test de diez ítems a los aspirantes a un puesto, teniendo en cada ítems cuatro posibles respuestas, de las que solo una es correcta. Suponiendo que los aspirantes tienen la misma probabilidad de responder. \n",
        "Se pide hallar las probabilidades para el aspirante, que conteste:\n",
        "\n",
        "* a)  Todos los ítems mal \n",
        "* b)  Al menos cuatro ítems correctos \n",
        "* c)  Entre cuatro y seis ítems correctos \n",
        "* d)  Todos los ítems correctos \n",
        "* e)  Menos de tres ítems correctos\n"
      ]
    },
    {
      "cell_type": "code",
      "metadata": {
        "id": "T0SMJChLrbwn"
      },
      "source": [
        "# Definir parametros 𝑋~𝐵(n, p) \n",
        "\n",
        "n = 10\n",
        "p = 1/4\n",
        "\n",
        "#Crear distribucion\n",
        "binomial = stats.binom(n, p) # Distribución binomial con Scipy\n",
        "x = np.arange(binomial.ppf(0.01), #creamos conjunto de valores para x con el inverso de cdf (cumulative dist. function)\n",
        "              binomial.ppf(0.99))\n",
        "print(x)\n",
        "fmp = binomial.pmf(x) #pmf: Función de Masa de Probabilidad\n",
        "\n",
        "#graficamos distribucion\n",
        "plt.plot(x, fmp, '--')\n",
        "plt.vlines(x, 0, fmp, colors='b', lw=10, alpha=0.5)\n",
        "plt.title('Distribución Binomial')\n",
        "plt.ylabel('probabilidad')\n",
        "plt.xlabel('valores')\n",
        "plt.show()"
      ],
      "execution_count": null,
      "outputs": []
    },
    {
      "cell_type": "code",
      "metadata": {
        "id": "3T1MEqIfs7Pz"
      },
      "source": [
        "#ahora calcular las probabilidades para el aspirante\n",
        "\n",
        "#a) Todos los ítems mal \n",
        "cero = stats.binom(n, p).pmf(0) #usar pmf: Función de Masa de Probabilidad\n",
        "print ('prob 0 correcta: ', cero)\n"
      ],
      "execution_count": null,
      "outputs": []
    },
    {
      "cell_type": "code",
      "metadata": {
        "id": "RAtamsAo-Qhg"
      },
      "source": [
        "#a) Todos los ítems mal \n",
        "cero = stats.binom(n, p).pmf(0) #usar pmf: Función de Masa de Probabilidad\n",
        "print ('prob 0 correcta: ', cero)\n",
        "\n",
        "#b) Al menos cuatro ítems correctos \n",
        "prob_4_o_mas = 1 - stats.binom(n, p).cdf(3) #usar cdf: Funcion de dist. acumulada\n",
        "print('prob 4 o mas: ', prob_4_o_mas)\n",
        "\n",
        "#c) Entre cuatro y seis ítems correctos \n",
        "prob_4_a_6 = stats.binom(n, p).pmf(4) + stats.binom(n, p).pmf(5) + stats.binom(n, p).pmf(6)\n",
        "print('prob entre 4 y 6: ', prob_4_a_6)\n",
        "\n",
        "#otra forma con sustracción de prob\n",
        "prob_4_a_6b =  stats.binom(n, p).cdf(6)-stats.binom(n, p).cdf(3)\n",
        "print('prob entre 4 y 6*: ', prob_4_a_6b)\n",
        "\n"
      ],
      "execution_count": null,
      "outputs": []
    },
    {
      "cell_type": "code",
      "metadata": {
        "id": "-Ejfkt1YCdsa"
      },
      "source": [
        "#d) Todos los ítems correctos \n",
        "prob_10 = stats.binom(n, p).pmf(10)#usar pmf: Función de Masa de Probabilidad\n",
        "print('prob todos: ', prob_10)\n",
        "\n",
        "#e) Menos de tres ítems correctos\n",
        "prob_2_o_menos = stats.binom(n, p).cdf(2) #usar cdf: Funcion de dist. acumulada\n",
        "print('prob 2 o menos: ', prob_2_o_menos)"
      ],
      "execution_count": null,
      "outputs": []
    },
    {
      "cell_type": "markdown",
      "metadata": {
        "id": "rqO7ayUf-2c2"
      },
      "source": [
        "##Ejercicio 2 \n",
        "En cada una de las diferentes competencias, Antonia tiene un 60% de posibilidades de ganar. Suponiendo que las competiciones sean independientes entre sí, \n",
        "\n",
        "* a) ¿cuál es la probabilidad de que Antonia gane 1 carrera de 4?\n",
        "\n",
        "* b) ¿cuál es la probabilidad de que Antonia gane al menos 1 carrera de 4?\n",
        "\n",
        "* c) ¿cuál es la probabilidad de que Antonia gane al menos 1 carrera de 10?"
      ]
    },
    {
      "cell_type": "code",
      "metadata": {
        "id": "fyLmDV2t_jWV",
        "colab": {
          "base_uri": "https://localhost:8080/",
          "height": 312
        },
        "outputId": "6a7a8e50-6d0e-446f-a97e-7e5d5dab113f"
      },
      "source": [
        "# Definir parametros 𝑋~𝐵(n, p) \n",
        "\n",
        "n = 10\n",
        "p = 0.6\n",
        "\n",
        "#Crear distribucion\n",
        "binomial = stats.binom(n, p) # Distribución binomial con Scipy\n",
        "x = np.arange(binomial.ppf(0.0001), #creamos conjunto de valores para x con el inverso de cdf (cumulative dist. function)\n",
        "              binomial.ppf(0.9999))\n",
        "print(x)\n",
        "fmp = binomial.pmf(x) #pmf: Función de Masa de Probabilidad\n",
        "\n",
        "#graficamos distribucion\n",
        "plt.plot(x, fmp, '--')\n",
        "plt.vlines(x, 0, fmp, colors='b', lw=10, alpha=0.5)\n",
        "plt.title('Distribución Binomial')\n",
        "plt.ylabel('probabilidad')\n",
        "plt.xlabel('valores')\n",
        "plt.show()"
      ],
      "execution_count": 7,
      "outputs": [
        {
          "output_type": "stream",
          "name": "stdout",
          "text": [
            "[0. 1. 2. 3. 4. 5. 6. 7. 8. 9.]\n"
          ]
        },
        {
          "output_type": "display_data",
          "data": {
            "image/png": "[encoded data removed]",
            "text/plain": [
              "<Figure size 432x288 with 1 Axes>"
            ]
          },
          "metadata": {
            "needs_background": "light"
          }
        }
      ]
    },
    {
      "cell_type": "code",
      "metadata": {
        "id": "pIiycvp3AO2B",
        "colab": {
          "base_uri": "https://localhost:8080/"
        },
        "outputId": "d183158c-26bf-4b37-eba3-af0d03df3ebb"
      },
      "source": [
        "#ahora calcular las probabilidades para Antonia\n",
        "\n",
        "#a) ¿cuál es la probabilidad de que Antonia gane 1 carrera de 4?\n",
        "una = stats.binom(n, p).pmf(10) #usar pmf: Función de Masa de Probabilidad\n",
        "print ('prob gane 1 carrera de 4: ', una)"
      ],
      "execution_count": 8,
      "outputs": [
        {
          "output_type": "stream",
          "name": "stdout",
          "text": [
            "prob gane 1 carrera de 4:  0.0060466176\n"
          ]
        }
      ]
    },
    {
      "cell_type": "code",
      "metadata": {
        "id": "gaC4VbybBlbk",
        "colab": {
          "base_uri": "https://localhost:8080/"
        },
        "outputId": "07e58521-d0c2-4159-f7b7-f2da421cd3ad"
      },
      "source": [
        "#b) ¿cuál es la probabilidad de que Antonia gane al menos 1 carrera de 4?\n",
        "una_o_mas = 1 - stats.binom(n, p).pmf(0)  #usar pmf: Función de Masa de Probabilidad\n",
        "print ('prob gane al menos 1 de 4: ', una_o_mas)\n"
      ],
      "execution_count": 4,
      "outputs": [
        {
          "output_type": "stream",
          "name": "stdout",
          "text": [
            "prob gane al menos 1 de 4:  0.9744\n"
          ]
        }
      ]
    },
    {
      "cell_type": "code",
      "metadata": {
        "id": "I1vC0YxeBnLF",
        "colab": {
          "base_uri": "https://localhost:8080/"
        },
        "outputId": "8b07567a-2f6c-47cb-ae6b-347e8348ff4b"
      },
      "source": [
        "\n",
        "#c) ¿cuál es la probabilidad de que Antonia gane al menos 1 carrera de 10?\n",
        "\n",
        "n=10\n",
        "una_o_mas_de_10 = 1 - stats.binom(n, p).pmf(0)  #usar pmf: Función de Masa de Probabilidad\n",
        "print ('prob gane al menos 1 de 10: ', una_o_mas_de_10)\n"
      ],
      "execution_count": 5,
      "outputs": [
        {
          "output_type": "stream",
          "name": "stdout",
          "text": [
            "prob gane al menos 1 de 10:  0.9998951424\n"
          ]
        }
      ]
    }
  ]
}